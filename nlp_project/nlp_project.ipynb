{
 "cells": [
  {
   "cell_type": "markdown",
   "metadata": {
    "toc": true
   },
   "source": [
    "<h1>Содержание<span class=\"tocSkip\"></span></h1>\n",
    "<div class=\"toc\"><ul class=\"toc-item\"><li><span><a href=\"#Подготовка\" data-toc-modified-id=\"Подготовка-1\"><span class=\"toc-item-num\">1&nbsp;&nbsp;</span>Подготовка</a></span><ul class=\"toc-item\"><li><span><a href=\"#Загрузка-необходимых-библиотек\" data-toc-modified-id=\"Загрузка-необходимых-библиотек-1.1\"><span class=\"toc-item-num\">1.1&nbsp;&nbsp;</span>Загрузка необходимых библиотек</a></span></li><li><span><a href=\"#Загрузка-данных\" data-toc-modified-id=\"Загрузка-данных-1.2\"><span class=\"toc-item-num\">1.2&nbsp;&nbsp;</span>Загрузка данных</a></span></li><li><span><a href=\"#Разбивка-данных-на-обучающую-и-тестовую-выборки\" data-toc-modified-id=\"Разбивка-данных-на-обучающую-и-тестовую-выборки-1.3\"><span class=\"toc-item-num\">1.3&nbsp;&nbsp;</span>Разбивка данных на обучающую и тестовую выборки</a></span></li><li><span><a href=\"#Проверка-данных-на-пропуски-и-аномальные-значения\" data-toc-modified-id=\"Проверка-данных-на-пропуски-и-аномальные-значения-1.4\"><span class=\"toc-item-num\">1.4&nbsp;&nbsp;</span>Проверка данных на пропуски и аномальные значения</a></span></li><li><span><a href=\"#Проверка-целевого-признака-toxic-(баланс-классов)\" data-toc-modified-id=\"Проверка-целевого-признака-toxic-(баланс-классов)-1.5\"><span class=\"toc-item-num\">1.5&nbsp;&nbsp;</span>Проверка целевого признака <code>toxic</code> (баланс классов)</a></span></li><li><span><a href=\"#Проверка-на-наличие-дубликатов\" data-toc-modified-id=\"Проверка-на-наличие-дубликатов-1.6\"><span class=\"toc-item-num\">1.6&nbsp;&nbsp;</span>Проверка на наличие дубликатов</a></span></li></ul></li><li><span><a href=\"#Обучение\" data-toc-modified-id=\"Обучение-2\"><span class=\"toc-item-num\">2&nbsp;&nbsp;</span>Обучение</a></span><ul class=\"toc-item\"><li><span><a href=\"#Токенизация,-лемматизация\" data-toc-modified-id=\"Токенизация,-лемматизация-2.1\"><span class=\"toc-item-num\">2.1&nbsp;&nbsp;</span>Токенизация, лемматизация</a></span></li><li><span><a href=\"#Облако-слов\" data-toc-modified-id=\"Облако-слов-2.2\"><span class=\"toc-item-num\">2.2&nbsp;&nbsp;</span>Облако слов</a></span></li><li><span><a href=\"#Векторизация-с-TfidfVectorizer\" data-toc-modified-id=\"Векторизация-с-TfidfVectorizer-2.3\"><span class=\"toc-item-num\">2.3&nbsp;&nbsp;</span>Векторизация с TfidfVectorizer</a></span></li><li><span><a href=\"#LogisticRegression\" data-toc-modified-id=\"LogisticRegression-2.4\"><span class=\"toc-item-num\">2.4&nbsp;&nbsp;</span>LogisticRegression</a></span></li><li><span><a href=\"#SGDClassifier\" data-toc-modified-id=\"SGDClassifier-2.5\"><span class=\"toc-item-num\">2.5&nbsp;&nbsp;</span>SGDClassifier</a></span></li><li><span><a href=\"#LGBMClassifier\" data-toc-modified-id=\"LGBMClassifier-2.6\"><span class=\"toc-item-num\">2.6&nbsp;&nbsp;</span>LGBMClassifier</a></span></li><li><span><a href=\"#Выбор-лучшей-модели\" data-toc-modified-id=\"Выбор-лучшей-модели-2.7\"><span class=\"toc-item-num\">2.7&nbsp;&nbsp;</span>Выбор лучшей модели</a></span></li><li><span><a href=\"#Проверка-лучшей-модели-на-тестовой-выборке\" data-toc-modified-id=\"Проверка-лучшей-модели-на-тестовой-выборке-2.8\"><span class=\"toc-item-num\">2.8&nbsp;&nbsp;</span>Проверка лучшей модели на тестовой выборке</a></span></li><li><span><a href=\"#Важные-для-модели-признаки\" data-toc-modified-id=\"Важные-для-модели-признаки-2.9\"><span class=\"toc-item-num\">2.9&nbsp;&nbsp;</span>Важные для модели признаки</a></span></li></ul></li><li><span><a href=\"#Выводы\" data-toc-modified-id=\"Выводы-3\"><span class=\"toc-item-num\">3&nbsp;&nbsp;</span>Выводы</a></span></li><li><span><a href=\"#Рекомендации:\" data-toc-modified-id=\"Рекомендации:-4\"><span class=\"toc-item-num\">4&nbsp;&nbsp;</span>Рекомендации:</a></span></li><li><span><a href=\"#Чек-лист-проверки\" data-toc-modified-id=\"Чек-лист-проверки-5\"><span class=\"toc-item-num\">5&nbsp;&nbsp;</span>Чек-лист проверки</a></span></li></ul></div>"
   ]
  },
  {
   "cell_type": "markdown",
   "metadata": {},
   "source": [
    "# Проект для «Викишоп»"
   ]
  },
  {
   "cell_type": "markdown",
   "metadata": {},
   "source": [
    "Интернет-магазин «Викишоп» запускает новый сервис. Теперь пользователи могут редактировать и дополнять описания товаров, как в вики-сообществах. То есть клиенты предлагают свои правки и комментируют изменения других. Магазину нужен инструмент, который будет искать токсичные комментарии и отправлять их на модерацию. \n",
    "\n",
    "Обучите модель классифицировать комментарии на позитивные и негативные. В вашем распоряжении набор данных с разметкой о токсичности правок.\n",
    "\n",
    "Постройте модель со значением метрики качества *F1* не меньше 0.75. \n",
    "\n",
    "**Инструкция по выполнению проекта**\n",
    "\n",
    "1. Загрузите и подготовьте данные.\n",
    "2. Обучите разные модели. \n",
    "3. Сделайте выводы.\n",
    "\n",
    "Для выполнения проекта применять *BERT* необязательно, но вы можете попробовать.\n",
    "\n",
    "**Описание данных**\n",
    "\n",
    "Данные находятся в файле `toxic_comments.csv`. Столбец *text* в нём содержит текст комментария, а *toxic* — целевой признак."
   ]
  },
  {
   "cell_type": "markdown",
   "metadata": {},
   "source": [
    "## Подготовка\n",
    "\n",
    "### Загрузка необходимых библиотек"
   ]
  },
  {
   "cell_type": "code",
   "execution_count": 1,
   "metadata": {
    "collapsed": true
   },
   "outputs": [
    {
     "name": "stdout",
     "output_type": "stream",
     "text": [
      "Requirement already satisfied: pip in /opt/conda/lib/python3.9/site-packages (21.1.3)\n",
      "Collecting pip\n",
      "  Downloading pip-23.2.1-py3-none-any.whl (2.1 MB)\n",
      "\u001b[K     |████████████████████████████████| 2.1 MB 1.0 MB/s eta 0:00:01     |████████████████▉               | 1.1 MB 1.0 MB/s eta 0:00:01\n",
      "\u001b[?25hInstalling collected packages: pip\n",
      "  Attempting uninstall: pip\n",
      "    Found existing installation: pip 21.1.3\n",
      "    Uninstalling pip-21.1.3:\n",
      "      Successfully uninstalled pip-21.1.3\n",
      "Successfully installed pip-23.2.1\n",
      "Requirement already satisfied: Pillow in /opt/conda/lib/python3.9/site-packages (8.4.0)\n",
      "Collecting Pillow\n",
      "  Obtaining dependency information for Pillow from https://files.pythonhosted.org/packages/50/e5/0d484d1ac71b934638f91b7156203ba5bf3eb12f596b616a68a85c123808/Pillow-10.0.0-cp39-cp39-manylinux_2_28_x86_64.whl.metadata\n",
      "  Downloading Pillow-10.0.0-cp39-cp39-manylinux_2_28_x86_64.whl.metadata (9.5 kB)\n",
      "Downloading Pillow-10.0.0-cp39-cp39-manylinux_2_28_x86_64.whl (3.4 MB)\n",
      "\u001b[2K   \u001b[90m━━━━━━━━━━━━━━━━━━━━━━━━━━━━━━━━━━━━━━━━\u001b[0m \u001b[32m3.4/3.4 MB\u001b[0m \u001b[31m10.4 MB/s\u001b[0m eta \u001b[36m0:00:00\u001b[0m00:01\u001b[0m0:01\u001b[0m\n",
      "\u001b[?25hInstalling collected packages: Pillow\n",
      "  Attempting uninstall: Pillow\n",
      "    Found existing installation: Pillow 8.4.0\n",
      "    Uninstalling Pillow-8.4.0:\n",
      "      Successfully uninstalled Pillow-8.4.0\n",
      "Successfully installed Pillow-10.0.0\n",
      "Collecting wordcloud==1.8.2.2\n",
      "  Downloading wordcloud-1.8.2.2-cp39-cp39-manylinux_2_17_x86_64.manylinux2014_x86_64.whl (458 kB)\n",
      "\u001b[2K     \u001b[90m━━━━━━━━━━━━━━━━━━━━━━━━━━━━━━━━━━━━━━━\u001b[0m \u001b[32m458.6/458.6 kB\u001b[0m \u001b[31m1.7 MB/s\u001b[0m eta \u001b[36m0:00:00\u001b[0m00:01\u001b[0m00:01\u001b[0m\n",
      "\u001b[?25hRequirement already satisfied: numpy>=1.6.1 in /opt/conda/lib/python3.9/site-packages (from wordcloud==1.8.2.2) (1.20.1)\n",
      "Requirement already satisfied: pillow in /opt/conda/lib/python3.9/site-packages (from wordcloud==1.8.2.2) (10.0.0)\n",
      "Requirement already satisfied: matplotlib in /opt/conda/lib/python3.9/site-packages (from wordcloud==1.8.2.2) (3.3.4)\n",
      "Requirement already satisfied: cycler>=0.10 in /opt/conda/lib/python3.9/site-packages (from matplotlib->wordcloud==1.8.2.2) (0.11.0)\n",
      "Requirement already satisfied: kiwisolver>=1.0.1 in /opt/conda/lib/python3.9/site-packages (from matplotlib->wordcloud==1.8.2.2) (1.4.4)\n",
      "Requirement already satisfied: pyparsing!=2.0.4,!=2.1.2,!=2.1.6,>=2.0.3 in /opt/conda/lib/python3.9/site-packages (from matplotlib->wordcloud==1.8.2.2) (2.4.7)\n",
      "Requirement already satisfied: python-dateutil>=2.1 in /opt/conda/lib/python3.9/site-packages (from matplotlib->wordcloud==1.8.2.2) (2.8.1)\n",
      "Requirement already satisfied: six>=1.5 in /opt/conda/lib/python3.9/site-packages (from python-dateutil>=2.1->matplotlib->wordcloud==1.8.2.2) (1.16.0)\n",
      "Installing collected packages: wordcloud\n",
      "Successfully installed wordcloud-1.8.2.2\n"
     ]
    },
    {
     "name": "stderr",
     "output_type": "stream",
     "text": [
      "[nltk_data] Downloading package stopwords to /home/jovyan/nltk_data...\n",
      "[nltk_data]   Package stopwords is already up-to-date!\n",
      "[nltk_data] Downloading package punkt to /home/jovyan/nltk_data...\n",
      "[nltk_data]   Package punkt is already up-to-date!\n",
      "[nltk_data] Downloading package wordnet to /home/jovyan/nltk_data...\n",
      "[nltk_data]   Package wordnet is already up-to-date!\n",
      "[nltk_data] Downloading package averaged_perceptron_tagger to\n",
      "[nltk_data]     /home/jovyan/nltk_data...\n",
      "[nltk_data]   Unzipping taggers/averaged_perceptron_tagger.zip.\n"
     ]
    }
   ],
   "source": [
    "!pip install --upgrade pip\n",
    "!pip install --upgrade Pillow\n",
    "\n",
    "!/opt/conda/bin/python -m pip install wordcloud==1.8.2.2\n",
    "\n",
    "import os\n",
    "import re\n",
    "import pandas as pd\n",
    "import numpy as np\n",
    "import matplotlib.pyplot as plt\n",
    "import seaborn as sns\n",
    "from tqdm.notebook import tqdm\n",
    "tqdm.pandas()\n",
    "\n",
    "from wordcloud import WordCloud\n",
    "\n",
    "import nltk\n",
    "from nltk.corpus import stopwords, wordnet\n",
    "nltk.download(\"stopwords\") # удаление стоп-слов\n",
    "nltk.download('punkt') # текст в список предложений\n",
    "nltk.download('wordnet') # лемматизация\n",
    "nltk.download('averaged_perceptron_tagger') # tagger\n",
    "\n",
    "from sklearn.feature_extraction.text import CountVectorizer, TfidfVectorizer\n",
    "\n",
    "from sklearn import preprocessing\n",
    "from sklearn.model_selection import train_test_split\n",
    "from sklearn.pipeline import make_pipeline\n",
    "from sklearn.model_selection import GridSearchCV\n",
    "from sklearn.metrics import f1_score, confusion_matrix, ConfusionMatrixDisplay, classification_report\n",
    "from sklearn.linear_model import LogisticRegression, SGDClassifier\n",
    "from lightgbm import LGBMClassifier "
   ]
  },
  {
   "cell_type": "code",
   "execution_count": 2,
   "metadata": {},
   "outputs": [],
   "source": [
    "# сразу зададим константу для random_seed\n",
    "RAND_STATE = 777"
   ]
  },
  {
   "cell_type": "markdown",
   "metadata": {},
   "source": [
    "### Загрузка данных"
   ]
  },
  {
   "cell_type": "code",
   "execution_count": 3,
   "metadata": {
    "scrolled": false
   },
   "outputs": [
    {
     "name": "stdout",
     "output_type": "stream",
     "text": [
      "<class 'pandas.core.frame.DataFrame'>\n",
      "Int64Index: 159292 entries, 0 to 159450\n",
      "Data columns (total 2 columns):\n",
      " #   Column  Non-Null Count   Dtype \n",
      "---  ------  --------------   ----- \n",
      " 0   text    159292 non-null  object\n",
      " 1   toxic   159292 non-null  int64 \n",
      "dtypes: int64(1), object(1)\n",
      "memory usage: 3.6+ MB\n"
     ]
    },
    {
     "data": {
      "text/plain": [
       "None"
      ]
     },
     "metadata": {},
     "output_type": "display_data"
    },
    {
     "data": {
      "text/html": [
       "<div>\n",
       "<style scoped>\n",
       "    .dataframe tbody tr th:only-of-type {\n",
       "        vertical-align: middle;\n",
       "    }\n",
       "\n",
       "    .dataframe tbody tr th {\n",
       "        vertical-align: top;\n",
       "    }\n",
       "\n",
       "    .dataframe thead th {\n",
       "        text-align: right;\n",
       "    }\n",
       "</style>\n",
       "<table border=\"1\" class=\"dataframe\">\n",
       "  <thead>\n",
       "    <tr style=\"text-align: right;\">\n",
       "      <th></th>\n",
       "      <th>text</th>\n",
       "      <th>toxic</th>\n",
       "    </tr>\n",
       "  </thead>\n",
       "  <tbody>\n",
       "    <tr>\n",
       "      <th>0</th>\n",
       "      <td>Explanation\\nWhy the edits made under my usern...</td>\n",
       "      <td>0</td>\n",
       "    </tr>\n",
       "    <tr>\n",
       "      <th>1</th>\n",
       "      <td>D'aww! He matches this background colour I'm s...</td>\n",
       "      <td>0</td>\n",
       "    </tr>\n",
       "    <tr>\n",
       "      <th>2</th>\n",
       "      <td>Hey man, I'm really not trying to edit war. It...</td>\n",
       "      <td>0</td>\n",
       "    </tr>\n",
       "    <tr>\n",
       "      <th>3</th>\n",
       "      <td>\"\\nMore\\nI can't make any real suggestions on ...</td>\n",
       "      <td>0</td>\n",
       "    </tr>\n",
       "    <tr>\n",
       "      <th>4</th>\n",
       "      <td>You, sir, are my hero. Any chance you remember...</td>\n",
       "      <td>0</td>\n",
       "    </tr>\n",
       "    <tr>\n",
       "      <th>5</th>\n",
       "      <td>\"\\n\\nCongratulations from me as well, use the ...</td>\n",
       "      <td>0</td>\n",
       "    </tr>\n",
       "    <tr>\n",
       "      <th>6</th>\n",
       "      <td>COCKSUCKER BEFORE YOU PISS AROUND ON MY WORK</td>\n",
       "      <td>1</td>\n",
       "    </tr>\n",
       "    <tr>\n",
       "      <th>7</th>\n",
       "      <td>Your vandalism to the Matt Shirvington article...</td>\n",
       "      <td>0</td>\n",
       "    </tr>\n",
       "    <tr>\n",
       "      <th>8</th>\n",
       "      <td>Sorry if the word 'nonsense' was offensive to ...</td>\n",
       "      <td>0</td>\n",
       "    </tr>\n",
       "    <tr>\n",
       "      <th>9</th>\n",
       "      <td>alignment on this subject and which are contra...</td>\n",
       "      <td>0</td>\n",
       "    </tr>\n",
       "  </tbody>\n",
       "</table>\n",
       "</div>"
      ],
      "text/plain": [
       "                                                text  toxic\n",
       "0  Explanation\\nWhy the edits made under my usern...      0\n",
       "1  D'aww! He matches this background colour I'm s...      0\n",
       "2  Hey man, I'm really not trying to edit war. It...      0\n",
       "3  \"\\nMore\\nI can't make any real suggestions on ...      0\n",
       "4  You, sir, are my hero. Any chance you remember...      0\n",
       "5  \"\\n\\nCongratulations from me as well, use the ...      0\n",
       "6       COCKSUCKER BEFORE YOU PISS AROUND ON MY WORK      1\n",
       "7  Your vandalism to the Matt Shirvington article...      0\n",
       "8  Sorry if the word 'nonsense' was offensive to ...      0\n",
       "9  alignment on this subject and which are contra...      0"
      ]
     },
     "metadata": {},
     "output_type": "display_data"
    }
   ],
   "source": [
    "# звгрузим данные \n",
    "if os.path.exists('toxic_comments.csv'):\n",
    "    df = pd.read_csv('toxic_comments.csv', index_col='Unnamed: 0')\n",
    "else:\n",
    "    df = pd.read_csv('/datasets/toxic_comments.csv', index_col='Unnamed: 0')\n",
    "    \n",
    "# выведем информацию по загруженному датафрейму\n",
    "display(df.info())\n",
    "display(df.head(10))"
   ]
  },
  {
   "cell_type": "markdown",
   "metadata": {},
   "source": [
    "Всего в датафрейме **159292 записей** с размеченными комментариями."
   ]
  },
  {
   "cell_type": "markdown",
   "metadata": {},
   "source": [
    "### Разбивка данных на обучающую и тестовую выборки\n",
    "\n",
    "Для чистоты проверки лучшей модели на тесте, данные сразу же будут разбиты на обучающую и тестовую выборки в соотношении 3/1.\n",
    "Далее анализ и обработка будет проведена на обучающих данных."
   ]
  },
  {
   "cell_type": "code",
   "execution_count": 4,
   "metadata": {},
   "outputs": [
    {
     "name": "stdout",
     "output_type": "stream",
     "text": [
      "Обучающая выборка (119469, 2)\n",
      "Тестовая выборка (39823, 2)\n"
     ]
    }
   ],
   "source": [
    "# разбивка стратифицирована по целевому классу\n",
    "df_train, df_test = train_test_split(df.copy(), test_size=.25, stratify=df['toxic'], random_state=RAND_STATE)\n",
    "# вывод размеров выборок\n",
    "print('Обучающая выборка', df_train.shape)\n",
    "print('Тестовая выборка', df_test.shape)"
   ]
  },
  {
   "cell_type": "markdown",
   "metadata": {},
   "source": [
    "### Проверка данных на пропуски и аномальные значения"
   ]
  },
  {
   "cell_type": "code",
   "execution_count": 5,
   "metadata": {
    "scrolled": true
   },
   "outputs": [
    {
     "data": {
      "text/plain": [
       "text     0\n",
       "toxic    0\n",
       "dtype: int64"
      ]
     },
     "execution_count": 5,
     "metadata": {},
     "output_type": "execute_result"
    }
   ],
   "source": [
    "# проверка на пропуски\n",
    "df_train.isna().sum()"
   ]
  },
  {
   "cell_type": "markdown",
   "metadata": {},
   "source": [
    "Явных пропусков нет."
   ]
  },
  {
   "cell_type": "code",
   "execution_count": 6,
   "metadata": {},
   "outputs": [
    {
     "data": {
      "text/html": [
       "<div>\n",
       "<style scoped>\n",
       "    .dataframe tbody tr th:only-of-type {\n",
       "        vertical-align: middle;\n",
       "    }\n",
       "\n",
       "    .dataframe tbody tr th {\n",
       "        vertical-align: top;\n",
       "    }\n",
       "\n",
       "    .dataframe thead th {\n",
       "        text-align: right;\n",
       "    }\n",
       "</style>\n",
       "<table border=\"1\" class=\"dataframe\">\n",
       "  <thead>\n",
       "    <tr style=\"text-align: right;\">\n",
       "      <th></th>\n",
       "      <th>text</th>\n",
       "      <th>toxic</th>\n",
       "    </tr>\n",
       "  </thead>\n",
       "  <tbody>\n",
       "    <tr>\n",
       "      <th>136958</th>\n",
       "      <td>~ J.Lo</td>\n",
       "      <td>0</td>\n",
       "    </tr>\n",
       "    <tr>\n",
       "      <th>119123</th>\n",
       "      <td>\"\"\"</td>\n",
       "      <td>1</td>\n",
       "    </tr>\n",
       "    <tr>\n",
       "      <th>15449</th>\n",
       "      <td>Howdy!\"</td>\n",
       "      <td>0</td>\n",
       "    </tr>\n",
       "    <tr>\n",
       "      <th>52393</th>\n",
       "      <td>14:53,</td>\n",
       "      <td>0</td>\n",
       "    </tr>\n",
       "    <tr>\n",
       "      <th>118750</th>\n",
       "      <td>FUCK YOU</td>\n",
       "      <td>1</td>\n",
       "    </tr>\n",
       "  </tbody>\n",
       "</table>\n",
       "</div>"
      ],
      "text/plain": [
       "            text  toxic\n",
       "136958    ~ J.Lo      0\n",
       "119123       \"\"\"      1\n",
       "15449    Howdy!\"      0\n",
       "52393     14:53,      0\n",
       "118750  FUCK YOU      1"
      ]
     },
     "execution_count": 6,
     "metadata": {},
     "output_type": "execute_result"
    }
   ],
   "source": [
    "# проверка наличия ультракоротких комментариев\n",
    "df_train[df_train['text'].map(len) <= 10]"
   ]
  },
  {
   "cell_type": "markdown",
   "metadata": {},
   "source": [
    "В данных присутствуют комментарии, которые не несут языковой нагрузки (например `\"  \"\"\"\"` или `\"== \"\"\"\"`). После очистки данных от лишних символов, такие записи будут пустыми и их необходимо будет удалить.\n",
    "\n",
    "Стоит так же отметить наблюдение с индексом **119123**, которое явно не имеет смысла, но размечено как **негативный комментарий**."
   ]
  },
  {
   "cell_type": "code",
   "execution_count": 7,
   "metadata": {
    "scrolled": false
   },
   "outputs": [
    {
     "data": {
      "application/vnd.jupyter.widget-view+json": {
       "model_id": "822bc278639e4bfebd42b3cee48da137",
       "version_major": 2,
       "version_minor": 0
      },
      "text/plain": [
       "  0%|          | 0/119469 [00:00<?, ?it/s]"
      ]
     },
     "metadata": {},
     "output_type": "display_data"
    },
    {
     "data": {
      "text/html": [
       "<div>\n",
       "<style scoped>\n",
       "    .dataframe tbody tr th:only-of-type {\n",
       "        vertical-align: middle;\n",
       "    }\n",
       "\n",
       "    .dataframe tbody tr th {\n",
       "        vertical-align: top;\n",
       "    }\n",
       "\n",
       "    .dataframe thead th {\n",
       "        text-align: right;\n",
       "    }\n",
       "</style>\n",
       "<table border=\"1\" class=\"dataframe\">\n",
       "  <thead>\n",
       "    <tr style=\"text-align: right;\">\n",
       "      <th></th>\n",
       "      <th>text</th>\n",
       "      <th>toxic</th>\n",
       "      <th>clean_text</th>\n",
       "    </tr>\n",
       "  </thead>\n",
       "  <tbody>\n",
       "    <tr>\n",
       "      <th>125930</th>\n",
       "      <td>\" November 2010 (UTC)|decline=You are attempti...</td>\n",
       "      <td>0</td>\n",
       "      <td>November       UTC  decline You are attempting...</td>\n",
       "    </tr>\n",
       "    <tr>\n",
       "      <th>47694</th>\n",
       "      <td>\"I see that these is the list A.B comes with: ...</td>\n",
       "      <td>0</td>\n",
       "      <td>I see that these is the list A B comes with   ...</td>\n",
       "    </tr>\n",
       "    <tr>\n",
       "      <th>135136</th>\n",
       "      <td>\"\\n\\n Wikipedia:Featured picture candidates/Gu...</td>\n",
       "      <td>0</td>\n",
       "      <td>Wikipedia Featured picture candidates Guide at...</td>\n",
       "    </tr>\n",
       "    <tr>\n",
       "      <th>25444</th>\n",
       "      <td>Thank you for experimenting with  Wikipedia. Y...</td>\n",
       "      <td>0</td>\n",
       "      <td>Thank you for experimenting with  Wikipedia  Y...</td>\n",
       "    </tr>\n",
       "    <tr>\n",
       "      <th>19685</th>\n",
       "      <td>\"\\n\\nEpiphanius refers to the Gospel harmony \"...</td>\n",
       "      <td>0</td>\n",
       "      <td>Epiphanius refers to the Gospel harmony   foun...</td>\n",
       "    </tr>\n",
       "    <tr>\n",
       "      <th>29728</th>\n",
       "      <td>Please stop. If you continue to blank out or d...</td>\n",
       "      <td>0</td>\n",
       "      <td>Please stop  If you continue to blank out or d...</td>\n",
       "    </tr>\n",
       "    <tr>\n",
       "      <th>40615</th>\n",
       "      <td>Almost Famous|Almost Famous]] 17:40, 26</td>\n",
       "      <td>0</td>\n",
       "      <td>Almost Famous Almost Famous]]</td>\n",
       "    </tr>\n",
       "    <tr>\n",
       "      <th>90066</th>\n",
       "      <td>Is it OUTING or WP:COI?\\n He doesn't want the ...</td>\n",
       "      <td>0</td>\n",
       "      <td>Is it OUTING or WP COI   He does not  want the...</td>\n",
       "    </tr>\n",
       "    <tr>\n",
       "      <th>59359</th>\n",
       "      <td>\"''I added this simple and factual sentence a ...</td>\n",
       "      <td>0</td>\n",
       "      <td>I added this simple and factual sentence a num...</td>\n",
       "    </tr>\n",
       "    <tr>\n",
       "      <th>156015</th>\n",
       "      <td>\"\\n\\nI have several secondary sources for Unio...</td>\n",
       "      <td>0</td>\n",
       "      <td>I have several secondary sources for Union gov...</td>\n",
       "    </tr>\n",
       "  </tbody>\n",
       "</table>\n",
       "</div>"
      ],
      "text/plain": [
       "                                                     text  toxic  \\\n",
       "125930  \" November 2010 (UTC)|decline=You are attempti...      0   \n",
       "47694   \"I see that these is the list A.B comes with: ...      0   \n",
       "135136  \"\\n\\n Wikipedia:Featured picture candidates/Gu...      0   \n",
       "25444   Thank you for experimenting with  Wikipedia. Y...      0   \n",
       "19685   \"\\n\\nEpiphanius refers to the Gospel harmony \"...      0   \n",
       "29728   Please stop. If you continue to blank out or d...      0   \n",
       "40615             Almost Famous|Almost Famous]] 17:40, 26      0   \n",
       "90066   Is it OUTING or WP:COI?\\n He doesn't want the ...      0   \n",
       "59359   \"''I added this simple and factual sentence a ...      0   \n",
       "156015  \"\\n\\nI have several secondary sources for Unio...      0   \n",
       "\n",
       "                                               clean_text  \n",
       "125930  November       UTC  decline You are attempting...  \n",
       "47694   I see that these is the list A B comes with   ...  \n",
       "135136  Wikipedia Featured picture candidates Guide at...  \n",
       "25444   Thank you for experimenting with  Wikipedia  Y...  \n",
       "19685   Epiphanius refers to the Gospel harmony   foun...  \n",
       "29728   Please stop  If you continue to blank out or d...  \n",
       "40615                       Almost Famous Almost Famous]]  \n",
       "90066   Is it OUTING or WP COI   He does not  want the...  \n",
       "59359   I added this simple and factual sentence a num...  \n",
       "156015  I have several secondary sources for Union gov...  "
      ]
     },
     "execution_count": 7,
     "metadata": {},
     "output_type": "execute_result"
    }
   ],
   "source": [
    "def text_clean(line) -> str:\n",
    "    \n",
    "    '''Функция для очистки текста от любых символов кроме латинских \n",
    "    букв с подменой некоторых сокращений на их полный вариант и приведением к нижнему регистру'''\n",
    "    text = line.text.lower()\n",
    "    text = re.sub(r\"can't\", \"cannot \", line.text)\n",
    "    text = re.sub(r\"what's\", \"what is \", text)\n",
    "    text = re.sub(r\"\\'ve\", \" have \", text)\n",
    "    text = re.sub(r\"n't\", \" not \", text)\n",
    "    text = re.sub(r\"i'm\", \"i am \", text)\n",
    "    text = re.sub(r\"\\'re\", \" are \", text)\n",
    "    text = re.sub(r\"\\'d\", \" would \", text)\n",
    "    text = re.sub(r\"\\'ll\", \" will \", text)\n",
    "    text = re.sub(r'[^a-zA-z]', ' ', text)\n",
    "    return text.strip(' ')\n",
    "\n",
    "# очистим текст в обучающей выборке\n",
    "df_train['clean_text'] = df_train.progress_apply(text_clean, axis=1)\n",
    "df_train.head(10)"
   ]
  },
  {
   "cell_type": "code",
   "execution_count": 8,
   "metadata": {},
   "outputs": [
    {
     "data": {
      "text/html": [
       "<div>\n",
       "<style scoped>\n",
       "    .dataframe tbody tr th:only-of-type {\n",
       "        vertical-align: middle;\n",
       "    }\n",
       "\n",
       "    .dataframe tbody tr th {\n",
       "        vertical-align: top;\n",
       "    }\n",
       "\n",
       "    .dataframe thead th {\n",
       "        text-align: right;\n",
       "    }\n",
       "</style>\n",
       "<table border=\"1\" class=\"dataframe\">\n",
       "  <thead>\n",
       "    <tr style=\"text-align: right;\">\n",
       "      <th></th>\n",
       "      <th>text</th>\n",
       "      <th>toxic</th>\n",
       "      <th>clean_text</th>\n",
       "    </tr>\n",
       "  </thead>\n",
       "  <tbody>\n",
       "    <tr>\n",
       "      <th>38792</th>\n",
       "      <td>88.104.31.21\"</td>\n",
       "      <td>0</td>\n",
       "      <td></td>\n",
       "    </tr>\n",
       "    <tr>\n",
       "      <th>17297</th>\n",
       "      <td>~ \\n\\n68.193.147.157</td>\n",
       "      <td>0</td>\n",
       "      <td></td>\n",
       "    </tr>\n",
       "    <tr>\n",
       "      <th>82619</th>\n",
       "      <td>\"\\n '''''' 2010/2013 \"</td>\n",
       "      <td>0</td>\n",
       "      <td></td>\n",
       "    </tr>\n",
       "    <tr>\n",
       "      <th>119123</th>\n",
       "      <td>\"\"\"</td>\n",
       "      <td>1</td>\n",
       "      <td></td>\n",
       "    </tr>\n",
       "    <tr>\n",
       "      <th>61711</th>\n",
       "      <td>\"\\n\\n 199.209.144.211  \"</td>\n",
       "      <td>0</td>\n",
       "      <td></td>\n",
       "    </tr>\n",
       "    <tr>\n",
       "      <th>4475</th>\n",
       "      <td>1993\\n\\n1994\\n\\n1995\\n\\n1996\\n\\n1997\\n\\n1998\\n...</td>\n",
       "      <td>0</td>\n",
       "      <td></td>\n",
       "    </tr>\n",
       "    <tr>\n",
       "      <th>52393</th>\n",
       "      <td>14:53,</td>\n",
       "      <td>0</td>\n",
       "      <td></td>\n",
       "    </tr>\n",
       "    <tr>\n",
       "      <th>6293</th>\n",
       "      <td>193.61.111.53  15:00</td>\n",
       "      <td>0</td>\n",
       "      <td></td>\n",
       "    </tr>\n",
       "  </tbody>\n",
       "</table>\n",
       "</div>"
      ],
      "text/plain": [
       "                                                     text  toxic clean_text\n",
       "38792                                       88.104.31.21\"      0           \n",
       "17297                                ~ \\n\\n68.193.147.157      0           \n",
       "82619                              \"\\n '''''' 2010/2013 \"      0           \n",
       "119123                                                \"\"\"      1           \n",
       "61711                            \"\\n\\n 199.209.144.211  \"      0           \n",
       "4475    1993\\n\\n1994\\n\\n1995\\n\\n1996\\n\\n1997\\n\\n1998\\n...      0           \n",
       "52393                                              14:53,      0           \n",
       "6293                                 193.61.111.53  15:00      0           "
      ]
     },
     "execution_count": 8,
     "metadata": {},
     "output_type": "execute_result"
    }
   ],
   "source": [
    "# вывод записей с пустыми комментариями после очистки\n",
    "df_train[df_train['clean_text'] == '']"
   ]
  },
  {
   "cell_type": "code",
   "execution_count": 9,
   "metadata": {},
   "outputs": [
    {
     "name": "stdout",
     "output_type": "stream",
     "text": [
      "(119461, 3)\n"
     ]
    }
   ],
   "source": [
    "# удаление записей с пустыми комментариями\n",
    "df_train = df_train[df_train['clean_text'] != '']\n",
    "print(df_train.shape)"
   ]
  },
  {
   "cell_type": "markdown",
   "metadata": {},
   "source": [
    "Было удалено 8 записей из обучающей выборки."
   ]
  },
  {
   "cell_type": "markdown",
   "metadata": {},
   "source": [
    "### Проверка целевого признака `toxic` (баланс классов)"
   ]
  },
  {
   "cell_type": "code",
   "execution_count": 10,
   "metadata": {},
   "outputs": [
    {
     "name": "stdout",
     "output_type": "stream",
     "text": [
      "Процент записей (%)\n"
     ]
    },
    {
     "data": {
      "text/plain": [
       "0    89.84\n",
       "1    10.16\n",
       "Name: toxic, dtype: float64"
      ]
     },
     "execution_count": 10,
     "metadata": {},
     "output_type": "execute_result"
    }
   ],
   "source": [
    "print('Процент записей (%)')\n",
    "round(df_train['toxic'].value_counts(normalize=True) * 100, 2)"
   ]
  },
  {
   "cell_type": "code",
   "execution_count": 11,
   "metadata": {},
   "outputs": [
    {
     "data": {
      "image/png": "[encoded data removed]",
      "text/plain": [
       "<Figure size 432x432 with 1 Axes>"
      ]
     },
     "metadata": {
      "needs_background": "light"
     },
     "output_type": "display_data"
    }
   ],
   "source": [
    "fig, ax = plt.subplots(figsize=(6, 6))\n",
    "sns.countplot(data=df_train, x='toxic')\n",
    "ax.set_title('Разделение по классам')\n",
    "ax.set_xlabel('Класс')\n",
    "ax.set_ylabel('Количество')\n",
    "plt.show()"
   ]
  },
  {
   "cell_type": "markdown",
   "metadata": {},
   "source": [
    "В данных присутствует явный дисбаланс классов в сторону `0-го класса` (`позитивные комментарии`). Таким образом задача классификации заключается в распозновании более редкого события/класса, а именно распознование негативных комментариев среди множества положительных. Одним из универсальных методов для балансировки данных по классам является метод **перевесовки**, когда объектам с редким классом соответствует больший вес."
   ]
  },
  {
   "cell_type": "markdown",
   "metadata": {},
   "source": [
    "### Проверка на наличие дубликатов"
   ]
  },
  {
   "cell_type": "code",
   "execution_count": 12,
   "metadata": {
    "scrolled": false
   },
   "outputs": [
    {
     "data": {
      "text/plain": [
       "(772, 3)"
      ]
     },
     "metadata": {},
     "output_type": "display_data"
    },
    {
     "data": {
      "text/html": [
       "<div>\n",
       "<style scoped>\n",
       "    .dataframe tbody tr th:only-of-type {\n",
       "        vertical-align: middle;\n",
       "    }\n",
       "\n",
       "    .dataframe tbody tr th {\n",
       "        vertical-align: top;\n",
       "    }\n",
       "\n",
       "    .dataframe thead th {\n",
       "        text-align: right;\n",
       "    }\n",
       "</style>\n",
       "<table border=\"1\" class=\"dataframe\">\n",
       "  <thead>\n",
       "    <tr style=\"text-align: right;\">\n",
       "      <th></th>\n",
       "      <th>text</th>\n",
       "      <th>toxic</th>\n",
       "      <th>clean_text</th>\n",
       "    </tr>\n",
       "  </thead>\n",
       "  <tbody>\n",
       "    <tr>\n",
       "      <th>50741</th>\n",
       "      <td>\"\\nWelcome!\\n\\nHello, and welcome to Wikipedia...</td>\n",
       "      <td>0</td>\n",
       "      <td>Welcome   Hello  and welcome to Wikipedia  Tha...</td>\n",
       "    </tr>\n",
       "    <tr>\n",
       "      <th>143368</th>\n",
       "      <td>\"\\nWelcome!\\n\\nHello, and welcome to Wikipedia...</td>\n",
       "      <td>0</td>\n",
       "      <td>Welcome   Hello  and welcome to Wikipedia  Tha...</td>\n",
       "    </tr>\n",
       "    <tr>\n",
       "      <th>27181</th>\n",
       "      <td>\"\\nWelcome!\\n\\nHello, and welcome to Wikipedia...</td>\n",
       "      <td>0</td>\n",
       "      <td>Welcome   Hello  and welcome to Wikipedia  Tha...</td>\n",
       "    </tr>\n",
       "    <tr>\n",
       "      <th>32098</th>\n",
       "      <td>\"\\n\\nWelcome!\\n\\nHello, and welcome to Wikiped...</td>\n",
       "      <td>0</td>\n",
       "      <td>Welcome   Hello  and welcome to Wikipedia  Tha...</td>\n",
       "    </tr>\n",
       "    <tr>\n",
       "      <th>19064</th>\n",
       "      <td>\"\\nWelcome!\\n\\nHello, and welcome to Wikipedia...</td>\n",
       "      <td>0</td>\n",
       "      <td>Welcome   Hello  and welcome to Wikipedia  Tha...</td>\n",
       "    </tr>\n",
       "    <tr>\n",
       "      <th>63824</th>\n",
       "      <td>Back in the day...before Zlykinskyja got herse...</td>\n",
       "      <td>0</td>\n",
       "      <td>Back in the day   before Zlykinskyja got herse...</td>\n",
       "    </tr>\n",
       "    <tr>\n",
       "      <th>31532</th>\n",
       "      <td>Back in the day...before Zlykinskyja got herse...</td>\n",
       "      <td>0</td>\n",
       "      <td>Back in the day   before Zlykinskyja got herse...</td>\n",
       "    </tr>\n",
       "    <tr>\n",
       "      <th>78370</th>\n",
       "      <td>\"\\n{| style=\"\"background-color: #F5FFFA; paddi...</td>\n",
       "      <td>0</td>\n",
       "      <td>style   background color   F FFFA  padding    ...</td>\n",
       "    </tr>\n",
       "    <tr>\n",
       "      <th>42144</th>\n",
       "      <td>\"\\n{| style=\"\"background-color: #F5FFFA; paddi...</td>\n",
       "      <td>0</td>\n",
       "      <td>style   background color   F FFFA  padding    ...</td>\n",
       "    </tr>\n",
       "    <tr>\n",
       "      <th>150054</th>\n",
       "      <td>\"\\n{| style=\"\"background-color: #F5FFFA; paddi...</td>\n",
       "      <td>0</td>\n",
       "      <td>style   background color   F FFFA  padding    ...</td>\n",
       "    </tr>\n",
       "    <tr>\n",
       "      <th>139089</th>\n",
       "      <td>\"\\n\\nA RESPONSE TO . I ENTITLE THIS \"\"YOUR STU...</td>\n",
       "      <td>1</td>\n",
       "      <td>A RESPONSE TO   I ENTITLE THIS   YOUR STUPIDIT...</td>\n",
       "    </tr>\n",
       "    <tr>\n",
       "      <th>129258</th>\n",
       "      <td>\"A RESPONSE TO . I ENTITLE THIS \"\"YOUR STUPIDI...</td>\n",
       "      <td>1</td>\n",
       "      <td>A RESPONSE TO   I ENTITLE THIS   YOUR STUPIDIT...</td>\n",
       "    </tr>\n",
       "    <tr>\n",
       "      <th>109493</th>\n",
       "      <td>}}\\n\\nUNBLOCK: 1. The reason I used sockpuppet...</td>\n",
       "      <td>0</td>\n",
       "      <td>UNBLOCK     The reason I used sockpuppets was ...</td>\n",
       "    </tr>\n",
       "    <tr>\n",
       "      <th>29343</th>\n",
       "      <td>UNBLOCK: 1. The reason I used sockpuppets was ...</td>\n",
       "      <td>1</td>\n",
       "      <td>UNBLOCK     The reason I used sockpuppets was ...</td>\n",
       "    </tr>\n",
       "    <tr>\n",
       "      <th>21435</th>\n",
       "      <td>\"\\ntry these important things and maybe you wo...</td>\n",
       "      <td>1</td>\n",
       "      <td>try these important things and maybe you wo no...</td>\n",
       "    </tr>\n",
       "    <tr>\n",
       "      <th>50336</th>\n",
       "      <td>\"\\n\\ntry these important things and maybe you ...</td>\n",
       "      <td>1</td>\n",
       "      <td>try these important things and maybe you wo no...</td>\n",
       "    </tr>\n",
       "    <tr>\n",
       "      <th>99792</th>\n",
       "      <td>\"==WARNING: MEMBER THE WIKIPEDIAN GREEK NATION...</td>\n",
       "      <td>0</td>\n",
       "      <td>WARNING  MEMBER THE WIKIPEDIAN GREEK NATIONALI...</td>\n",
       "    </tr>\n",
       "    <tr>\n",
       "      <th>111124</th>\n",
       "      <td>\"\\n==WARNING: MEMBER THE WIKIPEDIAN GREEK NATI...</td>\n",
       "      <td>0</td>\n",
       "      <td>WARNING  MEMBER THE WIKIPEDIAN GREEK NATIONALI...</td>\n",
       "    </tr>\n",
       "    <tr>\n",
       "      <th>141768</th>\n",
       "      <td>\"\\n\\nYou know what, forget it. The guy who was...</td>\n",
       "      <td>0</td>\n",
       "      <td>You know what  forget it  The guy who was repe...</td>\n",
       "    </tr>\n",
       "    <tr>\n",
       "      <th>4496</th>\n",
       "      <td>\"\\n\\nYou know what, forget it. The guy who was...</td>\n",
       "      <td>0</td>\n",
       "      <td>You know what  forget it  The guy who was repe...</td>\n",
       "    </tr>\n",
       "  </tbody>\n",
       "</table>\n",
       "</div>"
      ],
      "text/plain": [
       "                                                     text  toxic  \\\n",
       "50741   \"\\nWelcome!\\n\\nHello, and welcome to Wikipedia...      0   \n",
       "143368  \"\\nWelcome!\\n\\nHello, and welcome to Wikipedia...      0   \n",
       "27181   \"\\nWelcome!\\n\\nHello, and welcome to Wikipedia...      0   \n",
       "32098   \"\\n\\nWelcome!\\n\\nHello, and welcome to Wikiped...      0   \n",
       "19064   \"\\nWelcome!\\n\\nHello, and welcome to Wikipedia...      0   \n",
       "63824   Back in the day...before Zlykinskyja got herse...      0   \n",
       "31532   Back in the day...before Zlykinskyja got herse...      0   \n",
       "78370   \"\\n{| style=\"\"background-color: #F5FFFA; paddi...      0   \n",
       "42144   \"\\n{| style=\"\"background-color: #F5FFFA; paddi...      0   \n",
       "150054  \"\\n{| style=\"\"background-color: #F5FFFA; paddi...      0   \n",
       "139089  \"\\n\\nA RESPONSE TO . I ENTITLE THIS \"\"YOUR STU...      1   \n",
       "129258  \"A RESPONSE TO . I ENTITLE THIS \"\"YOUR STUPIDI...      1   \n",
       "109493  }}\\n\\nUNBLOCK: 1. The reason I used sockpuppet...      0   \n",
       "29343   UNBLOCK: 1. The reason I used sockpuppets was ...      1   \n",
       "21435   \"\\ntry these important things and maybe you wo...      1   \n",
       "50336   \"\\n\\ntry these important things and maybe you ...      1   \n",
       "99792   \"==WARNING: MEMBER THE WIKIPEDIAN GREEK NATION...      0   \n",
       "111124  \"\\n==WARNING: MEMBER THE WIKIPEDIAN GREEK NATI...      0   \n",
       "141768  \"\\n\\nYou know what, forget it. The guy who was...      0   \n",
       "4496    \"\\n\\nYou know what, forget it. The guy who was...      0   \n",
       "\n",
       "                                               clean_text  \n",
       "50741   Welcome   Hello  and welcome to Wikipedia  Tha...  \n",
       "143368  Welcome   Hello  and welcome to Wikipedia  Tha...  \n",
       "27181   Welcome   Hello  and welcome to Wikipedia  Tha...  \n",
       "32098   Welcome   Hello  and welcome to Wikipedia  Tha...  \n",
       "19064   Welcome   Hello  and welcome to Wikipedia  Tha...  \n",
       "63824   Back in the day   before Zlykinskyja got herse...  \n",
       "31532   Back in the day   before Zlykinskyja got herse...  \n",
       "78370   style   background color   F FFFA  padding    ...  \n",
       "42144   style   background color   F FFFA  padding    ...  \n",
       "150054  style   background color   F FFFA  padding    ...  \n",
       "139089  A RESPONSE TO   I ENTITLE THIS   YOUR STUPIDIT...  \n",
       "129258  A RESPONSE TO   I ENTITLE THIS   YOUR STUPIDIT...  \n",
       "109493  UNBLOCK     The reason I used sockpuppets was ...  \n",
       "29343   UNBLOCK     The reason I used sockpuppets was ...  \n",
       "21435   try these important things and maybe you wo no...  \n",
       "50336   try these important things and maybe you wo no...  \n",
       "99792   WARNING  MEMBER THE WIKIPEDIAN GREEK NATIONALI...  \n",
       "111124  WARNING  MEMBER THE WIKIPEDIAN GREEK NATIONALI...  \n",
       "141768  You know what  forget it  The guy who was repe...  \n",
       "4496    You know what  forget it  The guy who was repe...  "
      ]
     },
     "metadata": {},
     "output_type": "display_data"
    }
   ],
   "source": [
    "duplicates = df_train[df_train['clean_text'].duplicated(keep=False)] \\\n",
    "    .sort_values(by='clean_text', key=lambda x: x.str.len()) \n",
    "display(duplicates.shape)\n",
    "display(duplicates.tail(20))"
   ]
  },
  {
   "cell_type": "markdown",
   "metadata": {},
   "source": [
    "В обучающей выборке **864 записи**, имеющие взаимные дубликаты. \n",
    "**Интересное наблюдение:** записи с индексом `109493` и `29343` являются по своей сути дубликатами, но размечены по разному. **Первый** отмечен как **позитивный** комментарий, **второй** как **негативный** (хотя при ознакомлении с самим комментарием его действительно можно отнести скорее к **негативному**). Скорее всего в данных (и тестовой выборке в том числе) можно встретить и другие подобные дубликаты с разной разметкой. Предлагается удалить по крайней мере из обучающей выборки первые дубликаты, оставив последние."
   ]
  },
  {
   "cell_type": "code",
   "execution_count": 13,
   "metadata": {},
   "outputs": [],
   "source": [
    "# удаление дубликатов кроме последнего\n",
    "df_train.drop_duplicates('clean_text', inplace=True, keep='last')"
   ]
  },
  {
   "cell_type": "code",
   "execution_count": 14,
   "metadata": {},
   "outputs": [
    {
     "data": {
      "text/plain": [
       "118970"
      ]
     },
     "execution_count": 14,
     "metadata": {},
     "output_type": "execute_result"
    }
   ],
   "source": [
    "df_train.shape[0]"
   ]
  },
  {
   "cell_type": "markdown",
   "metadata": {},
   "source": [
    "Было удалено **546 дубликатов**."
   ]
  },
  {
   "cell_type": "markdown",
   "metadata": {},
   "source": [
    "## Обучение"
   ]
  },
  {
   "cell_type": "markdown",
   "metadata": {},
   "source": [
    "### Токенизация, лемматизация"
   ]
  },
  {
   "cell_type": "code",
   "execution_count": 15,
   "metadata": {
    "scrolled": true
   },
   "outputs": [],
   "source": [
    "lemmatizer = nltk.WordNetLemmatizer()\n",
    "\n",
    "def get_wordnet_pos(word):\n",
    "    \"\"\"Map POS tag to first character lemmatize() accepts\"\"\"\n",
    "    tag = nltk.pos_tag([word])[0][1][0].upper()\n",
    "    tag_dict = {\"J\": wordnet.ADJ,\n",
    "                \"N\": wordnet.NOUN,\n",
    "                \"V\": wordnet.VERB,\n",
    "                \"R\": wordnet.ADV}\n",
    "    return tag_dict.get(tag, wordnet.NOUN)\n",
    "\n",
    "\n",
    "def get_token_lemma(row):\n",
    "    '''Функция для токенизации и лемматизации английских слов.\n",
    "    Используется для датафрейма через метод \"apply\"'''\n",
    "    text = nltk.word_tokenize(row['clean_text'], language = 'english') \n",
    "    return ' '.join([lemmatizer.lemmatize(word, get_wordnet_pos(word)) for word in text])"
   ]
  },
  {
   "cell_type": "code",
   "execution_count": 16,
   "metadata": {},
   "outputs": [
    {
     "data": {
      "application/vnd.jupyter.widget-view+json": {
       "model_id": "99aa9a83560e4fe080ce342e55de5672",
       "version_major": 2,
       "version_minor": 0
      },
      "text/plain": [
       "  0%|          | 0/118970 [00:00<?, ?it/s]"
      ]
     },
     "metadata": {},
     "output_type": "display_data"
    },
    {
     "data": {
      "text/html": [
       "<div>\n",
       "<style scoped>\n",
       "    .dataframe tbody tr th:only-of-type {\n",
       "        vertical-align: middle;\n",
       "    }\n",
       "\n",
       "    .dataframe tbody tr th {\n",
       "        vertical-align: top;\n",
       "    }\n",
       "\n",
       "    .dataframe thead th {\n",
       "        text-align: right;\n",
       "    }\n",
       "</style>\n",
       "<table border=\"1\" class=\"dataframe\">\n",
       "  <thead>\n",
       "    <tr style=\"text-align: right;\">\n",
       "      <th></th>\n",
       "      <th>text</th>\n",
       "      <th>toxic</th>\n",
       "      <th>clean_text</th>\n",
       "      <th>text_lemma</th>\n",
       "    </tr>\n",
       "  </thead>\n",
       "  <tbody>\n",
       "    <tr>\n",
       "      <th>34314</th>\n",
       "      <td>Try that again and you'll be blocked from edit...</td>\n",
       "      <td>0</td>\n",
       "      <td>Try that again and you will  be blocked from e...</td>\n",
       "      <td>Try that again and you will be block from edit...</td>\n",
       "    </tr>\n",
       "    <tr>\n",
       "      <th>151120</th>\n",
       "      <td>A tag has been placed on Saint Michael's Churc...</td>\n",
       "      <td>0</td>\n",
       "      <td>A tag has been placed on Saint Michael s Churc...</td>\n",
       "      <td>A tag have be place on Saint Michael s Church ...</td>\n",
       "    </tr>\n",
       "    <tr>\n",
       "      <th>90147</th>\n",
       "      <td>\"\\nMinor rewording is not enough to avoid a co...</td>\n",
       "      <td>0</td>\n",
       "      <td>Minor rewording is not enough to avoid a copyr...</td>\n",
       "      <td>Minor reword be not enough to avoid a copyrigh...</td>\n",
       "    </tr>\n",
       "    <tr>\n",
       "      <th>61781</th>\n",
       "      <td>how bout \\n\\nyou go fuck yourself</td>\n",
       "      <td>1</td>\n",
       "      <td>how bout   you go fuck yourself</td>\n",
       "      <td>how bout you go fuck yourself</td>\n",
       "    </tr>\n",
       "    <tr>\n",
       "      <th>118421</th>\n",
       "      <td>I am calculating sources or data present in ot...</td>\n",
       "      <td>0</td>\n",
       "      <td>I am calculating sources or data present in ot...</td>\n",
       "      <td>I be calculate source or data present in other...</td>\n",
       "    </tr>\n",
       "    <tr>\n",
       "      <th>155520</th>\n",
       "      <td>Hey JustAnother \\nYou suck balls  lol</td>\n",
       "      <td>1</td>\n",
       "      <td>Hey JustAnother  You suck balls  lol</td>\n",
       "      <td>Hey JustAnother You suck ball lol</td>\n",
       "    </tr>\n",
       "    <tr>\n",
       "      <th>53005</th>\n",
       "      <td>You know I think it is, she is after all Calif...</td>\n",
       "      <td>0</td>\n",
       "      <td>You know I think it is  she is after all Calif...</td>\n",
       "      <td>You know I think it be she be after all Califo...</td>\n",
       "    </tr>\n",
       "    <tr>\n",
       "      <th>109804</th>\n",
       "      <td>Spellcheck\\nThanks for correcting that spelling.</td>\n",
       "      <td>0</td>\n",
       "      <td>Spellcheck Thanks for correcting that spelling</td>\n",
       "      <td>Spellcheck Thanks for correct that spell</td>\n",
       "    </tr>\n",
       "    <tr>\n",
       "      <th>84654</th>\n",
       "      <td>\"\\n\\n Source troubles ... your opinion. \\n\\nWh...</td>\n",
       "      <td>0</td>\n",
       "      <td>Source troubles     your opinion    While goog...</td>\n",
       "      <td>Source trouble your opinion While googleling f...</td>\n",
       "    </tr>\n",
       "    <tr>\n",
       "      <th>157760</th>\n",
       "      <td>Please do not attack other editors. If you con...</td>\n",
       "      <td>0</td>\n",
       "      <td>Please do not attack other editors  If you con...</td>\n",
       "      <td>Please do not attack other editor If you conti...</td>\n",
       "    </tr>\n",
       "  </tbody>\n",
       "</table>\n",
       "</div>"
      ],
      "text/plain": [
       "                                                     text  toxic  \\\n",
       "34314   Try that again and you'll be blocked from edit...      0   \n",
       "151120  A tag has been placed on Saint Michael's Churc...      0   \n",
       "90147   \"\\nMinor rewording is not enough to avoid a co...      0   \n",
       "61781                   how bout \\n\\nyou go fuck yourself      1   \n",
       "118421  I am calculating sources or data present in ot...      0   \n",
       "155520              Hey JustAnother \\nYou suck balls  lol      1   \n",
       "53005   You know I think it is, she is after all Calif...      0   \n",
       "109804   Spellcheck\\nThanks for correcting that spelling.      0   \n",
       "84654   \"\\n\\n Source troubles ... your opinion. \\n\\nWh...      0   \n",
       "157760  Please do not attack other editors. If you con...      0   \n",
       "\n",
       "                                               clean_text  \\\n",
       "34314   Try that again and you will  be blocked from e...   \n",
       "151120  A tag has been placed on Saint Michael s Churc...   \n",
       "90147   Minor rewording is not enough to avoid a copyr...   \n",
       "61781                     how bout   you go fuck yourself   \n",
       "118421  I am calculating sources or data present in ot...   \n",
       "155520               Hey JustAnother  You suck balls  lol   \n",
       "53005   You know I think it is  she is after all Calif...   \n",
       "109804     Spellcheck Thanks for correcting that spelling   \n",
       "84654   Source troubles     your opinion    While goog...   \n",
       "157760  Please do not attack other editors  If you con...   \n",
       "\n",
       "                                               text_lemma  \n",
       "34314   Try that again and you will be block from edit...  \n",
       "151120  A tag have be place on Saint Michael s Church ...  \n",
       "90147   Minor reword be not enough to avoid a copyrigh...  \n",
       "61781                       how bout you go fuck yourself  \n",
       "118421  I be calculate source or data present in other...  \n",
       "155520                  Hey JustAnother You suck ball lol  \n",
       "53005   You know I think it be she be after all Califo...  \n",
       "109804           Spellcheck Thanks for correct that spell  \n",
       "84654   Source trouble your opinion While googleling f...  \n",
       "157760  Please do not attack other editor If you conti...  "
      ]
     },
     "execution_count": 16,
     "metadata": {},
     "output_type": "execute_result"
    }
   ],
   "source": [
    "# токенизация и лемматизация обучющих данных\n",
    "df_train['text_lemma'] = df_train.progress_apply(get_token_lemma, axis=1)\n",
    "\n",
    "# сохраненение обучающих данных с лемматизацией в csv-файл\n",
    "df_train.to_csv('df_train_with_lemma')\n",
    "\n",
    "# вывод результатов на примере 10 записей\n",
    "df_train.sample(10)"
   ]
  },
  {
   "cell_type": "markdown",
   "metadata": {},
   "source": [
    "### Облако слов"
   ]
  },
  {
   "cell_type": "code",
   "execution_count": 17,
   "metadata": {},
   "outputs": [],
   "source": [
    "# загрузим обучающие данные с лемматизацией из предварительно сохраненного csv-файла\n",
    "if os.path.exists('df_train_with_lemma.csv'):\n",
    "    df_train = pd.read_csv('df_train_with_lemma.csv')"
   ]
  },
  {
   "cell_type": "code",
   "execution_count": 18,
   "metadata": {
    "collapsed": true
   },
   "outputs": [
    {
     "ename": "AttributeError",
     "evalue": "'ImageDraw' object has no attribute 'textsize'",
     "output_type": "error",
     "traceback": [
      "\u001b[0;31m---------------------------------------------------------------------------\u001b[0m",
      "\u001b[0;31mAttributeError\u001b[0m                            Traceback (most recent call last)",
      "\u001b[0;32m/tmp/ipykernel_31/954836744.py\u001b[0m in \u001b[0;36m<module>\u001b[0;34m\u001b[0m\n\u001b[1;32m      2\u001b[0m \u001b[0;34m\u001b[0m\u001b[0m\n\u001b[1;32m      3\u001b[0m \u001b[0;31m# создаем облако слов\u001b[0m\u001b[0;34m\u001b[0m\u001b[0;34m\u001b[0m\u001b[0;34m\u001b[0m\u001b[0m\n\u001b[0;32m----> 4\u001b[0;31m \u001b[0mwordcloud\u001b[0m \u001b[0;34m=\u001b[0m \u001b[0mWordCloud\u001b[0m\u001b[0;34m(\u001b[0m\u001b[0;34m)\u001b[0m\u001b[0;34m.\u001b[0m\u001b[0mgenerate\u001b[0m\u001b[0;34m(\u001b[0m\u001b[0mall_text\u001b[0m\u001b[0;34m)\u001b[0m\u001b[0;34m\u001b[0m\u001b[0;34m\u001b[0m\u001b[0m\n\u001b[0m\u001b[1;32m      5\u001b[0m \u001b[0;34m\u001b[0m\u001b[0m\n\u001b[1;32m      6\u001b[0m \u001b[0;31m# выведем визуализацию\u001b[0m\u001b[0;34m\u001b[0m\u001b[0;34m\u001b[0m\u001b[0;34m\u001b[0m\u001b[0m\n",
      "\u001b[0;32m/opt/conda/lib/python3.9/site-packages/wordcloud/wordcloud.py\u001b[0m in \u001b[0;36mgenerate\u001b[0;34m(self, text)\u001b[0m\n\u001b[1;32m    637\u001b[0m         \u001b[0mself\u001b[0m\u001b[0;34m\u001b[0m\u001b[0;34m\u001b[0m\u001b[0m\n\u001b[1;32m    638\u001b[0m         \"\"\"\n\u001b[0;32m--> 639\u001b[0;31m         \u001b[0;32mreturn\u001b[0m \u001b[0mself\u001b[0m\u001b[0;34m.\u001b[0m\u001b[0mgenerate_from_text\u001b[0m\u001b[0;34m(\u001b[0m\u001b[0mtext\u001b[0m\u001b[0;34m)\u001b[0m\u001b[0;34m\u001b[0m\u001b[0;34m\u001b[0m\u001b[0m\n\u001b[0m\u001b[1;32m    640\u001b[0m \u001b[0;34m\u001b[0m\u001b[0m\n\u001b[1;32m    641\u001b[0m     \u001b[0;32mdef\u001b[0m \u001b[0m_check_generated\u001b[0m\u001b[0;34m(\u001b[0m\u001b[0mself\u001b[0m\u001b[0;34m)\u001b[0m\u001b[0;34m:\u001b[0m\u001b[0;34m\u001b[0m\u001b[0;34m\u001b[0m\u001b[0m\n",
      "\u001b[0;32m/opt/conda/lib/python3.9/site-packages/wordcloud/wordcloud.py\u001b[0m in \u001b[0;36mgenerate_from_text\u001b[0;34m(self, text)\u001b[0m\n\u001b[1;32m    619\u001b[0m         \"\"\"\n\u001b[1;32m    620\u001b[0m         \u001b[0mwords\u001b[0m \u001b[0;34m=\u001b[0m \u001b[0mself\u001b[0m\u001b[0;34m.\u001b[0m\u001b[0mprocess_text\u001b[0m\u001b[0;34m(\u001b[0m\u001b[0mtext\u001b[0m\u001b[0;34m)\u001b[0m\u001b[0;34m\u001b[0m\u001b[0;34m\u001b[0m\u001b[0m\n\u001b[0;32m--> 621\u001b[0;31m         \u001b[0mself\u001b[0m\u001b[0;34m.\u001b[0m\u001b[0mgenerate_from_frequencies\u001b[0m\u001b[0;34m(\u001b[0m\u001b[0mwords\u001b[0m\u001b[0;34m)\u001b[0m\u001b[0;34m\u001b[0m\u001b[0;34m\u001b[0m\u001b[0m\n\u001b[0m\u001b[1;32m    622\u001b[0m         \u001b[0;32mreturn\u001b[0m \u001b[0mself\u001b[0m\u001b[0;34m\u001b[0m\u001b[0;34m\u001b[0m\u001b[0m\n\u001b[1;32m    623\u001b[0m \u001b[0;34m\u001b[0m\u001b[0m\n",
      "\u001b[0;32m/opt/conda/lib/python3.9/site-packages/wordcloud/wordcloud.py\u001b[0m in \u001b[0;36mgenerate_from_frequencies\u001b[0;34m(self, frequencies, max_font_size)\u001b[0m\n\u001b[1;32m    451\u001b[0m                 \u001b[0mfont_size\u001b[0m \u001b[0;34m=\u001b[0m \u001b[0mself\u001b[0m\u001b[0;34m.\u001b[0m\u001b[0mheight\u001b[0m\u001b[0;34m\u001b[0m\u001b[0;34m\u001b[0m\u001b[0m\n\u001b[1;32m    452\u001b[0m             \u001b[0;32melse\u001b[0m\u001b[0;34m:\u001b[0m\u001b[0;34m\u001b[0m\u001b[0;34m\u001b[0m\u001b[0m\n\u001b[0;32m--> 453\u001b[0;31m                 self.generate_from_frequencies(dict(frequencies[:2]),\n\u001b[0m\u001b[1;32m    454\u001b[0m                                                max_font_size=self.height)\n\u001b[1;32m    455\u001b[0m                 \u001b[0;31m# find font sizes\u001b[0m\u001b[0;34m\u001b[0m\u001b[0;34m\u001b[0m\u001b[0;34m\u001b[0m\u001b[0m\n",
      "\u001b[0;32m/opt/conda/lib/python3.9/site-packages/wordcloud/wordcloud.py\u001b[0m in \u001b[0;36mgenerate_from_frequencies\u001b[0;34m(self, frequencies, max_font_size)\u001b[0m\n\u001b[1;32m    506\u001b[0m                     font, orientation=orientation)\n\u001b[1;32m    507\u001b[0m                 \u001b[0;31m# get size of resulting text\u001b[0m\u001b[0;34m\u001b[0m\u001b[0;34m\u001b[0m\u001b[0;34m\u001b[0m\u001b[0m\n\u001b[0;32m--> 508\u001b[0;31m                 \u001b[0mbox_size\u001b[0m \u001b[0;34m=\u001b[0m \u001b[0mdraw\u001b[0m\u001b[0;34m.\u001b[0m\u001b[0mtextsize\u001b[0m\u001b[0;34m(\u001b[0m\u001b[0mword\u001b[0m\u001b[0;34m,\u001b[0m \u001b[0mfont\u001b[0m\u001b[0;34m=\u001b[0m\u001b[0mtransposed_font\u001b[0m\u001b[0;34m)\u001b[0m\u001b[0;34m\u001b[0m\u001b[0;34m\u001b[0m\u001b[0m\n\u001b[0m\u001b[1;32m    509\u001b[0m                 \u001b[0;31m# find possible places using integral image:\u001b[0m\u001b[0;34m\u001b[0m\u001b[0;34m\u001b[0m\u001b[0;34m\u001b[0m\u001b[0m\n\u001b[1;32m    510\u001b[0m                 result = occupancy.sample_position(box_size[1] + self.margin,\n",
      "\u001b[0;31mAttributeError\u001b[0m: 'ImageDraw' object has no attribute 'textsize'"
     ]
    }
   ],
   "source": [
    "all_text = ' '.join(text for text in df_train['text_lemma'])\n",
    "\n",
    "# создаем облако слов\n",
    "wordcloud = WordCloud().generate(all_text)\n",
    "\n",
    "# выведем визуализацию\n",
    "plt.figure(figsize=(10, 6))\n",
    "plt.imshow(wordcloud)\n",
    "plt.axis(\"off\")\n",
    "plt.title(\"Word Cloud\")\n",
    "plt.show()"
   ]
  },
  {
   "cell_type": "markdown",
   "metadata": {},
   "source": [
    "### Векторизация с TfidfVectorizer "
   ]
  },
  {
   "cell_type": "code",
   "execution_count": 19,
   "metadata": {},
   "outputs": [],
   "source": [
    "# создание объекта tfidf векторизации c ngram-ми от 1 до 2\n",
    "tfidf = TfidfVectorizer(ngram_range=(1, 2), stop_words='english', dtype=np.float32)"
   ]
  },
  {
   "cell_type": "markdown",
   "metadata": {},
   "source": [
    "### LogisticRegression"
   ]
  },
  {
   "cell_type": "markdown",
   "metadata": {},
   "source": [
    "Перед обучением моделей расчитаем вектор весов для баланса классов."
   ]
  },
  {
   "cell_type": "code",
   "execution_count": 20,
   "metadata": {},
   "outputs": [],
   "source": [
    "# балансировка классов с помощью перевзвешивания\n",
    "pos_weight = 1 / np.mean(df_train['toxic'] == 1)\n",
    "wt = [pos_weight if cl == 1 else 1 for cl in df_train['toxic']]"
   ]
  },
  {
   "cell_type": "code",
   "execution_count": 21,
   "metadata": {},
   "outputs": [],
   "source": [
    "# пайплайн обучения модели\n",
    "model_lr = make_pipeline(tfidf, \n",
    "                         LogisticRegression(random_state=RAND_STATE, max_iter=500, n_jobs=-1))\n",
    "\n",
    "# задание сетки гиперпараметров для GridSearchCV\n",
    "param_grid = {\n",
    "    'logisticregression__solver':['liblinear'], # ['lbfgs', 'liblinear'],\n",
    "    'logisticregression__C': [9], # range(1, 11),\n",
    "}\n",
    "\n",
    "# модель для поиска оптимальных гиперпараметров по метрике F1\n",
    "grid_lr = GridSearchCV(\n",
    "    model_lr,\n",
    "    param_grid,\n",
    "    scoring='f1',\n",
    "    n_jobs=-1,\n",
    "    verbose=1\n",
    ")"
   ]
  },
  {
   "cell_type": "code",
   "execution_count": 22,
   "metadata": {},
   "outputs": [
    {
     "name": "stdout",
     "output_type": "stream",
     "text": [
      "Fitting 5 folds for each of 1 candidates, totalling 5 fits\n",
      "CPU times: user 3min 25s, sys: 1min 3s, total: 4min 28s\n",
      "Wall time: 4min 28s\n"
     ]
    },
    {
     "data": {
      "text/plain": [
       "GridSearchCV(estimator=Pipeline(steps=[('tfidfvectorizer',\n",
       "                                        TfidfVectorizer(dtype=<class 'numpy.float32'>,\n",
       "                                                        ngram_range=(1, 2),\n",
       "                                                        stop_words='english')),\n",
       "                                       ('logisticregression',\n",
       "                                        LogisticRegression(max_iter=500,\n",
       "                                                           n_jobs=-1,\n",
       "                                                           random_state=777))]),\n",
       "             n_jobs=-1,\n",
       "             param_grid={'logisticregression__C': [9],\n",
       "                         'logisticregression__solver': ['liblinear']},\n",
       "             scoring='f1', verbose=1)"
      ]
     },
     "execution_count": 22,
     "metadata": {},
     "output_type": "execute_result"
    }
   ],
   "source": [
    "%%time \n",
    "grid_lr.fit(df_train['text_lemma'], df_train['toxic'], logisticregression__sample_weight=wt)\n"
   ]
  },
  {
   "cell_type": "code",
   "execution_count": 23,
   "metadata": {},
   "outputs": [
    {
     "data": {
      "text/plain": [
       "{'logisticregression__C': 9, 'logisticregression__solver': 'liblinear'}"
      ]
     },
     "execution_count": 23,
     "metadata": {},
     "output_type": "execute_result"
    }
   ],
   "source": [
    "grid_lr.best_params_"
   ]
  },
  {
   "cell_type": "code",
   "execution_count": 24,
   "metadata": {},
   "outputs": [
    {
     "data": {
      "text/plain": [
       "0.7775365184847984"
      ]
     },
     "execution_count": 24,
     "metadata": {},
     "output_type": "execute_result"
    }
   ],
   "source": [
    "grid_lr.best_score_"
   ]
  },
  {
   "cell_type": "markdown",
   "metadata": {},
   "source": [
    "### SGDClassifier"
   ]
  },
  {
   "cell_type": "code",
   "execution_count": 25,
   "metadata": {},
   "outputs": [],
   "source": [
    "# пайплайн обучения модели\n",
    "model_sgd = make_pipeline(tfidf, \n",
    "                          SGDClassifier(random_state=RAND_STATE))\n",
    "\n",
    "# задание сетки гиперпараметров для GridSearchCV\n",
    "param_grid = {\n",
    "    'sgdclassifier__loss': ['modified_huber'], # ['hinge', 'log', 'modified_huber'],\n",
    "    'sgdclassifier__learning_rate': ['adaptive'], # ['constant', 'optimal', 'invscaling', 'adaptive'],\n",
    "    'sgdclassifier__eta0': [0.3] # [0.01, 0.05, 0.15, 0.2, 0.3, 0.5],\n",
    "}\n",
    "\n",
    "# модель для поиска оптимальных гиперпараметров по метрике F1\n",
    "grid_sgd = GridSearchCV(\n",
    "    model_sgd,\n",
    "    param_grid,\n",
    "    scoring='f1',\n",
    "    n_jobs=-1,\n",
    "    verbose=1\n",
    ")"
   ]
  },
  {
   "cell_type": "code",
   "execution_count": 26,
   "metadata": {},
   "outputs": [
    {
     "name": "stdout",
     "output_type": "stream",
     "text": [
      "Fitting 5 folds for each of 1 candidates, totalling 5 fits\n",
      "CPU times: user 2min 19s, sys: 3.08 s, total: 2min 22s\n",
      "Wall time: 2min 22s\n"
     ]
    },
    {
     "data": {
      "text/plain": [
       "GridSearchCV(estimator=Pipeline(steps=[('tfidfvectorizer',\n",
       "                                        TfidfVectorizer(dtype=<class 'numpy.float32'>,\n",
       "                                                        ngram_range=(1, 2),\n",
       "                                                        stop_words='english')),\n",
       "                                       ('sgdclassifier',\n",
       "                                        SGDClassifier(random_state=777))]),\n",
       "             n_jobs=-1,\n",
       "             param_grid={'sgdclassifier__eta0': [0.3],\n",
       "                         'sgdclassifier__learning_rate': ['adaptive'],\n",
       "                         'sgdclassifier__loss': ['modified_huber']},\n",
       "             scoring='f1', verbose=1)"
      ]
     },
     "execution_count": 26,
     "metadata": {},
     "output_type": "execute_result"
    }
   ],
   "source": [
    "%%time \n",
    "grid_sgd.fit(df_train['text_lemma'], df_train['toxic'], sgdclassifier__sample_weight=wt)"
   ]
  },
  {
   "cell_type": "code",
   "execution_count": 27,
   "metadata": {},
   "outputs": [
    {
     "data": {
      "text/plain": [
       "{'sgdclassifier__eta0': 0.3,\n",
       " 'sgdclassifier__learning_rate': 'adaptive',\n",
       " 'sgdclassifier__loss': 'modified_huber'}"
      ]
     },
     "execution_count": 27,
     "metadata": {},
     "output_type": "execute_result"
    }
   ],
   "source": [
    "grid_sgd.best_params_"
   ]
  },
  {
   "cell_type": "code",
   "execution_count": 28,
   "metadata": {},
   "outputs": [
    {
     "data": {
      "text/plain": [
       "0.7619874292790181"
      ]
     },
     "execution_count": 28,
     "metadata": {},
     "output_type": "execute_result"
    }
   ],
   "source": [
    "grid_sgd.best_score_"
   ]
  },
  {
   "cell_type": "markdown",
   "metadata": {},
   "source": [
    "### LGBMClassifier "
   ]
  },
  {
   "cell_type": "code",
   "execution_count": 29,
   "metadata": {},
   "outputs": [],
   "source": [
    "# пайплайн обучения модели\n",
    "model_lgb = make_pipeline(tfidf, \n",
    "                          LGBMClassifier(random_state=RAND_STATE, n_jobs=-1))\n",
    "\n",
    "# задание сетки гиперпараметров для GridSearchCV\n",
    "param_grid = {\n",
    "    'lgbmclassifier__n_estimators': [200], # [50, 100, 200, 300, 400, 500],\n",
    "    'lgbmclassifier__learning_rate': [0.25], # [0.01, 0.05, 0.15, 0.2, 0.25, 0.3, 0.5]\n",
    "    'lgbmclassifier__max_depth': [-1] # [-1, 2, 3, 4, 5, 6],}\n",
    "}\n",
    "\n",
    "# модель для поиска оптимальных гиперпараметров по метрике F1\n",
    "grid_lgb = GridSearchCV(\n",
    "    model_lgb,\n",
    "    param_grid,\n",
    "    scoring='f1',\n",
    "    n_jobs=-1,\n",
    "    verbose=1\n",
    ")"
   ]
  },
  {
   "cell_type": "code",
   "execution_count": 30,
   "metadata": {},
   "outputs": [
    {
     "name": "stdout",
     "output_type": "stream",
     "text": [
      "Fitting 5 folds for each of 1 candidates, totalling 5 fits\n",
      "CPU times: user 1h 4min 29s, sys: 1min, total: 1h 5min 29s\n",
      "Wall time: 1h 5min 56s\n"
     ]
    },
    {
     "data": {
      "text/plain": [
       "GridSearchCV(estimator=Pipeline(steps=[('tfidfvectorizer',\n",
       "                                        TfidfVectorizer(dtype=<class 'numpy.float32'>,\n",
       "                                                        ngram_range=(1, 2),\n",
       "                                                        stop_words='english')),\n",
       "                                       ('lgbmclassifier',\n",
       "                                        LGBMClassifier(random_state=777))]),\n",
       "             n_jobs=-1,\n",
       "             param_grid={'lgbmclassifier__learning_rate': [0.25],\n",
       "                         'lgbmclassifier__max_depth': [-1],\n",
       "                         'lgbmclassifier__n_estimators': [200]},\n",
       "             scoring='f1', verbose=1)"
      ]
     },
     "execution_count": 30,
     "metadata": {},
     "output_type": "execute_result"
    }
   ],
   "source": [
    "%%time \n",
    "grid_lgb.fit(df_train['text_lemma'], df_train['toxic'], lgbmclassifier__sample_weight=wt)"
   ]
  },
  {
   "cell_type": "code",
   "execution_count": 31,
   "metadata": {},
   "outputs": [
    {
     "data": {
      "text/plain": [
       "{'lgbmclassifier__learning_rate': 0.25,\n",
       " 'lgbmclassifier__max_depth': -1,\n",
       " 'lgbmclassifier__n_estimators': 200}"
      ]
     },
     "execution_count": 31,
     "metadata": {},
     "output_type": "execute_result"
    }
   ],
   "source": [
    "grid_lgb.best_params_"
   ]
  },
  {
   "cell_type": "code",
   "execution_count": 32,
   "metadata": {},
   "outputs": [
    {
     "data": {
      "text/plain": [
       "0.7503875065165118"
      ]
     },
     "execution_count": 32,
     "metadata": {},
     "output_type": "execute_result"
    }
   ],
   "source": [
    "grid_lgb.best_score_"
   ]
  },
  {
   "cell_type": "markdown",
   "metadata": {},
   "source": [
    "### Выбор лучшей модели"
   ]
  },
  {
   "cell_type": "markdown",
   "metadata": {},
   "source": [
    "Итоговая таблица по результатам обучения 3-х моделей (**LogisticRegression, SGDClissifier, LGBMClassifier**) на кросс-валидации с подбором гиперапараметров:"
   ]
  },
  {
   "cell_type": "code",
   "execution_count": 33,
   "metadata": {},
   "outputs": [
    {
     "data": {
      "text/html": [
       "<div>\n",
       "<style scoped>\n",
       "    .dataframe tbody tr th:only-of-type {\n",
       "        vertical-align: middle;\n",
       "    }\n",
       "\n",
       "    .dataframe tbody tr th {\n",
       "        vertical-align: top;\n",
       "    }\n",
       "\n",
       "    .dataframe thead th {\n",
       "        text-align: right;\n",
       "    }\n",
       "</style>\n",
       "<table border=\"1\" class=\"dataframe\">\n",
       "  <thead>\n",
       "    <tr style=\"text-align: right;\">\n",
       "      <th></th>\n",
       "      <th>F1 на CV</th>\n",
       "      <th>Время обучения на подобранных гиперпараметрах, CV-5</th>\n",
       "    </tr>\n",
       "  </thead>\n",
       "  <tbody>\n",
       "    <tr>\n",
       "      <th>LogisticRegression</th>\n",
       "      <td>0.778</td>\n",
       "      <td>≈5 мин.</td>\n",
       "    </tr>\n",
       "    <tr>\n",
       "      <th>SGDClassifier</th>\n",
       "      <td>0.762</td>\n",
       "      <td>≈3 мин.</td>\n",
       "    </tr>\n",
       "    <tr>\n",
       "      <th>LGBMClassifier</th>\n",
       "      <td>0.750</td>\n",
       "      <td>≈50 мин.</td>\n",
       "    </tr>\n",
       "  </tbody>\n",
       "</table>\n",
       "</div>"
      ],
      "text/plain": [
       "                    F1 на CV  \\\n",
       "LogisticRegression     0.778   \n",
       "SGDClassifier          0.762   \n",
       "LGBMClassifier         0.750   \n",
       "\n",
       "                   Время обучения на подобранных гиперпараметрах, CV-5  \n",
       "LogisticRegression                                            ≈5 мин.   \n",
       "SGDClassifier                                                 ≈3 мин.   \n",
       "LGBMClassifier                                               ≈50 мин.   "
      ]
     },
     "execution_count": 33,
     "metadata": {},
     "output_type": "execute_result"
    }
   ],
   "source": [
    "index = ['LogisticRegression', 'SGDClassifier', 'LGBMClassifier']\n",
    "data = {'F1 на CV': np.round([grid_lr.best_score_, grid_sgd.best_score_, grid_lgb.best_score_], 3),\n",
    "        'Время обучения на подобранных гиперпараметрах, CV-5':['≈5 мин.', '≈3 мин.', '≈50 мин.']}\n",
    "\n",
    "scores_df = pd.DataFrame(data=data, index=index)\n",
    "# вывод общей таблицы\n",
    "scores_df.sort_values('F1 на CV', ascending=False)"
   ]
  },
  {
   "cell_type": "markdown",
   "metadata": {},
   "source": [
    "Лучшая модель **LogisticRegression** на кросс-валидации показала лучшее качество по метрике **F1** - **0.778**, что подходит под условия задачи (`метрика F1 не ниже 0.75`). Так же, по времени обучения данная модель не сильно отстает от самой быстрой модели **SGDClassifier**."
   ]
  },
  {
   "cell_type": "markdown",
   "metadata": {},
   "source": [
    "### Проверка лучшей модели на тестовой выборке"
   ]
  },
  {
   "cell_type": "code",
   "execution_count": 34,
   "metadata": {},
   "outputs": [
    {
     "data": {
      "application/vnd.jupyter.widget-view+json": {
       "model_id": "8c20722a6fb14922aefe72a04016232e",
       "version_major": 2,
       "version_minor": 0
      },
      "text/plain": [
       "  0%|          | 0/39823 [00:00<?, ?it/s]"
      ]
     },
     "metadata": {},
     "output_type": "display_data"
    },
    {
     "data": {
      "application/vnd.jupyter.widget-view+json": {
       "model_id": "c314d71d4cbe419f9f15021d271a4dc9",
       "version_major": 2,
       "version_minor": 0
      },
      "text/plain": [
       "  0%|          | 0/39823 [00:00<?, ?it/s]"
      ]
     },
     "metadata": {},
     "output_type": "display_data"
    },
    {
     "data": {
      "text/html": [
       "<div>\n",
       "<style scoped>\n",
       "    .dataframe tbody tr th:only-of-type {\n",
       "        vertical-align: middle;\n",
       "    }\n",
       "\n",
       "    .dataframe tbody tr th {\n",
       "        vertical-align: top;\n",
       "    }\n",
       "\n",
       "    .dataframe thead th {\n",
       "        text-align: right;\n",
       "    }\n",
       "</style>\n",
       "<table border=\"1\" class=\"dataframe\">\n",
       "  <thead>\n",
       "    <tr style=\"text-align: right;\">\n",
       "      <th></th>\n",
       "      <th>text</th>\n",
       "      <th>toxic</th>\n",
       "      <th>clean_text</th>\n",
       "      <th>text_lemma</th>\n",
       "    </tr>\n",
       "  </thead>\n",
       "  <tbody>\n",
       "    <tr>\n",
       "      <th>49869</th>\n",
       "      <td>\"\\n Please read WP:RS to find what sorts of so...</td>\n",
       "      <td>0</td>\n",
       "      <td>Please read WP RS to find what sorts of source...</td>\n",
       "      <td>Please read WP RS to find what sort of source ...</td>\n",
       "    </tr>\n",
       "    <tr>\n",
       "      <th>4554</th>\n",
       "      <td>James....Are you suggesting that because I kno...</td>\n",
       "      <td>0</td>\n",
       "      <td>James    Are you suggesting that because I kno...</td>\n",
       "      <td>James Are you suggest that because I know some...</td>\n",
       "    </tr>\n",
       "    <tr>\n",
       "      <th>91708</th>\n",
       "      <td>\"\\n\\nThis is some of the reviews of Saab lofto...</td>\n",
       "      <td>0</td>\n",
       "      <td>This is some of the reviews of Saab loftons wo...</td>\n",
       "      <td>This be some of the review of Saab loftons wor...</td>\n",
       "    </tr>\n",
       "    <tr>\n",
       "      <th>92890</th>\n",
       "      <td>The problem is that you are assuming that some...</td>\n",
       "      <td>0</td>\n",
       "      <td>The problem is that you are assuming that some...</td>\n",
       "      <td>The problem be that you be assume that someone...</td>\n",
       "    </tr>\n",
       "    <tr>\n",
       "      <th>11685</th>\n",
       "      <td>Hi, I'm Jackie Fargo daughter, fyi .. he has 3...</td>\n",
       "      <td>0</td>\n",
       "      <td>Hi  I m Jackie Fargo daughter  fyi    he has  ...</td>\n",
       "      <td>Hi I m Jackie Fargo daughter fyi he have daugh...</td>\n",
       "    </tr>\n",
       "    <tr>\n",
       "      <th>131711</th>\n",
       "      <td>if that is what it meant the last version was ...</td>\n",
       "      <td>0</td>\n",
       "      <td>if that is what it meant the last version was ...</td>\n",
       "      <td>if that be what it meant the last version be t...</td>\n",
       "    </tr>\n",
       "    <tr>\n",
       "      <th>102899</th>\n",
       "      <td>GOOD FOR YOU\\nI was hoping to find an email fo...</td>\n",
       "      <td>0</td>\n",
       "      <td>GOOD FOR YOU I was hoping to find an email for...</td>\n",
       "      <td>GOOD FOR YOU I be hop to find an email for you...</td>\n",
       "    </tr>\n",
       "    <tr>\n",
       "      <th>113822</th>\n",
       "      <td>Not sure if the story about the Pope telling a...</td>\n",
       "      <td>0</td>\n",
       "      <td>Not sure if the story about the Pope telling a...</td>\n",
       "      <td>Not sure if the story about the Pope tell a gu...</td>\n",
       "    </tr>\n",
       "    <tr>\n",
       "      <th>127446</th>\n",
       "      <td>Not notable to the aircraft, Chinese (or somet...</td>\n",
       "      <td>0</td>\n",
       "      <td>Not notable to the aircraft  Chinese  or somet...</td>\n",
       "      <td>Not notable to the aircraft Chinese or sometim...</td>\n",
       "    </tr>\n",
       "    <tr>\n",
       "      <th>80610</th>\n",
       "      <td>\"\\n\\n Bibliography Revamp with Serialisation \\...</td>\n",
       "      <td>0</td>\n",
       "      <td>Bibliography Revamp with Serialisation   I m p...</td>\n",
       "      <td>Bibliography Revamp with Serialisation I m pro...</td>\n",
       "    </tr>\n",
       "  </tbody>\n",
       "</table>\n",
       "</div>"
      ],
      "text/plain": [
       "                                                     text  toxic  \\\n",
       "49869   \"\\n Please read WP:RS to find what sorts of so...      0   \n",
       "4554    James....Are you suggesting that because I kno...      0   \n",
       "91708   \"\\n\\nThis is some of the reviews of Saab lofto...      0   \n",
       "92890   The problem is that you are assuming that some...      0   \n",
       "11685   Hi, I'm Jackie Fargo daughter, fyi .. he has 3...      0   \n",
       "131711  if that is what it meant the last version was ...      0   \n",
       "102899  GOOD FOR YOU\\nI was hoping to find an email fo...      0   \n",
       "113822  Not sure if the story about the Pope telling a...      0   \n",
       "127446  Not notable to the aircraft, Chinese (or somet...      0   \n",
       "80610   \"\\n\\n Bibliography Revamp with Serialisation \\...      0   \n",
       "\n",
       "                                               clean_text  \\\n",
       "49869   Please read WP RS to find what sorts of source...   \n",
       "4554    James    Are you suggesting that because I kno...   \n",
       "91708   This is some of the reviews of Saab loftons wo...   \n",
       "92890   The problem is that you are assuming that some...   \n",
       "11685   Hi  I m Jackie Fargo daughter  fyi    he has  ...   \n",
       "131711  if that is what it meant the last version was ...   \n",
       "102899  GOOD FOR YOU I was hoping to find an email for...   \n",
       "113822  Not sure if the story about the Pope telling a...   \n",
       "127446  Not notable to the aircraft  Chinese  or somet...   \n",
       "80610   Bibliography Revamp with Serialisation   I m p...   \n",
       "\n",
       "                                               text_lemma  \n",
       "49869   Please read WP RS to find what sort of source ...  \n",
       "4554    James Are you suggest that because I know some...  \n",
       "91708   This be some of the review of Saab loftons wor...  \n",
       "92890   The problem be that you be assume that someone...  \n",
       "11685   Hi I m Jackie Fargo daughter fyi he have daugh...  \n",
       "131711  if that be what it meant the last version be t...  \n",
       "102899  GOOD FOR YOU I be hop to find an email for you...  \n",
       "113822  Not sure if the story about the Pope tell a gu...  \n",
       "127446  Not notable to the aircraft Chinese or sometim...  \n",
       "80610   Bibliography Revamp with Serialisation I m pro...  "
      ]
     },
     "execution_count": 34,
     "metadata": {},
     "output_type": "execute_result"
    }
   ],
   "source": [
    "# очистим текст в обучающей выборке\n",
    "df_test['clean_text'] = df_test.progress_apply(text_clean, axis=1)\n",
    "\n",
    "# токенизация и лемматизация\n",
    "df_test['text_lemma'] = df_test.progress_apply(get_token_lemma, axis=1)\n",
    "\n",
    "# вывод результатов на примере 10 записей\n",
    "df_test.sample(10)"
   ]
  },
  {
   "cell_type": "code",
   "execution_count": 35,
   "metadata": {},
   "outputs": [
    {
     "name": "stdout",
     "output_type": "stream",
     "text": [
      "F1 на тестовой выборке: 0.7775746496039\n"
     ]
    },
    {
     "data": {
      "text/html": [
       "<div>\n",
       "<style scoped>\n",
       "    .dataframe tbody tr th:only-of-type {\n",
       "        vertical-align: middle;\n",
       "    }\n",
       "\n",
       "    .dataframe tbody tr th {\n",
       "        vertical-align: top;\n",
       "    }\n",
       "\n",
       "    .dataframe thead th {\n",
       "        text-align: right;\n",
       "    }\n",
       "</style>\n",
       "<table border=\"1\" class=\"dataframe\">\n",
       "  <thead>\n",
       "    <tr style=\"text-align: right;\">\n",
       "      <th></th>\n",
       "      <th>precision</th>\n",
       "      <th>recall</th>\n",
       "      <th>f1-score</th>\n",
       "      <th>support</th>\n",
       "    </tr>\n",
       "  </thead>\n",
       "  <tbody>\n",
       "    <tr>\n",
       "      <th>0</th>\n",
       "      <td>0.976</td>\n",
       "      <td>0.973</td>\n",
       "      <td>0.974</td>\n",
       "      <td>35776.000</td>\n",
       "    </tr>\n",
       "    <tr>\n",
       "      <th>1</th>\n",
       "      <td>0.767</td>\n",
       "      <td>0.788</td>\n",
       "      <td>0.778</td>\n",
       "      <td>4047.000</td>\n",
       "    </tr>\n",
       "    <tr>\n",
       "      <th>accuracy</th>\n",
       "      <td>0.954</td>\n",
       "      <td>0.954</td>\n",
       "      <td>0.954</td>\n",
       "      <td>0.954</td>\n",
       "    </tr>\n",
       "    <tr>\n",
       "      <th>macro avg</th>\n",
       "      <td>0.872</td>\n",
       "      <td>0.881</td>\n",
       "      <td>0.876</td>\n",
       "      <td>39823.000</td>\n",
       "    </tr>\n",
       "    <tr>\n",
       "      <th>weighted avg</th>\n",
       "      <td>0.955</td>\n",
       "      <td>0.954</td>\n",
       "      <td>0.954</td>\n",
       "      <td>39823.000</td>\n",
       "    </tr>\n",
       "  </tbody>\n",
       "</table>\n",
       "</div>"
      ],
      "text/plain": [
       "              precision  recall  f1-score    support\n",
       "0                 0.976   0.973     0.974  35776.000\n",
       "1                 0.767   0.788     0.778   4047.000\n",
       "accuracy          0.954   0.954     0.954      0.954\n",
       "macro avg         0.872   0.881     0.876  39823.000\n",
       "weighted avg      0.955   0.954     0.954  39823.000"
      ]
     },
     "execution_count": 35,
     "metadata": {},
     "output_type": "execute_result"
    }
   ],
   "source": [
    "# предсказание целевого класса на тестовой (отложенной) выборке\n",
    "predict = grid_lr.predict(df_test['text_lemma'])\n",
    "print('F1 на тестовой выборке:', f1_score(predict, df_test['toxic']))\n",
    "\n",
    "# оценка качества предсказания модели\n",
    "cr_tresh_lr = classification_report(df_test['toxic'], predict, output_dict=True, zero_division=0)\n",
    "\n",
    "# вывод метрик качества\n",
    "pd.DataFrame(cr_tresh_lr).round(decimals=3).transpose()"
   ]
  },
  {
   "cell_type": "markdown",
   "metadata": {},
   "source": [
    "Метрика качества **F1** на тестовой выборке: **0.778**, что удовлетворяет условиям задачи. Так как в данных присутствует сильный дисбаланс классов, то стоит дополнительно рассмотерть так же две метрики: **precision** и **recall**. \n",
    "На тестовой выборке модель **LogisticRegression** довольно хорошо распознает целевой класс, даже с учетом его сильной **миноритарности**. Так как в рамках задачи приоритетней выявлять потенциально негативные комментарии, даже если они не являются таковыми, метрика **recall** со значением **0.788**, что выше чем метрика **precision** со значением **0.767**, важнее и показывает хороший результат прогнозирования модели."
   ]
  },
  {
   "cell_type": "code",
   "execution_count": 36,
   "metadata": {},
   "outputs": [
    {
     "data": {
      "image/png": "[encoded data removed]",
      "text/plain": [
       "<Figure size 1008x576 with 2 Axes>"
      ]
     },
     "metadata": {
      "needs_background": "light"
     },
     "output_type": "display_data"
    }
   ],
   "source": [
    "# выведем матрицу ошибок на тестовой выборке\n",
    "cm = confusion_matrix(df_test['toxic'], predict, labels=grid_lr.classes_)\n",
    "\n",
    "fig, ax = plt.subplots(figsize=(14, 8))\n",
    "cmd = ConfusionMatrixDisplay(cm, display_labels=grid_lr.classes_)\n",
    "cmd.plot(ax=ax)\n",
    "ax.set_title('Матрица ошибок')\n",
    "ax.set_xlabel('Предсказанные значения')\n",
    "ax.set_ylabel('Фактические значения');"
   ]
  },
  {
   "cell_type": "markdown",
   "metadata": {},
   "source": [
    "В тестовой выборке из **39 823 записей**, среди **4 047 негативных комментариев** модель `логистической регрессии` смогла верно предсказать **3 190 таких комментария**.   "
   ]
  },
  {
   "cell_type": "markdown",
   "metadata": {},
   "source": [
    "### Важные для модели признаки"
   ]
  },
  {
   "cell_type": "code",
   "execution_count": 37,
   "metadata": {},
   "outputs": [
    {
     "data": {
      "image/png": "[encoded data removed]",
      "text/plain": [
       "<Figure size 1440x1080 with 1 Axes>"
      ]
     },
     "metadata": {
      "needs_background": "light"
     },
     "output_type": "display_data"
    }
   ],
   "source": [
    "words = grid_lr.best_estimator_.named_steps['tfidfvectorizer'].get_feature_names()    \n",
    "weights = grid_lr.best_estimator_.named_steps['logisticregression'].coef_[0]\n",
    "\n",
    "feat_importance_df_top_20 = (pd.DataFrame({'words': words, 'weights': weights})\n",
    "                             .sort_values('weights', ascending=False)\n",
    "                             .head(20))\n",
    "\n",
    "plt.figure(figsize=(20, 15))\n",
    "sns.barplot(data=feat_importance_df_top_20, x='weights', y='words')\n",
    "plt.title(\"Важность признаков (слов/ngramm)\")\n",
    "plt.xlabel(\"Frequency\")\n",
    "plt.ylabel(\"Keyword\")\n",
    "plt.tight_layout()\n",
    "plt.show()"
   ]
  },
  {
   "cell_type": "markdown",
   "metadata": {},
   "source": [
    "## Выводы"
   ]
  },
  {
   "cell_type": "markdown",
   "metadata": {},
   "source": [
    "**В ходе работы было выполнено**:\n",
    "1. загружены данные, проведена начальная предобработка (данные проверены на пропуски, аномальные значения, дубликаты);\n",
    "2. данные предварительно разбиты на обучающую и тестовую выборки;\n",
    "3. проведен анализ бинарного целевого признака (`токсичность комментария`), выявлен сильный дисбаланс классов;\n",
    "4. проведена очистка текстов комментариев от лишних небуквенных символов с помощью `регулярных выражений1`;\n",
    "5. проведена токенизация и лемматизация очищенных текстов с помощью библиотеки **nltk**;\n",
    "6. тексты преобразованы в векторное представление с помощью **TfidfVectorizer** с **n-граммами от 1 до 2**;\n",
    "7. обучены с подбором гиперпараметров 3 модели с перекрестной проверкой метрики **F1** на 5 фолдах: **LogisticRegression**, **SGDClassifier**, **LGBMClassifier**. Для баланса классов применен метод перевзвешивания с использованием **sample_weight** в методе **fit**;\n",
    "8. выбрана лучшая модель по результатам **метрики F1** (модель `логистической регрессии`);\n",
    "9. лучшая модель оценена на тестовой (отложенной) выборке;\n",
    "10. сделан вывод и даны рекомендации для возможного улучшения работы.\n",
    "\n",
    "Лучшей моделью по метрике **F1** на кросс-валидации признана модель **LogisticRegression** (**F1 на CV - 0.781**, **F1 на тестовой выборке - 0.777**). Качество модели на тестовой выборке подходит под условия Заказчика (**F1 не более 0.75**). Так же, по времени обучения данная модель не сильно отстает от самой быстрой модели **SGDClassifier** .\n",
    "\n",
    "На тестовой выборке модель **LogisticRegression** довольно хорошо распознает целевой класс, даже с учетом его сильной **миноритарности**. Так как в рамках задачи приоритетней выявлять потенциально негативные комментарии, даже если они не являются таковыми, метрика **recall** со значением **0.786**, что выше чем метрика **precision** со значением **0.769**, важнее и показывает хороший результат прогнозирования модели.\n",
    "\n",
    "В тестовой выборке из **39 823 записей**, среди **4 047 негативных комментариев** модель `логистической регрессии` смогла верно предсказать **3 182 таких комментария**.   \n",
    "\n",
    "\n",
    "## Рекомендации:\n",
    "1. Найти причину наличия одинаковых комментариев с разной разметкой по целевому классу. Уточнить как размечались данные.\n",
    "2. Наличие странных небуквенных символьных комментариев может указывать на попытку взлома, либо техническую неисправность. \n",
    "3. Доработать проект с использованием эмбеддингов (**BERT**)."
   ]
  },
  {
   "cell_type": "code",
   "execution_count": null,
   "metadata": {},
   "outputs": [],
   "source": []
  }
 ],
 "metadata": {
  "ExecuteTimeLog": [
   {
    "duration": 3617,
    "start_time": "2023-08-07T12:31:57.530Z"
   },
   {
    "duration": 6,
    "start_time": "2023-08-07T12:33:12.172Z"
   },
   {
    "duration": 31,
    "start_time": "2023-08-07T12:33:19.086Z"
   },
   {
    "duration": 3,
    "start_time": "2023-08-07T12:35:02.093Z"
   },
   {
    "duration": 3323,
    "start_time": "2023-08-07T12:35:26.117Z"
   },
   {
    "duration": 919,
    "start_time": "2023-08-07T12:36:22.680Z"
   },
   {
    "duration": 957,
    "start_time": "2023-08-07T12:36:51.953Z"
   },
   {
    "duration": 936,
    "start_time": "2023-08-07T12:37:01.787Z"
   },
   {
    "duration": 50,
    "start_time": "2023-08-08T10:54:14.051Z"
   },
   {
    "duration": 6,
    "start_time": "2023-08-08T10:54:16.841Z"
   },
   {
    "duration": 4609,
    "start_time": "2023-08-08T10:54:23.982Z"
   },
   {
    "duration": 8,
    "start_time": "2023-08-08T10:54:28.594Z"
   },
   {
    "duration": 2757,
    "start_time": "2023-08-08T10:54:28.604Z"
   },
   {
    "duration": 27,
    "start_time": "2023-08-08T10:54:31.363Z"
   },
   {
    "duration": 128,
    "start_time": "2023-08-08T10:55:21.783Z"
   },
   {
    "duration": 37,
    "start_time": "2023-08-08T10:55:29.057Z"
   },
   {
    "duration": 40,
    "start_time": "2023-08-08T10:55:47.932Z"
   },
   {
    "duration": 32,
    "start_time": "2023-08-08T10:56:17.174Z"
   },
   {
    "duration": 450,
    "start_time": "2023-08-08T10:56:29.063Z"
   },
   {
    "duration": 32,
    "start_time": "2023-08-08T10:56:35.152Z"
   },
   {
    "duration": 36,
    "start_time": "2023-08-08T10:57:06.704Z"
   },
   {
    "duration": 32,
    "start_time": "2023-08-08T10:57:18.635Z"
   },
   {
    "duration": 35,
    "start_time": "2023-08-08T10:57:54.175Z"
   },
   {
    "duration": 27,
    "start_time": "2023-08-08T10:58:00.414Z"
   },
   {
    "duration": 35,
    "start_time": "2023-08-08T10:58:13.775Z"
   },
   {
    "duration": 35,
    "start_time": "2023-08-08T10:58:17.262Z"
   },
   {
    "duration": 41,
    "start_time": "2023-08-08T10:58:27.092Z"
   },
   {
    "duration": 34,
    "start_time": "2023-08-08T10:58:36.411Z"
   },
   {
    "duration": 3807,
    "start_time": "2023-08-08T10:59:10.131Z"
   },
   {
    "duration": 4,
    "start_time": "2023-08-08T10:59:39.261Z"
   },
   {
    "duration": 4124,
    "start_time": "2023-08-08T11:02:18.721Z"
   },
   {
    "duration": 14,
    "start_time": "2023-08-08T11:03:52.421Z"
   },
   {
    "duration": 5,
    "start_time": "2023-08-08T11:04:09.791Z"
   },
   {
    "duration": 53,
    "start_time": "2023-08-08T11:04:24.293Z"
   },
   {
    "duration": 47,
    "start_time": "2023-08-08T11:04:37.813Z"
   },
   {
    "duration": 16,
    "start_time": "2023-08-08T11:04:41.471Z"
   },
   {
    "duration": 12,
    "start_time": "2023-08-08T11:04:53.112Z"
   },
   {
    "duration": 5,
    "start_time": "2023-08-08T11:05:01.531Z"
   },
   {
    "duration": 46,
    "start_time": "2023-08-08T11:05:08.781Z"
   },
   {
    "duration": 48,
    "start_time": "2023-08-08T11:05:28.461Z"
   },
   {
    "duration": 53,
    "start_time": "2023-08-08T11:05:36.372Z"
   },
   {
    "duration": 128,
    "start_time": "2023-08-08T11:07:45.131Z"
   },
   {
    "duration": 3628,
    "start_time": "2023-08-08T11:13:15.653Z"
   },
   {
    "duration": 64,
    "start_time": "2023-08-08T11:13:26.570Z"
   },
   {
    "duration": 71,
    "start_time": "2023-08-08T11:13:28.741Z"
   },
   {
    "duration": 7,
    "start_time": "2023-08-08T11:16:42.131Z"
   },
   {
    "duration": 8,
    "start_time": "2023-08-08T11:17:10.051Z"
   },
   {
    "duration": 7,
    "start_time": "2023-08-08T11:17:20.492Z"
   },
   {
    "duration": 7,
    "start_time": "2023-08-08T11:17:25.211Z"
   },
   {
    "duration": 6,
    "start_time": "2023-08-08T11:17:32.871Z"
   },
   {
    "duration": 79,
    "start_time": "2023-08-08T11:17:50.671Z"
   },
   {
    "duration": 104,
    "start_time": "2023-08-08T11:17:52.871Z"
   },
   {
    "duration": 158,
    "start_time": "2023-08-08T11:18:02.599Z"
   },
   {
    "duration": 6,
    "start_time": "2023-08-08T11:18:18.762Z"
   },
   {
    "duration": 7,
    "start_time": "2023-08-08T11:18:34.251Z"
   },
   {
    "duration": 8,
    "start_time": "2023-08-08T11:19:35.304Z"
   },
   {
    "duration": 150,
    "start_time": "2023-08-08T11:24:08.352Z"
   },
   {
    "duration": 16,
    "start_time": "2023-08-08T11:24:16.838Z"
   },
   {
    "duration": 121,
    "start_time": "2023-08-08T11:24:47.101Z"
   },
   {
    "duration": 193,
    "start_time": "2023-08-08T11:25:43.348Z"
   },
   {
    "duration": 15,
    "start_time": "2023-08-08T11:25:51.469Z"
   },
   {
    "duration": 20,
    "start_time": "2023-08-08T11:25:55.228Z"
   },
   {
    "duration": 10,
    "start_time": "2023-08-08T11:26:08.108Z"
   },
   {
    "duration": 127,
    "start_time": "2023-08-08T11:27:08.129Z"
   },
   {
    "duration": 146,
    "start_time": "2023-08-08T11:27:44.113Z"
   },
   {
    "duration": 142,
    "start_time": "2023-08-08T11:27:47.275Z"
   },
   {
    "duration": 121,
    "start_time": "2023-08-08T11:27:51.150Z"
   },
   {
    "duration": 130,
    "start_time": "2023-08-08T11:28:01.871Z"
   },
   {
    "duration": 125,
    "start_time": "2023-08-08T11:28:08.978Z"
   },
   {
    "duration": 104,
    "start_time": "2023-08-08T11:28:42.969Z"
   },
   {
    "duration": 121,
    "start_time": "2023-08-08T11:29:00.649Z"
   },
   {
    "duration": 130,
    "start_time": "2023-08-08T11:29:22.311Z"
   },
   {
    "duration": 132,
    "start_time": "2023-08-08T11:30:37.710Z"
   },
   {
    "duration": 224,
    "start_time": "2023-08-08T13:12:55.640Z"
   },
   {
    "duration": 193,
    "start_time": "2023-08-08T13:13:02.386Z"
   },
   {
    "duration": 196,
    "start_time": "2023-08-08T13:13:06.402Z"
   },
   {
    "duration": 89,
    "start_time": "2023-08-08T13:23:06.148Z"
   },
   {
    "duration": 433,
    "start_time": "2023-08-08T13:23:19.310Z"
   },
   {
    "duration": 730,
    "start_time": "2023-08-08T13:24:05.142Z"
   },
   {
    "duration": 533,
    "start_time": "2023-08-08T13:24:38.085Z"
   },
   {
    "duration": 6492,
    "start_time": "2023-08-08T13:24:44.070Z"
   },
   {
    "duration": 6102,
    "start_time": "2023-08-08T13:25:14.568Z"
   },
   {
    "duration": 30,
    "start_time": "2023-08-08T13:26:15.767Z"
   },
   {
    "duration": 29,
    "start_time": "2023-08-08T13:26:19.465Z"
   },
   {
    "duration": 30,
    "start_time": "2023-08-08T13:26:57.826Z"
   },
   {
    "duration": 29,
    "start_time": "2023-08-08T13:27:00.336Z"
   },
   {
    "duration": 6059,
    "start_time": "2023-08-08T13:27:13.943Z"
   },
   {
    "duration": 27,
    "start_time": "2023-08-08T13:27:21.707Z"
   },
   {
    "duration": 32,
    "start_time": "2023-08-08T13:27:26.613Z"
   },
   {
    "duration": 30,
    "start_time": "2023-08-08T13:28:14.438Z"
   },
   {
    "duration": 62,
    "start_time": "2023-08-08T13:29:27.235Z"
   },
   {
    "duration": 42,
    "start_time": "2023-08-08T13:29:32.697Z"
   },
   {
    "duration": 7,
    "start_time": "2023-08-08T13:29:42.260Z"
   },
   {
    "duration": 127,
    "start_time": "2023-08-08T13:29:45.815Z"
   },
   {
    "duration": 47,
    "start_time": "2023-08-08T13:29:59.534Z"
   },
   {
    "duration": 64,
    "start_time": "2023-08-08T13:30:53.554Z"
   },
   {
    "duration": 3292,
    "start_time": "2023-08-09T05:31:31.209Z"
   },
   {
    "duration": 4,
    "start_time": "2023-08-09T05:31:34.503Z"
   },
   {
    "duration": 2418,
    "start_time": "2023-08-09T05:31:34.508Z"
   },
   {
    "duration": 20,
    "start_time": "2023-08-09T05:31:36.927Z"
   },
   {
    "duration": 61,
    "start_time": "2023-08-09T05:31:36.949Z"
   },
   {
    "duration": 5714,
    "start_time": "2023-08-09T05:31:37.012Z"
   },
   {
    "duration": 35,
    "start_time": "2023-08-09T05:31:42.727Z"
   },
   {
    "duration": 83,
    "start_time": "2023-08-09T05:31:42.764Z"
   },
   {
    "duration": 8,
    "start_time": "2023-08-09T05:31:42.848Z"
   },
   {
    "duration": 125,
    "start_time": "2023-08-09T05:31:42.857Z"
   },
   {
    "duration": 408,
    "start_time": "2023-08-09T05:31:42.984Z"
   },
   {
    "duration": 80,
    "start_time": "2023-08-09T11:02:59.956Z"
   },
   {
    "duration": 68,
    "start_time": "2023-08-09T11:03:15.232Z"
   },
   {
    "duration": 23,
    "start_time": "2023-08-09T11:03:22.670Z"
   },
   {
    "duration": 28,
    "start_time": "2023-08-09T11:03:40.964Z"
   },
   {
    "duration": 32,
    "start_time": "2023-08-09T11:04:10.162Z"
   },
   {
    "duration": 23,
    "start_time": "2023-08-09T11:04:37.845Z"
   },
   {
    "duration": 1618,
    "start_time": "2023-08-09T11:04:45.880Z"
   },
   {
    "duration": 37,
    "start_time": "2023-08-09T11:05:00.681Z"
   },
   {
    "duration": 44,
    "start_time": "2023-08-09T11:05:33.690Z"
   },
   {
    "duration": 123,
    "start_time": "2023-08-09T11:07:00.590Z"
   },
   {
    "duration": 33,
    "start_time": "2023-08-09T11:07:15.752Z"
   },
   {
    "duration": 33,
    "start_time": "2023-08-09T11:07:32.813Z"
   },
   {
    "duration": 28,
    "start_time": "2023-08-09T11:09:40.720Z"
   },
   {
    "duration": 48,
    "start_time": "2023-08-09T11:09:55.321Z"
   },
   {
    "duration": 36,
    "start_time": "2023-08-09T11:10:20.177Z"
   },
   {
    "duration": 36,
    "start_time": "2023-08-09T11:10:28.162Z"
   },
   {
    "duration": 33,
    "start_time": "2023-08-09T11:10:40.160Z"
   },
   {
    "duration": 43,
    "start_time": "2023-08-09T11:10:44.972Z"
   },
   {
    "duration": 43,
    "start_time": "2023-08-09T11:10:56.879Z"
   },
   {
    "duration": 31,
    "start_time": "2023-08-09T11:11:13.330Z"
   },
   {
    "duration": 62,
    "start_time": "2023-08-09T11:11:23.299Z"
   },
   {
    "duration": 35,
    "start_time": "2023-08-09T11:11:54.780Z"
   },
   {
    "duration": 65,
    "start_time": "2023-08-09T11:12:58.957Z"
   },
   {
    "duration": 57,
    "start_time": "2023-08-09T11:13:15.370Z"
   },
   {
    "duration": 47,
    "start_time": "2023-08-09T11:13:38.180Z"
   },
   {
    "duration": 41,
    "start_time": "2023-08-09T11:14:14.920Z"
   },
   {
    "duration": 36,
    "start_time": "2023-08-09T11:14:26.849Z"
   },
   {
    "duration": 35,
    "start_time": "2023-08-09T11:14:44.330Z"
   },
   {
    "duration": 34,
    "start_time": "2023-08-09T11:14:57.239Z"
   },
   {
    "duration": 49,
    "start_time": "2023-08-09T11:15:36.570Z"
   },
   {
    "duration": 52,
    "start_time": "2023-08-09T11:16:08.570Z"
   },
   {
    "duration": 32,
    "start_time": "2023-08-09T11:16:22.079Z"
   },
   {
    "duration": 17,
    "start_time": "2023-08-09T11:17:08.174Z"
   },
   {
    "duration": 34,
    "start_time": "2023-08-09T11:17:20.589Z"
   },
   {
    "duration": 25,
    "start_time": "2023-08-09T11:17:31.720Z"
   },
   {
    "duration": 26,
    "start_time": "2023-08-09T11:17:57.051Z"
   },
   {
    "duration": 41,
    "start_time": "2023-08-09T11:20:15.990Z"
   },
   {
    "duration": 39,
    "start_time": "2023-08-09T11:20:54.511Z"
   },
   {
    "duration": 37,
    "start_time": "2023-08-09T11:21:13.652Z"
   },
   {
    "duration": 41,
    "start_time": "2023-08-09T11:21:21.015Z"
   },
   {
    "duration": 40,
    "start_time": "2023-08-09T11:21:27.929Z"
   },
   {
    "duration": 22,
    "start_time": "2023-08-09T11:30:18.998Z"
   },
   {
    "duration": 933,
    "start_time": "2023-08-09T11:30:20.248Z"
   },
   {
    "duration": 16,
    "start_time": "2023-08-09T11:30:31.138Z"
   },
   {
    "duration": 55,
    "start_time": "2023-08-09T11:30:43.978Z"
   },
   {
    "duration": 59,
    "start_time": "2023-08-09T11:31:48.650Z"
   },
   {
    "duration": 68,
    "start_time": "2023-08-09T11:31:56.316Z"
   },
   {
    "duration": 62,
    "start_time": "2023-08-09T11:33:03.132Z"
   },
   {
    "duration": 23,
    "start_time": "2023-08-09T11:33:10.326Z"
   },
   {
    "duration": 44,
    "start_time": "2023-08-09T11:33:25.824Z"
   },
   {
    "duration": 4594,
    "start_time": "2023-08-09T11:35:08.227Z"
   },
   {
    "duration": 4731,
    "start_time": "2023-08-09T11:35:15.287Z"
   },
   {
    "duration": 59,
    "start_time": "2023-08-09T11:36:03.117Z"
   },
   {
    "duration": 23,
    "start_time": "2023-08-09T11:36:04.437Z"
   },
   {
    "duration": 48,
    "start_time": "2023-08-09T11:36:05.346Z"
   },
   {
    "duration": 4891,
    "start_time": "2023-08-09T11:36:06.283Z"
   },
   {
    "duration": 62,
    "start_time": "2023-08-09T11:36:49.485Z"
   },
   {
    "duration": 22,
    "start_time": "2023-08-09T11:36:50.436Z"
   },
   {
    "duration": 63,
    "start_time": "2023-08-09T11:36:50.916Z"
   },
   {
    "duration": 4998,
    "start_time": "2023-08-09T11:36:51.967Z"
   },
   {
    "duration": 1457,
    "start_time": "2023-08-09T11:37:02.916Z"
   },
   {
    "duration": 39,
    "start_time": "2023-08-09T11:37:12.962Z"
   },
   {
    "duration": 30,
    "start_time": "2023-08-09T11:37:35.721Z"
   },
   {
    "duration": 7,
    "start_time": "2023-08-09T11:38:34.126Z"
   },
   {
    "duration": 107,
    "start_time": "2023-08-09T11:38:44.618Z"
   },
   {
    "duration": 113,
    "start_time": "2023-08-09T11:39:51.323Z"
   },
   {
    "duration": 86,
    "start_time": "2023-08-09T11:39:54.635Z"
   },
   {
    "duration": 93,
    "start_time": "2023-08-09T11:40:00.126Z"
   },
   {
    "duration": 97,
    "start_time": "2023-08-09T11:40:12.419Z"
   },
   {
    "duration": 106,
    "start_time": "2023-08-09T11:40:26.083Z"
   },
   {
    "duration": 91,
    "start_time": "2023-08-09T11:40:32.539Z"
   },
   {
    "duration": 84,
    "start_time": "2023-08-09T11:40:35.733Z"
   },
   {
    "duration": 84,
    "start_time": "2023-08-09T11:40:45.898Z"
   },
   {
    "duration": 118,
    "start_time": "2023-08-09T11:41:03.738Z"
   },
   {
    "duration": 97,
    "start_time": "2023-08-09T11:50:04.900Z"
   },
   {
    "duration": 119,
    "start_time": "2023-08-09T11:50:19.330Z"
   },
   {
    "duration": 46,
    "start_time": "2023-08-09T11:50:27.518Z"
   },
   {
    "duration": 68,
    "start_time": "2023-08-09T11:52:00.165Z"
   },
   {
    "duration": 41,
    "start_time": "2023-08-09T11:52:10.818Z"
   },
   {
    "duration": 5,
    "start_time": "2023-08-09T11:52:44.834Z"
   },
   {
    "duration": 4,
    "start_time": "2023-08-09T11:53:02.979Z"
   },
   {
    "duration": 40,
    "start_time": "2023-08-09T11:55:58.958Z"
   },
   {
    "duration": 46,
    "start_time": "2023-08-09T11:56:16.869Z"
   },
   {
    "duration": 36,
    "start_time": "2023-08-09T11:56:25.227Z"
   },
   {
    "duration": 46,
    "start_time": "2023-08-09T11:56:55.289Z"
   },
   {
    "duration": 46,
    "start_time": "2023-08-09T11:57:32.450Z"
   },
   {
    "duration": 63,
    "start_time": "2023-08-09T11:58:29.669Z"
   },
   {
    "duration": 54,
    "start_time": "2023-08-09T11:58:42.527Z"
   },
   {
    "duration": 99,
    "start_time": "2023-08-09T12:08:55.296Z"
   },
   {
    "duration": 60,
    "start_time": "2023-08-09T12:09:18.387Z"
   },
   {
    "duration": 31,
    "start_time": "2023-08-09T12:09:34.626Z"
   },
   {
    "duration": 4,
    "start_time": "2023-08-09T12:09:36.885Z"
   },
   {
    "duration": 31,
    "start_time": "2023-08-09T12:09:52.847Z"
   },
   {
    "duration": 3,
    "start_time": "2023-08-09T12:09:53.747Z"
   },
   {
    "duration": 251,
    "start_time": "2023-08-09T12:10:35.413Z"
   },
   {
    "duration": 3,
    "start_time": "2023-08-09T12:10:36.551Z"
   },
   {
    "duration": 243,
    "start_time": "2023-08-09T12:12:07.148Z"
   },
   {
    "duration": 3,
    "start_time": "2023-08-09T12:12:07.393Z"
   },
   {
    "duration": 99,
    "start_time": "2023-08-09T12:42:24.173Z"
   },
   {
    "duration": 361,
    "start_time": "2023-08-09T12:42:32.328Z"
   },
   {
    "duration": 69193,
    "start_time": "2023-08-09T12:42:43.847Z"
   },
   {
    "duration": 71419,
    "start_time": "2023-08-09T12:46:23.455Z"
   },
   {
    "duration": 3,
    "start_time": "2023-08-09T13:04:03.325Z"
   },
   {
    "duration": 15,
    "start_time": "2023-08-09T13:16:59.875Z"
   },
   {
    "duration": 106,
    "start_time": "2023-08-09T13:19:06.389Z"
   },
   {
    "duration": 103,
    "start_time": "2023-08-09T13:19:13.201Z"
   },
   {
    "duration": 3,
    "start_time": "2023-08-09T13:19:28.880Z"
   },
   {
    "duration": 1196,
    "start_time": "2023-08-09T13:19:33.729Z"
   },
   {
    "duration": 4,
    "start_time": "2023-08-09T13:20:32.398Z"
   },
   {
    "duration": 176,
    "start_time": "2023-08-09T13:20:32.878Z"
   },
   {
    "duration": 4,
    "start_time": "2023-08-09T13:21:04.126Z"
   },
   {
    "duration": 1175,
    "start_time": "2023-08-09T13:21:04.661Z"
   },
   {
    "duration": 2,
    "start_time": "2023-08-09T13:21:33.678Z"
   },
   {
    "duration": 175,
    "start_time": "2023-08-09T13:21:34.030Z"
   },
   {
    "duration": 4,
    "start_time": "2023-08-09T13:22:36.481Z"
   },
   {
    "duration": 127,
    "start_time": "2023-08-09T13:22:40.815Z"
   },
   {
    "duration": 4,
    "start_time": "2023-08-09T13:25:07.223Z"
   },
   {
    "duration": 825,
    "start_time": "2023-08-09T13:25:08.016Z"
   },
   {
    "duration": 6,
    "start_time": "2023-08-09T13:25:35.601Z"
   },
   {
    "duration": 5057,
    "start_time": "2023-08-09T13:25:35.920Z"
   },
   {
    "duration": 336,
    "start_time": "2023-08-09T13:26:22.520Z"
   },
   {
    "duration": 25,
    "start_time": "2023-08-09T13:27:29.999Z"
   },
   {
    "duration": 16,
    "start_time": "2023-08-09T13:28:35.888Z"
   },
   {
    "duration": 17,
    "start_time": "2023-08-09T13:28:45.911Z"
   },
   {
    "duration": 4,
    "start_time": "2023-08-09T13:28:52.561Z"
   },
   {
    "duration": 1146,
    "start_time": "2023-08-09T13:28:57.789Z"
   },
   {
    "duration": 1034,
    "start_time": "2023-08-09T13:29:22.561Z"
   },
   {
    "duration": 4,
    "start_time": "2023-08-09T13:31:13.148Z"
   },
   {
    "duration": 1308,
    "start_time": "2023-08-09T13:31:13.678Z"
   },
   {
    "duration": 1066,
    "start_time": "2023-08-09T13:31:27.379Z"
   },
   {
    "duration": 5,
    "start_time": "2023-08-09T13:31:31.049Z"
   },
   {
    "duration": 1076,
    "start_time": "2023-08-09T13:31:34.559Z"
   },
   {
    "duration": 4,
    "start_time": "2023-08-09T13:31:53.758Z"
   },
   {
    "duration": 927,
    "start_time": "2023-08-09T13:31:54.319Z"
   },
   {
    "duration": 7,
    "start_time": "2023-08-09T13:32:16.059Z"
   },
   {
    "duration": 908,
    "start_time": "2023-08-09T13:32:16.478Z"
   },
   {
    "duration": 1026,
    "start_time": "2023-08-09T13:33:17.419Z"
   },
   {
    "duration": 3,
    "start_time": "2023-08-09T13:33:36.562Z"
   },
   {
    "duration": 432,
    "start_time": "2023-08-09T13:33:37.191Z"
   },
   {
    "duration": 260,
    "start_time": "2023-08-09T13:34:12.681Z"
   },
   {
    "duration": 115,
    "start_time": "2023-08-09T13:35:06.720Z"
   },
   {
    "duration": 288,
    "start_time": "2023-08-09T13:35:11.340Z"
   },
   {
    "duration": 262,
    "start_time": "2023-08-09T13:35:23.164Z"
   },
   {
    "duration": 274,
    "start_time": "2023-08-09T13:36:06.981Z"
   },
   {
    "duration": 244,
    "start_time": "2023-08-09T13:36:12.319Z"
   },
   {
    "duration": 91,
    "start_time": "2023-08-09T13:36:20.522Z"
   },
   {
    "duration": 262,
    "start_time": "2023-08-09T13:36:25.071Z"
   },
   {
    "duration": 17,
    "start_time": "2023-08-09T13:38:28.420Z"
   },
   {
    "duration": 12,
    "start_time": "2023-08-09T13:41:02.000Z"
   },
   {
    "duration": 2746,
    "start_time": "2023-08-09T13:41:03.002Z"
   },
   {
    "duration": 113789,
    "start_time": "2023-08-09T13:41:24.790Z"
   },
   {
    "duration": 4,
    "start_time": "2023-08-09T13:44:57.680Z"
   },
   {
    "duration": 5,
    "start_time": "2023-08-09T13:45:25.116Z"
   },
   {
    "duration": 5,
    "start_time": "2023-08-09T13:45:34.902Z"
   },
   {
    "duration": 103264,
    "start_time": "2023-08-09T13:45:40.340Z"
   },
   {
    "duration": 3,
    "start_time": "2023-08-09T13:47:23.606Z"
   },
   {
    "duration": 5,
    "start_time": "2023-08-09T13:47:31.521Z"
   },
   {
    "duration": 4,
    "start_time": "2023-08-09T13:47:37.095Z"
   },
   {
    "duration": 3583,
    "start_time": "2023-08-10T05:54:54.220Z"
   },
   {
    "duration": 3,
    "start_time": "2023-08-10T05:54:57.804Z"
   },
   {
    "duration": 2782,
    "start_time": "2023-08-10T05:55:02.312Z"
   },
   {
    "duration": 75,
    "start_time": "2023-08-10T05:55:16.177Z"
   },
   {
    "duration": 1754,
    "start_time": "2023-08-10T05:55:40.623Z"
   },
   {
    "duration": 4776,
    "start_time": "2023-08-10T05:55:52.350Z"
   },
   {
    "duration": 70807,
    "start_time": "2023-08-10T05:56:03.853Z"
   },
   {
    "duration": 3,
    "start_time": "2023-08-10T05:57:14.662Z"
   },
   {
    "duration": 21,
    "start_time": "2023-08-10T05:57:14.666Z"
   },
   {
    "duration": 5,
    "start_time": "2023-08-10T05:57:33.812Z"
   },
   {
    "duration": 113895,
    "start_time": "2023-08-10T05:57:34.020Z"
   },
   {
    "duration": 5,
    "start_time": "2023-08-10T05:59:27.917Z"
   },
   {
    "duration": 4,
    "start_time": "2023-08-10T06:18:30.146Z"
   },
   {
    "duration": 8,
    "start_time": "2023-08-10T06:21:18.620Z"
   },
   {
    "duration": 10,
    "start_time": "2023-08-10T06:21:18.630Z"
   },
   {
    "duration": 968,
    "start_time": "2023-08-10T06:21:18.641Z"
   },
   {
    "duration": 85,
    "start_time": "2023-08-10T06:21:19.611Z"
   },
   {
    "duration": 29,
    "start_time": "2023-08-10T06:21:19.700Z"
   },
   {
    "duration": 70,
    "start_time": "2023-08-10T06:21:19.731Z"
   },
   {
    "duration": 5106,
    "start_time": "2023-08-10T06:21:19.803Z"
   },
   {
    "duration": 34,
    "start_time": "2023-08-10T06:21:24.911Z"
   },
   {
    "duration": 30,
    "start_time": "2023-08-10T06:21:24.947Z"
   },
   {
    "duration": 29,
    "start_time": "2023-08-10T06:21:24.979Z"
   },
   {
    "duration": 134,
    "start_time": "2023-08-10T06:21:25.009Z"
   },
   {
    "duration": 95,
    "start_time": "2023-08-10T06:21:25.144Z"
   },
   {
    "duration": 244,
    "start_time": "2023-08-10T06:21:25.240Z"
   },
   {
    "duration": 4,
    "start_time": "2023-08-10T06:21:25.486Z"
   },
   {
    "duration": 70292,
    "start_time": "2023-08-10T06:21:25.496Z"
   },
   {
    "duration": 6,
    "start_time": "2023-08-10T06:22:35.789Z"
   },
   {
    "duration": 47,
    "start_time": "2023-08-10T06:22:35.797Z"
   },
   {
    "duration": 5,
    "start_time": "2023-08-10T06:38:28.766Z"
   },
   {
    "duration": 1986,
    "start_time": "2023-08-10T06:38:32.362Z"
   },
   {
    "duration": 2595685,
    "start_time": "2023-08-10T06:38:46.028Z"
   },
   {
    "duration": 10,
    "start_time": "2023-08-10T07:22:01.724Z"
   },
   {
    "duration": 6,
    "start_time": "2023-08-10T07:44:15.568Z"
   },
   {
    "duration": 4,
    "start_time": "2023-08-10T07:45:56.710Z"
   },
   {
    "duration": 34,
    "start_time": "2023-08-10T07:45:57.836Z"
   },
   {
    "duration": 6,
    "start_time": "2023-08-10T07:46:10.314Z"
   },
   {
    "duration": 912132,
    "start_time": "2023-08-10T07:46:12.315Z"
   },
   {
    "duration": 4,
    "start_time": "2023-08-10T08:05:24.684Z"
   },
   {
    "duration": 4,
    "start_time": "2023-08-10T08:05:44.747Z"
   },
   {
    "duration": 4,
    "start_time": "2023-08-10T08:06:05.637Z"
   },
   {
    "duration": 1619368,
    "start_time": "2023-08-10T08:06:06.298Z"
   },
   {
    "duration": 5,
    "start_time": "2023-08-10T08:33:05.667Z"
   },
   {
    "duration": 8,
    "start_time": "2023-08-10T08:33:05.673Z"
   },
   {
    "duration": 8,
    "start_time": "2023-08-10T08:33:31.221Z"
   },
   {
    "duration": 1498728,
    "start_time": "2023-08-10T08:33:31.876Z"
   },
   {
    "duration": 12,
    "start_time": "2023-08-10T08:58:30.609Z"
   },
   {
    "duration": 43,
    "start_time": "2023-08-10T08:58:30.627Z"
   },
   {
    "duration": 24,
    "start_time": "2023-08-10T08:58:52.291Z"
   },
   {
    "duration": 1694950,
    "start_time": "2023-08-10T08:58:52.845Z"
   },
   {
    "duration": 8,
    "start_time": "2023-08-10T09:27:07.799Z"
   },
   {
    "duration": 57,
    "start_time": "2023-08-10T09:27:07.809Z"
   },
   {
    "duration": 4,
    "start_time": "2023-08-10T09:33:50.265Z"
   },
   {
    "duration": 1815228,
    "start_time": "2023-08-10T09:33:50.851Z"
   },
   {
    "duration": 4,
    "start_time": "2023-08-10T10:04:06.081Z"
   },
   {
    "duration": 49,
    "start_time": "2023-08-10T10:04:06.102Z"
   },
   {
    "duration": 97387,
    "start_time": "2023-08-10T10:25:42.728Z"
   },
   {
    "duration": 5,
    "start_time": "2023-08-10T10:27:20.117Z"
   },
   {
    "duration": 65,
    "start_time": "2023-08-10T10:27:20.123Z"
   },
   {
    "duration": 78,
    "start_time": "2023-08-10T10:27:20.191Z"
   },
   {
    "duration": 4458,
    "start_time": "2023-08-10T10:42:20.624Z"
   },
   {
    "duration": 2,
    "start_time": "2023-08-10T10:42:25.084Z"
   },
   {
    "duration": 3626,
    "start_time": "2023-08-10T10:42:25.087Z"
   },
   {
    "duration": 85,
    "start_time": "2023-08-10T10:42:28.721Z"
   },
   {
    "duration": 40,
    "start_time": "2023-08-10T10:42:28.809Z"
   },
   {
    "duration": 96,
    "start_time": "2023-08-10T10:42:28.850Z"
   },
   {
    "duration": 5732,
    "start_time": "2023-08-10T10:42:28.948Z"
   },
   {
    "duration": 47,
    "start_time": "2023-08-10T10:42:34.682Z"
   },
   {
    "duration": 68,
    "start_time": "2023-08-10T10:42:34.731Z"
   },
   {
    "duration": 11,
    "start_time": "2023-08-10T10:42:34.800Z"
   },
   {
    "duration": 159,
    "start_time": "2023-08-10T10:42:34.818Z"
   },
   {
    "duration": 106,
    "start_time": "2023-08-10T10:42:34.979Z"
   },
   {
    "duration": 260,
    "start_time": "2023-08-10T10:42:35.095Z"
   },
   {
    "duration": 3,
    "start_time": "2023-08-10T10:42:35.358Z"
   },
   {
    "duration": 83182,
    "start_time": "2023-08-10T10:42:35.363Z"
   },
   {
    "duration": 3,
    "start_time": "2023-08-10T10:43:58.547Z"
   },
   {
    "duration": 37,
    "start_time": "2023-08-10T10:43:58.552Z"
   },
   {
    "duration": 41,
    "start_time": "2023-08-10T10:43:58.591Z"
   },
   {
    "duration": 3145797,
    "start_time": "2023-08-10T10:43:58.637Z"
   },
   {
    "duration": 8,
    "start_time": "2023-08-10T11:36:24.436Z"
   },
   {
    "duration": 98,
    "start_time": "2023-08-10T11:36:24.447Z"
   },
   {
    "duration": 3,
    "start_time": "2023-08-10T11:54:05.571Z"
   },
   {
    "duration": 15,
    "start_time": "2023-08-10T11:54:06.063Z"
   },
   {
    "duration": 3,
    "start_time": "2023-08-10T11:54:14.956Z"
   },
   {
    "duration": 1800384,
    "start_time": "2023-08-10T11:54:16.055Z"
   },
   {
    "duration": 5,
    "start_time": "2023-08-10T12:24:16.442Z"
   },
   {
    "duration": 16,
    "start_time": "2023-08-10T12:24:16.449Z"
   },
   {
    "duration": 9,
    "start_time": "2023-08-10T12:33:36.100Z"
   },
   {
    "duration": 20,
    "start_time": "2023-08-10T12:33:36.424Z"
   },
   {
    "duration": 4,
    "start_time": "2023-08-10T12:33:37.667Z"
   },
   {
    "duration": 1683019,
    "start_time": "2023-08-10T12:33:38.156Z"
   },
   {
    "duration": 6,
    "start_time": "2023-08-10T13:01:41.179Z"
   },
   {
    "duration": 50,
    "start_time": "2023-08-10T13:01:41.187Z"
   },
   {
    "duration": 4850,
    "start_time": "2023-08-11T05:43:49.023Z"
   },
   {
    "duration": 4,
    "start_time": "2023-08-11T05:43:53.875Z"
   },
   {
    "duration": 4372,
    "start_time": "2023-08-11T05:43:53.881Z"
   },
   {
    "duration": 97,
    "start_time": "2023-08-11T05:43:58.259Z"
   },
   {
    "duration": 32,
    "start_time": "2023-08-11T05:43:58.358Z"
   },
   {
    "duration": 103,
    "start_time": "2023-08-11T05:43:58.392Z"
   },
   {
    "duration": 6132,
    "start_time": "2023-08-11T05:43:58.497Z"
   },
   {
    "duration": 49,
    "start_time": "2023-08-11T05:44:04.630Z"
   },
   {
    "duration": 57,
    "start_time": "2023-08-11T05:44:04.681Z"
   },
   {
    "duration": 27,
    "start_time": "2023-08-11T05:44:04.741Z"
   },
   {
    "duration": 166,
    "start_time": "2023-08-11T05:44:04.770Z"
   },
   {
    "duration": 120,
    "start_time": "2023-08-11T05:44:04.938Z"
   },
   {
    "duration": 343,
    "start_time": "2023-08-11T05:44:05.060Z"
   },
   {
    "duration": 11,
    "start_time": "2023-08-11T05:44:05.407Z"
   },
   {
    "duration": 102541,
    "start_time": "2023-08-11T05:44:05.420Z"
   },
   {
    "duration": 6,
    "start_time": "2023-08-11T05:45:47.963Z"
   },
   {
    "duration": 112,
    "start_time": "2023-08-11T05:45:47.971Z"
   },
   {
    "duration": 7,
    "start_time": "2023-08-11T05:45:48.085Z"
   },
   {
    "duration": 1572441,
    "start_time": "2023-08-11T05:45:48.094Z"
   },
   {
    "duration": 5,
    "start_time": "2023-08-11T06:12:00.537Z"
   },
   {
    "duration": 28,
    "start_time": "2023-08-11T06:12:00.543Z"
   },
   {
    "duration": 2041,
    "start_time": "2023-08-14T10:30:58.484Z"
   },
   {
    "duration": 3,
    "start_time": "2023-08-14T10:31:03.660Z"
   },
   {
    "duration": 2338,
    "start_time": "2023-08-14T10:31:05.081Z"
   },
   {
    "duration": 70,
    "start_time": "2023-08-14T10:31:07.422Z"
   },
   {
    "duration": 90,
    "start_time": "2023-08-14T10:31:07.494Z"
   },
   {
    "duration": 216,
    "start_time": "2023-08-14T10:31:07.586Z"
   },
   {
    "duration": 4228,
    "start_time": "2023-08-14T10:31:07.804Z"
   },
   {
    "duration": 36,
    "start_time": "2023-08-14T10:31:12.033Z"
   },
   {
    "duration": 120,
    "start_time": "2023-08-14T10:31:12.071Z"
   },
   {
    "duration": 29,
    "start_time": "2023-08-14T10:31:12.194Z"
   },
   {
    "duration": 128,
    "start_time": "2023-08-14T10:31:12.225Z"
   },
   {
    "duration": 88,
    "start_time": "2023-08-14T10:31:12.354Z"
   },
   {
    "duration": 224,
    "start_time": "2023-08-14T10:31:12.444Z"
   },
   {
    "duration": 4,
    "start_time": "2023-08-14T10:31:12.670Z"
   },
   {
    "duration": 61083,
    "start_time": "2023-08-14T10:31:12.676Z"
   },
   {
    "duration": 3,
    "start_time": "2023-08-14T10:32:13.760Z"
   },
   {
    "duration": 41,
    "start_time": "2023-08-14T10:32:13.765Z"
   },
   {
    "duration": 30,
    "start_time": "2023-08-14T10:32:13.807Z"
   },
   {
    "duration": 1579866,
    "start_time": "2023-08-14T10:32:13.839Z"
   },
   {
    "duration": 3,
    "start_time": "2023-08-14T10:58:33.707Z"
   },
   {
    "duration": 68,
    "start_time": "2023-08-14T10:58:33.713Z"
   },
   {
    "duration": 18,
    "start_time": "2023-08-14T10:58:33.782Z"
   },
   {
    "duration": 5,
    "start_time": "2023-08-14T10:58:33.802Z"
   },
   {
    "duration": 4,
    "start_time": "2023-08-14T11:11:51.188Z"
   },
   {
    "duration": 566,
    "start_time": "2023-08-14T11:12:01.487Z"
   },
   {
    "duration": 4,
    "start_time": "2023-08-14T11:12:03.257Z"
   },
   {
    "duration": 4,
    "start_time": "2023-08-14T11:12:03.807Z"
   },
   {
    "duration": 6,
    "start_time": "2023-08-14T11:12:17.159Z"
   },
   {
    "duration": 217,
    "start_time": "2023-08-14T11:12:22.919Z"
   },
   {
    "duration": 4,
    "start_time": "2023-08-14T11:12:24.953Z"
   },
   {
    "duration": 202,
    "start_time": "2023-08-14T11:12:26.001Z"
   },
   {
    "duration": 4,
    "start_time": "2023-08-14T11:13:17.652Z"
   },
   {
    "duration": 214,
    "start_time": "2023-08-14T11:13:18.956Z"
   },
   {
    "duration": 4,
    "start_time": "2023-08-14T11:13:48.209Z"
   },
   {
    "duration": 199,
    "start_time": "2023-08-14T11:13:48.427Z"
   },
   {
    "duration": 1933,
    "start_time": "2023-08-14T15:48:48.164Z"
   },
   {
    "duration": 3,
    "start_time": "2023-08-14T15:48:50.099Z"
   },
   {
    "duration": 2440,
    "start_time": "2023-08-14T15:48:50.176Z"
   },
   {
    "duration": 77,
    "start_time": "2023-08-14T15:48:52.618Z"
   },
   {
    "duration": 31,
    "start_time": "2023-08-14T15:48:52.697Z"
   },
   {
    "duration": 80,
    "start_time": "2023-08-14T15:48:52.731Z"
   },
   {
    "duration": 4753,
    "start_time": "2023-08-14T15:48:53.129Z"
   },
   {
    "duration": 46,
    "start_time": "2023-08-14T15:48:57.885Z"
   },
   {
    "duration": 40,
    "start_time": "2023-08-14T15:48:57.933Z"
   },
   {
    "duration": 24,
    "start_time": "2023-08-14T15:48:57.975Z"
   },
   {
    "duration": 142,
    "start_time": "2023-08-14T15:48:58.000Z"
   },
   {
    "duration": 91,
    "start_time": "2023-08-14T15:48:58.626Z"
   },
   {
    "duration": 225,
    "start_time": "2023-08-14T15:48:59.611Z"
   },
   {
    "duration": 4,
    "start_time": "2023-08-14T15:48:59.937Z"
   },
   {
    "duration": 64913,
    "start_time": "2023-08-14T15:49:03.347Z"
   },
   {
    "duration": 3,
    "start_time": "2023-08-14T15:50:08.263Z"
   },
   {
    "duration": 52,
    "start_time": "2023-08-14T15:50:08.268Z"
   },
   {
    "duration": 9,
    "start_time": "2023-08-14T15:53:14.002Z"
   },
   {
    "duration": 4,
    "start_time": "2023-08-14T15:53:33.609Z"
   },
   {
    "duration": 271,
    "start_time": "2023-08-14T15:53:34.816Z"
   },
   {
    "duration": 4,
    "start_time": "2023-08-14T15:54:58.270Z"
   },
   {
    "duration": 113,
    "start_time": "2023-08-14T15:54:59.459Z"
   },
   {
    "duration": 5,
    "start_time": "2023-08-14T15:55:51.012Z"
   },
   {
    "duration": 202,
    "start_time": "2023-08-14T15:55:51.418Z"
   },
   {
    "duration": 6,
    "start_time": "2023-08-14T15:56:26.313Z"
   },
   {
    "duration": 131745,
    "start_time": "2023-08-14T15:56:26.657Z"
   },
   {
    "duration": 3,
    "start_time": "2023-08-14T15:58:38.404Z"
   },
   {
    "duration": 9,
    "start_time": "2023-08-14T15:58:38.409Z"
   },
   {
    "duration": 5,
    "start_time": "2023-08-14T16:30:30.295Z"
   },
   {
    "duration": 135022,
    "start_time": "2023-08-14T16:30:30.675Z"
   },
   {
    "duration": 97,
    "start_time": "2023-08-14T16:32:45.699Z"
   },
   {
    "duration": 3,
    "start_time": "2023-08-14T16:32:45.798Z"
   },
   {
    "duration": 4,
    "start_time": "2023-08-14T16:35:52.309Z"
   },
   {
    "duration": 135448,
    "start_time": "2023-08-14T16:35:58.250Z"
   },
   {
    "duration": 5,
    "start_time": "2023-08-14T16:38:13.700Z"
   },
   {
    "duration": 13,
    "start_time": "2023-08-14T16:38:13.706Z"
   },
   {
    "duration": 4,
    "start_time": "2023-08-14T18:05:11.633Z"
   },
   {
    "duration": 263579,
    "start_time": "2023-08-14T18:05:12.064Z"
   },
   {
    "duration": 4,
    "start_time": "2023-08-14T18:09:35.646Z"
   },
   {
    "duration": 16,
    "start_time": "2023-08-14T18:09:35.652Z"
   },
   {
    "duration": 4,
    "start_time": "2023-08-14T18:10:36.600Z"
   },
   {
    "duration": 264949,
    "start_time": "2023-08-14T18:10:37.091Z"
   },
   {
    "duration": 4,
    "start_time": "2023-08-14T18:15:02.042Z"
   },
   {
    "duration": 31,
    "start_time": "2023-08-14T18:15:02.048Z"
   },
   {
    "duration": 2142,
    "start_time": "2023-08-15T06:18:01.622Z"
   },
   {
    "duration": 3,
    "start_time": "2023-08-15T06:18:03.766Z"
   },
   {
    "duration": 3420,
    "start_time": "2023-08-15T06:18:03.770Z"
   },
   {
    "duration": 80,
    "start_time": "2023-08-15T06:18:07.192Z"
   },
   {
    "duration": 26,
    "start_time": "2023-08-15T06:18:07.274Z"
   },
   {
    "duration": 152,
    "start_time": "2023-08-15T06:18:07.301Z"
   },
   {
    "duration": 4373,
    "start_time": "2023-08-15T06:18:07.459Z"
   },
   {
    "duration": 49,
    "start_time": "2023-08-15T06:18:11.834Z"
   },
   {
    "duration": 38,
    "start_time": "2023-08-15T06:18:11.885Z"
   },
   {
    "duration": 8,
    "start_time": "2023-08-15T06:18:11.926Z"
   },
   {
    "duration": 148,
    "start_time": "2023-08-15T06:18:11.936Z"
   },
   {
    "duration": 104,
    "start_time": "2023-08-15T06:18:12.086Z"
   },
   {
    "duration": 329,
    "start_time": "2023-08-15T06:18:12.192Z"
   },
   {
    "duration": 4,
    "start_time": "2023-08-15T06:18:12.523Z"
   },
   {
    "duration": 60179,
    "start_time": "2023-08-15T06:18:12.529Z"
   },
   {
    "duration": 2,
    "start_time": "2023-08-15T06:19:12.710Z"
   },
   {
    "duration": 22,
    "start_time": "2023-08-15T06:19:12.714Z"
   },
   {
    "duration": 4,
    "start_time": "2023-08-15T06:19:12.738Z"
   },
   {
    "duration": 272169,
    "start_time": "2023-08-15T06:19:12.744Z"
   },
   {
    "duration": 4,
    "start_time": "2023-08-15T06:23:44.914Z"
   },
   {
    "duration": 6,
    "start_time": "2023-08-15T06:23:44.920Z"
   },
   {
    "duration": 5,
    "start_time": "2023-08-15T06:23:44.927Z"
   },
   {
    "duration": 143032,
    "start_time": "2023-08-15T06:23:44.933Z"
   },
   {
    "duration": 94,
    "start_time": "2023-08-15T06:26:07.967Z"
   },
   {
    "duration": 5,
    "start_time": "2023-08-15T06:26:08.062Z"
   },
   {
    "duration": 125,
    "start_time": "2023-08-15T06:29:07.866Z"
   },
   {
    "duration": 38,
    "start_time": "2023-08-15T06:29:14.996Z"
   },
   {
    "duration": 4,
    "start_time": "2023-08-15T06:29:21.265Z"
   },
   {
    "duration": 1954832,
    "start_time": "2023-08-15T06:30:03.674Z"
   },
   {
    "duration": 409,
    "start_time": "2023-08-15T07:02:38.508Z"
   },
   {
    "duration": 0,
    "start_time": "2023-08-15T07:02:38.919Z"
   },
   {
    "duration": 4,
    "start_time": "2023-08-15T07:03:07.591Z"
   },
   {
    "duration": 17,
    "start_time": "2023-08-15T07:03:08.361Z"
   },
   {
    "duration": 6,
    "start_time": "2023-08-15T07:03:15.553Z"
   },
   {
    "duration": 12,
    "start_time": "2023-08-15T07:03:27.952Z"
   },
   {
    "duration": 4,
    "start_time": "2023-08-15T07:03:39.398Z"
   },
   {
    "duration": 2464082,
    "start_time": "2023-08-15T07:03:40.631Z"
   },
   {
    "duration": 299,
    "start_time": "2023-08-15T07:44:44.715Z"
   },
   {
    "duration": 0,
    "start_time": "2023-08-15T07:44:45.015Z"
   },
   {
    "duration": 4,
    "start_time": "2023-08-15T07:44:52.540Z"
   },
   {
    "duration": 197593,
    "start_time": "2023-08-15T07:44:53.193Z"
   },
   {
    "duration": 4,
    "start_time": "2023-08-15T07:48:10.788Z"
   },
   {
    "duration": 12,
    "start_time": "2023-08-15T07:48:10.793Z"
   },
   {
    "duration": 4,
    "start_time": "2023-08-15T08:03:02.061Z"
   },
   {
    "duration": 19,
    "start_time": "2023-08-15T08:03:02.394Z"
   },
   {
    "duration": 4,
    "start_time": "2023-08-15T08:03:03.201Z"
   },
   {
    "duration": 233072,
    "start_time": "2023-08-15T08:03:03.633Z"
   },
   {
    "duration": 4,
    "start_time": "2023-08-15T08:06:56.707Z"
   },
   {
    "duration": 23,
    "start_time": "2023-08-15T08:06:56.712Z"
   },
   {
    "duration": 3,
    "start_time": "2023-08-15T08:16:37.146Z"
   },
   {
    "duration": 17,
    "start_time": "2023-08-15T08:16:37.707Z"
   },
   {
    "duration": 4,
    "start_time": "2023-08-15T08:16:38.762Z"
   },
   {
    "duration": 271070,
    "start_time": "2023-08-15T08:16:39.322Z"
   },
   {
    "duration": 4,
    "start_time": "2023-08-15T08:21:10.394Z"
   },
   {
    "duration": 15,
    "start_time": "2023-08-15T08:21:10.399Z"
   },
   {
    "duration": 31,
    "start_time": "2023-08-15T08:21:10.416Z"
   },
   {
    "duration": 139015,
    "start_time": "2023-08-15T08:21:10.449Z"
   },
   {
    "duration": 94,
    "start_time": "2023-08-15T08:23:29.466Z"
   },
   {
    "duration": 5,
    "start_time": "2023-08-15T08:23:29.562Z"
   },
   {
    "duration": 9,
    "start_time": "2023-08-15T08:23:29.569Z"
   },
   {
    "duration": 2129,
    "start_time": "2023-08-15T08:26:28.834Z"
   },
   {
    "duration": 2,
    "start_time": "2023-08-15T08:26:30.965Z"
   },
   {
    "duration": 3699,
    "start_time": "2023-08-15T08:26:30.969Z"
   },
   {
    "duration": 72,
    "start_time": "2023-08-15T08:26:34.670Z"
   },
   {
    "duration": 39,
    "start_time": "2023-08-15T08:26:34.743Z"
   },
   {
    "duration": 84,
    "start_time": "2023-08-15T08:26:34.784Z"
   },
   {
    "duration": 4501,
    "start_time": "2023-08-15T08:26:34.870Z"
   },
   {
    "duration": 47,
    "start_time": "2023-08-15T08:26:39.373Z"
   },
   {
    "duration": 59,
    "start_time": "2023-08-15T08:26:39.422Z"
   },
   {
    "duration": 10,
    "start_time": "2023-08-15T08:26:39.483Z"
   },
   {
    "duration": 148,
    "start_time": "2023-08-15T08:26:39.495Z"
   },
   {
    "duration": 130,
    "start_time": "2023-08-15T08:26:39.645Z"
   },
   {
    "duration": 258,
    "start_time": "2023-08-15T08:26:39.777Z"
   },
   {
    "duration": 5,
    "start_time": "2023-08-15T08:26:40.037Z"
   },
   {
    "duration": 65095,
    "start_time": "2023-08-15T08:26:40.044Z"
   },
   {
    "duration": 3,
    "start_time": "2023-08-15T08:27:45.140Z"
   },
   {
    "duration": 43,
    "start_time": "2023-08-15T08:27:45.145Z"
   },
   {
    "duration": 21,
    "start_time": "2023-08-15T08:27:45.190Z"
   },
   {
    "duration": 3401942,
    "start_time": "2023-08-15T08:27:48.456Z"
   },
   {
    "duration": 4,
    "start_time": "2023-08-15T09:24:30.401Z"
   },
   {
    "duration": 51,
    "start_time": "2023-08-15T09:24:30.406Z"
   },
   {
    "duration": 141,
    "start_time": "2023-08-15T10:10:50.766Z"
   },
   {
    "duration": 10,
    "start_time": "2023-08-15T10:11:02.457Z"
   },
   {
    "duration": 295811,
    "start_time": "2023-08-15T10:11:02.634Z"
   },
   {
    "duration": 4,
    "start_time": "2023-08-15T10:15:58.447Z"
   },
   {
    "duration": 14,
    "start_time": "2023-08-15T10:15:58.459Z"
   },
   {
    "duration": 20,
    "start_time": "2023-08-15T10:15:58.478Z"
   },
   {
    "duration": 157671,
    "start_time": "2023-08-15T10:15:58.500Z"
   },
   {
    "duration": 89,
    "start_time": "2023-08-15T10:18:36.175Z"
   },
   {
    "duration": 6,
    "start_time": "2023-08-15T10:18:36.266Z"
   },
   {
    "duration": 18,
    "start_time": "2023-08-15T10:50:48.077Z"
   },
   {
    "duration": 15,
    "start_time": "2023-08-15T10:51:02.471Z"
   },
   {
    "duration": 18,
    "start_time": "2023-08-15T10:52:53.156Z"
   },
   {
    "duration": 13,
    "start_time": "2023-08-15T10:52:57.415Z"
   },
   {
    "duration": 26745,
    "start_time": "2023-08-15T10:58:40.207Z"
   },
   {
    "duration": 289,
    "start_time": "2023-08-15T11:05:45.290Z"
   },
   {
    "duration": 4690,
    "start_time": "2023-08-15T11:06:33.728Z"
   },
   {
    "duration": 226,
    "start_time": "2023-08-15T11:08:39.338Z"
   },
   {
    "duration": 13,
    "start_time": "2023-08-15T11:24:04.086Z"
   },
   {
    "duration": 12,
    "start_time": "2023-08-15T11:24:12.584Z"
   },
   {
    "duration": 4142,
    "start_time": "2023-08-15T11:24:27.344Z"
   },
   {
    "duration": 208,
    "start_time": "2023-08-15T11:24:50.743Z"
   },
   {
    "duration": 4093,
    "start_time": "2023-08-15T11:25:11.064Z"
   },
   {
    "duration": 224,
    "start_time": "2023-08-15T11:25:15.159Z"
   },
   {
    "duration": 3825,
    "start_time": "2023-08-15T11:25:45.706Z"
   },
   {
    "duration": 220,
    "start_time": "2023-08-15T11:25:52.352Z"
   },
   {
    "duration": 17,
    "start_time": "2023-08-15T11:40:48.189Z"
   },
   {
    "duration": 4,
    "start_time": "2023-08-15T11:41:00.769Z"
   },
   {
    "duration": 2140,
    "start_time": "2023-08-15T11:55:05.552Z"
   },
   {
    "duration": 2,
    "start_time": "2023-08-15T11:55:07.694Z"
   },
   {
    "duration": 1102,
    "start_time": "2023-08-15T11:55:07.698Z"
   },
   {
    "duration": 95,
    "start_time": "2023-08-15T11:55:08.802Z"
   },
   {
    "duration": 32,
    "start_time": "2023-08-15T11:55:08.899Z"
   },
   {
    "duration": 96,
    "start_time": "2023-08-15T11:55:08.932Z"
   },
   {
    "duration": 5475,
    "start_time": "2023-08-15T11:55:09.029Z"
   },
   {
    "duration": 56,
    "start_time": "2023-08-15T11:55:14.506Z"
   },
   {
    "duration": 46,
    "start_time": "2023-08-15T11:55:14.567Z"
   },
   {
    "duration": 8,
    "start_time": "2023-08-15T11:55:14.617Z"
   },
   {
    "duration": 174,
    "start_time": "2023-08-15T11:55:14.626Z"
   },
   {
    "duration": 125,
    "start_time": "2023-08-15T11:55:14.802Z"
   },
   {
    "duration": 271,
    "start_time": "2023-08-15T11:55:14.928Z"
   },
   {
    "duration": 4,
    "start_time": "2023-08-15T11:55:15.201Z"
   },
   {
    "duration": 72683,
    "start_time": "2023-08-15T11:55:15.207Z"
   },
   {
    "duration": 3,
    "start_time": "2023-08-15T11:56:27.892Z"
   },
   {
    "duration": 20,
    "start_time": "2023-08-15T11:56:27.897Z"
   },
   {
    "duration": 4,
    "start_time": "2023-08-15T11:56:27.919Z"
   },
   {
    "duration": 319127,
    "start_time": "2023-08-15T11:56:27.924Z"
   },
   {
    "duration": 8,
    "start_time": "2023-08-15T12:01:47.060Z"
   },
   {
    "duration": 14,
    "start_time": "2023-08-15T12:01:47.071Z"
   },
   {
    "duration": 12,
    "start_time": "2023-08-15T12:01:47.088Z"
   },
   {
    "duration": 172169,
    "start_time": "2023-08-15T12:01:47.102Z"
   },
   {
    "duration": 90,
    "start_time": "2023-08-15T12:04:39.278Z"
   },
   {
    "duration": 29,
    "start_time": "2023-08-15T12:04:39.372Z"
   },
   {
    "duration": 28,
    "start_time": "2023-08-15T12:04:39.403Z"
   },
   {
    "duration": 7453709,
    "start_time": "2023-08-15T12:04:39.433Z"
   },
   {
    "duration": 4,
    "start_time": "2023-08-15T14:08:53.146Z"
   },
   {
    "duration": 15,
    "start_time": "2023-08-15T14:08:53.151Z"
   },
   {
    "duration": 23,
    "start_time": "2023-08-15T14:08:53.168Z"
   },
   {
    "duration": 24434,
    "start_time": "2023-08-15T14:08:53.193Z"
   },
   {
    "duration": 4267,
    "start_time": "2023-08-15T14:09:17.629Z"
   },
   {
    "duration": 241,
    "start_time": "2023-08-15T14:09:21.901Z"
   },
   {
    "duration": 2136,
    "start_time": "2023-08-16T06:26:13.143Z"
   },
   {
    "duration": 2,
    "start_time": "2023-08-16T06:26:19.226Z"
   },
   {
    "duration": 2455,
    "start_time": "2023-08-16T06:26:22.803Z"
   },
   {
    "duration": 82,
    "start_time": "2023-08-16T06:26:26.004Z"
   },
   {
    "duration": 27,
    "start_time": "2023-08-16T06:26:32.323Z"
   },
   {
    "duration": 65,
    "start_time": "2023-08-16T06:26:34.844Z"
   },
   {
    "duration": 5271,
    "start_time": "2023-08-16T06:27:22.954Z"
   },
   {
    "duration": 3109,
    "start_time": "2023-08-16T06:28:51.323Z"
   },
   {
    "duration": 1944,
    "start_time": "2023-08-16T06:29:06.303Z"
   },
   {
    "duration": 2200,
    "start_time": "2023-08-16T06:50:14.112Z"
   },
   {
    "duration": 654,
    "start_time": "2023-08-16T06:53:06.787Z"
   },
   {
    "duration": 2385,
    "start_time": "2023-08-16T06:54:46.391Z"
   },
   {
    "duration": 834079,
    "start_time": "2023-08-16T06:55:14.092Z"
   },
   {
    "duration": 4237,
    "start_time": "2023-08-16T07:11:06.496Z"
   },
   {
    "duration": 3,
    "start_time": "2023-08-16T07:11:10.736Z"
   },
   {
    "duration": 938,
    "start_time": "2023-08-16T07:11:10.741Z"
   },
   {
    "duration": 89,
    "start_time": "2023-08-16T07:11:11.681Z"
   },
   {
    "duration": 37,
    "start_time": "2023-08-16T07:11:11.773Z"
   },
   {
    "duration": 64,
    "start_time": "2023-08-16T07:11:11.812Z"
   },
   {
    "duration": 5552,
    "start_time": "2023-08-16T07:11:11.878Z"
   },
   {
    "duration": 49,
    "start_time": "2023-08-16T07:11:17.431Z"
   },
   {
    "duration": 57,
    "start_time": "2023-08-16T07:11:17.482Z"
   },
   {
    "duration": 8,
    "start_time": "2023-08-16T07:11:17.542Z"
   },
   {
    "duration": 149,
    "start_time": "2023-08-16T07:11:17.552Z"
   },
   {
    "duration": 113,
    "start_time": "2023-08-16T07:11:17.708Z"
   },
   {
    "duration": 281,
    "start_time": "2023-08-16T07:11:17.823Z"
   },
   {
    "duration": 5,
    "start_time": "2023-08-16T07:11:18.107Z"
   },
   {
    "duration": 4463,
    "start_time": "2023-08-16T07:12:54.424Z"
   },
   {
    "duration": 3,
    "start_time": "2023-08-16T07:12:58.890Z"
   },
   {
    "duration": 975,
    "start_time": "2023-08-16T07:12:58.895Z"
   },
   {
    "duration": 97,
    "start_time": "2023-08-16T07:12:59.872Z"
   },
   {
    "duration": 41,
    "start_time": "2023-08-16T07:12:59.972Z"
   },
   {
    "duration": 117,
    "start_time": "2023-08-16T07:13:00.015Z"
   },
   {
    "duration": 6690,
    "start_time": "2023-08-16T07:13:00.134Z"
   },
   {
    "duration": 57,
    "start_time": "2023-08-16T07:13:06.826Z"
   },
   {
    "duration": 81,
    "start_time": "2023-08-16T07:13:06.885Z"
   },
   {
    "duration": 204,
    "start_time": "2023-08-16T07:13:06.968Z"
   },
   {
    "duration": 281,
    "start_time": "2023-08-16T07:13:07.174Z"
   },
   {
    "duration": 127,
    "start_time": "2023-08-16T07:13:07.457Z"
   },
   {
    "duration": 282,
    "start_time": "2023-08-16T07:13:07.586Z"
   },
   {
    "duration": 4,
    "start_time": "2023-08-16T07:13:07.871Z"
   },
   {
    "duration": 6,
    "start_time": "2023-08-16T07:14:01.763Z"
   },
   {
    "duration": 5,
    "start_time": "2023-08-16T07:14:07.348Z"
   },
   {
    "duration": 923002,
    "start_time": "2023-08-16T07:14:14.436Z"
   },
   {
    "duration": 44,
    "start_time": "2023-08-16T07:32:40.927Z"
   },
   {
    "duration": 128,
    "start_time": "2023-08-16T07:38:05.693Z"
   },
   {
    "duration": 307,
    "start_time": "2023-08-16T07:39:25.874Z"
   },
   {
    "duration": 106,
    "start_time": "2023-08-16T07:40:00.123Z"
   },
   {
    "duration": 2499,
    "start_time": "2023-08-16T07:40:31.471Z"
   },
   {
    "duration": 22411,
    "start_time": "2023-08-16T07:40:54.634Z"
   },
   {
    "duration": 100,
    "start_time": "2023-08-16T07:45:49.188Z"
   },
   {
    "duration": 7398,
    "start_time": "2023-08-16T07:45:54.858Z"
   },
   {
    "duration": 22879,
    "start_time": "2023-08-16T07:46:31.021Z"
   },
   {
    "duration": 6198,
    "start_time": "2023-08-16T07:48:18.927Z"
   },
   {
    "duration": 23150,
    "start_time": "2023-08-16T07:48:38.256Z"
   },
   {
    "duration": 23147,
    "start_time": "2023-08-16T07:49:27.256Z"
   },
   {
    "duration": 24426,
    "start_time": "2023-08-16T07:50:09.965Z"
   },
   {
    "duration": 7965,
    "start_time": "2023-08-16T07:51:04.777Z"
   },
   {
    "duration": 23216,
    "start_time": "2023-08-16T07:51:23.495Z"
   },
   {
    "duration": 5702,
    "start_time": "2023-08-16T07:52:56.466Z"
   },
   {
    "duration": 5739,
    "start_time": "2023-08-16T07:53:15.789Z"
   },
   {
    "duration": 5975,
    "start_time": "2023-08-16T07:53:36.246Z"
   },
   {
    "duration": 24238,
    "start_time": "2023-08-16T07:53:52.568Z"
   },
   {
    "duration": 23741,
    "start_time": "2023-08-16T07:57:36.758Z"
   },
   {
    "duration": 7029,
    "start_time": "2023-08-16T07:58:46.398Z"
   },
   {
    "duration": 25681,
    "start_time": "2023-08-16T07:59:08.907Z"
   },
   {
    "duration": 4979,
    "start_time": "2023-08-16T07:59:50.979Z"
   },
   {
    "duration": 4698,
    "start_time": "2023-08-16T08:00:09.526Z"
   },
   {
    "duration": 4998,
    "start_time": "2023-08-16T08:00:19.388Z"
   },
   {
    "duration": 5864,
    "start_time": "2023-08-16T08:00:28.224Z"
   },
   {
    "duration": 24809,
    "start_time": "2023-08-16T08:00:49.138Z"
   },
   {
    "duration": 6720,
    "start_time": "2023-08-16T08:01:28.930Z"
   },
   {
    "duration": 6305,
    "start_time": "2023-08-16T08:02:07.863Z"
   },
   {
    "duration": 3,
    "start_time": "2023-08-16T08:02:14.171Z"
   },
   {
    "duration": 1084,
    "start_time": "2023-08-16T08:02:17.311Z"
   },
   {
    "duration": 139,
    "start_time": "2023-08-16T08:02:20.558Z"
   },
   {
    "duration": 46,
    "start_time": "2023-08-16T08:02:22.986Z"
   },
   {
    "duration": 84,
    "start_time": "2023-08-16T08:02:23.649Z"
   },
   {
    "duration": 7881,
    "start_time": "2023-08-16T08:02:24.676Z"
   },
   {
    "duration": 61,
    "start_time": "2023-08-16T08:02:34.726Z"
   },
   {
    "duration": 53,
    "start_time": "2023-08-16T08:02:35.505Z"
   },
   {
    "duration": 11,
    "start_time": "2023-08-16T08:02:39.556Z"
   },
   {
    "duration": 176,
    "start_time": "2023-08-16T08:02:41.786Z"
   },
   {
    "duration": 148,
    "start_time": "2023-08-16T08:02:46.546Z"
   },
   {
    "duration": 312,
    "start_time": "2023-08-16T08:02:47.621Z"
   },
   {
    "duration": 4,
    "start_time": "2023-08-16T08:02:48.167Z"
   },
   {
    "duration": 12,
    "start_time": "2023-08-16T08:02:52.576Z"
   },
   {
    "duration": 81,
    "start_time": "2023-08-16T08:03:01.751Z"
   },
   {
    "duration": 1678,
    "start_time": "2023-08-16T08:03:06.175Z"
   },
   {
    "duration": 82,
    "start_time": "2023-08-16T08:03:28.177Z"
   },
   {
    "duration": 201,
    "start_time": "2023-08-16T08:04:02.401Z"
   },
   {
    "duration": 55,
    "start_time": "2023-08-16T08:04:20.034Z"
   },
   {
    "duration": 4261,
    "start_time": "2023-08-16T08:04:57.388Z"
   },
   {
    "duration": 3383,
    "start_time": "2023-08-16T08:05:08.267Z"
   },
   {
    "duration": 24659,
    "start_time": "2023-08-16T08:05:11.652Z"
   },
   {
    "duration": 308,
    "start_time": "2023-08-16T08:06:39.947Z"
   },
   {
    "duration": 124,
    "start_time": "2023-08-16T08:06:45.777Z"
   },
   {
    "duration": 132,
    "start_time": "2023-08-16T08:06:53.423Z"
   },
   {
    "duration": 6167,
    "start_time": "2023-08-16T08:07:05.660Z"
   },
   {
    "duration": 25272,
    "start_time": "2023-08-16T08:07:17.476Z"
   },
   {
    "duration": 5995,
    "start_time": "2023-08-16T08:08:02.073Z"
   },
   {
    "duration": 5132,
    "start_time": "2023-08-16T08:08:24.524Z"
   },
   {
    "duration": 8289,
    "start_time": "2023-08-16T08:08:41.837Z"
   },
   {
    "duration": 28653,
    "start_time": "2023-08-16T08:08:57.275Z"
   },
   {
    "duration": 7468,
    "start_time": "2023-08-16T08:09:46.586Z"
   },
   {
    "duration": 26231,
    "start_time": "2023-08-16T08:10:06.396Z"
   },
   {
    "duration": 10621,
    "start_time": "2023-08-16T08:15:28.432Z"
   },
   {
    "duration": 31869,
    "start_time": "2023-08-16T08:15:54.075Z"
   },
   {
    "duration": 12025,
    "start_time": "2023-08-16T08:18:02.628Z"
   },
   {
    "duration": 36898,
    "start_time": "2023-08-16T08:18:33.267Z"
   },
   {
    "duration": 10772,
    "start_time": "2023-08-16T08:20:16.584Z"
   },
   {
    "duration": 29753,
    "start_time": "2023-08-16T08:20:34.107Z"
   },
   {
    "duration": 11310,
    "start_time": "2023-08-16T08:23:37.144Z"
   },
   {
    "duration": 18021,
    "start_time": "2023-08-17T12:11:09.831Z"
   },
   {
    "duration": 2,
    "start_time": "2023-08-17T12:11:27.854Z"
   },
   {
    "duration": 2323,
    "start_time": "2023-08-17T12:11:35.150Z"
   },
   {
    "duration": 64,
    "start_time": "2023-08-17T12:11:38.791Z"
   },
   {
    "duration": 26,
    "start_time": "2023-08-17T12:11:41.509Z"
   },
   {
    "duration": 54,
    "start_time": "2023-08-17T12:11:42.470Z"
   },
   {
    "duration": 5545,
    "start_time": "2023-08-17T12:11:43.631Z"
   },
   {
    "duration": 38,
    "start_time": "2023-08-17T12:11:55.191Z"
   },
   {
    "duration": 35,
    "start_time": "2023-08-17T12:11:55.870Z"
   },
   {
    "duration": 8,
    "start_time": "2023-08-17T12:11:59.790Z"
   },
   {
    "duration": 116,
    "start_time": "2023-08-17T12:12:00.435Z"
   },
   {
    "duration": 82,
    "start_time": "2023-08-17T12:12:04.230Z"
   },
   {
    "duration": 204,
    "start_time": "2023-08-17T12:12:07.389Z"
   },
   {
    "duration": 4,
    "start_time": "2023-08-17T12:12:07.829Z"
   },
   {
    "duration": 5,
    "start_time": "2023-08-17T12:12:12.035Z"
   },
   {
    "duration": 3853,
    "start_time": "2023-08-17T12:12:17.651Z"
   },
   {
    "duration": 17945,
    "start_time": "2023-08-17T12:12:21.506Z"
   },
   {
    "duration": 3,
    "start_time": "2023-08-17T12:12:43.982Z"
   },
   {
    "duration": 14,
    "start_time": "2023-08-17T12:12:50.061Z"
   },
   {
    "duration": 4,
    "start_time": "2023-08-17T12:12:50.752Z"
   },
   {
    "duration": 250426,
    "start_time": "2023-08-17T12:12:51.141Z"
   },
   {
    "duration": 4,
    "start_time": "2023-08-17T12:17:01.569Z"
   },
   {
    "duration": 36,
    "start_time": "2023-08-17T12:17:01.574Z"
   },
   {
    "duration": 4,
    "start_time": "2023-08-17T12:17:40.084Z"
   },
   {
    "duration": 124623,
    "start_time": "2023-08-17T12:17:40.911Z"
   },
   {
    "duration": 4,
    "start_time": "2023-08-17T12:19:45.536Z"
   },
   {
    "duration": 27,
    "start_time": "2023-08-17T12:19:45.542Z"
   },
   {
    "duration": 17,
    "start_time": "2023-08-17T12:19:45.570Z"
   },
   {
    "duration": 2916534,
    "start_time": "2023-08-17T12:19:45.589Z"
   },
   {
    "duration": 9,
    "start_time": "2023-08-17T13:08:22.125Z"
   },
   {
    "duration": 10,
    "start_time": "2023-08-17T13:08:22.135Z"
   },
   {
    "duration": 25,
    "start_time": "2023-08-17T13:08:22.147Z"
   },
   {
    "duration": 12,
    "start_time": "2023-08-17T13:09:07.917Z"
   },
   {
    "duration": 69769,
    "start_time": "2023-08-17T13:09:31.114Z"
   },
   {
    "duration": 295647,
    "start_time": "2023-08-17T13:10:53.332Z"
   },
   {
    "duration": 3462,
    "start_time": "2023-08-17T13:15:53.286Z"
   },
   {
    "duration": 177,
    "start_time": "2023-08-17T13:16:50.874Z"
   },
   {
    "duration": 15,
    "start_time": "2023-08-17T13:23:01.647Z"
   },
   {
    "duration": 6,
    "start_time": "2023-08-17T13:23:42.258Z"
   },
   {
    "duration": 80,
    "start_time": "2023-08-17T13:28:28.350Z"
   },
   {
    "duration": 42,
    "start_time": "2023-08-17T13:28:31.305Z"
   },
   {
    "duration": 12214,
    "start_time": "2023-08-17T13:29:34.326Z"
   },
   {
    "duration": 2,
    "start_time": "2023-08-17T13:29:46.542Z"
   },
   {
    "duration": 2469,
    "start_time": "2023-08-17T13:29:46.546Z"
   },
   {
    "duration": 68,
    "start_time": "2023-08-17T13:29:49.017Z"
   },
   {
    "duration": 26,
    "start_time": "2023-08-17T13:29:49.089Z"
   },
   {
    "duration": 70,
    "start_time": "2023-08-17T13:29:49.117Z"
   },
   {
    "duration": 5706,
    "start_time": "2023-08-17T13:29:49.189Z"
   },
   {
    "duration": 55,
    "start_time": "2023-08-17T13:29:54.896Z"
   },
   {
    "duration": 38,
    "start_time": "2023-08-17T13:29:54.952Z"
   },
   {
    "duration": 9,
    "start_time": "2023-08-17T13:29:54.992Z"
   },
   {
    "duration": 154,
    "start_time": "2023-08-17T13:29:55.002Z"
   },
   {
    "duration": 96,
    "start_time": "2023-08-17T13:29:55.157Z"
   },
   {
    "duration": 227,
    "start_time": "2023-08-17T13:29:55.255Z"
   },
   {
    "duration": 5,
    "start_time": "2023-08-17T13:29:55.485Z"
   },
   {
    "duration": 34,
    "start_time": "2023-08-17T13:29:55.491Z"
   },
   {
    "duration": 17877,
    "start_time": "2023-08-18T10:10:34.929Z"
   },
   {
    "duration": 3,
    "start_time": "2023-08-18T10:10:52.808Z"
   },
   {
    "duration": 3381,
    "start_time": "2023-08-18T10:10:52.813Z"
   },
   {
    "duration": 78,
    "start_time": "2023-08-18T10:10:56.197Z"
   },
   {
    "duration": 28,
    "start_time": "2023-08-18T10:10:56.277Z"
   },
   {
    "duration": 88,
    "start_time": "2023-08-18T10:10:56.307Z"
   },
   {
    "duration": 6409,
    "start_time": "2023-08-18T10:10:56.397Z"
   },
   {
    "duration": 60,
    "start_time": "2023-08-18T10:11:02.808Z"
   },
   {
    "duration": 39,
    "start_time": "2023-08-18T10:11:02.869Z"
   },
   {
    "duration": 8,
    "start_time": "2023-08-18T10:11:02.911Z"
   },
   {
    "duration": 139,
    "start_time": "2023-08-18T10:11:02.921Z"
   },
   {
    "duration": 108,
    "start_time": "2023-08-18T10:11:03.062Z"
   },
   {
    "duration": 257,
    "start_time": "2023-08-18T10:11:03.171Z"
   },
   {
    "duration": 4,
    "start_time": "2023-08-18T10:11:03.430Z"
   },
   {
    "duration": 85,
    "start_time": "2023-08-18T10:11:03.565Z"
   },
   {
    "duration": 890327,
    "start_time": "2023-08-18T10:11:03.651Z"
   },
   {
    "duration": 5708,
    "start_time": "2023-08-18T10:25:53.980Z"
   },
   {
    "duration": 19875,
    "start_time": "2023-08-18T10:25:59.690Z"
   },
   {
    "duration": 0,
    "start_time": "2023-08-18T10:26:19.567Z"
   },
   {
    "duration": 0,
    "start_time": "2023-08-18T10:26:19.569Z"
   },
   {
    "duration": 0,
    "start_time": "2023-08-18T10:26:19.570Z"
   },
   {
    "duration": 0,
    "start_time": "2023-08-18T10:26:19.571Z"
   },
   {
    "duration": 0,
    "start_time": "2023-08-18T10:26:19.571Z"
   },
   {
    "duration": 0,
    "start_time": "2023-08-18T10:26:19.573Z"
   },
   {
    "duration": 0,
    "start_time": "2023-08-18T10:26:19.574Z"
   },
   {
    "duration": 0,
    "start_time": "2023-08-18T10:26:19.575Z"
   },
   {
    "duration": 0,
    "start_time": "2023-08-18T10:26:19.576Z"
   },
   {
    "duration": 0,
    "start_time": "2023-08-18T10:26:19.577Z"
   },
   {
    "duration": 0,
    "start_time": "2023-08-18T10:26:19.578Z"
   },
   {
    "duration": 0,
    "start_time": "2023-08-18T10:26:19.579Z"
   },
   {
    "duration": 0,
    "start_time": "2023-08-18T10:26:19.580Z"
   },
   {
    "duration": 0,
    "start_time": "2023-08-18T10:26:19.581Z"
   },
   {
    "duration": 0,
    "start_time": "2023-08-18T10:26:19.582Z"
   },
   {
    "duration": 0,
    "start_time": "2023-08-18T10:26:19.583Z"
   },
   {
    "duration": 0,
    "start_time": "2023-08-18T10:26:19.584Z"
   },
   {
    "duration": 0,
    "start_time": "2023-08-18T10:26:19.585Z"
   },
   {
    "duration": 2,
    "start_time": "2023-08-18T11:08:56.870Z"
   },
   {
    "duration": 19,
    "start_time": "2023-08-18T11:08:58.764Z"
   },
   {
    "duration": 5,
    "start_time": "2023-08-18T11:08:58.917Z"
   },
   {
    "duration": 270274,
    "start_time": "2023-08-18T11:08:59.069Z"
   },
   {
    "duration": 11,
    "start_time": "2023-08-18T11:13:29.345Z"
   },
   {
    "duration": 4,
    "start_time": "2023-08-18T11:13:29.358Z"
   },
   {
    "duration": 7,
    "start_time": "2023-08-18T11:13:29.364Z"
   },
   {
    "duration": 144886,
    "start_time": "2023-08-18T11:13:29.372Z"
   },
   {
    "duration": 5,
    "start_time": "2023-08-18T11:15:54.260Z"
   },
   {
    "duration": 11,
    "start_time": "2023-08-18T11:15:54.357Z"
   },
   {
    "duration": 19,
    "start_time": "2023-08-18T11:15:54.370Z"
   },
   {
    "duration": 18881,
    "start_time": "2023-08-19T08:17:55.935Z"
   },
   {
    "duration": 3,
    "start_time": "2023-08-19T08:18:14.818Z"
   },
   {
    "duration": 2494,
    "start_time": "2023-08-19T08:18:14.822Z"
   },
   {
    "duration": 64,
    "start_time": "2023-08-19T08:18:17.317Z"
   },
   {
    "duration": 23,
    "start_time": "2023-08-19T08:18:17.384Z"
   },
   {
    "duration": 94,
    "start_time": "2023-08-19T08:18:17.409Z"
   },
   {
    "duration": 6769,
    "start_time": "2023-08-19T08:18:17.505Z"
   },
   {
    "duration": 54,
    "start_time": "2023-08-19T08:18:24.276Z"
   },
   {
    "duration": 39,
    "start_time": "2023-08-19T08:18:24.332Z"
   },
   {
    "duration": 8,
    "start_time": "2023-08-19T08:18:24.373Z"
   },
   {
    "duration": 141,
    "start_time": "2023-08-19T08:18:24.383Z"
   },
   {
    "duration": 106,
    "start_time": "2023-08-19T08:18:24.525Z"
   },
   {
    "duration": 222,
    "start_time": "2023-08-19T08:18:24.632Z"
   },
   {
    "duration": 3,
    "start_time": "2023-08-19T08:18:24.857Z"
   },
   {
    "duration": 9,
    "start_time": "2023-08-19T08:18:24.862Z"
   },
   {
    "duration": 947329,
    "start_time": "2023-08-19T08:18:24.872Z"
   },
   {
    "duration": 7099,
    "start_time": "2023-08-19T08:34:12.203Z"
   },
   {
    "duration": 19823,
    "start_time": "2023-08-19T08:34:19.304Z"
   },
   {
    "duration": 2,
    "start_time": "2023-08-19T08:35:09.493Z"
   },
   {
    "duration": 16,
    "start_time": "2023-08-19T08:35:10.577Z"
   },
   {
    "duration": 4,
    "start_time": "2023-08-19T08:35:10.767Z"
   },
   {
    "duration": 259580,
    "start_time": "2023-08-19T08:35:10.933Z"
   },
   {
    "duration": 11,
    "start_time": "2023-08-19T08:39:30.515Z"
   },
   {
    "duration": 90,
    "start_time": "2023-08-19T08:39:30.529Z"
   },
   {
    "duration": 151,
    "start_time": "2023-08-19T08:39:30.622Z"
   },
   {
    "duration": 135452,
    "start_time": "2023-08-19T08:39:30.775Z"
   },
   {
    "duration": 5,
    "start_time": "2023-08-19T08:41:46.229Z"
   },
   {
    "duration": 5,
    "start_time": "2023-08-19T08:41:46.236Z"
   },
   {
    "duration": 93,
    "start_time": "2023-08-19T08:41:46.242Z"
   },
   {
    "duration": 17717,
    "start_time": "2023-08-19T11:20:50.351Z"
   },
   {
    "duration": 3,
    "start_time": "2023-08-19T11:21:08.070Z"
   },
   {
    "duration": 3369,
    "start_time": "2023-08-19T11:21:08.074Z"
   },
   {
    "duration": 69,
    "start_time": "2023-08-19T11:21:11.445Z"
   },
   {
    "duration": 28,
    "start_time": "2023-08-19T11:21:11.517Z"
   },
   {
    "duration": 64,
    "start_time": "2023-08-19T11:21:11.557Z"
   },
   {
    "duration": 6066,
    "start_time": "2023-08-19T11:21:11.622Z"
   },
   {
    "duration": 46,
    "start_time": "2023-08-19T11:21:17.690Z"
   },
   {
    "duration": 57,
    "start_time": "2023-08-19T11:21:17.737Z"
   },
   {
    "duration": 7,
    "start_time": "2023-08-19T11:21:17.796Z"
   },
   {
    "duration": 138,
    "start_time": "2023-08-19T11:21:17.805Z"
   },
   {
    "duration": 113,
    "start_time": "2023-08-19T11:21:17.945Z"
   },
   {
    "duration": 240,
    "start_time": "2023-08-19T11:21:18.059Z"
   },
   {
    "duration": 3,
    "start_time": "2023-08-19T11:21:18.302Z"
   },
   {
    "duration": 6,
    "start_time": "2023-08-19T11:21:18.307Z"
   },
   {
    "duration": 923330,
    "start_time": "2023-08-19T11:21:18.315Z"
   },
   {
    "duration": 3930,
    "start_time": "2023-08-19T11:36:41.647Z"
   },
   {
    "duration": 20159,
    "start_time": "2023-08-19T11:36:45.579Z"
   },
   {
    "duration": 4,
    "start_time": "2023-08-19T11:55:07.509Z"
   },
   {
    "duration": 21,
    "start_time": "2023-08-19T11:55:08.931Z"
   },
   {
    "duration": 4,
    "start_time": "2023-08-19T11:55:09.102Z"
   },
   {
    "duration": 268877,
    "start_time": "2023-08-19T11:55:11.116Z"
   },
   {
    "duration": 4,
    "start_time": "2023-08-19T11:59:39.995Z"
   },
   {
    "duration": 7,
    "start_time": "2023-08-19T11:59:40.000Z"
   },
   {
    "duration": 5,
    "start_time": "2023-08-19T11:59:40.008Z"
   },
   {
    "duration": 142842,
    "start_time": "2023-08-19T11:59:40.015Z"
   },
   {
    "duration": 4,
    "start_time": "2023-08-19T12:02:02.858Z"
   },
   {
    "duration": 16,
    "start_time": "2023-08-19T12:02:02.864Z"
   },
   {
    "duration": 12,
    "start_time": "2023-08-19T12:02:02.882Z"
   },
   {
    "duration": 3956465,
    "start_time": "2023-08-19T12:02:02.896Z"
   },
   {
    "duration": 4,
    "start_time": "2023-08-19T13:07:59.362Z"
   },
   {
    "duration": 20,
    "start_time": "2023-08-19T13:07:59.368Z"
   },
   {
    "duration": 21,
    "start_time": "2023-08-19T13:07:59.390Z"
   },
   {
    "duration": 291775,
    "start_time": "2023-08-19T13:07:59.413Z"
   },
   {
    "duration": 3720,
    "start_time": "2023-08-19T13:12:51.191Z"
   },
   {
    "duration": 198,
    "start_time": "2023-08-19T13:12:54.913Z"
   },
   {
    "duration": 6611,
    "start_time": "2023-08-19T13:12:55.113Z"
   },
   {
    "duration": 77,
    "start_time": "2023-08-19T16:19:41.309Z"
   },
   {
    "duration": 4944,
    "start_time": "2023-08-19T16:19:57.937Z"
   },
   {
    "duration": 9608,
    "start_time": "2023-08-19T16:20:43.470Z"
   },
   {
    "duration": 4707,
    "start_time": "2023-08-19T16:22:30.483Z"
   },
   {
    "duration": 4075,
    "start_time": "2023-08-19T16:24:38.409Z"
   },
   {
    "duration": 4959,
    "start_time": "2023-08-19T16:24:53.706Z"
   },
   {
    "duration": 4319,
    "start_time": "2023-08-19T16:25:17.821Z"
   },
   {
    "duration": 95,
    "start_time": "2023-08-19T16:27:18.295Z"
   },
   {
    "duration": 88,
    "start_time": "2023-08-19T16:29:47.178Z"
   },
   {
    "duration": 79,
    "start_time": "2023-08-19T16:32:48.012Z"
   },
   {
    "duration": 110,
    "start_time": "2023-08-19T16:33:41.553Z"
   },
   {
    "duration": 3800,
    "start_time": "2023-08-19T16:35:04.184Z"
   },
   {
    "duration": 3732,
    "start_time": "2023-08-19T16:35:23.821Z"
   },
   {
    "duration": 112,
    "start_time": "2023-08-19T16:37:08.174Z"
   },
   {
    "duration": 9071,
    "start_time": "2023-08-19T16:37:14.026Z"
   },
   {
    "duration": 54,
    "start_time": "2023-08-24T10:21:39.188Z"
   },
   {
    "duration": 5310,
    "start_time": "2023-08-24T10:21:52.549Z"
   },
   {
    "duration": 756,
    "start_time": "2023-08-24T10:27:05.240Z"
   },
   {
    "duration": 354,
    "start_time": "2023-08-24T10:27:28.038Z"
   }
  ],
  "kernelspec": {
   "display_name": "Python 3 (ipykernel)",
   "language": "python",
   "name": "python3"
  },
  "language_info": {
   "codemirror_mode": {
    "name": "ipython",
    "version": 3
   },
   "file_extension": ".py",
   "mimetype": "text/x-python",
   "name": "python",
   "nbconvert_exporter": "python",
   "pygments_lexer": "ipython3",
   "version": "3.9.5"
  },
  "toc": {
   "base_numbering": 1,
   "nav_menu": {},
   "number_sections": true,
   "sideBar": true,
   "skip_h1_title": true,
   "title_cell": "Содержание",
   "title_sidebar": "Contents",
   "toc_cell": true,
   "toc_position": {
    "height": "calc(100% - 180px)",
    "left": "10px",
    "top": "150px",
    "width": "302.391px"
   },
   "toc_section_display": true,
   "toc_window_display": false
  }
 },
 "nbformat": 4,
 "nbformat_minor": 2
}
