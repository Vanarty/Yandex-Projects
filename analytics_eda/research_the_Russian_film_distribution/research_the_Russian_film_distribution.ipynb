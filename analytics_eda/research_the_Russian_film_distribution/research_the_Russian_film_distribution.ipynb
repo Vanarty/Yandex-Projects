{
 "cells": [
  {
   "cell_type": "markdown",
   "metadata": {
    "id": "sIfNaMOxgFyK"
   },
   "source": [
    "# Исследование данных о российском кинопрокате\n",
    "\n",
    "Заказчик этого исследования — Министерство культуры Российской Федерации.\n",
    "\n",
    "Необходимо изучить рынок российского кинопроката и выявить текущие тренды. Так же будет уделено внимание фильмам, которые получили государственную поддержку. Насколько такие фильмы интересны зрителю.\n",
    "\n",
    "Для исследования будут использованы данные, опубликованные на портале открытых данных Министерства культуры. Набор данных содержит информацию о прокатных удостоверениях, сборах и государственной поддержке фильмов, а также информацию с сайта КиноПоиск."
   ]
  },
  {
   "cell_type": "markdown",
   "metadata": {
    "id": "3bSlkCsbgFyL"
   },
   "source": [
    "## Шаг 1. Откроем файлы с данными и объединим их в один датафрейм. \n",
    "\n",
    "Объединим данные таким образом, чтобы все объекты из датасета `mkrf_movies` обязательно вошли в получившийся датафрейм. \n",
    "\n",
    "<div id=\"accordion\">\n",
    "    <div class=\"card\">\n",
    "        <div class=\"card-header\" id=\"headingThree\">\n",
    "            <button class=\"btn btn-link collapsed\" data-toggle=\"collapse\" data-target=\"#collapseHint_0\" aria-expanded=\"false\" aria-controls=\"collapseHint_0\">Подсказка</button>\n",
    "        </div>\n",
    "        <div id=\"collapseHint_0\" class=\"collapse\" aria-labelledby=\"headingThree\" data-parent=\"#accordion\">\n",
    "            <div class=\"card-body\">\n",
    "Обратите внимание на тип данных столбца, по которому будете соединять датафреймы. Тип данных этих столбцов должен быть одинаковым в обоих датафреймах.\n",
    "            </div>\n",
    "        </div>\n",
    "    </div>\n",
    "</div>"
   ]
  },
  {
   "cell_type": "code",
   "execution_count": 1,
   "metadata": {
    "id": "dw87FlzMgFyM"
   },
   "outputs": [],
   "source": [
    "import pandas as pd\n",
    "import matplotlib.pyplot as plt\n",
    "import seaborn as sns\n",
    "\n",
    "try: \n",
    "    df_mkrf_movies = pd.read_csv('mkrf_movies.csv')#, dtype={'puNumber' : 'int64'})\n",
    "    df_mkrf_shows = pd.read_csv('mkrf_shows.csv')\n",
    "except:\n",
    "    df_mkrf_movies = pd.read_csv('/datasets/mkrf_movies.csv')#, dtype={'puNumber' : 'int64'})\n",
    "    df_mkrf_shows = pd.read_csv('/datasets/mkrf_shows.csv')"
   ]
  },
  {
   "cell_type": "markdown",
   "metadata": {},
   "source": [
    "Далее проверим считались ли данные, а так же выведем общую информацию по каждому датафрейму перед объединением."
   ]
  },
  {
   "cell_type": "code",
   "execution_count": 2,
   "metadata": {},
   "outputs": [
    {
     "data": {
      "text/html": [
       "<div>\n",
       "<style scoped>\n",
       "    .dataframe tbody tr th:only-of-type {\n",
       "        vertical-align: middle;\n",
       "    }\n",
       "\n",
       "    .dataframe tbody tr th {\n",
       "        vertical-align: top;\n",
       "    }\n",
       "\n",
       "    .dataframe thead th {\n",
       "        text-align: right;\n",
       "    }\n",
       "</style>\n",
       "<table border=\"1\" class=\"dataframe\">\n",
       "  <thead>\n",
       "    <tr style=\"text-align: right;\">\n",
       "      <th></th>\n",
       "      <th>title</th>\n",
       "      <th>puNumber</th>\n",
       "      <th>show_start_date</th>\n",
       "      <th>type</th>\n",
       "      <th>film_studio</th>\n",
       "      <th>production_country</th>\n",
       "      <th>director</th>\n",
       "      <th>producer</th>\n",
       "      <th>age_restriction</th>\n",
       "      <th>refundable_support</th>\n",
       "      <th>nonrefundable_support</th>\n",
       "      <th>budget</th>\n",
       "      <th>financing_source</th>\n",
       "      <th>ratings</th>\n",
       "      <th>genres</th>\n",
       "    </tr>\n",
       "  </thead>\n",
       "  <tbody>\n",
       "    <tr>\n",
       "      <th>0</th>\n",
       "      <td>Открытый простор</td>\n",
       "      <td>221048915</td>\n",
       "      <td>2015-11-27T12:00:00.000Z</td>\n",
       "      <td>Художественный</td>\n",
       "      <td>Тачстоун Пикчерз, Кобальт Пикчерз, Бикон Пикче...</td>\n",
       "      <td>США</td>\n",
       "      <td>Кевин Костнер</td>\n",
       "      <td>Дэвид Валдес, Кевин Костнер, Джейк Эбертс</td>\n",
       "      <td>«18+» - запрещено для детей</td>\n",
       "      <td>NaN</td>\n",
       "      <td>NaN</td>\n",
       "      <td>NaN</td>\n",
       "      <td>NaN</td>\n",
       "      <td>7.2</td>\n",
       "      <td>боевик,драма,мелодрама</td>\n",
       "    </tr>\n",
       "    <tr>\n",
       "      <th>1</th>\n",
       "      <td>Особо важное задание</td>\n",
       "      <td>111013716</td>\n",
       "      <td>2016-09-13T12:00:00.000Z</td>\n",
       "      <td>Художественный</td>\n",
       "      <td>Киностудия \"Мосфильм\"</td>\n",
       "      <td>СССР</td>\n",
       "      <td>Е.Матвеев</td>\n",
       "      <td>NaN</td>\n",
       "      <td>«6+» - для детей старше 6 лет</td>\n",
       "      <td>NaN</td>\n",
       "      <td>NaN</td>\n",
       "      <td>NaN</td>\n",
       "      <td>NaN</td>\n",
       "      <td>6.6</td>\n",
       "      <td>драма,военный</td>\n",
       "    </tr>\n",
       "    <tr>\n",
       "      <th>2</th>\n",
       "      <td>Особо опасен</td>\n",
       "      <td>221038416</td>\n",
       "      <td>2016-10-10T12:00:00.000Z</td>\n",
       "      <td>Художественный</td>\n",
       "      <td>Юниверсал Пикчерз, Кикстарт Продакшнз, Марк Пл...</td>\n",
       "      <td>США</td>\n",
       "      <td>Тимур Бекмамбетов</td>\n",
       "      <td>Джим Лемли, Джейсон Нетер, Марк Е.Платт, Яйн Смит</td>\n",
       "      <td>«18+» - запрещено для детей</td>\n",
       "      <td>NaN</td>\n",
       "      <td>NaN</td>\n",
       "      <td>NaN</td>\n",
       "      <td>NaN</td>\n",
       "      <td>6.8</td>\n",
       "      <td>фантастика,боевик,триллер</td>\n",
       "    </tr>\n",
       "    <tr>\n",
       "      <th>3</th>\n",
       "      <td>Особо опасен</td>\n",
       "      <td>221026916</td>\n",
       "      <td>2016-06-10T12:00:00.000Z</td>\n",
       "      <td>Художественный</td>\n",
       "      <td>Юниверсал Пикчерз, Кикстарт Продакшнз, Марк Пл...</td>\n",
       "      <td>США</td>\n",
       "      <td>Тимур Бекмамбетов</td>\n",
       "      <td>Джим Лемли, Джейсон Нетер, Марк Е.Платт, Яйн Смит</td>\n",
       "      <td>«18+» - запрещено для детей</td>\n",
       "      <td>NaN</td>\n",
       "      <td>NaN</td>\n",
       "      <td>NaN</td>\n",
       "      <td>NaN</td>\n",
       "      <td>6.8</td>\n",
       "      <td>фантастика,боевик,триллер</td>\n",
       "    </tr>\n",
       "    <tr>\n",
       "      <th>4</th>\n",
       "      <td>Особо опасен</td>\n",
       "      <td>221030815</td>\n",
       "      <td>2015-07-29T12:00:00.000Z</td>\n",
       "      <td>Художественный</td>\n",
       "      <td>Юниверсал Пикчерз, Кикстарт Продакшнз, Марк Пл...</td>\n",
       "      <td>США</td>\n",
       "      <td>Тимур Бекмамбетов</td>\n",
       "      <td>Джим Лемли, Джейсон Нетер, Марк Е.Платт, Яйн Смит</td>\n",
       "      <td>«18+» - запрещено для детей</td>\n",
       "      <td>NaN</td>\n",
       "      <td>NaN</td>\n",
       "      <td>NaN</td>\n",
       "      <td>NaN</td>\n",
       "      <td>6.8</td>\n",
       "      <td>фантастика,боевик,триллер</td>\n",
       "    </tr>\n",
       "  </tbody>\n",
       "</table>\n",
       "</div>"
      ],
      "text/plain": [
       "                  title   puNumber           show_start_date            type  \\\n",
       "0      Открытый простор  221048915  2015-11-27T12:00:00.000Z  Художественный   \n",
       "1  Особо важное задание  111013716  2016-09-13T12:00:00.000Z  Художественный   \n",
       "2          Особо опасен  221038416  2016-10-10T12:00:00.000Z  Художественный   \n",
       "3          Особо опасен  221026916  2016-06-10T12:00:00.000Z  Художественный   \n",
       "4          Особо опасен  221030815  2015-07-29T12:00:00.000Z  Художественный   \n",
       "\n",
       "                                         film_studio production_country  \\\n",
       "0  Тачстоун Пикчерз, Кобальт Пикчерз, Бикон Пикче...                США   \n",
       "1                              Киностудия \"Мосфильм\"               СССР   \n",
       "2  Юниверсал Пикчерз, Кикстарт Продакшнз, Марк Пл...                США   \n",
       "3  Юниверсал Пикчерз, Кикстарт Продакшнз, Марк Пл...                США   \n",
       "4  Юниверсал Пикчерз, Кикстарт Продакшнз, Марк Пл...                США   \n",
       "\n",
       "            director                                           producer  \\\n",
       "0      Кевин Костнер          Дэвид Валдес, Кевин Костнер, Джейк Эбертс   \n",
       "1          Е.Матвеев                                                NaN   \n",
       "2  Тимур Бекмамбетов  Джим Лемли, Джейсон Нетер, Марк Е.Платт, Яйн Смит   \n",
       "3  Тимур Бекмамбетов  Джим Лемли, Джейсон Нетер, Марк Е.Платт, Яйн Смит   \n",
       "4  Тимур Бекмамбетов  Джим Лемли, Джейсон Нетер, Марк Е.Платт, Яйн Смит   \n",
       "\n",
       "                 age_restriction  refundable_support  nonrefundable_support  \\\n",
       "0    «18+» - запрещено для детей                 NaN                    NaN   \n",
       "1  «6+» - для детей старше 6 лет                 NaN                    NaN   \n",
       "2    «18+» - запрещено для детей                 NaN                    NaN   \n",
       "3    «18+» - запрещено для детей                 NaN                    NaN   \n",
       "4    «18+» - запрещено для детей                 NaN                    NaN   \n",
       "\n",
       "   budget financing_source ratings                     genres  \n",
       "0     NaN              NaN     7.2     боевик,драма,мелодрама  \n",
       "1     NaN              NaN     6.6              драма,военный  \n",
       "2     NaN              NaN     6.8  фантастика,боевик,триллер  \n",
       "3     NaN              NaN     6.8  фантастика,боевик,триллер  \n",
       "4     NaN              NaN     6.8  фантастика,боевик,триллер  "
      ]
     },
     "metadata": {},
     "output_type": "display_data"
    },
    {
     "name": "stdout",
     "output_type": "stream",
     "text": [
      "<class 'pandas.core.frame.DataFrame'>\n",
      "RangeIndex: 7486 entries, 0 to 7485\n",
      "Data columns (total 15 columns):\n",
      " #   Column                 Non-Null Count  Dtype  \n",
      "---  ------                 --------------  -----  \n",
      " 0   title                  7486 non-null   object \n",
      " 1   puNumber               7486 non-null   object \n",
      " 2   show_start_date        7486 non-null   object \n",
      " 3   type                   7486 non-null   object \n",
      " 4   film_studio            7468 non-null   object \n",
      " 5   production_country     7484 non-null   object \n",
      " 6   director               7477 non-null   object \n",
      " 7   producer               6918 non-null   object \n",
      " 8   age_restriction        7486 non-null   object \n",
      " 9   refundable_support     332 non-null    float64\n",
      " 10  nonrefundable_support  332 non-null    float64\n",
      " 11  budget                 332 non-null    float64\n",
      " 12  financing_source       332 non-null    object \n",
      " 13  ratings                6519 non-null   object \n",
      " 14  genres                 6510 non-null   object \n",
      "dtypes: float64(3), object(12)\n",
      "memory usage: 877.4+ KB\n"
     ]
    }
   ],
   "source": [
    "display(df_mkrf_movies.head())\n",
    "df_mkrf_movies.info()"
   ]
  },
  {
   "cell_type": "code",
   "execution_count": 3,
   "metadata": {},
   "outputs": [
    {
     "data": {
      "text/html": [
       "<div>\n",
       "<style scoped>\n",
       "    .dataframe tbody tr th:only-of-type {\n",
       "        vertical-align: middle;\n",
       "    }\n",
       "\n",
       "    .dataframe tbody tr th {\n",
       "        vertical-align: top;\n",
       "    }\n",
       "\n",
       "    .dataframe thead th {\n",
       "        text-align: right;\n",
       "    }\n",
       "</style>\n",
       "<table border=\"1\" class=\"dataframe\">\n",
       "  <thead>\n",
       "    <tr style=\"text-align: right;\">\n",
       "      <th></th>\n",
       "      <th>puNumber</th>\n",
       "      <th>box_office</th>\n",
       "    </tr>\n",
       "  </thead>\n",
       "  <tbody>\n",
       "    <tr>\n",
       "      <th>0</th>\n",
       "      <td>111000113</td>\n",
       "      <td>2.450000e+03</td>\n",
       "    </tr>\n",
       "    <tr>\n",
       "      <th>1</th>\n",
       "      <td>111000115</td>\n",
       "      <td>6.104000e+04</td>\n",
       "    </tr>\n",
       "    <tr>\n",
       "      <th>2</th>\n",
       "      <td>111000116</td>\n",
       "      <td>1.530300e+08</td>\n",
       "    </tr>\n",
       "    <tr>\n",
       "      <th>3</th>\n",
       "      <td>111000117</td>\n",
       "      <td>1.226096e+07</td>\n",
       "    </tr>\n",
       "    <tr>\n",
       "      <th>4</th>\n",
       "      <td>111000118</td>\n",
       "      <td>1.636841e+08</td>\n",
       "    </tr>\n",
       "  </tbody>\n",
       "</table>\n",
       "</div>"
      ],
      "text/plain": [
       "    puNumber    box_office\n",
       "0  111000113  2.450000e+03\n",
       "1  111000115  6.104000e+04\n",
       "2  111000116  1.530300e+08\n",
       "3  111000117  1.226096e+07\n",
       "4  111000118  1.636841e+08"
      ]
     },
     "metadata": {},
     "output_type": "display_data"
    },
    {
     "name": "stdout",
     "output_type": "stream",
     "text": [
      "<class 'pandas.core.frame.DataFrame'>\n",
      "RangeIndex: 3158 entries, 0 to 3157\n",
      "Data columns (total 2 columns):\n",
      " #   Column      Non-Null Count  Dtype  \n",
      "---  ------      --------------  -----  \n",
      " 0   puNumber    3158 non-null   int64  \n",
      " 1   box_office  3158 non-null   float64\n",
      "dtypes: float64(1), int64(1)\n",
      "memory usage: 49.5 KB\n"
     ]
    }
   ],
   "source": [
    "display(df_mkrf_shows.head())\n",
    "df_mkrf_shows.info()"
   ]
  },
  {
   "cell_type": "markdown",
   "metadata": {},
   "source": [
    "Согласно полученной информации объединение двух датафреймов возможно по колонке `['puNumber']`. Но для начала необходимо привести колонку к общему типу. Так как значения по данной колонке должны быть количественными с типом `'int'`, а в таблице `df_mkrf_movies` тип по колонке указан как `'object'`, то можно предположить, что кроме числовых значений присутствует так называемый 'мусор' (текстовые значения, символы). Чтобы правильно преобразовать такие данные к типу `'int'` сначала необходимо строковые значения заполнить другим числовым значением (например: `-1`), указывающим на то, что по данной строке отсутствует индентификатор. \n",
    "\n",
    "Результат объединения двух таблиц будет присвоен новому датафрему с названием `df` без нежелательной потери данных."
   ]
  },
  {
   "cell_type": "code",
   "execution_count": 4,
   "metadata": {},
   "outputs": [
    {
     "data": {
      "text/html": [
       "<div>\n",
       "<style scoped>\n",
       "    .dataframe tbody tr th:only-of-type {\n",
       "        vertical-align: middle;\n",
       "    }\n",
       "\n",
       "    .dataframe tbody tr th {\n",
       "        vertical-align: top;\n",
       "    }\n",
       "\n",
       "    .dataframe thead th {\n",
       "        text-align: right;\n",
       "    }\n",
       "</style>\n",
       "<table border=\"1\" class=\"dataframe\">\n",
       "  <thead>\n",
       "    <tr style=\"text-align: right;\">\n",
       "      <th></th>\n",
       "      <th>title</th>\n",
       "      <th>puNumber</th>\n",
       "      <th>show_start_date</th>\n",
       "      <th>type</th>\n",
       "      <th>film_studio</th>\n",
       "      <th>production_country</th>\n",
       "      <th>director</th>\n",
       "      <th>producer</th>\n",
       "      <th>age_restriction</th>\n",
       "      <th>refundable_support</th>\n",
       "      <th>nonrefundable_support</th>\n",
       "      <th>budget</th>\n",
       "      <th>financing_source</th>\n",
       "      <th>ratings</th>\n",
       "      <th>genres</th>\n",
       "    </tr>\n",
       "  </thead>\n",
       "  <tbody>\n",
       "    <tr>\n",
       "      <th>1797</th>\n",
       "      <td>Курбан-роман. (История с жертвой)</td>\n",
       "      <td>NaN</td>\n",
       "      <td>2014-05-15T12:00:00.000Z</td>\n",
       "      <td>Художественный</td>\n",
       "      <td>ФОНД \"ИННОВАЦИЯ\"</td>\n",
       "      <td>Россия</td>\n",
       "      <td>С.Юзеев</td>\n",
       "      <td>М.Галицкая</td>\n",
       "      <td>«12+» - для детей старше 12 лет</td>\n",
       "      <td>NaN</td>\n",
       "      <td>NaN</td>\n",
       "      <td>NaN</td>\n",
       "      <td>NaN</td>\n",
       "      <td>NaN</td>\n",
       "      <td>NaN</td>\n",
       "    </tr>\n",
       "  </tbody>\n",
       "</table>\n",
       "</div>"
      ],
      "text/plain": [
       "                                  title  puNumber           show_start_date  \\\n",
       "1797  Курбан-роман. (История с жертвой)       NaN  2014-05-15T12:00:00.000Z   \n",
       "\n",
       "                type       film_studio production_country director  \\\n",
       "1797  Художественный  ФОНД \"ИННОВАЦИЯ\"             Россия  С.Юзеев   \n",
       "\n",
       "        producer                  age_restriction  refundable_support  \\\n",
       "1797  М.Галицкая  «12+» - для детей старше 12 лет                 NaN   \n",
       "\n",
       "      nonrefundable_support  budget financing_source ratings genres  \n",
       "1797                    NaN     NaN              NaN     NaN    NaN  "
      ]
     },
     "execution_count": 4,
     "metadata": {},
     "output_type": "execute_result"
    }
   ],
   "source": [
    "# приведем колонку с индентификатором фильма к типу int\n",
    "df_mkrf_movies['puNumber'] = (\n",
    "    pd.to_numeric(df_mkrf_movies['puNumber'], errors='coerce')\n",
    "    #.fillna(-1) # присваиваем строковым значениям определенное число\n",
    ")\n",
    "\n",
    "#проверим колонку puNumber на наличие пропусков\n",
    "df_mkrf_movies[df_mkrf_movies['puNumber'].isna()]"
   ]
  },
  {
   "cell_type": "markdown",
   "metadata": {},
   "source": [
    "В итоге имеется одно наименование с пропущенным значением прокатного удостоврения (`'NaN'`). Так как отсутствуют основные финансовые данные и рейтинга, по которым будет проводиться исследование, можно удалить из данных эту строчку.  "
   ]
  },
  {
   "cell_type": "code",
   "execution_count": 5,
   "metadata": {},
   "outputs": [
    {
     "data": {
      "text/html": [
       "<div>\n",
       "<style scoped>\n",
       "    .dataframe tbody tr th:only-of-type {\n",
       "        vertical-align: middle;\n",
       "    }\n",
       "\n",
       "    .dataframe tbody tr th {\n",
       "        vertical-align: top;\n",
       "    }\n",
       "\n",
       "    .dataframe thead th {\n",
       "        text-align: right;\n",
       "    }\n",
       "</style>\n",
       "<table border=\"1\" class=\"dataframe\">\n",
       "  <thead>\n",
       "    <tr style=\"text-align: right;\">\n",
       "      <th></th>\n",
       "      <th>title</th>\n",
       "      <th>puNumber</th>\n",
       "      <th>show_start_date</th>\n",
       "      <th>type</th>\n",
       "      <th>film_studio</th>\n",
       "      <th>production_country</th>\n",
       "      <th>director</th>\n",
       "      <th>producer</th>\n",
       "      <th>age_restriction</th>\n",
       "      <th>refundable_support</th>\n",
       "      <th>nonrefundable_support</th>\n",
       "      <th>budget</th>\n",
       "      <th>financing_source</th>\n",
       "      <th>ratings</th>\n",
       "      <th>genres</th>\n",
       "    </tr>\n",
       "  </thead>\n",
       "  <tbody>\n",
       "  </tbody>\n",
       "</table>\n",
       "</div>"
      ],
      "text/plain": [
       "Empty DataFrame\n",
       "Columns: [title, puNumber, show_start_date, type, film_studio, production_country, director, producer, age_restriction, refundable_support, nonrefundable_support, budget, financing_source, ratings, genres]\n",
       "Index: []"
      ]
     },
     "execution_count": 5,
     "metadata": {},
     "output_type": "execute_result"
    }
   ],
   "source": [
    "df_mkrf_movies = df_mkrf_movies[~df_mkrf_movies['puNumber'].isna()]\n",
    "\n",
    "#проверим колонку puNumber на наличие пропусков\n",
    "df_mkrf_movies[df_mkrf_movies['puNumber'].isna()]"
   ]
  },
  {
   "cell_type": "markdown",
   "metadata": {},
   "source": [
    "Перед объединением двух таблиц, посмотрим на сводные данные по `'df_mkrf_movies'` после удаления пропуска по колонке `['puNumber']`."
   ]
  },
  {
   "cell_type": "code",
   "execution_count": 6,
   "metadata": {},
   "outputs": [
    {
     "name": "stdout",
     "output_type": "stream",
     "text": [
      "<class 'pandas.core.frame.DataFrame'>\n",
      "Int64Index: 7485 entries, 0 to 7485\n",
      "Data columns (total 15 columns):\n",
      " #   Column                 Non-Null Count  Dtype  \n",
      "---  ------                 --------------  -----  \n",
      " 0   title                  7485 non-null   object \n",
      " 1   puNumber               7485 non-null   float64\n",
      " 2   show_start_date        7485 non-null   object \n",
      " 3   type                   7485 non-null   object \n",
      " 4   film_studio            7467 non-null   object \n",
      " 5   production_country     7483 non-null   object \n",
      " 6   director               7476 non-null   object \n",
      " 7   producer               6917 non-null   object \n",
      " 8   age_restriction        7485 non-null   object \n",
      " 9   refundable_support     332 non-null    float64\n",
      " 10  nonrefundable_support  332 non-null    float64\n",
      " 11  budget                 332 non-null    float64\n",
      " 12  financing_source       332 non-null    object \n",
      " 13  ratings                6519 non-null   object \n",
      " 14  genres                 6510 non-null   object \n",
      "dtypes: float64(4), object(11)\n",
      "memory usage: 935.6+ KB\n"
     ]
    }
   ],
   "source": [
    "df_mkrf_movies.info()"
   ]
  },
  {
   "cell_type": "code",
   "execution_count": 7,
   "metadata": {},
   "outputs": [
    {
     "data": {
      "text/html": [
       "<div>\n",
       "<style scoped>\n",
       "    .dataframe tbody tr th:only-of-type {\n",
       "        vertical-align: middle;\n",
       "    }\n",
       "\n",
       "    .dataframe tbody tr th {\n",
       "        vertical-align: top;\n",
       "    }\n",
       "\n",
       "    .dataframe thead th {\n",
       "        text-align: right;\n",
       "    }\n",
       "</style>\n",
       "<table border=\"1\" class=\"dataframe\">\n",
       "  <thead>\n",
       "    <tr style=\"text-align: right;\">\n",
       "      <th></th>\n",
       "      <th>title</th>\n",
       "      <th>puNumber</th>\n",
       "      <th>show_start_date</th>\n",
       "      <th>type</th>\n",
       "      <th>film_studio</th>\n",
       "      <th>production_country</th>\n",
       "      <th>director</th>\n",
       "      <th>producer</th>\n",
       "      <th>age_restriction</th>\n",
       "      <th>refundable_support</th>\n",
       "      <th>nonrefundable_support</th>\n",
       "      <th>budget</th>\n",
       "      <th>financing_source</th>\n",
       "      <th>ratings</th>\n",
       "      <th>genres</th>\n",
       "      <th>box_office</th>\n",
       "    </tr>\n",
       "  </thead>\n",
       "  <tbody>\n",
       "    <tr>\n",
       "      <th>0</th>\n",
       "      <td>Открытый простор</td>\n",
       "      <td>221048915</td>\n",
       "      <td>2015-11-27T12:00:00.000Z</td>\n",
       "      <td>Художественный</td>\n",
       "      <td>Тачстоун Пикчерз, Кобальт Пикчерз, Бикон Пикче...</td>\n",
       "      <td>США</td>\n",
       "      <td>Кевин Костнер</td>\n",
       "      <td>Дэвид Валдес, Кевин Костнер, Джейк Эбертс</td>\n",
       "      <td>«18+» - запрещено для детей</td>\n",
       "      <td>NaN</td>\n",
       "      <td>NaN</td>\n",
       "      <td>NaN</td>\n",
       "      <td>NaN</td>\n",
       "      <td>7.2</td>\n",
       "      <td>боевик,драма,мелодрама</td>\n",
       "      <td>NaN</td>\n",
       "    </tr>\n",
       "    <tr>\n",
       "      <th>1</th>\n",
       "      <td>Особо важное задание</td>\n",
       "      <td>111013716</td>\n",
       "      <td>2016-09-13T12:00:00.000Z</td>\n",
       "      <td>Художественный</td>\n",
       "      <td>Киностудия \"Мосфильм\"</td>\n",
       "      <td>СССР</td>\n",
       "      <td>Е.Матвеев</td>\n",
       "      <td>NaN</td>\n",
       "      <td>«6+» - для детей старше 6 лет</td>\n",
       "      <td>NaN</td>\n",
       "      <td>NaN</td>\n",
       "      <td>NaN</td>\n",
       "      <td>NaN</td>\n",
       "      <td>6.6</td>\n",
       "      <td>драма,военный</td>\n",
       "      <td>NaN</td>\n",
       "    </tr>\n",
       "    <tr>\n",
       "      <th>2</th>\n",
       "      <td>Особо опасен</td>\n",
       "      <td>221038416</td>\n",
       "      <td>2016-10-10T12:00:00.000Z</td>\n",
       "      <td>Художественный</td>\n",
       "      <td>Юниверсал Пикчерз, Кикстарт Продакшнз, Марк Пл...</td>\n",
       "      <td>США</td>\n",
       "      <td>Тимур Бекмамбетов</td>\n",
       "      <td>Джим Лемли, Джейсон Нетер, Марк Е.Платт, Яйн Смит</td>\n",
       "      <td>«18+» - запрещено для детей</td>\n",
       "      <td>NaN</td>\n",
       "      <td>NaN</td>\n",
       "      <td>NaN</td>\n",
       "      <td>NaN</td>\n",
       "      <td>6.8</td>\n",
       "      <td>фантастика,боевик,триллер</td>\n",
       "      <td>NaN</td>\n",
       "    </tr>\n",
       "    <tr>\n",
       "      <th>3</th>\n",
       "      <td>Особо опасен</td>\n",
       "      <td>221026916</td>\n",
       "      <td>2016-06-10T12:00:00.000Z</td>\n",
       "      <td>Художественный</td>\n",
       "      <td>Юниверсал Пикчерз, Кикстарт Продакшнз, Марк Пл...</td>\n",
       "      <td>США</td>\n",
       "      <td>Тимур Бекмамбетов</td>\n",
       "      <td>Джим Лемли, Джейсон Нетер, Марк Е.Платт, Яйн Смит</td>\n",
       "      <td>«18+» - запрещено для детей</td>\n",
       "      <td>NaN</td>\n",
       "      <td>NaN</td>\n",
       "      <td>NaN</td>\n",
       "      <td>NaN</td>\n",
       "      <td>6.8</td>\n",
       "      <td>фантастика,боевик,триллер</td>\n",
       "      <td>NaN</td>\n",
       "    </tr>\n",
       "    <tr>\n",
       "      <th>4</th>\n",
       "      <td>Особо опасен</td>\n",
       "      <td>221030815</td>\n",
       "      <td>2015-07-29T12:00:00.000Z</td>\n",
       "      <td>Художественный</td>\n",
       "      <td>Юниверсал Пикчерз, Кикстарт Продакшнз, Марк Пл...</td>\n",
       "      <td>США</td>\n",
       "      <td>Тимур Бекмамбетов</td>\n",
       "      <td>Джим Лемли, Джейсон Нетер, Марк Е.Платт, Яйн Смит</td>\n",
       "      <td>«18+» - запрещено для детей</td>\n",
       "      <td>NaN</td>\n",
       "      <td>NaN</td>\n",
       "      <td>NaN</td>\n",
       "      <td>NaN</td>\n",
       "      <td>6.8</td>\n",
       "      <td>фантастика,боевик,триллер</td>\n",
       "      <td>NaN</td>\n",
       "    </tr>\n",
       "  </tbody>\n",
       "</table>\n",
       "</div>"
      ],
      "text/plain": [
       "                  title   puNumber           show_start_date            type  \\\n",
       "0      Открытый простор  221048915  2015-11-27T12:00:00.000Z  Художественный   \n",
       "1  Особо важное задание  111013716  2016-09-13T12:00:00.000Z  Художественный   \n",
       "2          Особо опасен  221038416  2016-10-10T12:00:00.000Z  Художественный   \n",
       "3          Особо опасен  221026916  2016-06-10T12:00:00.000Z  Художественный   \n",
       "4          Особо опасен  221030815  2015-07-29T12:00:00.000Z  Художественный   \n",
       "\n",
       "                                         film_studio production_country  \\\n",
       "0  Тачстоун Пикчерз, Кобальт Пикчерз, Бикон Пикче...                США   \n",
       "1                              Киностудия \"Мосфильм\"               СССР   \n",
       "2  Юниверсал Пикчерз, Кикстарт Продакшнз, Марк Пл...                США   \n",
       "3  Юниверсал Пикчерз, Кикстарт Продакшнз, Марк Пл...                США   \n",
       "4  Юниверсал Пикчерз, Кикстарт Продакшнз, Марк Пл...                США   \n",
       "\n",
       "            director                                           producer  \\\n",
       "0      Кевин Костнер          Дэвид Валдес, Кевин Костнер, Джейк Эбертс   \n",
       "1          Е.Матвеев                                                NaN   \n",
       "2  Тимур Бекмамбетов  Джим Лемли, Джейсон Нетер, Марк Е.Платт, Яйн Смит   \n",
       "3  Тимур Бекмамбетов  Джим Лемли, Джейсон Нетер, Марк Е.Платт, Яйн Смит   \n",
       "4  Тимур Бекмамбетов  Джим Лемли, Джейсон Нетер, Марк Е.Платт, Яйн Смит   \n",
       "\n",
       "                 age_restriction  refundable_support  nonrefundable_support  \\\n",
       "0    «18+» - запрещено для детей                 NaN                    NaN   \n",
       "1  «6+» - для детей старше 6 лет                 NaN                    NaN   \n",
       "2    «18+» - запрещено для детей                 NaN                    NaN   \n",
       "3    «18+» - запрещено для детей                 NaN                    NaN   \n",
       "4    «18+» - запрещено для детей                 NaN                    NaN   \n",
       "\n",
       "   budget financing_source ratings                     genres  box_office  \n",
       "0     NaN              NaN     7.2     боевик,драма,мелодрама         NaN  \n",
       "1     NaN              NaN     6.6              драма,военный         NaN  \n",
       "2     NaN              NaN     6.8  фантастика,боевик,триллер         NaN  \n",
       "3     NaN              NaN     6.8  фантастика,боевик,триллер         NaN  \n",
       "4     NaN              NaN     6.8  фантастика,боевик,триллер         NaN  "
      ]
     },
     "metadata": {},
     "output_type": "display_data"
    },
    {
     "name": "stdout",
     "output_type": "stream",
     "text": [
      "<class 'pandas.core.frame.DataFrame'>\n",
      "Int64Index: 7485 entries, 0 to 7484\n",
      "Data columns (total 16 columns):\n",
      " #   Column                 Non-Null Count  Dtype  \n",
      "---  ------                 --------------  -----  \n",
      " 0   title                  7485 non-null   object \n",
      " 1   puNumber               7485 non-null   int64  \n",
      " 2   show_start_date        7485 non-null   object \n",
      " 3   type                   7485 non-null   object \n",
      " 4   film_studio            7467 non-null   object \n",
      " 5   production_country     7483 non-null   object \n",
      " 6   director               7476 non-null   object \n",
      " 7   producer               6917 non-null   object \n",
      " 8   age_restriction        7485 non-null   object \n",
      " 9   refundable_support     332 non-null    float64\n",
      " 10  nonrefundable_support  332 non-null    float64\n",
      " 11  budget                 332 non-null    float64\n",
      " 12  financing_source       332 non-null    object \n",
      " 13  ratings                6519 non-null   object \n",
      " 14  genres                 6510 non-null   object \n",
      " 15  box_office             3158 non-null   float64\n",
      "dtypes: float64(4), int64(1), object(11)\n",
      "memory usage: 994.1+ KB\n"
     ]
    }
   ],
   "source": [
    "# объединяем два датафрейма в новый датафрейм df\n",
    "df = df_mkrf_movies.merge(df_mkrf_shows, on='puNumber', how='left')\n",
    "\n",
    "# приведем колонку puNumber к типу int\n",
    "df['puNumber'] = df['puNumber'].astype(int)\n",
    "\n",
    "# проверим данные после объединения\n",
    "display(df.head())\n",
    "df.info()"
   ]
  },
  {
   "cell_type": "markdown",
   "metadata": {},
   "source": [
    "После объединения двух датафреймов необходимо привести название колонки [`'puNumber'`] к общему стилю."
   ]
  },
  {
   "cell_type": "code",
   "execution_count": 8,
   "metadata": {},
   "outputs": [
    {
     "data": {
      "text/plain": [
       "Index(['title', 'pu_number', 'show_start_date', 'type', 'film_studio',\n",
       "       'production_country', 'director', 'producer', 'age_restriction',\n",
       "       'refundable_support', 'nonrefundable_support', 'budget',\n",
       "       'financing_source', 'ratings', 'genres', 'box_office'],\n",
       "      dtype='object')"
      ]
     },
     "execution_count": 8,
     "metadata": {},
     "output_type": "execute_result"
    }
   ],
   "source": [
    "df = df.rename(columns={'puNumber' : 'pu_number'})\n",
    "df.columns"
   ]
  },
  {
   "cell_type": "markdown",
   "metadata": {
    "id": "KLDGpPG0gFyM"
   },
   "source": [
    "## Шаг 2. Предобработка данных"
   ]
  },
  {
   "cell_type": "markdown",
   "metadata": {},
   "source": [
    "Основываясь на полученных данных можно сделать однозначный вывод о наличии пропусков в данных по некоторым колонкам. Кроме того необходимо привести числовой признак по колонке `['ratings']` к типу `'float'`, а данные о `дате премьеры фильма` по колонке `'[show_start_date]'` к типу `datetime`.\n",
    "\n",
    "Так же необходимо проверить данные на наличие дубликатов. Проверку на наличие явных дубликатов необходимо проводить до обработки пропусков во избежание искажения исходных данных, например при заполнении пропусков медианным значением."
   ]
  },
  {
   "cell_type": "markdown",
   "metadata": {},
   "source": [
    "В результате предобработки данных предлагается создать отдельный датафрейм `'df_filtered'` для обработанных данных для сохранения возможности их сравнения с исходными данными в датафрейме `'df'`."
   ]
  },
  {
   "cell_type": "code",
   "execution_count": 9,
   "metadata": {},
   "outputs": [],
   "source": [
    "df_filtered = df.copy()"
   ]
  },
  {
   "cell_type": "markdown",
   "metadata": {
    "id": "ssWwKXsxgFyO"
   },
   "source": [
    "### Шаг 2.1. Проверьте типы данных\n",
    "\n",
    "- Проверьте типы данных в датафрейме и преобразуйте их там, где это необходимо."
   ]
  },
  {
   "cell_type": "markdown",
   "metadata": {},
   "source": [
    "Приведем значения колонки `['show_start_date']` к типу `'datetime'`."
   ]
  },
  {
   "cell_type": "code",
   "execution_count": 10,
   "metadata": {
    "id": "kVGSplJOgFyO"
   },
   "outputs": [],
   "source": [
    "df_filtered['show_start_date'] = pd.to_datetime(df['show_start_date'], format='%Y-%m-%dT%H:%M:%S', errors='coerce')"
   ]
  },
  {
   "cell_type": "markdown",
   "metadata": {},
   "source": [
    "Перед тем, как приводить следующую колонку c `рейтингом` к типу `'float'` проверим её на наличие строковых значений помимо пропусков."
   ]
  },
  {
   "cell_type": "code",
   "execution_count": 11,
   "metadata": {},
   "outputs": [
    {
     "data": {
      "text/plain": [
       "array(['7.2', '6.6', '6.8', '7.7', '8.3', '8.0', '7.8', '8.1', '7.1',\n",
       "       '6.0', '7.4', '5.8', '8.7', '6.3', '6.9', '5.0', '4.3', '7.3',\n",
       "       '7.0', '6.4', nan, '8.2', '7.5', '6.7', '7.9', '5.9', '6.2', '5.6',\n",
       "       '6.5', '2.4', '7.6', '6.1', '8.6', '8.5', '8.8', '5.5', '5.1',\n",
       "       '5.7', '5.4', '99%', '4.4', '4.5', '5.3', '4.1', '8.4', '2.6',\n",
       "       '3.8', '4.6', '4.8', '4.0', '3.0', '1.6', '4.2', '5.2', '4.7',\n",
       "       '4.9', '3.9', '2.7', '3.3', '2.9', '28%', '3.7', '1.4', '3.1',\n",
       "       '97%', '3.5', '3.2', '2.8', '1.5', '2.1', '2.5', '9.2', '3.4',\n",
       "       '1.1', '3.6', '83%', '64%', '91%', '94%', '62%', '79%', '90%',\n",
       "       '19%', '88%', '1.0', '89%', '1.3', '1.9', '1.8', '1.2', '1.7',\n",
       "       '9.0', '98%', '8.9', '9.1'], dtype=object)"
      ]
     },
     "execution_count": 11,
     "metadata": {},
     "output_type": "execute_result"
    }
   ],
   "source": [
    "df['ratings'].unique()"
   ]
  },
  {
   "cell_type": "markdown",
   "metadata": {},
   "source": [
    "Среди уникальных значений обнаружено множество значений в виде процентов. Для того чтобы максимально сохранить данные для дальнейшего исследования предлагается` перевести такие значения в формат 10-ти бальной шкалы. \n",
    "\n",
    "Для начала отбросим символ `%` из значений."
   ]
  },
  {
   "cell_type": "code",
   "execution_count": 12,
   "metadata": {},
   "outputs": [
    {
     "data": {
      "text/plain": [
       "array([7.2, 6.6, 6.8, 7.7, 8.3, 8. , 7.8, 8.1, 7.1, 6. , 7.4, 5.8, 8.7,\n",
       "       6.3, 6.9, 5. , 4.3, 7.3, 7. , 6.4, nan, 8.2, 7.5, 6.7, 7.9, 5.9,\n",
       "       6.2, 5.6, 6.5, 2.4, 7.6, 6.1, 8.6, 8.5, 8.8, 5.5, 5.1, 5.7, 5.4,\n",
       "       9.9, 4.4, 4.5, 5.3, 4.1, 8.4, 2.6, 3.8, 4.6, 4.8, 4. , 3. , 1.6,\n",
       "       4.2, 5.2, 4.7, 4.9, 3.9, 2.7, 3.3, 2.9, 2.8, 3.7, 1.4, 3.1, 9.7,\n",
       "       3.5, 3.2, 1.5, 2.1, 2.5, 9.2, 3.4, 1.1, 3.6, 9.1, 9.4, 9. , 1.9,\n",
       "       1. , 8.9, 1.3, 1.8, 1.2, 1.7, 9.8])"
      ]
     },
     "execution_count": 12,
     "metadata": {},
     "output_type": "execute_result"
    }
   ],
   "source": [
    "#удалим из значений знак %\n",
    "df_filtered['ratings'] = df['ratings'].str.strip('%').astype(float)\n",
    "\n",
    "# приведем все значения рейтинга которые больше 10 к 10-ти бальной системе\n",
    "df_filtered['ratings'] = (\n",
    "    df_filtered['ratings']\n",
    "    .where(df_filtered['ratings'] < 10, df_filtered['ratings'] / 10)\n",
    ")\n",
    "\n",
    "df_filtered['ratings'].unique() # проверка изменений"
   ]
  },
  {
   "cell_type": "markdown",
   "metadata": {
    "id": "i0MOLbF-gFyP"
   },
   "source": [
    "### Шаг 2.2. Изучите пропуски в датафрейме\n",
    "\n",
    "- Объясните, почему заполнили пропуски определённым образом или почему не стали этого делать."
   ]
  },
  {
   "cell_type": "markdown",
   "metadata": {
    "id": "8MJD_lkngFyP"
   },
   "source": [
    "Наиболее важным и ценным при обработке пропусков в исходных данных является не полное избавление от них, связанное с заполнением средним и медианным значением или удалением, а нахождение связей с другими имеющимися данными, чтобы заполнить их более реальными значениями, не допустив значительных искажений в исходных данных. Хорошим показателем обработки пропусков с таким подходом будет на уровне 2-4% оставшихся пропусков, которые не сильно окажут влияние на дальнейшее исследование. Таким образом если по каким-то пропускам нет больше возможностей к нахождению приближенных значений можно оставить пропуски в виде `Nan`."
   ]
  },
  {
   "cell_type": "markdown",
   "metadata": {},
   "source": [
    "**Выведем количество пропущенных значений и их процентное соотношение по каждой колонке.**"
   ]
  },
  {
   "cell_type": "code",
   "execution_count": 13,
   "metadata": {},
   "outputs": [
    {
     "data": {
      "text/html": [
       "<div>\n",
       "<style scoped>\n",
       "    .dataframe tbody tr th:only-of-type {\n",
       "        vertical-align: middle;\n",
       "    }\n",
       "\n",
       "    .dataframe tbody tr th {\n",
       "        vertical-align: top;\n",
       "    }\n",
       "\n",
       "    .dataframe thead th {\n",
       "        text-align: right;\n",
       "    }\n",
       "</style>\n",
       "<table border=\"1\" class=\"dataframe\">\n",
       "  <thead>\n",
       "    <tr style=\"text-align: right;\">\n",
       "      <th></th>\n",
       "      <th>count</th>\n",
       "      <th>%</th>\n",
       "    </tr>\n",
       "  </thead>\n",
       "  <tbody>\n",
       "    <tr>\n",
       "      <th>refundable_support</th>\n",
       "      <td>7153</td>\n",
       "      <td>95.56</td>\n",
       "    </tr>\n",
       "    <tr>\n",
       "      <th>nonrefundable_support</th>\n",
       "      <td>7153</td>\n",
       "      <td>95.56</td>\n",
       "    </tr>\n",
       "    <tr>\n",
       "      <th>budget</th>\n",
       "      <td>7153</td>\n",
       "      <td>95.56</td>\n",
       "    </tr>\n",
       "    <tr>\n",
       "      <th>financing_source</th>\n",
       "      <td>7153</td>\n",
       "      <td>95.56</td>\n",
       "    </tr>\n",
       "    <tr>\n",
       "      <th>box_office</th>\n",
       "      <td>4327</td>\n",
       "      <td>57.81</td>\n",
       "    </tr>\n",
       "    <tr>\n",
       "      <th>genres</th>\n",
       "      <td>975</td>\n",
       "      <td>13.03</td>\n",
       "    </tr>\n",
       "    <tr>\n",
       "      <th>ratings</th>\n",
       "      <td>966</td>\n",
       "      <td>12.91</td>\n",
       "    </tr>\n",
       "    <tr>\n",
       "      <th>producer</th>\n",
       "      <td>568</td>\n",
       "      <td>7.59</td>\n",
       "    </tr>\n",
       "    <tr>\n",
       "      <th>film_studio</th>\n",
       "      <td>18</td>\n",
       "      <td>0.24</td>\n",
       "    </tr>\n",
       "    <tr>\n",
       "      <th>director</th>\n",
       "      <td>9</td>\n",
       "      <td>0.12</td>\n",
       "    </tr>\n",
       "    <tr>\n",
       "      <th>production_country</th>\n",
       "      <td>2</td>\n",
       "      <td>0.03</td>\n",
       "    </tr>\n",
       "    <tr>\n",
       "      <th>title</th>\n",
       "      <td>0</td>\n",
       "      <td>0.00</td>\n",
       "    </tr>\n",
       "    <tr>\n",
       "      <th>pu_number</th>\n",
       "      <td>0</td>\n",
       "      <td>0.00</td>\n",
       "    </tr>\n",
       "    <tr>\n",
       "      <th>show_start_date</th>\n",
       "      <td>0</td>\n",
       "      <td>0.00</td>\n",
       "    </tr>\n",
       "    <tr>\n",
       "      <th>type</th>\n",
       "      <td>0</td>\n",
       "      <td>0.00</td>\n",
       "    </tr>\n",
       "    <tr>\n",
       "      <th>age_restriction</th>\n",
       "      <td>0</td>\n",
       "      <td>0.00</td>\n",
       "    </tr>\n",
       "  </tbody>\n",
       "</table>\n",
       "</div>"
      ],
      "text/plain": [
       "                       count      %\n",
       "refundable_support      7153  95.56\n",
       "nonrefundable_support   7153  95.56\n",
       "budget                  7153  95.56\n",
       "financing_source        7153  95.56\n",
       "box_office              4327  57.81\n",
       "genres                   975  13.03\n",
       "ratings                  966  12.91\n",
       "producer                 568   7.59\n",
       "film_studio               18   0.24\n",
       "director                   9   0.12\n",
       "production_country         2   0.03\n",
       "title                      0   0.00\n",
       "pu_number                  0   0.00\n",
       "show_start_date            0   0.00\n",
       "type                       0   0.00\n",
       "age_restriction            0   0.00"
      ]
     },
     "execution_count": 13,
     "metadata": {},
     "output_type": "execute_result"
    }
   ],
   "source": [
    "pd.concat(\n",
    "    [df.isna().sum(), (df.isna().sum() / len(df) * 100).round(2)],\n",
    "    axis=1, \n",
    "    keys=['count', '%'],\n",
    "    join='inner'\n",
    ").sort_values(by='count', ascending=False)"
   ]
  },
  {
   "cell_type": "markdown",
   "metadata": {},
   "source": [
    "Пропуски в данных есть почти в каждой колонке. Больше всего пропусков, где их доля превышает 95% процентов и имеет одинаковое количество пропусков (7154), в колонках с финансовой информацией:\n",
    "* `['refundable_support']` (информация об объёме возвратных средств государственной поддержки);\n",
    "* `['nonrefundable_support']` (информация об объёме невозвратных средств государственной поддержки);\n",
    "* `['budget']` (информация об общем бюджете);\n",
    "* `['financing_source']` (информация об источнике финансирования).\n",
    "\n",
    "Необходимо проверить есть ли возможность восстановить данные о бюджете при наличии данных о государственной поддержке."
   ]
  },
  {
   "cell_type": "code",
   "execution_count": 14,
   "metadata": {},
   "outputs": [
    {
     "data": {
      "text/plain": [
       "0"
      ]
     },
     "execution_count": 14,
     "metadata": {},
     "output_type": "execute_result"
    }
   ],
   "source": [
    "len(df[(~df['refundable_support'].isna() | ~df['nonrefundable_support'].isna()) & (df['budget'].isna())])"
   ]
  },
  {
   "cell_type": "markdown",
   "metadata": {},
   "source": [
    "Таких данных о гос.поддержке не оказалось, поэтому заполнить пропуски по колонке `бюджет` нет возможности.\n",
    "\n",
    "По остальным колонкам, имеющим пропуски так же нет взаимосвязанных признаков, которые могли бы быть использованы для заполнения пропущенных данных (например `жанр`, `рейтинг`, `продюсер`). Так же колонки о `бюджете`, `гос.поддержке` и `сборах` имеют целевые показатели по которым в дальнейшем будет проводиться исследовательский анализ данных. В связи с тем что пропусков по данным колонкам очень много заполнение их каким-либо значением приведет к серъезным искажениям в результатах исследования. Предлагается оставить пропуски со значением `Nan` и проводить исследование на небольшом количестве выборки (332 значения)."
   ]
  },
  {
   "cell_type": "markdown",
   "metadata": {},
   "source": [
    "Заполним все пропуски в строковых признаках на значение `'unknown'`."
   ]
  },
  {
   "cell_type": "code",
   "execution_count": 15,
   "metadata": {},
   "outputs": [
    {
     "data": {
      "text/plain": [
       "title                       0\n",
       "pu_number                   0\n",
       "show_start_date             0\n",
       "type                        0\n",
       "film_studio                 0\n",
       "production_country          0\n",
       "director                    0\n",
       "producer                    0\n",
       "age_restriction             0\n",
       "refundable_support       7153\n",
       "nonrefundable_support    7153\n",
       "budget                   7153\n",
       "financing_source         7153\n",
       "ratings                   966\n",
       "genres                      0\n",
       "box_office               4327\n",
       "dtype: int64"
      ]
     },
     "execution_count": 15,
     "metadata": {},
     "output_type": "execute_result"
    }
   ],
   "source": [
    "col_str = ['genres', 'producer', 'film_studio', 'director', 'production_country']\n",
    "df_filtered[col_str] = df[col_str].fillna('unknown')\n",
    "\n",
    "# проверим заполнение пропусков\n",
    "df_filtered.isna().sum()\n",
    "#df_filtered['genres'].unique()"
   ]
  },
  {
   "cell_type": "markdown",
   "metadata": {
    "id": "4c6k1t9ygFyQ"
   },
   "source": [
    "### Шаг 2.3. Изучите дубликаты в датафрейме\n",
    "- Проверьте, есть ли в данных дубликаты. Опишите причины, которые могли повлиять на появление дублей."
   ]
  },
  {
   "cell_type": "markdown",
   "metadata": {},
   "source": [
    "Проверим, есть ли в данных явные дубликаты. "
   ]
  },
  {
   "cell_type": "code",
   "execution_count": 16,
   "metadata": {
    "id": "aKck8RIdgFyQ"
   },
   "outputs": [
    {
     "data": {
      "text/plain": [
       "0"
      ]
     },
     "execution_count": 16,
     "metadata": {},
     "output_type": "execute_result"
    }
   ],
   "source": [
    "df_filtered.duplicated().sum()"
   ]
  },
  {
   "cell_type": "markdown",
   "metadata": {},
   "source": [
    "Проверим, есть ли повторяющиеся прокатные удостоверения с одним и тем же номером."
   ]
  },
  {
   "cell_type": "code",
   "execution_count": 17,
   "metadata": {},
   "outputs": [
    {
     "data": {
      "text/plain": [
       "221054410    2\n",
       "221154310    2\n",
       "122001411    1\n",
       "111008518    1\n",
       "114002716    1\n",
       "            ..\n",
       "221015415    1\n",
       "121021814    1\n",
       "224028210    1\n",
       "121013618    1\n",
       "126002916    1\n",
       "Name: pu_number, Length: 7483, dtype: int64"
      ]
     },
     "execution_count": 17,
     "metadata": {},
     "output_type": "execute_result"
    }
   ],
   "source": [
    "df_filtered['pu_number'].value_counts()"
   ]
  },
  {
   "cell_type": "markdown",
   "metadata": {},
   "source": [
    "Таких значений 2. Посмотрим на них детально."
   ]
  },
  {
   "cell_type": "code",
   "execution_count": 18,
   "metadata": {},
   "outputs": [
    {
     "data": {
      "text/html": [
       "<div>\n",
       "<style scoped>\n",
       "    .dataframe tbody tr th:only-of-type {\n",
       "        vertical-align: middle;\n",
       "    }\n",
       "\n",
       "    .dataframe tbody tr th {\n",
       "        vertical-align: top;\n",
       "    }\n",
       "\n",
       "    .dataframe thead th {\n",
       "        text-align: right;\n",
       "    }\n",
       "</style>\n",
       "<table border=\"1\" class=\"dataframe\">\n",
       "  <thead>\n",
       "    <tr style=\"text-align: right;\">\n",
       "      <th></th>\n",
       "      <th>title</th>\n",
       "      <th>pu_number</th>\n",
       "      <th>show_start_date</th>\n",
       "      <th>type</th>\n",
       "      <th>film_studio</th>\n",
       "      <th>production_country</th>\n",
       "      <th>director</th>\n",
       "      <th>producer</th>\n",
       "      <th>age_restriction</th>\n",
       "      <th>refundable_support</th>\n",
       "      <th>nonrefundable_support</th>\n",
       "      <th>budget</th>\n",
       "      <th>financing_source</th>\n",
       "      <th>ratings</th>\n",
       "      <th>genres</th>\n",
       "      <th>box_office</th>\n",
       "    </tr>\n",
       "  </thead>\n",
       "  <tbody>\n",
       "    <tr>\n",
       "      <th>4637</th>\n",
       "      <td>Как жениться и остаться холостым</td>\n",
       "      <td>221154310</td>\n",
       "      <td>2010-12-17 12:00:00+00:00</td>\n",
       "      <td>Художественный</td>\n",
       "      <td>Ше Вам, Скрипт Ассосье, Тэ Фэ 1 Фильм Продюксь...</td>\n",
       "      <td>Франция</td>\n",
       "      <td>Эрик Лартиго</td>\n",
       "      <td>Амандин Било, Алан Шаба</td>\n",
       "      <td>«16+» - для детей старше 16 лет</td>\n",
       "      <td>NaN</td>\n",
       "      <td>NaN</td>\n",
       "      <td>NaN</td>\n",
       "      <td>NaN</td>\n",
       "      <td>7.0</td>\n",
       "      <td>мелодрама,комедия</td>\n",
       "      <td>NaN</td>\n",
       "    </tr>\n",
       "    <tr>\n",
       "      <th>4638</th>\n",
       "      <td>Иоанна - женщина на папском престоле /По роман...</td>\n",
       "      <td>221154310</td>\n",
       "      <td>2010-12-17 12:00:00+00:00</td>\n",
       "      <td>Художественный</td>\n",
       "      <td>Константин Фильм, А Эр Ди Дегето Фильм, Дюне ...</td>\n",
       "      <td>Германия - Великобритания - Италия - Испания</td>\n",
       "      <td>Зенке Вортманн</td>\n",
       "      <td>Оливер Бербен, Дорис Д.Хайнце, Фарук Элтан</td>\n",
       "      <td>«16+» - для детей старше 16 лет</td>\n",
       "      <td>NaN</td>\n",
       "      <td>NaN</td>\n",
       "      <td>NaN</td>\n",
       "      <td>NaN</td>\n",
       "      <td>7.6</td>\n",
       "      <td>драма,мелодрама,история</td>\n",
       "      <td>NaN</td>\n",
       "    </tr>\n",
       "    <tr>\n",
       "      <th>5066</th>\n",
       "      <td>Анализируй это!</td>\n",
       "      <td>221054410</td>\n",
       "      <td>2010-05-25 12:00:00+00:00</td>\n",
       "      <td>Художественный</td>\n",
       "      <td>Уорнер Бразерс, Вилладж Роудшоу Филмз ЛТД</td>\n",
       "      <td>США-Австралия</td>\n",
       "      <td>ХЭрольд Рэмис</td>\n",
       "      <td>Джейн Розенталь, Пола Уейнстейн</td>\n",
       "      <td>«16+» - для детей старше 16 лет</td>\n",
       "      <td>NaN</td>\n",
       "      <td>NaN</td>\n",
       "      <td>NaN</td>\n",
       "      <td>NaN</td>\n",
       "      <td>7.4</td>\n",
       "      <td>комедия,криминал</td>\n",
       "      <td>NaN</td>\n",
       "    </tr>\n",
       "    <tr>\n",
       "      <th>5067</th>\n",
       "      <td>Анализируй то!</td>\n",
       "      <td>221054410</td>\n",
       "      <td>2010-05-25 12:00:00+00:00</td>\n",
       "      <td>Художественный</td>\n",
       "      <td>Уорнер Бразерс, Виллидж Роадшоу Пикчерз, Эн-Пи...</td>\n",
       "      <td>США</td>\n",
       "      <td>Гарольд Реймис</td>\n",
       "      <td>Джейн Розенталь, Паул Уэйнстейн</td>\n",
       "      <td>«12+» - для детей старше 12 лет</td>\n",
       "      <td>NaN</td>\n",
       "      <td>NaN</td>\n",
       "      <td>NaN</td>\n",
       "      <td>NaN</td>\n",
       "      <td>6.8</td>\n",
       "      <td>комедия,криминал</td>\n",
       "      <td>NaN</td>\n",
       "    </tr>\n",
       "  </tbody>\n",
       "</table>\n",
       "</div>"
      ],
      "text/plain": [
       "                                                  title  pu_number  \\\n",
       "4637                   Как жениться и остаться холостым  221154310   \n",
       "4638  Иоанна - женщина на папском престоле /По роман...  221154310   \n",
       "5066                                    Анализируй это!  221054410   \n",
       "5067                                     Анализируй то!  221054410   \n",
       "\n",
       "               show_start_date            type  \\\n",
       "4637 2010-12-17 12:00:00+00:00  Художественный   \n",
       "4638 2010-12-17 12:00:00+00:00  Художественный   \n",
       "5066 2010-05-25 12:00:00+00:00  Художественный   \n",
       "5067 2010-05-25 12:00:00+00:00  Художественный   \n",
       "\n",
       "                                            film_studio  \\\n",
       "4637  Ше Вам, Скрипт Ассосье, Тэ Фэ 1 Фильм Продюксь...   \n",
       "4638   Константин Фильм, А Эр Ди Дегето Фильм, Дюне ...   \n",
       "5066          Уорнер Бразерс, Вилладж Роудшоу Филмз ЛТД   \n",
       "5067  Уорнер Бразерс, Виллидж Роадшоу Пикчерз, Эн-Пи...   \n",
       "\n",
       "                                production_country        director  \\\n",
       "4637                                       Франция    Эрик Лартиго   \n",
       "4638  Германия - Великобритания - Италия - Испания  Зенке Вортманн   \n",
       "5066                                 США-Австралия   ХЭрольд Рэмис   \n",
       "5067                                           США  Гарольд Реймис   \n",
       "\n",
       "                                        producer  \\\n",
       "4637                     Амандин Било, Алан Шаба   \n",
       "4638  Оливер Бербен, Дорис Д.Хайнце, Фарук Элтан   \n",
       "5066             Джейн Розенталь, Пола Уейнстейн   \n",
       "5067             Джейн Розенталь, Паул Уэйнстейн   \n",
       "\n",
       "                      age_restriction  refundable_support  \\\n",
       "4637  «16+» - для детей старше 16 лет                 NaN   \n",
       "4638  «16+» - для детей старше 16 лет                 NaN   \n",
       "5066  «16+» - для детей старше 16 лет                 NaN   \n",
       "5067  «12+» - для детей старше 12 лет                 NaN   \n",
       "\n",
       "      nonrefundable_support  budget financing_source  ratings  \\\n",
       "4637                    NaN     NaN              NaN      7.0   \n",
       "4638                    NaN     NaN              NaN      7.6   \n",
       "5066                    NaN     NaN              NaN      7.4   \n",
       "5067                    NaN     NaN              NaN      6.8   \n",
       "\n",
       "                       genres  box_office  \n",
       "4637        мелодрама,комедия         NaN  \n",
       "4638  драма,мелодрама,история         NaN  \n",
       "5066         комедия,криминал         NaN  \n",
       "5067         комедия,криминал         NaN  "
      ]
     },
     "execution_count": 18,
     "metadata": {},
     "output_type": "execute_result"
    }
   ],
   "source": [
    "df_filtered[(df_filtered['pu_number'] == 221054410) | (df_filtered['pu_number'] == 221154310)]"
   ]
  },
  {
   "cell_type": "markdown",
   "metadata": {},
   "source": [
    "Из таблицы видно, что фильмы под одним номером всё же разные. Удаление какого-либо из них не сильно исказит данные, так как они не имеют количественных признаков для дальнейшего исследования."
   ]
  },
  {
   "cell_type": "code",
   "execution_count": 19,
   "metadata": {},
   "outputs": [
    {
     "data": {
      "text/plain": [
       "122001411    1\n",
       "121000711    1\n",
       "121017119    1\n",
       "114002716    1\n",
       "121012718    1\n",
       "            ..\n",
       "221015415    1\n",
       "121021814    1\n",
       "224028210    1\n",
       "121013618    1\n",
       "126002916    1\n",
       "Name: pu_number, Length: 7483, dtype: int64"
      ]
     },
     "execution_count": 19,
     "metadata": {},
     "output_type": "execute_result"
    }
   ],
   "source": [
    "df_filtered = df_filtered.drop_duplicates(subset=['pu_number'])\n",
    "\n",
    "# проверим снова на дубли\n",
    "df_filtered['pu_number'].value_counts()"
   ]
  },
  {
   "cell_type": "markdown",
   "metadata": {},
   "source": [
    "Посмотрим есть ли в данных несколько прокатных удостоверений на одни и те же фильмы."
   ]
  },
  {
   "cell_type": "code",
   "execution_count": 20,
   "metadata": {},
   "outputs": [
    {
     "data": {
      "text/plain": [
       "День святого Валентина_                   5\n",
       "Код доступа \"Кейптаун\"                    4\n",
       "Безумцы                                   4\n",
       "Начало_                                   4\n",
       "Знакомство с Факерами 2.                  4\n",
       "                                         ..\n",
       "Матрица: Революция                        1\n",
       "Ночной пассажир                           1\n",
       "Три богатыря и Шамаханская царица         1\n",
       "МУЛЬТ в кино. Выпуск № 34                 1\n",
       "Звёздные войны. Эпизод 3: Месть ситхов    1\n",
       "Name: title, Length: 6770, dtype: int64"
      ]
     },
     "execution_count": 20,
     "metadata": {},
     "output_type": "execute_result"
    }
   ],
   "source": [
    "df_filtered['title'].value_counts()"
   ]
  },
  {
   "cell_type": "markdown",
   "metadata": {},
   "source": [
    "Да. Такие фильмы есть в данных. Для того чтобы определить являются ли они дубликатами, найдем отличия в данных."
   ]
  },
  {
   "cell_type": "code",
   "execution_count": 21,
   "metadata": {},
   "outputs": [
    {
     "data": {
      "text/html": [
       "<div>\n",
       "<style scoped>\n",
       "    .dataframe tbody tr th:only-of-type {\n",
       "        vertical-align: middle;\n",
       "    }\n",
       "\n",
       "    .dataframe tbody tr th {\n",
       "        vertical-align: top;\n",
       "    }\n",
       "\n",
       "    .dataframe thead th {\n",
       "        text-align: right;\n",
       "    }\n",
       "</style>\n",
       "<table border=\"1\" class=\"dataframe\">\n",
       "  <thead>\n",
       "    <tr style=\"text-align: right;\">\n",
       "      <th></th>\n",
       "      <th>title</th>\n",
       "      <th>pu_number</th>\n",
       "      <th>show_start_date</th>\n",
       "      <th>type</th>\n",
       "      <th>film_studio</th>\n",
       "      <th>production_country</th>\n",
       "      <th>director</th>\n",
       "      <th>producer</th>\n",
       "      <th>age_restriction</th>\n",
       "      <th>refundable_support</th>\n",
       "      <th>nonrefundable_support</th>\n",
       "      <th>budget</th>\n",
       "      <th>financing_source</th>\n",
       "      <th>ratings</th>\n",
       "      <th>genres</th>\n",
       "      <th>box_office</th>\n",
       "    </tr>\n",
       "  </thead>\n",
       "  <tbody>\n",
       "    <tr>\n",
       "      <th>3901</th>\n",
       "      <td>День святого Валентина_</td>\n",
       "      <td>221083810</td>\n",
       "      <td>2010-07-15 12:00:00+00:00</td>\n",
       "      <td>Художественный</td>\n",
       "      <td>Уорнер Бразерс, Нью Лайн Синема, Уэйн Райс, Ка...</td>\n",
       "      <td>США</td>\n",
       "      <td>Гарри Маршалл</td>\n",
       "      <td>Сэмюэл Дж.Браун</td>\n",
       "      <td>«16+» - для детей старше 16 лет</td>\n",
       "      <td>NaN</td>\n",
       "      <td>NaN</td>\n",
       "      <td>NaN</td>\n",
       "      <td>NaN</td>\n",
       "      <td>6.7</td>\n",
       "      <td>мелодрама,комедия</td>\n",
       "      <td>NaN</td>\n",
       "    </tr>\n",
       "    <tr>\n",
       "      <th>3990</th>\n",
       "      <td>День святого Валентина_</td>\n",
       "      <td>221068010</td>\n",
       "      <td>2010-05-14 12:00:00+00:00</td>\n",
       "      <td>Художественный</td>\n",
       "      <td>Уорнер Бразерс, Нью Лайн Синема, Уэйн Райс, Ка...</td>\n",
       "      <td>США</td>\n",
       "      <td>Гарри Маршалл</td>\n",
       "      <td>Сэмюэл Дж.Браун</td>\n",
       "      <td>«16+» - для детей старше 16 лет</td>\n",
       "      <td>NaN</td>\n",
       "      <td>NaN</td>\n",
       "      <td>NaN</td>\n",
       "      <td>NaN</td>\n",
       "      <td>6.7</td>\n",
       "      <td>мелодрама,комедия</td>\n",
       "      <td>NaN</td>\n",
       "    </tr>\n",
       "    <tr>\n",
       "      <th>4069</th>\n",
       "      <td>День святого Валентина_</td>\n",
       "      <td>121002210</td>\n",
       "      <td>2010-02-03 12:00:00+00:00</td>\n",
       "      <td>Художественный</td>\n",
       "      <td>Уорнер Бразерс, Нью Лайн Синема, Уэйн Райс, Ка...</td>\n",
       "      <td>США</td>\n",
       "      <td>Гарри Маршалл</td>\n",
       "      <td>Сэмюэл Дж.Браун</td>\n",
       "      <td>«16+» - для детей старше 16 лет</td>\n",
       "      <td>NaN</td>\n",
       "      <td>NaN</td>\n",
       "      <td>NaN</td>\n",
       "      <td>NaN</td>\n",
       "      <td>6.7</td>\n",
       "      <td>мелодрама,комедия</td>\n",
       "      <td>NaN</td>\n",
       "    </tr>\n",
       "    <tr>\n",
       "      <th>4195</th>\n",
       "      <td>День святого Валентина_</td>\n",
       "      <td>221136210</td>\n",
       "      <td>2010-11-30 12:00:00+00:00</td>\n",
       "      <td>Художественный</td>\n",
       "      <td>Уорнер Бразерс, Нью Лайн Синема, Уэйн Райс, Ка...</td>\n",
       "      <td>США</td>\n",
       "      <td>Гарри Маршалл</td>\n",
       "      <td>Сэмюэл Дж.Браун</td>\n",
       "      <td>«16+» - для детей старше 16 лет</td>\n",
       "      <td>NaN</td>\n",
       "      <td>NaN</td>\n",
       "      <td>NaN</td>\n",
       "      <td>NaN</td>\n",
       "      <td>6.7</td>\n",
       "      <td>мелодрама,комедия</td>\n",
       "      <td>NaN</td>\n",
       "    </tr>\n",
       "    <tr>\n",
       "      <th>5069</th>\n",
       "      <td>День святого Валентина_</td>\n",
       "      <td>221066410</td>\n",
       "      <td>2010-06-01 12:00:00+00:00</td>\n",
       "      <td>Художественный</td>\n",
       "      <td>Уорнер Бразерс, Нью Лайн Синема, Уэйн Райс, Ка...</td>\n",
       "      <td>США</td>\n",
       "      <td>Гарри Маршалл</td>\n",
       "      <td>Сэмюэл Дж.Браун</td>\n",
       "      <td>«16+» - для детей старше 16 лет</td>\n",
       "      <td>NaN</td>\n",
       "      <td>NaN</td>\n",
       "      <td>NaN</td>\n",
       "      <td>NaN</td>\n",
       "      <td>6.7</td>\n",
       "      <td>мелодрама,комедия</td>\n",
       "      <td>NaN</td>\n",
       "    </tr>\n",
       "  </tbody>\n",
       "</table>\n",
       "</div>"
      ],
      "text/plain": [
       "                        title  pu_number           show_start_date  \\\n",
       "3901  День святого Валентина_  221083810 2010-07-15 12:00:00+00:00   \n",
       "3990  День святого Валентина_  221068010 2010-05-14 12:00:00+00:00   \n",
       "4069  День святого Валентина_  121002210 2010-02-03 12:00:00+00:00   \n",
       "4195  День святого Валентина_  221136210 2010-11-30 12:00:00+00:00   \n",
       "5069  День святого Валентина_  221066410 2010-06-01 12:00:00+00:00   \n",
       "\n",
       "                type                                        film_studio  \\\n",
       "3901  Художественный  Уорнер Бразерс, Нью Лайн Синема, Уэйн Райс, Ка...   \n",
       "3990  Художественный  Уорнер Бразерс, Нью Лайн Синема, Уэйн Райс, Ка...   \n",
       "4069  Художественный  Уорнер Бразерс, Нью Лайн Синема, Уэйн Райс, Ка...   \n",
       "4195  Художественный  Уорнер Бразерс, Нью Лайн Синема, Уэйн Райс, Ка...   \n",
       "5069  Художественный  Уорнер Бразерс, Нью Лайн Синема, Уэйн Райс, Ка...   \n",
       "\n",
       "     production_country       director         producer  \\\n",
       "3901                США  Гарри Маршалл  Сэмюэл Дж.Браун   \n",
       "3990                США  Гарри Маршалл  Сэмюэл Дж.Браун   \n",
       "4069                США  Гарри Маршалл  Сэмюэл Дж.Браун   \n",
       "4195                США  Гарри Маршалл  Сэмюэл Дж.Браун   \n",
       "5069                США  Гарри Маршалл  Сэмюэл Дж.Браун   \n",
       "\n",
       "                      age_restriction  refundable_support  \\\n",
       "3901  «16+» - для детей старше 16 лет                 NaN   \n",
       "3990  «16+» - для детей старше 16 лет                 NaN   \n",
       "4069  «16+» - для детей старше 16 лет                 NaN   \n",
       "4195  «16+» - для детей старше 16 лет                 NaN   \n",
       "5069  «16+» - для детей старше 16 лет                 NaN   \n",
       "\n",
       "      nonrefundable_support  budget financing_source  ratings  \\\n",
       "3901                    NaN     NaN              NaN      6.7   \n",
       "3990                    NaN     NaN              NaN      6.7   \n",
       "4069                    NaN     NaN              NaN      6.7   \n",
       "4195                    NaN     NaN              NaN      6.7   \n",
       "5069                    NaN     NaN              NaN      6.7   \n",
       "\n",
       "                 genres  box_office  \n",
       "3901  мелодрама,комедия         NaN  \n",
       "3990  мелодрама,комедия         NaN  \n",
       "4069  мелодрама,комедия         NaN  \n",
       "4195  мелодрама,комедия         NaN  \n",
       "5069  мелодрама,комедия         NaN  "
      ]
     },
     "execution_count": 21,
     "metadata": {},
     "output_type": "execute_result"
    }
   ],
   "source": [
    "df_filtered[df_filtered['title'] == 'День святого Валентина_']"
   ]
  },
  {
   "cell_type": "markdown",
   "metadata": {},
   "source": [
    "Скорее всего такие повторения считать дубликатами нельзя, так как у них разные прокатные удостоверения (номера по колонке `['pu_number']` выданые в разное время (колонка `['show_start_data']`).  Например фильм `'День святого Валентина'` 5 раз выходил в прокат в разные месяцы в 2010 году."
   ]
  },
  {
   "cell_type": "markdown",
   "metadata": {
    "id": "52fOPrEBgFyQ"
   },
   "source": [
    "### Шаг 2.4. Изучите категориальные значения\n",
    "\n",
    "- Посмотрите, какая общая проблема встречается почти во всех категориальных столбцах;\n",
    "- Исправьте проблемные значения в поле `type`.\n",
    "\n",
    "<div id=\"accordion\">\n",
    "    <div class=\"card\">\n",
    "        <div class=\"card-header\" id=\"headingThree\">\n",
    "            <button class=\"btn btn-link collapsed\" data-toggle=\"collapse\" data-target=\"#collapseHint_1\" aria-expanded=\"false\" aria-controls=\"collapseHint_1\">Подсказка</button>\n",
    "        </div>\n",
    "        <div id=\"collapseHint_1\" class=\"collapse\" aria-labelledby=\"headingThree\" data-parent=\"#accordion\">\n",
    "            <div class=\"card-body\">\n",
    "В поле <code>type</code> есть несколько значений, у которых появился пробел в начале строки. Самый простой способ их «починить» -- использовать метод <a href=\"https://pandas.pydata.org/docs/reference/api/pandas.Series.str.strip.html#pandas.Series.str.strip\">.str.strip</a>. Этот метод удаляет все пробелы, которые встречаются в начале и в конце строки. Применяют его таким образом:<br>\n",
    "<code>df['type'].str.strip()</code>\n",
    "            </div>\n",
    "        </div>\n",
    "    </div>\n",
    "</div>"
   ]
  },
  {
   "cell_type": "markdown",
   "metadata": {},
   "source": [
    "Проверим, есть ли в данных неявные дубликаты.\n",
    "\n",
    "Так как строковых значений и признаков очень много, предлагается проверить только значимые и поддающиеся проверке категориальные признаки (`['type']`, `['age_restriction']` и `['financing_source']`) в рамках данного проекта. "
   ]
  },
  {
   "cell_type": "code",
   "execution_count": 22,
   "metadata": {
    "id": "PnXKIVdFgFyR"
   },
   "outputs": [
    {
     "data": {
      "text/plain": [
       "array(['Художественный', 'Анимационный', 'Прочие', 'Документальный',\n",
       "       'Научно-популярный', ' Художественный', ' Анимационный',\n",
       "       'Музыкально-развлекательный'], dtype=object)"
      ]
     },
     "metadata": {},
     "output_type": "display_data"
    },
    {
     "data": {
      "text/plain": [
       "array(['«18+» - запрещено для детей', '«6+» - для детей старше 6 лет',\n",
       "       '«12+» - для детей старше 12 лет',\n",
       "       '«16+» - для детей старше 16 лет',\n",
       "       '«0+» - для любой зрительской аудитории'], dtype=object)"
      ]
     },
     "metadata": {},
     "output_type": "display_data"
    },
    {
     "data": {
      "text/plain": [
       "array([nan, 'Министерство культуры', 'Фонд кино',\n",
       "       'Министерство культуры, Фонд кино'], dtype=object)"
      ]
     },
     "metadata": {},
     "output_type": "display_data"
    }
   ],
   "source": [
    "display(df_filtered['type'].unique())\n",
    "display(df_filtered['age_restriction'].unique())\n",
    "display(df_filtered['financing_source'].unique())"
   ]
  },
  {
   "cell_type": "markdown",
   "metadata": {},
   "source": [
    "По колонке `['type']` обнаружены неявные дубликаты, отличающиеся наличием пробелов в названиях категорий. Удалим пробелы в начале и конце строк. Сделаем это для всех строковых значений в исходном датафрейме. "
   ]
  },
  {
   "cell_type": "code",
   "execution_count": 23,
   "metadata": {},
   "outputs": [
    {
     "data": {
      "text/plain": [
       "array(['художественный', 'анимационный', 'прочие', 'документальный',\n",
       "       'научно-популярный', 'музыкально-развлекательный'], dtype=object)"
      ]
     },
     "execution_count": 23,
     "metadata": {},
     "output_type": "execute_result"
    }
   ],
   "source": [
    "# создадим список колонок, имеющих строковый тип данных\n",
    "col_object = df_filtered.columns[df_filtered.dtypes == 'object']\n",
    "\n",
    "# удалим пробелы в начале и конце строки каждого значения выбраных колонок\n",
    "for col in col_object:\n",
    "    df_filtered[col] = df_filtered[col].str.strip()\n",
    "\n",
    "# приведем значения колонки с типом фильма к нижнему регистру    \n",
    "df_filtered['type'] = df_filtered['type'].str.lower()\n",
    "\n",
    "# проверим значения в колонке с типом после обработки\n",
    "df_filtered['type'].unique()"
   ]
  },
  {
   "cell_type": "markdown",
   "metadata": {
    "id": "XFSN5lrEgFyR"
   },
   "source": [
    "### Шаг 2.5. Проверьте количественные значения\n",
    "\n",
    "- Проверьте, обнаружились ли в таких столбцах подозрительные данные. Как с такими данными лучше поступить?\n",
    "\n",
    "<div id=\"accordion\">\n",
    "    <div class=\"card\">\n",
    "        <div class=\"card-header\" id=\"headingThree\">\n",
    "            <button class=\"btn btn-link collapsed\" data-toggle=\"collapse\" data-target=\"#collapseHint_budget\" aria-expanded=\"false\" aria-controls=\"collapseHint_budget\">Подсказка</button>\n",
    "        </div>\n",
    "        <div id=\"collapseHint_budget\" class=\"collapse\" aria-labelledby=\"headingThree\" data-parent=\"#accordion\">\n",
    "            <div class=\"card-body\">\n",
    "Обратите внимание на описание столбца <code>budget</code>. Как этот столбец соотносится с двумя другими: <code>refundable_support</code> и <code>nonrefundable_support</code>?\n",
    "            </div>\n",
    "        </div>\n",
    "    </div>\n",
    "</div>"
   ]
  },
  {
   "cell_type": "markdown",
   "metadata": {},
   "source": [
    "По условиям задания значения колонки `['budget']` должны включать в себя полный объем гос.поддержки, то есть значения из колонок `['refundable_support']` и `['nonrefundable_support']` Проверим случаи, когда значения в колонке `'бюджет'` будут равны `0` при наличии данных в колонках о `гос.поддержке`. "
   ]
  },
  {
   "cell_type": "code",
   "execution_count": 24,
   "metadata": {
    "id": "YbzClBxagFyS"
   },
   "outputs": [
    {
     "data": {
      "text/html": [
       "<div>\n",
       "<style scoped>\n",
       "    .dataframe tbody tr th:only-of-type {\n",
       "        vertical-align: middle;\n",
       "    }\n",
       "\n",
       "    .dataframe tbody tr th {\n",
       "        vertical-align: top;\n",
       "    }\n",
       "\n",
       "    .dataframe thead th {\n",
       "        text-align: right;\n",
       "    }\n",
       "</style>\n",
       "<table border=\"1\" class=\"dataframe\">\n",
       "  <thead>\n",
       "    <tr style=\"text-align: right;\">\n",
       "      <th></th>\n",
       "      <th>title</th>\n",
       "      <th>pu_number</th>\n",
       "      <th>show_start_date</th>\n",
       "      <th>type</th>\n",
       "      <th>film_studio</th>\n",
       "      <th>production_country</th>\n",
       "      <th>director</th>\n",
       "      <th>producer</th>\n",
       "      <th>age_restriction</th>\n",
       "      <th>refundable_support</th>\n",
       "      <th>nonrefundable_support</th>\n",
       "      <th>budget</th>\n",
       "      <th>financing_source</th>\n",
       "      <th>ratings</th>\n",
       "      <th>genres</th>\n",
       "      <th>box_office</th>\n",
       "    </tr>\n",
       "  </thead>\n",
       "  <tbody>\n",
       "    <tr>\n",
       "      <th>2052</th>\n",
       "      <td>14+</td>\n",
       "      <td>111023614</td>\n",
       "      <td>2014-12-19 12:00:00+00:00</td>\n",
       "      <td>художественный</td>\n",
       "      <td>ООО Киностудия  \"Сентябрь\"</td>\n",
       "      <td>Россия</td>\n",
       "      <td>А.Зайцев</td>\n",
       "      <td>О.Гранина, А.Зайцев</td>\n",
       "      <td>«16+» - для детей старше 16 лет</td>\n",
       "      <td>0.0</td>\n",
       "      <td>23000000.0</td>\n",
       "      <td>0.0</td>\n",
       "      <td>Министерство культуры, Фонд кино</td>\n",
       "      <td>6.6</td>\n",
       "      <td>мелодрама</td>\n",
       "      <td>10234016.1</td>\n",
       "    </tr>\n",
       "    <tr>\n",
       "      <th>2057</th>\n",
       "      <td>Дуxless 2</td>\n",
       "      <td>111000415</td>\n",
       "      <td>2015-01-26 12:00:00+00:00</td>\n",
       "      <td>художественный</td>\n",
       "      <td>ООО \"Киностудия \"Слово\", ООО \"Арт Пикчерс Студия\"</td>\n",
       "      <td>Россия</td>\n",
       "      <td>Р.Прыгунов</td>\n",
       "      <td>П.Ануров, Ф.Бондарчук, Д.Рудовский</td>\n",
       "      <td>«16+» - для детей старше 16 лет</td>\n",
       "      <td>0.0</td>\n",
       "      <td>75000000.0</td>\n",
       "      <td>0.0</td>\n",
       "      <td>Фонд кино</td>\n",
       "      <td>6.6</td>\n",
       "      <td>драма</td>\n",
       "      <td>446163511.0</td>\n",
       "    </tr>\n",
       "    <tr>\n",
       "      <th>2471</th>\n",
       "      <td>Воин (2015)</td>\n",
       "      <td>111017315</td>\n",
       "      <td>2015-09-28 12:00:00+00:00</td>\n",
       "      <td>художественный</td>\n",
       "      <td>ООО \"Форпост Продакшн\", ООО \"Арт Пикчерс Студия\"</td>\n",
       "      <td>Россия</td>\n",
       "      <td>А.Андрианов</td>\n",
       "      <td>ООО \"Арт Пикчерс Студия\"</td>\n",
       "      <td>«12+» - для детей старше 12 лет</td>\n",
       "      <td>10000000.0</td>\n",
       "      <td>70000000.0</td>\n",
       "      <td>0.0</td>\n",
       "      <td>Фонд кино</td>\n",
       "      <td>7.8</td>\n",
       "      <td>боевик,драма,криминал</td>\n",
       "      <td>196572438.4</td>\n",
       "    </tr>\n",
       "    <tr>\n",
       "      <th>2531</th>\n",
       "      <td>Бармен.</td>\n",
       "      <td>111009615</td>\n",
       "      <td>2015-05-26 12:00:00+00:00</td>\n",
       "      <td>художественный</td>\n",
       "      <td>АО \"ВайТ Медиа\", ООО \"Арт Пикчерс Студия\"</td>\n",
       "      <td>Россия</td>\n",
       "      <td>Д.Штурманова</td>\n",
       "      <td>Т.Вайнштейн</td>\n",
       "      <td>«16+» - для детей старше 16 лет</td>\n",
       "      <td>20000000.0</td>\n",
       "      <td>0.0</td>\n",
       "      <td>0.0</td>\n",
       "      <td>Фонд кино</td>\n",
       "      <td>6.2</td>\n",
       "      <td>комедия,фэнтези</td>\n",
       "      <td>67418974.8</td>\n",
       "    </tr>\n",
       "    <tr>\n",
       "      <th>2614</th>\n",
       "      <td>Савва. Сердце воина</td>\n",
       "      <td>114001715</td>\n",
       "      <td>2015-07-21 12:00:00+00:00</td>\n",
       "      <td>анимационный</td>\n",
       "      <td>ООО \"Глюкоза Продакшн\", ООО \"Арт Пикчерс Студия\"</td>\n",
       "      <td>Россия</td>\n",
       "      <td>М.Фадеев</td>\n",
       "      <td>А.Чистяков</td>\n",
       "      <td>«6+» - для детей старше 6 лет</td>\n",
       "      <td>60000000.0</td>\n",
       "      <td>100000000.0</td>\n",
       "      <td>0.0</td>\n",
       "      <td>Фонд кино</td>\n",
       "      <td>4.6</td>\n",
       "      <td>мультфильм,приключения,фэнтези</td>\n",
       "      <td>184487551.4</td>\n",
       "    </tr>\n",
       "  </tbody>\n",
       "</table>\n",
       "</div>"
      ],
      "text/plain": [
       "                    title  pu_number           show_start_date  \\\n",
       "2052                  14+  111023614 2014-12-19 12:00:00+00:00   \n",
       "2057            Дуxless 2  111000415 2015-01-26 12:00:00+00:00   \n",
       "2471          Воин (2015)  111017315 2015-09-28 12:00:00+00:00   \n",
       "2531              Бармен.  111009615 2015-05-26 12:00:00+00:00   \n",
       "2614  Савва. Сердце воина  114001715 2015-07-21 12:00:00+00:00   \n",
       "\n",
       "                type                                        film_studio  \\\n",
       "2052  художественный                         ООО Киностудия  \"Сентябрь\"   \n",
       "2057  художественный  ООО \"Киностудия \"Слово\", ООО \"Арт Пикчерс Студия\"   \n",
       "2471  художественный   ООО \"Форпост Продакшн\", ООО \"Арт Пикчерс Студия\"   \n",
       "2531  художественный          АО \"ВайТ Медиа\", ООО \"Арт Пикчерс Студия\"   \n",
       "2614    анимационный   ООО \"Глюкоза Продакшн\", ООО \"Арт Пикчерс Студия\"   \n",
       "\n",
       "     production_country      director                            producer  \\\n",
       "2052             Россия      А.Зайцев                 О.Гранина, А.Зайцев   \n",
       "2057             Россия    Р.Прыгунов  П.Ануров, Ф.Бондарчук, Д.Рудовский   \n",
       "2471             Россия   А.Андрианов            ООО \"Арт Пикчерс Студия\"   \n",
       "2531             Россия  Д.Штурманова                         Т.Вайнштейн   \n",
       "2614             Россия      М.Фадеев                          А.Чистяков   \n",
       "\n",
       "                      age_restriction  refundable_support  \\\n",
       "2052  «16+» - для детей старше 16 лет                 0.0   \n",
       "2057  «16+» - для детей старше 16 лет                 0.0   \n",
       "2471  «12+» - для детей старше 12 лет          10000000.0   \n",
       "2531  «16+» - для детей старше 16 лет          20000000.0   \n",
       "2614    «6+» - для детей старше 6 лет          60000000.0   \n",
       "\n",
       "      nonrefundable_support  budget                  financing_source  \\\n",
       "2052             23000000.0     0.0  Министерство культуры, Фонд кино   \n",
       "2057             75000000.0     0.0                         Фонд кино   \n",
       "2471             70000000.0     0.0                         Фонд кино   \n",
       "2531                    0.0     0.0                         Фонд кино   \n",
       "2614            100000000.0     0.0                         Фонд кино   \n",
       "\n",
       "      ratings                          genres   box_office  \n",
       "2052      6.6                       мелодрама   10234016.1  \n",
       "2057      6.6                           драма  446163511.0  \n",
       "2471      7.8           боевик,драма,криминал  196572438.4  \n",
       "2531      6.2                 комедия,фэнтези   67418974.8  \n",
       "2614      4.6  мультфильм,приключения,фэнтези  184487551.4  "
      ]
     },
     "execution_count": 24,
     "metadata": {},
     "output_type": "execute_result"
    }
   ],
   "source": [
    "df_filtered[(df_filtered['budget'] == 0) & ((df_filtered['refundable_support'] != 0) | (df_filtered['nonrefundable_support'] != 0))].head()"
   ]
  },
  {
   "cell_type": "markdown",
   "metadata": {},
   "source": [
    "Такие данные есть. Заполним нулевые значения в колонке `['budget']` суммой значений из колонок `['refundable_support']` и `['nonrefundable_support']`."
   ]
  },
  {
   "cell_type": "code",
   "execution_count": 25,
   "metadata": {},
   "outputs": [
    {
     "data": {
      "text/plain": [
       "0"
      ]
     },
     "execution_count": 25,
     "metadata": {},
     "output_type": "execute_result"
    }
   ],
   "source": [
    "df_filtered['budget'] = (\n",
    "    df_filtered['budget']\n",
    "    .where(df_filtered['budget'] != 0, df_filtered['refundable_support'] + df_filtered['nonrefundable_support'])\n",
    ")\n",
    "\n",
    "# проверка на наличие оставшихся нулевых значений\n",
    "len(df_filtered[(df_filtered['budget'] == 0) & \n",
    "    ((df_filtered['refundable_support'] != 0) | \n",
    "     (df_filtered['nonrefundable_support'] != 0))]\n",
    ")"
   ]
  },
  {
   "cell_type": "markdown",
   "metadata": {
    "id": "Eu6oWp2CgFyS"
   },
   "source": [
    "### Шаг 2.6. Добавьте новые столбцы\n",
    "\n",
    "\n",
    "\n"
   ]
  },
  {
   "cell_type": "markdown",
   "metadata": {
    "id": "7GgW-UpAgFyS"
   },
   "source": [
    "- Создайте столбец с информацией о годе проката. Выделите год из даты премьеры фильма."
   ]
  },
  {
   "cell_type": "code",
   "execution_count": 26,
   "metadata": {
    "id": "I-yd1DkWgFyT"
   },
   "outputs": [],
   "source": [
    "df_filtered['year'] = pd.DatetimeIndex(df_filtered['show_start_date']).year\n",
    "\n",
    "# выведем первые 10 строк датафрейма после внесения данных\n",
    "# df_filtered.loc[:, ['show_start_date', 'year']].head(10)"
   ]
  },
  {
   "cell_type": "markdown",
   "metadata": {
    "id": "nFTDLDYOgFyT"
   },
   "source": [
    "- Создайте два столбца: с именем и фамилией главного режиссёра и основным жанром фильма. В столбцы войдут первые значения из списка режиссёров и жанров соответственно.\n",
    "\n",
    "<div id=\"accordion\">\n",
    "    <div class=\"card\">\n",
    "        <div class=\"card-header\" id=\"headingThree\">\n",
    "            <button class=\"btn btn-link collapsed\" data-toggle=\"collapse\" data-target=\"#collapseHint_2\" aria-expanded=\"false\" aria-controls=\"collapseHint_2\">Подсказка</button>\n",
    "        </div>\n",
    "        <div id=\"collapseHint_2\" class=\"collapse\" aria-labelledby=\"headingThree\" data-parent=\"#accordion\">\n",
    "            <div class=\"card-body\">\n",
    "Чтобы создать такие столбцы, лучше всего использовать собственную функцию. Эту функцию можно применить к двум столбцам сразу. \n",
    "            </div>\n",
    "        </div>\n",
    "    </div>\n",
    "</div>"
   ]
  },
  {
   "cell_type": "code",
   "execution_count": 27,
   "metadata": {
    "id": "LSbRZKbMgFyU"
   },
   "outputs": [
    {
     "data": {
      "text/html": [
       "<div>\n",
       "<style scoped>\n",
       "    .dataframe tbody tr th:only-of-type {\n",
       "        vertical-align: middle;\n",
       "    }\n",
       "\n",
       "    .dataframe tbody tr th {\n",
       "        vertical-align: top;\n",
       "    }\n",
       "\n",
       "    .dataframe thead th {\n",
       "        text-align: right;\n",
       "    }\n",
       "</style>\n",
       "<table border=\"1\" class=\"dataframe\">\n",
       "  <thead>\n",
       "    <tr style=\"text-align: right;\">\n",
       "      <th></th>\n",
       "      <th>genres</th>\n",
       "      <th>main_genre</th>\n",
       "    </tr>\n",
       "  </thead>\n",
       "  <tbody>\n",
       "    <tr>\n",
       "      <th>0</th>\n",
       "      <td>боевик,драма,мелодрама</td>\n",
       "      <td>боевик</td>\n",
       "    </tr>\n",
       "    <tr>\n",
       "      <th>1</th>\n",
       "      <td>драма,военный</td>\n",
       "      <td>драма</td>\n",
       "    </tr>\n",
       "    <tr>\n",
       "      <th>2</th>\n",
       "      <td>фантастика,боевик,триллер</td>\n",
       "      <td>фантастика</td>\n",
       "    </tr>\n",
       "    <tr>\n",
       "      <th>3</th>\n",
       "      <td>фантастика,боевик,триллер</td>\n",
       "      <td>фантастика</td>\n",
       "    </tr>\n",
       "    <tr>\n",
       "      <th>4</th>\n",
       "      <td>фантастика,боевик,триллер</td>\n",
       "      <td>фантастика</td>\n",
       "    </tr>\n",
       "    <tr>\n",
       "      <th>5</th>\n",
       "      <td>драма</td>\n",
       "      <td>драма</td>\n",
       "    </tr>\n",
       "    <tr>\n",
       "      <th>6</th>\n",
       "      <td>мелодрама,комедия</td>\n",
       "      <td>мелодрама</td>\n",
       "    </tr>\n",
       "    <tr>\n",
       "      <th>7</th>\n",
       "      <td>мюзикл,мелодрама,комедия</td>\n",
       "      <td>мюзикл</td>\n",
       "    </tr>\n",
       "    <tr>\n",
       "      <th>8</th>\n",
       "      <td>комедия,криминал</td>\n",
       "      <td>комедия</td>\n",
       "    </tr>\n",
       "    <tr>\n",
       "      <th>9</th>\n",
       "      <td>мелодрама,комедия</td>\n",
       "      <td>мелодрама</td>\n",
       "    </tr>\n",
       "    <tr>\n",
       "      <th>10</th>\n",
       "      <td>боевик,триллер,детектив</td>\n",
       "      <td>боевик</td>\n",
       "    </tr>\n",
       "    <tr>\n",
       "      <th>11</th>\n",
       "      <td>боевик,драма,приключения</td>\n",
       "      <td>боевик</td>\n",
       "    </tr>\n",
       "    <tr>\n",
       "      <th>12</th>\n",
       "      <td>драма,спорт</td>\n",
       "      <td>драма</td>\n",
       "    </tr>\n",
       "    <tr>\n",
       "      <th>13</th>\n",
       "      <td>триллер,драма,мелодрама</td>\n",
       "      <td>триллер</td>\n",
       "    </tr>\n",
       "    <tr>\n",
       "      <th>14</th>\n",
       "      <td>комедия,мелодрама</td>\n",
       "      <td>комедия</td>\n",
       "    </tr>\n",
       "    <tr>\n",
       "      <th>15</th>\n",
       "      <td>драма</td>\n",
       "      <td>драма</td>\n",
       "    </tr>\n",
       "    <tr>\n",
       "      <th>16</th>\n",
       "      <td>драма,мелодрама,комедия</td>\n",
       "      <td>драма</td>\n",
       "    </tr>\n",
       "    <tr>\n",
       "      <th>17</th>\n",
       "      <td>драма,мелодрама</td>\n",
       "      <td>драма</td>\n",
       "    </tr>\n",
       "    <tr>\n",
       "      <th>18</th>\n",
       "      <td>мелодрама,комедия</td>\n",
       "      <td>мелодрама</td>\n",
       "    </tr>\n",
       "    <tr>\n",
       "      <th>19</th>\n",
       "      <td>драма</td>\n",
       "      <td>драма</td>\n",
       "    </tr>\n",
       "  </tbody>\n",
       "</table>\n",
       "</div>"
      ],
      "text/plain": [
       "                       genres  main_genre\n",
       "0      боевик,драма,мелодрама      боевик\n",
       "1               драма,военный       драма\n",
       "2   фантастика,боевик,триллер  фантастика\n",
       "3   фантастика,боевик,триллер  фантастика\n",
       "4   фантастика,боевик,триллер  фантастика\n",
       "5                       драма       драма\n",
       "6           мелодрама,комедия   мелодрама\n",
       "7    мюзикл,мелодрама,комедия      мюзикл\n",
       "8            комедия,криминал     комедия\n",
       "9           мелодрама,комедия   мелодрама\n",
       "10    боевик,триллер,детектив      боевик\n",
       "11   боевик,драма,приключения      боевик\n",
       "12                драма,спорт       драма\n",
       "13    триллер,драма,мелодрама     триллер\n",
       "14          комедия,мелодрама     комедия\n",
       "15                      драма       драма\n",
       "16    драма,мелодрама,комедия       драма\n",
       "17            драма,мелодрама       драма\n",
       "18          мелодрама,комедия   мелодрама\n",
       "19                      драма       драма"
      ]
     },
     "execution_count": 27,
     "metadata": {},
     "output_type": "execute_result"
    }
   ],
   "source": [
    "df_filtered['main_director'] = df_filtered['director'].str.split(\",\").str[0]\n",
    "\n",
    "# выведем первые 20 строк датафрейма после внесения данных\n",
    "# df_filtered.loc[:, ['director', 'main_director']].head(20)\n",
    "\n",
    "df_filtered['main_genre'] = df_filtered['genres'].str.split(\",\").str[0]\n",
    "\n",
    "# удалим возможные пробелы в начале и в конце строки\n",
    "df_filtered['main_director'] = df_filtered['main_director'].str.strip()\n",
    "df_filtered['main_genre'] = df_filtered['main_genre'].str.strip()\n",
    "\n",
    "# выведем первые 20 строк датафрейма после внесения данных\n",
    "df_filtered.loc[:, ['genres', 'main_genre']].head(20)"
   ]
  },
  {
   "cell_type": "markdown",
   "metadata": {
    "id": "1FsCXHwdgFyU"
   },
   "source": [
    "- Посчитайте, какую долю от общего бюджета фильма составляет государственная поддержка."
   ]
  },
  {
   "cell_type": "code",
   "execution_count": 28,
   "metadata": {
    "id": "LV6qFuZLgFyV",
    "scrolled": true
   },
   "outputs": [
    {
     "data": {
      "text/html": [
       "<div>\n",
       "<style scoped>\n",
       "    .dataframe tbody tr th:only-of-type {\n",
       "        vertical-align: middle;\n",
       "    }\n",
       "\n",
       "    .dataframe tbody tr th {\n",
       "        vertical-align: top;\n",
       "    }\n",
       "\n",
       "    .dataframe thead th {\n",
       "        text-align: right;\n",
       "    }\n",
       "</style>\n",
       "<table border=\"1\" class=\"dataframe\">\n",
       "  <thead>\n",
       "    <tr style=\"text-align: right;\">\n",
       "      <th></th>\n",
       "      <th>refundable_support</th>\n",
       "      <th>nonrefundable_support</th>\n",
       "      <th>budget</th>\n",
       "      <th>fin_source_part</th>\n",
       "    </tr>\n",
       "  </thead>\n",
       "  <tbody>\n",
       "    <tr>\n",
       "      <th>7329</th>\n",
       "      <td>0.0</td>\n",
       "      <td>60000000.0</td>\n",
       "      <td>360054850.0</td>\n",
       "      <td>0.167</td>\n",
       "    </tr>\n",
       "    <tr>\n",
       "      <th>7343</th>\n",
       "      <td>0.0</td>\n",
       "      <td>30000000.0</td>\n",
       "      <td>47734050.0</td>\n",
       "      <td>0.628</td>\n",
       "    </tr>\n",
       "    <tr>\n",
       "      <th>7374</th>\n",
       "      <td>5000000.0</td>\n",
       "      <td>35000000.0</td>\n",
       "      <td>78422212.0</td>\n",
       "      <td>0.510</td>\n",
       "    </tr>\n",
       "    <tr>\n",
       "      <th>7452</th>\n",
       "      <td>80000000.0</td>\n",
       "      <td>40000000.0</td>\n",
       "      <td>270000000.0</td>\n",
       "      <td>0.444</td>\n",
       "    </tr>\n",
       "    <tr>\n",
       "      <th>7455</th>\n",
       "      <td>25000000.0</td>\n",
       "      <td>35000000.0</td>\n",
       "      <td>160000000.0</td>\n",
       "      <td>0.375</td>\n",
       "    </tr>\n",
       "    <tr>\n",
       "      <th>7463</th>\n",
       "      <td>100000000.0</td>\n",
       "      <td>400000000.0</td>\n",
       "      <td>980000000.0</td>\n",
       "      <td>0.510</td>\n",
       "    </tr>\n",
       "    <tr>\n",
       "      <th>7465</th>\n",
       "      <td>100000000.0</td>\n",
       "      <td>0.0</td>\n",
       "      <td>190000000.0</td>\n",
       "      <td>0.526</td>\n",
       "    </tr>\n",
       "    <tr>\n",
       "      <th>7473</th>\n",
       "      <td>100000000.0</td>\n",
       "      <td>400000000.0</td>\n",
       "      <td>944000000.0</td>\n",
       "      <td>0.530</td>\n",
       "    </tr>\n",
       "    <tr>\n",
       "      <th>7475</th>\n",
       "      <td>0.0</td>\n",
       "      <td>30000000.0</td>\n",
       "      <td>46154000.0</td>\n",
       "      <td>0.650</td>\n",
       "    </tr>\n",
       "    <tr>\n",
       "      <th>7477</th>\n",
       "      <td>40000000.0</td>\n",
       "      <td>60000000.0</td>\n",
       "      <td>150147502.0</td>\n",
       "      <td>0.666</td>\n",
       "    </tr>\n",
       "  </tbody>\n",
       "</table>\n",
       "</div>"
      ],
      "text/plain": [
       "      refundable_support  nonrefundable_support       budget  fin_source_part\n",
       "7329                 0.0             60000000.0  360054850.0            0.167\n",
       "7343                 0.0             30000000.0   47734050.0            0.628\n",
       "7374           5000000.0             35000000.0   78422212.0            0.510\n",
       "7452          80000000.0             40000000.0  270000000.0            0.444\n",
       "7455          25000000.0             35000000.0  160000000.0            0.375\n",
       "7463         100000000.0            400000000.0  980000000.0            0.510\n",
       "7465         100000000.0                    0.0  190000000.0            0.526\n",
       "7473         100000000.0            400000000.0  944000000.0            0.530\n",
       "7475                 0.0             30000000.0   46154000.0            0.650\n",
       "7477          40000000.0             60000000.0  150147502.0            0.666"
      ]
     },
     "execution_count": 28,
     "metadata": {},
     "output_type": "execute_result"
    }
   ],
   "source": [
    "df_filtered['fin_source_part'] = (\n",
    "    (df_filtered['refundable_support'] + \n",
    "    df_filtered['nonrefundable_support']) / \n",
    "    df_filtered['budget']\n",
    ").round(3)\n",
    "\n",
    "# выведем последние 10 строк датафрейма после внесения данных\n",
    "df_filtered.loc[~df_filtered['fin_source_part'].isna(), \\\n",
    "                ['refundable_support', 'nonrefundable_support', 'budget', 'fin_source_part']] \\\n",
    "                .tail(10)"
   ]
  },
  {
   "cell_type": "markdown",
   "metadata": {
    "id": "6t4EukPLgFyV"
   },
   "source": [
    "## Шаг 3. Проведите исследовательский анализ данных\n"
   ]
  },
  {
   "cell_type": "markdown",
   "metadata": {
    "id": "vAH8WCzugFyV"
   },
   "source": [
    "- Посмотрите, сколько фильмов выходило в прокат каждый год. Обратите внимание, что данные о прокате в кинотеатрах известны не для всех фильмов. Посчитайте, какую долю составляют фильмы с указанной информацией о прокате в кинотеатрах."
   ]
  },
  {
   "cell_type": "markdown",
   "metadata": {},
   "source": []
  },
  {
   "cell_type": "markdown",
   "metadata": {},
   "source": [
    "Посмотрим сколько всего фильмов выходило в прокат, а точнее сколько было выдано прокатных удостоверений."
   ]
  },
  {
   "cell_type": "code",
   "execution_count": 29,
   "metadata": {},
   "outputs": [
    {
     "data": {
      "image/png": "[encoded data removed]",
      "text/plain": [
       "<Figure size 648x360 with 1 Axes>"
      ]
     },
     "metadata": {
      "needs_background": "light"
     },
     "output_type": "display_data"
    }
   ],
   "source": [
    "df_filtered['year'].hist(bins=20, figsize=(9, 5));"
   ]
  },
  {
   "cell_type": "markdown",
   "metadata": {},
   "source": [
    "Используем `matplolib` для построения более наглядного графика выхода фильмов в прокат по годам."
   ]
  },
  {
   "cell_type": "code",
   "execution_count": 30,
   "metadata": {
    "scrolled": true
   },
   "outputs": [
    {
     "data": {
      "image/png": "[encoded data removed]",
      "text/plain": [
       "<Figure size 648x360 with 1 Axes>"
      ]
     },
     "metadata": {
      "needs_background": "light"
     },
     "output_type": "display_data"
    }
   ],
   "source": [
    "film_count_start = df_filtered[['year', 'title']] \\\n",
    "                    .pivot_table(index='year', values='title', aggfunc='count')\n",
    "\n",
    "# построим график\n",
    "film_count_start.plot(\n",
    "    kind='bar',\n",
    "    title='График выхода фильмов в прокат по годам',\n",
    "    xlabel='Год выхода в прокат',\n",
    "    ylabel='Количество фильмов',\n",
    "    figsize=(9, 5),\n",
    "    grid=True\n",
    ")\n",
    "plt.show()"
   ]
  },
  {
   "cell_type": "markdown",
   "metadata": {},
   "source": [
    "`Больше` всего фильмов (чуть меньше `1000`) было выпущего в прокат в `2010` и `2019 годах`. `Меньше` всего (около `500`) в `2017 году`. Стоит отметить, что как уже было определено ранее, некоторые фильмы получали несколько прокатных удостоверений и вошли в статистику как отдельно взятые фильмы по условиям задачи. "
   ]
  },
  {
   "cell_type": "markdown",
   "metadata": {},
   "source": [
    "Если принять за информацию о выходе фильма в прокат наличие информации о `сборах` (колонка [`'box_office'`], то подсчитав общее количество выданных прокатных удостоверений (колонка [`'pu_number'`] и поделив на них количество, имеющее информацию о сборах получим долю прокатных удостоверений с указанной информацией о прокате в кинотеатрах."
   ]
  },
  {
   "cell_type": "code",
   "execution_count": 31,
   "metadata": {},
   "outputs": [
    {
     "data": {
      "image/png": "[encoded data removed]",
      "text/plain": [
       "<Figure size 648x360 with 1 Axes>"
      ]
     },
     "metadata": {
      "needs_background": "light"
     },
     "output_type": "display_data"
    }
   ],
   "source": [
    "prokat_year = df_filtered.pivot_table(index='year', values=['pu_number', 'box_office'], \\\n",
    "                                    aggfunc='count')\n",
    "\n",
    "# высчитаем долю прокатных удостоверений с указанной информацией о прокате в кинотеатрах\n",
    "prokat_year['box_part'] = (prokat_year['box_office'] / prokat_year['pu_number']).round(2)\n",
    "\n",
    "# построим график\n",
    "prokat_year.plot(\n",
    "    kind='bar',\n",
    "    y='box_part',\n",
    "    title='График доли прокатных удостоверений с указанной информацией о прокате в кинотеатрах',\n",
    "    xlabel='Год',\n",
    "    ylabel='Доля',\n",
    "    figsize=(9, 5),\n",
    "    grid=True\n",
    ")\n",
    "plt.show()"
   ]
  },
  {
   "cell_type": "markdown",
   "metadata": {},
   "source": [
    "На графике видно, что до `2014 года` доля прокатных удостоверений, имеющих информацию о прокате (сборах) росла равномерно до `35%`. В `2015 году` отмечается скачкообразный рост до `65%`. Далее с `2016 года` отмечается неустойчивая тенденция с небольшим спадом до `52%` в `2018 году`. "
   ]
  },
  {
   "cell_type": "code",
   "execution_count": 32,
   "metadata": {},
   "outputs": [],
   "source": [
    "#CODE REVIEW\n",
    "def calculate_non_null_share(series):\n",
    "    return series.notna().mean()"
   ]
  },
  {
   "cell_type": "code",
   "execution_count": 33,
   "metadata": {},
   "outputs": [
    {
     "data": {
      "text/plain": [
       "<AxesSubplot:xlabel='year'>"
      ]
     },
     "execution_count": 33,
     "metadata": {},
     "output_type": "execute_result"
    },
    {
     "data": {
      "image/png": "[encoded data removed]",
      "text/plain": [
       "<Figure size 432x288 with 1 Axes>"
      ]
     },
     "metadata": {
      "needs_background": "light"
     },
     "output_type": "display_data"
    }
   ],
   "source": [
    "#CODE REVIEW\n",
    "df_filtered.pivot_table(index='year', values='box_office', aggfunc=calculate_non_null_share)\\\n",
    "    .plot(kind='bar')"
   ]
  },
  {
   "cell_type": "markdown",
   "metadata": {},
   "source": [
    "<hr style=\"border: 2px solid orange;\" />"
   ]
  },
  {
   "cell_type": "markdown",
   "metadata": {
    "id": "BEOdcIrIgFyW"
   },
   "source": [
    "- Изучите, как менялась динамика проката по годам. В каком году сумма сборов была минимальной? А максимальной?"
   ]
  },
  {
   "cell_type": "code",
   "execution_count": 34,
   "metadata": {
    "id": "tfEhofYvgFyX"
   },
   "outputs": [
    {
     "data": {
      "image/png": "[encoded data removed]",
      "text/plain": [
       "<Figure size 648x360 with 1 Axes>"
      ]
     },
     "metadata": {
      "needs_background": "light"
     },
     "output_type": "display_data"
    }
   ],
   "source": [
    "box_year = df_filtered.pivot_table(index='year', values='box_office', aggfunc='sum')\n",
    "\n",
    "# построим график\n",
    "box_year.plot(\n",
    "    kind='bar',\n",
    "    title='График динамики проката по годам',\n",
    "    xlabel='Год проката',\n",
    "    ylabel='Сумма собранных средств с проката, руб.',\n",
    "    figsize=(9, 5),\n",
    "    grid=True\n",
    ")\n",
    "plt.show()"
   ]
  },
  {
   "cell_type": "markdown",
   "metadata": {},
   "source": [
    "С `2010` по `2013` год `сумма сборов` на порядки ниже чем, в остальные годы. Такие `сборы` могут говорить либо о том, что множество фильмов в этот период согласно представленных прокатных удостоверений не имели никаких `сборов` (что маловероятно), либо в данных о прокате в российских кинотеатрах (согласно объединенного файла `mkrf_shows.csv`) отсутсвтуют такие данные по многим прокатным удостоврениям. Таким образом судить о минимальной и максимальной сумме сборов по годам можно лишь условно без наличия полных данных:\n",
    "\n",
    "* В `2010-2013` годах сумма сборов была `минимальной`;\n",
    "* В `2018` году сумма сборов была `максимальной`."
   ]
  },
  {
   "cell_type": "markdown",
   "metadata": {
    "id": "G-7qS-N-gFyY"
   },
   "source": [
    "- С помощью сводной таблицы посчитайте среднюю и медианную сумму сборов для каждого года."
   ]
  },
  {
   "cell_type": "code",
   "execution_count": 35,
   "metadata": {
    "id": "jmp-rgg9gFyY"
   },
   "outputs": [
    {
     "data": {
      "text/html": [
       "<div>\n",
       "<style scoped>\n",
       "    .dataframe tbody tr th:only-of-type {\n",
       "        vertical-align: middle;\n",
       "    }\n",
       "\n",
       "    .dataframe tbody tr th {\n",
       "        vertical-align: top;\n",
       "    }\n",
       "\n",
       "    .dataframe thead tr th {\n",
       "        text-align: left;\n",
       "    }\n",
       "\n",
       "    .dataframe thead tr:last-of-type th {\n",
       "        text-align: right;\n",
       "    }\n",
       "</style>\n",
       "<table border=\"1\" class=\"dataframe\">\n",
       "  <thead>\n",
       "    <tr>\n",
       "      <th></th>\n",
       "      <th>mean</th>\n",
       "      <th>median</th>\n",
       "    </tr>\n",
       "    <tr>\n",
       "      <th></th>\n",
       "      <th>box_office</th>\n",
       "      <th>box_office</th>\n",
       "    </tr>\n",
       "    <tr>\n",
       "      <th>year</th>\n",
       "      <th></th>\n",
       "      <th></th>\n",
       "    </tr>\n",
       "  </thead>\n",
       "  <tbody>\n",
       "    <tr>\n",
       "      <th>2010</th>\n",
       "      <td>2.313004e+04</td>\n",
       "      <td>1700.000</td>\n",
       "    </tr>\n",
       "    <tr>\n",
       "      <th>2011</th>\n",
       "      <td>1.293832e+05</td>\n",
       "      <td>3000.000</td>\n",
       "    </tr>\n",
       "    <tr>\n",
       "      <th>2012</th>\n",
       "      <td>5.433924e+04</td>\n",
       "      <td>5660.000</td>\n",
       "    </tr>\n",
       "    <tr>\n",
       "      <th>2013</th>\n",
       "      <td>1.619549e+05</td>\n",
       "      <td>3522.500</td>\n",
       "    </tr>\n",
       "    <tr>\n",
       "      <th>2014</th>\n",
       "      <td>2.668442e+07</td>\n",
       "      <td>18160.000</td>\n",
       "    </tr>\n",
       "    <tr>\n",
       "      <th>2015</th>\n",
       "      <td>8.494057e+07</td>\n",
       "      <td>4920933.000</td>\n",
       "    </tr>\n",
       "    <tr>\n",
       "      <th>2016</th>\n",
       "      <td>9.100057e+07</td>\n",
       "      <td>3846679.410</td>\n",
       "    </tr>\n",
       "    <tr>\n",
       "      <th>2017</th>\n",
       "      <td>1.360328e+08</td>\n",
       "      <td>9968340.000</td>\n",
       "    </tr>\n",
       "    <tr>\n",
       "      <th>2018</th>\n",
       "      <td>1.045651e+08</td>\n",
       "      <td>8891102.210</td>\n",
       "    </tr>\n",
       "    <tr>\n",
       "      <th>2019</th>\n",
       "      <td>9.136926e+07</td>\n",
       "      <td>4627798.345</td>\n",
       "    </tr>\n",
       "  </tbody>\n",
       "</table>\n",
       "</div>"
      ],
      "text/plain": [
       "              mean       median\n",
       "        box_office   box_office\n",
       "year                           \n",
       "2010  2.313004e+04     1700.000\n",
       "2011  1.293832e+05     3000.000\n",
       "2012  5.433924e+04     5660.000\n",
       "2013  1.619549e+05     3522.500\n",
       "2014  2.668442e+07    18160.000\n",
       "2015  8.494057e+07  4920933.000\n",
       "2016  9.100057e+07  3846679.410\n",
       "2017  1.360328e+08  9968340.000\n",
       "2018  1.045651e+08  8891102.210\n",
       "2019  9.136926e+07  4627798.345"
      ]
     },
     "execution_count": 35,
     "metadata": {},
     "output_type": "execute_result"
    }
   ],
   "source": [
    "df_filtered.pivot_table(index='year', values='box_office', aggfunc=['mean', 'median'])"
   ]
  },
  {
   "cell_type": "markdown",
   "metadata": {},
   "source": [
    "Расчеты `среднего` и `медианного` значения `суммы сборов` по каждому году подтверждают выявленные закономерности ранее. С `2010` по `2013` год `средняя` и `медианная` `сумма сборов` на порядок меньше, чем в остальные года. Большая разница между `средним` и `медианным` значениями объясняется неустойчивостью среднего к выбросам (очень большим значениям). Так как фильмы с очень большим `сбором` имеют место быть в представленных данных (кассовые фильмы, блокбастеры, хиты и т.д.), то удаление таких данных как выбросы не оправдано. `Медианное` значение в таком случае является лучшим показателем для отражения среднего по выборке.\n",
    "\n",
    "* В `2017` году большая часть фильмов собрала в среднем почти `1 млн. руб.`, что больше чем в остальные годы.\n",
    "* В `2010 - 2014` годах в среднем сборы составили намного меньше, чем в `2015-2019` годах. "
   ]
  },
  {
   "cell_type": "markdown",
   "metadata": {
    "id": "Ok89WFwJgFyZ"
   },
   "source": [
    "- Определите, влияет ли возрастное ограничение аудитории («6+», «12+», «16+», «18+» и т. д.) на сборы фильма в прокате в период с 2015 по 2019 год? Фильмы с каким возрастным ограничением собрали больше всего денег в прокате? Меняется ли картина в зависимости от года? Если да, предположите, с чем это может быть связано."
   ]
  },
  {
   "cell_type": "code",
   "execution_count": 36,
   "metadata": {},
   "outputs": [
    {
     "data": {
      "text/html": [
       "<div>\n",
       "<style scoped>\n",
       "    .dataframe tbody tr th:only-of-type {\n",
       "        vertical-align: middle;\n",
       "    }\n",
       "\n",
       "    .dataframe tbody tr th {\n",
       "        vertical-align: top;\n",
       "    }\n",
       "\n",
       "    .dataframe thead th {\n",
       "        text-align: right;\n",
       "    }\n",
       "</style>\n",
       "<table border=\"1\" class=\"dataframe\">\n",
       "  <thead>\n",
       "    <tr style=\"text-align: right;\">\n",
       "      <th></th>\n",
       "      <th>count</th>\n",
       "      <th>sum</th>\n",
       "    </tr>\n",
       "    <tr>\n",
       "      <th>age_restriction</th>\n",
       "      <th></th>\n",
       "      <th></th>\n",
       "    </tr>\n",
       "  </thead>\n",
       "  <tbody>\n",
       "    <tr>\n",
       "      <th>«16+» - для детей старше 16 лет</th>\n",
       "      <td>805</td>\n",
       "      <td>7.603473e+10</td>\n",
       "    </tr>\n",
       "    <tr>\n",
       "      <th>«12+» - для детей старше 12 лет</th>\n",
       "      <td>348</td>\n",
       "      <td>6.061945e+10</td>\n",
       "    </tr>\n",
       "    <tr>\n",
       "      <th>«6+» - для детей старше 6 лет</th>\n",
       "      <td>317</td>\n",
       "      <td>5.579861e+10</td>\n",
       "    </tr>\n",
       "    <tr>\n",
       "      <th>«18+» - запрещено для детей</th>\n",
       "      <td>792</td>\n",
       "      <td>4.075962e+10</td>\n",
       "    </tr>\n",
       "    <tr>\n",
       "      <th>«0+» - для любой зрительской аудитории</th>\n",
       "      <td>91</td>\n",
       "      <td>8.090774e+08</td>\n",
       "    </tr>\n",
       "  </tbody>\n",
       "</table>\n",
       "</div>"
      ],
      "text/plain": [
       "                                        count           sum\n",
       "age_restriction                                            \n",
       "«16+» - для детей старше 16 лет           805  7.603473e+10\n",
       "«12+» - для детей старше 12 лет           348  6.061945e+10\n",
       "«6+» - для детей старше 6 лет             317  5.579861e+10\n",
       "«18+» - запрещено для детей               792  4.075962e+10\n",
       "«0+» - для любой зрительской аудитории     91  8.090774e+08"
      ]
     },
     "execution_count": 36,
     "metadata": {},
     "output_type": "execute_result"
    }
   ],
   "source": [
    "df_filtered.loc[df_filtered['year'] > 2014].groupby('age_restriction')['box_office'] \\\n",
    "    .agg(['count', 'sum']).sort_values(by='sum', ascending=False)"
   ]
  },
  {
   "cell_type": "markdown",
   "metadata": {},
   "source": [
    "Фильмы с возрастным ограничением в `'16+ - для детей старше 16 лет'` собрали больше всего денег в прокате. Так же необходимо обратить внимание на то, что и количество прокатных удостоверений (или условно `'фильмов'`) представленных в данной категории больше всего, исходя из представленных данных о прокатных сборах."
   ]
  },
  {
   "cell_type": "code",
   "execution_count": 37,
   "metadata": {
    "id": "jsSbEqfjgFya"
   },
   "outputs": [
    {
     "data": {
      "image/png": "[encoded data removed]",
      "text/plain": [
       "<Figure size 864x360 with 1 Axes>"
      ]
     },
     "metadata": {
      "needs_background": "light"
     },
     "output_type": "display_data"
    }
   ],
   "source": [
    "age_box_year = df_filtered.loc[df_filtered['year'] > 2014].pivot_table(index='year', columns='age_restriction', values='box_office', aggfunc='sum')\n",
    "\n",
    "# age_box_year\n",
    "\n",
    "# построим график\n",
    "age_box_year.plot(\n",
    "    title='График суммы сборов по годам в зависимости от возрастных ограничений',\n",
    "    xlabel='Год проката',\n",
    "    ylabel='Сумма собранных средств с проката, руб.',\n",
    "    figsize=(12, 5),\n",
    "    grid=True\n",
    ")\n",
    "plt.show()"
   ]
  },
  {
   "cell_type": "markdown",
   "metadata": {},
   "source": [
    "Из графика выше видно, что:\n",
    "* фильмы с возрастным ограничением в `'16+ - для детей старше 16 лет'` собирали больше всего денег в прокате с середины 2015 года по 2019 год. Скорее всего это связано с большим количеством высококассовых фильмов в данном сегменте; \n",
    "* фильмы с возрастным ограничением в `'0+ - для любой зрительской аудитории'` собирали меньше всего денег в прокате на протяжении представленного периода с 2015 по 2019 год. Возможно это связано с малым количеством фильмов в данной категории и как итог сумма сборов ниже, чем по остальным категориям;\n",
    "* в 2017 году по категории возрастное ограничение - `'12+ - для детей старше 12 лет'` сборы значительно упали в то время как по остальным категорям наоборот выросли. Возможно в данный год фильмов с другими возрастными ограниченями было выпущено в прокат больше, в том числе кассовых."
   ]
  },
  {
   "cell_type": "markdown",
   "metadata": {
    "id": "l_Kg6Ku4gFya"
   },
   "source": [
    "## Шаг 4. Исследуйте фильмы, которые получили государственную поддержку\n",
    "\n",
    "На этом этапе нет конкретных инструкций и заданий — поищите интересные закономерности в данных. Посмотрите, сколько выделяют средств на поддержку кино. Проверьте, хорошо ли окупаются такие фильмы, какой у них рейтинг."
   ]
  },
  {
   "cell_type": "markdown",
   "metadata": {
    "id": "W9QKpjUdgFyb"
   },
   "source": [
    "### Кореляция признаков\n",
    "\n",
    "Посмотрим как `коррелируют` между собой `признаки`. Так как высокие значения (выбросы) были оставлены в данных, используем в корреляции `коэффициент Спирмена`, который позволит увидеть возможную взаимосвязь между признаками не учитывая `выбросы` в данных. Для отрисовки `хэтмэпа` корреляционной матрицы используем библиотеку `seaborn`. "
   ]
  },
  {
   "cell_type": "code",
   "execution_count": 38,
   "metadata": {},
   "outputs": [
    {
     "data": {
      "image/png": "[encoded data removed]",
      "text/plain": [
       "<Figure size 648x360 with 2 Axes>"
      ]
     },
     "metadata": {
      "needs_background": "light"
     },
     "output_type": "display_data"
    }
   ],
   "source": [
    "f, ax = plt.subplots(figsize=(9, 5))\n",
    "#sns.set(font_scale=0.95)\n",
    "sns.heatmap(df_filtered.corr(method='spearman'), annot=True, square=True, \\\n",
    "            fmt='.2f', annot_kws={'size':10})\n",
    "plt.show()"
   ]
  },
  {
   "cell_type": "markdown",
   "metadata": {},
   "source": [
    "Наблюдается значительная прямая линейная связь между следующими признаками:\n",
    "\n",
    "* `общим бюджетом фильма` и `объёмом возвратных средств государственной поддержки`;\n",
    "* `общим бюджетом фильма` и `объемом невозвратных средств государственной поддержки`;\n",
    "* `общим бюджетом фильма` и `суммой сборов от проката`;\n",
    "* `годом выхода в прокат` и `суммой сборов от проката`.\n",
    "\n",
    "Так же исходя из матрицы корреляции есть незначительная прямая линейная связь между:\n",
    "\n",
    "* `годом выхода в прокат` и `объемом невозвратных средств государственной поддержки`;\n",
    "* `годом выхода в прокат` и `общим бюджетом фильма`;\n",
    "* `номером прокатного удостоверения` и `объёмом возвратных средств государственной поддержки`.\n",
    "\n",
    "Отрицательная линейная связь между `долей гос.поддержки` (признак `['fin_source_part']`) и `общим бюджетом фильма` (признак `['budget']`) объясняется их обратной пропорциональной зависимостью при расчете по формуле на шаге 2.6. данного проекта. В данном случае намного интересней отрицательная линейная связь между:\n",
    "\n",
    "* `долей гос.поддержки` и `суммой сборов от проката`; \n",
    "* `долей гос.поддержки` и `годом выхода в прокат`."
   ]
  },
  {
   "cell_type": "markdown",
   "metadata": {},
   "source": [
    "### Графики распределения\n",
    "\n",
    "Построим графики распредления по наиболее интресным найденным признакам."
   ]
  },
  {
   "cell_type": "code",
   "execution_count": 39,
   "metadata": {},
   "outputs": [
    {
     "data": {
      "image/png": "[encoded data removed]",
      "text/plain": [
       "<Figure size 1296x1296 with 42 Axes>"
      ]
     },
     "metadata": {
      "needs_background": "light"
     },
     "output_type": "display_data"
    }
   ],
   "source": [
    "col = ['budget', 'year', 'box_office', 'refundable_support', 'nonrefundable_support', 'fin_source_part']\n",
    "#sns.set()\n",
    "sns.pairplot(df_filtered[col], height=3)\n",
    "plt.show()"
   ]
  },
  {
   "cell_type": "markdown",
   "metadata": {},
   "source": [
    "Основные закономерности, которые можно увидеть на графиках распредления:\n",
    "\n",
    "* отсутствие `гомоскедастичности` у любых двух признаков;\n",
    "* зависимость наиболее выражена у признаков `['budget']` и `['refundable_support']`, `['budget']` и `['nonrefundable_support']`, что объясняется прямопропорциональной зависимостью, так как в `сумму бюджета` уже могут входить `возвратные` и `невозвратные средства гос.поддержки` по условиям проекта;\n",
    "* менее выражена зависимость между признаками `['budget']` и `['box_office']`. Чем больше денег тратится на фильм (бюджет), тем выше сумма сборов от проката. Такую зависимость легко объяснить большей тратой денег на рекламу например, которая привлекает больше зрителей, а значит и больший кассовый доход. Так же большая часть фильмов с высоким бюджетом являются более `качественными` и соотвественно `лидерами проката`;\n",
    "* с каждым `годом` в определенной степени увеличивается `общий бюджет` (затраты на фильм), `сборы от прокатов`, `невозвратные средства гос.поддержки`, но при этом общая `доля гос.поддержки` уменьшается;\n",
    "* можно сказать что у небольшого количества фильмов с более высокой `долей гос.поддержки` `сборы от прокатов` выше;\n",
    "\n",
    "c 2014 по 2019 год:\n",
    "\n",
    "* увеличиваются затраты на создание фильмов (`общий бюджет фильма`);\n",
    "* увеличиваются `сборы от прокатов`;\n",
    "* увеличивается `объем невозвратных средств государственной поддержки`;\n",
    "* незначительно уменьшается `доля гос.поддержки` от `общего бюджета` фильмов."
   ]
  },
  {
   "cell_type": "markdown",
   "metadata": {},
   "source": [
    "### Зависимость гос. поддержки от года проката\n",
    "\n",
    "Посмотрим как в период проката с `2014` по `2019` год изменялась `сумма возвратных` и `невозвратных средств гос.поддержки`. Так же интересно было бы соотнести данный результат с изменением `доли гос. поддержки от общего бюджета` за тот же период времени."
   ]
  },
  {
   "cell_type": "code",
   "execution_count": 40,
   "metadata": {},
   "outputs": [
    {
     "data": {
      "image/png": "[encoded data removed]",
      "text/plain": [
       "<Figure size 864x360 with 1 Axes>"
      ]
     },
     "metadata": {
      "needs_background": "light"
     },
     "output_type": "display_data"
    },
    {
     "data": {
      "image/png": "[encoded data removed]",
      "text/plain": [
       "<Figure size 864x360 with 1 Axes>"
      ]
     },
     "metadata": {
      "needs_background": "light"
     },
     "output_type": "display_data"
    }
   ],
   "source": [
    "# строим сводную таблицу по суммам возвратных и невозвратных средств гос.поддержки в период с 2014 по 2019 год\n",
    "fin_source = df_filtered.loc[df_filtered['year'] > 2013].pivot_table(\n",
    "    index='year',\n",
    "    values=['refundable_support', 'nonrefundable_support'], \n",
    "    aggfunc='sum'\n",
    ")\n",
    "\n",
    "# строим сводную таблицу по доле гос. поддержки от общего бюджета фильма в период с 2014 по 2019 год\n",
    "fin_source_prt = df_filtered.loc[df_filtered['year'] > 2013].pivot_table(\n",
    "    index='year', \n",
    "    values='fin_source_part', \n",
    "    aggfunc='mean'\n",
    ")\n",
    "\n",
    "# построим первый график\n",
    "fin_source.plot(\n",
    "    title='График зависимости суммы гос.поддержки от года проката',\n",
    "    xlabel='Год проката',\n",
    "    ylabel='Сумма гос.поддержки, руб.',\n",
    "    figsize=(12, 5),\n",
    "    grid=True\n",
    ")\n",
    "plt.legend(['объем невозвратных средств гос. поддержки', 'объем возвратных средств гос. поддержки'])\n",
    "\n",
    "# построим второй график\n",
    "fin_source_prt.plot(\n",
    "    title='График зависимости суммы гос.поддержки от года проката',\n",
    "    xlabel='Год проката',\n",
    "    ylabel='Доля гос.поддержки',\n",
    "    figsize=(12, 5),\n",
    "    grid=True,\n",
    "    legend=False\n",
    ")\n",
    "\n",
    "plt.show()"
   ]
  },
  {
   "cell_type": "markdown",
   "metadata": {},
   "source": [
    "Из графиков можно сделать следующий вывод:\n",
    "\n",
    "* `объем невозвратных средств` намного выше, чем `бъем возвратных средств` гос.поддержки за весь представленный период;\n",
    "* показатели `объема возвратных` и `невозвратных средств` как и `доля гос. поддержки` росли до 2016 года;\n",
    "* к 2017 году произошло падение всех показателей;\n",
    "* к 2018 году снова отмечен рост `доли гос.поддержки`. Но к 2019 году она снова упала до показателя 2017 года;\n",
    "* в период с 2017 по 2019 год `объем невозвратных средств` значительно увеличился, чего нельзя сказать об `объеме возвратных средств`;\n",
    "* в целом в период с 2014 по 2019 год несмотря на тенденцию роста `объема невозвратных средств` `доля гос. поддержки` относительно всего `бюджета` затрат на создание фильма падает, как уже было отмечено в п.1.4.2."
   ]
  },
  {
   "cell_type": "markdown",
   "metadata": {},
   "source": [
    "### Жанры фильмов с наибольшей и наименьшей долей гос. поддержки\n",
    "\n",
    "Посмотрим в каком `жанре` представлены фильмы, имеющие наибольшую и наименьшую  `долю гос. поддержки`. Для оценки вместо среднего значения используем медиану, отражающую основную массу фильмов в каждом жанре."
   ]
  },
  {
   "cell_type": "code",
   "execution_count": 41,
   "metadata": {},
   "outputs": [
    {
     "data": {
      "text/html": [
       "<div>\n",
       "<style scoped>\n",
       "    .dataframe tbody tr th:only-of-type {\n",
       "        vertical-align: middle;\n",
       "    }\n",
       "\n",
       "    .dataframe tbody tr th {\n",
       "        vertical-align: top;\n",
       "    }\n",
       "\n",
       "    .dataframe thead th {\n",
       "        text-align: right;\n",
       "    }\n",
       "</style>\n",
       "<table border=\"1\" class=\"dataframe\">\n",
       "  <thead>\n",
       "    <tr style=\"text-align: right;\">\n",
       "      <th></th>\n",
       "      <th>fin_source_part</th>\n",
       "    </tr>\n",
       "    <tr>\n",
       "      <th>main_genre</th>\n",
       "      <th></th>\n",
       "    </tr>\n",
       "  </thead>\n",
       "  <tbody>\n",
       "    <tr>\n",
       "      <th>детский</th>\n",
       "      <td>0.6675</td>\n",
       "    </tr>\n",
       "    <tr>\n",
       "      <th>реальное ТВ</th>\n",
       "      <td>0.6620</td>\n",
       "    </tr>\n",
       "    <tr>\n",
       "      <th>криминал</th>\n",
       "      <td>0.6560</td>\n",
       "    </tr>\n",
       "    <tr>\n",
       "      <th>unknown</th>\n",
       "      <td>0.6500</td>\n",
       "    </tr>\n",
       "    <tr>\n",
       "      <th>ужасы</th>\n",
       "      <td>0.6415</td>\n",
       "    </tr>\n",
       "    <tr>\n",
       "      <th>семейный</th>\n",
       "      <td>0.6400</td>\n",
       "    </tr>\n",
       "    <tr>\n",
       "      <th>фэнтези</th>\n",
       "      <td>0.6250</td>\n",
       "    </tr>\n",
       "    <tr>\n",
       "      <th>драма</th>\n",
       "      <td>0.6200</td>\n",
       "    </tr>\n",
       "    <tr>\n",
       "      <th>триллер</th>\n",
       "      <td>0.6160</td>\n",
       "    </tr>\n",
       "    <tr>\n",
       "      <th>комедия</th>\n",
       "      <td>0.5960</td>\n",
       "    </tr>\n",
       "    <tr>\n",
       "      <th>мюзикл</th>\n",
       "      <td>0.5785</td>\n",
       "    </tr>\n",
       "    <tr>\n",
       "      <th>детектив</th>\n",
       "      <td>0.5590</td>\n",
       "    </tr>\n",
       "    <tr>\n",
       "      <th>фантастика</th>\n",
       "      <td>0.5300</td>\n",
       "    </tr>\n",
       "    <tr>\n",
       "      <th>боевик</th>\n",
       "      <td>0.5100</td>\n",
       "    </tr>\n",
       "    <tr>\n",
       "      <th>спорт</th>\n",
       "      <td>0.5000</td>\n",
       "    </tr>\n",
       "    <tr>\n",
       "      <th>мультфильм</th>\n",
       "      <td>0.4440</td>\n",
       "    </tr>\n",
       "    <tr>\n",
       "      <th>мелодрама</th>\n",
       "      <td>0.4400</td>\n",
       "    </tr>\n",
       "    <tr>\n",
       "      <th>приключения</th>\n",
       "      <td>0.4290</td>\n",
       "    </tr>\n",
       "    <tr>\n",
       "      <th>история</th>\n",
       "      <td>0.3850</td>\n",
       "    </tr>\n",
       "    <tr>\n",
       "      <th>военный</th>\n",
       "      <td>0.3510</td>\n",
       "    </tr>\n",
       "    <tr>\n",
       "      <th>биография</th>\n",
       "      <td>0.2100</td>\n",
       "    </tr>\n",
       "  </tbody>\n",
       "</table>\n",
       "</div>"
      ],
      "text/plain": [
       "             fin_source_part\n",
       "main_genre                  \n",
       "детский               0.6675\n",
       "реальное ТВ           0.6620\n",
       "криминал              0.6560\n",
       "unknown               0.6500\n",
       "ужасы                 0.6415\n",
       "семейный              0.6400\n",
       "фэнтези               0.6250\n",
       "драма                 0.6200\n",
       "триллер               0.6160\n",
       "комедия               0.5960\n",
       "мюзикл                0.5785\n",
       "детектив              0.5590\n",
       "фантастика            0.5300\n",
       "боевик                0.5100\n",
       "спорт                 0.5000\n",
       "мультфильм            0.4440\n",
       "мелодрама             0.4400\n",
       "приключения           0.4290\n",
       "история               0.3850\n",
       "военный               0.3510\n",
       "биография             0.2100"
      ]
     },
     "execution_count": 41,
     "metadata": {},
     "output_type": "execute_result"
    }
   ],
   "source": [
    "df_filtered.pivot_table(\n",
    "    index='main_genre',\n",
    "    values='fin_source_part',\n",
    "    aggfunc='median').sort_values(by='fin_source_part', ascending=False)"
   ]
  },
  {
   "cell_type": "markdown",
   "metadata": {},
   "source": [
    "Фильмы, имеющие наибольшую `долю гос. поддержки` сняты в жанрах: `'детский'`, `'реальное ТВ'`, `'криминал'`.\n",
    "Фильмы, имеющие наименьшую `долю гос. поддержки` сняты в жанрах: `'история'`, `'военный'`, `'биография'`."
   ]
  },
  {
   "cell_type": "markdown",
   "metadata": {},
   "source": [
    "### Окупаемость фильмов с гос.поддержкой\n",
    "\n",
    "Очень важно отметить перед исследованием то, что в исходных данных только 332 прокатных удостоверения (условно фильмов) имеют данные о бюджете и гос.поддержке, которые очень важны для определеня окупаемости. Это очень небольшая выборка, чтобы делать какие-либо уверенные заключения и так же, что немаловажно, отсутсвует возможность сравнить окупаемость в разрезе фильмов, имеющих и не имеющих гос. поддержку. Но в рамках проекта попробуем определить какие-либо зависисмости в той части прокатных удостоверений, которые имеют данные.\n",
    "\n",
    "Для оценки окупаемости фильмов, имеющих гос. поддержку, используем такие признаки, как `доля гос. поддержки`, `бюджет` и `сборы от прокатов`. Для начала создадим еще один признак `['payback']` (`окупаемость`), который расчитывется как отношение `сборов от проката` к общему `бюджету`.\n",
    "Затем проверим коррелируют ли новый созданный признак `окупаемости` и `доля гос. поддержки`. В дополнение можно построить график их распределения."
   ]
  },
  {
   "cell_type": "code",
   "execution_count": 42,
   "metadata": {},
   "outputs": [
    {
     "data": {
      "text/html": [
       "<div>\n",
       "<style scoped>\n",
       "    .dataframe tbody tr th:only-of-type {\n",
       "        vertical-align: middle;\n",
       "    }\n",
       "\n",
       "    .dataframe tbody tr th {\n",
       "        vertical-align: top;\n",
       "    }\n",
       "\n",
       "    .dataframe thead th {\n",
       "        text-align: right;\n",
       "    }\n",
       "</style>\n",
       "<table border=\"1\" class=\"dataframe\">\n",
       "  <thead>\n",
       "    <tr style=\"text-align: right;\">\n",
       "      <th></th>\n",
       "      <th>payback</th>\n",
       "      <th>fin_source_part</th>\n",
       "    </tr>\n",
       "  </thead>\n",
       "  <tbody>\n",
       "    <tr>\n",
       "      <th>payback</th>\n",
       "      <td>1.000000</td>\n",
       "      <td>-0.133809</td>\n",
       "    </tr>\n",
       "    <tr>\n",
       "      <th>fin_source_part</th>\n",
       "      <td>-0.133809</td>\n",
       "      <td>1.000000</td>\n",
       "    </tr>\n",
       "  </tbody>\n",
       "</table>\n",
       "</div>"
      ],
      "text/plain": [
       "                  payback  fin_source_part\n",
       "payback          1.000000        -0.133809\n",
       "fin_source_part -0.133809         1.000000"
      ]
     },
     "execution_count": 42,
     "metadata": {},
     "output_type": "execute_result"
    }
   ],
   "source": [
    "# создаем новый признак окупаемости\n",
    "df_filtered['payback'] = df_filtered['box_office'] / df_filtered['budget']\n",
    "\n",
    "# расчитываем коэффициент корреляции Спирмэна \n",
    "df_filtered[['payback', 'fin_source_part']].corr(method='spearman')"
   ]
  },
  {
   "cell_type": "code",
   "execution_count": 43,
   "metadata": {},
   "outputs": [
    {
     "data": {
      "image/png": "[encoded data removed]",
      "text/plain": [
       "<Figure size 576x576 with 3 Axes>"
      ]
     },
     "metadata": {
      "needs_background": "light"
     },
     "output_type": "display_data"
    }
   ],
   "source": [
    "# построим график\n",
    "sns.jointplot(data=df_filtered, x='fin_source_part', y='payback', height=8);"
   ]
  },
  {
   "cell_type": "markdown",
   "metadata": {},
   "source": [
    "Согласно коэффициента корреляции существует слабая отрицательная линейная связь между `окупаемостью` и `долей гос. поддержки`. Таким образом можно было бы сказать что, чем больше `доля гос.поддержки`, тем меньше окупаемость и наоборот. Но в связи с малой выборкой, как отмечалось выше, и исходя из графика распределения видно, что большая часть фильмов не окупается (расположена ближе к нулю на гистограмме), и при этом так же имеет `долю гос.поддержки` примерно равную 0.7. Говорить о какой-либо значимости в найденых закономерностях нельзя, так как могут быть другие более значимые признаки, влияющие на `окупаемость` и имеющие нелинейную зависимость."
   ]
  },
  {
   "cell_type": "markdown",
   "metadata": {},
   "source": [
    "### Рейтинг фильмов с гос. поддержкой\n",
    "\n",
    "Для оценки `рейтинга` фильмов с `гос.поддержкой` и без неё построим `boxplots` с использованием библиотеки `seaborn` для обоих случаев и сравним стастические данные. \n",
    "\n",
    "Для начала создадим признак `['is_financing_source']` с флагом `1` или `0`, обозначающим имеет ли фильм государственную поддержку (`1` - имеет, `0` - не имеет). Затем построим график по колонке `['ratings']` (`'рэйтинг'`)."
   ]
  },
  {
   "cell_type": "code",
   "execution_count": 44,
   "metadata": {},
   "outputs": [
    {
     "data": {
      "image/png": "[encoded data removed]",
      "text/plain": [
       "<Figure size 648x360 with 1 Axes>"
      ]
     },
     "metadata": {
      "needs_background": "light"
     },
     "output_type": "display_data"
    }
   ],
   "source": [
    "# создадим признак определяющий есть ли гос.поддержка\n",
    "df_filtered['is_financing_source'] = (~df_filtered['fin_source_part'].isna()).astype(int)\n",
    "\n",
    "# построим boxplots\n",
    "_, ax = plt.subplots(figsize=(9, 5))\n",
    "sns.boxplot(x='is_financing_source', y='ratings', data=df_filtered)\n",
    "ax.set_title('Cтатистика распределения рейтинга в двух группах фильмов: с гос.поддержкой и без')\n",
    "ax.set_xlabel('Наличие гос. поддержки: 1 - есть, 0 - нет')\n",
    "ax.set_ylabel('Рейтинг')\n",
    "plt.show()"
   ]
  },
  {
   "cell_type": "markdown",
   "metadata": {},
   "source": [
    "Из графика видно что в среднем `рейтинг` у фильмов, имеющих `гос. поддержку`, немного ниже чем у фильмов без неё."
   ]
  },
  {
   "cell_type": "markdown",
   "metadata": {
    "id": "V2gYwMcPgFyd"
   },
   "source": [
    "## Шаг 5. Общий вывод"
   ]
  },
  {
   "cell_type": "markdown",
   "metadata": {
    "id": "AYRg3dzXgFye"
   },
   "source": [
    "1) При исследовании данных рынка российского кинопроката была проведена работа по предобработке данных,включая поиск и обработка явных и неявных дубликатов, обработка количественных и категориальных признаков с приведением к нужному типу, а так же обосновано оставление пропусков в исходных данных. Обработанные данные были сохранены в отдельный датафрейм `df_filtered`, для сохранения первоначальных данных. \n",
    "\n",
    "2) Были подсчитаны и добавлены в таблицу новые колонки (признаки):\n",
    "\n",
    "* информация о годе проката;\n",
    "* имя и фамилия главного режиссёра;\n",
    "* основной жанр фильма;\n",
    "* доля гос.поддержки от общего бюджета фильма;\n",
    "* окупаемость;\n",
    "* бинарный признак наличия гос.поддержки у фильма.\n",
    "\n",
    "Данные параметры позволили провести более детальный анализ для определения зависимостей и закономерностей.\n",
    "\n",
    "3) На шаге 3 - исследовательского анализа  данных по предложенным в проекте шагам, были выявлены следующие особенности и закономерности в данных:\n",
    "\n",
    "* больше всего фильмов (чуть меньше 1000) было выпущего в прокат в 2010 и 2019 годах. Меньше всего (около 500) в 2017 году. Стоит отметить, что как уже было определено ранее, некоторые фильмы получали несколько прокатных удостоверений и вошли в статистику как отдельно взятые фильмы по условиям задачи;\n",
    "* до `2014 года` доля прокатных удостоверений, имеющих информацию о прокате (сборах) росла равномерно до `35%`. В `2015 году` отмечается скачкообразный рост до `65%`. Далее с `2016 года` отмечается неустойчивая тенденция с небольшим спадом до `52%` в `2018 году`;\n",
    "* с `2010` по `2013` год `сумма сборов` на порядки ниже чем, в остальные годы. Такие `сборы` могут говорить либо о том, что множество фильмов в этот период согласно представленных прокатных удостоверений не имели никаких `сборов` (что маловероятно), либо в данных о прокате в российских кинотеатрах (согласно объединенного файла `mkrf_shows.csv`) отсутсвтуют такие данные по многим прокатным удостоврениям. Таким образом судить о минимальной и максимальной сумме сборов по годам можно лишь условно без наличия полных данных: - в `2010-2013` годах сумма сборов была `минимальной`, - в `2018` году сумма сборов была `максимальной`;\n",
    "* в `2017` году большая часть фильмов собрала в среднем почти `1 млн. руб.`, что больше чем в остальные годы;\n",
    "* в `2010 - 2014` годах в среднем сборы составили намного меньше, чем в `2015-2019` годах;\n",
    "* фильмы с возрастным ограничением в `'16+ - для детей старше 16 лет'` собрали больше всего денег в прокате. Так же необходимо обратить внимание на то, что и количество прокатных удостоверений (или условно `'фильмов'`) представленных в данной категории больше всего, исходя из представленных данных о прокатных сборах;\n",
    "* фильмы с возрастным ограничением в `'16+ - для детей старше 16 лет'` собирали больше всего денег в прокате с середины 2015 года по 2019 год. Скорее всего это связано с большим количеством высококассовых фильмов в данном сегменте; \n",
    "* фильмы с возрастным ограничением в `'0+ - для любой зрительской аудитории'` собирали меньше всего денег в прокате на протяжении представленного периода с 2015 по 2019 год. Возможно это связано с малым количеством фильмов в данной категории и как итог сумма сборов ниже, чем по остальным категориям;\n",
    "* в 2017 году по категории возрастное ограничение - `'12+ - для детей старше 12 лет'` сборы значительно упали в то время как по остальным категорям наоборот выросли. Возможно в данный год фильмов с другими возрастными ограниченями было выпущено в прокат больше, в том числе кассовых.\n",
    "\n",
    "4) На шаге 4 - исследовательского анализа данных фильмов, которые получили государсвтенную поддержку, были выявлены следующие особенности и закономерности в данных:\n",
    "\n",
    "4.1) Наблюдается значительная прямая линейная связь между следующими признаками:\n",
    "\n",
    "* `общим бюджетом фильма` и `объёмом возвратных средств государственной поддержки`;\n",
    "* `общим бюджетом фильма` и `объемом невозвратных средств государственной поддержки`;\n",
    "* `общим бюджетом фильма` и `суммой сборов от проката`;\n",
    "* `годом выхода в прокат` и `суммой сборов от проката`.\n",
    "\n",
    "Так же исходя из матрицы корреляции есть незначительная прямая линейная связь между:\n",
    "\n",
    "* `годом выхода в прокат` и `объемом невозвратных средств государственной поддержки`;\n",
    "* `годом выхода в прокат` и `общим бюджетом фильма`;\n",
    "* `номером прокатного удостоверения` и `объёмом возвратных средств государственной поддержки`.\n",
    "\n",
    "Отрицательная линейная связь между `долей гос.поддержки` (признак `['fin_source_part']`) и `общим бюджетом фильма` (признак `['budget']`) объясняется их обратной пропорциональной зависимостью при расчете по формуле на шаге 2.6. данного проекта. В данном случае намного интересней отрицательная линейная связь между:\n",
    "\n",
    "* `долей гос.поддержки` и `суммой сборов от проката`; \n",
    "* `долей гос.поддержки` и `годом выхода в прокат`.\n",
    "\n",
    "4.2) Основные закономерности, которые можно увидеть на графиках распредления:\n",
    "\n",
    "* отсутствие `гомоскедастичности` у любых двух признаков;\n",
    "* зависимость наиболее выражена у признаков `['budget']` и `['refundable_support']`, `['budget']` и `['nonrefundable_support']`, что объясняется прямопропорциональной зависимостью, так как в `сумму бюджета` уже могут входить `возвратные` и `невозвратные средства гос.поддержки` по условиям проекта;\n",
    "* менее выражена зависимость между признаками `['budget']` и `['box_office']`. Чем больше денег тратится на фильм (бюджет), тем выше сумма сборов от проката. Такую зависимость легко объяснить большей тратой денег на рекламу например, которая привлекает больше зрителей, а значит и больший кассовый доход. Так же большая часть фильмов с высоким бюджетом являются более `качественными` и соотвественно `лидерами проката`;\n",
    "* с каждым `годом` в определенной степени увеличивается `общий бюджет` (затраты на фильм), `сборы от прокатов`, `невозвратные средства гос.поддержки`, но при этом общая `доля гос.поддержки` уменьшается;\n",
    "* можно сказать что у небольшого количества фильмов с более высокой `долей гос.поддержки` `сборы от прокатов` выше;\n",
    "\n",
    "c 2014 по 2019 год:\n",
    "\n",
    "* увеличиваются затраты на создание фильмов (`общий бюджет фильма`);\n",
    "* увеличиваются `сборы от прокатов`;\n",
    "* увеличивается `объем невозвратных средств государственной поддержки`;\n",
    "* незначительно уменьшается `доля гос.поддержки` от `общего бюджета` фильмов.\n",
    "\n",
    "4.3) Зависимость объема средств гос.поддержки от года проката:\n",
    "\n",
    "* `объем невозвратных средств` намного выше, чем `бъем возвратных средств` гос.поддержки за весь представленный период;\n",
    "* показатели `объема возвратных` и `невозвратных средств` как и `доля гос. поддержки` росли до 2016 года;\n",
    "* к 2017 году произошло падение всех показателей;\n",
    "* к 2018 году снова отмечен рост `доли гос.поддержки`. Но к 2019 году она снова упала до показателя 2017 года;\n",
    "* в период с 2017 по 2019 год `объем невозвратных средств` значительно увеличился, чего нельзя сказать об `объеме возвратных средств`;\n",
    "* в целом в период с 2014 по 2019 год несмотря на тенденцию роста `объема невозвратных средств` `доля гос. поддержки` относительно всего `бюджета` затрат на создание фильма падает, как уже было отмечено в п.1.4.2.\n",
    "\n",
    "4.4) Жанры фильмов с наибольшей и наименьшей долей гос. поддержки:\n",
    "\n",
    "* фильмы, имеющие наибольшую `долю гос. поддержки` сняты в жанрах: `'детский'`, `'реальное ТВ'`, `'криминал'`;\n",
    "* фильмы, имеющие наименьшую `долю гос. поддержки` сняты в жанрах: `'история'`, `'военный'`, `'биография'`.\n",
    "\n",
    "4.5) Окупаемость фильмов с гос.поддержкой:\n",
    "\n",
    "* наблюдается слабая отрицательная линейная связь между `окупаемостью` и `долей гос. поддержки`. Таким образом можно было бы сказать что, чем больше `доля гос.поддержки`, тем меньше окупаемость и наоборот; \n",
    "* большая часть фильмов не окупается, и при этом так же имеет `долю гос.поддержки` примерно равную 0.7; \n",
    "* говорить о какой-либо значимости в найденых закономерностях нельзя, так как могут быть другие более значимые признаки, влияющие на `окупаемость` и имеющие нелинейную зависимость.\n",
    "\n",
    "4.6) Рейтинг фильмов с гос. поддержкой: \n",
    "\n",
    "* в среднем `рейтинг` у фильмов, имеющих `гос. поддержку`, немного ниже чем у фильмов без неё.\n",
    "\n",
    "**Рекомендации по результатам исследования:**\n",
    "\n",
    "1) для более детального и полного анализа в исходных данных необходима информация о дате выхода (премьеры) фильма, а так же дате  выхода в прокат для каждого прокатного удостоверения. В текущих данных дата указана скорее как дата выдачи прокатного удостоверения;\n",
    "\n",
    "2) найти информацию о типе каждого прокатного удостоверения, где разрешен показ (кинотеатр, цифровые носители и т.д.);\n",
    "\n",
    "3) слишком малая выборка с доступной информацией о бюджете и объеме гос.поддержки, чтобы провести анализ, особенно в период с 2010 по 2014 год. Необходимо больше данных."
   ]
  }
 ],
 "metadata": {
  "ExecuteTimeLog": [
   {
    "duration": 537,
    "start_time": "2021-07-07T10:12:08.634Z"
   },
   {
    "duration": 206,
    "start_time": "2021-07-07T10:12:30.191Z"
   },
   {
    "duration": 227,
    "start_time": "2021-07-07T10:12:33.078Z"
   },
   {
    "duration": 153,
    "start_time": "2021-07-07T10:13:42.146Z"
   },
   {
    "duration": 233,
    "start_time": "2021-07-07T10:30:09.252Z"
   },
   {
    "duration": 19,
    "start_time": "2021-07-07T10:30:15.577Z"
   },
   {
    "duration": 18,
    "start_time": "2021-07-07T10:30:57.348Z"
   },
   {
    "duration": 19,
    "start_time": "2021-07-07T10:31:17.452Z"
   },
   {
    "duration": 21,
    "start_time": "2021-07-07T10:31:32.227Z"
   },
   {
    "duration": 27,
    "start_time": "2021-07-07T10:32:06.588Z"
   },
   {
    "duration": 23,
    "start_time": "2021-07-07T10:32:43.645Z"
   },
   {
    "duration": 24,
    "start_time": "2021-07-07T10:33:06.948Z"
   },
   {
    "duration": 7,
    "start_time": "2021-07-07T10:33:28.558Z"
   },
   {
    "duration": 23,
    "start_time": "2021-07-07T10:33:43.761Z"
   },
   {
    "duration": 28,
    "start_time": "2021-07-07T10:34:13.466Z"
   },
   {
    "duration": 23,
    "start_time": "2021-07-07T10:35:56.187Z"
   },
   {
    "duration": 6,
    "start_time": "2021-07-07T10:36:48.182Z"
   },
   {
    "duration": 14,
    "start_time": "2021-07-07T10:37:49.641Z"
   },
   {
    "duration": 6,
    "start_time": "2021-07-07T10:38:06.694Z"
   },
   {
    "duration": 6,
    "start_time": "2021-07-07T10:38:13.493Z"
   },
   {
    "duration": 19,
    "start_time": "2021-07-07T10:38:44.056Z"
   },
   {
    "duration": 186,
    "start_time": "2021-07-07T10:48:35.618Z"
   },
   {
    "duration": 24,
    "start_time": "2021-07-07T10:48:51.498Z"
   },
   {
    "duration": 20,
    "start_time": "2021-07-07T10:48:59.415Z"
   },
   {
    "duration": 20,
    "start_time": "2021-07-07T10:53:02.195Z"
   },
   {
    "duration": 188,
    "start_time": "2021-07-07T10:54:40.486Z"
   },
   {
    "duration": 115,
    "start_time": "2021-07-07T10:54:52.552Z"
   },
   {
    "duration": 214,
    "start_time": "2021-07-07T10:54:56.354Z"
   },
   {
    "duration": 47,
    "start_time": "2021-07-07T10:54:58.282Z"
   },
   {
    "duration": 217,
    "start_time": "2021-07-07T10:59:16.075Z"
   },
   {
    "duration": 51,
    "start_time": "2021-07-07T10:59:16.243Z"
   },
   {
    "duration": 578,
    "start_time": "2021-07-07T10:59:18.774Z"
   },
   {
    "duration": 161,
    "start_time": "2021-07-07T10:59:21.238Z"
   },
   {
    "duration": 59,
    "start_time": "2021-07-07T10:59:21.453Z"
   },
   {
    "duration": 3,
    "start_time": "2021-07-07T11:02:10.786Z"
   },
   {
    "duration": 13,
    "start_time": "2021-07-07T11:07:07.722Z"
   },
   {
    "duration": 26,
    "start_time": "2021-07-07T11:07:17.958Z"
   },
   {
    "duration": 22,
    "start_time": "2021-07-07T11:08:17.939Z"
   },
   {
    "duration": 212,
    "start_time": "2021-07-07T11:08:19.665Z"
   },
   {
    "duration": 21,
    "start_time": "2021-07-07T11:08:29.945Z"
   },
   {
    "duration": 31,
    "start_time": "2021-07-07T11:08:38.899Z"
   },
   {
    "duration": 23,
    "start_time": "2021-07-07T11:08:54.527Z"
   },
   {
    "duration": 8,
    "start_time": "2021-07-07T11:18:55.974Z"
   },
   {
    "duration": 7,
    "start_time": "2021-07-07T11:19:03.639Z"
   },
   {
    "duration": 7,
    "start_time": "2021-07-07T11:19:06.444Z"
   },
   {
    "duration": 578,
    "start_time": "2021-07-07T12:09:59.576Z"
   },
   {
    "duration": 195,
    "start_time": "2021-07-07T12:10:00.156Z"
   },
   {
    "duration": 115,
    "start_time": "2021-07-07T12:10:00.353Z"
   },
   {
    "duration": 3,
    "start_time": "2021-07-07T12:10:00.470Z"
   },
   {
    "duration": 32,
    "start_time": "2021-07-07T12:10:00.474Z"
   },
   {
    "duration": 23,
    "start_time": "2021-07-07T12:10:00.508Z"
   },
   {
    "duration": 19,
    "start_time": "2021-07-07T12:10:00.533Z"
   },
   {
    "duration": 44,
    "start_time": "2021-07-07T12:10:00.553Z"
   },
   {
    "duration": 7,
    "start_time": "2021-07-07T12:10:00.600Z"
   },
   {
    "duration": 7,
    "start_time": "2021-07-07T12:19:45.761Z"
   },
   {
    "duration": 21,
    "start_time": "2021-07-07T12:21:35.482Z"
   },
   {
    "duration": 21,
    "start_time": "2021-07-07T12:29:23.569Z"
   },
   {
    "duration": 525,
    "start_time": "2021-07-07T12:29:44.542Z"
   },
   {
    "duration": 214,
    "start_time": "2021-07-07T12:29:45.069Z"
   },
   {
    "duration": 92,
    "start_time": "2021-07-07T12:29:45.285Z"
   },
   {
    "duration": 3,
    "start_time": "2021-07-07T12:29:45.379Z"
   },
   {
    "duration": 28,
    "start_time": "2021-07-07T12:29:45.384Z"
   },
   {
    "duration": 23,
    "start_time": "2021-07-07T12:29:45.413Z"
   },
   {
    "duration": 21,
    "start_time": "2021-07-07T12:29:45.437Z"
   },
   {
    "duration": 41,
    "start_time": "2021-07-07T12:29:45.460Z"
   },
   {
    "duration": 7,
    "start_time": "2021-07-07T12:29:45.502Z"
   },
   {
    "duration": 20,
    "start_time": "2021-07-07T12:29:45.511Z"
   },
   {
    "duration": 12,
    "start_time": "2021-07-07T12:34:02.800Z"
   },
   {
    "duration": 7,
    "start_time": "2021-07-07T12:35:10.479Z"
   },
   {
    "duration": 8,
    "start_time": "2021-07-07T12:35:22.440Z"
   },
   {
    "duration": 6,
    "start_time": "2021-07-07T12:35:35.649Z"
   },
   {
    "duration": 6,
    "start_time": "2021-07-07T12:35:43.107Z"
   },
   {
    "duration": 22,
    "start_time": "2021-07-07T12:38:03.029Z"
   },
   {
    "duration": 10,
    "start_time": "2021-07-07T12:38:06.592Z"
   },
   {
    "duration": 563,
    "start_time": "2021-07-07T12:38:46.493Z"
   },
   {
    "duration": 265,
    "start_time": "2021-07-07T12:38:47.058Z"
   },
   {
    "duration": 94,
    "start_time": "2021-07-07T12:38:47.325Z"
   },
   {
    "duration": 3,
    "start_time": "2021-07-07T12:38:47.422Z"
   },
   {
    "duration": 30,
    "start_time": "2021-07-07T12:38:47.427Z"
   },
   {
    "duration": 16,
    "start_time": "2021-07-07T12:38:53.305Z"
   },
   {
    "duration": 10,
    "start_time": "2021-07-07T12:38:53.499Z"
   },
   {
    "duration": 8,
    "start_time": "2021-07-07T12:39:48.161Z"
   },
   {
    "duration": 27,
    "start_time": "2021-07-07T12:41:17.629Z"
   },
   {
    "duration": 17,
    "start_time": "2021-07-07T12:41:17.867Z"
   },
   {
    "duration": 21,
    "start_time": "2021-07-07T12:41:19.310Z"
   },
   {
    "duration": 7,
    "start_time": "2021-07-07T12:41:19.544Z"
   },
   {
    "duration": 20,
    "start_time": "2021-07-07T12:41:20.504Z"
   },
   {
    "duration": 554,
    "start_time": "2021-07-07T12:56:23.696Z"
   },
   {
    "duration": 200,
    "start_time": "2021-07-07T12:56:25.234Z"
   },
   {
    "duration": 119,
    "start_time": "2021-07-07T12:56:25.480Z"
   },
   {
    "duration": 4,
    "start_time": "2021-07-07T12:56:25.762Z"
   },
   {
    "duration": 26,
    "start_time": "2021-07-07T12:56:27.172Z"
   },
   {
    "duration": 12,
    "start_time": "2021-07-07T12:56:29.051Z"
   },
   {
    "duration": 10,
    "start_time": "2021-07-07T12:56:29.291Z"
   },
   {
    "duration": 8,
    "start_time": "2021-07-07T12:56:29.623Z"
   },
   {
    "duration": 28,
    "start_time": "2021-07-07T12:56:32.137Z"
   },
   {
    "duration": 19,
    "start_time": "2021-07-07T12:56:39.785Z"
   },
   {
    "duration": 20,
    "start_time": "2021-07-07T12:56:44.297Z"
   },
   {
    "duration": 7,
    "start_time": "2021-07-07T12:56:45.392Z"
   },
   {
    "duration": 23,
    "start_time": "2021-07-07T12:56:46.615Z"
   },
   {
    "duration": 4,
    "start_time": "2021-07-07T12:57:06.625Z"
   },
   {
    "duration": 32,
    "start_time": "2021-07-07T12:57:36.690Z"
   },
   {
    "duration": 18,
    "start_time": "2021-07-07T12:58:00.149Z"
   },
   {
    "duration": 15,
    "start_time": "2021-07-07T12:59:16.793Z"
   },
   {
    "duration": 7,
    "start_time": "2021-07-07T13:19:22.624Z"
   },
   {
    "duration": 6,
    "start_time": "2021-07-07T14:17:33.527Z"
   },
   {
    "duration": 9,
    "start_time": "2021-07-07T14:17:48.409Z"
   },
   {
    "duration": 8,
    "start_time": "2021-07-07T14:20:13.060Z"
   },
   {
    "duration": 8,
    "start_time": "2021-07-07T14:20:37.957Z"
   },
   {
    "duration": 8,
    "start_time": "2021-07-07T14:20:47.470Z"
   },
   {
    "duration": 9,
    "start_time": "2021-07-07T14:20:54.503Z"
   },
   {
    "duration": 10,
    "start_time": "2021-07-07T14:28:57.763Z"
   },
   {
    "duration": 3,
    "start_time": "2021-07-07T14:30:23.377Z"
   },
   {
    "duration": 3,
    "start_time": "2021-07-07T14:30:36.489Z"
   },
   {
    "duration": 103,
    "start_time": "2021-07-07T14:30:52.351Z"
   },
   {
    "duration": 8,
    "start_time": "2021-07-07T14:30:54.763Z"
   },
   {
    "duration": 8,
    "start_time": "2021-07-07T14:31:29.301Z"
   },
   {
    "duration": 13,
    "start_time": "2021-07-07T14:31:44.516Z"
   },
   {
    "duration": 7,
    "start_time": "2021-07-07T14:33:10.972Z"
   },
   {
    "duration": 11,
    "start_time": "2021-07-07T14:33:27.780Z"
   },
   {
    "duration": 8,
    "start_time": "2021-07-07T14:34:44.588Z"
   },
   {
    "duration": 57,
    "start_time": "2021-07-07T14:35:59.042Z"
   },
   {
    "duration": 3,
    "start_time": "2021-07-07T14:36:28.168Z"
   },
   {
    "duration": 5,
    "start_time": "2021-07-07T14:36:46.254Z"
   },
   {
    "duration": 4,
    "start_time": "2021-07-07T14:36:52.714Z"
   },
   {
    "duration": 3,
    "start_time": "2021-07-07T14:36:56.612Z"
   },
   {
    "duration": 4,
    "start_time": "2021-07-07T14:36:57.049Z"
   },
   {
    "duration": 3,
    "start_time": "2021-07-07T14:39:21.214Z"
   },
   {
    "duration": 7,
    "start_time": "2021-07-07T14:39:52.406Z"
   },
   {
    "duration": 11,
    "start_time": "2021-07-07T14:39:58.576Z"
   },
   {
    "duration": 9,
    "start_time": "2021-07-07T14:40:26.301Z"
   },
   {
    "duration": 10,
    "start_time": "2021-07-07T14:40:31.704Z"
   },
   {
    "duration": 11,
    "start_time": "2021-07-07T14:40:36.249Z"
   },
   {
    "duration": 10,
    "start_time": "2021-07-07T14:40:39.783Z"
   },
   {
    "duration": 9,
    "start_time": "2021-07-07T14:40:48.558Z"
   },
   {
    "duration": 10,
    "start_time": "2021-07-07T14:40:57.143Z"
   },
   {
    "duration": 9,
    "start_time": "2021-07-07T14:41:06.074Z"
   },
   {
    "duration": 4324,
    "start_time": "2021-07-07T14:41:22.004Z"
   },
   {
    "duration": 11,
    "start_time": "2021-07-07T14:41:33.392Z"
   },
   {
    "duration": 9,
    "start_time": "2021-07-07T14:41:39.288Z"
   },
   {
    "duration": 569,
    "start_time": "2021-07-07T14:42:14.387Z"
   },
   {
    "duration": 197,
    "start_time": "2021-07-07T14:42:14.959Z"
   },
   {
    "duration": 84,
    "start_time": "2021-07-07T14:42:16.052Z"
   },
   {
    "duration": 4,
    "start_time": "2021-07-07T14:42:16.900Z"
   },
   {
    "duration": 27,
    "start_time": "2021-07-07T14:42:19.898Z"
   },
   {
    "duration": 12,
    "start_time": "2021-07-07T14:42:21.577Z"
   },
   {
    "duration": 9,
    "start_time": "2021-07-07T14:42:21.813Z"
   },
   {
    "duration": 9,
    "start_time": "2021-07-07T14:42:22.569Z"
   },
   {
    "duration": 29,
    "start_time": "2021-07-07T14:42:25.837Z"
   },
   {
    "duration": 20,
    "start_time": "2021-07-07T14:42:27.003Z"
   },
   {
    "duration": 21,
    "start_time": "2021-07-07T14:42:28.767Z"
   },
   {
    "duration": 7,
    "start_time": "2021-07-07T14:42:29.838Z"
   },
   {
    "duration": 4,
    "start_time": "2021-07-07T14:43:25.493Z"
   },
   {
    "duration": 7,
    "start_time": "2021-07-07T14:43:26.573Z"
   },
   {
    "duration": 10,
    "start_time": "2021-07-07T14:43:31.639Z"
   },
   {
    "duration": 9,
    "start_time": "2021-07-07T14:43:32.046Z"
   },
   {
    "duration": 10,
    "start_time": "2021-07-07T14:43:33.301Z"
   },
   {
    "duration": 12,
    "start_time": "2021-07-07T14:43:33.658Z"
   },
   {
    "duration": 8,
    "start_time": "2021-07-07T14:43:34.552Z"
   },
   {
    "duration": 9,
    "start_time": "2021-07-07T14:43:35.058Z"
   },
   {
    "duration": 12,
    "start_time": "2021-07-07T14:43:35.914Z"
   },
   {
    "duration": 17,
    "start_time": "2021-07-07T14:45:34.368Z"
   },
   {
    "duration": 512,
    "start_time": "2021-07-07T14:51:58.236Z"
   },
   {
    "duration": 223,
    "start_time": "2021-07-07T14:51:58.750Z"
   },
   {
    "duration": 93,
    "start_time": "2021-07-07T14:51:58.977Z"
   },
   {
    "duration": 4,
    "start_time": "2021-07-07T14:51:59.071Z"
   },
   {
    "duration": 37,
    "start_time": "2021-07-07T14:51:59.077Z"
   },
   {
    "duration": 18,
    "start_time": "2021-07-07T14:51:59.116Z"
   },
   {
    "duration": 10,
    "start_time": "2021-07-07T14:51:59.137Z"
   },
   {
    "duration": 8,
    "start_time": "2021-07-07T14:51:59.149Z"
   },
   {
    "duration": 54,
    "start_time": "2021-07-07T14:51:59.158Z"
   },
   {
    "duration": 18,
    "start_time": "2021-07-07T14:51:59.213Z"
   },
   {
    "duration": 22,
    "start_time": "2021-07-07T14:51:59.232Z"
   },
   {
    "duration": 36,
    "start_time": "2021-07-07T14:51:59.255Z"
   },
   {
    "duration": 7,
    "start_time": "2021-07-07T14:51:59.293Z"
   },
   {
    "duration": 10,
    "start_time": "2021-07-07T14:51:59.302Z"
   },
   {
    "duration": 9,
    "start_time": "2021-07-07T14:51:59.313Z"
   },
   {
    "duration": 11,
    "start_time": "2021-07-07T14:51:59.324Z"
   },
   {
    "duration": 8,
    "start_time": "2021-07-07T14:51:59.337Z"
   },
   {
    "duration": 46,
    "start_time": "2021-07-07T14:51:59.347Z"
   },
   {
    "duration": 22,
    "start_time": "2021-07-07T14:51:59.395Z"
   },
   {
    "duration": 24,
    "start_time": "2021-07-07T14:57:32.911Z"
   },
   {
    "duration": 7,
    "start_time": "2021-07-07T14:58:22.070Z"
   },
   {
    "duration": 4,
    "start_time": "2021-07-07T14:59:11.239Z"
   },
   {
    "duration": 25,
    "start_time": "2021-07-07T15:07:22.208Z"
   },
   {
    "duration": 16,
    "start_time": "2021-07-07T15:08:25.560Z"
   },
   {
    "duration": 15,
    "start_time": "2021-07-07T15:08:40.647Z"
   },
   {
    "duration": 14,
    "start_time": "2021-07-07T15:08:46.669Z"
   },
   {
    "duration": 533,
    "start_time": "2021-07-07T15:18:07.440Z"
   },
   {
    "duration": 173,
    "start_time": "2021-07-07T15:18:07.974Z"
   },
   {
    "duration": 84,
    "start_time": "2021-07-07T15:18:08.149Z"
   },
   {
    "duration": 3,
    "start_time": "2021-07-07T15:18:08.235Z"
   },
   {
    "duration": 30,
    "start_time": "2021-07-07T15:18:08.240Z"
   },
   {
    "duration": 22,
    "start_time": "2021-07-07T15:18:08.272Z"
   },
   {
    "duration": 11,
    "start_time": "2021-07-07T15:18:08.295Z"
   },
   {
    "duration": 11,
    "start_time": "2021-07-07T15:18:08.309Z"
   },
   {
    "duration": 40,
    "start_time": "2021-07-07T15:18:08.322Z"
   },
   {
    "duration": 42,
    "start_time": "2021-07-07T15:18:08.364Z"
   },
   {
    "duration": 22,
    "start_time": "2021-07-07T15:18:08.408Z"
   },
   {
    "duration": 5,
    "start_time": "2021-07-07T15:18:08.432Z"
   },
   {
    "duration": 13,
    "start_time": "2021-07-07T15:18:08.439Z"
   },
   {
    "duration": 9,
    "start_time": "2021-07-07T15:18:08.454Z"
   },
   {
    "duration": 32,
    "start_time": "2021-07-07T15:18:08.465Z"
   },
   {
    "duration": 10,
    "start_time": "2021-07-07T15:18:08.501Z"
   },
   {
    "duration": 7,
    "start_time": "2021-07-07T15:18:08.513Z"
   },
   {
    "duration": 11,
    "start_time": "2021-07-07T15:18:08.521Z"
   },
   {
    "duration": 17,
    "start_time": "2021-07-07T15:18:08.534Z"
   },
   {
    "duration": 44,
    "start_time": "2021-07-07T15:18:08.553Z"
   },
   {
    "duration": 22,
    "start_time": "2021-07-07T15:18:08.599Z"
   },
   {
    "duration": 61,
    "start_time": "2021-07-07T15:18:08.622Z"
   },
   {
    "duration": 7,
    "start_time": "2021-07-07T15:18:39.457Z"
   },
   {
    "duration": 5,
    "start_time": "2021-07-07T16:05:17.020Z"
   },
   {
    "duration": 5,
    "start_time": "2021-07-07T16:51:28.794Z"
   },
   {
    "duration": 546,
    "start_time": "2021-07-07T16:52:26.306Z"
   },
   {
    "duration": 203,
    "start_time": "2021-07-07T16:52:27.523Z"
   },
   {
    "duration": 85,
    "start_time": "2021-07-07T16:52:27.736Z"
   },
   {
    "duration": 4,
    "start_time": "2021-07-07T16:52:27.899Z"
   },
   {
    "duration": 25,
    "start_time": "2021-07-07T16:52:28.674Z"
   },
   {
    "duration": 8,
    "start_time": "2021-07-07T16:52:32.956Z"
   },
   {
    "duration": 18,
    "start_time": "2021-07-07T16:52:35.616Z"
   },
   {
    "duration": 6,
    "start_time": "2021-07-07T16:52:36.913Z"
   },
   {
    "duration": 11,
    "start_time": "2021-07-07T16:52:40.258Z"
   },
   {
    "duration": 10,
    "start_time": "2021-07-07T16:52:46.251Z"
   },
   {
    "duration": 8,
    "start_time": "2021-07-07T16:52:47.182Z"
   },
   {
    "duration": 27,
    "start_time": "2021-07-07T16:53:20.391Z"
   },
   {
    "duration": 20,
    "start_time": "2021-07-07T16:53:22.022Z"
   },
   {
    "duration": 23,
    "start_time": "2021-07-07T16:53:23.690Z"
   },
   {
    "duration": 8,
    "start_time": "2021-07-07T16:53:24.261Z"
   },
   {
    "duration": 4,
    "start_time": "2021-07-07T16:53:38.733Z"
   },
   {
    "duration": 7,
    "start_time": "2021-07-07T16:53:40.445Z"
   },
   {
    "duration": 11,
    "start_time": "2021-07-07T16:53:41.348Z"
   },
   {
    "duration": 13,
    "start_time": "2021-07-07T16:53:45.250Z"
   },
   {
    "duration": 12,
    "start_time": "2021-07-07T16:53:45.467Z"
   },
   {
    "duration": 4,
    "start_time": "2021-07-07T16:55:32.704Z"
   },
   {
    "duration": 12,
    "start_time": "2021-07-07T16:55:49.012Z"
   },
   {
    "duration": 18,
    "start_time": "2021-07-07T16:55:49.547Z"
   },
   {
    "duration": 611,
    "start_time": "2021-07-07T16:58:35.156Z"
   },
   {
    "duration": 200,
    "start_time": "2021-07-07T16:58:35.770Z"
   },
   {
    "duration": 86,
    "start_time": "2021-07-07T16:58:35.972Z"
   },
   {
    "duration": 3,
    "start_time": "2021-07-07T16:58:36.060Z"
   },
   {
    "duration": 27,
    "start_time": "2021-07-07T16:58:36.065Z"
   },
   {
    "duration": 8,
    "start_time": "2021-07-07T16:58:36.094Z"
   },
   {
    "duration": 17,
    "start_time": "2021-07-07T16:58:36.103Z"
   },
   {
    "duration": 5,
    "start_time": "2021-07-07T16:58:36.123Z"
   },
   {
    "duration": 11,
    "start_time": "2021-07-07T16:58:36.130Z"
   },
   {
    "duration": 7,
    "start_time": "2021-07-07T16:58:36.143Z"
   },
   {
    "duration": 37,
    "start_time": "2021-07-07T16:58:36.152Z"
   },
   {
    "duration": 27,
    "start_time": "2021-07-07T16:58:36.191Z"
   },
   {
    "duration": 19,
    "start_time": "2021-07-07T16:58:36.219Z"
   },
   {
    "duration": 49,
    "start_time": "2021-07-07T16:58:36.240Z"
   },
   {
    "duration": 6,
    "start_time": "2021-07-07T16:58:36.291Z"
   },
   {
    "duration": 3,
    "start_time": "2021-07-07T16:58:36.299Z"
   },
   {
    "duration": 13,
    "start_time": "2021-07-07T16:58:36.304Z"
   },
   {
    "duration": 10,
    "start_time": "2021-07-07T16:58:36.319Z"
   },
   {
    "duration": 10,
    "start_time": "2021-07-07T16:58:36.331Z"
   },
   {
    "duration": 44,
    "start_time": "2021-07-07T16:58:36.343Z"
   },
   {
    "duration": 4,
    "start_time": "2021-07-07T16:58:36.388Z"
   },
   {
    "duration": 13,
    "start_time": "2021-07-07T16:58:36.394Z"
   },
   {
    "duration": 16,
    "start_time": "2021-07-07T16:58:36.410Z"
   },
   {
    "duration": 8,
    "start_time": "2021-07-07T17:02:31.629Z"
   },
   {
    "duration": 8,
    "start_time": "2021-07-07T17:02:34.308Z"
   },
   {
    "duration": 6,
    "start_time": "2021-07-07T17:05:13.483Z"
   },
   {
    "duration": 17,
    "start_time": "2021-07-07T17:05:20.606Z"
   },
   {
    "duration": 7,
    "start_time": "2021-07-07T17:05:34.638Z"
   },
   {
    "duration": 3,
    "start_time": "2021-07-07T17:06:31.883Z"
   },
   {
    "duration": 570,
    "start_time": "2021-07-07T17:06:37.165Z"
   },
   {
    "duration": 174,
    "start_time": "2021-07-07T17:06:37.737Z"
   },
   {
    "duration": 47,
    "start_time": "2021-07-07T17:06:37.913Z"
   },
   {
    "duration": 3,
    "start_time": "2021-07-07T17:06:37.962Z"
   },
   {
    "duration": 27,
    "start_time": "2021-07-07T17:06:37.967Z"
   },
   {
    "duration": 7,
    "start_time": "2021-07-07T17:06:37.996Z"
   },
   {
    "duration": 16,
    "start_time": "2021-07-07T17:06:38.005Z"
   },
   {
    "duration": 6,
    "start_time": "2021-07-07T17:06:38.024Z"
   },
   {
    "duration": 12,
    "start_time": "2021-07-07T17:06:38.031Z"
   },
   {
    "duration": 41,
    "start_time": "2021-07-07T17:06:38.045Z"
   },
   {
    "duration": 8,
    "start_time": "2021-07-07T17:06:38.088Z"
   },
   {
    "duration": 26,
    "start_time": "2021-07-07T17:06:38.098Z"
   },
   {
    "duration": 17,
    "start_time": "2021-07-07T17:06:38.126Z"
   },
   {
    "duration": 43,
    "start_time": "2021-07-07T17:06:38.144Z"
   },
   {
    "duration": 6,
    "start_time": "2021-07-07T17:06:38.188Z"
   },
   {
    "duration": 5,
    "start_time": "2021-07-07T17:06:38.195Z"
   },
   {
    "duration": 9,
    "start_time": "2021-07-07T17:06:38.201Z"
   },
   {
    "duration": 12,
    "start_time": "2021-07-07T17:06:38.212Z"
   },
   {
    "duration": 11,
    "start_time": "2021-07-07T17:06:38.226Z"
   },
   {
    "duration": 47,
    "start_time": "2021-07-07T17:06:38.239Z"
   },
   {
    "duration": 4,
    "start_time": "2021-07-07T17:06:38.288Z"
   },
   {
    "duration": 13,
    "start_time": "2021-07-07T17:06:38.293Z"
   },
   {
    "duration": 5,
    "start_time": "2021-07-07T17:06:38.309Z"
   },
   {
    "duration": 18,
    "start_time": "2021-07-07T17:06:38.325Z"
   },
   {
    "duration": 20,
    "start_time": "2021-07-07T17:07:02.805Z"
   },
   {
    "duration": 19,
    "start_time": "2021-07-07T17:07:08.527Z"
   },
   {
    "duration": 19,
    "start_time": "2021-07-07T17:07:12.758Z"
   },
   {
    "duration": 22,
    "start_time": "2021-07-07T17:07:17.497Z"
   },
   {
    "duration": 19,
    "start_time": "2021-07-07T17:07:19.645Z"
   },
   {
    "duration": 10,
    "start_time": "2021-07-07T17:07:34.239Z"
   },
   {
    "duration": 17,
    "start_time": "2021-07-07T17:07:54.144Z"
   },
   {
    "duration": 14,
    "start_time": "2021-07-07T17:08:14.357Z"
   },
   {
    "duration": 616,
    "start_time": "2021-07-07T17:08:45.254Z"
   },
   {
    "duration": 178,
    "start_time": "2021-07-07T17:08:45.872Z"
   },
   {
    "duration": 60,
    "start_time": "2021-07-07T17:08:46.054Z"
   },
   {
    "duration": 3,
    "start_time": "2021-07-07T17:08:46.116Z"
   },
   {
    "duration": 26,
    "start_time": "2021-07-07T17:08:46.121Z"
   },
   {
    "duration": 7,
    "start_time": "2021-07-07T17:08:46.149Z"
   },
   {
    "duration": 17,
    "start_time": "2021-07-07T17:08:46.158Z"
   },
   {
    "duration": 14,
    "start_time": "2021-07-07T17:08:46.176Z"
   },
   {
    "duration": 17,
    "start_time": "2021-07-07T17:08:46.193Z"
   },
   {
    "duration": 9,
    "start_time": "2021-07-07T17:08:46.211Z"
   },
   {
    "duration": 21,
    "start_time": "2021-07-07T17:08:46.221Z"
   },
   {
    "duration": 49,
    "start_time": "2021-07-07T17:08:46.244Z"
   },
   {
    "duration": 24,
    "start_time": "2021-07-07T17:08:46.295Z"
   },
   {
    "duration": 22,
    "start_time": "2021-07-07T17:08:46.321Z"
   },
   {
    "duration": 6,
    "start_time": "2021-07-07T17:08:46.345Z"
   },
   {
    "duration": 5,
    "start_time": "2021-07-07T17:08:46.353Z"
   },
   {
    "duration": 13,
    "start_time": "2021-07-07T17:08:46.386Z"
   },
   {
    "duration": 12,
    "start_time": "2021-07-07T17:08:46.402Z"
   },
   {
    "duration": 10,
    "start_time": "2021-07-07T17:08:46.415Z"
   },
   {
    "duration": 7,
    "start_time": "2021-07-07T17:08:46.427Z"
   },
   {
    "duration": 8,
    "start_time": "2021-07-07T17:08:46.435Z"
   },
   {
    "duration": 68,
    "start_time": "2021-07-07T17:08:46.446Z"
   },
   {
    "duration": 13,
    "start_time": "2021-07-07T17:08:46.516Z"
   },
   {
    "duration": 78,
    "start_time": "2021-07-07T17:08:46.530Z"
   },
   {
    "duration": 40,
    "start_time": "2021-07-07T17:09:08.185Z"
   },
   {
    "duration": 16,
    "start_time": "2021-07-07T17:09:19.324Z"
   },
   {
    "duration": 21,
    "start_time": "2021-07-07T17:09:23.290Z"
   },
   {
    "duration": 13,
    "start_time": "2021-07-07T17:09:54.812Z"
   },
   {
    "duration": 13,
    "start_time": "2021-07-07T17:10:02.039Z"
   },
   {
    "duration": 10,
    "start_time": "2021-07-07T17:10:29.632Z"
   },
   {
    "duration": 13,
    "start_time": "2021-07-07T17:10:52.372Z"
   },
   {
    "duration": 13,
    "start_time": "2021-07-07T17:11:17.270Z"
   },
   {
    "duration": 13,
    "start_time": "2021-07-07T17:14:59.284Z"
   },
   {
    "duration": 547,
    "start_time": "2021-07-07T17:18:52.403Z"
   },
   {
    "duration": 163,
    "start_time": "2021-07-07T17:18:52.952Z"
   },
   {
    "duration": 44,
    "start_time": "2021-07-07T17:18:53.117Z"
   },
   {
    "duration": 3,
    "start_time": "2021-07-07T17:18:53.162Z"
   },
   {
    "duration": 26,
    "start_time": "2021-07-07T17:18:53.167Z"
   },
   {
    "duration": 6,
    "start_time": "2021-07-07T17:18:53.195Z"
   },
   {
    "duration": 15,
    "start_time": "2021-07-07T17:18:53.203Z"
   },
   {
    "duration": 5,
    "start_time": "2021-07-07T17:18:53.220Z"
   },
   {
    "duration": 11,
    "start_time": "2021-07-07T17:18:53.228Z"
   },
   {
    "duration": 9,
    "start_time": "2021-07-07T17:18:53.241Z"
   },
   {
    "duration": 41,
    "start_time": "2021-07-07T17:18:53.252Z"
   },
   {
    "duration": 33,
    "start_time": "2021-07-07T17:18:53.295Z"
   },
   {
    "duration": 19,
    "start_time": "2021-07-07T17:18:53.330Z"
   },
   {
    "duration": 49,
    "start_time": "2021-07-07T17:18:53.350Z"
   },
   {
    "duration": 5,
    "start_time": "2021-07-07T17:18:53.401Z"
   },
   {
    "duration": 5,
    "start_time": "2021-07-07T17:18:53.408Z"
   },
   {
    "duration": 11,
    "start_time": "2021-07-07T17:18:53.414Z"
   },
   {
    "duration": 9,
    "start_time": "2021-07-07T17:18:53.427Z"
   },
   {
    "duration": 10,
    "start_time": "2021-07-07T17:18:53.437Z"
   },
   {
    "duration": 39,
    "start_time": "2021-07-07T17:18:53.448Z"
   },
   {
    "duration": 26,
    "start_time": "2021-07-07T17:18:55.799Z"
   },
   {
    "duration": 598,
    "start_time": "2021-07-07T17:20:17.862Z"
   },
   {
    "duration": 161,
    "start_time": "2021-07-07T17:20:18.462Z"
   },
   {
    "duration": 45,
    "start_time": "2021-07-07T17:20:18.626Z"
   },
   {
    "duration": 4,
    "start_time": "2021-07-07T17:20:18.673Z"
   },
   {
    "duration": 38,
    "start_time": "2021-07-07T17:20:26.877Z"
   },
   {
    "duration": 7,
    "start_time": "2021-07-07T17:20:37.405Z"
   },
   {
    "duration": 19,
    "start_time": "2021-07-07T17:20:51.534Z"
   },
   {
    "duration": 5,
    "start_time": "2021-07-07T17:20:57.228Z"
   },
   {
    "duration": 7,
    "start_time": "2021-07-07T17:21:08.235Z"
   },
   {
    "duration": 19,
    "start_time": "2021-07-07T17:21:42.158Z"
   },
   {
    "duration": 14,
    "start_time": "2021-07-07T17:21:50.225Z"
   },
   {
    "duration": 22,
    "start_time": "2021-07-07T17:22:54.104Z"
   },
   {
    "duration": 5,
    "start_time": "2021-07-07T17:22:56.371Z"
   },
   {
    "duration": 14,
    "start_time": "2021-07-07T17:22:58.316Z"
   },
   {
    "duration": 5,
    "start_time": "2021-07-07T17:22:58.493Z"
   },
   {
    "duration": 35,
    "start_time": "2021-07-07T17:22:59.666Z"
   },
   {
    "duration": 6,
    "start_time": "2021-07-07T17:23:02.410Z"
   },
   {
    "duration": 611,
    "start_time": "2021-07-07T17:24:59.664Z"
   },
   {
    "duration": 178,
    "start_time": "2021-07-07T17:25:01.945Z"
   },
   {
    "duration": 47,
    "start_time": "2021-07-07T17:25:02.125Z"
   },
   {
    "duration": 2,
    "start_time": "2021-07-07T17:25:07.903Z"
   },
   {
    "duration": 254,
    "start_time": "2021-07-07T17:25:08.232Z"
   },
   {
    "duration": 182,
    "start_time": "2021-07-07T17:25:08.671Z"
   },
   {
    "duration": 6,
    "start_time": "2021-07-07T17:25:13.104Z"
   },
   {
    "duration": 36,
    "start_time": "2021-07-07T17:25:13.662Z"
   },
   {
    "duration": 7,
    "start_time": "2021-07-07T17:25:14.528Z"
   },
   {
    "duration": 24,
    "start_time": "2021-07-07T17:25:27.982Z"
   },
   {
    "duration": 3,
    "start_time": "2021-07-07T17:25:48.982Z"
   },
   {
    "duration": 165,
    "start_time": "2021-07-07T17:25:48.987Z"
   },
   {
    "duration": 50,
    "start_time": "2021-07-07T17:25:49.154Z"
   },
   {
    "duration": 4,
    "start_time": "2021-07-07T17:25:49.206Z"
   },
   {
    "duration": 26,
    "start_time": "2021-07-07T17:25:49.212Z"
   },
   {
    "duration": 7,
    "start_time": "2021-07-07T17:25:49.240Z"
   },
   {
    "duration": 16,
    "start_time": "2021-07-07T17:25:49.249Z"
   },
   {
    "duration": 22,
    "start_time": "2021-07-07T17:25:49.266Z"
   },
   {
    "duration": 16,
    "start_time": "2021-07-07T17:25:49.291Z"
   },
   {
    "duration": 9,
    "start_time": "2021-07-07T17:25:49.309Z"
   },
   {
    "duration": 7,
    "start_time": "2021-07-07T17:25:49.319Z"
   },
   {
    "duration": 28,
    "start_time": "2021-07-07T17:25:49.328Z"
   },
   {
    "duration": 44,
    "start_time": "2021-07-07T17:25:49.357Z"
   },
   {
    "duration": 22,
    "start_time": "2021-07-07T17:25:49.403Z"
   },
   {
    "duration": 7,
    "start_time": "2021-07-07T17:25:49.427Z"
   },
   {
    "duration": 3,
    "start_time": "2021-07-07T17:25:49.436Z"
   },
   {
    "duration": 44,
    "start_time": "2021-07-07T17:25:49.441Z"
   },
   {
    "duration": 12,
    "start_time": "2021-07-07T17:25:49.488Z"
   },
   {
    "duration": 13,
    "start_time": "2021-07-07T17:25:49.502Z"
   },
   {
    "duration": 10,
    "start_time": "2021-07-07T17:25:49.516Z"
   },
   {
    "duration": 62,
    "start_time": "2021-07-07T17:25:49.527Z"
   },
   {
    "duration": 26,
    "start_time": "2021-07-07T17:26:51.809Z"
   },
   {
    "duration": 26,
    "start_time": "2021-07-07T17:26:55.759Z"
   },
   {
    "duration": 26,
    "start_time": "2021-07-07T17:27:04.501Z"
   },
   {
    "duration": 25,
    "start_time": "2021-07-07T17:28:24.859Z"
   },
   {
    "duration": 21,
    "start_time": "2021-07-07T17:28:55.250Z"
   },
   {
    "duration": 21,
    "start_time": "2021-07-07T17:28:58.885Z"
   },
   {
    "duration": 7,
    "start_time": "2021-07-07T17:45:40.972Z"
   },
   {
    "duration": 13,
    "start_time": "2021-07-07T17:45:42.529Z"
   },
   {
    "duration": 27,
    "start_time": "2021-07-07T17:45:51.026Z"
   },
   {
    "duration": 518,
    "start_time": "2021-07-07T17:46:15.532Z"
   },
   {
    "duration": 235,
    "start_time": "2021-07-07T17:46:16.053Z"
   },
   {
    "duration": 80,
    "start_time": "2021-07-07T17:46:16.292Z"
   },
   {
    "duration": 5,
    "start_time": "2021-07-07T17:46:16.373Z"
   },
   {
    "duration": 26,
    "start_time": "2021-07-07T17:46:16.380Z"
   },
   {
    "duration": 7,
    "start_time": "2021-07-07T17:46:16.408Z"
   },
   {
    "duration": 16,
    "start_time": "2021-07-07T17:46:16.418Z"
   },
   {
    "duration": 5,
    "start_time": "2021-07-07T17:46:16.436Z"
   },
   {
    "duration": 13,
    "start_time": "2021-07-07T17:46:16.442Z"
   },
   {
    "duration": 35,
    "start_time": "2021-07-07T17:46:16.456Z"
   },
   {
    "duration": 8,
    "start_time": "2021-07-07T17:46:16.493Z"
   },
   {
    "duration": 28,
    "start_time": "2021-07-07T17:46:16.502Z"
   },
   {
    "duration": 17,
    "start_time": "2021-07-07T17:46:16.532Z"
   },
   {
    "duration": 44,
    "start_time": "2021-07-07T17:46:16.551Z"
   },
   {
    "duration": 6,
    "start_time": "2021-07-07T17:46:16.597Z"
   },
   {
    "duration": 4,
    "start_time": "2021-07-07T17:46:16.605Z"
   },
   {
    "duration": 9,
    "start_time": "2021-07-07T17:46:16.610Z"
   },
   {
    "duration": 9,
    "start_time": "2021-07-07T17:46:16.621Z"
   },
   {
    "duration": 10,
    "start_time": "2021-07-07T17:46:16.632Z"
   },
   {
    "duration": 43,
    "start_time": "2021-07-07T17:46:16.644Z"
   },
   {
    "duration": 26,
    "start_time": "2021-07-07T17:46:16.689Z"
   },
   {
    "duration": 19,
    "start_time": "2021-07-07T17:46:16.718Z"
   },
   {
    "duration": 8,
    "start_time": "2021-07-07T17:46:16.738Z"
   },
   {
    "duration": 43,
    "start_time": "2021-07-07T17:46:16.747Z"
   },
   {
    "duration": 19,
    "start_time": "2021-07-07T17:46:16.791Z"
   },
   {
    "duration": 9,
    "start_time": "2021-07-07T17:46:16.812Z"
   },
   {
    "duration": 60,
    "start_time": "2021-07-07T17:46:16.822Z"
   },
   {
    "duration": -8,
    "start_time": "2021-07-07T17:46:16.892Z"
   },
   {
    "duration": 12,
    "start_time": "2021-07-07T17:48:47.707Z"
   },
   {
    "duration": 553,
    "start_time": "2021-07-07T18:10:09.350Z"
   },
   {
    "duration": 230,
    "start_time": "2021-07-07T18:10:09.905Z"
   },
   {
    "duration": 97,
    "start_time": "2021-07-07T18:10:10.137Z"
   },
   {
    "duration": 5,
    "start_time": "2021-07-07T18:10:10.236Z"
   },
   {
    "duration": 29,
    "start_time": "2021-07-07T18:10:10.242Z"
   },
   {
    "duration": 7,
    "start_time": "2021-07-07T18:10:10.272Z"
   },
   {
    "duration": 15,
    "start_time": "2021-07-07T18:10:10.281Z"
   },
   {
    "duration": 4,
    "start_time": "2021-07-07T18:10:10.299Z"
   },
   {
    "duration": 14,
    "start_time": "2021-07-07T18:10:10.305Z"
   },
   {
    "duration": 8,
    "start_time": "2021-07-07T18:10:10.321Z"
   },
   {
    "duration": 8,
    "start_time": "2021-07-07T18:10:10.331Z"
   },
   {
    "duration": 56,
    "start_time": "2021-07-07T18:10:10.341Z"
   },
   {
    "duration": 19,
    "start_time": "2021-07-07T18:10:10.399Z"
   },
   {
    "duration": 23,
    "start_time": "2021-07-07T18:10:10.419Z"
   },
   {
    "duration": 6,
    "start_time": "2021-07-07T18:10:10.444Z"
   },
   {
    "duration": 9,
    "start_time": "2021-07-07T18:10:10.451Z"
   },
   {
    "duration": 30,
    "start_time": "2021-07-07T18:10:10.462Z"
   },
   {
    "duration": 9,
    "start_time": "2021-07-07T18:10:10.494Z"
   },
   {
    "duration": 14,
    "start_time": "2021-07-07T18:10:10.505Z"
   },
   {
    "duration": 7,
    "start_time": "2021-07-07T18:10:10.521Z"
   },
   {
    "duration": 26,
    "start_time": "2021-07-07T18:10:10.530Z"
   },
   {
    "duration": 44,
    "start_time": "2021-07-07T18:10:10.558Z"
   },
   {
    "duration": 7,
    "start_time": "2021-07-07T18:10:10.605Z"
   },
   {
    "duration": 11,
    "start_time": "2021-07-07T18:10:10.614Z"
   },
   {
    "duration": 19,
    "start_time": "2021-07-07T18:10:10.626Z"
   },
   {
    "duration": 44,
    "start_time": "2021-07-07T18:10:10.646Z"
   },
   {
    "duration": 516,
    "start_time": "2021-07-07T18:14:00.826Z"
   },
   {
    "duration": 230,
    "start_time": "2021-07-07T18:14:01.344Z"
   },
   {
    "duration": 105,
    "start_time": "2021-07-07T18:14:01.576Z"
   },
   {
    "duration": 5,
    "start_time": "2021-07-07T18:14:01.683Z"
   },
   {
    "duration": 46,
    "start_time": "2021-07-07T18:14:01.690Z"
   },
   {
    "duration": 7,
    "start_time": "2021-07-07T18:14:01.738Z"
   },
   {
    "duration": 20,
    "start_time": "2021-07-07T18:14:01.747Z"
   },
   {
    "duration": 16,
    "start_time": "2021-07-07T18:14:01.769Z"
   },
   {
    "duration": 14,
    "start_time": "2021-07-07T18:14:01.787Z"
   },
   {
    "duration": 15,
    "start_time": "2021-07-07T18:14:01.803Z"
   },
   {
    "duration": 12,
    "start_time": "2021-07-07T18:14:01.820Z"
   },
   {
    "duration": 35,
    "start_time": "2021-07-07T18:14:01.833Z"
   },
   {
    "duration": 31,
    "start_time": "2021-07-07T18:14:01.869Z"
   },
   {
    "duration": 37,
    "start_time": "2021-07-07T18:14:01.902Z"
   },
   {
    "duration": 8,
    "start_time": "2021-07-07T18:14:01.942Z"
   },
   {
    "duration": 16,
    "start_time": "2021-07-07T18:14:01.952Z"
   },
   {
    "duration": 13,
    "start_time": "2021-07-07T18:14:01.970Z"
   },
   {
    "duration": 32,
    "start_time": "2021-07-07T18:14:01.985Z"
   },
   {
    "duration": 11,
    "start_time": "2021-07-07T18:14:02.019Z"
   },
   {
    "duration": 22,
    "start_time": "2021-07-07T18:14:02.031Z"
   },
   {
    "duration": 27,
    "start_time": "2021-07-07T18:14:02.055Z"
   },
   {
    "duration": 18,
    "start_time": "2021-07-07T18:14:02.084Z"
   },
   {
    "duration": 18,
    "start_time": "2021-07-07T18:14:02.106Z"
   },
   {
    "duration": 11,
    "start_time": "2021-07-07T18:14:02.126Z"
   },
   {
    "duration": 21,
    "start_time": "2021-07-07T18:14:02.138Z"
   },
   {
    "duration": 32,
    "start_time": "2021-07-07T18:14:02.161Z"
   },
   {
    "duration": 28,
    "start_time": "2021-07-07T18:14:44.295Z"
   },
   {
    "duration": 6,
    "start_time": "2021-07-07T18:15:05.834Z"
   },
   {
    "duration": 511,
    "start_time": "2021-07-07T18:15:41.541Z"
   },
   {
    "duration": 183,
    "start_time": "2021-07-07T18:15:42.054Z"
   },
   {
    "duration": 50,
    "start_time": "2021-07-07T18:15:42.239Z"
   },
   {
    "duration": 5,
    "start_time": "2021-07-07T18:15:42.291Z"
   },
   {
    "duration": 48,
    "start_time": "2021-07-07T18:15:42.297Z"
   },
   {
    "duration": 8,
    "start_time": "2021-07-07T18:15:42.346Z"
   },
   {
    "duration": 17,
    "start_time": "2021-07-07T18:15:42.356Z"
   },
   {
    "duration": 15,
    "start_time": "2021-07-07T18:15:42.375Z"
   },
   {
    "duration": 12,
    "start_time": "2021-07-07T18:15:42.392Z"
   },
   {
    "duration": 7,
    "start_time": "2021-07-07T18:15:42.406Z"
   },
   {
    "duration": 7,
    "start_time": "2021-07-07T18:15:42.415Z"
   },
   {
    "duration": 29,
    "start_time": "2021-07-07T18:15:42.423Z"
   },
   {
    "duration": 43,
    "start_time": "2021-07-07T18:15:42.453Z"
   },
   {
    "duration": 18,
    "start_time": "2021-07-07T18:15:42.497Z"
   },
   {
    "duration": 6,
    "start_time": "2021-07-07T18:15:42.516Z"
   },
   {
    "duration": 3,
    "start_time": "2021-07-07T18:15:42.523Z"
   },
   {
    "duration": 18,
    "start_time": "2021-07-07T18:15:42.528Z"
   },
   {
    "duration": 10,
    "start_time": "2021-07-07T18:15:42.547Z"
   },
   {
    "duration": 36,
    "start_time": "2021-07-07T18:15:42.559Z"
   },
   {
    "duration": 8,
    "start_time": "2021-07-07T18:15:42.597Z"
   },
   {
    "duration": 28,
    "start_time": "2021-07-07T18:15:42.606Z"
   },
   {
    "duration": 52,
    "start_time": "2021-07-07T18:15:42.635Z"
   },
   {
    "duration": 7,
    "start_time": "2021-07-07T18:15:42.690Z"
   },
   {
    "duration": 10,
    "start_time": "2021-07-07T18:15:42.699Z"
   },
   {
    "duration": 19,
    "start_time": "2021-07-07T18:15:42.711Z"
   },
   {
    "duration": 9,
    "start_time": "2021-07-07T18:15:42.732Z"
   },
   {
    "duration": 5,
    "start_time": "2021-07-07T18:15:42.743Z"
   },
   {
    "duration": 1450,
    "start_time": "2021-07-07T18:15:51.984Z"
   },
   {
    "duration": 161,
    "start_time": "2021-07-07T18:15:53.435Z"
   },
   {
    "duration": 124,
    "start_time": "2021-07-07T18:15:53.598Z"
   },
   {
    "duration": 5,
    "start_time": "2021-07-07T18:15:53.724Z"
   },
   {
    "duration": 34,
    "start_time": "2021-07-07T18:15:53.730Z"
   },
   {
    "duration": 7,
    "start_time": "2021-07-07T18:15:53.765Z"
   },
   {
    "duration": 15,
    "start_time": "2021-07-07T18:15:53.773Z"
   },
   {
    "duration": 5,
    "start_time": "2021-07-07T18:15:53.791Z"
   },
   {
    "duration": 19,
    "start_time": "2021-07-07T18:15:53.798Z"
   },
   {
    "duration": 9,
    "start_time": "2021-07-07T18:15:53.818Z"
   },
   {
    "duration": 19,
    "start_time": "2021-07-07T18:15:53.828Z"
   },
   {
    "duration": 27,
    "start_time": "2021-07-07T18:15:53.848Z"
   },
   {
    "duration": 16,
    "start_time": "2021-07-07T18:15:53.884Z"
   },
   {
    "duration": 29,
    "start_time": "2021-07-07T18:15:53.901Z"
   },
   {
    "duration": 5,
    "start_time": "2021-07-07T18:15:53.932Z"
   },
   {
    "duration": 15,
    "start_time": "2021-07-07T18:15:53.939Z"
   },
   {
    "duration": 13,
    "start_time": "2021-07-07T18:15:53.956Z"
   },
   {
    "duration": 20,
    "start_time": "2021-07-07T18:15:53.971Z"
   },
   {
    "duration": 14,
    "start_time": "2021-07-07T18:15:53.992Z"
   },
   {
    "duration": 9,
    "start_time": "2021-07-07T18:15:54.009Z"
   },
   {
    "duration": 28,
    "start_time": "2021-07-07T18:15:54.020Z"
   },
   {
    "duration": 50,
    "start_time": "2021-07-07T18:15:54.051Z"
   },
   {
    "duration": 8,
    "start_time": "2021-07-07T18:15:54.105Z"
   },
   {
    "duration": 11,
    "start_time": "2021-07-07T18:15:54.115Z"
   },
   {
    "duration": 20,
    "start_time": "2021-07-07T18:15:54.128Z"
   },
   {
    "duration": 13,
    "start_time": "2021-07-07T18:15:54.184Z"
   },
   {
    "duration": 7,
    "start_time": "2021-07-07T18:15:54.199Z"
   },
   {
    "duration": 7,
    "start_time": "2021-07-07T18:17:08.042Z"
   },
   {
    "duration": 8,
    "start_time": "2021-07-07T18:17:21.008Z"
   },
   {
    "duration": 7,
    "start_time": "2021-07-07T18:17:29.003Z"
   },
   {
    "duration": 8,
    "start_time": "2021-07-07T18:17:32.492Z"
   },
   {
    "duration": 9,
    "start_time": "2021-07-07T18:17:41.758Z"
   },
   {
    "duration": 255,
    "start_time": "2021-07-07T18:20:20.897Z"
   },
   {
    "duration": 173,
    "start_time": "2021-07-07T18:20:26.636Z"
   },
   {
    "duration": 7,
    "start_time": "2021-07-07T18:21:47.164Z"
   },
   {
    "duration": 254,
    "start_time": "2021-07-07T18:23:08.703Z"
   },
   {
    "duration": 21,
    "start_time": "2021-07-07T18:23:22.506Z"
   },
   {
    "duration": 315,
    "start_time": "2021-07-07T18:25:54.801Z"
   },
   {
    "duration": 34,
    "start_time": "2021-07-07T18:26:51.817Z"
   },
   {
    "duration": 327,
    "start_time": "2021-07-07T18:26:56.147Z"
   },
   {
    "duration": 342,
    "start_time": "2021-07-07T18:27:15.887Z"
   },
   {
    "duration": 302,
    "start_time": "2021-07-07T18:28:18.569Z"
   },
   {
    "duration": 226,
    "start_time": "2021-07-07T18:29:20.879Z"
   },
   {
    "duration": 207,
    "start_time": "2021-07-07T18:29:58.114Z"
   },
   {
    "duration": 140,
    "start_time": "2021-07-07T18:32:04.372Z"
   },
   {
    "duration": 158,
    "start_time": "2021-07-07T18:32:32.508Z"
   },
   {
    "duration": 145,
    "start_time": "2021-07-07T18:32:41.365Z"
   },
   {
    "duration": 132,
    "start_time": "2021-07-07T18:32:45.199Z"
   },
   {
    "duration": 11,
    "start_time": "2021-07-07T18:35:24.679Z"
   },
   {
    "duration": 268,
    "start_time": "2021-07-07T18:36:16.145Z"
   },
   {
    "duration": 227,
    "start_time": "2021-07-07T18:37:04.918Z"
   },
   {
    "duration": 3,
    "start_time": "2021-07-07T18:37:33.012Z"
   },
   {
    "duration": 671,
    "start_time": "2021-07-07T18:37:38.295Z"
   },
   {
    "duration": 54,
    "start_time": "2021-07-07T18:37:53.406Z"
   },
   {
    "duration": 631,
    "start_time": "2021-07-07T18:37:56.463Z"
   },
   {
    "duration": 19,
    "start_time": "2021-07-07T18:39:40.535Z"
   },
   {
    "duration": 20,
    "start_time": "2021-07-07T18:40:12.236Z"
   },
   {
    "duration": 633,
    "start_time": "2021-07-07T18:42:00.398Z"
   },
   {
    "duration": 218,
    "start_time": "2021-07-07T18:42:01.033Z"
   },
   {
    "duration": 49,
    "start_time": "2021-07-07T18:42:01.253Z"
   },
   {
    "duration": 5,
    "start_time": "2021-07-07T18:42:01.303Z"
   },
   {
    "duration": 27,
    "start_time": "2021-07-07T18:42:01.310Z"
   },
   {
    "duration": 8,
    "start_time": "2021-07-07T18:42:01.339Z"
   },
   {
    "duration": 20,
    "start_time": "2021-07-07T18:42:01.348Z"
   },
   {
    "duration": 6,
    "start_time": "2021-07-07T18:42:01.386Z"
   },
   {
    "duration": 16,
    "start_time": "2021-07-07T18:42:01.394Z"
   },
   {
    "duration": 9,
    "start_time": "2021-07-07T18:42:01.411Z"
   },
   {
    "duration": 11,
    "start_time": "2021-07-07T18:42:01.421Z"
   },
   {
    "duration": 31,
    "start_time": "2021-07-07T18:42:01.434Z"
   },
   {
    "duration": 18,
    "start_time": "2021-07-07T18:42:01.485Z"
   },
   {
    "duration": 23,
    "start_time": "2021-07-07T18:42:01.505Z"
   },
   {
    "duration": 6,
    "start_time": "2021-07-07T18:42:01.530Z"
   },
   {
    "duration": 10,
    "start_time": "2021-07-07T18:42:01.538Z"
   },
   {
    "duration": 13,
    "start_time": "2021-07-07T18:42:01.550Z"
   },
   {
    "duration": 24,
    "start_time": "2021-07-07T18:42:01.564Z"
   },
   {
    "duration": 20,
    "start_time": "2021-07-07T18:42:01.590Z"
   },
   {
    "duration": 8,
    "start_time": "2021-07-07T18:42:01.611Z"
   },
   {
    "duration": 31,
    "start_time": "2021-07-07T18:42:01.620Z"
   },
   {
    "duration": 39,
    "start_time": "2021-07-07T18:42:01.653Z"
   },
   {
    "duration": 8,
    "start_time": "2021-07-07T18:42:01.696Z"
   },
   {
    "duration": 13,
    "start_time": "2021-07-07T18:42:01.705Z"
   },
   {
    "duration": 20,
    "start_time": "2021-07-07T18:42:01.720Z"
   },
   {
    "duration": 12,
    "start_time": "2021-07-07T18:42:01.741Z"
   },
   {
    "duration": 35,
    "start_time": "2021-07-07T18:42:01.755Z"
   },
   {
    "duration": 14,
    "start_time": "2021-07-07T18:42:01.792Z"
   },
   {
    "duration": 188,
    "start_time": "2021-07-07T18:42:01.808Z"
   },
   {
    "duration": 19,
    "start_time": "2021-07-07T18:42:01.998Z"
   },
   {
    "duration": 175,
    "start_time": "2021-07-07T18:42:02.019Z"
   },
   {
    "duration": 134,
    "start_time": "2021-07-07T18:42:02.196Z"
   },
   {
    "duration": 10,
    "start_time": "2021-07-07T18:42:02.331Z"
   },
   {
    "duration": 19,
    "start_time": "2021-07-07T18:42:02.343Z"
   },
   {
    "duration": 628,
    "start_time": "2021-07-07T18:46:30.701Z"
   },
   {
    "duration": 183,
    "start_time": "2021-07-07T18:46:31.331Z"
   },
   {
    "duration": 48,
    "start_time": "2021-07-07T18:46:31.516Z"
   },
   {
    "duration": 5,
    "start_time": "2021-07-07T18:46:31.566Z"
   },
   {
    "duration": 28,
    "start_time": "2021-07-07T18:46:31.572Z"
   },
   {
    "duration": 8,
    "start_time": "2021-07-07T18:46:31.602Z"
   },
   {
    "duration": 19,
    "start_time": "2021-07-07T18:46:31.611Z"
   },
   {
    "duration": 6,
    "start_time": "2021-07-07T18:46:31.633Z"
   },
   {
    "duration": 17,
    "start_time": "2021-07-07T18:46:31.642Z"
   },
   {
    "duration": 10,
    "start_time": "2021-07-07T18:46:31.684Z"
   },
   {
    "duration": 9,
    "start_time": "2021-07-07T18:46:31.695Z"
   },
   {
    "duration": 28,
    "start_time": "2021-07-07T18:46:31.705Z"
   },
   {
    "duration": 18,
    "start_time": "2021-07-07T18:46:31.735Z"
   },
   {
    "duration": 48,
    "start_time": "2021-07-07T18:46:31.755Z"
   },
   {
    "duration": 6,
    "start_time": "2021-07-07T18:46:31.804Z"
   },
   {
    "duration": 4,
    "start_time": "2021-07-07T18:46:31.812Z"
   },
   {
    "duration": 9,
    "start_time": "2021-07-07T18:46:31.817Z"
   },
   {
    "duration": 10,
    "start_time": "2021-07-07T18:46:31.827Z"
   },
   {
    "duration": 12,
    "start_time": "2021-07-07T18:46:31.838Z"
   },
   {
    "duration": 39,
    "start_time": "2021-07-07T18:46:31.851Z"
   },
   {
    "duration": 24,
    "start_time": "2021-07-07T18:46:31.892Z"
   },
   {
    "duration": 15,
    "start_time": "2021-07-07T18:46:31.918Z"
   },
   {
    "duration": 7,
    "start_time": "2021-07-07T18:46:31.936Z"
   },
   {
    "duration": 8,
    "start_time": "2021-07-07T18:46:31.944Z"
   },
   {
    "duration": 19,
    "start_time": "2021-07-07T18:46:31.984Z"
   },
   {
    "duration": 10,
    "start_time": "2021-07-07T18:46:32.004Z"
   },
   {
    "duration": 5,
    "start_time": "2021-07-07T18:46:32.016Z"
   },
   {
    "duration": 9,
    "start_time": "2021-07-07T18:46:32.023Z"
   },
   {
    "duration": 199,
    "start_time": "2021-07-07T18:46:32.033Z"
   },
   {
    "duration": 19,
    "start_time": "2021-07-07T18:46:32.234Z"
   },
   {
    "duration": 159,
    "start_time": "2021-07-07T18:46:32.255Z"
   },
   {
    "duration": 134,
    "start_time": "2021-07-07T18:46:32.416Z"
   },
   {
    "duration": 10,
    "start_time": "2021-07-07T18:46:32.552Z"
   },
   {
    "duration": 34,
    "start_time": "2021-07-07T18:46:32.563Z"
   },
   {
    "duration": 1039,
    "start_time": "2021-07-08T08:41:09.419Z"
   },
   {
    "duration": 333,
    "start_time": "2021-07-08T08:41:10.459Z"
   },
   {
    "duration": 173,
    "start_time": "2021-07-08T08:41:10.794Z"
   },
   {
    "duration": 5,
    "start_time": "2021-07-08T08:41:10.968Z"
   },
   {
    "duration": 25,
    "start_time": "2021-07-08T08:41:10.975Z"
   },
   {
    "duration": 9,
    "start_time": "2021-07-08T08:41:11.002Z"
   },
   {
    "duration": 18,
    "start_time": "2021-07-08T08:41:11.013Z"
   },
   {
    "duration": 6,
    "start_time": "2021-07-08T08:41:11.033Z"
   },
   {
    "duration": 44,
    "start_time": "2021-07-08T08:41:11.042Z"
   },
   {
    "duration": 10,
    "start_time": "2021-07-08T08:41:11.088Z"
   },
   {
    "duration": 9,
    "start_time": "2021-07-08T08:41:11.100Z"
   },
   {
    "duration": 27,
    "start_time": "2021-07-08T08:41:11.111Z"
   },
   {
    "duration": 46,
    "start_time": "2021-07-08T08:41:11.140Z"
   },
   {
    "duration": 17,
    "start_time": "2021-07-08T08:41:11.187Z"
   },
   {
    "duration": 6,
    "start_time": "2021-07-08T08:41:11.206Z"
   },
   {
    "duration": 5,
    "start_time": "2021-07-08T08:41:11.213Z"
   },
   {
    "duration": 10,
    "start_time": "2021-07-08T08:41:11.219Z"
   },
   {
    "duration": 9,
    "start_time": "2021-07-08T08:41:11.230Z"
   },
   {
    "duration": 45,
    "start_time": "2021-07-08T08:41:11.241Z"
   },
   {
    "duration": 7,
    "start_time": "2021-07-08T08:41:11.287Z"
   },
   {
    "duration": 24,
    "start_time": "2021-07-08T08:41:11.296Z"
   },
   {
    "duration": 16,
    "start_time": "2021-07-08T08:41:11.322Z"
   },
   {
    "duration": 7,
    "start_time": "2021-07-08T08:41:11.341Z"
   },
   {
    "duration": 41,
    "start_time": "2021-07-08T08:41:11.349Z"
   },
   {
    "duration": 17,
    "start_time": "2021-07-08T08:41:11.391Z"
   },
   {
    "duration": 9,
    "start_time": "2021-07-08T08:41:11.410Z"
   },
   {
    "duration": 5,
    "start_time": "2021-07-08T08:41:11.421Z"
   },
   {
    "duration": 6,
    "start_time": "2021-07-08T08:41:11.428Z"
   },
   {
    "duration": 198,
    "start_time": "2021-07-08T08:41:11.435Z"
   },
   {
    "duration": 18,
    "start_time": "2021-07-08T08:41:11.635Z"
   },
   {
    "duration": 155,
    "start_time": "2021-07-08T08:41:11.655Z"
   },
   {
    "duration": 138,
    "start_time": "2021-07-08T08:41:11.811Z"
   },
   {
    "duration": 10,
    "start_time": "2021-07-08T08:41:11.950Z"
   },
   {
    "duration": 29,
    "start_time": "2021-07-08T08:41:11.961Z"
   },
   {
    "duration": 171,
    "start_time": "2021-07-08T08:47:44.522Z"
   },
   {
    "duration": 124,
    "start_time": "2021-07-08T08:47:46.872Z"
   },
   {
    "duration": 191,
    "start_time": "2021-07-08T08:47:58.148Z"
   },
   {
    "duration": 191,
    "start_time": "2021-07-08T08:48:07.412Z"
   },
   {
    "duration": 261,
    "start_time": "2021-07-08T08:48:10.385Z"
   },
   {
    "duration": 255,
    "start_time": "2021-07-08T08:48:14.494Z"
   },
   {
    "duration": 219,
    "start_time": "2021-07-08T08:48:22.752Z"
   },
   {
    "duration": 173,
    "start_time": "2021-07-08T08:49:06.395Z"
   },
   {
    "duration": 180,
    "start_time": "2021-07-08T08:49:21.011Z"
   },
   {
    "duration": 6,
    "start_time": "2021-07-08T08:50:31.697Z"
   },
   {
    "duration": 10,
    "start_time": "2021-07-08T08:50:47.394Z"
   },
   {
    "duration": 11,
    "start_time": "2021-07-08T08:53:49.332Z"
   },
   {
    "duration": 171,
    "start_time": "2021-07-08T08:54:28.408Z"
   },
   {
    "duration": 636,
    "start_time": "2021-07-08T09:02:48.385Z"
   },
   {
    "duration": 227,
    "start_time": "2021-07-08T09:02:49.023Z"
   },
   {
    "duration": 104,
    "start_time": "2021-07-08T09:02:49.252Z"
   },
   {
    "duration": 5,
    "start_time": "2021-07-08T09:02:49.358Z"
   },
   {
    "duration": 27,
    "start_time": "2021-07-08T09:02:49.365Z"
   },
   {
    "duration": 8,
    "start_time": "2021-07-08T09:02:49.394Z"
   },
   {
    "duration": 18,
    "start_time": "2021-07-08T09:02:49.404Z"
   },
   {
    "duration": 6,
    "start_time": "2021-07-08T09:02:49.424Z"
   },
   {
    "duration": 11,
    "start_time": "2021-07-08T09:02:49.433Z"
   },
   {
    "duration": 13,
    "start_time": "2021-07-08T09:02:49.485Z"
   },
   {
    "duration": 9,
    "start_time": "2021-07-08T09:02:49.500Z"
   },
   {
    "duration": 38,
    "start_time": "2021-07-08T09:02:49.511Z"
   },
   {
    "duration": 42,
    "start_time": "2021-07-08T09:02:49.551Z"
   },
   {
    "duration": 21,
    "start_time": "2021-07-08T09:02:49.594Z"
   },
   {
    "duration": 6,
    "start_time": "2021-07-08T09:02:49.616Z"
   },
   {
    "duration": 3,
    "start_time": "2021-07-08T09:02:49.623Z"
   },
   {
    "duration": 9,
    "start_time": "2021-07-08T09:02:49.628Z"
   },
   {
    "duration": 52,
    "start_time": "2021-07-08T09:02:49.638Z"
   },
   {
    "duration": 11,
    "start_time": "2021-07-08T09:02:49.692Z"
   },
   {
    "duration": 8,
    "start_time": "2021-07-08T09:02:49.704Z"
   },
   {
    "duration": 27,
    "start_time": "2021-07-08T09:02:49.713Z"
   },
   {
    "duration": 59,
    "start_time": "2021-07-08T09:02:49.741Z"
   },
   {
    "duration": 8,
    "start_time": "2021-07-08T09:02:49.803Z"
   },
   {
    "duration": 14,
    "start_time": "2021-07-08T09:02:49.813Z"
   },
   {
    "duration": 20,
    "start_time": "2021-07-08T09:02:49.829Z"
   },
   {
    "duration": 44,
    "start_time": "2021-07-08T09:02:49.851Z"
   },
   {
    "duration": 14,
    "start_time": "2021-07-08T09:02:49.896Z"
   },
   {
    "duration": 221,
    "start_time": "2021-07-08T09:02:49.912Z"
   },
   {
    "duration": 6,
    "start_time": "2021-07-08T09:02:50.134Z"
   },
   {
    "duration": 206,
    "start_time": "2021-07-08T09:02:50.142Z"
   },
   {
    "duration": 19,
    "start_time": "2021-07-08T09:02:50.350Z"
   },
   {
    "duration": 21,
    "start_time": "2021-07-08T09:02:50.370Z"
   },
   {
    "duration": 20,
    "start_time": "2021-07-08T09:02:50.393Z"
   },
   {
    "duration": 5,
    "start_time": "2021-07-08T09:02:50.414Z"
   },
   {
    "duration": 5,
    "start_time": "2021-07-08T09:03:34.173Z"
   },
   {
    "duration": 6,
    "start_time": "2021-07-08T09:04:49.062Z"
   },
   {
    "duration": 9,
    "start_time": "2021-07-08T09:04:50.118Z"
   },
   {
    "duration": 14,
    "start_time": "2021-07-08T09:04:58.512Z"
   },
   {
    "duration": 9,
    "start_time": "2021-07-08T09:05:10.988Z"
   },
   {
    "duration": 11,
    "start_time": "2021-07-08T09:05:11.743Z"
   },
   {
    "duration": 7,
    "start_time": "2021-07-08T09:05:25.677Z"
   },
   {
    "duration": 13,
    "start_time": "2021-07-08T09:05:47.189Z"
   },
   {
    "duration": 13,
    "start_time": "2021-07-08T09:05:54.755Z"
   },
   {
    "duration": 4,
    "start_time": "2021-07-08T09:06:29.189Z"
   },
   {
    "duration": 244,
    "start_time": "2021-07-08T09:06:29.195Z"
   },
   {
    "duration": 91,
    "start_time": "2021-07-08T09:06:29.441Z"
   },
   {
    "duration": 4,
    "start_time": "2021-07-08T09:06:29.534Z"
   },
   {
    "duration": 28,
    "start_time": "2021-07-08T09:06:29.540Z"
   },
   {
    "duration": 6,
    "start_time": "2021-07-08T09:06:29.570Z"
   },
   {
    "duration": 18,
    "start_time": "2021-07-08T09:06:29.578Z"
   },
   {
    "duration": 5,
    "start_time": "2021-07-08T09:06:29.597Z"
   },
   {
    "duration": 13,
    "start_time": "2021-07-08T09:06:29.605Z"
   },
   {
    "duration": 8,
    "start_time": "2021-07-08T09:06:29.620Z"
   },
   {
    "duration": 7,
    "start_time": "2021-07-08T09:06:29.630Z"
   },
   {
    "duration": 63,
    "start_time": "2021-07-08T09:06:29.639Z"
   },
   {
    "duration": 17,
    "start_time": "2021-07-08T09:06:29.704Z"
   },
   {
    "duration": 20,
    "start_time": "2021-07-08T09:06:29.723Z"
   },
   {
    "duration": 6,
    "start_time": "2021-07-08T09:06:29.745Z"
   },
   {
    "duration": 3,
    "start_time": "2021-07-08T09:06:29.752Z"
   },
   {
    "duration": 7,
    "start_time": "2021-07-08T09:06:29.785Z"
   },
   {
    "duration": 11,
    "start_time": "2021-07-08T09:06:29.794Z"
   },
   {
    "duration": 15,
    "start_time": "2021-07-08T09:06:29.807Z"
   },
   {
    "duration": 8,
    "start_time": "2021-07-08T09:06:29.823Z"
   },
   {
    "duration": 70,
    "start_time": "2021-07-08T09:06:29.832Z"
   },
   {
    "duration": 17,
    "start_time": "2021-07-08T09:06:29.903Z"
   },
   {
    "duration": 9,
    "start_time": "2021-07-08T09:06:29.921Z"
   },
   {
    "duration": 9,
    "start_time": "2021-07-08T09:06:29.932Z"
   },
   {
    "duration": 57,
    "start_time": "2021-07-08T09:06:29.942Z"
   },
   {
    "duration": 11,
    "start_time": "2021-07-08T09:06:30.001Z"
   },
   {
    "duration": 19,
    "start_time": "2021-07-08T09:06:30.016Z"
   },
   {
    "duration": 217,
    "start_time": "2021-07-08T09:06:30.037Z"
   },
   {
    "duration": 6,
    "start_time": "2021-07-08T09:06:30.255Z"
   },
   {
    "duration": 205,
    "start_time": "2021-07-08T09:06:30.263Z"
   },
   {
    "duration": 27,
    "start_time": "2021-07-08T09:06:30.470Z"
   },
   {
    "duration": 11,
    "start_time": "2021-07-08T09:06:30.500Z"
   },
   {
    "duration": 31,
    "start_time": "2021-07-08T09:06:30.513Z"
   },
   {
    "duration": 18,
    "start_time": "2021-07-08T09:06:30.546Z"
   },
   {
    "duration": 11,
    "start_time": "2021-07-08T09:06:30.566Z"
   },
   {
    "duration": 19,
    "start_time": "2021-07-08T09:06:30.579Z"
   },
   {
    "duration": 20,
    "start_time": "2021-07-08T09:06:49.466Z"
   },
   {
    "duration": 9,
    "start_time": "2021-07-08T09:06:51.994Z"
   },
   {
    "duration": 20,
    "start_time": "2021-07-08T09:06:52.273Z"
   },
   {
    "duration": 246,
    "start_time": "2021-07-08T09:10:21.272Z"
   },
   {
    "duration": 84,
    "start_time": "2021-07-08T09:10:21.436Z"
   },
   {
    "duration": 7,
    "start_time": "2021-07-08T09:10:37.608Z"
   },
   {
    "duration": 189,
    "start_time": "2021-07-08T09:10:38.573Z"
   },
   {
    "duration": 185,
    "start_time": "2021-07-08T09:10:53.181Z"
   },
   {
    "duration": 11,
    "start_time": "2021-07-08T09:10:59.549Z"
   },
   {
    "duration": 42,
    "start_time": "2021-07-08T09:10:59.709Z"
   },
   {
    "duration": 12,
    "start_time": "2021-07-08T09:11:02.857Z"
   },
   {
    "duration": 28,
    "start_time": "2021-07-08T09:11:10.062Z"
   },
   {
    "duration": 249,
    "start_time": "2021-07-08T09:11:37.388Z"
   },
   {
    "duration": 232,
    "start_time": "2021-07-08T09:11:49.485Z"
   },
   {
    "duration": 453,
    "start_time": "2021-07-08T09:12:01.546Z"
   },
   {
    "duration": 440,
    "start_time": "2021-07-08T09:12:12.347Z"
   },
   {
    "duration": 213,
    "start_time": "2021-07-08T09:13:32.196Z"
   },
   {
    "duration": 172,
    "start_time": "2021-07-08T09:14:07.400Z"
   },
   {
    "duration": 185,
    "start_time": "2021-07-08T09:14:14.905Z"
   },
   {
    "duration": 209,
    "start_time": "2021-07-08T09:14:40.109Z"
   },
   {
    "duration": 201,
    "start_time": "2021-07-08T09:14:54.506Z"
   },
   {
    "duration": 622,
    "start_time": "2021-07-08T09:18:14.497Z"
   },
   {
    "duration": 220,
    "start_time": "2021-07-08T09:18:15.121Z"
   },
   {
    "duration": 79,
    "start_time": "2021-07-08T09:18:15.343Z"
   },
   {
    "duration": 4,
    "start_time": "2021-07-08T09:18:15.425Z"
   },
   {
    "duration": 24,
    "start_time": "2021-07-08T09:18:15.431Z"
   },
   {
    "duration": 8,
    "start_time": "2021-07-08T09:18:15.457Z"
   },
   {
    "duration": 16,
    "start_time": "2021-07-08T09:18:15.466Z"
   },
   {
    "duration": 5,
    "start_time": "2021-07-08T09:18:15.484Z"
   },
   {
    "duration": 10,
    "start_time": "2021-07-08T09:18:15.493Z"
   },
   {
    "duration": 8,
    "start_time": "2021-07-08T09:18:15.504Z"
   },
   {
    "duration": 7,
    "start_time": "2021-07-08T09:18:15.513Z"
   },
   {
    "duration": 26,
    "start_time": "2021-07-08T09:18:15.522Z"
   },
   {
    "duration": 49,
    "start_time": "2021-07-08T09:18:15.550Z"
   },
   {
    "duration": 21,
    "start_time": "2021-07-08T09:18:15.601Z"
   },
   {
    "duration": 8,
    "start_time": "2021-07-08T09:18:15.624Z"
   },
   {
    "duration": 3,
    "start_time": "2021-07-08T09:18:15.634Z"
   },
   {
    "duration": 8,
    "start_time": "2021-07-08T09:18:15.639Z"
   },
   {
    "duration": 45,
    "start_time": "2021-07-08T09:18:15.649Z"
   },
   {
    "duration": 13,
    "start_time": "2021-07-08T09:18:15.696Z"
   },
   {
    "duration": 10,
    "start_time": "2021-07-08T09:18:15.711Z"
   },
   {
    "duration": 64,
    "start_time": "2021-07-08T09:18:15.722Z"
   },
   {
    "duration": 19,
    "start_time": "2021-07-08T09:18:15.788Z"
   },
   {
    "duration": 9,
    "start_time": "2021-07-08T09:18:15.809Z"
   },
   {
    "duration": 9,
    "start_time": "2021-07-08T09:18:15.820Z"
   },
   {
    "duration": 18,
    "start_time": "2021-07-08T09:18:15.831Z"
   },
   {
    "duration": 43,
    "start_time": "2021-07-08T09:18:15.851Z"
   },
   {
    "duration": 12,
    "start_time": "2021-07-08T09:18:15.897Z"
   },
   {
    "duration": 219,
    "start_time": "2021-07-08T09:18:15.911Z"
   },
   {
    "duration": 8,
    "start_time": "2021-07-08T09:18:16.132Z"
   },
   {
    "duration": 199,
    "start_time": "2021-07-08T09:18:16.141Z"
   },
   {
    "duration": 18,
    "start_time": "2021-07-08T09:18:16.341Z"
   },
   {
    "duration": 24,
    "start_time": "2021-07-08T09:18:16.361Z"
   },
   {
    "duration": 24,
    "start_time": "2021-07-08T09:18:16.387Z"
   },
   {
    "duration": 211,
    "start_time": "2021-07-08T09:18:16.413Z"
   },
   {
    "duration": 18,
    "start_time": "2021-07-08T09:18:16.626Z"
   },
   {
    "duration": 596,
    "start_time": "2021-07-08T10:06:33.623Z"
   },
   {
    "duration": 181,
    "start_time": "2021-07-08T10:06:34.221Z"
   },
   {
    "duration": 176,
    "start_time": "2021-07-08T10:06:34.635Z"
   },
   {
    "duration": 239,
    "start_time": "2021-07-08T10:06:55.572Z"
   },
   {
    "duration": 6,
    "start_time": "2021-07-08T10:06:57.687Z"
   },
   {
    "duration": 4,
    "start_time": "2021-07-08T10:07:03.956Z"
   },
   {
    "duration": 4,
    "start_time": "2021-07-08T10:07:10.376Z"
   },
   {
    "duration": 4,
    "start_time": "2021-07-08T10:17:19.889Z"
   },
   {
    "duration": 3,
    "start_time": "2021-07-08T10:19:19.407Z"
   },
   {
    "duration": 197,
    "start_time": "2021-07-08T10:19:19.412Z"
   },
   {
    "duration": 127,
    "start_time": "2021-07-08T10:19:19.611Z"
   },
   {
    "duration": 4,
    "start_time": "2021-07-08T10:19:19.740Z"
   },
   {
    "duration": 27,
    "start_time": "2021-07-08T10:19:19.746Z"
   },
   {
    "duration": 7,
    "start_time": "2021-07-08T10:19:19.775Z"
   },
   {
    "duration": 30,
    "start_time": "2021-07-08T10:19:19.784Z"
   },
   {
    "duration": 7,
    "start_time": "2021-07-08T10:19:19.817Z"
   },
   {
    "duration": 26,
    "start_time": "2021-07-08T10:19:19.826Z"
   },
   {
    "duration": 18,
    "start_time": "2021-07-08T10:19:19.854Z"
   },
   {
    "duration": 14,
    "start_time": "2021-07-08T10:19:19.874Z"
   },
   {
    "duration": 48,
    "start_time": "2021-07-08T10:19:19.890Z"
   },
   {
    "duration": 17,
    "start_time": "2021-07-08T10:19:19.940Z"
   },
   {
    "duration": 38,
    "start_time": "2021-07-08T10:19:19.959Z"
   },
   {
    "duration": 8,
    "start_time": "2021-07-08T10:19:19.999Z"
   },
   {
    "duration": 15,
    "start_time": "2021-07-08T10:19:20.009Z"
   },
   {
    "duration": 22,
    "start_time": "2021-07-08T10:19:20.026Z"
   },
   {
    "duration": 10,
    "start_time": "2021-07-08T10:19:20.050Z"
   },
   {
    "duration": 10,
    "start_time": "2021-07-08T10:19:20.062Z"
   },
   {
    "duration": 20,
    "start_time": "2021-07-08T10:19:20.073Z"
   },
   {
    "duration": 29,
    "start_time": "2021-07-08T10:19:20.095Z"
   },
   {
    "duration": 17,
    "start_time": "2021-07-08T10:19:20.126Z"
   },
   {
    "duration": 40,
    "start_time": "2021-07-08T10:19:20.146Z"
   },
   {
    "duration": 15,
    "start_time": "2021-07-08T10:19:20.189Z"
   },
   {
    "duration": 19,
    "start_time": "2021-07-08T10:19:20.206Z"
   },
   {
    "duration": 10,
    "start_time": "2021-07-08T10:19:20.226Z"
   },
   {
    "duration": 11,
    "start_time": "2021-07-08T10:19:20.238Z"
   },
   {
    "duration": 297,
    "start_time": "2021-07-08T10:19:20.250Z"
   },
   {
    "duration": 6,
    "start_time": "2021-07-08T10:19:20.549Z"
   },
   {
    "duration": 191,
    "start_time": "2021-07-08T10:19:20.557Z"
   },
   {
    "duration": 19,
    "start_time": "2021-07-08T10:19:20.750Z"
   },
   {
    "duration": 20,
    "start_time": "2021-07-08T10:19:20.771Z"
   },
   {
    "duration": 15,
    "start_time": "2021-07-08T10:19:20.793Z"
   },
   {
    "duration": 222,
    "start_time": "2021-07-08T10:19:20.809Z"
   },
   {
    "duration": 20,
    "start_time": "2021-07-08T10:19:21.033Z"
   },
   {
    "duration": 27,
    "start_time": "2021-07-08T10:45:04.055Z"
   },
   {
    "duration": 8,
    "start_time": "2021-07-08T10:45:08.478Z"
   },
   {
    "duration": 8,
    "start_time": "2021-07-08T10:45:31.982Z"
   },
   {
    "duration": 10,
    "start_time": "2021-07-08T10:46:01.221Z"
   },
   {
    "duration": 17,
    "start_time": "2021-07-08T10:46:40.011Z"
   },
   {
    "duration": 193,
    "start_time": "2021-07-08T10:48:19.471Z"
   },
   {
    "duration": 225,
    "start_time": "2021-07-08T10:49:26.480Z"
   },
   {
    "duration": 204,
    "start_time": "2021-07-08T10:49:59.992Z"
   },
   {
    "duration": 435,
    "start_time": "2021-07-08T10:50:06.779Z"
   },
   {
    "duration": 199,
    "start_time": "2021-07-08T10:50:14.891Z"
   },
   {
    "duration": 204,
    "start_time": "2021-07-08T10:50:18.501Z"
   },
   {
    "duration": 244,
    "start_time": "2021-07-08T10:50:23.359Z"
   },
   {
    "duration": 192,
    "start_time": "2021-07-08T10:50:29.135Z"
   },
   {
    "duration": 218,
    "start_time": "2021-07-08T10:50:33.092Z"
   },
   {
    "duration": 207,
    "start_time": "2021-07-08T10:52:45.381Z"
   },
   {
    "duration": 5,
    "start_time": "2021-07-08T10:53:34.641Z"
   },
   {
    "duration": 196,
    "start_time": "2021-07-08T10:53:41.478Z"
   },
   {
    "duration": 43,
    "start_time": "2021-07-08T10:53:50.335Z"
   },
   {
    "duration": 32,
    "start_time": "2021-07-08T10:53:55.294Z"
   },
   {
    "duration": 55,
    "start_time": "2021-07-08T10:54:09.675Z"
   },
   {
    "duration": 16,
    "start_time": "2021-07-08T10:54:12.260Z"
   },
   {
    "duration": 15,
    "start_time": "2021-07-08T10:54:49.150Z"
   },
   {
    "duration": 20,
    "start_time": "2021-07-08T10:56:07.596Z"
   },
   {
    "duration": 16,
    "start_time": "2021-07-08T10:58:26.276Z"
   },
   {
    "duration": 22,
    "start_time": "2021-07-08T10:59:00.486Z"
   },
   {
    "duration": 18,
    "start_time": "2021-07-08T11:02:09.653Z"
   },
   {
    "duration": 10,
    "start_time": "2021-07-08T11:03:44.331Z"
   },
   {
    "duration": 10,
    "start_time": "2021-07-08T11:03:54.055Z"
   },
   {
    "duration": 12,
    "start_time": "2021-07-08T11:04:41.967Z"
   },
   {
    "duration": 24,
    "start_time": "2021-07-08T11:07:30.732Z"
   },
   {
    "duration": 6,
    "start_time": "2021-07-08T11:07:37.364Z"
   },
   {
    "duration": 16,
    "start_time": "2021-07-08T11:08:01.819Z"
   },
   {
    "duration": 17,
    "start_time": "2021-07-08T11:09:47.488Z"
   },
   {
    "duration": 246,
    "start_time": "2021-07-08T11:10:00.830Z"
   },
   {
    "duration": 18,
    "start_time": "2021-07-08T11:13:55.195Z"
   },
   {
    "duration": 204,
    "start_time": "2021-07-08T11:14:04.951Z"
   },
   {
    "duration": 19,
    "start_time": "2021-07-08T11:15:10.613Z"
   },
   {
    "duration": 680,
    "start_time": "2021-07-08T11:16:25.793Z"
   },
   {
    "duration": 451,
    "start_time": "2021-07-08T11:16:40.313Z"
   },
   {
    "duration": 469,
    "start_time": "2021-07-08T11:17:21.286Z"
   },
   {
    "duration": 20,
    "start_time": "2021-07-08T11:19:12.554Z"
   },
   {
    "duration": 35,
    "start_time": "2021-07-08T11:20:05.484Z"
   },
   {
    "duration": 53,
    "start_time": "2021-07-08T11:21:40.050Z"
   },
   {
    "duration": 13,
    "start_time": "2021-07-08T11:22:26.059Z"
   },
   {
    "duration": 19,
    "start_time": "2021-07-08T11:22:47.419Z"
   },
   {
    "duration": 25,
    "start_time": "2021-07-08T11:23:19.958Z"
   },
   {
    "duration": 29,
    "start_time": "2021-07-08T11:23:25.415Z"
   },
   {
    "duration": 10,
    "start_time": "2021-07-08T11:24:45.138Z"
   },
   {
    "duration": 19,
    "start_time": "2021-07-08T11:24:54.498Z"
   },
   {
    "duration": 12,
    "start_time": "2021-07-08T11:25:32.225Z"
   },
   {
    "duration": 19,
    "start_time": "2021-07-08T11:25:37.092Z"
   },
   {
    "duration": 17,
    "start_time": "2021-07-08T11:25:58.116Z"
   },
   {
    "duration": 15,
    "start_time": "2021-07-08T11:26:02.258Z"
   },
   {
    "duration": 8,
    "start_time": "2021-07-08T11:26:59.682Z"
   },
   {
    "duration": 184,
    "start_time": "2021-07-08T11:27:21.894Z"
   },
   {
    "duration": 8,
    "start_time": "2021-07-08T11:27:23.824Z"
   },
   {
    "duration": 202,
    "start_time": "2021-07-08T11:27:23.962Z"
   },
   {
    "duration": 360,
    "start_time": "2021-07-08T11:28:33.215Z"
   },
   {
    "duration": 231,
    "start_time": "2021-07-08T11:32:05.542Z"
   },
   {
    "duration": 607,
    "start_time": "2021-07-08T11:36:27.854Z"
   },
   {
    "duration": 241,
    "start_time": "2021-07-08T11:36:28.463Z"
   },
   {
    "duration": 67,
    "start_time": "2021-07-08T11:36:28.709Z"
   },
   {
    "duration": 5,
    "start_time": "2021-07-08T11:36:28.778Z"
   },
   {
    "duration": 32,
    "start_time": "2021-07-08T11:36:28.784Z"
   },
   {
    "duration": 11,
    "start_time": "2021-07-08T11:36:28.819Z"
   },
   {
    "duration": 20,
    "start_time": "2021-07-08T11:36:28.834Z"
   },
   {
    "duration": 36,
    "start_time": "2021-07-08T11:36:28.857Z"
   },
   {
    "duration": 16,
    "start_time": "2021-07-08T11:36:28.895Z"
   },
   {
    "duration": 14,
    "start_time": "2021-07-08T11:36:28.913Z"
   },
   {
    "duration": 9,
    "start_time": "2021-07-08T11:36:28.930Z"
   },
   {
    "duration": 55,
    "start_time": "2021-07-08T11:36:28.941Z"
   },
   {
    "duration": 27,
    "start_time": "2021-07-08T11:36:28.999Z"
   },
   {
    "duration": 30,
    "start_time": "2021-07-08T11:36:29.028Z"
   },
   {
    "duration": 31,
    "start_time": "2021-07-08T11:36:29.060Z"
   },
   {
    "duration": 3,
    "start_time": "2021-07-08T11:36:29.093Z"
   },
   {
    "duration": 12,
    "start_time": "2021-07-08T11:36:29.099Z"
   },
   {
    "duration": 11,
    "start_time": "2021-07-08T11:36:29.112Z"
   },
   {
    "duration": 12,
    "start_time": "2021-07-08T11:36:29.125Z"
   },
   {
    "duration": 9,
    "start_time": "2021-07-08T11:36:29.139Z"
   },
   {
    "duration": 31,
    "start_time": "2021-07-08T11:36:29.191Z"
   },
   {
    "duration": 17,
    "start_time": "2021-07-08T11:36:29.226Z"
   },
   {
    "duration": 7,
    "start_time": "2021-07-08T11:36:29.245Z"
   },
   {
    "duration": 10,
    "start_time": "2021-07-08T11:36:29.254Z"
   },
   {
    "duration": 30,
    "start_time": "2021-07-08T11:36:29.292Z"
   },
   {
    "duration": 11,
    "start_time": "2021-07-08T11:36:29.324Z"
   },
   {
    "duration": 11,
    "start_time": "2021-07-08T11:36:29.337Z"
   },
   {
    "duration": 230,
    "start_time": "2021-07-08T11:36:29.349Z"
   },
   {
    "duration": 13,
    "start_time": "2021-07-08T11:36:29.588Z"
   },
   {
    "duration": 205,
    "start_time": "2021-07-08T11:36:29.603Z"
   },
   {
    "duration": 20,
    "start_time": "2021-07-08T11:36:29.810Z"
   },
   {
    "duration": 9,
    "start_time": "2021-07-08T11:36:29.832Z"
   },
   {
    "duration": 16,
    "start_time": "2021-07-08T11:36:29.843Z"
   },
   {
    "duration": 283,
    "start_time": "2021-07-08T11:36:29.861Z"
   },
   {
    "duration": 50,
    "start_time": "2021-07-08T11:36:30.146Z"
   },
   {
    "duration": 14,
    "start_time": "2021-07-08T11:36:30.198Z"
   },
   {
    "duration": 11,
    "start_time": "2021-07-08T11:36:30.214Z"
   },
   {
    "duration": 245,
    "start_time": "2021-07-08T11:36:30.227Z"
   },
   {
    "duration": 439,
    "start_time": "2021-07-08T11:36:30.474Z"
   },
   {
    "duration": 210,
    "start_time": "2021-07-08T11:36:30.915Z"
   },
   {
    "duration": 15,
    "start_time": "2021-07-08T11:36:31.127Z"
   },
   {
    "duration": 17,
    "start_time": "2021-07-08T11:38:20.451Z"
   },
   {
    "duration": 642,
    "start_time": "2021-07-08T11:46:17.881Z"
   },
   {
    "duration": 210,
    "start_time": "2021-07-08T11:46:18.525Z"
   },
   {
    "duration": 104,
    "start_time": "2021-07-08T11:46:18.741Z"
   },
   {
    "duration": 8,
    "start_time": "2021-07-08T11:46:18.847Z"
   },
   {
    "duration": 25,
    "start_time": "2021-07-08T11:46:18.857Z"
   },
   {
    "duration": 14,
    "start_time": "2021-07-08T11:46:18.884Z"
   },
   {
    "duration": 22,
    "start_time": "2021-07-08T11:46:18.900Z"
   },
   {
    "duration": 5,
    "start_time": "2021-07-08T11:46:18.924Z"
   },
   {
    "duration": 13,
    "start_time": "2021-07-08T11:46:18.931Z"
   },
   {
    "duration": 45,
    "start_time": "2021-07-08T11:46:18.946Z"
   },
   {
    "duration": 12,
    "start_time": "2021-07-08T11:46:18.993Z"
   },
   {
    "duration": 38,
    "start_time": "2021-07-08T11:46:19.006Z"
   },
   {
    "duration": 50,
    "start_time": "2021-07-08T11:46:19.046Z"
   },
   {
    "duration": 29,
    "start_time": "2021-07-08T11:46:19.099Z"
   },
   {
    "duration": 7,
    "start_time": "2021-07-08T11:46:19.130Z"
   },
   {
    "duration": 3,
    "start_time": "2021-07-08T11:46:19.139Z"
   },
   {
    "duration": 11,
    "start_time": "2021-07-08T11:46:19.144Z"
   },
   {
    "duration": 40,
    "start_time": "2021-07-08T11:46:19.157Z"
   },
   {
    "duration": 15,
    "start_time": "2021-07-08T11:46:19.199Z"
   },
   {
    "duration": 10,
    "start_time": "2021-07-08T11:46:19.217Z"
   },
   {
    "duration": 68,
    "start_time": "2021-07-08T11:46:19.230Z"
   },
   {
    "duration": 17,
    "start_time": "2021-07-08T11:46:19.301Z"
   },
   {
    "duration": 7,
    "start_time": "2021-07-08T11:46:19.321Z"
   },
   {
    "duration": 11,
    "start_time": "2021-07-08T11:46:19.330Z"
   },
   {
    "duration": 59,
    "start_time": "2021-07-08T11:46:19.343Z"
   },
   {
    "duration": 17,
    "start_time": "2021-07-08T11:46:19.405Z"
   },
   {
    "duration": 16,
    "start_time": "2021-07-08T11:46:19.424Z"
   },
   {
    "duration": 252,
    "start_time": "2021-07-08T11:46:19.443Z"
   },
   {
    "duration": 9,
    "start_time": "2021-07-08T11:46:19.697Z"
   },
   {
    "duration": 224,
    "start_time": "2021-07-08T11:46:19.708Z"
   },
   {
    "duration": 21,
    "start_time": "2021-07-08T11:46:19.934Z"
   },
   {
    "duration": 9,
    "start_time": "2021-07-08T11:46:19.956Z"
   },
   {
    "duration": 32,
    "start_time": "2021-07-08T11:46:19.967Z"
   },
   {
    "duration": 288,
    "start_time": "2021-07-08T11:46:20.004Z"
   },
   {
    "duration": 23,
    "start_time": "2021-07-08T11:46:20.300Z"
   },
   {
    "duration": 11,
    "start_time": "2021-07-08T11:46:20.325Z"
   },
   {
    "duration": 11,
    "start_time": "2021-07-08T11:46:20.339Z"
   },
   {
    "duration": 259,
    "start_time": "2021-07-08T11:46:20.352Z"
   },
   {
    "duration": 438,
    "start_time": "2021-07-08T11:46:20.613Z"
   },
   {
    "duration": 207,
    "start_time": "2021-07-08T11:46:21.054Z"
   },
   {
    "duration": 27,
    "start_time": "2021-07-08T11:46:21.262Z"
   },
   {
    "duration": 19,
    "start_time": "2021-07-08T11:46:21.291Z"
   },
   {
    "duration": 820,
    "start_time": "2021-07-08T11:49:01.655Z"
   },
   {
    "duration": 372,
    "start_time": "2021-07-08T11:49:02.478Z"
   },
   {
    "duration": 98,
    "start_time": "2021-07-08T11:49:02.853Z"
   },
   {
    "duration": 6,
    "start_time": "2021-07-08T11:49:02.953Z"
   },
   {
    "duration": 39,
    "start_time": "2021-07-08T11:49:02.960Z"
   },
   {
    "duration": 9,
    "start_time": "2021-07-08T11:49:03.003Z"
   },
   {
    "duration": 23,
    "start_time": "2021-07-08T11:49:03.014Z"
   },
   {
    "duration": 6,
    "start_time": "2021-07-08T11:49:03.041Z"
   },
   {
    "duration": 20,
    "start_time": "2021-07-08T11:49:03.049Z"
   },
   {
    "duration": 18,
    "start_time": "2021-07-08T11:49:03.084Z"
   },
   {
    "duration": 14,
    "start_time": "2021-07-08T11:49:03.104Z"
   },
   {
    "duration": 39,
    "start_time": "2021-07-08T11:49:03.119Z"
   },
   {
    "duration": 38,
    "start_time": "2021-07-08T11:49:03.160Z"
   },
   {
    "duration": 26,
    "start_time": "2021-07-08T11:49:03.200Z"
   },
   {
    "duration": 7,
    "start_time": "2021-07-08T11:49:03.227Z"
   },
   {
    "duration": 4,
    "start_time": "2021-07-08T11:49:03.236Z"
   },
   {
    "duration": 15,
    "start_time": "2021-07-08T11:49:03.243Z"
   },
   {
    "duration": 21,
    "start_time": "2021-07-08T11:49:03.285Z"
   },
   {
    "duration": 17,
    "start_time": "2021-07-08T11:49:03.309Z"
   },
   {
    "duration": 10,
    "start_time": "2021-07-08T11:49:03.328Z"
   },
   {
    "duration": 65,
    "start_time": "2021-07-08T11:49:03.340Z"
   },
   {
    "duration": 18,
    "start_time": "2021-07-08T11:49:03.407Z"
   },
   {
    "duration": 8,
    "start_time": "2021-07-08T11:49:03.428Z"
   },
   {
    "duration": 15,
    "start_time": "2021-07-08T11:49:03.438Z"
   },
   {
    "duration": 40,
    "start_time": "2021-07-08T11:49:03.455Z"
   },
   {
    "duration": 12,
    "start_time": "2021-07-08T11:49:03.497Z"
   },
   {
    "duration": 29,
    "start_time": "2021-07-08T11:49:03.511Z"
   },
   {
    "duration": 285,
    "start_time": "2021-07-08T11:49:03.542Z"
   },
   {
    "duration": 8,
    "start_time": "2021-07-08T11:49:03.829Z"
   },
   {
    "duration": 227,
    "start_time": "2021-07-08T11:49:03.838Z"
   },
   {
    "duration": 40,
    "start_time": "2021-07-08T11:49:04.066Z"
   },
   {
    "duration": 10,
    "start_time": "2021-07-08T11:49:04.108Z"
   },
   {
    "duration": 26,
    "start_time": "2021-07-08T11:49:04.121Z"
   },
   {
    "duration": 290,
    "start_time": "2021-07-08T11:49:04.149Z"
   },
   {
    "duration": 26,
    "start_time": "2021-07-08T11:49:04.441Z"
   },
   {
    "duration": 31,
    "start_time": "2021-07-08T11:49:04.470Z"
   },
   {
    "duration": 14,
    "start_time": "2021-07-08T11:49:04.503Z"
   },
   {
    "duration": 259,
    "start_time": "2021-07-08T11:49:04.521Z"
   },
   {
    "duration": 480,
    "start_time": "2021-07-08T11:49:04.782Z"
   },
   {
    "duration": 225,
    "start_time": "2021-07-08T11:49:05.264Z"
   },
   {
    "duration": 22,
    "start_time": "2021-07-08T11:49:05.491Z"
   },
   {
    "duration": 24,
    "start_time": "2021-07-08T11:49:05.515Z"
   },
   {
    "duration": 634,
    "start_time": "2021-07-08T11:52:24.960Z"
   },
   {
    "duration": 199,
    "start_time": "2021-07-08T11:52:25.599Z"
   },
   {
    "duration": 106,
    "start_time": "2021-07-08T11:52:25.803Z"
   },
   {
    "duration": 7,
    "start_time": "2021-07-08T11:52:25.911Z"
   },
   {
    "duration": 29,
    "start_time": "2021-07-08T11:52:25.920Z"
   },
   {
    "duration": 7,
    "start_time": "2021-07-08T11:52:25.951Z"
   },
   {
    "duration": 26,
    "start_time": "2021-07-08T11:52:25.961Z"
   },
   {
    "duration": 11,
    "start_time": "2021-07-08T11:52:25.990Z"
   },
   {
    "duration": 29,
    "start_time": "2021-07-08T11:52:26.005Z"
   },
   {
    "duration": 9,
    "start_time": "2021-07-08T11:52:26.036Z"
   },
   {
    "duration": 8,
    "start_time": "2021-07-08T11:52:26.047Z"
   },
   {
    "duration": 63,
    "start_time": "2021-07-08T11:52:26.057Z"
   },
   {
    "duration": 17,
    "start_time": "2021-07-08T11:52:26.122Z"
   },
   {
    "duration": 43,
    "start_time": "2021-07-08T11:52:26.142Z"
   },
   {
    "duration": 17,
    "start_time": "2021-07-08T11:52:26.187Z"
   },
   {
    "duration": 5,
    "start_time": "2021-07-08T11:52:26.206Z"
   },
   {
    "duration": 12,
    "start_time": "2021-07-08T11:52:26.212Z"
   },
   {
    "duration": 11,
    "start_time": "2021-07-08T11:52:26.226Z"
   },
   {
    "duration": 12,
    "start_time": "2021-07-08T11:52:26.238Z"
   },
   {
    "duration": 38,
    "start_time": "2021-07-08T11:52:26.252Z"
   },
   {
    "duration": 40,
    "start_time": "2021-07-08T11:52:26.292Z"
   },
   {
    "duration": 17,
    "start_time": "2021-07-08T11:52:26.336Z"
   },
   {
    "duration": 39,
    "start_time": "2021-07-08T11:52:26.355Z"
   },
   {
    "duration": 11,
    "start_time": "2021-07-08T11:52:26.395Z"
   },
   {
    "duration": 23,
    "start_time": "2021-07-08T11:52:26.408Z"
   },
   {
    "duration": 12,
    "start_time": "2021-07-08T11:52:26.432Z"
   },
   {
    "duration": 41,
    "start_time": "2021-07-08T11:52:26.446Z"
   },
   {
    "duration": 215,
    "start_time": "2021-07-08T11:52:26.493Z"
   },
   {
    "duration": 8,
    "start_time": "2021-07-08T11:52:26.710Z"
   },
   {
    "duration": 228,
    "start_time": "2021-07-08T11:52:26.720Z"
   },
   {
    "duration": 18,
    "start_time": "2021-07-08T11:52:26.950Z"
   },
   {
    "duration": 35,
    "start_time": "2021-07-08T11:52:26.969Z"
   },
   {
    "duration": 23,
    "start_time": "2021-07-08T11:52:27.006Z"
   },
   {
    "duration": 258,
    "start_time": "2021-07-08T11:52:27.030Z"
   },
   {
    "duration": 24,
    "start_time": "2021-07-08T11:52:27.290Z"
   },
   {
    "duration": 12,
    "start_time": "2021-07-08T11:52:27.316Z"
   },
   {
    "duration": 10,
    "start_time": "2021-07-08T11:52:27.329Z"
   },
   {
    "duration": 298,
    "start_time": "2021-07-08T11:52:27.341Z"
   },
   {
    "duration": 436,
    "start_time": "2021-07-08T11:52:27.641Z"
   },
   {
    "duration": 216,
    "start_time": "2021-07-08T11:52:28.079Z"
   },
   {
    "duration": 20,
    "start_time": "2021-07-08T11:52:28.297Z"
   },
   {
    "duration": 17,
    "start_time": "2021-07-08T11:52:28.319Z"
   },
   {
    "duration": 1362,
    "start_time": "2022-09-06T13:57:44.286Z"
   },
   {
    "duration": 185,
    "start_time": "2022-09-06T13:58:12.219Z"
   },
   {
    "duration": 153,
    "start_time": "2022-09-06T13:58:36.153Z"
   },
   {
    "duration": 15,
    "start_time": "2022-09-06T14:00:20.186Z"
   },
   {
    "duration": 16,
    "start_time": "2022-09-06T14:00:31.089Z"
   },
   {
    "duration": 28,
    "start_time": "2022-09-06T14:00:51.058Z"
   },
   {
    "duration": 15,
    "start_time": "2022-09-06T14:01:55.640Z"
   },
   {
    "duration": 81,
    "start_time": "2022-09-06T14:12:47.279Z"
   },
   {
    "duration": 406,
    "start_time": "2022-09-06T14:13:04.681Z"
   },
   {
    "duration": 325,
    "start_time": "2022-09-06T14:13:12.652Z"
   },
   {
    "duration": 414,
    "start_time": "2022-09-06T14:13:24.026Z"
   },
   {
    "duration": 2638,
    "start_time": "2022-09-06T14:15:17.105Z"
   },
   {
    "duration": 0,
    "start_time": "2022-09-06T14:15:19.745Z"
   },
   {
    "duration": 2136,
    "start_time": "2022-09-06T14:16:01.605Z"
   },
   {
    "duration": 2536,
    "start_time": "2022-09-06T14:17:13.953Z"
   },
   {
    "duration": 200,
    "start_time": "2022-09-06T14:19:16.582Z"
   },
   {
    "duration": 2,
    "start_time": "2022-09-06T14:19:39.658Z"
   },
   {
    "duration": 5,
    "start_time": "2022-09-06T14:20:10.816Z"
   },
   {
    "duration": 9,
    "start_time": "2022-09-06T14:20:28.687Z"
   },
   {
    "duration": 7,
    "start_time": "2022-09-06T14:20:46.121Z"
   },
   {
    "duration": 8,
    "start_time": "2022-09-06T14:20:51.894Z"
   },
   {
    "duration": 8,
    "start_time": "2022-09-06T14:21:06.928Z"
   },
   {
    "duration": 453,
    "start_time": "2022-09-06T14:21:19.625Z"
   },
   {
    "duration": 350,
    "start_time": "2022-09-06T14:21:23.591Z"
   },
   {
    "duration": 10,
    "start_time": "2022-09-06T14:22:05.817Z"
   },
   {
    "duration": 7,
    "start_time": "2022-09-06T14:30:42.697Z"
   },
   {
    "duration": 11,
    "start_time": "2022-09-06T14:30:56.397Z"
   },
   {
    "duration": 6,
    "start_time": "2022-09-06T14:31:09.328Z"
   },
   {
    "duration": 452,
    "start_time": "2022-09-06T14:31:18.093Z"
   },
   {
    "duration": 11,
    "start_time": "2022-09-06T14:31:27.310Z"
   },
   {
    "duration": 10,
    "start_time": "2022-09-06T14:31:46.959Z"
   },
   {
    "duration": 8,
    "start_time": "2022-09-06T14:35:04.554Z"
   },
   {
    "duration": 8,
    "start_time": "2022-09-06T14:35:14.831Z"
   },
   {
    "duration": 572,
    "start_time": "2022-09-06T14:35:34.477Z"
   },
   {
    "duration": 26,
    "start_time": "2022-09-06T14:37:23.913Z"
   },
   {
    "duration": 9,
    "start_time": "2022-09-06T14:41:23.150Z"
   },
   {
    "duration": 8,
    "start_time": "2022-09-06T14:42:05.737Z"
   },
   {
    "duration": 9,
    "start_time": "2022-09-06T14:43:36.312Z"
   },
   {
    "duration": 1293,
    "start_time": "2022-09-06T14:47:41.837Z"
   },
   {
    "duration": 32,
    "start_time": "2022-09-06T14:47:43.167Z"
   },
   {
    "duration": 69,
    "start_time": "2022-09-06T14:47:43.201Z"
   },
   {
    "duration": 132,
    "start_time": "2022-09-06T14:47:43.271Z"
   },
   {
    "duration": 10,
    "start_time": "2022-09-06T14:48:03.263Z"
   },
   {
    "duration": 21,
    "start_time": "2022-09-06T14:49:02.564Z"
   },
   {
    "duration": 12,
    "start_time": "2022-09-06T14:49:24.290Z"
   },
   {
    "duration": 32,
    "start_time": "2022-09-06T14:49:29.344Z"
   },
   {
    "duration": 20,
    "start_time": "2022-09-06T14:49:51.655Z"
   },
   {
    "duration": 9,
    "start_time": "2022-09-06T14:50:08.615Z"
   },
   {
    "duration": 32,
    "start_time": "2022-09-06T14:50:59.761Z"
   },
   {
    "duration": 44,
    "start_time": "2022-09-06T15:02:54.245Z"
   },
   {
    "duration": 32,
    "start_time": "2022-09-06T16:03:14.615Z"
   },
   {
    "duration": 1134,
    "start_time": "2022-09-08T07:36:54.724Z"
   },
   {
    "duration": 39,
    "start_time": "2022-09-08T07:36:55.860Z"
   },
   {
    "duration": 16,
    "start_time": "2022-09-08T07:36:55.902Z"
   },
   {
    "duration": 43,
    "start_time": "2022-09-08T07:36:55.920Z"
   },
   {
    "duration": 42,
    "start_time": "2022-09-18T06:36:05.493Z"
   },
   {
    "duration": 6,
    "start_time": "2022-09-18T06:36:13.234Z"
   },
   {
    "duration": 1250,
    "start_time": "2022-09-18T06:36:20.679Z"
   },
   {
    "duration": 26,
    "start_time": "2022-09-18T06:36:22.968Z"
   },
   {
    "duration": 12,
    "start_time": "2022-09-18T06:36:37.735Z"
   },
   {
    "duration": 13,
    "start_time": "2022-09-18T06:36:48.480Z"
   },
   {
    "duration": 27,
    "start_time": "2022-09-18T06:37:33.492Z"
   },
   {
    "duration": 30,
    "start_time": "2022-09-18T06:37:49.109Z"
   },
   {
    "duration": 33,
    "start_time": "2022-09-18T06:38:29.820Z"
   },
   {
    "duration": 5,
    "start_time": "2022-09-18T06:39:21.370Z"
   },
   {
    "duration": 9,
    "start_time": "2022-09-18T06:39:36.171Z"
   },
   {
    "duration": 36,
    "start_time": "2022-09-18T06:42:38.544Z"
   },
   {
    "duration": 6,
    "start_time": "2022-09-18T06:43:01.720Z"
   },
   {
    "duration": 6,
    "start_time": "2022-09-18T06:43:04.577Z"
   },
   {
    "duration": 4,
    "start_time": "2022-09-18T06:43:57.350Z"
   },
   {
    "duration": 12,
    "start_time": "2022-09-18T06:44:43.695Z"
   },
   {
    "duration": 17,
    "start_time": "2022-09-18T07:36:30.293Z"
   },
   {
    "duration": 16,
    "start_time": "2022-09-18T07:37:30.622Z"
   },
   {
    "duration": 25,
    "start_time": "2022-09-18T07:38:57.543Z"
   },
   {
    "duration": 12,
    "start_time": "2022-09-18T07:39:49.759Z"
   },
   {
    "duration": 21,
    "start_time": "2022-09-18T07:41:13.594Z"
   },
   {
    "duration": 14,
    "start_time": "2022-09-18T07:42:37.951Z"
   },
   {
    "duration": 54,
    "start_time": "2022-09-18T07:43:27.400Z"
   },
   {
    "duration": 39,
    "start_time": "2022-09-18T07:44:18.923Z"
   },
   {
    "duration": 42,
    "start_time": "2022-09-18T07:44:48.317Z"
   },
   {
    "duration": 13,
    "start_time": "2022-09-18T07:45:35.071Z"
   },
   {
    "duration": 8,
    "start_time": "2022-09-18T07:45:50.268Z"
   },
   {
    "duration": 20,
    "start_time": "2022-09-18T07:46:11.590Z"
   },
   {
    "duration": 29,
    "start_time": "2022-09-18T07:46:27.921Z"
   },
   {
    "duration": 13,
    "start_time": "2022-09-18T07:48:35.513Z"
   },
   {
    "duration": 15,
    "start_time": "2022-09-18T07:48:49.167Z"
   },
   {
    "duration": 17,
    "start_time": "2022-09-18T07:48:56.946Z"
   },
   {
    "duration": 19,
    "start_time": "2022-09-18T07:49:15.615Z"
   },
   {
    "duration": 25,
    "start_time": "2022-09-18T08:55:48.070Z"
   },
   {
    "duration": 59,
    "start_time": "2022-09-18T08:55:54.235Z"
   },
   {
    "duration": 13,
    "start_time": "2022-09-18T08:56:58.521Z"
   },
   {
    "duration": 28,
    "start_time": "2022-09-18T08:57:09.410Z"
   },
   {
    "duration": 237,
    "start_time": "2022-09-18T08:57:46.187Z"
   },
   {
    "duration": 216,
    "start_time": "2022-09-18T11:19:52.266Z"
   },
   {
    "duration": 230,
    "start_time": "2022-09-18T11:22:44.273Z"
   },
   {
    "duration": 194,
    "start_time": "2022-09-18T11:23:06.260Z"
   },
   {
    "duration": 200,
    "start_time": "2022-09-18T11:23:16.361Z"
   },
   {
    "duration": 1739,
    "start_time": "2022-09-18T11:23:36.704Z"
   },
   {
    "duration": 1493,
    "start_time": "2022-09-18T11:23:53.420Z"
   },
   {
    "duration": 1370,
    "start_time": "2022-09-18T11:24:13.006Z"
   },
   {
    "duration": 1545,
    "start_time": "2022-09-18T11:24:31.548Z"
   },
   {
    "duration": 299,
    "start_time": "2022-09-18T11:24:41.006Z"
   },
   {
    "duration": 199,
    "start_time": "2022-09-18T11:24:48.448Z"
   },
   {
    "duration": 217,
    "start_time": "2022-09-18T11:25:14.921Z"
   },
   {
    "duration": 196,
    "start_time": "2022-09-18T11:25:26.675Z"
   },
   {
    "duration": 219,
    "start_time": "2022-09-18T11:25:33.556Z"
   },
   {
    "duration": 300,
    "start_time": "2022-09-18T11:26:19.011Z"
   },
   {
    "duration": 1275,
    "start_time": "2022-09-18T11:27:49.465Z"
   },
   {
    "duration": 15,
    "start_time": "2022-09-18T11:28:12.249Z"
   },
   {
    "duration": 23,
    "start_time": "2022-09-18T11:28:22.917Z"
   },
   {
    "duration": 18,
    "start_time": "2022-09-18T11:28:41.122Z"
   },
   {
    "duration": 16,
    "start_time": "2022-09-18T11:28:45.459Z"
   },
   {
    "duration": 15,
    "start_time": "2022-09-18T11:28:57.306Z"
   },
   {
    "duration": 1257,
    "start_time": "2022-09-18T11:29:45.576Z"
   },
   {
    "duration": 2885,
    "start_time": "2022-09-18T11:32:57.664Z"
   },
   {
    "duration": 6082,
    "start_time": "2022-09-18T11:33:09.466Z"
   },
   {
    "duration": 129,
    "start_time": "2022-09-18T11:33:20.414Z"
   },
   {
    "duration": 108,
    "start_time": "2022-09-18T11:37:03.456Z"
   },
   {
    "duration": 15,
    "start_time": "2022-09-18T11:37:30.215Z"
   },
   {
    "duration": 101,
    "start_time": "2022-09-18T11:37:38.207Z"
   },
   {
    "duration": 188,
    "start_time": "2022-09-18T11:37:56.160Z"
   },
   {
    "duration": 234,
    "start_time": "2022-09-18T11:38:16.060Z"
   },
   {
    "duration": 167,
    "start_time": "2022-09-18T11:38:20.872Z"
   },
   {
    "duration": 181,
    "start_time": "2022-09-18T11:47:46.360Z"
   },
   {
    "duration": 163,
    "start_time": "2022-09-18T11:49:42.121Z"
   },
   {
    "duration": 191,
    "start_time": "2022-09-18T11:51:20.012Z"
   },
   {
    "duration": 251,
    "start_time": "2022-09-18T11:52:33.811Z"
   },
   {
    "duration": 164,
    "start_time": "2022-09-18T11:52:54.175Z"
   },
   {
    "duration": 194,
    "start_time": "2022-09-18T11:54:41.369Z"
   },
   {
    "duration": 4,
    "start_time": "2022-09-18T11:56:12.402Z"
   },
   {
    "duration": 4,
    "start_time": "2022-09-18T11:56:36.573Z"
   },
   {
    "duration": 5,
    "start_time": "2022-09-18T11:57:06.273Z"
   },
   {
    "duration": 4,
    "start_time": "2022-09-18T11:58:56.406Z"
   },
   {
    "duration": 4,
    "start_time": "2022-09-18T11:59:07.960Z"
   },
   {
    "duration": 6,
    "start_time": "2022-09-18T12:04:35.604Z"
   },
   {
    "duration": 10,
    "start_time": "2022-09-18T12:05:05.809Z"
   },
   {
    "duration": 1373,
    "start_time": "2022-09-18T12:06:33.414Z"
   },
   {
    "duration": 15,
    "start_time": "2022-09-18T12:06:47.611Z"
   },
   {
    "duration": 162,
    "start_time": "2022-09-18T12:08:24.148Z"
   },
   {
    "duration": 194,
    "start_time": "2022-09-18T12:14:32.572Z"
   },
   {
    "duration": 189,
    "start_time": "2022-09-18T12:15:20.289Z"
   },
   {
    "duration": 165,
    "start_time": "2022-09-18T12:15:36.504Z"
   },
   {
    "duration": 166,
    "start_time": "2022-09-18T12:18:12.807Z"
   },
   {
    "duration": 8,
    "start_time": "2022-09-18T12:18:53.272Z"
   },
   {
    "duration": 25,
    "start_time": "2022-09-18T12:19:02.198Z"
   },
   {
    "duration": 33,
    "start_time": "2022-09-18T12:19:36.886Z"
   },
   {
    "duration": 65,
    "start_time": "2022-09-18T12:21:23.452Z"
   },
   {
    "duration": 183,
    "start_time": "2022-09-18T12:21:33.808Z"
   },
   {
    "duration": 71,
    "start_time": "2022-09-18T12:34:02.403Z"
   },
   {
    "duration": 8,
    "start_time": "2022-09-18T12:34:11.004Z"
   },
   {
    "duration": 20,
    "start_time": "2022-09-18T12:34:22.075Z"
   },
   {
    "duration": 13,
    "start_time": "2022-09-18T12:36:25.867Z"
   },
   {
    "duration": 22,
    "start_time": "2022-09-18T12:37:11.603Z"
   },
   {
    "duration": 167,
    "start_time": "2022-09-18T12:38:07.859Z"
   },
   {
    "duration": 15,
    "start_time": "2022-09-18T12:38:20.255Z"
   },
   {
    "duration": 14,
    "start_time": "2022-09-18T12:38:26.618Z"
   },
   {
    "duration": 18,
    "start_time": "2022-09-18T12:38:33.876Z"
   },
   {
    "duration": 28,
    "start_time": "2022-09-18T12:39:47.090Z"
   },
   {
    "duration": 333,
    "start_time": "2022-09-18T12:47:37.221Z"
   },
   {
    "duration": 71,
    "start_time": "2022-09-18T12:47:55.172Z"
   },
   {
    "duration": 179,
    "start_time": "2022-09-18T12:48:03.108Z"
   },
   {
    "duration": 232,
    "start_time": "2022-09-18T12:50:37.308Z"
   },
   {
    "duration": 157,
    "start_time": "2022-09-18T12:50:58.113Z"
   },
   {
    "duration": 26,
    "start_time": "2022-09-18T12:53:12.455Z"
   },
   {
    "duration": 24,
    "start_time": "2022-09-18T13:22:53.271Z"
   },
   {
    "duration": 6,
    "start_time": "2022-09-18T13:23:22.158Z"
   },
   {
    "duration": 8,
    "start_time": "2022-09-18T13:23:39.415Z"
   },
   {
    "duration": 12,
    "start_time": "2022-09-18T13:24:14.214Z"
   },
   {
    "duration": 9,
    "start_time": "2022-09-18T13:25:10.257Z"
   },
   {
    "duration": 9,
    "start_time": "2022-09-18T13:25:15.982Z"
   },
   {
    "duration": 15,
    "start_time": "2022-09-18T13:26:37.651Z"
   },
   {
    "duration": 19,
    "start_time": "2022-09-18T13:27:46.655Z"
   },
   {
    "duration": 146,
    "start_time": "2022-09-18T13:28:26.855Z"
   },
   {
    "duration": 185,
    "start_time": "2022-09-18T13:31:03.058Z"
   },
   {
    "duration": 20,
    "start_time": "2022-09-18T13:31:27.117Z"
   },
   {
    "duration": 216,
    "start_time": "2022-09-18T13:31:37.274Z"
   },
   {
    "duration": 259,
    "start_time": "2022-09-18T13:32:19.220Z"
   },
   {
    "duration": 211,
    "start_time": "2022-09-18T13:32:27.161Z"
   },
   {
    "duration": 219,
    "start_time": "2022-09-18T13:32:48.983Z"
   },
   {
    "duration": 226,
    "start_time": "2022-09-18T13:32:55.378Z"
   },
   {
    "duration": 25,
    "start_time": "2022-09-18T13:34:06.159Z"
   },
   {
    "duration": 263,
    "start_time": "2022-09-18T13:34:32.458Z"
   },
   {
    "duration": 242,
    "start_time": "2022-09-18T13:34:53.424Z"
   },
   {
    "duration": 1681,
    "start_time": "2022-09-18T13:37:35.358Z"
   },
   {
    "duration": 296,
    "start_time": "2022-09-18T13:37:47.652Z"
   },
   {
    "duration": 287,
    "start_time": "2022-09-18T13:40:11.797Z"
   },
   {
    "duration": 845,
    "start_time": "2022-09-18T15:08:00.235Z"
   },
   {
    "duration": 29,
    "start_time": "2022-09-18T15:08:01.082Z"
   },
   {
    "duration": 14,
    "start_time": "2022-09-18T15:08:01.112Z"
   },
   {
    "duration": 36,
    "start_time": "2022-09-18T15:08:01.128Z"
   },
   {
    "duration": 5,
    "start_time": "2022-09-18T15:08:01.166Z"
   },
   {
    "duration": 6,
    "start_time": "2022-09-18T15:08:01.173Z"
   },
   {
    "duration": 10,
    "start_time": "2022-09-18T15:08:01.180Z"
   },
   {
    "duration": 7,
    "start_time": "2022-09-18T15:08:01.191Z"
   },
   {
    "duration": 11,
    "start_time": "2022-09-18T15:08:01.221Z"
   },
   {
    "duration": 18,
    "start_time": "2022-09-18T15:08:01.234Z"
   },
   {
    "duration": 8,
    "start_time": "2022-09-18T15:08:01.254Z"
   },
   {
    "duration": 26,
    "start_time": "2022-09-18T15:08:01.263Z"
   },
   {
    "duration": 31,
    "start_time": "2022-09-18T15:08:01.291Z"
   },
   {
    "duration": 15,
    "start_time": "2022-09-18T15:08:01.325Z"
   },
   {
    "duration": 17,
    "start_time": "2022-09-18T15:08:01.342Z"
   },
   {
    "duration": 66,
    "start_time": "2022-09-18T15:08:01.361Z"
   },
   {
    "duration": 27,
    "start_time": "2022-09-18T15:08:01.429Z"
   },
   {
    "duration": 12,
    "start_time": "2022-09-18T15:08:01.458Z"
   },
   {
    "duration": 21,
    "start_time": "2022-09-18T15:08:01.472Z"
   },
   {
    "duration": 21,
    "start_time": "2022-09-18T15:08:01.495Z"
   },
   {
    "duration": 19,
    "start_time": "2022-09-18T15:08:01.517Z"
   },
   {
    "duration": 174,
    "start_time": "2022-09-18T15:08:01.537Z"
   },
   {
    "duration": 172,
    "start_time": "2022-09-18T15:08:01.713Z"
   },
   {
    "duration": 222,
    "start_time": "2022-09-18T15:08:01.886Z"
   },
   {
    "duration": 23,
    "start_time": "2022-09-18T15:08:02.110Z"
   },
   {
    "duration": 281,
    "start_time": "2022-09-18T15:08:02.135Z"
   },
   {
    "duration": 288,
    "start_time": "2022-09-18T15:10:53.157Z"
   },
   {
    "duration": 220,
    "start_time": "2022-09-18T15:10:59.449Z"
   },
   {
    "duration": 567,
    "start_time": "2022-09-18T15:11:14.652Z"
   },
   {
    "duration": 11,
    "start_time": "2022-09-18T15:12:05.492Z"
   },
   {
    "duration": 243,
    "start_time": "2022-09-18T15:13:39.885Z"
   },
   {
    "duration": 24,
    "start_time": "2022-09-18T15:14:15.915Z"
   },
   {
    "duration": 237,
    "start_time": "2022-09-18T15:14:50.690Z"
   },
   {
    "duration": 239,
    "start_time": "2022-09-18T15:15:04.908Z"
   },
   {
    "duration": 252,
    "start_time": "2022-09-18T15:15:15.145Z"
   },
   {
    "duration": 15,
    "start_time": "2022-09-18T15:20:14.556Z"
   },
   {
    "duration": 4,
    "start_time": "2022-09-18T15:20:37.875Z"
   },
   {
    "duration": 12,
    "start_time": "2022-09-18T15:20:45.646Z"
   },
   {
    "duration": 13,
    "start_time": "2022-09-18T15:20:58.580Z"
   },
   {
    "duration": 14,
    "start_time": "2022-09-18T15:28:02.378Z"
   },
   {
    "duration": 128,
    "start_time": "2022-09-18T15:59:44.456Z"
   },
   {
    "duration": 767,
    "start_time": "2022-09-18T16:00:05.085Z"
   },
   {
    "duration": 547,
    "start_time": "2022-09-18T16:01:36.455Z"
   },
   {
    "duration": 6228,
    "start_time": "2022-09-18T16:24:31.760Z"
   },
   {
    "duration": 6205,
    "start_time": "2022-09-18T16:24:56.225Z"
   },
   {
    "duration": 88,
    "start_time": "2022-09-18T16:29:29.447Z"
   },
   {
    "duration": 5934,
    "start_time": "2022-09-18T16:29:56.561Z"
   },
   {
    "duration": 5498,
    "start_time": "2022-09-18T16:35:50.739Z"
   },
   {
    "duration": 7158,
    "start_time": "2022-09-18T16:36:16.393Z"
   },
   {
    "duration": 203,
    "start_time": "2022-09-18T16:38:47.738Z"
   },
   {
    "duration": 1114,
    "start_time": "2022-09-18T16:39:10.083Z"
   },
   {
    "duration": 47,
    "start_time": "2022-09-19T10:55:42.035Z"
   },
   {
    "duration": 1712,
    "start_time": "2022-09-19T10:55:48.574Z"
   },
   {
    "duration": 33,
    "start_time": "2022-09-19T10:55:50.289Z"
   },
   {
    "duration": 17,
    "start_time": "2022-09-19T10:55:50.324Z"
   },
   {
    "duration": 61,
    "start_time": "2022-09-19T10:55:50.342Z"
   },
   {
    "duration": 6,
    "start_time": "2022-09-19T10:55:50.405Z"
   },
   {
    "duration": 9,
    "start_time": "2022-09-19T10:55:50.413Z"
   },
   {
    "duration": 15,
    "start_time": "2022-09-19T10:55:50.424Z"
   },
   {
    "duration": 8,
    "start_time": "2022-09-19T10:55:50.441Z"
   },
   {
    "duration": 26,
    "start_time": "2022-09-19T10:55:50.451Z"
   },
   {
    "duration": 24,
    "start_time": "2022-09-19T10:55:50.479Z"
   },
   {
    "duration": 9,
    "start_time": "2022-09-19T10:55:50.504Z"
   },
   {
    "duration": 20,
    "start_time": "2022-09-19T10:55:50.514Z"
   },
   {
    "duration": 10,
    "start_time": "2022-09-19T10:55:50.536Z"
   },
   {
    "duration": 44,
    "start_time": "2022-09-19T10:55:50.547Z"
   },
   {
    "duration": 12,
    "start_time": "2022-09-19T10:55:50.592Z"
   },
   {
    "duration": 36,
    "start_time": "2022-09-19T10:55:50.605Z"
   },
   {
    "duration": 46,
    "start_time": "2022-09-19T10:55:50.643Z"
   },
   {
    "duration": 11,
    "start_time": "2022-09-19T10:55:50.691Z"
   },
   {
    "duration": 6,
    "start_time": "2022-09-19T10:55:50.705Z"
   },
   {
    "duration": 31,
    "start_time": "2022-09-19T10:55:50.712Z"
   },
   {
    "duration": 45,
    "start_time": "2022-09-19T10:55:50.745Z"
   },
   {
    "duration": 221,
    "start_time": "2022-09-19T10:55:50.792Z"
   },
   {
    "duration": 212,
    "start_time": "2022-09-19T10:55:51.015Z"
   },
   {
    "duration": 194,
    "start_time": "2022-09-19T10:55:51.228Z"
   },
   {
    "duration": 20,
    "start_time": "2022-09-19T10:55:51.424Z"
   },
   {
    "duration": 13,
    "start_time": "2022-09-19T10:55:51.445Z"
   },
   {
    "duration": 301,
    "start_time": "2022-09-19T10:55:51.460Z"
   },
   {
    "duration": 740,
    "start_time": "2022-09-19T10:55:51.764Z"
   },
   {
    "duration": 10344,
    "start_time": "2022-09-19T10:55:52.506Z"
   },
   {
    "duration": 14,
    "start_time": "2022-09-19T10:56:02.852Z"
   },
   {
    "duration": 121,
    "start_time": "2022-09-19T10:57:47.446Z"
   },
   {
    "duration": 188,
    "start_time": "2022-09-19T10:57:53.924Z"
   },
   {
    "duration": 195,
    "start_time": "2022-09-19T11:04:02.406Z"
   },
   {
    "duration": 231,
    "start_time": "2022-09-19T11:04:11.274Z"
   },
   {
    "duration": 234,
    "start_time": "2022-09-19T11:04:37.777Z"
   },
   {
    "duration": 380,
    "start_time": "2022-09-19T11:06:50.711Z"
   },
   {
    "duration": 139,
    "start_time": "2022-09-19T11:07:07.161Z"
   },
   {
    "duration": 167,
    "start_time": "2022-09-19T11:07:56.570Z"
   },
   {
    "duration": 272,
    "start_time": "2022-09-19T11:08:20.477Z"
   },
   {
    "duration": 150,
    "start_time": "2022-09-19T11:08:37.808Z"
   },
   {
    "duration": 148,
    "start_time": "2022-09-19T11:09:32.406Z"
   },
   {
    "duration": 160,
    "start_time": "2022-09-19T11:09:42.039Z"
   },
   {
    "duration": 188,
    "start_time": "2022-09-19T11:11:36.435Z"
   },
   {
    "duration": 337,
    "start_time": "2022-09-19T11:12:04.457Z"
   },
   {
    "duration": 446,
    "start_time": "2022-09-19T11:12:43.164Z"
   },
   {
    "duration": 107,
    "start_time": "2022-09-19T11:13:57.259Z"
   },
   {
    "duration": 363,
    "start_time": "2022-09-19T11:14:06.275Z"
   },
   {
    "duration": 379,
    "start_time": "2022-09-19T11:14:22.041Z"
   },
   {
    "duration": 366,
    "start_time": "2022-09-19T11:14:30.962Z"
   },
   {
    "duration": 354,
    "start_time": "2022-09-19T11:14:46.237Z"
   },
   {
    "duration": 341,
    "start_time": "2022-09-19T11:15:04.467Z"
   },
   {
    "duration": 386,
    "start_time": "2022-09-19T11:15:20.505Z"
   },
   {
    "duration": 460,
    "start_time": "2022-09-19T11:16:05.617Z"
   },
   {
    "duration": 375,
    "start_time": "2022-09-19T11:16:36.784Z"
   },
   {
    "duration": 389,
    "start_time": "2022-09-19T11:17:02.593Z"
   },
   {
    "duration": 414,
    "start_time": "2022-09-19T11:17:22.151Z"
   },
   {
    "duration": 403,
    "start_time": "2022-09-19T11:17:29.192Z"
   },
   {
    "duration": 407,
    "start_time": "2022-09-19T11:18:00.600Z"
   },
   {
    "duration": 476,
    "start_time": "2022-09-19T11:18:36.191Z"
   },
   {
    "duration": 377,
    "start_time": "2022-09-19T11:19:02.544Z"
   },
   {
    "duration": 390,
    "start_time": "2022-09-19T11:19:08.719Z"
   },
   {
    "duration": 370,
    "start_time": "2022-09-19T11:19:16.528Z"
   },
   {
    "duration": 380,
    "start_time": "2022-09-19T11:19:25.487Z"
   },
   {
    "duration": 446,
    "start_time": "2022-09-19T11:19:37.342Z"
   },
   {
    "duration": 479,
    "start_time": "2022-09-19T11:20:08.973Z"
   },
   {
    "duration": 352,
    "start_time": "2022-09-19T11:20:18.621Z"
   },
   {
    "duration": 37,
    "start_time": "2022-09-19T11:53:07.831Z"
   },
   {
    "duration": 36,
    "start_time": "2022-09-19T11:53:38.363Z"
   },
   {
    "duration": 42,
    "start_time": "2022-09-19T11:54:02.541Z"
   },
   {
    "duration": 37,
    "start_time": "2022-09-19T11:54:14.277Z"
   },
   {
    "duration": 40,
    "start_time": "2022-09-19T11:54:56.422Z"
   },
   {
    "duration": 38,
    "start_time": "2022-09-19T11:56:41.347Z"
   },
   {
    "duration": 10,
    "start_time": "2022-09-19T12:01:37.160Z"
   },
   {
    "duration": 11,
    "start_time": "2022-09-19T12:01:49.151Z"
   },
   {
    "duration": 11,
    "start_time": "2022-09-19T12:02:01.719Z"
   },
   {
    "duration": 9,
    "start_time": "2022-09-19T12:02:30.270Z"
   },
   {
    "duration": 18,
    "start_time": "2022-09-19T12:04:16.326Z"
   },
   {
    "duration": 20,
    "start_time": "2022-09-19T12:04:31.171Z"
   },
   {
    "duration": 28,
    "start_time": "2022-09-19T12:04:41.285Z"
   },
   {
    "duration": 15,
    "start_time": "2022-09-19T12:04:47.313Z"
   },
   {
    "duration": 17,
    "start_time": "2022-09-19T12:05:00.618Z"
   },
   {
    "duration": 14,
    "start_time": "2022-09-19T12:05:36.108Z"
   },
   {
    "duration": 16,
    "start_time": "2022-09-19T12:05:47.164Z"
   },
   {
    "duration": 15,
    "start_time": "2022-09-19T12:06:39.460Z"
   },
   {
    "duration": 14,
    "start_time": "2022-09-19T12:06:56.461Z"
   },
   {
    "duration": 15,
    "start_time": "2022-09-19T12:11:43.435Z"
   },
   {
    "duration": 15,
    "start_time": "2022-09-19T12:11:54.807Z"
   },
   {
    "duration": 17,
    "start_time": "2022-09-19T12:15:29.711Z"
   },
   {
    "duration": 27,
    "start_time": "2022-09-19T12:16:10.019Z"
   },
   {
    "duration": 26,
    "start_time": "2022-09-19T12:16:20.102Z"
   },
   {
    "duration": 25,
    "start_time": "2022-09-19T12:16:25.630Z"
   },
   {
    "duration": 22,
    "start_time": "2022-09-19T12:16:36.018Z"
   },
   {
    "duration": 26,
    "start_time": "2022-09-19T12:16:53.668Z"
   },
   {
    "duration": 25,
    "start_time": "2022-09-19T12:16:58.724Z"
   },
   {
    "duration": 20,
    "start_time": "2022-09-19T12:17:12.933Z"
   },
   {
    "duration": 32,
    "start_time": "2022-09-19T12:18:05.573Z"
   },
   {
    "duration": 27,
    "start_time": "2022-09-19T12:18:15.140Z"
   },
   {
    "duration": 25,
    "start_time": "2022-09-19T12:18:23.204Z"
   },
   {
    "duration": 33,
    "start_time": "2022-09-19T12:24:56.878Z"
   },
   {
    "duration": 24,
    "start_time": "2022-09-19T12:25:02.833Z"
   },
   {
    "duration": 26,
    "start_time": "2022-09-19T12:25:07.841Z"
   },
   {
    "duration": 34,
    "start_time": "2022-09-19T12:26:10.237Z"
   },
   {
    "duration": 25,
    "start_time": "2022-09-19T12:26:32.213Z"
   },
   {
    "duration": 26,
    "start_time": "2022-09-19T12:26:44.244Z"
   },
   {
    "duration": 26,
    "start_time": "2022-09-19T12:39:54.962Z"
   },
   {
    "duration": 25,
    "start_time": "2022-09-19T12:40:00.249Z"
   },
   {
    "duration": 23,
    "start_time": "2022-09-19T12:46:57.842Z"
   },
   {
    "duration": 17,
    "start_time": "2022-09-19T12:47:14.019Z"
   },
   {
    "duration": 27,
    "start_time": "2022-09-19T12:48:03.637Z"
   },
   {
    "duration": 25,
    "start_time": "2022-09-19T12:48:20.702Z"
   },
   {
    "duration": 25,
    "start_time": "2022-09-19T12:49:06.007Z"
   },
   {
    "duration": 25,
    "start_time": "2022-09-19T12:49:12.418Z"
   },
   {
    "duration": 47,
    "start_time": "2022-09-19T13:35:14.853Z"
   },
   {
    "duration": 14,
    "start_time": "2022-09-19T13:39:07.381Z"
   },
   {
    "duration": 149,
    "start_time": "2022-09-19T13:39:20.509Z"
   },
   {
    "duration": 15181,
    "start_time": "2022-09-19T13:40:15.900Z"
   },
   {
    "duration": 372,
    "start_time": "2022-09-19T13:40:47.029Z"
   },
   {
    "duration": 160,
    "start_time": "2022-09-19T13:40:52.003Z"
   },
   {
    "duration": 156,
    "start_time": "2022-09-19T13:43:15.218Z"
   },
   {
    "duration": 147,
    "start_time": "2022-09-19T13:44:26.097Z"
   },
   {
    "duration": 140,
    "start_time": "2022-09-19T13:47:16.086Z"
   },
   {
    "duration": 128,
    "start_time": "2022-09-19T13:47:27.054Z"
   },
   {
    "duration": 135,
    "start_time": "2022-09-19T13:47:32.363Z"
   },
   {
    "duration": 148,
    "start_time": "2022-09-19T13:47:37.686Z"
   },
   {
    "duration": 232,
    "start_time": "2022-09-19T13:47:42.733Z"
   },
   {
    "duration": 148,
    "start_time": "2022-09-19T13:48:10.254Z"
   },
   {
    "duration": 139,
    "start_time": "2022-09-19T13:49:19.085Z"
   },
   {
    "duration": 8,
    "start_time": "2022-09-19T13:49:24.442Z"
   },
   {
    "duration": 170,
    "start_time": "2022-09-19T13:49:28.580Z"
   },
   {
    "duration": 232,
    "start_time": "2022-09-19T13:50:09.050Z"
   },
   {
    "duration": 138,
    "start_time": "2022-09-19T13:50:26.779Z"
   },
   {
    "duration": 170,
    "start_time": "2022-09-19T13:50:31.765Z"
   },
   {
    "duration": 151,
    "start_time": "2022-09-19T13:51:17.650Z"
   },
   {
    "duration": 165,
    "start_time": "2022-09-19T13:51:51.226Z"
   },
   {
    "duration": 141,
    "start_time": "2022-09-19T13:51:59.455Z"
   },
   {
    "duration": 142,
    "start_time": "2022-09-19T13:52:26.778Z"
   },
   {
    "duration": 151,
    "start_time": "2022-09-19T13:52:58.410Z"
   },
   {
    "duration": 158,
    "start_time": "2022-09-19T15:10:24.175Z"
   },
   {
    "duration": 255,
    "start_time": "2022-09-19T15:10:42.929Z"
   },
   {
    "duration": 159,
    "start_time": "2022-09-19T15:18:13.918Z"
   },
   {
    "duration": 12,
    "start_time": "2022-09-19T15:20:15.224Z"
   },
   {
    "duration": 1485,
    "start_time": "2022-09-19T15:21:02.480Z"
   },
   {
    "duration": 30,
    "start_time": "2022-09-19T15:21:03.967Z"
   },
   {
    "duration": 15,
    "start_time": "2022-09-19T15:21:03.999Z"
   },
   {
    "duration": 42,
    "start_time": "2022-09-19T15:21:04.017Z"
   },
   {
    "duration": 29,
    "start_time": "2022-09-19T15:21:04.061Z"
   },
   {
    "duration": 4,
    "start_time": "2022-09-19T15:21:04.092Z"
   },
   {
    "duration": 12,
    "start_time": "2022-09-19T15:21:04.097Z"
   },
   {
    "duration": 5,
    "start_time": "2022-09-19T15:21:04.111Z"
   },
   {
    "duration": 19,
    "start_time": "2022-09-19T15:21:04.117Z"
   },
   {
    "duration": 21,
    "start_time": "2022-09-19T15:21:04.139Z"
   },
   {
    "duration": 35,
    "start_time": "2022-09-19T15:21:04.162Z"
   },
   {
    "duration": 23,
    "start_time": "2022-09-19T15:21:04.199Z"
   },
   {
    "duration": 10,
    "start_time": "2022-09-19T15:21:04.224Z"
   },
   {
    "duration": 16,
    "start_time": "2022-09-19T15:21:04.236Z"
   },
   {
    "duration": 38,
    "start_time": "2022-09-19T15:21:04.254Z"
   },
   {
    "duration": 36,
    "start_time": "2022-09-19T15:21:04.294Z"
   },
   {
    "duration": 19,
    "start_time": "2022-09-19T15:21:04.331Z"
   },
   {
    "duration": 11,
    "start_time": "2022-09-19T15:21:04.352Z"
   },
   {
    "duration": 28,
    "start_time": "2022-09-19T15:21:04.364Z"
   },
   {
    "duration": 22,
    "start_time": "2022-09-19T15:21:04.394Z"
   },
   {
    "duration": 20,
    "start_time": "2022-09-19T15:21:04.418Z"
   },
   {
    "duration": 173,
    "start_time": "2022-09-19T15:21:04.440Z"
   },
   {
    "duration": 191,
    "start_time": "2022-09-19T15:21:04.615Z"
   },
   {
    "duration": 210,
    "start_time": "2022-09-19T15:21:04.808Z"
   },
   {
    "duration": 213,
    "start_time": "2022-09-19T15:21:05.020Z"
   },
   {
    "duration": 24,
    "start_time": "2022-09-19T15:21:05.234Z"
   },
   {
    "duration": 29,
    "start_time": "2022-09-19T15:21:05.260Z"
   },
   {
    "duration": 324,
    "start_time": "2022-09-19T15:21:05.293Z"
   },
   {
    "duration": 665,
    "start_time": "2022-09-19T15:21:05.618Z"
   },
   {
    "duration": 7537,
    "start_time": "2022-09-19T15:21:06.285Z"
   },
   {
    "duration": 417,
    "start_time": "2022-09-19T15:21:13.824Z"
   },
   {
    "duration": 22,
    "start_time": "2022-09-19T15:21:14.243Z"
   },
   {
    "duration": 32,
    "start_time": "2022-09-19T15:21:14.267Z"
   },
   {
    "duration": 151,
    "start_time": "2022-09-19T15:25:25.995Z"
   },
   {
    "duration": 20,
    "start_time": "2022-09-19T15:29:48.702Z"
   },
   {
    "duration": 16,
    "start_time": "2022-09-19T15:30:05.797Z"
   },
   {
    "duration": 20,
    "start_time": "2022-09-19T15:30:23.672Z"
   },
   {
    "duration": 20,
    "start_time": "2022-09-19T15:31:01.287Z"
   },
   {
    "duration": 182,
    "start_time": "2022-09-19T15:31:12.441Z"
   },
   {
    "duration": 111,
    "start_time": "2022-09-19T15:31:22.257Z"
   },
   {
    "duration": 402,
    "start_time": "2022-09-19T15:31:54.504Z"
   },
   {
    "duration": 153,
    "start_time": "2022-09-19T15:34:26.751Z"
   },
   {
    "duration": 205,
    "start_time": "2022-09-19T15:38:28.832Z"
   },
   {
    "duration": 200,
    "start_time": "2022-09-19T15:38:38.937Z"
   },
   {
    "duration": 141,
    "start_time": "2022-09-19T15:39:32.601Z"
   },
   {
    "duration": 149,
    "start_time": "2022-09-19T15:39:46.240Z"
   },
   {
    "duration": 204,
    "start_time": "2022-09-19T15:39:51.685Z"
   },
   {
    "duration": 189,
    "start_time": "2022-09-19T15:40:08.118Z"
   },
   {
    "duration": 169,
    "start_time": "2022-09-19T15:40:28.517Z"
   },
   {
    "duration": 170,
    "start_time": "2022-09-19T15:41:27.405Z"
   },
   {
    "duration": 233,
    "start_time": "2022-09-19T15:42:17.830Z"
   },
   {
    "duration": 160,
    "start_time": "2022-09-19T15:42:22.202Z"
   },
   {
    "duration": 175,
    "start_time": "2022-09-19T15:43:08.423Z"
   },
   {
    "duration": 175,
    "start_time": "2022-09-19T15:43:20.670Z"
   },
   {
    "duration": 183,
    "start_time": "2022-09-19T15:43:30.334Z"
   },
   {
    "duration": 165,
    "start_time": "2022-09-19T15:43:44.416Z"
   },
   {
    "duration": 161,
    "start_time": "2022-09-19T15:43:53.903Z"
   },
   {
    "duration": 164,
    "start_time": "2022-09-19T15:44:00.018Z"
   },
   {
    "duration": 162,
    "start_time": "2022-09-19T15:44:26.374Z"
   },
   {
    "duration": 289,
    "start_time": "2022-09-19T15:44:37.592Z"
   },
   {
    "duration": 258,
    "start_time": "2022-09-19T15:45:00.644Z"
   },
   {
    "duration": 11,
    "start_time": "2022-09-19T15:47:29.457Z"
   },
   {
    "duration": 12,
    "start_time": "2022-09-19T15:48:38.438Z"
   },
   {
    "duration": 226,
    "start_time": "2022-09-19T15:48:48.349Z"
   },
   {
    "duration": 133,
    "start_time": "2022-09-19T15:50:03.970Z"
   },
   {
    "duration": 115,
    "start_time": "2022-09-19T15:50:48.047Z"
   },
   {
    "duration": 129,
    "start_time": "2022-09-19T15:51:00.988Z"
   },
   {
    "duration": 113,
    "start_time": "2022-09-19T15:51:14.708Z"
   },
   {
    "duration": 112,
    "start_time": "2022-09-19T15:51:49.121Z"
   },
   {
    "duration": 109,
    "start_time": "2022-09-19T15:51:53.796Z"
   },
   {
    "duration": 1366,
    "start_time": "2022-09-19T15:52:00.148Z"
   },
   {
    "duration": 33,
    "start_time": "2022-09-19T15:52:01.516Z"
   },
   {
    "duration": 14,
    "start_time": "2022-09-19T15:52:01.550Z"
   },
   {
    "duration": 60,
    "start_time": "2022-09-19T15:52:01.566Z"
   },
   {
    "duration": 7,
    "start_time": "2022-09-19T15:52:01.627Z"
   },
   {
    "duration": 29,
    "start_time": "2022-09-19T15:52:01.635Z"
   },
   {
    "duration": 22,
    "start_time": "2022-09-19T15:52:01.666Z"
   },
   {
    "duration": 15,
    "start_time": "2022-09-19T15:52:01.690Z"
   },
   {
    "duration": 44,
    "start_time": "2022-09-19T15:52:01.707Z"
   },
   {
    "duration": 30,
    "start_time": "2022-09-19T15:52:01.753Z"
   },
   {
    "duration": 65,
    "start_time": "2022-09-19T15:52:01.788Z"
   },
   {
    "duration": 64,
    "start_time": "2022-09-19T15:52:01.855Z"
   },
   {
    "duration": 12,
    "start_time": "2022-09-19T15:52:01.921Z"
   },
   {
    "duration": 50,
    "start_time": "2022-09-19T15:52:01.936Z"
   },
   {
    "duration": 42,
    "start_time": "2022-09-19T15:52:01.988Z"
   },
   {
    "duration": 86,
    "start_time": "2022-09-19T15:52:02.036Z"
   },
   {
    "duration": 20,
    "start_time": "2022-09-19T15:52:02.125Z"
   },
   {
    "duration": 26,
    "start_time": "2022-09-19T15:52:02.147Z"
   },
   {
    "duration": 11,
    "start_time": "2022-09-19T15:52:02.174Z"
   },
   {
    "duration": 31,
    "start_time": "2022-09-19T15:52:02.186Z"
   },
   {
    "duration": 20,
    "start_time": "2022-09-19T15:52:02.219Z"
   },
   {
    "duration": 165,
    "start_time": "2022-09-19T15:52:02.240Z"
   },
   {
    "duration": 200,
    "start_time": "2022-09-19T15:52:02.406Z"
   },
   {
    "duration": 237,
    "start_time": "2022-09-19T15:52:02.608Z"
   },
   {
    "duration": 243,
    "start_time": "2022-09-19T15:52:02.847Z"
   },
   {
    "duration": 23,
    "start_time": "2022-09-19T15:52:03.092Z"
   },
   {
    "duration": 14,
    "start_time": "2022-09-19T15:52:03.116Z"
   },
   {
    "duration": 343,
    "start_time": "2022-09-19T15:52:03.134Z"
   },
   {
    "duration": 763,
    "start_time": "2022-09-19T15:52:03.479Z"
   },
   {
    "duration": 7465,
    "start_time": "2022-09-19T15:52:04.244Z"
   },
   {
    "duration": 465,
    "start_time": "2022-09-19T15:52:11.711Z"
   },
   {
    "duration": 21,
    "start_time": "2022-09-19T15:52:12.178Z"
   },
   {
    "duration": 256,
    "start_time": "2022-09-19T15:52:12.201Z"
   },
   {
    "duration": 132,
    "start_time": "2022-09-19T15:52:12.459Z"
   },
   {
    "duration": 362,
    "start_time": "2022-09-19T15:53:23.903Z"
   },
   {
    "duration": 104,
    "start_time": "2022-09-19T15:53:39.066Z"
   },
   {
    "duration": 114,
    "start_time": "2022-09-19T15:53:50.340Z"
   },
   {
    "duration": 110,
    "start_time": "2022-09-19T15:54:20.293Z"
   },
   {
    "duration": 166,
    "start_time": "2022-09-19T15:54:51.229Z"
   },
   {
    "duration": 112,
    "start_time": "2022-09-19T15:55:02.695Z"
   },
   {
    "duration": 17,
    "start_time": "2022-09-19T15:55:10.708Z"
   },
   {
    "duration": 81,
    "start_time": "2022-09-19T15:55:16.825Z"
   },
   {
    "duration": 112,
    "start_time": "2022-09-19T15:55:27.983Z"
   },
   {
    "duration": 11,
    "start_time": "2022-09-19T15:58:02.640Z"
   },
   {
    "duration": 6,
    "start_time": "2022-09-19T16:00:53.061Z"
   },
   {
    "duration": 9,
    "start_time": "2022-09-19T16:01:33.029Z"
   },
   {
    "duration": 8,
    "start_time": "2022-09-19T16:03:22.171Z"
   },
   {
    "duration": 173,
    "start_time": "2022-09-19T16:11:30.312Z"
   },
   {
    "duration": 167,
    "start_time": "2022-09-19T16:11:54.409Z"
   },
   {
    "duration": 15,
    "start_time": "2022-09-19T16:12:52.181Z"
   },
   {
    "duration": 549,
    "start_time": "2022-09-19T16:14:24.730Z"
   },
   {
    "duration": 652,
    "start_time": "2022-09-19T16:14:39.408Z"
   },
   {
    "duration": 533,
    "start_time": "2022-09-19T16:16:18.956Z"
   },
   {
    "duration": 555,
    "start_time": "2022-09-19T16:16:24.156Z"
   },
   {
    "duration": 543,
    "start_time": "2022-09-19T16:16:44.554Z"
   },
   {
    "duration": 11,
    "start_time": "2022-09-19T16:59:45.881Z"
   },
   {
    "duration": 545,
    "start_time": "2022-09-19T16:59:49.812Z"
   },
   {
    "duration": 5,
    "start_time": "2022-09-19T17:10:49.875Z"
   },
   {
    "duration": 1969,
    "start_time": "2022-09-19T17:12:14.351Z"
   },
   {
    "duration": 2027,
    "start_time": "2022-09-19T17:13:47.387Z"
   },
   {
    "duration": 1403,
    "start_time": "2022-09-19T17:16:59.975Z"
   },
   {
    "duration": 31,
    "start_time": "2022-09-19T17:17:01.380Z"
   },
   {
    "duration": 13,
    "start_time": "2022-09-19T17:17:01.413Z"
   },
   {
    "duration": 40,
    "start_time": "2022-09-19T17:17:01.429Z"
   },
   {
    "duration": 7,
    "start_time": "2022-09-19T17:17:01.489Z"
   },
   {
    "duration": 13,
    "start_time": "2022-09-19T17:17:01.497Z"
   },
   {
    "duration": 20,
    "start_time": "2022-09-19T17:17:01.511Z"
   },
   {
    "duration": 18,
    "start_time": "2022-09-19T17:17:01.532Z"
   },
   {
    "duration": 30,
    "start_time": "2022-09-19T17:17:01.551Z"
   },
   {
    "duration": 34,
    "start_time": "2022-09-19T17:17:01.584Z"
   },
   {
    "duration": 10,
    "start_time": "2022-09-19T17:17:01.619Z"
   },
   {
    "duration": 42,
    "start_time": "2022-09-19T17:17:01.631Z"
   },
   {
    "duration": 10,
    "start_time": "2022-09-19T17:17:01.675Z"
   },
   {
    "duration": 30,
    "start_time": "2022-09-19T17:17:01.687Z"
   },
   {
    "duration": 20,
    "start_time": "2022-09-19T17:17:01.719Z"
   },
   {
    "duration": 43,
    "start_time": "2022-09-19T17:17:01.740Z"
   },
   {
    "duration": 18,
    "start_time": "2022-09-19T17:17:01.785Z"
   },
   {
    "duration": 22,
    "start_time": "2022-09-19T17:17:01.805Z"
   },
   {
    "duration": 8,
    "start_time": "2022-09-19T17:17:01.829Z"
   },
   {
    "duration": 37,
    "start_time": "2022-09-19T17:17:01.838Z"
   },
   {
    "duration": 47,
    "start_time": "2022-09-19T17:17:01.877Z"
   },
   {
    "duration": 196,
    "start_time": "2022-09-19T17:17:01.927Z"
   },
   {
    "duration": 185,
    "start_time": "2022-09-19T17:17:02.125Z"
   },
   {
    "duration": 199,
    "start_time": "2022-09-19T17:17:02.312Z"
   },
   {
    "duration": 185,
    "start_time": "2022-09-19T17:17:02.513Z"
   },
   {
    "duration": 20,
    "start_time": "2022-09-19T17:17:02.699Z"
   },
   {
    "duration": 20,
    "start_time": "2022-09-19T17:17:02.721Z"
   },
   {
    "duration": 309,
    "start_time": "2022-09-19T17:17:02.744Z"
   },
   {
    "duration": 728,
    "start_time": "2022-09-19T17:17:03.054Z"
   },
   {
    "duration": 7226,
    "start_time": "2022-09-19T17:17:03.789Z"
   },
   {
    "duration": 407,
    "start_time": "2022-09-19T17:17:11.017Z"
   },
   {
    "duration": 17,
    "start_time": "2022-09-19T17:17:11.426Z"
   },
   {
    "duration": 15,
    "start_time": "2022-09-19T17:17:11.444Z"
   },
   {
    "duration": 715,
    "start_time": "2022-09-19T17:17:11.461Z"
   },
   {
    "duration": 2191,
    "start_time": "2022-09-19T17:17:12.179Z"
   },
   {
    "duration": 105,
    "start_time": "2022-09-19T17:17:46.141Z"
   },
   {
    "duration": 2183,
    "start_time": "2022-09-19T17:18:10.757Z"
   },
   {
    "duration": 12,
    "start_time": "2022-09-19T17:19:01.936Z"
   },
   {
    "duration": 6,
    "start_time": "2022-09-19T17:24:39.601Z"
   },
   {
    "duration": 4,
    "start_time": "2022-09-19T17:24:54.736Z"
   },
   {
    "duration": 6,
    "start_time": "2022-09-19T17:25:15.961Z"
   },
   {
    "duration": 4,
    "start_time": "2022-09-19T17:25:39.192Z"
   },
   {
    "duration": 5,
    "start_time": "2022-09-19T17:26:06.394Z"
   },
   {
    "duration": 5,
    "start_time": "2022-09-19T17:26:41.774Z"
   },
   {
    "duration": 4,
    "start_time": "2022-09-19T17:27:11.265Z"
   },
   {
    "duration": 5,
    "start_time": "2022-09-19T17:27:29.322Z"
   },
   {
    "duration": 12,
    "start_time": "2022-09-19T17:27:33.449Z"
   },
   {
    "duration": 7,
    "start_time": "2022-09-19T17:27:50.979Z"
   },
   {
    "duration": 20,
    "start_time": "2022-09-19T17:27:58.596Z"
   },
   {
    "duration": 4,
    "start_time": "2022-09-19T17:28:02.440Z"
   },
   {
    "duration": 7,
    "start_time": "2022-09-19T17:28:12.061Z"
   },
   {
    "duration": 5,
    "start_time": "2022-09-19T17:28:17.253Z"
   },
   {
    "duration": 31,
    "start_time": "2022-09-19T17:28:29.816Z"
   },
   {
    "duration": 5,
    "start_time": "2022-09-19T17:28:39.291Z"
   },
   {
    "duration": 37,
    "start_time": "2022-09-19T17:30:05.426Z"
   },
   {
    "duration": 33,
    "start_time": "2022-09-19T17:30:29.949Z"
   },
   {
    "duration": 167,
    "start_time": "2022-09-19T17:31:31.514Z"
   },
   {
    "duration": 27,
    "start_time": "2022-09-19T17:31:32.946Z"
   },
   {
    "duration": 15,
    "start_time": "2022-09-19T17:31:33.197Z"
   },
   {
    "duration": 43,
    "start_time": "2022-09-19T17:31:33.746Z"
   },
   {
    "duration": 7,
    "start_time": "2022-09-19T17:31:35.183Z"
   },
   {
    "duration": 6,
    "start_time": "2022-09-19T17:31:41.834Z"
   },
   {
    "duration": 7,
    "start_time": "2022-09-19T17:31:43.712Z"
   },
   {
    "duration": 5,
    "start_time": "2022-09-19T17:31:48.397Z"
   },
   {
    "duration": 12,
    "start_time": "2022-09-19T17:31:51.585Z"
   },
   {
    "duration": 10,
    "start_time": "2022-09-19T17:32:20.928Z"
   },
   {
    "duration": 14,
    "start_time": "2022-09-19T17:32:30.165Z"
   },
   {
    "duration": 22,
    "start_time": "2022-09-19T17:32:32.066Z"
   },
   {
    "duration": 9,
    "start_time": "2022-09-19T17:32:32.871Z"
   },
   {
    "duration": 18,
    "start_time": "2022-09-19T17:32:34.753Z"
   },
   {
    "duration": 10,
    "start_time": "2022-09-19T17:32:36.101Z"
   },
   {
    "duration": 16,
    "start_time": "2022-09-19T17:32:39.079Z"
   },
   {
    "duration": 8,
    "start_time": "2022-09-19T17:32:41.212Z"
   },
   {
    "duration": 40,
    "start_time": "2022-09-19T17:32:48.464Z"
   },
   {
    "duration": 5,
    "start_time": "2022-09-19T17:32:58.279Z"
   },
   {
    "duration": 12,
    "start_time": "2022-09-19T17:33:01.791Z"
   },
   {
    "duration": 6,
    "start_time": "2022-09-19T17:33:07.498Z"
   },
   {
    "duration": 1263,
    "start_time": "2022-09-19T17:33:26.032Z"
   },
   {
    "duration": 14,
    "start_time": "2022-09-19T17:33:53.299Z"
   },
   {
    "duration": 6,
    "start_time": "2022-09-19T17:34:22.580Z"
   },
   {
    "duration": 32,
    "start_time": "2022-09-19T17:34:26.509Z"
   },
   {
    "duration": 5,
    "start_time": "2022-09-19T17:34:30.421Z"
   },
   {
    "duration": 4,
    "start_time": "2022-09-19T17:34:37.185Z"
   },
   {
    "duration": 11,
    "start_time": "2022-09-19T17:35:08.142Z"
   },
   {
    "duration": 6,
    "start_time": "2022-09-19T17:35:16.546Z"
   },
   {
    "duration": 35,
    "start_time": "2022-09-19T17:35:18.963Z"
   },
   {
    "duration": 5,
    "start_time": "2022-09-19T17:35:23.178Z"
   },
   {
    "duration": 37,
    "start_time": "2022-09-19T17:36:16.713Z"
   },
   {
    "duration": 13,
    "start_time": "2022-09-19T17:36:31.919Z"
   },
   {
    "duration": 35,
    "start_time": "2022-09-19T17:36:38.953Z"
   },
   {
    "duration": 5,
    "start_time": "2022-09-19T17:36:43.612Z"
   },
   {
    "duration": 36,
    "start_time": "2022-09-19T17:36:46.937Z"
   },
   {
    "duration": 5,
    "start_time": "2022-09-19T17:36:49.983Z"
   },
   {
    "duration": 5,
    "start_time": "2022-09-19T17:36:52.831Z"
   },
   {
    "duration": 1393,
    "start_time": "2022-09-19T17:37:15.287Z"
   },
   {
    "duration": 34,
    "start_time": "2022-09-19T17:37:16.682Z"
   },
   {
    "duration": 14,
    "start_time": "2022-09-19T17:37:16.718Z"
   },
   {
    "duration": 62,
    "start_time": "2022-09-19T17:37:16.734Z"
   },
   {
    "duration": 6,
    "start_time": "2022-09-19T17:37:16.798Z"
   },
   {
    "duration": 6,
    "start_time": "2022-09-19T17:37:16.806Z"
   },
   {
    "duration": 10,
    "start_time": "2022-09-19T17:37:16.813Z"
   },
   {
    "duration": 5,
    "start_time": "2022-09-19T17:37:16.824Z"
   },
   {
    "duration": 13,
    "start_time": "2022-09-19T17:37:16.830Z"
   },
   {
    "duration": 56,
    "start_time": "2022-09-19T17:37:16.844Z"
   },
   {
    "duration": 10,
    "start_time": "2022-09-19T17:37:16.901Z"
   },
   {
    "duration": 20,
    "start_time": "2022-09-19T17:37:16.913Z"
   },
   {
    "duration": 10,
    "start_time": "2022-09-19T17:37:16.935Z"
   },
   {
    "duration": 48,
    "start_time": "2022-09-19T17:37:16.949Z"
   },
   {
    "duration": 12,
    "start_time": "2022-09-19T17:37:16.999Z"
   },
   {
    "duration": 35,
    "start_time": "2022-09-19T17:37:17.013Z"
   },
   {
    "duration": 45,
    "start_time": "2022-09-19T17:37:17.050Z"
   },
   {
    "duration": 12,
    "start_time": "2022-09-19T17:37:17.097Z"
   },
   {
    "duration": 5,
    "start_time": "2022-09-19T17:37:17.111Z"
   },
   {
    "duration": 23,
    "start_time": "2022-09-19T17:37:17.118Z"
   },
   {
    "duration": 54,
    "start_time": "2022-09-19T17:37:17.143Z"
   },
   {
    "duration": 158,
    "start_time": "2022-09-19T17:37:17.198Z"
   },
   {
    "duration": 192,
    "start_time": "2022-09-19T17:37:17.358Z"
   },
   {
    "duration": 211,
    "start_time": "2022-09-19T17:37:17.552Z"
   },
   {
    "duration": 189,
    "start_time": "2022-09-19T17:37:17.765Z"
   },
   {
    "duration": 33,
    "start_time": "2022-09-19T17:37:17.956Z"
   },
   {
    "duration": 14,
    "start_time": "2022-09-19T17:37:17.991Z"
   },
   {
    "duration": 315,
    "start_time": "2022-09-19T17:37:18.006Z"
   },
   {
    "duration": 808,
    "start_time": "2022-09-19T17:37:18.323Z"
   },
   {
    "duration": 7036,
    "start_time": "2022-09-19T17:37:19.133Z"
   },
   {
    "duration": 374,
    "start_time": "2022-09-19T17:37:26.171Z"
   },
   {
    "duration": 16,
    "start_time": "2022-09-19T17:37:26.546Z"
   },
   {
    "duration": 26,
    "start_time": "2022-09-19T17:37:26.563Z"
   },
   {
    "duration": 550,
    "start_time": "2022-09-19T17:37:26.591Z"
   },
   {
    "duration": 8,
    "start_time": "2022-09-19T17:37:27.143Z"
   },
   {
    "duration": 357,
    "start_time": "2022-09-19T17:38:07.856Z"
   },
   {
    "duration": 110,
    "start_time": "2022-09-19T17:38:21.304Z"
   },
   {
    "duration": 103,
    "start_time": "2022-09-19T17:44:54.431Z"
   },
   {
    "duration": 115,
    "start_time": "2022-09-19T17:47:56.193Z"
   },
   {
    "duration": 123,
    "start_time": "2022-09-19T17:49:02.308Z"
   },
   {
    "duration": 123,
    "start_time": "2022-09-19T17:49:14.186Z"
   },
   {
    "duration": 133,
    "start_time": "2022-09-19T17:51:46.300Z"
   },
   {
    "duration": 133,
    "start_time": "2022-09-19T17:51:57.102Z"
   },
   {
    "duration": 130,
    "start_time": "2022-09-19T17:52:24.284Z"
   },
   {
    "duration": 122,
    "start_time": "2022-09-19T17:53:25.846Z"
   },
   {
    "duration": 121,
    "start_time": "2022-09-19T17:53:34.910Z"
   },
   {
    "duration": 317,
    "start_time": "2022-09-19T17:53:59.928Z"
   },
   {
    "duration": 246,
    "start_time": "2022-09-19T17:54:21.562Z"
   },
   {
    "duration": 149,
    "start_time": "2022-09-19T17:54:32.090Z"
   },
   {
    "duration": 128,
    "start_time": "2022-09-19T17:54:44.063Z"
   },
   {
    "duration": 133,
    "start_time": "2022-09-19T17:55:06.356Z"
   },
   {
    "duration": 510,
    "start_time": "2022-09-19T17:59:14.114Z"
   },
   {
    "duration": 1413,
    "start_time": "2022-09-19T18:00:44.564Z"
   },
   {
    "duration": 34,
    "start_time": "2022-09-19T18:00:45.978Z"
   },
   {
    "duration": 15,
    "start_time": "2022-09-19T18:00:46.014Z"
   },
   {
    "duration": 62,
    "start_time": "2022-09-19T18:00:46.031Z"
   },
   {
    "duration": 6,
    "start_time": "2022-09-19T18:00:46.094Z"
   },
   {
    "duration": 4,
    "start_time": "2022-09-19T18:00:46.101Z"
   },
   {
    "duration": 12,
    "start_time": "2022-09-19T18:00:46.107Z"
   },
   {
    "duration": 5,
    "start_time": "2022-09-19T18:00:46.120Z"
   },
   {
    "duration": 16,
    "start_time": "2022-09-19T18:00:46.126Z"
   },
   {
    "duration": 45,
    "start_time": "2022-09-19T18:00:46.145Z"
   },
   {
    "duration": 9,
    "start_time": "2022-09-19T18:00:46.192Z"
   },
   {
    "duration": 19,
    "start_time": "2022-09-19T18:00:46.203Z"
   },
   {
    "duration": 9,
    "start_time": "2022-09-19T18:00:46.224Z"
   },
   {
    "duration": 16,
    "start_time": "2022-09-19T18:00:46.234Z"
   },
   {
    "duration": 41,
    "start_time": "2022-09-19T18:00:46.251Z"
   },
   {
    "duration": 32,
    "start_time": "2022-09-19T18:00:46.293Z"
   },
   {
    "duration": 19,
    "start_time": "2022-09-19T18:00:46.326Z"
   },
   {
    "duration": 15,
    "start_time": "2022-09-19T18:00:46.347Z"
   },
   {
    "duration": 25,
    "start_time": "2022-09-19T18:00:46.364Z"
   },
   {
    "duration": 22,
    "start_time": "2022-09-19T18:00:46.390Z"
   },
   {
    "duration": 19,
    "start_time": "2022-09-19T18:00:46.414Z"
   },
   {
    "duration": 161,
    "start_time": "2022-09-19T18:00:46.434Z"
   },
   {
    "duration": 186,
    "start_time": "2022-09-19T18:00:46.596Z"
   },
   {
    "duration": 203,
    "start_time": "2022-09-19T18:00:46.788Z"
   },
   {
    "duration": 185,
    "start_time": "2022-09-19T18:00:46.992Z"
   },
   {
    "duration": 24,
    "start_time": "2022-09-19T18:00:47.179Z"
   },
   {
    "duration": 13,
    "start_time": "2022-09-19T18:00:47.205Z"
   },
   {
    "duration": 315,
    "start_time": "2022-09-19T18:00:47.222Z"
   },
   {
    "duration": 832,
    "start_time": "2022-09-19T18:00:47.538Z"
   },
   {
    "duration": 6973,
    "start_time": "2022-09-19T18:00:48.372Z"
   },
   {
    "duration": 369,
    "start_time": "2022-09-19T18:00:55.347Z"
   },
   {
    "duration": 16,
    "start_time": "2022-09-19T18:00:55.718Z"
   },
   {
    "duration": 26,
    "start_time": "2022-09-19T18:00:55.735Z"
   },
   {
    "duration": 547,
    "start_time": "2022-09-19T18:00:55.763Z"
   },
   {
    "duration": 385,
    "start_time": "2022-09-19T18:00:56.312Z"
   },
   {
    "duration": 534,
    "start_time": "2022-09-19T18:00:56.699Z"
   },
   {
    "duration": 135,
    "start_time": "2022-09-19T18:01:19.248Z"
   },
   {
    "duration": 137,
    "start_time": "2022-09-19T18:01:45.351Z"
   },
   {
    "duration": 1595,
    "start_time": "2022-09-20T07:59:24.355Z"
   },
   {
    "duration": 28,
    "start_time": "2022-09-20T07:59:25.952Z"
   },
   {
    "duration": 14,
    "start_time": "2022-09-20T07:59:25.981Z"
   },
   {
    "duration": 38,
    "start_time": "2022-09-20T07:59:25.997Z"
   },
   {
    "duration": 6,
    "start_time": "2022-09-20T07:59:26.037Z"
   },
   {
    "duration": 3,
    "start_time": "2022-09-20T07:59:26.045Z"
   },
   {
    "duration": 8,
    "start_time": "2022-09-20T07:59:26.076Z"
   },
   {
    "duration": 6,
    "start_time": "2022-09-20T07:59:26.086Z"
   },
   {
    "duration": 11,
    "start_time": "2022-09-20T07:59:26.094Z"
   },
   {
    "duration": 18,
    "start_time": "2022-09-20T07:59:26.108Z"
   },
   {
    "duration": 8,
    "start_time": "2022-09-20T07:59:26.128Z"
   },
   {
    "duration": 54,
    "start_time": "2022-09-20T07:59:26.137Z"
   },
   {
    "duration": 10,
    "start_time": "2022-09-20T07:59:26.192Z"
   },
   {
    "duration": 17,
    "start_time": "2022-09-20T07:59:26.203Z"
   },
   {
    "duration": 9,
    "start_time": "2022-09-20T07:59:26.222Z"
   },
   {
    "duration": 58,
    "start_time": "2022-09-20T07:59:26.233Z"
   },
   {
    "duration": 17,
    "start_time": "2022-09-20T07:59:26.293Z"
   },
   {
    "duration": 12,
    "start_time": "2022-09-20T07:59:26.312Z"
   },
   {
    "duration": 3,
    "start_time": "2022-09-20T07:59:26.326Z"
   },
   {
    "duration": 46,
    "start_time": "2022-09-20T07:59:26.331Z"
   },
   {
    "duration": 23,
    "start_time": "2022-09-20T07:59:26.378Z"
   },
   {
    "duration": 150,
    "start_time": "2022-09-20T07:59:26.402Z"
   },
   {
    "duration": 223,
    "start_time": "2022-09-20T07:59:26.555Z"
   },
   {
    "duration": 229,
    "start_time": "2022-09-20T07:59:26.781Z"
   },
   {
    "duration": 202,
    "start_time": "2022-09-20T07:59:27.012Z"
   },
   {
    "duration": 20,
    "start_time": "2022-09-20T07:59:27.216Z"
   },
   {
    "duration": 13,
    "start_time": "2022-09-20T07:59:27.238Z"
   },
   {
    "duration": 269,
    "start_time": "2022-09-20T07:59:27.276Z"
   },
   {
    "duration": 823,
    "start_time": "2022-09-20T07:59:27.547Z"
   },
   {
    "duration": 7001,
    "start_time": "2022-09-20T07:59:28.379Z"
   },
   {
    "duration": 365,
    "start_time": "2022-09-20T07:59:35.381Z"
   },
   {
    "duration": 15,
    "start_time": "2022-09-20T07:59:35.747Z"
   },
   {
    "duration": 10,
    "start_time": "2022-09-20T07:59:35.777Z"
   },
   {
    "duration": 555,
    "start_time": "2022-09-20T07:59:35.789Z"
   },
   {
    "duration": 357,
    "start_time": "2022-09-20T07:59:36.345Z"
   },
   {
    "duration": 1608,
    "start_time": "2022-09-21T06:03:47.085Z"
   },
   {
    "duration": 30,
    "start_time": "2022-09-21T06:03:48.695Z"
   },
   {
    "duration": 15,
    "start_time": "2022-09-21T06:03:48.727Z"
   },
   {
    "duration": 38,
    "start_time": "2022-09-21T06:03:48.744Z"
   },
   {
    "duration": 7,
    "start_time": "2022-09-21T06:03:48.809Z"
   },
   {
    "duration": 6,
    "start_time": "2022-09-21T06:03:48.818Z"
   },
   {
    "duration": 9,
    "start_time": "2022-09-21T06:03:48.826Z"
   },
   {
    "duration": 5,
    "start_time": "2022-09-21T06:03:48.836Z"
   },
   {
    "duration": 16,
    "start_time": "2022-09-21T06:03:48.843Z"
   },
   {
    "duration": 62,
    "start_time": "2022-09-21T06:03:48.862Z"
   },
   {
    "duration": 10,
    "start_time": "2022-09-21T06:03:48.926Z"
   },
   {
    "duration": 32,
    "start_time": "2022-09-21T06:03:48.938Z"
   },
   {
    "duration": 12,
    "start_time": "2022-09-21T06:03:48.972Z"
   },
   {
    "duration": 36,
    "start_time": "2022-09-21T06:03:48.986Z"
   },
   {
    "duration": 14,
    "start_time": "2022-09-21T06:03:49.023Z"
   },
   {
    "duration": 29,
    "start_time": "2022-09-21T06:03:49.039Z"
   },
   {
    "duration": 39,
    "start_time": "2022-09-21T06:03:49.070Z"
   },
   {
    "duration": 13,
    "start_time": "2022-09-21T06:03:49.111Z"
   },
   {
    "duration": 5,
    "start_time": "2022-09-21T06:03:49.125Z"
   },
   {
    "duration": 27,
    "start_time": "2022-09-21T06:03:49.132Z"
   },
   {
    "duration": 17,
    "start_time": "2022-09-21T06:03:49.160Z"
   },
   {
    "duration": 180,
    "start_time": "2022-09-21T06:03:49.179Z"
   },
   {
    "duration": 222,
    "start_time": "2022-09-21T06:03:49.361Z"
   },
   {
    "duration": 192,
    "start_time": "2022-09-21T06:03:49.585Z"
   },
   {
    "duration": 195,
    "start_time": "2022-09-21T06:03:49.778Z"
   },
   {
    "duration": 35,
    "start_time": "2022-09-21T06:03:49.975Z"
   },
   {
    "duration": 14,
    "start_time": "2022-09-21T06:03:50.012Z"
   },
   {
    "duration": 275,
    "start_time": "2022-09-21T06:03:50.029Z"
   },
   {
    "duration": 711,
    "start_time": "2022-09-21T06:03:50.305Z"
   },
   {
    "duration": 6040,
    "start_time": "2022-09-21T06:03:51.017Z"
   },
   {
    "duration": 346,
    "start_time": "2022-09-21T06:03:57.059Z"
   },
   {
    "duration": 15,
    "start_time": "2022-09-21T06:03:57.409Z"
   },
   {
    "duration": 13,
    "start_time": "2022-09-21T06:03:57.425Z"
   },
   {
    "duration": 516,
    "start_time": "2022-09-21T06:03:57.440Z"
   },
   {
    "duration": 295,
    "start_time": "2022-09-21T06:03:57.957Z"
   },
   {
    "duration": 3,
    "start_time": "2022-09-21T08:10:22.369Z"
   },
   {
    "duration": 24,
    "start_time": "2022-09-21T08:10:27.273Z"
   },
   {
    "duration": 96,
    "start_time": "2022-09-21T08:10:38.863Z"
   },
   {
    "duration": 159,
    "start_time": "2022-09-21T08:10:43.776Z"
   },
   {
    "duration": 55,
    "start_time": "2022-09-21T13:33:11.603Z"
   },
   {
    "duration": 1520,
    "start_time": "2022-09-21T13:33:19.254Z"
   },
   {
    "duration": 30,
    "start_time": "2022-09-21T13:33:20.776Z"
   },
   {
    "duration": 13,
    "start_time": "2022-09-21T13:33:20.807Z"
   },
   {
    "duration": 39,
    "start_time": "2022-09-21T13:33:20.822Z"
   },
   {
    "duration": 5,
    "start_time": "2022-09-21T13:33:20.977Z"
   },
   {
    "duration": 91,
    "start_time": "2022-09-21T13:33:22.481Z"
   },
   {
    "duration": 6,
    "start_time": "2022-09-21T13:33:30.358Z"
   },
   {
    "duration": 49,
    "start_time": "2022-09-21T13:34:08.764Z"
   },
   {
    "duration": 16,
    "start_time": "2022-09-21T13:34:13.506Z"
   },
   {
    "duration": 74,
    "start_time": "2022-09-22T09:30:41.723Z"
   },
   {
    "duration": 1748,
    "start_time": "2022-09-22T09:30:54.921Z"
   },
   {
    "duration": 34,
    "start_time": "2022-09-22T09:30:56.671Z"
   },
   {
    "duration": 16,
    "start_time": "2022-09-22T09:30:56.706Z"
   },
   {
    "duration": 37,
    "start_time": "2022-09-22T09:30:59.868Z"
   },
   {
    "duration": 82,
    "start_time": "2022-09-22T09:31:51.591Z"
   },
   {
    "duration": 22,
    "start_time": "2022-09-22T09:36:54.506Z"
   },
   {
    "duration": 114,
    "start_time": "2022-09-22T09:37:19.187Z"
   },
   {
    "duration": 21,
    "start_time": "2022-09-22T09:37:26.323Z"
   },
   {
    "duration": 20,
    "start_time": "2022-09-22T09:37:35.972Z"
   },
   {
    "duration": 176,
    "start_time": "2022-09-22T09:37:41.861Z"
   },
   {
    "duration": 31,
    "start_time": "2022-09-22T09:37:42.459Z"
   },
   {
    "duration": 15,
    "start_time": "2022-09-22T09:37:42.755Z"
   },
   {
    "duration": 23,
    "start_time": "2022-09-22T09:37:43.458Z"
   },
   {
    "duration": 16,
    "start_time": "2022-09-22T09:38:08.194Z"
   },
   {
    "duration": 162,
    "start_time": "2022-09-22T09:38:12.571Z"
   },
   {
    "duration": 29,
    "start_time": "2022-09-22T09:38:13.082Z"
   },
   {
    "duration": 18,
    "start_time": "2022-09-22T09:38:13.242Z"
   },
   {
    "duration": 17,
    "start_time": "2022-09-22T09:38:13.897Z"
   },
   {
    "duration": 9,
    "start_time": "2022-09-22T09:38:46.786Z"
   },
   {
    "duration": 13,
    "start_time": "2022-09-22T09:38:57.353Z"
   },
   {
    "duration": 171,
    "start_time": "2022-09-22T09:39:02.769Z"
   },
   {
    "duration": 26,
    "start_time": "2022-09-22T09:39:03.977Z"
   },
   {
    "duration": 15,
    "start_time": "2022-09-22T09:39:04.609Z"
   },
   {
    "duration": 15,
    "start_time": "2022-09-22T09:39:06.721Z"
   },
   {
    "duration": 158,
    "start_time": "2022-09-22T09:39:19.609Z"
   },
   {
    "duration": 28,
    "start_time": "2022-09-22T09:39:20.232Z"
   },
   {
    "duration": 14,
    "start_time": "2022-09-22T09:39:20.521Z"
   },
   {
    "duration": 25,
    "start_time": "2022-09-22T09:39:21.945Z"
   },
   {
    "duration": 15,
    "start_time": "2022-09-22T09:40:25.136Z"
   },
   {
    "duration": 4,
    "start_time": "2022-09-22T09:43:19.136Z"
   },
   {
    "duration": 913,
    "start_time": "2022-09-22T09:43:35.094Z"
   },
   {
    "duration": 168,
    "start_time": "2022-09-22T09:43:55.101Z"
   },
   {
    "duration": 28,
    "start_time": "2022-09-22T09:43:55.540Z"
   },
   {
    "duration": 14,
    "start_time": "2022-09-22T09:43:55.686Z"
   },
   {
    "duration": 19,
    "start_time": "2022-09-22T09:43:56.405Z"
   },
   {
    "duration": 1124,
    "start_time": "2022-09-22T09:44:00.822Z"
   },
   {
    "duration": 9,
    "start_time": "2022-09-22T09:48:58.338Z"
   },
   {
    "duration": 10,
    "start_time": "2022-09-22T09:49:18.113Z"
   },
   {
    "duration": 1116,
    "start_time": "2022-09-22T09:49:25.426Z"
   },
   {
    "duration": 924,
    "start_time": "2022-09-22T09:52:35.608Z"
   },
   {
    "duration": 169,
    "start_time": "2022-09-22T09:52:42.967Z"
   },
   {
    "duration": 30,
    "start_time": "2022-09-22T09:52:43.350Z"
   },
   {
    "duration": 17,
    "start_time": "2022-09-22T09:52:43.488Z"
   },
   {
    "duration": 21,
    "start_time": "2022-09-22T09:52:44.390Z"
   },
   {
    "duration": 19,
    "start_time": "2022-09-22T09:52:46.479Z"
   },
   {
    "duration": 11,
    "start_time": "2022-09-22T09:52:54.599Z"
   },
   {
    "duration": 173,
    "start_time": "2022-09-22T09:52:59.143Z"
   },
   {
    "duration": 29,
    "start_time": "2022-09-22T09:52:59.504Z"
   },
   {
    "duration": 15,
    "start_time": "2022-09-22T09:52:59.657Z"
   },
   {
    "duration": 20,
    "start_time": "2022-09-22T09:52:59.935Z"
   },
   {
    "duration": 14,
    "start_time": "2022-09-22T09:53:01.293Z"
   },
   {
    "duration": 20,
    "start_time": "2022-09-22T09:54:43.017Z"
   },
   {
    "duration": 11,
    "start_time": "2022-09-22T09:55:50.246Z"
   },
   {
    "duration": 12,
    "start_time": "2022-09-22T09:55:51.140Z"
   },
   {
    "duration": 41,
    "start_time": "2022-09-22T09:56:03.701Z"
   },
   {
    "duration": 178,
    "start_time": "2022-09-22T09:56:14.486Z"
   },
   {
    "duration": 28,
    "start_time": "2022-09-22T09:56:14.789Z"
   },
   {
    "duration": 17,
    "start_time": "2022-09-22T09:56:14.989Z"
   },
   {
    "duration": 23,
    "start_time": "2022-09-22T09:56:15.324Z"
   },
   {
    "duration": 12,
    "start_time": "2022-09-22T09:56:15.892Z"
   },
   {
    "duration": 15,
    "start_time": "2022-09-22T09:56:17.837Z"
   },
   {
    "duration": 39,
    "start_time": "2022-09-22T09:56:18.797Z"
   },
   {
    "duration": 24,
    "start_time": "2022-09-22T09:57:27.917Z"
   },
   {
    "duration": 50,
    "start_time": "2022-09-22T09:57:39.830Z"
   },
   {
    "duration": 1340,
    "start_time": "2022-09-22T09:59:44.387Z"
   },
   {
    "duration": 1151,
    "start_time": "2022-09-22T12:11:56.209Z"
   },
   {
    "duration": 6,
    "start_time": "2022-09-22T12:12:14.412Z"
   },
   {
    "duration": 7,
    "start_time": "2022-09-22T12:12:20.188Z"
   },
   {
    "duration": 13,
    "start_time": "2022-09-22T12:13:46.402Z"
   },
   {
    "duration": 21,
    "start_time": "2022-09-22T12:13:57.346Z"
   },
   {
    "duration": 9,
    "start_time": "2022-09-22T12:21:49.011Z"
   },
   {
    "duration": 9,
    "start_time": "2022-09-22T12:22:08.641Z"
   },
   {
    "duration": 17,
    "start_time": "2022-09-22T12:22:32.505Z"
   },
   {
    "duration": 20,
    "start_time": "2022-09-22T12:23:04.601Z"
   },
   {
    "duration": 18,
    "start_time": "2022-09-22T12:23:30.039Z"
   },
   {
    "duration": 16,
    "start_time": "2022-09-22T12:24:40.950Z"
   },
   {
    "duration": 4,
    "start_time": "2022-09-22T12:24:52.381Z"
   },
   {
    "duration": 18,
    "start_time": "2022-09-22T12:25:07.286Z"
   },
   {
    "duration": 17,
    "start_time": "2022-09-22T12:29:11.595Z"
   },
   {
    "duration": 14,
    "start_time": "2022-09-22T12:29:23.218Z"
   },
   {
    "duration": 10,
    "start_time": "2022-09-22T12:29:41.713Z"
   },
   {
    "duration": 1853,
    "start_time": "2022-09-22T12:30:02.810Z"
   },
   {
    "duration": 57,
    "start_time": "2022-09-22T12:30:25.138Z"
   },
   {
    "duration": 1497,
    "start_time": "2022-09-22T12:30:40.794Z"
   },
   {
    "duration": 43,
    "start_time": "2022-09-22T12:30:42.294Z"
   },
   {
    "duration": 15,
    "start_time": "2022-09-22T12:30:42.338Z"
   },
   {
    "duration": 53,
    "start_time": "2022-09-22T12:30:42.356Z"
   },
   {
    "duration": 14,
    "start_time": "2022-09-22T12:30:42.412Z"
   },
   {
    "duration": 25,
    "start_time": "2022-09-22T12:30:42.428Z"
   },
   {
    "duration": 58,
    "start_time": "2022-09-22T12:30:42.455Z"
   },
   {
    "duration": 6,
    "start_time": "2022-09-22T12:30:42.514Z"
   },
   {
    "duration": 4,
    "start_time": "2022-09-22T12:30:42.522Z"
   },
   {
    "duration": 9,
    "start_time": "2022-09-22T12:30:42.529Z"
   },
   {
    "duration": 5,
    "start_time": "2022-09-22T12:30:42.540Z"
   },
   {
    "duration": 49,
    "start_time": "2022-09-22T12:30:42.546Z"
   },
   {
    "duration": 23,
    "start_time": "2022-09-22T12:30:42.597Z"
   },
   {
    "duration": 10,
    "start_time": "2022-09-22T12:30:42.621Z"
   },
   {
    "duration": 16,
    "start_time": "2022-09-22T12:30:42.633Z"
   },
   {
    "duration": 111,
    "start_time": "2022-09-22T12:30:42.651Z"
   },
   {
    "duration": 31,
    "start_time": "2022-09-22T12:30:42.764Z"
   },
   {
    "duration": 6,
    "start_time": "2022-09-22T12:30:42.797Z"
   },
   {
    "duration": 22,
    "start_time": "2022-09-22T12:30:42.804Z"
   },
   {
    "duration": 21,
    "start_time": "2022-09-22T12:30:42.827Z"
   },
   {
    "duration": 18,
    "start_time": "2022-09-22T12:30:42.849Z"
   },
   {
    "duration": 11,
    "start_time": "2022-09-22T12:30:42.890Z"
   },
   {
    "duration": 44,
    "start_time": "2022-09-22T12:30:42.903Z"
   },
   {
    "duration": 46,
    "start_time": "2022-09-22T12:30:42.949Z"
   },
   {
    "duration": 10,
    "start_time": "2022-09-22T12:30:42.997Z"
   },
   {
    "duration": 4,
    "start_time": "2022-09-22T12:30:43.009Z"
   },
   {
    "duration": 35,
    "start_time": "2022-09-22T12:30:43.014Z"
   },
   {
    "duration": 39,
    "start_time": "2022-09-22T12:30:43.052Z"
   },
   {
    "duration": 187,
    "start_time": "2022-09-22T12:30:43.092Z"
   },
   {
    "duration": 236,
    "start_time": "2022-09-22T12:30:43.282Z"
   },
   {
    "duration": 224,
    "start_time": "2022-09-22T12:30:43.521Z"
   },
   {
    "duration": 3,
    "start_time": "2022-09-22T12:30:43.747Z"
   },
   {
    "duration": 198,
    "start_time": "2022-09-22T12:30:43.752Z"
   },
   {
    "duration": 216,
    "start_time": "2022-09-22T12:30:43.952Z"
   },
   {
    "duration": 32,
    "start_time": "2022-09-22T12:30:44.171Z"
   },
   {
    "duration": 15,
    "start_time": "2022-09-22T12:30:44.205Z"
   },
   {
    "duration": 355,
    "start_time": "2022-09-22T12:30:44.222Z"
   },
   {
    "duration": 1106,
    "start_time": "2022-09-22T12:30:44.579Z"
   },
   {
    "duration": 7569,
    "start_time": "2022-09-22T12:30:45.687Z"
   },
   {
    "duration": 432,
    "start_time": "2022-09-22T12:30:53.258Z"
   },
   {
    "duration": 21,
    "start_time": "2022-09-22T12:30:53.693Z"
   },
   {
    "duration": 20,
    "start_time": "2022-09-22T12:30:53.716Z"
   },
   {
    "duration": 856,
    "start_time": "2022-09-22T12:30:53.738Z"
   },
   {
    "duration": 140,
    "start_time": "2022-09-22T12:30:54.596Z"
   },
   {
    "duration": 22,
    "start_time": "2022-09-22T12:35:51.684Z"
   },
   {
    "duration": 22,
    "start_time": "2022-09-22T12:36:01.745Z"
   },
   {
    "duration": 21,
    "start_time": "2022-09-22T12:36:08.339Z"
   },
   {
    "duration": 21,
    "start_time": "2022-09-22T12:36:16.449Z"
   },
   {
    "duration": 22,
    "start_time": "2022-09-22T12:36:21.056Z"
   },
   {
    "duration": 23,
    "start_time": "2022-09-22T12:36:32.576Z"
   },
   {
    "duration": 116,
    "start_time": "2022-09-22T12:36:43.469Z"
   },
   {
    "duration": 55,
    "start_time": "2022-09-22T12:36:55.479Z"
   },
   {
    "duration": 56,
    "start_time": "2022-09-22T12:37:02.313Z"
   },
   {
    "duration": 17,
    "start_time": "2022-09-22T12:37:20.400Z"
   },
   {
    "duration": 9,
    "start_time": "2022-09-22T12:38:41.488Z"
   },
   {
    "duration": 57,
    "start_time": "2022-09-22T12:38:55.448Z"
   },
   {
    "duration": 26,
    "start_time": "2022-09-22T12:44:35.479Z"
   },
   {
    "duration": 6,
    "start_time": "2022-09-22T12:44:44.245Z"
   },
   {
    "duration": 25,
    "start_time": "2022-09-22T12:44:52.624Z"
   },
   {
    "duration": 46,
    "start_time": "2022-09-22T12:45:48.031Z"
   },
   {
    "duration": 11,
    "start_time": "2022-09-22T12:46:14.320Z"
   },
   {
    "duration": 11,
    "start_time": "2022-09-22T12:46:22.591Z"
   },
   {
    "duration": 11,
    "start_time": "2022-09-22T12:46:49.718Z"
   },
   {
    "duration": 27,
    "start_time": "2022-09-22T12:46:58.553Z"
   },
   {
    "duration": 10,
    "start_time": "2022-09-22T12:47:11.559Z"
   },
   {
    "duration": 20,
    "start_time": "2022-09-22T12:47:51.857Z"
   },
   {
    "duration": 18,
    "start_time": "2022-09-22T12:48:12.477Z"
   },
   {
    "duration": 1367,
    "start_time": "2022-09-22T12:48:17.837Z"
   },
   {
    "duration": 33,
    "start_time": "2022-09-22T12:48:19.206Z"
   },
   {
    "duration": 19,
    "start_time": "2022-09-22T12:48:19.240Z"
   },
   {
    "duration": 40,
    "start_time": "2022-09-22T12:48:19.262Z"
   },
   {
    "duration": 12,
    "start_time": "2022-09-22T12:48:19.304Z"
   },
   {
    "duration": 13,
    "start_time": "2022-09-22T12:48:19.318Z"
   },
   {
    "duration": 70,
    "start_time": "2022-09-22T12:48:19.333Z"
   },
   {
    "duration": 7,
    "start_time": "2022-09-22T12:48:19.405Z"
   },
   {
    "duration": 6,
    "start_time": "2022-09-22T12:48:19.414Z"
   },
   {
    "duration": 10,
    "start_time": "2022-09-22T12:48:19.423Z"
   },
   {
    "duration": 9,
    "start_time": "2022-09-22T12:48:19.435Z"
   },
   {
    "duration": 17,
    "start_time": "2022-09-22T12:48:19.446Z"
   },
   {
    "duration": 43,
    "start_time": "2022-09-22T12:48:19.464Z"
   },
   {
    "duration": 10,
    "start_time": "2022-09-22T12:48:19.509Z"
   },
   {
    "duration": 31,
    "start_time": "2022-09-22T12:48:19.521Z"
   },
   {
    "duration": 35,
    "start_time": "2022-09-22T12:48:19.553Z"
   },
   {
    "duration": 5,
    "start_time": "2022-09-22T12:48:19.590Z"
   },
   {
    "duration": 24,
    "start_time": "2022-09-22T12:48:19.597Z"
   },
   {
    "duration": 11,
    "start_time": "2022-09-22T12:48:19.623Z"
   },
   {
    "duration": 16,
    "start_time": "2022-09-22T12:48:19.635Z"
   },
   {
    "duration": 39,
    "start_time": "2022-09-22T12:48:19.652Z"
   },
   {
    "duration": 10,
    "start_time": "2022-09-22T12:48:19.693Z"
   },
   {
    "duration": 39,
    "start_time": "2022-09-22T12:48:19.704Z"
   },
   {
    "duration": 26,
    "start_time": "2022-09-22T12:48:19.745Z"
   },
   {
    "duration": 8,
    "start_time": "2022-09-22T12:48:19.790Z"
   },
   {
    "duration": 5,
    "start_time": "2022-09-22T12:48:19.800Z"
   },
   {
    "duration": 24,
    "start_time": "2022-09-22T12:48:19.807Z"
   },
   {
    "duration": 21,
    "start_time": "2022-09-22T12:48:19.835Z"
   },
   {
    "duration": 192,
    "start_time": "2022-09-22T12:48:19.857Z"
   },
   {
    "duration": 205,
    "start_time": "2022-09-22T12:48:20.051Z"
   },
   {
    "duration": 227,
    "start_time": "2022-09-22T12:48:20.258Z"
   },
   {
    "duration": 3,
    "start_time": "2022-09-22T12:48:20.489Z"
   },
   {
    "duration": 180,
    "start_time": "2022-09-22T12:48:20.494Z"
   },
   {
    "duration": 218,
    "start_time": "2022-09-22T12:48:20.677Z"
   },
   {
    "duration": 21,
    "start_time": "2022-09-22T12:48:20.898Z"
   },
   {
    "duration": 14,
    "start_time": "2022-09-22T12:48:20.921Z"
   },
   {
    "duration": 328,
    "start_time": "2022-09-22T12:48:20.937Z"
   },
   {
    "duration": 876,
    "start_time": "2022-09-22T12:48:21.267Z"
   },
   {
    "duration": 8122,
    "start_time": "2022-09-22T12:48:22.145Z"
   },
   {
    "duration": 406,
    "start_time": "2022-09-22T12:48:30.270Z"
   },
   {
    "duration": 25,
    "start_time": "2022-09-22T12:48:30.678Z"
   },
   {
    "duration": 18,
    "start_time": "2022-09-22T12:48:30.705Z"
   },
   {
    "duration": 871,
    "start_time": "2022-09-22T12:48:30.725Z"
   },
   {
    "duration": 149,
    "start_time": "2022-09-22T12:48:31.598Z"
   },
   {
    "duration": 6,
    "start_time": "2022-09-22T13:41:33.608Z"
   },
   {
    "duration": 10,
    "start_time": "2022-09-22T13:41:49.134Z"
   },
   {
    "duration": 6,
    "start_time": "2022-09-22T13:42:02.350Z"
   },
   {
    "duration": 27,
    "start_time": "2022-09-22T13:44:17.229Z"
   },
   {
    "duration": 51,
    "start_time": "2022-09-22T13:44:23.845Z"
   },
   {
    "duration": 1452,
    "start_time": "2022-09-22T13:50:18.062Z"
   },
   {
    "duration": 33,
    "start_time": "2022-09-22T13:50:19.516Z"
   },
   {
    "duration": 15,
    "start_time": "2022-09-22T13:50:19.550Z"
   },
   {
    "duration": 22,
    "start_time": "2022-09-22T13:50:19.567Z"
   },
   {
    "duration": 12,
    "start_time": "2022-09-22T13:50:19.590Z"
   },
   {
    "duration": 15,
    "start_time": "2022-09-22T13:50:19.604Z"
   },
   {
    "duration": 41,
    "start_time": "2022-09-22T13:50:19.621Z"
   },
   {
    "duration": 29,
    "start_time": "2022-09-22T13:50:19.664Z"
   },
   {
    "duration": 5,
    "start_time": "2022-09-22T13:50:19.695Z"
   },
   {
    "duration": 18,
    "start_time": "2022-09-22T13:50:19.703Z"
   },
   {
    "duration": 12,
    "start_time": "2022-09-22T13:50:19.723Z"
   },
   {
    "duration": 19,
    "start_time": "2022-09-22T13:50:19.737Z"
   },
   {
    "duration": 37,
    "start_time": "2022-09-22T13:50:19.757Z"
   },
   {
    "duration": 9,
    "start_time": "2022-09-22T13:50:19.795Z"
   },
   {
    "duration": 23,
    "start_time": "2022-09-22T13:50:19.806Z"
   },
   {
    "duration": 39,
    "start_time": "2022-09-22T13:50:19.831Z"
   },
   {
    "duration": 19,
    "start_time": "2022-09-22T13:50:19.872Z"
   },
   {
    "duration": 20,
    "start_time": "2022-09-22T13:50:19.893Z"
   },
   {
    "duration": 11,
    "start_time": "2022-09-22T13:50:19.915Z"
   },
   {
    "duration": 10,
    "start_time": "2022-09-22T13:50:19.928Z"
   },
   {
    "duration": 31,
    "start_time": "2022-09-22T13:50:19.940Z"
   },
   {
    "duration": 29,
    "start_time": "2022-09-22T13:50:19.973Z"
   },
   {
    "duration": 39,
    "start_time": "2022-09-22T13:50:20.004Z"
   },
   {
    "duration": 53,
    "start_time": "2022-09-22T13:50:20.045Z"
   },
   {
    "duration": 22,
    "start_time": "2022-09-22T13:50:20.101Z"
   },
   {
    "duration": 22,
    "start_time": "2022-09-22T13:50:20.125Z"
   },
   {
    "duration": 45,
    "start_time": "2022-09-22T13:50:20.149Z"
   },
   {
    "duration": 16,
    "start_time": "2022-09-22T13:50:20.198Z"
   },
   {
    "duration": 175,
    "start_time": "2022-09-22T13:50:20.216Z"
   },
   {
    "duration": 197,
    "start_time": "2022-09-22T13:50:20.393Z"
   },
   {
    "duration": 216,
    "start_time": "2022-09-22T13:50:20.591Z"
   },
   {
    "duration": 3,
    "start_time": "2022-09-22T13:50:20.809Z"
   },
   {
    "duration": 180,
    "start_time": "2022-09-22T13:50:20.813Z"
   },
   {
    "duration": 198,
    "start_time": "2022-09-22T13:50:20.995Z"
   },
   {
    "duration": 22,
    "start_time": "2022-09-22T13:50:21.195Z"
   },
   {
    "duration": 14,
    "start_time": "2022-09-22T13:50:21.218Z"
   },
   {
    "duration": 324,
    "start_time": "2022-09-22T13:50:21.233Z"
   },
   {
    "duration": 839,
    "start_time": "2022-09-22T13:50:21.559Z"
   },
   {
    "duration": 7110,
    "start_time": "2022-09-22T13:50:22.400Z"
   },
   {
    "duration": 391,
    "start_time": "2022-09-22T13:50:29.512Z"
   },
   {
    "duration": 17,
    "start_time": "2022-09-22T13:50:29.905Z"
   },
   {
    "duration": 14,
    "start_time": "2022-09-22T13:50:29.925Z"
   },
   {
    "duration": 890,
    "start_time": "2022-09-22T13:50:29.941Z"
   },
   {
    "duration": 142,
    "start_time": "2022-09-22T13:50:30.833Z"
   },
   {
    "duration": 1713,
    "start_time": "2022-09-23T05:58:24.387Z"
   },
   {
    "duration": 32,
    "start_time": "2022-09-23T05:58:26.102Z"
   },
   {
    "duration": 14,
    "start_time": "2022-09-23T05:58:26.136Z"
   },
   {
    "duration": 21,
    "start_time": "2022-09-23T05:58:26.153Z"
   },
   {
    "duration": 12,
    "start_time": "2022-09-23T05:58:26.188Z"
   },
   {
    "duration": 15,
    "start_time": "2022-09-23T05:58:26.202Z"
   },
   {
    "duration": 40,
    "start_time": "2022-09-23T05:58:26.219Z"
   },
   {
    "duration": 35,
    "start_time": "2022-09-23T05:58:26.261Z"
   },
   {
    "duration": 6,
    "start_time": "2022-09-23T05:58:26.297Z"
   },
   {
    "duration": 11,
    "start_time": "2022-09-23T05:58:26.306Z"
   },
   {
    "duration": 13,
    "start_time": "2022-09-23T05:58:26.318Z"
   },
   {
    "duration": 22,
    "start_time": "2022-09-23T05:58:26.333Z"
   },
   {
    "duration": 40,
    "start_time": "2022-09-23T05:58:26.356Z"
   },
   {
    "duration": 10,
    "start_time": "2022-09-23T05:58:26.397Z"
   },
   {
    "duration": 17,
    "start_time": "2022-09-23T05:58:26.408Z"
   },
   {
    "duration": 24,
    "start_time": "2022-09-23T05:58:26.426Z"
   },
   {
    "duration": 39,
    "start_time": "2022-09-23T05:58:26.452Z"
   },
   {
    "duration": 19,
    "start_time": "2022-09-23T05:58:26.493Z"
   },
   {
    "duration": 9,
    "start_time": "2022-09-23T05:58:26.514Z"
   },
   {
    "duration": 8,
    "start_time": "2022-09-23T05:58:26.524Z"
   },
   {
    "duration": 15,
    "start_time": "2022-09-23T05:58:26.534Z"
   },
   {
    "duration": 41,
    "start_time": "2022-09-23T05:58:26.551Z"
   },
   {
    "duration": 32,
    "start_time": "2022-09-23T05:58:26.594Z"
   },
   {
    "duration": 19,
    "start_time": "2022-09-23T05:58:26.628Z"
   },
   {
    "duration": 7,
    "start_time": "2022-09-23T05:58:26.649Z"
   },
   {
    "duration": 34,
    "start_time": "2022-09-23T05:58:26.658Z"
   },
   {
    "duration": 34,
    "start_time": "2022-09-23T05:58:26.694Z"
   },
   {
    "duration": 15,
    "start_time": "2022-09-23T05:58:26.731Z"
   },
   {
    "duration": 167,
    "start_time": "2022-09-23T05:58:26.748Z"
   },
   {
    "duration": 199,
    "start_time": "2022-09-23T05:58:26.917Z"
   },
   {
    "duration": 199,
    "start_time": "2022-09-23T05:58:27.118Z"
   },
   {
    "duration": 3,
    "start_time": "2022-09-23T05:58:27.319Z"
   },
   {
    "duration": 189,
    "start_time": "2022-09-23T05:58:27.324Z"
   },
   {
    "duration": 203,
    "start_time": "2022-09-23T05:58:27.515Z"
   },
   {
    "duration": 20,
    "start_time": "2022-09-23T05:58:27.719Z"
   },
   {
    "duration": 13,
    "start_time": "2022-09-23T05:58:27.741Z"
   },
   {
    "duration": 298,
    "start_time": "2022-09-23T05:58:27.755Z"
   },
   {
    "duration": 835,
    "start_time": "2022-09-23T05:58:28.054Z"
   },
   {
    "duration": 7019,
    "start_time": "2022-09-23T05:58:28.891Z"
   },
   {
    "duration": 368,
    "start_time": "2022-09-23T05:58:35.912Z"
   },
   {
    "duration": 21,
    "start_time": "2022-09-23T05:58:36.282Z"
   },
   {
    "duration": 12,
    "start_time": "2022-09-23T05:58:36.304Z"
   },
   {
    "duration": 762,
    "start_time": "2022-09-23T05:58:36.317Z"
   },
   {
    "duration": 137,
    "start_time": "2022-09-23T05:58:37.081Z"
   },
   {
    "duration": 50,
    "start_time": "2022-10-30T14:11:29.058Z"
   }
  ],
  "colab": {
   "name": "DA+. Сборный проект 1. Шаблон (1).ipynb",
   "provenance": []
  },
  "kernelspec": {
   "display_name": "Python 3 (ipykernel)",
   "language": "python",
   "name": "python3"
  },
  "language_info": {
   "codemirror_mode": {
    "name": "ipython",
    "version": 3
   },
   "file_extension": ".py",
   "mimetype": "text/x-python",
   "name": "python",
   "nbconvert_exporter": "python",
   "pygments_lexer": "ipython3",
   "version": "3.9.5"
  },
  "toc": {
   "base_numbering": 1,
   "nav_menu": {},
   "number_sections": true,
   "sideBar": true,
   "skip_h1_title": true,
   "title_cell": "Table of Contents",
   "title_sidebar": "Contents",
   "toc_cell": false,
   "toc_position": {
    "height": "calc(100% - 180px)",
    "left": "10px",
    "top": "150px",
    "width": "375.391px"
   },
   "toc_section_display": true,
   "toc_window_display": true
  }
 },
 "nbformat": 4,
 "nbformat_minor": 1
}
