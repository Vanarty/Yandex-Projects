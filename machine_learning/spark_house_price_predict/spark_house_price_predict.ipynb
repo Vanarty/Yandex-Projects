{
 "cells": [
  {
   "cell_type": "markdown",
   "id": "e7b87d5e",
   "metadata": {},
   "source": [
    "# Предсказание стоимости жилья"
   ]
  },
  {
   "cell_type": "markdown",
   "id": "b235373a",
   "metadata": {
    "toc": true
   },
   "source": [
    "<h1>Содержание:<span class=\"tocSkip\"></span></h1>\n",
    "<div class=\"toc\"><ul class=\"toc-item\"><li><span><a href=\"#Описание-проекта\" data-toc-modified-id=\"Описание-проекта-1\"><span class=\"toc-item-num\">1&nbsp;&nbsp;</span>Описание проекта</a></span></li><li><span><a href=\"#Подготовка-данных\" data-toc-modified-id=\"Подготовка-данных-2\"><span class=\"toc-item-num\">2&nbsp;&nbsp;</span>Подготовка данных</a></span><ul class=\"toc-item\"><li><span><a href=\"#Загрузка-данных\" data-toc-modified-id=\"Загрузка-данных-2.1\"><span class=\"toc-item-num\">2.1&nbsp;&nbsp;</span>Загрузка данных</a></span></li><li><span><a href=\"#Анализ-и-предобработка-данных\" data-toc-modified-id=\"Анализ-и-предобработка-данных-2.2\"><span class=\"toc-item-num\">2.2&nbsp;&nbsp;</span>Анализ и предобработка данных</a></span></li><li><span><a href=\"#Подготовка-данных-для-обучения-модели\" data-toc-modified-id=\"Подготовка-данных-для-обучения-модели-2.3\"><span class=\"toc-item-num\">2.3&nbsp;&nbsp;</span>Подготовка данных для обучения модели</a></span><ul class=\"toc-item\"><li><span><a href=\"#Преобразование-категориальных-признаков\" data-toc-modified-id=\"Преобразование-категориальных-признаков-2.3.1\"><span class=\"toc-item-num\">2.3.1&nbsp;&nbsp;</span>Преобразование категориальных признаков</a></span></li><li><span><a href=\"#Преобразование-числовых-признаков\" data-toc-modified-id=\"Преобразование-числовых-признаков-2.3.2\"><span class=\"toc-item-num\">2.3.2&nbsp;&nbsp;</span>Преобразование числовых признаков</a></span></li><li><span><a href=\"#Преобразование-категориальных-и-численных-признаков-в-один-вектор\" data-toc-modified-id=\"Преобразование-категориальных-и-численных-признаков-в-один-вектор-2.3.3\"><span class=\"toc-item-num\">2.3.3&nbsp;&nbsp;</span>Преобразование категориальных и численных признаков в один вектор</a></span></li><li><span><a href=\"#Разбивка-данных-на-выборки\" data-toc-modified-id=\"Разбивка-данных-на-выборки-2.3.4\"><span class=\"toc-item-num\">2.3.4&nbsp;&nbsp;</span>Разбивка данных на выборки</a></span></li></ul></li></ul></li><li><span><a href=\"#Обучение-моделей\" data-toc-modified-id=\"Обучение-моделей-3\"><span class=\"toc-item-num\">3&nbsp;&nbsp;</span>Обучение моделей</a></span></li><li><span><a href=\"#Анализ-результатов\" data-toc-modified-id=\"Анализ-результатов-4\"><span class=\"toc-item-num\">4&nbsp;&nbsp;</span>Анализ результатов</a></span></li></ul></div>"
   ]
  },
  {
   "cell_type": "markdown",
   "id": "GEqQaHzsZ_bA",
   "metadata": {
    "id": "GEqQaHzsZ_bA"
   },
   "source": [
    "## Описание проекта\n",
    "\n",
    "В проекте вам нужно обучить модель линейной регрессии на данных о жилье в Калифорнии в 1990 году. На основе данных нужно предсказать медианную стоимость дома в жилом массиве. \n",
    "\n",
    "В данных представлены следующие признаки:\n",
    "- longitude — широта;\n",
    "- latitude — долгота;\n",
    "- housing_median_age — медианный возраст домов в жилом массиве;\n",
    "- total_rooms — общее количество комнат в домах жилого массива;\n",
    "- total_bedrooms — общее количество спален в домах жилого массива;\n",
    "- population — количество человек, которые проживают в жилом массиве;\n",
    "- households — количество домовладений в жилом массиве;\n",
    "- median_income — медианный доход жителей жилого массива;\n",
    "- median_house_value — медианная стоимость дома в жилом массиве;\n",
    "- ocean_proximity — близость к океану.\n",
    "\n",
    "Будут обучены две модели линейной регрессии на разных наборах данных:\n",
    "\n",
    "- используя все данные (числовые и категориальные переменные) из файла;\n",
    "- используя только числовые переменные, исключив категориальные.\n",
    "\n",
    "Для построения модели будет использован оценщик `LinearRegression` из библиотеки **`MLlib`**. Результаты работы линейной регрессии на двух наборах данных будут сравниваться по метрикам `RMSE`, `MAE` и `R2`."
   ]
  },
  {
   "cell_type": "markdown",
   "id": "53871372",
   "metadata": {
    "id": "53871372"
   },
   "source": [
    "## Подготовка данных"
   ]
  },
  {
   "cell_type": "code",
   "execution_count": 1,
   "id": "df92e3ec",
   "metadata": {
    "id": "df92e3ec"
   },
   "outputs": [
    {
     "name": "stdout",
     "output_type": "stream",
     "text": [
      "Версия Pyspark 3.0.2\n"
     ]
    }
   ],
   "source": [
    "# импорт библиотек\n",
    "import pandas as pd \n",
    "import numpy as np\n",
    "import seaborn as sns\n",
    "\n",
    "# импорт pyspark библиотек\n",
    "import pyspark\n",
    "from pyspark.sql import SparkSession\n",
    "import pyspark.sql.functions as F\n",
    "from pyspark.sql.types import *\n",
    "from pyspark.ml.feature import StringIndexer, VectorAssembler, StandardScaler\n",
    "from pyspark.ml.stat import Correlation\n",
    "from pyspark.ml.regression import LinearRegression\n",
    "from pyspark.ml.evaluation import RegressionEvaluator\n",
    "from pyspark.ml import Pipeline\n",
    "from pyspark.ml.tuning import ParamGridBuilder, CrossValidator\n",
    "\n",
    "# проверяем версию pyspark и подгружаем соответсвующий OHE\n",
    "pyspark_version = pyspark.__version__\n",
    "print('Версия Pyspark', pyspark_version)\n",
    "if int(pyspark_version[:1]) == 3:\n",
    "    from pyspark.ml.feature import OneHotEncoder    \n",
    "elif int(pyspark_version[:1]) == 2:\n",
    "    from pyspark.ml.feature import OneHotEncodeEstimator"
   ]
  },
  {
   "cell_type": "code",
   "execution_count": 2,
   "id": "fad3224b",
   "metadata": {},
   "outputs": [],
   "source": [
    "# зададим константу для псевдослучайного состояния\n",
    "RAND_ST = 777"
   ]
  },
  {
   "cell_type": "code",
   "execution_count": 3,
   "id": "9d4a48ca",
   "metadata": {},
   "outputs": [],
   "source": [
    "# инициализируем сессию Pyspark\n",
    "spark = SparkSession.builder \\\n",
    "                    .master(\"local\") \\\n",
    "                    .appName(\"California Housing\") \\\n",
    "                    .getOrCreate()"
   ]
  },
  {
   "cell_type": "markdown",
   "id": "55ffdc45",
   "metadata": {},
   "source": [
    "### Загрузка данных"
   ]
  },
  {
   "cell_type": "code",
   "execution_count": 5,
   "id": "da108952",
   "metadata": {},
   "outputs": [
    {
     "name": "stderr",
     "output_type": "stream",
     "text": [
      "                                                                                \r"
     ]
    },
    {
     "name": "stdout",
     "output_type": "stream",
     "text": [
      "root\n",
      " |-- longitude: double (nullable = true)\n",
      " |-- latitude: double (nullable = true)\n",
      " |-- housing_median_age: double (nullable = true)\n",
      " |-- total_rooms: double (nullable = true)\n",
      " |-- total_bedrooms: double (nullable = true)\n",
      " |-- population: double (nullable = true)\n",
      " |-- households: double (nullable = true)\n",
      " |-- median_income: double (nullable = true)\n",
      " |-- median_house_value: double (nullable = true)\n",
      " |-- ocean_proximity: string (nullable = true)\n",
      "\n",
      "+---------+--------+------------------+-----------+--------------+----------+----------+-------------+------------------+---------------+\n",
      "|longitude|latitude|housing_median_age|total_rooms|total_bedrooms|population|households|median_income|median_house_value|ocean_proximity|\n",
      "+---------+--------+------------------+-----------+--------------+----------+----------+-------------+------------------+---------------+\n",
      "|  -122.23|   37.88|              41.0|      880.0|         129.0|     322.0|     126.0|       8.3252|          452600.0|       NEAR BAY|\n",
      "|  -122.22|   37.86|              21.0|     7099.0|        1106.0|    2401.0|    1138.0|       8.3014|          358500.0|       NEAR BAY|\n",
      "|  -122.24|   37.85|              52.0|     1467.0|         190.0|     496.0|     177.0|       7.2574|          352100.0|       NEAR BAY|\n",
      "|  -122.25|   37.85|              52.0|     1274.0|         235.0|     558.0|     219.0|       5.6431|          341300.0|       NEAR BAY|\n",
      "|  -122.25|   37.85|              52.0|     1627.0|         280.0|     565.0|     259.0|       3.8462|          342200.0|       NEAR BAY|\n",
      "|  -122.25|   37.85|              52.0|      919.0|         213.0|     413.0|     193.0|       4.0368|          269700.0|       NEAR BAY|\n",
      "|  -122.25|   37.84|              52.0|     2535.0|         489.0|    1094.0|     514.0|       3.6591|          299200.0|       NEAR BAY|\n",
      "|  -122.25|   37.84|              52.0|     3104.0|         687.0|    1157.0|     647.0|         3.12|          241400.0|       NEAR BAY|\n",
      "|  -122.26|   37.84|              42.0|     2555.0|         665.0|    1206.0|     595.0|       2.0804|          226700.0|       NEAR BAY|\n",
      "|  -122.25|   37.84|              52.0|     3549.0|         707.0|    1551.0|     714.0|       3.6912|          261100.0|       NEAR BAY|\n",
      "+---------+--------+------------------+-----------+--------------+----------+----------+-------------+------------------+---------------+\n",
      "only showing top 10 rows\n",
      "\n"
     ]
    }
   ],
   "source": [
    "# считываем данные в df\n",
    "df = spark.read.option('header', 'true').csv('/datasets/housing.csv', inferSchema = True)\n",
    "# выведем информацию о схеме\n",
    "df.printSchema()\n",
    "df.show(10)\n",
    "# df.take(15)[0].asDict()"
   ]
  },
  {
   "cell_type": "code",
   "execution_count": 21,
   "id": "cb3b8a6f",
   "metadata": {},
   "outputs": [
    {
     "name": "stderr",
     "output_type": "stream",
     "text": [
      "23/03/24 08:37:00 WARN CacheManager: Asked to cache already cached data.\n"
     ]
    }
   ],
   "source": [
    "# кэшируем DF и создаем Table view of DataFrame для Spark SQL\n",
    "df.cache\n",
    "df.createOrReplaceTempView('housing')\n",
    "spark.catalog.cacheTable('housing')"
   ]
  },
  {
   "cell_type": "markdown",
   "id": "73f8af0d",
   "metadata": {},
   "source": [
    "Все признаки, кроме `'ocean_proximity'` имеют *вещественный* тип данных (или *float*). `'ocean_proximity'` - *строковый* тип данных (или *object*)."
   ]
  },
  {
   "cell_type": "markdown",
   "id": "63749c2c",
   "metadata": {},
   "source": [
    "### Анализ и предобработка данных"
   ]
  },
  {
   "cell_type": "code",
   "execution_count": 5,
   "id": "c81ff2c8",
   "metadata": {},
   "outputs": [
    {
     "name": "stdout",
     "output_type": "stream",
     "text": [
      "longitude 0 0%\n",
      "latitude 0 0%\n",
      "housing_median_age 0 0%\n",
      "total_rooms 0 0%\n",
      "total_bedrooms 207 1%\n",
      "population 0 0%\n",
      "households 0 0%\n",
      "median_income 0 0%\n",
      "median_house_value 0 0%\n",
      "ocean_proximity 0 0%\n",
      "\n"
     ]
    }
   ],
   "source": [
    "# проверим данные на наличие пропусков\n",
    "def get_null_in_collumns(dataframe):\n",
    "    res = ''\n",
    "    for col in dataframe.columns:\n",
    "        na_percent = dataframe.filter(F.isnan(col) | dataframe[col].isNull()).count() / dataframe.count() * 100\n",
    "        res += f'{col} {dataframe.filter(F.isnan(col) | dataframe[col].isNull()).count()} {round(na_percent)}%\\n'\n",
    "    return res\n",
    "\n",
    "\n",
    "print(get_null_in_collumns(df))"
   ]
  },
  {
   "cell_type": "markdown",
   "id": "486a9c21",
   "metadata": {},
   "source": [
    "В колонке `'total_bedrooms'` есть 207 пропусков значений. Так как пропусков только **1%** предлагается заполнить их медианным значением, подсчитаанным по всей колонке `'total_bedrooms'`."
   ]
  },
  {
   "cell_type": "code",
   "execution_count": 6,
   "id": "12ab0ba3",
   "metadata": {},
   "outputs": [
    {
     "name": "stdout",
     "output_type": "stream",
     "text": [
      "longitude 0 0%\n",
      "latitude 0 0%\n",
      "housing_median_age 0 0%\n",
      "total_rooms 0 0%\n",
      "total_bedrooms 0 0%\n",
      "population 0 0%\n",
      "households 0 0%\n",
      "median_income 0 0%\n",
      "median_house_value 0 0%\n",
      "ocean_proximity 0 0%\n",
      "\n"
     ]
    }
   ],
   "source": [
    "# найдем медианное значение по колонке total_bedrooms\n",
    "tot_bedrooms_median = df.approxQuantile('total_bedrooms', [0.5], 0)[0]\n",
    "# заполним пропуски медианным значением\n",
    "df = df.fillna(tot_bedrooms_median, subset=['total_bedrooms'])\n",
    "# проверим данные на пропуски после заполнения медианой\n",
    "print(get_null_in_collumns(df))"
   ]
  },
  {
   "cell_type": "code",
   "execution_count": 7,
   "id": "a1a6eb9e",
   "metadata": {
    "scrolled": false
   },
   "outputs": [
    {
     "name": "stderr",
     "output_type": "stream",
     "text": [
      "                                                                                \r"
     ]
    },
    {
     "data": {
      "text/html": [
       "<div>\n",
       "<style scoped>\n",
       "    .dataframe tbody tr th:only-of-type {\n",
       "        vertical-align: middle;\n",
       "    }\n",
       "\n",
       "    .dataframe tbody tr th {\n",
       "        vertical-align: top;\n",
       "    }\n",
       "\n",
       "    .dataframe thead th {\n",
       "        text-align: right;\n",
       "    }\n",
       "</style>\n",
       "<table border=\"1\" class=\"dataframe\">\n",
       "  <thead>\n",
       "    <tr style=\"text-align: right;\">\n",
       "      <th></th>\n",
       "      <th>summary</th>\n",
       "      <th>longitude</th>\n",
       "      <th>latitude</th>\n",
       "      <th>housing_median_age</th>\n",
       "      <th>total_rooms</th>\n",
       "      <th>total_bedrooms</th>\n",
       "      <th>population</th>\n",
       "      <th>households</th>\n",
       "      <th>median_income</th>\n",
       "      <th>median_house_value</th>\n",
       "      <th>ocean_proximity</th>\n",
       "    </tr>\n",
       "  </thead>\n",
       "  <tbody>\n",
       "    <tr>\n",
       "      <th>0</th>\n",
       "      <td>count</td>\n",
       "      <td>20640</td>\n",
       "      <td>20640</td>\n",
       "      <td>20640</td>\n",
       "      <td>20640</td>\n",
       "      <td>20640</td>\n",
       "      <td>20640</td>\n",
       "      <td>20640</td>\n",
       "      <td>20640</td>\n",
       "      <td>20640</td>\n",
       "      <td>20640</td>\n",
       "    </tr>\n",
       "    <tr>\n",
       "      <th>1</th>\n",
       "      <td>mean</td>\n",
       "      <td>-119.56970445736148</td>\n",
       "      <td>35.6318614341087</td>\n",
       "      <td>28.639486434108527</td>\n",
       "      <td>2635.7630813953488</td>\n",
       "      <td>536.8388565891473</td>\n",
       "      <td>1425.4767441860465</td>\n",
       "      <td>499.5396802325581</td>\n",
       "      <td>3.8706710029070246</td>\n",
       "      <td>206855.81690891474</td>\n",
       "      <td>None</td>\n",
       "    </tr>\n",
       "    <tr>\n",
       "      <th>2</th>\n",
       "      <td>stddev</td>\n",
       "      <td>2.003531723502584</td>\n",
       "      <td>2.135952397457101</td>\n",
       "      <td>12.58555761211163</td>\n",
       "      <td>2181.6152515827944</td>\n",
       "      <td>419.39187792168866</td>\n",
       "      <td>1132.46212176534</td>\n",
       "      <td>382.3297528316098</td>\n",
       "      <td>1.899821717945263</td>\n",
       "      <td>115395.61587441359</td>\n",
       "      <td>None</td>\n",
       "    </tr>\n",
       "    <tr>\n",
       "      <th>3</th>\n",
       "      <td>min</td>\n",
       "      <td>-124.35</td>\n",
       "      <td>32.54</td>\n",
       "      <td>1.0</td>\n",
       "      <td>2.0</td>\n",
       "      <td>1.0</td>\n",
       "      <td>3.0</td>\n",
       "      <td>1.0</td>\n",
       "      <td>0.4999</td>\n",
       "      <td>14999.0</td>\n",
       "      <td>&lt;1H OCEAN</td>\n",
       "    </tr>\n",
       "    <tr>\n",
       "      <th>4</th>\n",
       "      <td>max</td>\n",
       "      <td>-114.31</td>\n",
       "      <td>41.95</td>\n",
       "      <td>52.0</td>\n",
       "      <td>39320.0</td>\n",
       "      <td>6445.0</td>\n",
       "      <td>35682.0</td>\n",
       "      <td>6082.0</td>\n",
       "      <td>15.0001</td>\n",
       "      <td>500001.0</td>\n",
       "      <td>NEAR OCEAN</td>\n",
       "    </tr>\n",
       "  </tbody>\n",
       "</table>\n",
       "</div>"
      ],
      "text/plain": [
       "  summary            longitude           latitude  housing_median_age  \\\n",
       "0   count                20640              20640               20640   \n",
       "1    mean  -119.56970445736148   35.6318614341087  28.639486434108527   \n",
       "2  stddev    2.003531723502584  2.135952397457101   12.58555761211163   \n",
       "3     min              -124.35              32.54                 1.0   \n",
       "4     max              -114.31              41.95                52.0   \n",
       "\n",
       "          total_rooms      total_bedrooms          population  \\\n",
       "0               20640               20640               20640   \n",
       "1  2635.7630813953488   536.8388565891473  1425.4767441860465   \n",
       "2  2181.6152515827944  419.39187792168866    1132.46212176534   \n",
       "3                 2.0                 1.0                 3.0   \n",
       "4             39320.0              6445.0             35682.0   \n",
       "\n",
       "          households       median_income  median_house_value ocean_proximity  \n",
       "0              20640               20640               20640           20640  \n",
       "1  499.5396802325581  3.8706710029070246  206855.81690891474            None  \n",
       "2  382.3297528316098   1.899821717945263  115395.61587441359            None  \n",
       "3                1.0              0.4999             14999.0       <1H OCEAN  \n",
       "4             6082.0             15.0001            500001.0      NEAR OCEAN  "
      ]
     },
     "execution_count": 7,
     "metadata": {},
     "output_type": "execute_result"
    }
   ],
   "source": [
    "# посмотрим на статистики данных\n",
    "df.describe().toPandas()"
   ]
  },
  {
   "cell_type": "markdown",
   "id": "b7c63ec9",
   "metadata": {},
   "source": [
    "Исходя из описания признаков и их логического содержания можно выделить следующие особенности в данных:\n",
    "- отрицательные значения признаков, кроме `'longitude'` отсутствуют;\n",
    "- существуют жилые массивы, в которых `общее количество комнат` всего `2`;\n",
    "- существуют жилые массивы, в которых `общее количество спален` всего `1`;\n",
    "- существуют жилые массивы, в которых `проживает` всего `3 человека`;\n",
    "- существуют жилые массивы, в которых `расположен` всего `1 дом`.\n",
    "\n",
    "Уверенно сказать, что такие данные являются выбросами нельзя, так как возможно такие жилые массивы представляют собой одиночные дома в частном секторе с большой площадью."
   ]
  },
  {
   "cell_type": "code",
   "execution_count": 8,
   "id": "cdda3a8a",
   "metadata": {},
   "outputs": [
    {
     "name": "stderr",
     "output_type": "stream",
     "text": [
      "23/03/22 14:14:43 WARN Executor: Managed memory leak detected; size = 5244504 bytes, TID = 128\n",
      "23/03/22 14:14:45 WARN Executor: Managed memory leak detected; size = 5244504 bytes, TID = 130\n",
      "23/03/22 14:14:46 WARN BLAS: Failed to load implementation from: com.github.fommil.netlib.NativeSystemBLAS\n",
      "23/03/22 14:14:46 WARN BLAS: Failed to load implementation from: com.github.fommil.netlib.NativeRefBLAS\n",
      "                                                                                \r"
     ]
    },
    {
     "data": {
      "text/plain": [
       "<AxesSubplot:>"
      ]
     },
     "execution_count": 8,
     "metadata": {},
     "output_type": "execute_result"
    },
    {
     "data": {
      "image/png": "[encoded data removed]",
      "text/plain": [
       "<Figure size 432x288 with 2 Axes>"
      ]
     },
     "metadata": {
      "needs_background": "light"
     },
     "output_type": "display_data"
    }
   ],
   "source": [
    "# определим список количестенных признаков\n",
    "num_cols = [c for c in df.columns if c != 'ocean_proximity']\n",
    "\n",
    "# определим список категориальных признаков\n",
    "cat_cols = ['ocean_proximity']\n",
    "\n",
    "# преобразуем данные в вектор\n",
    "vector_col = 'corr_features'\n",
    "assembler = VectorAssembler(inputCols=num_cols, outputCol=vector_col)\n",
    "df_vector = assembler.transform(df[num_cols])\n",
    "\n",
    "# создаем матрицу корреляции с коэфициентом Спирмена\n",
    "matrix = Correlation.corr(df_vector, vector_col, 'spearman')\n",
    "cor_matrix = matrix.collect()[0][matrix.columns[0]].toArray()\n",
    "matrix_df = pd.DataFrame(cor_matrix, columns=num_cols)\n",
    "matrix_df.index = num_cols\n",
    "\n",
    "# выведем график корреляции в виде heatmap диаграммы\n",
    "sns.heatmap(matrix_df, annot=True, cmap=\"BuPu\")"
   ]
  },
  {
   "cell_type": "markdown",
   "id": "93ad87cd",
   "metadata": {},
   "source": [
    "Из матрицы корреляции следует:\n",
    "- с целевым признаком `'median_house_value'` сильно коррелирует признак `'median_income'`, что может хорошо отразится на предсказательной способности модели. Медианный доход жителей жилого массива положительно коррелирует со стоимостью их жилья;\n",
    "- существует сильная корреляция между следующими признаками: `'total_bedrooms'`, `'population'`, `'households'` и `'total_rooms'`."
   ]
  },
  {
   "cell_type": "markdown",
   "id": "19c0698c",
   "metadata": {},
   "source": [
    "### Подготовка данных для обучения модели"
   ]
  },
  {
   "cell_type": "markdown",
   "id": "c7b04ce1",
   "metadata": {},
   "source": [
    "Подготовим все шаги преобразований категориальных и числовых данных с использованием `Pipeline`."
   ]
  },
  {
   "cell_type": "markdown",
   "id": "90a81a24",
   "metadata": {},
   "source": [
    "#### Преобразование категориальных признаков\n",
    "\n",
    "Трансформируем категориальный признак `'ocean_proximity'` с помощью `StringIndexer`."
   ]
  },
  {
   "cell_type": "code",
   "execution_count": 9,
   "id": "a348d87a",
   "metadata": {},
   "outputs": [],
   "source": [
    "indexer = StringIndexer(inputCols=cat_cols, \n",
    "                        outputCols=[c+'_idx' for c in cat_cols]) \n",
    "# df = indexer.fit(df).transform(df)\n",
    "# cols = [c for c in df.columns for i in cat_cols if (c.startswith(i))]\n",
    "# df.select(cols).show(5) "
   ]
  },
  {
   "cell_type": "markdown",
   "id": "79ccd8d5",
   "metadata": {},
   "source": [
    "Дополнительно проведем OHE-кодирование для категориального признака `'ocean_proximity'`."
   ]
  },
  {
   "cell_type": "code",
   "execution_count": 10,
   "id": "f3db9b0d",
   "metadata": {
    "scrolled": true
   },
   "outputs": [],
   "source": [
    "encoder = OneHotEncoder(inputCols=[c+'_idx' for c in cat_cols],\n",
    "                        outputCols=[c+'_ohe' for c in cat_cols])\n",
    "# df = encoder.fit(df).transform(df)\n",
    "# cols = [c for c in df.columns for i in cat_cols if c.startswith(i)]\n",
    "# df.select(cols).show(5)"
   ]
  },
  {
   "cell_type": "markdown",
   "id": "a370e5ff",
   "metadata": {},
   "source": [
    "Объединим преобразованные признаки в один вектор, с помощью `VectorAssembler`."
   ]
  },
  {
   "cell_type": "code",
   "execution_count": 11,
   "id": "35ceb009",
   "metadata": {},
   "outputs": [],
   "source": [
    "categorical_assembler = \\\n",
    "        VectorAssembler(inputCols=[c+'_ohe' for c in cat_cols],\n",
    "                                        outputCol=\"categorical_features\")\n",
    "# df = categorical_assembler.transform(df)"
   ]
  },
  {
   "cell_type": "markdown",
   "id": "c33aa2fe",
   "metadata": {},
   "source": [
    "#### Преобразование числовых признаков\n",
    "\n",
    "Так как линейные модели чувствительны к масштабу значений признаков, трансформируем числовые признаки с помощью `StandardScaler`.\n",
    "\n",
    "Для начала необходимо исключить целевой признак `'median_house_value'` из числовых данных, а так же создать переменную, которая будет хранить название этого целевого признака."
   ]
  },
  {
   "cell_type": "code",
   "execution_count": 12,
   "id": "e55d5a99",
   "metadata": {},
   "outputs": [],
   "source": [
    "# исключаем целевой признак из данных\n",
    "num_cols = [c for c in num_cols if c != 'median_house_value']\n",
    "# создаем переменную для таргета\n",
    "target = 'median_house_value'"
   ]
  },
  {
   "cell_type": "code",
   "execution_count": 13,
   "id": "ed7491dd",
   "metadata": {},
   "outputs": [],
   "source": [
    "# создаем вектор\n",
    "numerical_assembler = VectorAssembler(inputCols=num_cols, outputCol=\"numerical_features\")\n",
    "# df = numerical_assembler.transform(df)\n",
    "# приводим значения к одному масштабу\n",
    "standardScaler = StandardScaler(inputCol='numerical_features', outputCol=\"numerical_features_scaled\")\n",
    "# df = standardScaler.fit(df).transform(df)"
   ]
  },
  {
   "cell_type": "markdown",
   "id": "96b7df9c",
   "metadata": {},
   "source": [
    "#### Преобразование категориальных и численных признаков в один вектор"
   ]
  },
  {
   "cell_type": "code",
   "execution_count": 14,
   "id": "57f929ad",
   "metadata": {},
   "outputs": [],
   "source": [
    "all_features = ['categorical_features','numerical_features_scaled']\n",
    "final_assembler = VectorAssembler(inputCols=all_features, \n",
    "                                  outputCol=\"all_features\") \n",
    "# df = final_assembler.transform(df)\n",
    "# df.select(all_features).show(5) "
   ]
  },
  {
   "cell_type": "markdown",
   "id": "9a0cac88",
   "metadata": {},
   "source": [
    "#### Разбивка данных на выборки\n",
    "\n",
    "Разделим данные на две выбокри: `train` и `test` в соотношении 3 к 1."
   ]
  },
  {
   "cell_type": "code",
   "execution_count": 15,
   "id": "a7a99612",
   "metadata": {},
   "outputs": [
    {
     "name": "stderr",
     "output_type": "stream",
     "text": [
      "                                                                                \r"
     ]
    },
    {
     "name": "stdout",
     "output_type": "stream",
     "text": [
      "Обучающая выборка: 15475 строк, 10 столбцов \n",
      "Тестовая выборка:, 5165 строк, 10 столбцов\n"
     ]
    }
   ],
   "source": [
    "# делим выборки на обучающую и тестовую\n",
    "train_data, test_data = df.randomSplit([.75,.25], seed=RAND_ST)\n",
    "# выводим размеры выборок\n",
    "print(f'Обучающая выборка: {train_data.count()} строк, {len(train_data.columns)} столбцов',\n",
    "      f'\\nТестовая выборка:, {test_data.count()} строк, {len(test_data.columns)} столбцов')"
   ]
  },
  {
   "cell_type": "markdown",
   "id": "9f0a82f3",
   "metadata": {
    "id": "9f0a82f3"
   },
   "source": [
    "## Обучение моделей\n",
    "\n",
    "В данном проекте нужно сравнить метрики RMSE, MAE, R2 модели линейной регрессии, обученной на разном количестве данных, а именно:\n",
    "\n",
    "- со всеми признаками;\n",
    "- без категориального признака.\n",
    "\n",
    "Для этого в первом случае необходимо использовать вектор `all_features`, а во втором - `numerical_features_scaled`. Так же для сокращения времени `модель линейной регрессии` будет использована без подбора гиперпараметров с дефолтными настройками."
   ]
  },
  {
   "cell_type": "code",
   "execution_count": 20,
   "id": "6e3d443a",
   "metadata": {},
   "outputs": [
    {
     "name": "stderr",
     "output_type": "stream",
     "text": [
      "23/03/22 14:20:38 WARN CacheManager: Asked to cache already cached data.\n",
      "23/03/22 14:20:38 WARN CacheManager: Asked to cache already cached data.\n",
      "23/03/22 14:20:40 WARN LAPACK: Failed to load implementation from: com.github.fommil.netlib.NativeSystemLAPACK\n",
      "23/03/22 14:20:40 WARN LAPACK: Failed to load implementation from: com.github.fommil.netlib.NativeRefLAPACK\n",
      "                                                                                \r"
     ]
    }
   ],
   "source": [
    "# создадим модель обученную на всех данных\n",
    "lr_all = LinearRegression(labelCol=target, featuresCol='all_features')\n",
    "evaluator = RegressionEvaluator(labelCol=target)\n",
    "\n",
    "# зададим поиск гиперпараметров\n",
    "params = ParamGridBuilder()\n",
    "# создаем сетку подбора по двум гиперпараметрам\n",
    "params = params.addGrid(lr_all.regParam, [0.01, 0.1, 1.0, 10.0])\\\n",
    "               .addGrid(lr_all.elasticNetParam, [0.0, 0.5, 1.0])\n",
    "# непосредственно создаем сетку гиперпараметров\n",
    "params = params.build()\n",
    "\n",
    "# создадим Pipeline и подготовим кросс-валидацию\n",
    "pipeline = Pipeline(stages=[indexer,\n",
    "                            encoder,\n",
    "                            categorical_assembler,\n",
    "                            numerical_assembler,\n",
    "                            standardScaler,\n",
    "                            final_assembler,\n",
    "                            lr_all])\n",
    "cv = CrossValidator(estimator=pipeline,\n",
    "                    estimatorParamMaps=params,\n",
    "                    evaluator=evaluator,\n",
    "                    numFolds=5)\n",
    "# Train the data\n",
    "cvModel_all = cv.fit(train_data)"
   ]
  },
  {
   "cell_type": "code",
   "execution_count": 33,
   "id": "1052e6fa",
   "metadata": {},
   "outputs": [
    {
     "name": "stdout",
     "output_type": "stream",
     "text": [
      "RMSE score: 69735.66617600265\n",
      "MAE score: 50210.65600098043\n",
      "R2 score: 0.6364083428964303\n"
     ]
    }
   ],
   "source": [
    "# получим лучшую модель с кросс-валидации\n",
    "best_model = cvModel_all.bestModel\n",
    "\n",
    "# Generate predictions on test data using the best model then calculate RMSE\n",
    "predictions = best_model.transform(test_data)\n",
    "print('RMSE score:', evaluator.evaluate(predictions, {evaluator.metricName: 'rmse'}))\n",
    "print('MAE score:', evaluator.evaluate(predictions, {evaluator.metricName: 'mae'}))\n",
    "print('R2 score:', evaluator.evaluate(predictions, {evaluator.metricName: 'r2'}))"
   ]
  },
  {
   "cell_type": "code",
   "execution_count": null,
   "id": "bddb08c4",
   "metadata": {
    "id": "bddb08c4"
   },
   "outputs": [],
   "source": [
    "# обучим модель на всех данных\n",
    "lr_all = LinearRegression(labelCol=target, featuresCol='all_features')\n",
    "model_all = lr_all.fit(train_data)"
   ]
  },
  {
   "cell_type": "code",
   "execution_count": null,
   "id": "5d24d43b",
   "metadata": {},
   "outputs": [],
   "source": [
    "# обучим модель только на числовых данных\n",
    "lr_num = LinearRegression(labelCol=target, featuresCol='numerical_features_scaled')\n",
    "model_num = lr_num.fit(train_data)"
   ]
  },
  {
   "cell_type": "markdown",
   "id": "97d084f1",
   "metadata": {},
   "source": [
    "Получим предсказания стоимости жилья на тестовой выборки для обеих моделей."
   ]
  },
  {
   "cell_type": "code",
   "execution_count": null,
   "id": "e631b217",
   "metadata": {},
   "outputs": [],
   "source": [
    "# предсказание стоимости на обучающей выборке для модели, обученной на всех данных \n",
    "predictions_all_train = model_all.transform(train_data)\n",
    "predicted_all_train = predictions_all_train.select(target, 'prediction')\n",
    "# предсказание стоимости на тестовой выборке для модели, обученной на всех данных\n",
    "predictions_all_test = model_all.transform(test_data)\n",
    "predicted_all_test = predictions_all_test.select(target, 'prediction')\n",
    "# выведем несколько результатов предсказаний\n",
    "predicted_all_test.show(5)"
   ]
  },
  {
   "cell_type": "code",
   "execution_count": null,
   "id": "0b1689f9",
   "metadata": {
    "scrolled": true
   },
   "outputs": [],
   "source": [
    "# предсказание стоимости на обучащей выборке для модели, обученной только на числовых данных\n",
    "predictions_num_train = model_num.transform(train_data)\n",
    "predicted_num_train = predictions_num_train.select(target, 'prediction')\n",
    "# предсказание стоимости на тестовой выборке для модели, обученной только на числовых данных\n",
    "predictions_num_test = model_num.transform(test_data)\n",
    "predicted_num_test = predictions_num_test.select(target, 'prediction')\n",
    "# выведем несколько результатов предсказаний\n",
    "predicted_num_test.show(5)"
   ]
  },
  {
   "cell_type": "markdown",
   "id": "757fd103",
   "metadata": {
    "id": "757fd103"
   },
   "source": [
    "## Анализ результатов\n",
    "\n",
    "Оценим обе модели по метрикам с помощью `RegressionEvaluator`. Результаты будут сохранены и выведены в итоговой таблице. "
   ]
  },
  {
   "cell_type": "code",
   "execution_count": null,
   "id": "3b772ce4",
   "metadata": {},
   "outputs": [],
   "source": [
    "metrics_list = []\n",
    "\n",
    "\n",
    "def get_metric(pred_data, pred_name):\n",
    "    rmse = RegressionEvaluator(predictionCol='prediction', labelCol=target, metricName='rmse').evaluate(pred_data)\n",
    "    mae = RegressionEvaluator(predictionCol='prediction', labelCol=target, metricName='mae').evaluate(pred_data)\n",
    "    r2 = RegressionEvaluator(predictionCol='prediction', labelCol=target, metricName='r2').evaluate(pred_data)\n",
    "    return pred_name, rmse, mae, r2\n",
    "\n",
    "\n",
    "# Добавляем метрики для всего датасета в лист result\n",
    "metrics_list.append(get_metric(predicted_all_train, 'lr_alldata_train'))\n",
    "metrics_list.append(get_metric(predicted_all_test, 'lr_alldata_test'))\n",
    "\n",
    "# Добавляем метрики только для числовых признаков в лист result\n",
    "metrics_list.append(get_metric(predicted_num_train, 'lr_numdata_train'))\n",
    "metrics_list.append(get_metric(predicted_num_test, 'lr_numdata_test'))\n",
    "\n",
    "table_res = pd.DataFrame(metrics_list, columns=['Predictions', 'RMSE', 'MAE', 'R2'])\n",
    "table_res.style.highlight_min(color='lightgreen', axis = 0, subset=['RMSE', 'MAE'])"
   ]
  },
  {
   "cell_type": "markdown",
   "id": "0e934944",
   "metadata": {},
   "source": [
    "**Выводы:**\n",
    "1. Лучшие метрики качества у модели, обученной на всех представленных данных, включая категориальный признак `'ocean_proximity'`;\n",
    "2. Для достижения лучшей предсказательной способности возможно стоит применить более сложные модели."
   ]
  }
 ],
 "metadata": {
  "ExecuteTimeLog": [
   {
    "duration": 752,
    "start_time": "2023-03-19T07:35:10.853Z"
   },
   {
    "duration": 6,
    "start_time": "2023-03-19T07:35:29.137Z"
   },
   {
    "duration": 3,
    "start_time": "2023-03-19T07:36:36.931Z"
   },
   {
    "duration": 3,
    "start_time": "2023-03-19T07:36:57.091Z"
   },
   {
    "duration": 3,
    "start_time": "2023-03-19T07:37:04.139Z"
   },
   {
    "duration": 76,
    "start_time": "2023-03-19T07:38:43.804Z"
   },
   {
    "duration": 15090,
    "start_time": "2023-03-19T07:39:30.987Z"
   },
   {
    "duration": 294,
    "start_time": "2023-03-19T07:40:35.792Z"
   },
   {
    "duration": 130,
    "start_time": "2023-03-19T07:40:49.372Z"
   },
   {
    "duration": 8055,
    "start_time": "2023-03-19T07:40:57.244Z"
   },
   {
    "duration": 905,
    "start_time": "2023-03-19T07:41:11.276Z"
   },
   {
    "duration": 701,
    "start_time": "2023-03-19T07:41:26.794Z"
   },
   {
    "duration": 3,
    "start_time": "2023-03-19T08:11:37.269Z"
   },
   {
    "duration": 25,
    "start_time": "2023-03-19T08:11:57.163Z"
   },
   {
    "duration": 28,
    "start_time": "2023-03-19T08:13:12.653Z"
   },
   {
    "duration": 1262,
    "start_time": "2023-03-19T08:18:42.325Z"
   },
   {
    "duration": 52,
    "start_time": "2023-03-19T08:25:04.505Z"
   },
   {
    "duration": 47,
    "start_time": "2023-03-19T08:25:58.655Z"
   },
   {
    "duration": 4331,
    "start_time": "2023-03-19T08:26:05.345Z"
   },
   {
    "duration": 927,
    "start_time": "2023-03-19T08:35:42.657Z"
   },
   {
    "duration": 6532,
    "start_time": "2023-03-19T08:36:10.353Z"
   },
   {
    "duration": 4697,
    "start_time": "2023-03-19T08:36:22.477Z"
   },
   {
    "duration": 4022,
    "start_time": "2023-03-19T08:37:34.914Z"
   },
   {
    "duration": 4105,
    "start_time": "2023-03-19T08:38:32.402Z"
   },
   {
    "duration": 3585,
    "start_time": "2023-03-19T08:38:38.577Z"
   },
   {
    "duration": 3591,
    "start_time": "2023-03-19T08:38:43.969Z"
   },
   {
    "duration": 618,
    "start_time": "2023-03-19T08:45:10.067Z"
   },
   {
    "duration": 323,
    "start_time": "2023-03-19T08:50:02.860Z"
   },
   {
    "duration": 212,
    "start_time": "2023-03-19T08:50:09.972Z"
   },
   {
    "duration": 176,
    "start_time": "2023-03-19T08:50:14.956Z"
   },
   {
    "duration": 3731,
    "start_time": "2023-03-19T08:52:56.213Z"
   },
   {
    "duration": 193,
    "start_time": "2023-03-19T08:53:10.493Z"
   },
   {
    "duration": 3938,
    "start_time": "2023-03-19T08:53:23.237Z"
   },
   {
    "duration": 3836,
    "start_time": "2023-03-19T08:53:33.013Z"
   },
   {
    "duration": 562,
    "start_time": "2023-03-19T13:55:11.403Z"
   },
   {
    "duration": 5967,
    "start_time": "2023-03-19T13:55:23.163Z"
   },
   {
    "duration": 7,
    "start_time": "2023-03-19T13:55:33.957Z"
   },
   {
    "duration": 793,
    "start_time": "2023-03-19T13:55:37.155Z"
   },
   {
    "duration": 4952,
    "start_time": "2023-03-19T13:55:41.059Z"
   },
   {
    "duration": 48,
    "start_time": "2023-03-20T06:54:54.060Z"
   },
   {
    "duration": 719,
    "start_time": "2023-03-20T06:55:01.849Z"
   },
   {
    "duration": 2,
    "start_time": "2023-03-20T06:55:02.570Z"
   },
   {
    "duration": 16060,
    "start_time": "2023-03-20T06:55:02.574Z"
   },
   {
    "duration": 9803,
    "start_time": "2023-03-20T06:55:18.636Z"
   },
   {
    "duration": 11398,
    "start_time": "2023-03-20T06:55:28.442Z"
   },
   {
    "duration": 7251,
    "start_time": "2023-03-20T06:55:39.842Z"
   },
   {
    "duration": 2938,
    "start_time": "2023-03-20T06:55:47.095Z"
   },
   {
    "duration": 1335,
    "start_time": "2023-03-20T06:56:22.690Z"
   },
   {
    "duration": 1303,
    "start_time": "2023-03-20T06:56:33.546Z"
   },
   {
    "duration": 77,
    "start_time": "2023-03-20T07:08:45.212Z"
   },
   {
    "duration": 9,
    "start_time": "2023-03-20T07:09:06.579Z"
   },
   {
    "duration": 5,
    "start_time": "2023-03-20T07:09:35.374Z"
   },
   {
    "duration": 27,
    "start_time": "2023-03-20T07:09:39.782Z"
   },
   {
    "duration": 11,
    "start_time": "2023-03-20T07:10:20.646Z"
   },
   {
    "duration": 9,
    "start_time": "2023-03-20T07:11:27.903Z"
   },
   {
    "duration": 4156,
    "start_time": "2023-03-20T07:12:20.191Z"
   },
   {
    "duration": 751,
    "start_time": "2023-03-20T07:12:40.470Z"
   },
   {
    "duration": 1659,
    "start_time": "2023-03-20T07:12:45.159Z"
   },
   {
    "duration": 5556,
    "start_time": "2023-03-20T07:13:03.718Z"
   },
   {
    "duration": 3335,
    "start_time": "2023-03-20T07:18:55.336Z"
   },
   {
    "duration": 3213,
    "start_time": "2023-03-20T07:19:11.649Z"
   },
   {
    "duration": 3311,
    "start_time": "2023-03-20T07:19:41.496Z"
   },
   {
    "duration": 3062,
    "start_time": "2023-03-20T07:21:45.185Z"
   },
   {
    "duration": 47,
    "start_time": "2023-03-20T07:21:55.529Z"
   },
   {
    "duration": 2882,
    "start_time": "2023-03-20T07:22:00.953Z"
   },
   {
    "duration": 16,
    "start_time": "2023-03-20T07:22:07.177Z"
   },
   {
    "duration": 3159,
    "start_time": "2023-03-20T07:22:13.056Z"
   },
   {
    "duration": 3111,
    "start_time": "2023-03-20T07:22:46.617Z"
   },
   {
    "duration": 3651,
    "start_time": "2023-03-20T07:24:32.674Z"
   },
   {
    "duration": 3818,
    "start_time": "2023-03-20T07:55:15.362Z"
   },
   {
    "duration": 120,
    "start_time": "2023-03-20T07:56:39.014Z"
   },
   {
    "duration": 5197,
    "start_time": "2023-03-20T07:56:46.118Z"
   },
   {
    "duration": 78,
    "start_time": "2023-03-20T07:57:04.246Z"
   },
   {
    "duration": 3556,
    "start_time": "2023-03-20T07:57:10.170Z"
   },
   {
    "duration": 4299,
    "start_time": "2023-03-20T07:59:34.460Z"
   },
   {
    "duration": 3537,
    "start_time": "2023-03-20T07:59:59.796Z"
   },
   {
    "duration": 3867,
    "start_time": "2023-03-20T08:00:10.718Z"
   },
   {
    "duration": 3229,
    "start_time": "2023-03-20T08:00:23.306Z"
   },
   {
    "duration": 3091,
    "start_time": "2023-03-20T08:00:31.562Z"
   },
   {
    "duration": 3037,
    "start_time": "2023-03-20T08:00:42.898Z"
   },
   {
    "duration": 3230,
    "start_time": "2023-03-20T08:00:54.815Z"
   },
   {
    "duration": 57,
    "start_time": "2023-03-20T08:01:11.066Z"
   },
   {
    "duration": 55,
    "start_time": "2023-03-20T08:01:18.531Z"
   },
   {
    "duration": 48,
    "start_time": "2023-03-20T08:01:33.579Z"
   },
   {
    "duration": 63,
    "start_time": "2023-03-20T08:01:41.138Z"
   },
   {
    "duration": 3401,
    "start_time": "2023-03-20T08:01:44.962Z"
   },
   {
    "duration": 3332,
    "start_time": "2023-03-20T08:02:05.227Z"
   },
   {
    "duration": 3401,
    "start_time": "2023-03-20T08:02:18.443Z"
   },
   {
    "duration": 3443,
    "start_time": "2023-03-20T08:02:28.588Z"
   },
   {
    "duration": 3698,
    "start_time": "2023-03-20T08:02:36.650Z"
   },
   {
    "duration": 3346,
    "start_time": "2023-03-20T08:02:51.844Z"
   },
   {
    "duration": 4392,
    "start_time": "2023-03-20T08:04:32.552Z"
   },
   {
    "duration": 3950,
    "start_time": "2023-03-20T08:04:41.674Z"
   },
   {
    "duration": 3992,
    "start_time": "2023-03-20T08:04:50.739Z"
   },
   {
    "duration": 3844,
    "start_time": "2023-03-20T08:05:27.291Z"
   },
   {
    "duration": 3880,
    "start_time": "2023-03-20T08:05:36.754Z"
   },
   {
    "duration": 3366,
    "start_time": "2023-03-20T08:05:51.123Z"
   },
   {
    "duration": 3369,
    "start_time": "2023-03-20T08:06:25.214Z"
   },
   {
    "duration": 2487,
    "start_time": "2023-03-20T08:06:59.987Z"
   },
   {
    "duration": 2459,
    "start_time": "2023-03-20T08:07:38.452Z"
   },
   {
    "duration": 3159,
    "start_time": "2023-03-20T08:08:06.399Z"
   },
   {
    "duration": 3203,
    "start_time": "2023-03-20T08:08:35.660Z"
   },
   {
    "duration": 19,
    "start_time": "2023-03-20T08:16:04.614Z"
   },
   {
    "duration": 268,
    "start_time": "2023-03-20T08:16:09.756Z"
   },
   {
    "duration": 204,
    "start_time": "2023-03-20T08:16:37.965Z"
   },
   {
    "duration": 298,
    "start_time": "2023-03-20T08:17:01.742Z"
   },
   {
    "duration": 954,
    "start_time": "2023-03-20T09:26:41.111Z"
   },
   {
    "duration": 970,
    "start_time": "2023-03-20T09:27:23.209Z"
   },
   {
    "duration": 1500,
    "start_time": "2023-03-20T09:32:27.949Z"
   },
   {
    "duration": 102,
    "start_time": "2023-03-20T09:32:42.008Z"
   },
   {
    "duration": 86,
    "start_time": "2023-03-20T09:32:46.142Z"
   },
   {
    "duration": 88,
    "start_time": "2023-03-20T09:32:57.156Z"
   },
   {
    "duration": 1319,
    "start_time": "2023-03-20T09:33:12.152Z"
   },
   {
    "duration": 3,
    "start_time": "2023-03-20T09:33:13.472Z"
   },
   {
    "duration": 16999,
    "start_time": "2023-03-20T09:33:13.477Z"
   },
   {
    "duration": 11387,
    "start_time": "2023-03-20T09:33:30.479Z"
   },
   {
    "duration": 13335,
    "start_time": "2023-03-20T09:33:41.928Z"
   },
   {
    "duration": 7376,
    "start_time": "2023-03-20T09:33:55.265Z"
   },
   {
    "duration": 3499,
    "start_time": "2023-03-20T09:34:02.642Z"
   },
   {
    "duration": 11231,
    "start_time": "2023-03-20T09:34:06.145Z"
   },
   {
    "duration": 1472,
    "start_time": "2023-03-20T09:34:17.378Z"
   },
   {
    "duration": 152,
    "start_time": "2023-03-20T10:19:15.787Z"
   },
   {
    "duration": 20,
    "start_time": "2023-03-20T10:20:15.699Z"
   },
   {
    "duration": 103,
    "start_time": "2023-03-20T10:23:19.451Z"
   },
   {
    "duration": 113,
    "start_time": "2023-03-20T10:25:42.884Z"
   },
   {
    "duration": 1294,
    "start_time": "2023-03-20T10:25:57.565Z"
   },
   {
    "duration": 4,
    "start_time": "2023-03-20T10:25:58.875Z"
   },
   {
    "duration": 17392,
    "start_time": "2023-03-20T10:25:58.882Z"
   },
   {
    "duration": 11727,
    "start_time": "2023-03-20T10:26:16.326Z"
   },
   {
    "duration": 12515,
    "start_time": "2023-03-20T10:26:28.059Z"
   },
   {
    "duration": 7689,
    "start_time": "2023-03-20T10:26:40.575Z"
   },
   {
    "duration": 3502,
    "start_time": "2023-03-20T10:26:48.266Z"
   },
   {
    "duration": 10811,
    "start_time": "2023-03-20T10:26:51.769Z"
   },
   {
    "duration": 1756,
    "start_time": "2023-03-20T10:27:02.582Z"
   },
   {
    "duration": 493,
    "start_time": "2023-03-20T10:27:04.340Z"
   },
   {
    "duration": 26,
    "start_time": "2023-03-20T10:29:34.051Z"
   },
   {
    "duration": 23,
    "start_time": "2023-03-20T10:48:14.888Z"
   },
   {
    "duration": 222,
    "start_time": "2023-03-20T10:49:47.090Z"
   },
   {
    "duration": 1375,
    "start_time": "2023-03-20T10:49:52.420Z"
   },
   {
    "duration": 3,
    "start_time": "2023-03-20T10:49:53.797Z"
   },
   {
    "duration": 16852,
    "start_time": "2023-03-20T10:49:53.801Z"
   },
   {
    "duration": 11612,
    "start_time": "2023-03-20T10:50:10.655Z"
   },
   {
    "duration": 13002,
    "start_time": "2023-03-20T10:50:22.324Z"
   },
   {
    "duration": 7834,
    "start_time": "2023-03-20T10:50:35.328Z"
   },
   {
    "duration": 3588,
    "start_time": "2023-03-20T10:50:43.165Z"
   },
   {
    "duration": 11898,
    "start_time": "2023-03-20T10:50:46.758Z"
   },
   {
    "duration": 1920,
    "start_time": "2023-03-20T10:50:58.662Z"
   },
   {
    "duration": 503,
    "start_time": "2023-03-20T10:51:00.584Z"
   },
   {
    "duration": 94,
    "start_time": "2023-03-20T10:51:01.131Z"
   },
   {
    "duration": 1331,
    "start_time": "2023-03-20T10:51:01.229Z"
   },
   {
    "duration": 434,
    "start_time": "2023-03-20T10:54:57.998Z"
   },
   {
    "duration": 4051,
    "start_time": "2023-03-20T10:58:12.118Z"
   },
   {
    "duration": 135,
    "start_time": "2023-03-20T10:58:53.253Z"
   },
   {
    "duration": 1715,
    "start_time": "2023-03-20T10:59:08.160Z"
   },
   {
    "duration": 1614,
    "start_time": "2023-03-20T11:07:16.957Z"
   },
   {
    "duration": 1325,
    "start_time": "2023-03-20T11:08:15.711Z"
   },
   {
    "duration": 8,
    "start_time": "2023-03-20T11:08:17.051Z"
   },
   {
    "duration": 17204,
    "start_time": "2023-03-20T11:08:17.066Z"
   },
   {
    "duration": 11072,
    "start_time": "2023-03-20T11:08:34.274Z"
   },
   {
    "duration": 12845,
    "start_time": "2023-03-20T11:08:45.348Z"
   },
   {
    "duration": 7135,
    "start_time": "2023-03-20T11:08:58.224Z"
   },
   {
    "duration": 3675,
    "start_time": "2023-03-20T11:09:05.360Z"
   },
   {
    "duration": 11801,
    "start_time": "2023-03-20T11:09:09.042Z"
   },
   {
    "duration": 1705,
    "start_time": "2023-03-20T11:09:20.857Z"
   },
   {
    "duration": 684,
    "start_time": "2023-03-20T11:09:22.565Z"
   },
   {
    "duration": 98,
    "start_time": "2023-03-20T11:09:23.251Z"
   },
   {
    "duration": 12,
    "start_time": "2023-03-20T11:09:23.351Z"
   },
   {
    "duration": 1067,
    "start_time": "2023-03-20T11:09:23.368Z"
   },
   {
    "duration": 538,
    "start_time": "2023-03-20T11:09:24.437Z"
   },
   {
    "duration": 3974,
    "start_time": "2023-03-20T11:09:24.977Z"
   },
   {
    "duration": 7,
    "start_time": "2023-03-20T11:10:12.768Z"
   },
   {
    "duration": 15,
    "start_time": "2023-03-20T11:10:28.447Z"
   },
   {
    "duration": 445,
    "start_time": "2023-03-20T11:16:27.413Z"
   },
   {
    "duration": 6932,
    "start_time": "2023-03-20T11:16:53.683Z"
   },
   {
    "duration": 341,
    "start_time": "2023-03-20T11:18:03.253Z"
   },
   {
    "duration": 4545,
    "start_time": "2023-03-20T11:18:07.572Z"
   },
   {
    "duration": 1340,
    "start_time": "2023-03-20T11:18:23.818Z"
   },
   {
    "duration": 3,
    "start_time": "2023-03-20T11:18:25.161Z"
   },
   {
    "duration": 17093,
    "start_time": "2023-03-20T11:18:25.168Z"
   },
   {
    "duration": 11902,
    "start_time": "2023-03-20T11:18:42.263Z"
   },
   {
    "duration": 13061,
    "start_time": "2023-03-20T11:18:54.168Z"
   },
   {
    "duration": 7319,
    "start_time": "2023-03-20T11:19:07.230Z"
   },
   {
    "duration": 3615,
    "start_time": "2023-03-20T11:19:14.551Z"
   },
   {
    "duration": 10682,
    "start_time": "2023-03-20T11:19:18.170Z"
   },
   {
    "duration": 1745,
    "start_time": "2023-03-20T11:19:28.854Z"
   },
   {
    "duration": 453,
    "start_time": "2023-03-20T11:19:30.601Z"
   },
   {
    "duration": 83,
    "start_time": "2023-03-20T11:19:31.059Z"
   },
   {
    "duration": 3,
    "start_time": "2023-03-20T11:19:31.144Z"
   },
   {
    "duration": 1294,
    "start_time": "2023-03-20T11:19:31.152Z"
   },
   {
    "duration": 430,
    "start_time": "2023-03-20T11:19:32.448Z"
   },
   {
    "duration": 5947,
    "start_time": "2023-03-20T11:19:32.880Z"
   },
   {
    "duration": 3049,
    "start_time": "2023-03-20T11:19:38.829Z"
   },
   {
    "duration": 5002,
    "start_time": "2023-03-20T11:22:48.456Z"
   },
   {
    "duration": 3532,
    "start_time": "2023-03-20T11:24:04.014Z"
   },
   {
    "duration": 1077,
    "start_time": "2023-03-20T11:26:49.583Z"
   },
   {
    "duration": 667,
    "start_time": "2023-03-20T11:27:36.710Z"
   },
   {
    "duration": 1122,
    "start_time": "2023-03-20T11:27:47.919Z"
   },
   {
    "duration": 4196,
    "start_time": "2023-03-20T16:17:43.078Z"
   },
   {
    "duration": 6660,
    "start_time": "2023-03-20T16:18:03.383Z"
   },
   {
    "duration": 151,
    "start_time": "2023-03-20T16:21:05.423Z"
   },
   {
    "duration": 2230,
    "start_time": "2023-03-20T16:24:42.855Z"
   },
   {
    "duration": 1888,
    "start_time": "2023-03-20T16:24:51.473Z"
   },
   {
    "duration": 563,
    "start_time": "2023-03-20T16:24:55.168Z"
   },
   {
    "duration": 711,
    "start_time": "2023-03-20T16:24:56.939Z"
   },
   {
    "duration": 3235,
    "start_time": "2023-03-20T16:25:03.470Z"
   },
   {
    "duration": 2022,
    "start_time": "2023-03-20T16:25:18.719Z"
   },
   {
    "duration": 2245,
    "start_time": "2023-03-20T16:25:20.745Z"
   },
   {
    "duration": 761,
    "start_time": "2023-03-20T16:25:23.896Z"
   },
   {
    "duration": 478,
    "start_time": "2023-03-20T16:25:27.016Z"
   },
   {
    "duration": 2460,
    "start_time": "2023-03-20T16:25:29.784Z"
   },
   {
    "duration": 2611,
    "start_time": "2023-03-20T16:25:41.741Z"
   },
   {
    "duration": 1995,
    "start_time": "2023-03-20T16:25:44.354Z"
   },
   {
    "duration": 449,
    "start_time": "2023-03-20T16:25:47.688Z"
   },
   {
    "duration": 731,
    "start_time": "2023-03-20T16:25:50.512Z"
   },
   {
    "duration": 2123,
    "start_time": "2023-03-20T16:25:53.256Z"
   },
   {
    "duration": 3,
    "start_time": "2023-03-20T16:26:39.200Z"
   },
   {
    "duration": 98,
    "start_time": "2023-03-20T16:26:40.920Z"
   },
   {
    "duration": 1419,
    "start_time": "2023-03-20T16:26:51.849Z"
   },
   {
    "duration": 4,
    "start_time": "2023-03-20T16:26:53.270Z"
   },
   {
    "duration": 20682,
    "start_time": "2023-03-20T16:26:53.275Z"
   },
   {
    "duration": 12599,
    "start_time": "2023-03-20T16:27:13.960Z"
   },
   {
    "duration": 15601,
    "start_time": "2023-03-20T16:27:26.561Z"
   },
   {
    "duration": 8327,
    "start_time": "2023-03-20T16:27:42.164Z"
   },
   {
    "duration": 3765,
    "start_time": "2023-03-20T16:27:50.493Z"
   },
   {
    "duration": 12236,
    "start_time": "2023-03-20T16:27:54.260Z"
   },
   {
    "duration": 1845,
    "start_time": "2023-03-20T16:28:06.499Z"
   },
   {
    "duration": 412,
    "start_time": "2023-03-20T16:28:08.347Z"
   },
   {
    "duration": 70,
    "start_time": "2023-03-20T16:28:08.762Z"
   },
   {
    "duration": 5,
    "start_time": "2023-03-20T16:28:08.838Z"
   },
   {
    "duration": 1113,
    "start_time": "2023-03-20T16:28:08.848Z"
   },
   {
    "duration": 513,
    "start_time": "2023-03-20T16:28:09.963Z"
   },
   {
    "duration": 3962,
    "start_time": "2023-03-20T16:28:10.478Z"
   },
   {
    "duration": 4824,
    "start_time": "2023-03-20T16:28:14.444Z"
   },
   {
    "duration": 3691,
    "start_time": "2023-03-20T16:28:19.271Z"
   },
   {
    "duration": 1408,
    "start_time": "2023-03-20T16:28:22.964Z"
   },
   {
    "duration": 1388,
    "start_time": "2023-03-20T16:28:24.373Z"
   },
   {
    "duration": 5066,
    "start_time": "2023-03-20T16:28:25.763Z"
   },
   {
    "duration": 997,
    "start_time": "2023-03-20T16:30:56.570Z"
   },
   {
    "duration": 742,
    "start_time": "2023-03-20T16:30:59.009Z"
   },
   {
    "duration": 609,
    "start_time": "2023-03-20T16:31:24.389Z"
   },
   {
    "duration": 8210,
    "start_time": "2023-03-20T16:32:25.770Z"
   },
   {
    "duration": 603,
    "start_time": "2023-03-20T16:33:19.458Z"
   },
   {
    "duration": 7956,
    "start_time": "2023-03-20T16:33:21.498Z"
   },
   {
    "duration": 1199,
    "start_time": "2023-03-20T16:34:11.565Z"
   },
   {
    "duration": 3,
    "start_time": "2023-03-20T16:34:12.766Z"
   },
   {
    "duration": 17969,
    "start_time": "2023-03-20T16:34:12.770Z"
   },
   {
    "duration": 12185,
    "start_time": "2023-03-20T16:34:30.743Z"
   },
   {
    "duration": 13613,
    "start_time": "2023-03-20T16:34:42.939Z"
   },
   {
    "duration": 8135,
    "start_time": "2023-03-20T16:34:56.554Z"
   },
   {
    "duration": 3540,
    "start_time": "2023-03-20T16:35:04.691Z"
   },
   {
    "duration": 9927,
    "start_time": "2023-03-20T16:35:08.241Z"
   },
   {
    "duration": 1531,
    "start_time": "2023-03-20T16:35:18.170Z"
   },
   {
    "duration": 435,
    "start_time": "2023-03-20T16:35:19.703Z"
   },
   {
    "duration": 94,
    "start_time": "2023-03-20T16:35:20.140Z"
   },
   {
    "duration": 4,
    "start_time": "2023-03-20T16:35:20.237Z"
   },
   {
    "duration": 1288,
    "start_time": "2023-03-20T16:35:20.245Z"
   },
   {
    "duration": 521,
    "start_time": "2023-03-20T16:35:21.536Z"
   },
   {
    "duration": 3702,
    "start_time": "2023-03-20T16:35:22.060Z"
   },
   {
    "duration": 4885,
    "start_time": "2023-03-20T16:35:25.764Z"
   },
   {
    "duration": 3094,
    "start_time": "2023-03-20T16:35:30.654Z"
   },
   {
    "duration": 1220,
    "start_time": "2023-03-20T16:35:33.750Z"
   },
   {
    "duration": 1107,
    "start_time": "2023-03-20T16:35:35.030Z"
   },
   {
    "duration": 9166,
    "start_time": "2023-03-20T16:35:36.139Z"
   },
   {
    "duration": 2369,
    "start_time": "2023-03-20T16:36:23.532Z"
   },
   {
    "duration": 2017,
    "start_time": "2023-03-20T16:36:25.924Z"
   },
   {
    "duration": 802,
    "start_time": "2023-03-20T16:36:30.343Z"
   },
   {
    "duration": 681,
    "start_time": "2023-03-20T16:36:32.222Z"
   },
   {
    "duration": 7260,
    "start_time": "2023-03-20T16:36:34.773Z"
   },
   {
    "duration": 2070,
    "start_time": "2023-03-20T16:37:15.182Z"
   },
   {
    "duration": 1622,
    "start_time": "2023-03-20T16:37:17.845Z"
   },
   {
    "duration": 618,
    "start_time": "2023-03-20T16:37:26.439Z"
   },
   {
    "duration": 618,
    "start_time": "2023-03-20T16:37:28.606Z"
   },
   {
    "duration": 5129,
    "start_time": "2023-03-20T16:37:33.046Z"
   },
   {
    "duration": 1914,
    "start_time": "2023-03-20T16:37:53.054Z"
   },
   {
    "duration": 2095,
    "start_time": "2023-03-20T16:37:54.971Z"
   },
   {
    "duration": 521,
    "start_time": "2023-03-20T16:37:58.264Z"
   },
   {
    "duration": 550,
    "start_time": "2023-03-20T16:38:00.486Z"
   },
   {
    "duration": 4656,
    "start_time": "2023-03-20T16:38:02.046Z"
   },
   {
    "duration": 1956,
    "start_time": "2023-03-20T16:53:56.078Z"
   },
   {
    "duration": 2028,
    "start_time": "2023-03-20T16:53:58.246Z"
   },
   {
    "duration": 648,
    "start_time": "2023-03-20T16:54:02.101Z"
   },
   {
    "duration": 643,
    "start_time": "2023-03-20T16:54:04.892Z"
   },
   {
    "duration": 5005,
    "start_time": "2023-03-20T16:54:07.781Z"
   },
   {
    "duration": 14483,
    "start_time": "2023-03-20T16:54:33.381Z"
   },
   {
    "duration": 1348,
    "start_time": "2023-03-20T16:54:58.346Z"
   },
   {
    "duration": 6,
    "start_time": "2023-03-20T16:54:59.696Z"
   },
   {
    "duration": 17285,
    "start_time": "2023-03-20T16:54:59.705Z"
   },
   {
    "duration": 13538,
    "start_time": "2023-03-20T16:55:16.992Z"
   },
   {
    "duration": 16096,
    "start_time": "2023-03-20T16:55:30.533Z"
   },
   {
    "duration": 9579,
    "start_time": "2023-03-20T16:55:46.631Z"
   },
   {
    "duration": 4162,
    "start_time": "2023-03-20T16:55:56.226Z"
   },
   {
    "duration": 12540,
    "start_time": "2023-03-20T16:56:00.432Z"
   },
   {
    "duration": 1984,
    "start_time": "2023-03-20T16:56:12.974Z"
   },
   {
    "duration": 669,
    "start_time": "2023-03-20T16:56:14.959Z"
   },
   {
    "duration": 37,
    "start_time": "2023-03-20T16:56:15.629Z"
   },
   {
    "duration": 9,
    "start_time": "2023-03-20T16:56:15.729Z"
   },
   {
    "duration": 1176,
    "start_time": "2023-03-20T16:56:15.749Z"
   },
   {
    "duration": 519,
    "start_time": "2023-03-20T16:56:16.927Z"
   },
   {
    "duration": 3993,
    "start_time": "2023-03-20T16:56:17.448Z"
   },
   {
    "duration": 4707,
    "start_time": "2023-03-20T16:56:21.443Z"
   },
   {
    "duration": 3518,
    "start_time": "2023-03-20T16:56:26.153Z"
   },
   {
    "duration": 1170,
    "start_time": "2023-03-20T16:56:29.673Z"
   },
   {
    "duration": 1217,
    "start_time": "2023-03-20T16:56:30.846Z"
   },
   {
    "duration": 11688,
    "start_time": "2023-03-20T16:56:32.065Z"
   },
   {
    "duration": 10382,
    "start_time": "2023-03-20T16:59:12.281Z"
   },
   {
    "duration": 6261,
    "start_time": "2023-03-20T16:59:51.577Z"
   },
   {
    "duration": 5731,
    "start_time": "2023-03-20T17:00:34.168Z"
   },
   {
    "duration": 5613,
    "start_time": "2023-03-20T17:01:27.388Z"
   },
   {
    "duration": 5597,
    "start_time": "2023-03-20T17:01:35.480Z"
   },
   {
    "duration": 1300,
    "start_time": "2023-03-20T17:04:45.868Z"
   },
   {
    "duration": 1169,
    "start_time": "2023-03-20T17:06:01.651Z"
   },
   {
    "duration": 1355,
    "start_time": "2023-03-20T17:07:18.607Z"
   },
   {
    "duration": 4546,
    "start_time": "2023-03-20T17:08:48.808Z"
   },
   {
    "duration": 14087,
    "start_time": "2023-03-20T17:13:14.097Z"
   },
   {
    "duration": 1790,
    "start_time": "2023-03-20T17:13:36.753Z"
   },
   {
    "duration": 4,
    "start_time": "2023-03-20T17:13:38.545Z"
   },
   {
    "duration": 17711,
    "start_time": "2023-03-20T17:13:38.550Z"
   },
   {
    "duration": 12061,
    "start_time": "2023-03-20T17:13:56.266Z"
   },
   {
    "duration": 13158,
    "start_time": "2023-03-20T17:14:08.329Z"
   },
   {
    "duration": 7467,
    "start_time": "2023-03-20T17:14:21.489Z"
   },
   {
    "duration": 3621,
    "start_time": "2023-03-20T17:14:28.958Z"
   },
   {
    "duration": 12044,
    "start_time": "2023-03-20T17:14:32.624Z"
   },
   {
    "duration": 1574,
    "start_time": "2023-03-20T17:14:44.670Z"
   },
   {
    "duration": 347,
    "start_time": "2023-03-20T17:14:46.245Z"
   },
   {
    "duration": 47,
    "start_time": "2023-03-20T17:14:46.594Z"
   },
   {
    "duration": 6,
    "start_time": "2023-03-20T17:14:46.643Z"
   },
   {
    "duration": 1390,
    "start_time": "2023-03-20T17:14:46.653Z"
   },
   {
    "duration": 506,
    "start_time": "2023-03-20T17:14:48.046Z"
   },
   {
    "duration": 3873,
    "start_time": "2023-03-20T17:14:48.554Z"
   },
   {
    "duration": 4222,
    "start_time": "2023-03-20T17:14:52.429Z"
   },
   {
    "duration": 3869,
    "start_time": "2023-03-20T17:14:56.657Z"
   },
   {
    "duration": 1161,
    "start_time": "2023-03-20T17:15:00.528Z"
   },
   {
    "duration": 1052,
    "start_time": "2023-03-20T17:15:01.691Z"
   },
   {
    "duration": 9953,
    "start_time": "2023-03-20T17:15:02.744Z"
   },
   {
    "duration": 7588,
    "start_time": "2023-03-20T17:19:56.733Z"
   },
   {
    "duration": 1412,
    "start_time": "2023-03-21T05:45:26.339Z"
   },
   {
    "duration": 2,
    "start_time": "2023-03-21T05:45:27.753Z"
   },
   {
    "duration": 15423,
    "start_time": "2023-03-21T05:45:27.757Z"
   },
   {
    "duration": 9667,
    "start_time": "2023-03-21T05:45:43.183Z"
   },
   {
    "duration": 10144,
    "start_time": "2023-03-21T05:45:52.852Z"
   },
   {
    "duration": 5766,
    "start_time": "2023-03-21T05:46:02.998Z"
   },
   {
    "duration": 2776,
    "start_time": "2023-03-21T05:46:08.766Z"
   },
   {
    "duration": 9468,
    "start_time": "2023-03-21T05:46:11.545Z"
   },
   {
    "duration": 1586,
    "start_time": "2023-03-21T05:46:21.015Z"
   },
   {
    "duration": 389,
    "start_time": "2023-03-21T05:46:22.603Z"
   },
   {
    "duration": 70,
    "start_time": "2023-03-21T05:46:22.994Z"
   },
   {
    "duration": 86,
    "start_time": "2023-03-21T05:46:23.066Z"
   },
   {
    "duration": 1087,
    "start_time": "2023-03-21T05:46:23.155Z"
   },
   {
    "duration": 500,
    "start_time": "2023-03-21T05:46:24.245Z"
   },
   {
    "duration": 2822,
    "start_time": "2023-03-21T05:46:24.747Z"
   },
   {
    "duration": 3234,
    "start_time": "2023-03-21T05:46:27.570Z"
   },
   {
    "duration": 2745,
    "start_time": "2023-03-21T05:46:30.805Z"
   },
   {
    "duration": 840,
    "start_time": "2023-03-21T05:46:33.553Z"
   },
   {
    "duration": 805,
    "start_time": "2023-03-21T05:46:34.395Z"
   },
   {
    "duration": 9002,
    "start_time": "2023-03-21T05:46:35.202Z"
   },
   {
    "duration": 585,
    "start_time": "2023-03-21T05:49:14.256Z"
   },
   {
    "duration": 653,
    "start_time": "2023-03-21T05:49:16.928Z"
   },
   {
    "duration": 6150,
    "start_time": "2023-03-21T05:49:39.849Z"
   },
   {
    "duration": 16,
    "start_time": "2023-03-21T05:50:27.271Z"
   },
   {
    "duration": 32,
    "start_time": "2023-03-21T05:54:19.976Z"
   },
   {
    "duration": 31,
    "start_time": "2023-03-21T05:54:31.568Z"
   },
   {
    "duration": 29,
    "start_time": "2023-03-21T05:55:13.345Z"
   },
   {
    "duration": 137,
    "start_time": "2023-03-21T05:56:15.272Z"
   },
   {
    "duration": 3,
    "start_time": "2023-03-21T05:56:18.632Z"
   },
   {
    "duration": 30,
    "start_time": "2023-03-21T05:56:27.641Z"
   },
   {
    "duration": 52,
    "start_time": "2023-03-21T05:57:30.843Z"
   },
   {
    "duration": 11,
    "start_time": "2023-03-21T05:58:05.873Z"
   },
   {
    "duration": 2344,
    "start_time": "2023-03-21T05:59:35.181Z"
   },
   {
    "duration": 2400,
    "start_time": "2023-03-21T05:59:39.897Z"
   },
   {
    "duration": 593,
    "start_time": "2023-03-21T05:59:44.210Z"
   },
   {
    "duration": 664,
    "start_time": "2023-03-21T05:59:46.801Z"
   },
   {
    "duration": 5923,
    "start_time": "2023-03-21T05:59:52.215Z"
   },
   {
    "duration": 19,
    "start_time": "2023-03-21T06:00:02.338Z"
   },
   {
    "duration": 29,
    "start_time": "2023-03-21T06:00:05.721Z"
   },
   {
    "duration": 43,
    "start_time": "2023-03-21T06:05:51.491Z"
   },
   {
    "duration": 1573,
    "start_time": "2023-03-21T06:05:58.538Z"
   },
   {
    "duration": 2120,
    "start_time": "2023-03-21T06:06:04.602Z"
   },
   {
    "duration": 2481,
    "start_time": "2023-03-21T06:06:06.906Z"
   },
   {
    "duration": 693,
    "start_time": "2023-03-21T06:07:06.690Z"
   },
   {
    "duration": 456,
    "start_time": "2023-03-21T06:07:42.027Z"
   },
   {
    "duration": 7108,
    "start_time": "2023-03-21T06:07:45.045Z"
   },
   {
    "duration": 1792,
    "start_time": "2023-03-21T06:09:04.594Z"
   },
   {
    "duration": 615,
    "start_time": "2023-03-21T06:09:09.427Z"
   },
   {
    "duration": 530,
    "start_time": "2023-03-21T06:09:11.539Z"
   },
   {
    "duration": 6477,
    "start_time": "2023-03-21T06:09:18.879Z"
   },
   {
    "duration": 1317,
    "start_time": "2023-03-21T06:10:22.646Z"
   },
   {
    "duration": 382,
    "start_time": "2023-03-21T06:11:32.587Z"
   },
   {
    "duration": 579,
    "start_time": "2023-03-21T06:11:56.883Z"
   },
   {
    "duration": 4253,
    "start_time": "2023-03-21T06:12:32.066Z"
   },
   {
    "duration": 1271,
    "start_time": "2023-03-21T06:12:53.299Z"
   },
   {
    "duration": 428,
    "start_time": "2023-03-21T06:13:00.260Z"
   },
   {
    "duration": 429,
    "start_time": "2023-03-21T06:13:03.092Z"
   },
   {
    "duration": 4269,
    "start_time": "2023-03-21T06:13:16.509Z"
   },
   {
    "duration": 1235,
    "start_time": "2023-03-21T06:27:04.698Z"
   },
   {
    "duration": 7,
    "start_time": "2023-03-21T06:27:05.935Z"
   },
   {
    "duration": 15910,
    "start_time": "2023-03-21T06:27:05.944Z"
   },
   {
    "duration": 10404,
    "start_time": "2023-03-21T06:27:21.856Z"
   },
   {
    "duration": 11980,
    "start_time": "2023-03-21T06:27:32.262Z"
   },
   {
    "duration": 7428,
    "start_time": "2023-03-21T06:27:44.244Z"
   },
   {
    "duration": 3001,
    "start_time": "2023-03-21T06:27:51.674Z"
   },
   {
    "duration": 9989,
    "start_time": "2023-03-21T06:27:54.677Z"
   },
   {
    "duration": 1375,
    "start_time": "2023-03-21T06:28:04.668Z"
   },
   {
    "duration": 365,
    "start_time": "2023-03-21T06:28:06.045Z"
   },
   {
    "duration": 23,
    "start_time": "2023-03-21T06:28:06.442Z"
   },
   {
    "duration": 4,
    "start_time": "2023-03-21T06:28:06.466Z"
   },
   {
    "duration": 900,
    "start_time": "2023-03-21T06:28:06.472Z"
   },
   {
    "duration": 466,
    "start_time": "2023-03-21T06:28:07.376Z"
   },
   {
    "duration": 3210,
    "start_time": "2023-03-21T06:28:07.844Z"
   },
   {
    "duration": 3500,
    "start_time": "2023-03-21T06:28:11.057Z"
   },
   {
    "duration": 2595,
    "start_time": "2023-03-21T06:28:14.559Z"
   },
   {
    "duration": 423,
    "start_time": "2023-03-21T06:28:17.156Z"
   },
   {
    "duration": 0,
    "start_time": "2023-03-21T06:28:17.581Z"
   },
   {
    "duration": 0,
    "start_time": "2023-03-21T06:28:17.582Z"
   },
   {
    "duration": 113,
    "start_time": "2023-03-21T06:29:21.149Z"
   },
   {
    "duration": 677,
    "start_time": "2023-03-21T06:29:30.826Z"
   },
   {
    "duration": 732,
    "start_time": "2023-03-21T06:29:35.618Z"
   },
   {
    "duration": 8104,
    "start_time": "2023-03-21T06:29:59.642Z"
   },
   {
    "duration": 19,
    "start_time": "2023-03-21T06:31:41.953Z"
   },
   {
    "duration": 6167,
    "start_time": "2023-03-21T06:31:53.019Z"
   },
   {
    "duration": 1581,
    "start_time": "2023-03-21T06:32:31.264Z"
   },
   {
    "duration": 558,
    "start_time": "2023-03-21T06:32:34.130Z"
   },
   {
    "duration": 4542,
    "start_time": "2023-03-21T06:32:37.178Z"
   },
   {
    "duration": 1576,
    "start_time": "2023-03-21T06:32:54.794Z"
   },
   {
    "duration": 5809,
    "start_time": "2023-03-21T06:45:00.302Z"
   },
   {
    "duration": 2039,
    "start_time": "2023-03-21T06:45:38.261Z"
   },
   {
    "duration": 1509,
    "start_time": "2023-03-21T06:45:41.358Z"
   },
   {
    "duration": 521,
    "start_time": "2023-03-21T06:45:44.788Z"
   },
   {
    "duration": 496,
    "start_time": "2023-03-21T06:45:47.613Z"
   },
   {
    "duration": 4924,
    "start_time": "2023-03-21T06:45:53.354Z"
   },
   {
    "duration": 670,
    "start_time": "2023-03-21T06:49:52.015Z"
   },
   {
    "duration": 501,
    "start_time": "2023-03-21T06:50:57.799Z"
   },
   {
    "duration": 4950,
    "start_time": "2023-03-21T06:51:44.979Z"
   },
   {
    "duration": 1306,
    "start_time": "2023-03-21T06:52:22.930Z"
   },
   {
    "duration": 2,
    "start_time": "2023-03-21T06:52:24.245Z"
   },
   {
    "duration": 17024,
    "start_time": "2023-03-21T06:52:24.254Z"
   },
   {
    "duration": 12190,
    "start_time": "2023-03-21T06:52:41.281Z"
   },
   {
    "duration": 12900,
    "start_time": "2023-03-21T06:52:53.473Z"
   },
   {
    "duration": 7612,
    "start_time": "2023-03-21T06:53:06.375Z"
   },
   {
    "duration": 3669,
    "start_time": "2023-03-21T06:53:13.989Z"
   },
   {
    "duration": 10130,
    "start_time": "2023-03-21T06:53:17.660Z"
   },
   {
    "duration": 1378,
    "start_time": "2023-03-21T06:53:27.791Z"
   },
   {
    "duration": 439,
    "start_time": "2023-03-21T06:53:29.171Z"
   },
   {
    "duration": 55,
    "start_time": "2023-03-21T06:53:29.613Z"
   },
   {
    "duration": 3,
    "start_time": "2023-03-21T06:53:29.670Z"
   },
   {
    "duration": 1183,
    "start_time": "2023-03-21T06:53:29.674Z"
   },
   {
    "duration": 453,
    "start_time": "2023-03-21T06:53:30.864Z"
   },
   {
    "duration": 3345,
    "start_time": "2023-03-21T06:53:31.319Z"
   },
   {
    "duration": 3492,
    "start_time": "2023-03-21T06:53:34.666Z"
   },
   {
    "duration": 3294,
    "start_time": "2023-03-21T06:53:38.164Z"
   },
   {
    "duration": 1038,
    "start_time": "2023-03-21T06:53:41.462Z"
   },
   {
    "duration": 955,
    "start_time": "2023-03-21T06:53:42.502Z"
   },
   {
    "duration": 9615,
    "start_time": "2023-03-21T06:53:43.460Z"
   },
   {
    "duration": 143,
    "start_time": "2023-03-21T06:55:55.615Z"
   },
   {
    "duration": 103,
    "start_time": "2023-03-21T06:56:05.355Z"
   },
   {
    "duration": 124,
    "start_time": "2023-03-21T06:56:15.858Z"
   },
   {
    "duration": 1786,
    "start_time": "2023-03-21T06:56:34.281Z"
   },
   {
    "duration": 67,
    "start_time": "2023-03-21T06:56:58.293Z"
   },
   {
    "duration": 27,
    "start_time": "2023-03-21T06:57:10.895Z"
   },
   {
    "duration": 81,
    "start_time": "2023-03-21T06:57:27.033Z"
   },
   {
    "duration": 1179,
    "start_time": "2023-03-21T06:57:58.303Z"
   },
   {
    "duration": 1691,
    "start_time": "2023-03-21T06:58:23.590Z"
   },
   {
    "duration": 21,
    "start_time": "2023-03-21T06:58:48.254Z"
   },
   {
    "duration": 2988,
    "start_time": "2023-03-21T06:59:15.888Z"
   },
   {
    "duration": 20,
    "start_time": "2023-03-21T06:59:24.433Z"
   },
   {
    "duration": 26,
    "start_time": "2023-03-21T06:59:31.164Z"
   },
   {
    "duration": 17,
    "start_time": "2023-03-21T06:59:49.289Z"
   },
   {
    "duration": 1842,
    "start_time": "2023-03-21T07:00:03.418Z"
   },
   {
    "duration": 893,
    "start_time": "2023-03-21T07:00:29.762Z"
   },
   {
    "duration": 1801,
    "start_time": "2023-03-21T07:00:33.720Z"
   },
   {
    "duration": 1726,
    "start_time": "2023-03-21T07:00:35.920Z"
   },
   {
    "duration": 601,
    "start_time": "2023-03-21T07:00:38.905Z"
   },
   {
    "duration": 516,
    "start_time": "2023-03-21T07:00:41.593Z"
   },
   {
    "duration": 6460,
    "start_time": "2023-03-21T07:00:44.156Z"
   },
   {
    "duration": 1252,
    "start_time": "2023-03-21T07:08:08.594Z"
   },
   {
    "duration": 2,
    "start_time": "2023-03-21T07:08:09.848Z"
   },
   {
    "duration": 16514,
    "start_time": "2023-03-21T07:08:09.851Z"
   },
   {
    "duration": 11389,
    "start_time": "2023-03-21T07:08:26.367Z"
   },
   {
    "duration": 13128,
    "start_time": "2023-03-21T07:08:37.759Z"
   },
   {
    "duration": 7807,
    "start_time": "2023-03-21T07:08:50.889Z"
   },
   {
    "duration": 3479,
    "start_time": "2023-03-21T07:08:58.698Z"
   },
   {
    "duration": 9258,
    "start_time": "2023-03-21T07:09:02.179Z"
   },
   {
    "duration": 1571,
    "start_time": "2023-03-21T07:09:11.439Z"
   },
   {
    "duration": 450,
    "start_time": "2023-03-21T07:09:13.012Z"
   },
   {
    "duration": 78,
    "start_time": "2023-03-21T07:09:13.464Z"
   },
   {
    "duration": 6,
    "start_time": "2023-03-21T07:09:13.547Z"
   },
   {
    "duration": 1122,
    "start_time": "2023-03-21T07:09:13.555Z"
   },
   {
    "duration": 426,
    "start_time": "2023-03-21T07:09:14.743Z"
   },
   {
    "duration": 3902,
    "start_time": "2023-03-21T07:09:15.171Z"
   },
   {
    "duration": 4186,
    "start_time": "2023-03-21T07:09:19.074Z"
   },
   {
    "duration": 2424,
    "start_time": "2023-03-21T07:09:23.262Z"
   },
   {
    "duration": 968,
    "start_time": "2023-03-21T07:09:25.688Z"
   },
   {
    "duration": 805,
    "start_time": "2023-03-21T07:09:26.658Z"
   },
   {
    "duration": 7941,
    "start_time": "2023-03-21T07:09:27.466Z"
   },
   {
    "duration": 1471,
    "start_time": "2023-03-22T06:33:37.436Z"
   },
   {
    "duration": 3,
    "start_time": "2023-03-22T06:33:38.909Z"
   },
   {
    "duration": 15508,
    "start_time": "2023-03-22T06:33:38.914Z"
   },
   {
    "duration": 10274,
    "start_time": "2023-03-22T06:33:54.424Z"
   },
   {
    "duration": 10995,
    "start_time": "2023-03-22T06:34:04.702Z"
   },
   {
    "duration": 7008,
    "start_time": "2023-03-22T06:34:15.699Z"
   },
   {
    "duration": 2916,
    "start_time": "2023-03-22T06:34:22.709Z"
   },
   {
    "duration": 9652,
    "start_time": "2023-03-22T06:34:25.627Z"
   },
   {
    "duration": 1541,
    "start_time": "2023-03-22T06:34:35.281Z"
   },
   {
    "duration": 382,
    "start_time": "2023-03-22T06:34:36.823Z"
   },
   {
    "duration": 94,
    "start_time": "2023-03-22T06:34:37.208Z"
   },
   {
    "duration": 3,
    "start_time": "2023-03-22T06:34:37.304Z"
   },
   {
    "duration": 1214,
    "start_time": "2023-03-22T06:34:37.309Z"
   },
   {
    "duration": 414,
    "start_time": "2023-03-22T06:34:38.526Z"
   },
   {
    "duration": 2963,
    "start_time": "2023-03-22T06:34:38.942Z"
   },
   {
    "duration": 3296,
    "start_time": "2023-03-22T06:34:41.906Z"
   },
   {
    "duration": 2539,
    "start_time": "2023-03-22T06:34:45.204Z"
   },
   {
    "duration": 1021,
    "start_time": "2023-03-22T06:34:47.798Z"
   },
   {
    "duration": 805,
    "start_time": "2023-03-22T06:34:48.822Z"
   },
   {
    "duration": 7743,
    "start_time": "2023-03-22T06:34:49.629Z"
   },
   {
    "duration": 141,
    "start_time": "2023-03-22T06:41:58.155Z"
   },
   {
    "duration": 105,
    "start_time": "2023-03-22T06:50:48.061Z"
   },
   {
    "duration": 59,
    "start_time": "2023-03-22T07:26:15.915Z"
   },
   {
    "duration": 70,
    "start_time": "2023-03-22T07:29:55.858Z"
   },
   {
    "duration": 90,
    "start_time": "2023-03-22T07:57:37.018Z"
   },
   {
    "duration": 1482,
    "start_time": "2023-03-22T11:05:08.347Z"
   },
   {
    "duration": 3,
    "start_time": "2023-03-22T11:07:13.745Z"
   },
   {
    "duration": 15207,
    "start_time": "2023-03-22T11:07:16.480Z"
   },
   {
    "duration": 9854,
    "start_time": "2023-03-22T11:07:32.728Z"
   },
   {
    "duration": 10317,
    "start_time": "2023-03-22T11:07:44.785Z"
   },
   {
    "duration": 5993,
    "start_time": "2023-03-22T11:08:28.626Z"
   },
   {
    "duration": 5627,
    "start_time": "2023-03-22T11:08:39.082Z"
   },
   {
    "duration": 4074,
    "start_time": "2023-03-22T11:09:24.154Z"
   },
   {
    "duration": 523,
    "start_time": "2023-03-22T11:09:40.280Z"
   },
   {
    "duration": 4087,
    "start_time": "2023-03-22T11:09:42.497Z"
   },
   {
    "duration": 4814,
    "start_time": "2023-03-22T11:09:55.482Z"
   },
   {
    "duration": 126,
    "start_time": "2023-03-22T11:11:10.610Z"
   },
   {
    "duration": 17069,
    "start_time": "2023-03-22T11:11:20.549Z"
   },
   {
    "duration": 4535,
    "start_time": "2023-03-22T11:13:59.363Z"
   },
   {
    "duration": 352,
    "start_time": "2023-03-22T11:18:54.538Z"
   },
   {
    "duration": 351,
    "start_time": "2023-03-22T11:20:20.626Z"
   },
   {
    "duration": 3058,
    "start_time": "2023-03-22T11:30:38.820Z"
   },
   {
    "duration": 108,
    "start_time": "2023-03-22T11:31:15.129Z"
   },
   {
    "duration": 2391,
    "start_time": "2023-03-22T11:31:33.203Z"
   },
   {
    "duration": 10,
    "start_time": "2023-03-22T11:49:21.280Z"
   },
   {
    "duration": 4559,
    "start_time": "2023-03-22T11:49:34.800Z"
   },
   {
    "duration": 6312,
    "start_time": "2023-03-22T11:49:44.588Z"
   },
   {
    "duration": 28,
    "start_time": "2023-03-22T11:49:58.031Z"
   },
   {
    "duration": 31,
    "start_time": "2023-03-22T11:50:01.192Z"
   },
   {
    "duration": 9,
    "start_time": "2023-03-22T11:50:13.927Z"
   },
   {
    "duration": 3,
    "start_time": "2023-03-22T11:51:10.598Z"
   },
   {
    "duration": 22,
    "start_time": "2023-03-22T11:51:12.215Z"
   },
   {
    "duration": 7,
    "start_time": "2023-03-22T11:51:22.632Z"
   },
   {
    "duration": 83,
    "start_time": "2023-03-22T11:51:33.252Z"
   },
   {
    "duration": 1555,
    "start_time": "2023-03-22T11:58:54.106Z"
   },
   {
    "duration": 5,
    "start_time": "2023-03-22T11:59:41.581Z"
   },
   {
    "duration": 3,
    "start_time": "2023-03-22T12:01:58.562Z"
   },
   {
    "duration": 70,
    "start_time": "2023-03-22T12:03:08.102Z"
   },
   {
    "duration": 56,
    "start_time": "2023-03-22T12:08:01.401Z"
   },
   {
    "duration": 56,
    "start_time": "2023-03-22T12:08:45.259Z"
   },
   {
    "duration": 64,
    "start_time": "2023-03-22T14:00:18.123Z"
   },
   {
    "duration": 43,
    "start_time": "2023-03-22T14:00:24.452Z"
   },
   {
    "duration": 11,
    "start_time": "2023-03-22T14:03:42.941Z"
   },
   {
    "duration": 25,
    "start_time": "2023-03-22T14:04:11.461Z"
   },
   {
    "duration": 12,
    "start_time": "2023-03-22T14:04:42.806Z"
   },
   {
    "duration": 4324,
    "start_time": "2023-03-22T14:06:10.846Z"
   },
   {
    "duration": 1261,
    "start_time": "2023-03-22T14:13:42.295Z"
   },
   {
    "duration": 5,
    "start_time": "2023-03-22T14:13:43.558Z"
   },
   {
    "duration": 16927,
    "start_time": "2023-03-22T14:13:43.565Z"
   },
   {
    "duration": 12080,
    "start_time": "2023-03-22T14:14:00.495Z"
   },
   {
    "duration": 12803,
    "start_time": "2023-03-22T14:14:12.579Z"
   },
   {
    "duration": 8429,
    "start_time": "2023-03-22T14:14:25.384Z"
   },
   {
    "duration": 3559,
    "start_time": "2023-03-22T14:14:33.815Z"
   },
   {
    "duration": 10857,
    "start_time": "2023-03-22T14:14:37.377Z"
   },
   {
    "duration": 13,
    "start_time": "2023-03-22T14:14:48.236Z"
   },
   {
    "duration": 15,
    "start_time": "2023-03-22T14:14:48.251Z"
   },
   {
    "duration": 13,
    "start_time": "2023-03-22T14:14:48.268Z"
   },
   {
    "duration": 19,
    "start_time": "2023-03-22T14:14:48.283Z"
   },
   {
    "duration": 20,
    "start_time": "2023-03-22T14:14:48.304Z"
   },
   {
    "duration": 7,
    "start_time": "2023-03-22T14:14:48.326Z"
   },
   {
    "duration": 1566,
    "start_time": "2023-03-22T14:14:48.334Z"
   },
   {
    "duration": 362,
    "start_time": "2023-03-22T14:14:49.902Z"
   },
   {
    "duration": 0,
    "start_time": "2023-03-22T14:14:50.267Z"
   },
   {
    "duration": 0,
    "start_time": "2023-03-22T14:14:50.269Z"
   },
   {
    "duration": 0,
    "start_time": "2023-03-22T14:14:50.270Z"
   },
   {
    "duration": 0,
    "start_time": "2023-03-22T14:14:50.271Z"
   },
   {
    "duration": 0,
    "start_time": "2023-03-22T14:14:50.272Z"
   },
   {
    "duration": 0,
    "start_time": "2023-03-22T14:14:50.274Z"
   },
   {
    "duration": 4191,
    "start_time": "2023-03-22T14:15:49.076Z"
   },
   {
    "duration": 1475,
    "start_time": "2023-03-22T14:19:04.520Z"
   },
   {
    "duration": 20,
    "start_time": "2023-03-22T14:20:20.835Z"
   },
   {
    "duration": 96118,
    "start_time": "2023-03-22T14:20:38.572Z"
   },
   {
    "duration": 469,
    "start_time": "2023-03-22T14:23:18.823Z"
   },
   {
    "duration": 98,
    "start_time": "2023-03-22T14:29:17.922Z"
   },
   {
    "duration": 88,
    "start_time": "2023-03-22T14:29:29.525Z"
   },
   {
    "duration": 68,
    "start_time": "2023-03-22T14:29:37.628Z"
   },
   {
    "duration": 473,
    "start_time": "2023-03-22T14:34:45.895Z"
   },
   {
    "duration": 133,
    "start_time": "2023-03-22T14:35:13.351Z"
   },
   {
    "duration": 404,
    "start_time": "2023-03-22T14:36:05.342Z"
   },
   {
    "duration": 760,
    "start_time": "2023-03-22T14:36:19.790Z"
   },
   {
    "duration": 1183,
    "start_time": "2023-03-22T14:36:34.879Z"
   },
   {
    "duration": 743,
    "start_time": "2023-03-22T14:37:28.239Z"
   },
   {
    "duration": 1060,
    "start_time": "2023-03-22T14:37:43.031Z"
   },
   {
    "duration": 760,
    "start_time": "2023-03-22T14:38:58.951Z"
   },
   {
    "duration": 888,
    "start_time": "2023-03-22T14:39:27.223Z"
   },
   {
    "duration": 1342,
    "start_time": "2023-03-23T11:30:13.376Z"
   },
   {
    "duration": 2,
    "start_time": "2023-03-23T11:30:44.631Z"
   },
   {
    "duration": 17165,
    "start_time": "2023-03-23T11:30:46.586Z"
   },
   {
    "duration": 9648,
    "start_time": "2023-03-23T11:31:05.128Z"
   },
   {
    "duration": 46,
    "start_time": "2023-03-23T11:31:47.591Z"
   },
   {
    "duration": 1230,
    "start_time": "2023-03-23T11:31:52.268Z"
   },
   {
    "duration": 1383,
    "start_time": "2023-03-23T11:36:32.632Z"
   },
   {
    "duration": 1140,
    "start_time": "2023-03-23T11:36:40.408Z"
   },
   {
    "duration": 979,
    "start_time": "2023-03-23T11:36:43.800Z"
   },
   {
    "duration": 754,
    "start_time": "2023-03-23T11:37:27.320Z"
   },
   {
    "duration": 626,
    "start_time": "2023-03-23T11:37:37.569Z"
   },
   {
    "duration": 999,
    "start_time": "2023-03-23T11:43:35.873Z"
   },
   {
    "duration": 855,
    "start_time": "2023-03-23T11:43:52.436Z"
   },
   {
    "duration": 352,
    "start_time": "2023-03-23T11:55:07.117Z"
   },
   {
    "duration": 353,
    "start_time": "2023-03-23T11:55:21.820Z"
   },
   {
    "duration": 261,
    "start_time": "2023-03-23T11:55:31.789Z"
   },
   {
    "duration": 278,
    "start_time": "2023-03-23T11:56:05.672Z"
   },
   {
    "duration": 25,
    "start_time": "2023-03-23T11:56:18.420Z"
   },
   {
    "duration": 1648,
    "start_time": "2023-03-24T08:25:46.897Z"
   },
   {
    "duration": 3,
    "start_time": "2023-03-24T08:25:53.489Z"
   },
   {
    "duration": 23160,
    "start_time": "2023-03-24T08:25:55.593Z"
   },
   {
    "duration": 175,
    "start_time": "2023-03-24T08:27:35.186Z"
   },
   {
    "duration": 11154,
    "start_time": "2023-03-24T08:27:41.451Z"
   },
   {
    "duration": 447,
    "start_time": "2023-03-24T08:27:55.240Z"
   },
   {
    "duration": 63,
    "start_time": "2023-03-24T08:28:07.087Z"
   },
   {
    "duration": 63,
    "start_time": "2023-03-24T08:28:37.618Z"
   },
   {
    "duration": 57,
    "start_time": "2023-03-24T08:28:46.794Z"
   },
   {
    "duration": 1582,
    "start_time": "2023-03-24T08:28:54.385Z"
   },
   {
    "duration": 104,
    "start_time": "2023-03-24T08:29:21.607Z"
   },
   {
    "duration": 203,
    "start_time": "2023-03-24T08:29:45.338Z"
   },
   {
    "duration": 718,
    "start_time": "2023-03-24T08:30:08.850Z"
   },
   {
    "duration": 208,
    "start_time": "2023-03-24T08:30:30.210Z"
   },
   {
    "duration": 3,
    "start_time": "2023-03-24T08:30:40.187Z"
   },
   {
    "duration": 110,
    "start_time": "2023-03-24T08:30:48.771Z"
   },
   {
    "duration": 93,
    "start_time": "2023-03-24T08:30:55.545Z"
   },
   {
    "duration": 4,
    "start_time": "2023-03-24T08:31:01.468Z"
   },
   {
    "duration": 59,
    "start_time": "2023-03-24T08:36:01.500Z"
   },
   {
    "duration": 252,
    "start_time": "2023-03-24T08:36:06.540Z"
   },
   {
    "duration": 27,
    "start_time": "2023-03-24T08:37:00.973Z"
   }
  ],
  "colab": {
   "name": "PySparkSprint.ipynb",
   "provenance": []
  },
  "kernelspec": {
   "display_name": "Python 3 (ipykernel)",
   "language": "python",
   "name": "python3"
  },
  "language_info": {
   "codemirror_mode": {
    "name": "ipython",
    "version": 3
   },
   "file_extension": ".py",
   "mimetype": "text/x-python",
   "name": "python",
   "nbconvert_exporter": "python",
   "pygments_lexer": "ipython3",
   "version": "3.9.12"
  },
  "toc": {
   "base_numbering": 1,
   "nav_menu": {},
   "number_sections": true,
   "sideBar": true,
   "skip_h1_title": true,
   "title_cell": "Содержание:",
   "title_sidebar": "Содержание",
   "toc_cell": true,
   "toc_position": {
    "height": "calc(100% - 180px)",
    "left": "10px",
    "top": "150px",
    "width": "494.188px"
   },
   "toc_section_display": true,
   "toc_window_display": true
  }
 },
 "nbformat": 4,
 "nbformat_minor": 5
}
