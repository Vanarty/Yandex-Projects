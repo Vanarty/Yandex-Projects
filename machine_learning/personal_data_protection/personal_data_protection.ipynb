{
 "cells": [
  {
   "cell_type": "markdown",
   "metadata": {
    "toc": true
   },
   "source": [
    "<h1>Содержание<span class=\"tocSkip\"></span></h1>\n",
    "<div class=\"toc\"><ul class=\"toc-item\"><li><span><a href=\"#Загрузка-и-предобработка-данных\" data-toc-modified-id=\"Загрузка-и-предобработка-данных-1\"><span class=\"toc-item-num\">1&nbsp;&nbsp;</span>Загрузка и предобработка данных</a></span></li><li><span><a href=\"#Умножение-матриц\" data-toc-modified-id=\"Умножение-матриц-2\"><span class=\"toc-item-num\">2&nbsp;&nbsp;</span>Умножение матриц</a></span></li><li><span><a href=\"#Алгоритм-преобразования\" data-toc-modified-id=\"Алгоритм-преобразования-3\"><span class=\"toc-item-num\">3&nbsp;&nbsp;</span>Алгоритм преобразования</a></span></li><li><span><a href=\"#Проверка-алгоритма\" data-toc-modified-id=\"Проверка-алгоритма-4\"><span class=\"toc-item-num\">4&nbsp;&nbsp;</span>Проверка алгоритма</a></span><ul class=\"toc-item\"><li><span><a href=\"#Подготовка-и-разбивка-данных-для-обчуения-моделей\" data-toc-modified-id=\"Подготовка-и-разбивка-данных-для-обчуения-моделей-4.1\"><span class=\"toc-item-num\">4.1&nbsp;&nbsp;</span>Подготовка и разбивка данных для обчуения моделей</a></span></li><li><span><a href=\"#Иследование-качества-модели-на-нешифрованных-данных\" data-toc-modified-id=\"Иследование-качества-модели-на-нешифрованных-данных-4.2\"><span class=\"toc-item-num\">4.2&nbsp;&nbsp;</span>Иследование качества модели на нешифрованных данных</a></span></li><li><span><a href=\"#Иследование-качества-модели-на-шифрованных-данных\" data-toc-modified-id=\"Иследование-качества-модели-на-шифрованных-данных-4.3\"><span class=\"toc-item-num\">4.3&nbsp;&nbsp;</span>Иследование качества модели на шифрованных данных</a></span></li></ul></li><li><span><a href=\"#Улучшение-предсказательной-способности-модели-регрессии\" data-toc-modified-id=\"Улучшение-предсказательной-способности-модели-регрессии-5\"><span class=\"toc-item-num\">5&nbsp;&nbsp;</span>Улучшение предсказательной способности модели регрессии</a></span></li><li><span><a href=\"#Выводы\" data-toc-modified-id=\"Выводы-6\"><span class=\"toc-item-num\">6&nbsp;&nbsp;</span>Выводы</a></span></li><li><span><a href=\"#Чек-лист-проверки\" data-toc-modified-id=\"Чек-лист-проверки-7\"><span class=\"toc-item-num\">7&nbsp;&nbsp;</span>Чек-лист проверки</a></span></li></ul></div>"
   ]
  },
  {
   "cell_type": "markdown",
   "metadata": {},
   "source": [
    "# Защита персональных данных клиентов"
   ]
  },
  {
   "cell_type": "markdown",
   "metadata": {},
   "source": [
    "Вам нужно защитить данные клиентов страховой компании «Хоть потоп». Разработайте такой метод преобразования данных, чтобы по ним было сложно восстановить персональную информацию. Обоснуйте корректность его работы.\n",
    "\n",
    "Нужно защитить данные, чтобы при преобразовании качество моделей машинного обучения не ухудшилось. Подбирать наилучшую модель не требуется."
   ]
  },
  {
   "cell_type": "markdown",
   "metadata": {},
   "source": [
    "## Загрузка и предобработка данных"
   ]
  },
  {
   "cell_type": "code",
   "execution_count": 1,
   "metadata": {},
   "outputs": [],
   "source": [
    "import os\n",
    "import pandas as pd\n",
    "import numpy as np\n",
    "import matplotlib.pyplot as plt\n",
    "import seaborn as sns\n",
    "\n",
    "from sklearn.model_selection import train_test_split\n",
    "from sklearn.linear_model import LinearRegression\n",
    "from sklearn.preprocessing import OneHotEncoder, StandardScaler, PolynomialFeatures\n",
    "from sklearn.pipeline import Pipeline\n",
    "from sklearn.compose import ColumnTransformer\n",
    "from sklearn.metrics import mean_squared_error\n",
    "import lightgbm as lgb"
   ]
  },
  {
   "cell_type": "code",
   "execution_count": 2,
   "metadata": {},
   "outputs": [],
   "source": [
    "# определим константу для random_seed\n",
    "RAND_ST = 777\n",
    "# зададим константу определяющую текущее окружение\n",
    "HUB = False\n",
    "if os.environ['JUPYTERHUB_USER']:\n",
    "    HUB = True\n",
    "# загрузим данные в зависимости от окружения\n",
    "if HUB:\n",
    "    df = pd.read_csv('/datasets/insurance.csv')\n",
    "else:\n",
    "    df = pd.read_csv('./mydatasets/insurance.csv')\n",
    "# выведем информацию \n",
    "display(df.sample(10))\n",
    "display(df.info())"
   ]
  },
  {
   "cell_type": "markdown",
   "metadata": {},
   "source": [
    "Пропущенных значений в данных нет."
   ]
  },
  {
   "cell_type": "code",
   "execution_count": 4,
   "metadata": {},
   "outputs": [
    {
     "name": "stdout",
     "output_type": "stream",
     "text": [
      "Пол: 2 уникальных признака\n",
      "Возраст: 46 уникальных признака\n",
      "Зарплата: 524 уникальных признака\n",
      "Члены семьи: 7 уникальных признака\n",
      "Страховые выплаты: 6 уникальных признака\n"
     ]
    }
   ],
   "source": [
    "# определим сколько уникальных значений имеет каждый признак\n",
    "for col in df.columns:\n",
    "    print(f'{col}: {df[col].nunique()} уникальных признака')"
   ]
  },
  {
   "cell_type": "markdown",
   "metadata": {},
   "source": [
    "Объем данных небольшой: 5000 наблюдений, 5 признаков.\n",
    "Данные имеют следующие признаки:\n",
    "- `'Пол'` | категориальный (бинарный признак) | тип данных - `int`;\n",
    "- `'Возраст'` | числовой (вещественный признак) | тип данных - `float`;\n",
    "- `'Зарплата'` | числовой (вещественный признак) | тип данных - `float`;\n",
    "- `'Члены семьи'` | числовой (дискретный признак) | тип данных - `int`;\n",
    "- **`'Страховые выплаты'` | числовой (дискретный признак) | тип данных - `int`**.\n",
    "\n",
    "Признак **`'Страховые выплаты'`** является **целевым**."
   ]
  },
  {
   "cell_type": "code",
   "execution_count": 5,
   "metadata": {},
   "outputs": [
    {
     "name": "stdout",
     "output_type": "stream",
     "text": [
      "Index(['gender', 'age', 'salary', 'family_members', 'compensation_cnt'], dtype='object')\n"
     ]
    }
   ],
   "source": [
    "# заменим названия признаков согласно общепринятым требованиям REP-8\n",
    "new_columns_name = {'Пол': 'gender',\n",
    "                    'Возраст': 'age',\n",
    "                    'Зарплата': 'salary',\n",
    "                    'Члены семьи': 'family_members',\n",
    "                    'Страховые выплаты': 'compensation_cnt'}\n",
    "df.rename(columns=new_columns_name, inplace=True)\n",
    "print(df.columns)"
   ]
  },
  {
   "cell_type": "code",
   "execution_count": 6,
   "metadata": {},
   "outputs": [
    {
     "data": {
      "text/html": [
       "<div>\n",
       "<style scoped>\n",
       "    .dataframe tbody tr th:only-of-type {\n",
       "        vertical-align: middle;\n",
       "    }\n",
       "\n",
       "    .dataframe tbody tr th {\n",
       "        vertical-align: top;\n",
       "    }\n",
       "\n",
       "    .dataframe thead th {\n",
       "        text-align: right;\n",
       "    }\n",
       "</style>\n",
       "<table border=\"1\" class=\"dataframe\">\n",
       "  <thead>\n",
       "    <tr style=\"text-align: right;\">\n",
       "      <th></th>\n",
       "      <th>gender</th>\n",
       "      <th>age</th>\n",
       "      <th>salary</th>\n",
       "      <th>family_members</th>\n",
       "      <th>compensation_cnt</th>\n",
       "    </tr>\n",
       "  </thead>\n",
       "  <tbody>\n",
       "    <tr>\n",
       "      <th>count</th>\n",
       "      <td>5000.000000</td>\n",
       "      <td>5000.000000</td>\n",
       "      <td>5000.000000</td>\n",
       "      <td>5000.000000</td>\n",
       "      <td>5000.000000</td>\n",
       "    </tr>\n",
       "    <tr>\n",
       "      <th>mean</th>\n",
       "      <td>0.499000</td>\n",
       "      <td>30.952800</td>\n",
       "      <td>39916.360000</td>\n",
       "      <td>1.194200</td>\n",
       "      <td>0.148000</td>\n",
       "    </tr>\n",
       "    <tr>\n",
       "      <th>std</th>\n",
       "      <td>0.500049</td>\n",
       "      <td>8.440807</td>\n",
       "      <td>9900.083569</td>\n",
       "      <td>1.091387</td>\n",
       "      <td>0.463183</td>\n",
       "    </tr>\n",
       "    <tr>\n",
       "      <th>min</th>\n",
       "      <td>0.000000</td>\n",
       "      <td>18.000000</td>\n",
       "      <td>5300.000000</td>\n",
       "      <td>0.000000</td>\n",
       "      <td>0.000000</td>\n",
       "    </tr>\n",
       "    <tr>\n",
       "      <th>25%</th>\n",
       "      <td>0.000000</td>\n",
       "      <td>24.000000</td>\n",
       "      <td>33300.000000</td>\n",
       "      <td>0.000000</td>\n",
       "      <td>0.000000</td>\n",
       "    </tr>\n",
       "    <tr>\n",
       "      <th>50%</th>\n",
       "      <td>0.000000</td>\n",
       "      <td>30.000000</td>\n",
       "      <td>40200.000000</td>\n",
       "      <td>1.000000</td>\n",
       "      <td>0.000000</td>\n",
       "    </tr>\n",
       "    <tr>\n",
       "      <th>75%</th>\n",
       "      <td>1.000000</td>\n",
       "      <td>37.000000</td>\n",
       "      <td>46600.000000</td>\n",
       "      <td>2.000000</td>\n",
       "      <td>0.000000</td>\n",
       "    </tr>\n",
       "    <tr>\n",
       "      <th>max</th>\n",
       "      <td>1.000000</td>\n",
       "      <td>65.000000</td>\n",
       "      <td>79000.000000</td>\n",
       "      <td>6.000000</td>\n",
       "      <td>5.000000</td>\n",
       "    </tr>\n",
       "  </tbody>\n",
       "</table>\n",
       "</div>"
      ],
      "text/plain": [
       "            gender          age        salary  family_members  \\\n",
       "count  5000.000000  5000.000000   5000.000000     5000.000000   \n",
       "mean      0.499000    30.952800  39916.360000        1.194200   \n",
       "std       0.500049     8.440807   9900.083569        1.091387   \n",
       "min       0.000000    18.000000   5300.000000        0.000000   \n",
       "25%       0.000000    24.000000  33300.000000        0.000000   \n",
       "50%       0.000000    30.000000  40200.000000        1.000000   \n",
       "75%       1.000000    37.000000  46600.000000        2.000000   \n",
       "max       1.000000    65.000000  79000.000000        6.000000   \n",
       "\n",
       "       compensation_cnt  \n",
       "count       5000.000000  \n",
       "mean           0.148000  \n",
       "std            0.463183  \n",
       "min            0.000000  \n",
       "25%            0.000000  \n",
       "50%            0.000000  \n",
       "75%            0.000000  \n",
       "max            5.000000  "
      ]
     },
     "execution_count": 6,
     "metadata": {},
     "output_type": "execute_result"
    }
   ],
   "source": [
    "# рассмотрим статстические данные по всем числовым признакам\n",
    "df.describe()"
   ]
  },
  {
   "cell_type": "markdown",
   "metadata": {},
   "source": [
    "Каких-либо аномальных значений в представленных (отрицательных, либо аномально больших) нет."
   ]
  },
  {
   "cell_type": "code",
   "execution_count": 7,
   "metadata": {
    "scrolled": false
   },
   "outputs": [
    {
     "data": {
      "image/png": "[encoded data removed]",
      "text/plain": [
       "<Figure size 864x432 with 1 Axes>"
      ]
     },
     "metadata": {},
     "output_type": "display_data"
    },
    {
     "data": {
      "image/png": "[encoded data removed]",
      "text/plain": [
       "<Figure size 864x432 with 1 Axes>"
      ]
     },
     "metadata": {},
     "output_type": "display_data"
    },
    {
     "data": {
      "image/png": "[encoded data removed]",
      "text/plain": [
       "<Figure size 864x432 with 1 Axes>"
      ]
     },
     "metadata": {},
     "output_type": "display_data"
    },
    {
     "data": {
      "image/png": "[encoded data removed]",
      "text/plain": [
       "<Figure size 864x432 with 1 Axes>"
      ]
     },
     "metadata": {},
     "output_type": "display_data"
    },
    {
     "data": {
      "image/png": "[encoded data removed]",
      "text/plain": [
       "<Figure size 864x432 with 1 Axes>"
      ]
     },
     "metadata": {},
     "output_type": "display_data"
    }
   ],
   "source": [
    "# напишем функции для отрисовки графиков распределения по каждому признаку\n",
    "def countplot(data, column):\n",
    "    sns.set()\n",
    "    _, ax = plt.subplots(figsize=(12, 6))\n",
    "    sns.countplot(data=data, x=column)\n",
    "    ax.set_title(f'Распределение по признаку - {column}')\n",
    "    plt.ylabel('Количество');\n",
    "    \n",
    "\n",
    "def histplot(data, column):\n",
    "    sns.set()\n",
    "    _, ax = plt.subplots(figsize=(12, 6))\n",
    "    sns.histplot(data[column], bins=data[column].nunique()+1)\n",
    "    ax.set_title(f'Распределение по признаку - {column}')\n",
    "    plt.ylabel('Плотность частоты'); \n",
    "    \n",
    "\n",
    "# вызовем функции отрисовки графиков для двух групп признаков\n",
    "for col in ['gender', 'family_members', 'compensation_cnt']:\n",
    "    countplot(df, col)\n",
    "for col in ['age', 'salary']:\n",
    "    histplot(df, col)"
   ]
  },
  {
   "cell_type": "markdown",
   "metadata": {},
   "source": [
    "Из графиков распределения можно сделать следующие выводы:\n",
    "- распределение по признаку `'gender'` является `равномерным` (мужчины и женщины представлены в данных в одинаковом количестве);\n",
    "- клиенты, проживающие (имеющие) с **1** (одним) членом семьи представляют наибольшую группу среди остальных, на втором месте распологается группа клиентов, не имеющих ни одного челна семьи, на третьем - **2** (двух) членов семьи;\n",
    "- среди представленных в данных клиентов большая часть `ни разу не заправшивала страховых выплат`;\n",
    "- признак `'age'` характеризуется близким к распределению Пуассона c плавным спадом вправо. Основная часть клиентов представлена в возрасте от 18 до 42 лет;\n",
    "- признак `'salary'` имеет практически `нормальное распределение` со `средним значением (и медианой)` порядка `40000 у.е.` `Стандартное отклонение` составляет `9900 у.е`."
   ]
  },
  {
   "cell_type": "code",
   "execution_count": 8,
   "metadata": {
    "scrolled": true
   },
   "outputs": [
    {
     "data": {
      "image/png": "[encoded data removed]",
      "text/plain": [
       "<Figure size 982.675x864 with 20 Axes>"
      ]
     },
     "metadata": {},
     "output_type": "display_data"
    }
   ],
   "source": [
    "# построим попарные графики распределения в разрезе целевого признака 'compensation_cnt'\n",
    "sns.pairplot(df, hue='compensation_cnt', height=3.0, diag_kind='hist')\n",
    "plt.suptitle('Графики распределения целевой метрики от попарных значений признаков', y=1.02);"
   ]
  },
  {
   "cell_type": "markdown",
   "metadata": {},
   "source": [
    "Из попарного графика распределения значений признаков в разрезе целевого признака `'Страховые выплаты'` можно выделить следующие особенности:\n",
    "- запросы на страховые выплаты чаще встречаются у клиентов **старше 40 лет** и вероятность запроса страховой выплаты клиентом так же увеличивается с повышением возраста. Можно сказать что пизнак `compensation_cnt` хорошо и **положительно коррелирует** с признаком `'age'`, который в большей степени окажет влияние на предсказание линейной модели;\n",
    "- наибольшее количество запросов на страховые выплаты (от **3 до 5**) у клиентов, которые **старше 50 лет** и имеют **не более 2-х** членов семьи."
   ]
  },
  {
   "cell_type": "markdown",
   "metadata": {},
   "source": [
    "Далее будет построена тепловая карта корреляции числовых признаков, кроме бинарного признака `'gender'`. "
   ]
  },
  {
   "cell_type": "code",
   "execution_count": 9,
   "metadata": {
    "scrolled": false
   },
   "outputs": [
    {
     "data": {
      "image/png": "[encoded data removed]",
      "text/plain": [
       "<Figure size 432x288 with 2 Axes>"
      ]
     },
     "metadata": {},
     "output_type": "display_data"
    }
   ],
   "source": [
    "sns.heatmap(df.drop('gender', axis=1).corr(method='spearman'), annot=True, fmt='.2f', annot_kws={\"fontsize\":16}, cmap= 'coolwarm')\n",
    "plt.suptitle('Матрица корреляции признаков', y=1.02);"
   ]
  },
  {
   "cell_type": "markdown",
   "metadata": {},
   "source": [
    "Как было отмечено ранее между целевым признаком `['compensation_cnt']` ('Страховые выплаты') и `['age']` ('Возраст клиента') наблюдается **выраженная прямая линейная связь**."
   ]
  },
  {
   "cell_type": "markdown",
   "metadata": {},
   "source": [
    "## Умножение матриц"
   ]
  },
  {
   "cell_type": "markdown",
   "metadata": {},
   "source": [
    "Обозначения:\n",
    "\n",
    "- $X$ — матрица признаков (нулевой столбец состоит из единиц)\n",
    "\n",
    "- $y$ — вектор целевого признака\n",
    "\n",
    "- $P$ — обратимая матрица, на которую умножаются признаки\n",
    "\n",
    "- $w$ — вектор весов линейной регрессии (нулевой элемент равен сдвигу)"
   ]
  },
  {
   "cell_type": "markdown",
   "metadata": {},
   "source": [
    "Предсказания:\n",
    "\n",
    "$$\n",
    "a = Xw\n",
    "$$\n",
    "\n",
    "Задача обучения:\n",
    "\n",
    "$$\n",
    "w = \\arg\\min_w MSE(Xw, y)\n",
    "$$\n",
    "\n",
    "Формула обучения:\n",
    "\n",
    "$$\n",
    "w = (X^T X)^{-1} X^T y\n",
    "$$"
   ]
  },
  {
   "cell_type": "markdown",
   "metadata": {},
   "source": [
    "**Ответ:** Если признаки исходных данных умножить на обратимую матрицу, то качество линейной регрессии **не изменится**.\n",
    "\n",
    "\n",
    "**Обоснование:** Для преобразования данных (назовем это преобразование - шифрованием) матрицу значений всех признаков можно умножить на любую обратимую матрицу и получить то же качество линейной модели, которое мы бы получили на нешифрованных данных.\n",
    "\n",
    "Пусть матрица $X_1$ будет результатом умножения исходной матрицы признаков $X$ и любой обратимой квадратной матрицы $P$, размерность которой должна совпадать с размерностью исходной матрицы по количеству столбцов (признаков).\n",
    "\n",
    "$$\n",
    "X_1 = XP\n",
    "$$\n",
    "\n",
    "Таким образом мы получим другой вектор весов $w1$. Подставим в формулу обучения новую матрицу $X1$ и попробуем её преобразовать согласно математических свойств и правил матричного и векторного умножения:\n",
    "\n",
    "$$\n",
    "w_1 = (X_1^T X_1)^{-1} X_1^T y = ((X P)^T (X P))^{-1} (X P)^T y = (P^T (X^T X) P)^{-1} P^T X^T y = \n",
    "$$\n",
    "\n",
    "$$\n",
    "=  P^{-1} (X^T X)^{-1} (P^T)^{-1} P^T X^T y = P^{-1} (X^T X)^{-1} E X^T y = P^{-1} (X^T X)^{-1} X^T y \n",
    "$$\n",
    "\n",
    "В полученную формулу вместо $(X^T X)^{-1} X^T y$ подставим $w$. Получим:\n",
    "\n",
    "$$\n",
    "=  P^{-1} w\n",
    "$$\n",
    "\n",
    "Теперь подставим полученное значение для $w_1$ в формулу для предсказания вектора целевого признака $a_1$:\n",
    "\n",
    "$$\n",
    "a_1 = X_1 w_1 = X P P^{-1} w = X E w = X w = a  \n",
    "$$\n",
    "\n",
    "Таким образом доказано, что умножение исходной матрицы признаков на любую обратимую матрицу не приведет к изменению предсказательной способности линейной модели, так как в итоге новые предсказания после преобразования - $a_1$ (вектор предсказаний целевого признака) будут равны предсказаниям модели, обученной на исходных данных - $a$ (тому же вектору целевого признака)."
   ]
  },
  {
   "cell_type": "markdown",
   "metadata": {},
   "source": [
    "## Алгоритм преобразования"
   ]
  },
  {
   "cell_type": "markdown",
   "metadata": {},
   "source": [
    "Для того, чтобы надежно защитить данные необходимо их не просто преобразовать (зашифровать) любой обратимой матрицей, но и обеспечить надежную передачу так называемого ключа, с помощью которого сотрудник компании мог бы дешифровать такую преобразованную матрицу в исходную для проведения например аналитики. \n",
    "\n",
    "Так как создание любой матрицы можно задать с помощью генератора псевдослучайных чисел (`random_seed`) предлагается на стороне сервера, где хранятся и шифруются данные выбрать определенный `random_seed` с помощью которого будет создана `псевдослучайная` обратимая матрица для преобразования исходных данных. \n",
    "\n",
    "Далее сервер шифрует само значение `random_seed` и передает вместе с зашифрованными данными на компьютер сотрудника. Так же сервер должен передать ключ для дешифровки `random_seed`, после чего сотрудник может преобразовать полученную зашифрованную матрицу данных путем умножения её на обратную `псевдослучайную` матрицу, которую он может создать, зная нужный `random_seed`. Для шифровки и передачи ключей предлагается использовать **алгоритм Диффи-Хеллмана**.\n",
    "\n",
    "**Алгоритм**\n",
    "1. С помощью определенного `random_seed` создать обратимую матрицу;\n",
    "2. Зашифровать `random_seed` с помощью алгоритма Диффи-Хеллмана;\n",
    "3. Зашифровать исходную матрицу данных с помощью созданной обратимой матрицы на шаге 1;\n",
    "4. Далее сервер передает все зашифрованные данные клиенту, в том числе публичные ключи для дешифровки значения `random_seed`;\n",
    "5. \n",
    "    a) Клиент может использовать полученную зашифрованную матрицу и обучить с помощью неё линейную модель и получить те же предсказания, которые можно было бы получить используя исходные данные; \n",
    "\n",
    "    б) С помощью переданных данных от сервера востановить значение `random_seed` и с помощью вновь созданой обратимой матрицы преобразовать данные в исходный вид для проведения какой-либо аналитики или отчетности."
   ]
  },
  {
   "cell_type": "markdown",
   "metadata": {},
   "source": [
    "Так как в рамках текущего ноутбука невозможно смоделировать передачу данных от сервера предлагается создать класс `DHEProtocol`, с помощью которого в свою очередь будут созданы объекты `my_server` и `client`. Данные объекты будут использованы для имитации шифрования и дешифрования значения `random_seed`."
   ]
  },
  {
   "cell_type": "code",
   "execution_count": 10,
   "metadata": {},
   "outputs": [],
   "source": [
    "# создадим класс для реализации алгоритма шифрования Диффи-Хелмана\n",
    "class DHEProtocol():\n",
    "    \n",
    "    # при создании объекта будут инициализированы атрибуты ключей\n",
    "    def __init__(self, public_key1, public_key2, private_key):\n",
    "        self.public_key1 = public_key1\n",
    "        self.public_key2 = public_key2\n",
    "        self.private_key = private_key\n",
    "        self.full_key = None\n",
    "    \n",
    "    # создаем метод объекта для генерации чатичного ключа\n",
    "    def generate_partial_key(self):\n",
    "        partial_key = self.public_key1**self.private_key\n",
    "        partial_key = partial_key%self.public_key2\n",
    "        return partial_key\n",
    "    \n",
    "    # создаем метод объекта для генерации полного ключа\n",
    "    def generate_full_key(self, partial_key):\n",
    "        full_key = partial_key**self.private_key\n",
    "        full_key = full_key%self.public_key2\n",
    "        self.full_key = full_key\n",
    "        return full_key\n",
    "\n",
    "    # создаем метод объекта для шифрования random_seed\n",
    "    def encrypt_message(self, message):\n",
    "        encrypted_message = \"\"\n",
    "        key = self.full_key\n",
    "        return message + key\n",
    "    \n",
    "    # создаем метод объекта для дешифрования random_seed\n",
    "    def decrypt_message(self, encrypted_message):\n",
    "        decrypted_message = \"\"\n",
    "        key = self.full_key\n",
    "        return encrypted_message - key"
   ]
  },
  {
   "cell_type": "code",
   "execution_count": 11,
   "metadata": {},
   "outputs": [
    {
     "name": "stdout",
     "output_type": "stream",
     "text": [
      "5337420\n"
     ]
    }
   ],
   "source": [
    "# задаем random_seed для генерации шифрующей матрицы\n",
    "simple_mul_kye = 6007 * 797\n",
    "RANDOM = simple_mul_kye\n",
    "\n",
    "# создаем публичные и приватные ключи\n",
    "server_public = 162535\n",
    "server_private = 988464\n",
    "client_public = 877264\n",
    "client_private = 328763\n",
    "\n",
    "# создаем объекты сервер и клиент\n",
    "my_server = DHEProtocol(server_public, client_public, server_private)\n",
    "client = DHEProtocol(server_public, client_public, client_private)\n",
    "\n",
    "# генерируем частичные ключи\n",
    "server_partial = my_server.generate_partial_key()\n",
    "client_partial = client.generate_partial_key()\n",
    "\n",
    "# генерируем полные ключи\n",
    "server_full = my_server.generate_full_key(client_partial)\n",
    "client_full = client.generate_full_key(server_partial)\n",
    "\n",
    "# создаем зашифрованное сообщение, содержащее значение random_seed\n",
    "# и проверим его значение\n",
    "crypt_key = my_server.encrypt_message(RANDOM)\n",
    "print(crypt_key)"
   ]
  },
  {
   "cell_type": "code",
   "execution_count": 12,
   "metadata": {},
   "outputs": [],
   "source": [
    "# напишем функцию создающую матрицу для дальнейшего преобразования\n",
    "# (шифрования) данных. Перед возвращением матрица обязательно\n",
    "# проверяется на обратимость\n",
    "def get_protect_feat_matrix(RS, size=1):\n",
    "    \n",
    "    # для отладки работы функции создана вырожденная матрица a\n",
    "    # a = np.array([[1, 0, 2],\n",
    "    #               [3, -1, 0],\n",
    "    #               [4, -1, 2]])\n",
    "    \n",
    "    # задаем random_seed\n",
    "    np.random.seed(RS) \n",
    "    # создадим матрицу нужного размера\n",
    "    new_matrix = np.random.randn(size, size)\n",
    "    # инвертируем полученную матрицу\n",
    "    # проверим матрицу на обратимость\n",
    "    # если матрица имеет обратную возвращаем её, если нет то возвращаем сообщение об ошибке\n",
    "    try:\n",
    "        new_matrix_inv = np.linalg.inv(new_matrix)\n",
    "    except np.linalg.LinAlgError as err:\n",
    "        if 'Singular matrix' in str(err):\n",
    "            print('Матрица не имеет обратной! Задайте другие параметры для генерации!')\n",
    "    else:\n",
    "        return new_matrix"
   ]
  },
  {
   "cell_type": "markdown",
   "metadata": {},
   "source": [
    "## Проверка алгоритма\n",
    "\n",
    "Так как результатом данного проекта является сравнение метрик (примем две метрики: `R2` и `MSE`) двух линейных моделей, обученных на обычных и зашифрованных данных, то использование `pipeline` с преобразованием категориальных признаков будет неприменимо, так как после шифрования обучающих признаков их значения примут другие значения в широком диапазоне чисел. В таком случае будет разумнее оставить только масштабирование признаков с помощью `StandardScaler`."
   ]
  },
  {
   "cell_type": "markdown",
   "metadata": {},
   "source": [
    "### Подготовка и разбивка данных для обчуения моделей"
   ]
  },
  {
   "cell_type": "code",
   "execution_count": 13,
   "metadata": {},
   "outputs": [
    {
     "data": {
      "text/html": [
       "<div>\n",
       "<style scoped>\n",
       "    .dataframe tbody tr th:only-of-type {\n",
       "        vertical-align: middle;\n",
       "    }\n",
       "\n",
       "    .dataframe tbody tr th {\n",
       "        vertical-align: top;\n",
       "    }\n",
       "\n",
       "    .dataframe thead th {\n",
       "        text-align: right;\n",
       "    }\n",
       "</style>\n",
       "<table border=\"1\" class=\"dataframe\">\n",
       "  <thead>\n",
       "    <tr style=\"text-align: right;\">\n",
       "      <th></th>\n",
       "      <th>gender</th>\n",
       "      <th>age</th>\n",
       "      <th>salary</th>\n",
       "      <th>family_members</th>\n",
       "    </tr>\n",
       "  </thead>\n",
       "  <tbody>\n",
       "    <tr>\n",
       "      <th>0</th>\n",
       "      <td>-31658.535541</td>\n",
       "      <td>30315.709687</td>\n",
       "      <td>-52702.025413</td>\n",
       "      <td>-1919.842907</td>\n",
       "    </tr>\n",
       "    <tr>\n",
       "      <th>1</th>\n",
       "      <td>-24283.925162</td>\n",
       "      <td>23211.969418</td>\n",
       "      <td>-40369.670349</td>\n",
       "      <td>-1470.658395</td>\n",
       "    </tr>\n",
       "    <tr>\n",
       "      <th>2</th>\n",
       "      <td>-13427.030455</td>\n",
       "      <td>12823.715543</td>\n",
       "      <td>-22307.293006</td>\n",
       "      <td>-813.248806</td>\n",
       "    </tr>\n",
       "    <tr>\n",
       "      <th>3</th>\n",
       "      <td>-26590.608736</td>\n",
       "      <td>25500.648844</td>\n",
       "      <td>-44315.703892</td>\n",
       "      <td>-1613.325696</td>\n",
       "    </tr>\n",
       "    <tr>\n",
       "      <th>4</th>\n",
       "      <td>-16671.145568</td>\n",
       "      <td>15946.069609</td>\n",
       "      <td>-27728.635995</td>\n",
       "      <td>-1010.540336</td>\n",
       "    </tr>\n",
       "    <tr>\n",
       "      <th>5</th>\n",
       "      <td>-26187.220836</td>\n",
       "      <td>25052.201357</td>\n",
       "      <td>-43560.753461</td>\n",
       "      <td>-1585.591959</td>\n",
       "    </tr>\n",
       "    <tr>\n",
       "      <th>6</th>\n",
       "      <td>-25351.692691</td>\n",
       "      <td>24260.415142</td>\n",
       "      <td>-42180.908753</td>\n",
       "      <td>-1535.277399</td>\n",
       "    </tr>\n",
       "    <tr>\n",
       "      <th>7</th>\n",
       "      <td>-24624.085845</td>\n",
       "      <td>23602.557257</td>\n",
       "      <td>-41020.384997</td>\n",
       "      <td>-1490.803000</td>\n",
       "    </tr>\n",
       "    <tr>\n",
       "      <th>8</th>\n",
       "      <td>-31712.380538</td>\n",
       "      <td>30381.582357</td>\n",
       "      <td>-52810.774395</td>\n",
       "      <td>-1923.784066</td>\n",
       "    </tr>\n",
       "    <tr>\n",
       "      <th>9</th>\n",
       "      <td>-32977.862298</td>\n",
       "      <td>31609.215242</td>\n",
       "      <td>-54938.599865</td>\n",
       "      <td>-2001.326543</td>\n",
       "    </tr>\n",
       "  </tbody>\n",
       "</table>\n",
       "</div>"
      ],
      "text/plain": [
       "         gender           age        salary  family_members\n",
       "0 -31658.535541  30315.709687 -52702.025413    -1919.842907\n",
       "1 -24283.925162  23211.969418 -40369.670349    -1470.658395\n",
       "2 -13427.030455  12823.715543 -22307.293006     -813.248806\n",
       "3 -26590.608736  25500.648844 -44315.703892    -1613.325696\n",
       "4 -16671.145568  15946.069609 -27728.635995    -1010.540336\n",
       "5 -26187.220836  25052.201357 -43560.753461    -1585.591959\n",
       "6 -25351.692691  24260.415142 -42180.908753    -1535.277399\n",
       "7 -24624.085845  23602.557257 -41020.384997    -1490.803000\n",
       "8 -31712.380538  30381.582357 -52810.774395    -1923.784066\n",
       "9 -32977.862298  31609.215242 -54938.599865    -2001.326543"
      ]
     },
     "execution_count": 13,
     "metadata": {},
     "output_type": "execute_result"
    }
   ],
   "source": [
    "# создадим список числовых признаков\n",
    "num_cols = ['age', 'salary', 'family_members', 'gender']\n",
    "\n",
    "# разделим данные на признаки и таргет \n",
    "X = df.drop('compensation_cnt', axis=1).copy()\n",
    "y = df['compensation_cnt'].copy()\n",
    "\n",
    "# согласно разработанного алгоритма шифрования получим зашифрованные данные\n",
    "# для начала дешифруем random_seed \n",
    "rand_s = client.decrypt_message(crypt_key)\n",
    "# затем создадим обратимую матрицу используя полученный и дешифрованный random_seed\n",
    "X_crypt = X @ get_protect_feat_matrix(rand_s, size=X.shape[1])\n",
    "X_crypt.columns = X.columns\n",
    "X_crypt.head(10)"
   ]
  },
  {
   "cell_type": "markdown",
   "metadata": {},
   "source": [
    "Следуюющий этап - подготовка трансформеров для обучения модели с использованием Pipeline."
   ]
  },
  {
   "cell_type": "code",
   "execution_count": 14,
   "metadata": {},
   "outputs": [],
   "source": [
    "# препроцессинг (масштабирование) числовых признаков\n",
    "scale_transformer = StandardScaler()\n",
    "\n",
    "# общий препроцессинг числовых и категориальных признаков:\n",
    "preprocessing = ColumnTransformer(\n",
    "    transformers=[\n",
    "        ('num', scale_transformer, num_cols)\n",
    "    ])"
   ]
  },
  {
   "cell_type": "markdown",
   "metadata": {},
   "source": [
    "Раздедим данные на обучающую и тестовую выборки в соотношении 4:1 (80% и 20%)."
   ]
  },
  {
   "cell_type": "code",
   "execution_count": 15,
   "metadata": {},
   "outputs": [
    {
     "name": "stdout",
     "output_type": "stream",
     "text": [
      "(4000, 4) (1000, 4) (4000,) (1000,)\n",
      "(4000, 4) (1000, 4)\n"
     ]
    }
   ],
   "source": [
    "# разбивка незашифрованных данных\n",
    "X_train, X_test, y_train, y_test = train_test_split(X, y, test_size=.2, random_state=RAND_ST) \n",
    "# разбивка зашифрованных данных\n",
    "X_crypt_train, X_crypt_test = train_test_split(X_crypt, test_size=.2, random_state=RAND_ST)\n",
    "print(X_train.shape, X_test.shape, y_train.shape, y_test.shape)\n",
    "print(X_crypt_train.shape, X_crypt_test.shape)"
   ]
  },
  {
   "cell_type": "markdown",
   "metadata": {},
   "source": [
    "### Иследование качества модели на нешифрованных данных"
   ]
  },
  {
   "cell_type": "code",
   "execution_count": 16,
   "metadata": {
    "scrolled": true
   },
   "outputs": [
    {
     "name": "stdout",
     "output_type": "stream",
     "text": [
      "Значение метрики \"R2\" на обучающей выборке:0.42094\n",
      "Значение метрики \"MSE\" на обучающей выборке:0.11768\n",
      "Значение метрики \"R2\" на тестовой выборке:0.43445\n",
      "Значение метрики \"MSE\" на тестовой выборке:0.14654\n"
     ]
    }
   ],
   "source": [
    "# обучим модель на нешифрованных данных\n",
    "pipe_lr = Pipeline(steps=[('preprocessor', preprocessing),\n",
    "                          ('LRM', LinearRegression())])\n",
    "pipe_lr.fit(X_train, y_train)\n",
    "# получим предсказания линейной модели на обучающей и тестовой выборке\n",
    "train_predict = pipe_lr.predict(X_train)\n",
    "test_predict = pipe_lr.predict(X_test)\n",
    "\n",
    "# выведем метрику R2 на обучащей и тествоой выборке\n",
    "print(f'Значение метрики \"R2\" на обучающей выборке:{pipe_lr.score(X_train, y_train):.5f}')\n",
    "print(f'Значение метрики \"MSE\" на обучающей выборке:{mean_squared_error(y_train, train_predict):.5f}')\n",
    "print(f'Значение метрики \"R2\" на тестовой выборке:{pipe_lr.score(X_test, y_test):.5f}')\n",
    "print(f'Значение метрики \"MSE\" на тестовой выборке:{mean_squared_error(y_test, test_predict):.5f}')"
   ]
  },
  {
   "cell_type": "markdown",
   "metadata": {},
   "source": [
    "### Иследование качества модели на шифрованных данных"
   ]
  },
  {
   "cell_type": "code",
   "execution_count": 17,
   "metadata": {},
   "outputs": [
    {
     "name": "stdout",
     "output_type": "stream",
     "text": [
      "Значение метрики \"R2\" на обучающей выборке:0.42094\n",
      "Значение метрики \"MSE\" на обучающей выборке:0.11768\n",
      "Значение метрики \"R2\" на тестовой выборке:0.43445\n",
      "Значение метрики \"MSE\" на тестовой выборке:0.14654\n"
     ]
    }
   ],
   "source": [
    "# обучим модель на нешифрованных данных\n",
    "crypt_pipe_lr = Pipeline(steps=[('preprocessor', preprocessing),\n",
    "                          ('LRM_CR', LinearRegression())])\n",
    "crypt_pipe_lr.fit(X_crypt_train, y_train)\n",
    "# получим предсказания линейной модели на обучающей и тестовой выборке\n",
    "cr_train_predict = crypt_pipe_lr.predict(X_crypt_train)\n",
    "cr_test_predict = crypt_pipe_lr.predict(X_crypt_test)\n",
    "\n",
    "# выведем метрику R2 на обучащей и тествоой выборке\n",
    "print(f'Значение метрики \"R2\" на обучающей выборке:{crypt_pipe_lr.score(X_crypt_train, y_train):.5f}')\n",
    "print(f'Значение метрики \"MSE\" на обучающей выборке:{mean_squared_error(y_train, cr_train_predict):.5f}')\n",
    "print(f'Значение метрики \"R2\" на тестовой выборке:{crypt_pipe_lr.score(X_crypt_test, y_test):.5f}')\n",
    "print(f'Значение метрики \"MSE\" на тестовой выборке:{mean_squared_error(y_test, cr_test_predict):.5f}')\n",
    "# print(y_test.values[:20])\n",
    "# print(np.round(cr_test_predict).astype(int)[:20])"
   ]
  },
  {
   "cell_type": "markdown",
   "metadata": {},
   "source": [
    "Как и было доказано на шаге 2: после преобразования исходных данных с помощью обратимой матрицы качество линейной модели **не изменяется**. Это можно увидить сравнив метрики качества `R2` и `MSE`. В обоих случаях они равны. "
   ]
  },
  {
   "cell_type": "markdown",
   "metadata": {},
   "source": [
    "## Улучшение предсказательной способности модели регрессии"
   ]
  },
  {
   "cell_type": "markdown",
   "metadata": {},
   "source": [
    "В связи с низкой предсказательной способностью стандартной линейной модели (коэффициент детерминации $R^2$ на обучающей и тестовой выборке составлет всего лишь **0.42** и **0.43** соответственно, что скорее всего связано с нелинейной зависимостью целевого признака) предлагается изменить базисную функцию линейной регресии на полиномиальную. \n",
    "\n",
    "В рамках текущего проекта так же будет проведено сравнение предсказательной способности модели регрессии с полиномиальной функцией на `шифрованных` и `нешифрованных данных`."
   ]
  },
  {
   "cell_type": "code",
   "execution_count": 39,
   "metadata": {},
   "outputs": [
    {
     "name": "stdout",
     "output_type": "stream",
     "text": [
      "Значение метрики \"R2\" на обучающей выборке:0.90342\n",
      "Значение метрики \"MSE\" на обучающей выборке:0.01963\n",
      "Значение метрики \"R2\" на тестовой выборке:0.91178\n",
      "Значение метрики \"MSE\" на тестовой выборке:0.02286\n"
     ]
    }
   ],
   "source": [
    "# обучим модель на нешифрованных данных\n",
    "pipe_lr_polinom = Pipeline(steps=[('preprocessor', preprocessing),\n",
    "                          ('polinom', PolynomialFeatures(4)),\n",
    "                          ('LRM_POLINOM', LinearRegression())])\n",
    "pipe_lr_polinom.fit(X_train, y_train)\n",
    "# получим предсказания линейной модели на обучающей и тестовой выборке\n",
    "pol_train_predict = pipe_lr_polinom.predict(X_train)\n",
    "pol_test_predict = pipe_lr_polinom.predict(X_test)\n",
    "\n",
    "# выведем метрику R2 на обучащей и тествоой выборке\n",
    "print(f'Значение метрики \"R2\" на обучающей выборке:{pipe_lr_polinom.score(X_train, y_train):.5f}')\n",
    "print(f'Значение метрики \"MSE\" на обучающей выборке:{mean_squared_error(y_train, pol_train_predict):.5f}')\n",
    "print(f'Значение метрики \"R2\" на тестовой выборке:{pipe_lr_polinom.score(X_test, y_test):.5f}')\n",
    "print(f'Значение метрики \"MSE\" на тестовой выборке:{mean_squared_error(y_test, pol_test_predict):.5f}')\n",
    "# print(y_test.values[:20])\n",
    "# print(np.round(pol_test_predict).astype(int)[:20])"
   ]
  },
  {
   "cell_type": "code",
   "execution_count": 38,
   "metadata": {
    "scrolled": true
   },
   "outputs": [
    {
     "name": "stdout",
     "output_type": "stream",
     "text": [
      "Значение метрики \"R2\" на обучающей выборке:0.90349\n",
      "Значение метрики \"MSE\" на обучающей выборке:0.01961\n",
      "Значение метрики \"R2\" на тестовой выборке:0.91247\n",
      "Значение метрики \"MSE\" на тестовой выборке:0.02268\n"
     ]
    }
   ],
   "source": [
    "# обучим модель на шифрованных данных\n",
    "crypt_pipe_lr_polinom = Pipeline(steps=[('preprocessor', preprocessing),\n",
    "                          ('polinom', PolynomialFeatures(4)),\n",
    "                          ('LRM_CR_POLINOM', LinearRegression())])\n",
    "crypt_pipe_lr_polinom.fit(X_crypt_train, y_train)\n",
    "# получим предсказания линейной модели на обучающей и тестовой выборке\n",
    "cr_pol_train_predict = crypt_pipe_lr_polinom.predict(X_crypt_train)\n",
    "cr_pol_test_predict = crypt_pipe_lr_polinom.predict(X_crypt_test)\n",
    "\n",
    "# выведем метрику R2 на обучащей и тествоой выборке\n",
    "print(f'Значение метрики \"R2\" на обучающей выборке:{crypt_pipe_lr_polinom.score(X_crypt_train, y_train):.5f}')\n",
    "print(f'Значение метрики \"MSE\" на обучающей выборке:{mean_squared_error(y_train, cr_pol_train_predict):.5f}')\n",
    "print(f'Значение метрики \"R2\" на тестовой выборке:{crypt_pipe_lr_polinom.score(X_crypt_test, y_test):.5f}')\n",
    "print(f'Значение метрики \"MSE\" на тестовой выборке:{mean_squared_error(y_test, cr_pol_test_predict):.5f}')\n",
    "# print(y_test.values[:20])\n",
    "# print(np.round(cr_pol_test_predict).astype(int)[:20])"
   ]
  },
  {
   "cell_type": "code",
   "execution_count": 34,
   "metadata": {
    "scrolled": true
   },
   "outputs": [
    {
     "data": {
      "text/plain": [
       "{'degree': 6,\n",
       " 'interaction_only': False,\n",
       " 'include_bias': True,\n",
       " 'order': 'C',\n",
       " 'n_features_in_': 4,\n",
       " 'n_input_features_': 4,\n",
       " 'n_output_features_': 210}"
      ]
     },
     "execution_count": 34,
     "metadata": {},
     "output_type": "execute_result"
    }
   ],
   "source": []
  },
  {
   "cell_type": "markdown",
   "metadata": {},
   "source": [
    "## Выводы\n",
    "\n",
    "**Основная задача проекта**: для страховой компании \"Хоть потоп\" необходимо разработать и внедрить алгоритм защиты персональных данных, позволяющий обучить линейную модель на таких данных для предсказания целевой метрики `количество страховых выплат` без потери качества предсказания.\n",
    "\n",
    "По итогу работ было выполнено следующее:\n",
    "\n",
    "1. Данные загружены и исследованы (данные проверены на наличие пропусков, аномальных значений, построены и изучены графики распределения значений признаков, а так же тепловая карта корреляции Спирмена). Обнаружена сильная прямая линейная связь между целевым признаком (`'страховые выплаты'`) и возрастом клиентов (`'возраст'`). \n",
    "2. Разработан алгоритм преобразования данных. Из особенностей алгоритма преобразования стоит выделить основные моменты:\n",
    "- данные преобразуются с помощью случайной обратимой матрицы, созданной с помощью определенного значения генератора псевдослучайных чисел (параметра `random_seed`);\n",
    "- для дополнительной защиты и безопасной передачи `random_seed`, данный параметр был зашифрован алгоритмом Диффи-Хелмана. С помощью дешифрованного значения сотрудник компании имеет возможность восстановить исходные данные для их анализа или составления отчетности.\n",
    "3. Математически и практически на примере доказано, что качество линейной регрессии не меняется с использованием разработнного алгоритма шифрования данных. Метрики качества модели `'R2'` и `'MSE'` после преобразования данных **не изменились**."
   ]
  }
 ],
 "metadata": {
  "ExecuteTimeLog": [
   {
    "duration": 52,
    "start_time": "2023-03-31T11:22:31.039Z"
   },
   {
    "duration": 3,
    "start_time": "2023-03-31T11:23:04.857Z"
   },
   {
    "duration": 1840,
    "start_time": "2023-03-31T11:23:12.444Z"
   },
   {
    "duration": 292,
    "start_time": "2023-03-31T11:23:18.298Z"
   },
   {
    "duration": 50,
    "start_time": "2023-03-31T11:23:32.975Z"
   },
   {
    "duration": 62,
    "start_time": "2023-03-31T11:23:37.026Z"
   },
   {
    "duration": 128,
    "start_time": "2023-03-31T11:23:45.386Z"
   },
   {
    "duration": 40,
    "start_time": "2023-03-31T11:24:27.276Z"
   },
   {
    "duration": 45,
    "start_time": "2023-03-31T11:24:44.814Z"
   },
   {
    "duration": 47,
    "start_time": "2023-03-31T11:24:56.996Z"
   },
   {
    "duration": 57,
    "start_time": "2023-03-31T11:34:07.155Z"
   },
   {
    "duration": 24,
    "start_time": "2023-03-31T11:34:07.824Z"
   },
   {
    "duration": 55,
    "start_time": "2023-03-31T11:34:08.187Z"
   },
   {
    "duration": 26,
    "start_time": "2023-03-31T11:34:08.477Z"
   },
   {
    "duration": 22,
    "start_time": "2023-03-31T11:34:08.620Z"
   },
   {
    "duration": 21,
    "start_time": "2023-03-31T11:34:08.786Z"
   },
   {
    "duration": 22,
    "start_time": "2023-03-31T11:34:08.929Z"
   },
   {
    "duration": 24,
    "start_time": "2023-03-31T11:34:09.085Z"
   },
   {
    "duration": 47,
    "start_time": "2023-03-31T11:34:09.237Z"
   },
   {
    "duration": 23,
    "start_time": "2023-03-31T11:34:09.374Z"
   },
   {
    "duration": 23,
    "start_time": "2023-03-31T11:34:09.536Z"
   },
   {
    "duration": 23,
    "start_time": "2023-03-31T11:34:09.682Z"
   },
   {
    "duration": 22,
    "start_time": "2023-03-31T11:34:09.836Z"
   },
   {
    "duration": 21,
    "start_time": "2023-03-31T11:34:09.975Z"
   },
   {
    "duration": 22,
    "start_time": "2023-03-31T11:34:10.125Z"
   },
   {
    "duration": 44,
    "start_time": "2023-03-31T11:34:10.276Z"
   },
   {
    "duration": 24,
    "start_time": "2023-03-31T11:34:10.424Z"
   },
   {
    "duration": 23,
    "start_time": "2023-03-31T11:34:10.575Z"
   },
   {
    "duration": 35,
    "start_time": "2023-03-31T11:34:10.738Z"
   },
   {
    "duration": 37,
    "start_time": "2023-03-31T11:34:10.887Z"
   },
   {
    "duration": 23,
    "start_time": "2023-03-31T11:34:11.051Z"
   },
   {
    "duration": 30,
    "start_time": "2023-03-31T11:34:11.207Z"
   },
   {
    "duration": 47,
    "start_time": "2023-03-31T11:34:11.360Z"
   },
   {
    "duration": 28,
    "start_time": "2023-03-31T11:34:11.521Z"
   },
   {
    "duration": 31,
    "start_time": "2023-03-31T11:34:11.676Z"
   },
   {
    "duration": 27,
    "start_time": "2023-03-31T11:34:11.842Z"
   },
   {
    "duration": 28,
    "start_time": "2023-03-31T11:34:12.001Z"
   },
   {
    "duration": 28,
    "start_time": "2023-03-31T11:34:12.173Z"
   },
   {
    "duration": 27,
    "start_time": "2023-03-31T11:34:12.340Z"
   },
   {
    "duration": 46,
    "start_time": "2023-03-31T11:34:12.501Z"
   },
   {
    "duration": 22,
    "start_time": "2023-03-31T11:34:12.660Z"
   },
   {
    "duration": 24,
    "start_time": "2023-03-31T11:34:12.816Z"
   },
   {
    "duration": 25,
    "start_time": "2023-03-31T11:34:12.975Z"
   },
   {
    "duration": 22,
    "start_time": "2023-03-31T11:34:13.151Z"
   },
   {
    "duration": 24,
    "start_time": "2023-03-31T11:34:13.298Z"
   },
   {
    "duration": 25,
    "start_time": "2023-03-31T11:34:13.453Z"
   },
   {
    "duration": 45,
    "start_time": "2023-03-31T11:34:13.611Z"
   },
   {
    "duration": 22,
    "start_time": "2023-03-31T11:34:13.773Z"
   },
   {
    "duration": 20,
    "start_time": "2023-03-31T11:34:13.937Z"
   },
   {
    "duration": 21,
    "start_time": "2023-03-31T11:34:14.089Z"
   },
   {
    "duration": 22,
    "start_time": "2023-03-31T11:34:14.249Z"
   },
   {
    "duration": 21,
    "start_time": "2023-03-31T11:34:14.404Z"
   },
   {
    "duration": 25,
    "start_time": "2023-03-31T11:34:14.559Z"
   },
   {
    "duration": 49,
    "start_time": "2023-03-31T11:34:14.705Z"
   },
   {
    "duration": 48,
    "start_time": "2023-03-31T11:34:35.751Z"
   },
   {
    "duration": 46,
    "start_time": "2023-03-31T11:34:42.959Z"
   },
   {
    "duration": 8,
    "start_time": "2023-03-31T11:36:35.425Z"
   },
   {
    "duration": 5,
    "start_time": "2023-03-31T11:36:57.400Z"
   },
   {
    "duration": 8,
    "start_time": "2023-03-31T11:37:11.813Z"
   },
   {
    "duration": 7,
    "start_time": "2023-03-31T11:37:32.607Z"
   },
   {
    "duration": 7,
    "start_time": "2023-03-31T11:37:46.921Z"
   },
   {
    "duration": 4601,
    "start_time": "2023-03-31T11:53:15.226Z"
   },
   {
    "duration": 6691,
    "start_time": "2023-03-31T11:54:06.456Z"
   },
   {
    "duration": 3506,
    "start_time": "2023-03-31T11:55:29.029Z"
   },
   {
    "duration": 7610,
    "start_time": "2023-03-31T11:55:41.036Z"
   },
   {
    "duration": 13,
    "start_time": "2023-03-31T12:16:26.184Z"
   },
   {
    "duration": 13,
    "start_time": "2023-03-31T12:16:38.594Z"
   },
   {
    "duration": 5,
    "start_time": "2023-03-31T12:16:52.768Z"
   },
   {
    "duration": 8,
    "start_time": "2023-03-31T12:17:25.658Z"
   },
   {
    "duration": 7,
    "start_time": "2023-03-31T12:18:46.604Z"
   },
   {
    "duration": 6,
    "start_time": "2023-03-31T12:19:12.672Z"
   },
   {
    "duration": 8192,
    "start_time": "2023-03-31T12:19:27.562Z"
   },
   {
    "duration": 3562,
    "start_time": "2023-03-31T12:21:14.153Z"
   },
   {
    "duration": 8517,
    "start_time": "2023-03-31T12:21:28.931Z"
   },
   {
    "duration": 1826,
    "start_time": "2023-03-31T12:23:43.974Z"
   },
   {
    "duration": 3,
    "start_time": "2023-03-31T12:23:45.803Z"
   },
   {
    "duration": 68,
    "start_time": "2023-03-31T12:23:45.808Z"
   },
   {
    "duration": 8,
    "start_time": "2023-03-31T12:23:45.879Z"
   },
   {
    "duration": 19,
    "start_time": "2023-03-31T12:23:45.889Z"
   },
   {
    "duration": 7764,
    "start_time": "2023-03-31T12:23:45.911Z"
   },
   {
    "duration": 4444,
    "start_time": "2023-03-31T12:24:55.928Z"
   },
   {
    "duration": 8,
    "start_time": "2023-03-31T12:27:14.254Z"
   },
   {
    "duration": 1474,
    "start_time": "2023-03-31T12:28:48.500Z"
   },
   {
    "duration": 3,
    "start_time": "2023-03-31T12:28:49.976Z"
   },
   {
    "duration": 66,
    "start_time": "2023-03-31T12:28:49.980Z"
   },
   {
    "duration": 9,
    "start_time": "2023-03-31T12:28:50.049Z"
   },
   {
    "duration": 43,
    "start_time": "2023-03-31T12:28:50.060Z"
   },
   {
    "duration": 4248,
    "start_time": "2023-03-31T12:28:50.105Z"
   },
   {
    "duration": 49,
    "start_time": "2023-03-31T12:39:28.341Z"
   },
   {
    "duration": 52,
    "start_time": "2023-03-31T12:39:31.187Z"
   },
   {
    "duration": 46,
    "start_time": "2023-03-31T12:39:33.730Z"
   },
   {
    "duration": 55,
    "start_time": "2023-03-31T12:39:36.182Z"
   },
   {
    "duration": 49,
    "start_time": "2023-03-31T12:39:37.201Z"
   },
   {
    "duration": 48,
    "start_time": "2023-03-31T12:39:38.437Z"
   },
   {
    "duration": 53,
    "start_time": "2023-03-31T12:39:40.208Z"
   },
   {
    "duration": 49,
    "start_time": "2023-03-31T12:39:42.686Z"
   },
   {
    "duration": 50,
    "start_time": "2023-03-31T12:39:44.507Z"
   },
   {
    "duration": 27,
    "start_time": "2023-03-31T12:41:03.827Z"
   },
   {
    "duration": 146,
    "start_time": "2023-03-31T12:43:16.753Z"
   },
   {
    "duration": 16,
    "start_time": "2023-03-31T12:44:42.356Z"
   },
   {
    "duration": 1863,
    "start_time": "2023-03-31T12:44:46.014Z"
   },
   {
    "duration": 139,
    "start_time": "2023-03-31T12:45:01.173Z"
   },
   {
    "duration": 12,
    "start_time": "2023-03-31T12:45:08.571Z"
   },
   {
    "duration": 0,
    "start_time": "2023-03-31T12:48:10.958Z"
   },
   {
    "duration": 1649,
    "start_time": "2023-03-31T12:48:20.504Z"
   },
   {
    "duration": 3,
    "start_time": "2023-03-31T12:48:22.156Z"
   },
   {
    "duration": 70,
    "start_time": "2023-03-31T12:48:22.161Z"
   },
   {
    "duration": 8,
    "start_time": "2023-03-31T12:48:22.232Z"
   },
   {
    "duration": 25,
    "start_time": "2023-03-31T12:48:22.243Z"
   },
   {
    "duration": 48,
    "start_time": "2023-03-31T12:48:22.271Z"
   },
   {
    "duration": 128,
    "start_time": "2023-03-31T12:48:22.322Z"
   },
   {
    "duration": 243,
    "start_time": "2023-03-31T12:49:01.198Z"
   },
   {
    "duration": 0,
    "start_time": "2023-03-31T12:51:01.594Z"
   },
   {
    "duration": 1609,
    "start_time": "2023-03-31T12:51:09.525Z"
   },
   {
    "duration": 3,
    "start_time": "2023-03-31T12:51:11.139Z"
   },
   {
    "duration": 73,
    "start_time": "2023-03-31T12:51:11.144Z"
   },
   {
    "duration": 8,
    "start_time": "2023-03-31T12:51:11.220Z"
   },
   {
    "duration": 16,
    "start_time": "2023-03-31T12:51:11.231Z"
   },
   {
    "duration": 37,
    "start_time": "2023-03-31T12:51:11.249Z"
   },
   {
    "duration": 556,
    "start_time": "2023-03-31T12:51:11.288Z"
   },
   {
    "duration": 470,
    "start_time": "2023-03-31T12:53:51.980Z"
   },
   {
    "duration": 560,
    "start_time": "2023-03-31T12:54:22.491Z"
   },
   {
    "duration": 781,
    "start_time": "2023-03-31T12:55:46.692Z"
   },
   {
    "duration": 532,
    "start_time": "2023-03-31T12:57:44.215Z"
   },
   {
    "duration": 726,
    "start_time": "2023-03-31T12:58:15.999Z"
   },
   {
    "duration": 1020,
    "start_time": "2023-03-31T12:59:26.081Z"
   },
   {
    "duration": 797,
    "start_time": "2023-03-31T12:59:36.969Z"
   },
   {
    "duration": 900,
    "start_time": "2023-03-31T12:59:41.926Z"
   },
   {
    "duration": 18,
    "start_time": "2023-03-31T12:59:55.428Z"
   },
   {
    "duration": 1047,
    "start_time": "2023-03-31T13:00:29.647Z"
   },
   {
    "duration": 956,
    "start_time": "2023-03-31T13:00:40.444Z"
   },
   {
    "duration": 1192,
    "start_time": "2023-03-31T13:00:44.266Z"
   },
   {
    "duration": 791,
    "start_time": "2023-03-31T13:00:59.774Z"
   },
   {
    "duration": 982,
    "start_time": "2023-03-31T13:01:11.741Z"
   },
   {
    "duration": 1150,
    "start_time": "2023-03-31T13:01:23.761Z"
   },
   {
    "duration": 967,
    "start_time": "2023-03-31T13:01:40.214Z"
   },
   {
    "duration": 1040,
    "start_time": "2023-03-31T13:04:59.467Z"
   },
   {
    "duration": 934,
    "start_time": "2023-03-31T13:05:08.151Z"
   },
   {
    "duration": 1148,
    "start_time": "2023-03-31T13:05:24.284Z"
   },
   {
    "duration": 1034,
    "start_time": "2023-03-31T13:05:32.150Z"
   },
   {
    "duration": 849,
    "start_time": "2023-03-31T13:08:34.949Z"
   },
   {
    "duration": 597,
    "start_time": "2023-03-31T13:09:28.827Z"
   },
   {
    "duration": 559,
    "start_time": "2023-03-31T13:09:52.393Z"
   },
   {
    "duration": 1969,
    "start_time": "2023-03-31T13:13:05.683Z"
   },
   {
    "duration": 2374,
    "start_time": "2023-03-31T13:13:21.205Z"
   },
   {
    "duration": 325,
    "start_time": "2023-03-31T13:13:39.415Z"
   },
   {
    "duration": 2306,
    "start_time": "2023-03-31T13:13:46.657Z"
   },
   {
    "duration": 528,
    "start_time": "2023-03-31T13:13:57.510Z"
   },
   {
    "duration": 23,
    "start_time": "2023-03-31T13:24:48.547Z"
   },
   {
    "duration": 207,
    "start_time": "2023-03-31T13:24:57.534Z"
   },
   {
    "duration": 213,
    "start_time": "2023-03-31T13:25:57.963Z"
   },
   {
    "duration": 2029,
    "start_time": "2023-03-31T13:26:53.286Z"
   },
   {
    "duration": 224,
    "start_time": "2023-03-31T13:27:19.375Z"
   },
   {
    "duration": 212,
    "start_time": "2023-03-31T13:27:36.685Z"
   },
   {
    "duration": 192,
    "start_time": "2023-03-31T13:27:47.984Z"
   },
   {
    "duration": 21363,
    "start_time": "2023-03-31T13:27:52.137Z"
   },
   {
    "duration": 20919,
    "start_time": "2023-03-31T13:29:59.014Z"
   },
   {
    "duration": 181,
    "start_time": "2023-03-31T13:38:11.152Z"
   },
   {
    "duration": 559,
    "start_time": "2023-03-31T13:39:06.951Z"
   },
   {
    "duration": 20830,
    "start_time": "2023-03-31T13:39:34.307Z"
   },
   {
    "duration": 2011,
    "start_time": "2023-03-31T13:39:58.830Z"
   },
   {
    "duration": 1559,
    "start_time": "2023-03-31T13:40:48.323Z"
   },
   {
    "duration": 3,
    "start_time": "2023-03-31T13:40:49.885Z"
   },
   {
    "duration": 65,
    "start_time": "2023-03-31T13:40:49.890Z"
   },
   {
    "duration": 7,
    "start_time": "2023-03-31T13:40:49.958Z"
   },
   {
    "duration": 14,
    "start_time": "2023-03-31T13:40:49.968Z"
   },
   {
    "duration": 40,
    "start_time": "2023-03-31T13:40:49.984Z"
   },
   {
    "duration": 1892,
    "start_time": "2023-03-31T13:40:50.027Z"
   },
   {
    "duration": 1990,
    "start_time": "2023-03-31T13:41:41.015Z"
   },
   {
    "duration": 1780,
    "start_time": "2023-03-31T13:42:13.560Z"
   },
   {
    "duration": 133,
    "start_time": "2023-03-31T13:43:44.168Z"
   },
   {
    "duration": 6,
    "start_time": "2023-03-31T13:43:50.290Z"
   },
   {
    "duration": 121,
    "start_time": "2023-03-31T13:43:56.830Z"
   },
   {
    "duration": 14,
    "start_time": "2023-03-31T13:44:03.023Z"
   },
   {
    "duration": 8,
    "start_time": "2023-03-31T13:44:10.355Z"
   },
   {
    "duration": 17,
    "start_time": "2023-03-31T13:44:33.182Z"
   },
   {
    "duration": 20,
    "start_time": "2023-03-31T13:44:37.656Z"
   },
   {
    "duration": 7,
    "start_time": "2023-03-31T13:44:48.147Z"
   },
   {
    "duration": 30,
    "start_time": "2023-03-31T13:45:07.954Z"
   },
   {
    "duration": 29,
    "start_time": "2023-03-31T13:45:29.495Z"
   },
   {
    "duration": 15,
    "start_time": "2023-03-31T13:46:08.258Z"
   },
   {
    "duration": 20,
    "start_time": "2023-03-31T13:46:14.111Z"
   },
   {
    "duration": 9,
    "start_time": "2023-03-31T13:46:21.860Z"
   },
   {
    "duration": 7,
    "start_time": "2023-03-31T13:46:35.505Z"
   },
   {
    "duration": 15,
    "start_time": "2023-03-31T13:46:44.675Z"
   },
   {
    "duration": 12,
    "start_time": "2023-03-31T13:47:06.103Z"
   },
   {
    "duration": 1380,
    "start_time": "2023-03-31T13:47:22.087Z"
   },
   {
    "duration": 9,
    "start_time": "2023-03-31T13:48:40.973Z"
   },
   {
    "duration": 9,
    "start_time": "2023-03-31T13:49:30.592Z"
   },
   {
    "duration": 682,
    "start_time": "2023-03-31T13:50:07.382Z"
   },
   {
    "duration": 1747,
    "start_time": "2023-03-31T13:50:21.663Z"
   },
   {
    "duration": 1688,
    "start_time": "2023-03-31T13:51:20.892Z"
   },
   {
    "duration": 17,
    "start_time": "2023-03-31T14:04:27.922Z"
   },
   {
    "duration": 12,
    "start_time": "2023-03-31T14:04:43.830Z"
   },
   {
    "duration": 8188,
    "start_time": "2023-03-31T14:04:49.908Z"
   },
   {
    "duration": 1974,
    "start_time": "2023-03-31T14:14:45.582Z"
   },
   {
    "duration": 1917,
    "start_time": "2023-03-31T14:15:00.226Z"
   },
   {
    "duration": 7834,
    "start_time": "2023-03-31T14:15:28.686Z"
   },
   {
    "duration": 7896,
    "start_time": "2023-03-31T14:15:42.615Z"
   },
   {
    "duration": 7816,
    "start_time": "2023-03-31T14:15:59.096Z"
   },
   {
    "duration": 25,
    "start_time": "2023-03-31T14:19:51.564Z"
   },
   {
    "duration": 17,
    "start_time": "2023-03-31T14:20:04.878Z"
   },
   {
    "duration": 358,
    "start_time": "2023-03-31T14:20:10.602Z"
   },
   {
    "duration": 422,
    "start_time": "2023-03-31T14:22:01.091Z"
   },
   {
    "duration": 54,
    "start_time": "2023-04-01T08:15:13.300Z"
   },
   {
    "duration": 1472,
    "start_time": "2023-04-01T08:15:21.301Z"
   },
   {
    "duration": 2,
    "start_time": "2023-04-01T08:15:22.775Z"
   },
   {
    "duration": 115,
    "start_time": "2023-04-01T08:15:22.778Z"
   },
   {
    "duration": 5,
    "start_time": "2023-04-01T08:15:22.895Z"
   },
   {
    "duration": 5,
    "start_time": "2023-04-01T08:15:22.902Z"
   },
   {
    "duration": 21,
    "start_time": "2023-04-01T08:15:22.908Z"
   },
   {
    "duration": 1393,
    "start_time": "2023-04-01T08:15:22.930Z"
   },
   {
    "duration": 6173,
    "start_time": "2023-04-01T08:15:24.325Z"
   },
   {
    "duration": 365,
    "start_time": "2023-04-01T08:15:30.499Z"
   },
   {
    "duration": 4,
    "start_time": "2023-04-01T08:15:30.866Z"
   },
   {
    "duration": 12,
    "start_time": "2023-04-01T08:15:49.287Z"
   },
   {
    "duration": 14,
    "start_time": "2023-04-01T08:17:22.385Z"
   },
   {
    "duration": 8,
    "start_time": "2023-04-01T08:17:28.690Z"
   },
   {
    "duration": 4,
    "start_time": "2023-04-01T08:23:24.604Z"
   },
   {
    "duration": 5,
    "start_time": "2023-04-01T08:27:37.438Z"
   },
   {
    "duration": 2,
    "start_time": "2023-04-01T08:27:48.915Z"
   },
   {
    "duration": 114,
    "start_time": "2023-04-01T08:30:17.156Z"
   },
   {
    "duration": 4,
    "start_time": "2023-04-01T08:30:36.202Z"
   },
   {
    "duration": 9,
    "start_time": "2023-04-01T08:33:19.419Z"
   },
   {
    "duration": 9,
    "start_time": "2023-04-01T08:33:24.997Z"
   },
   {
    "duration": 3,
    "start_time": "2023-04-01T08:33:30.410Z"
   },
   {
    "duration": 9,
    "start_time": "2023-04-01T08:39:30.565Z"
   },
   {
    "duration": 14,
    "start_time": "2023-04-01T08:39:42.940Z"
   },
   {
    "duration": 5,
    "start_time": "2023-04-01T08:46:08.499Z"
   },
   {
    "duration": 6,
    "start_time": "2023-04-01T08:47:15.206Z"
   },
   {
    "duration": 6,
    "start_time": "2023-04-01T08:51:06.431Z"
   },
   {
    "duration": 5,
    "start_time": "2023-04-01T08:51:29.093Z"
   },
   {
    "duration": 6,
    "start_time": "2023-04-01T08:51:33.401Z"
   },
   {
    "duration": 6,
    "start_time": "2023-04-01T08:51:35.627Z"
   },
   {
    "duration": 8,
    "start_time": "2023-04-01T08:51:40.397Z"
   },
   {
    "duration": 5,
    "start_time": "2023-04-01T08:51:42.588Z"
   },
   {
    "duration": 8,
    "start_time": "2023-04-01T08:51:57.102Z"
   },
   {
    "duration": 7,
    "start_time": "2023-04-01T08:51:59.809Z"
   },
   {
    "duration": 8,
    "start_time": "2023-04-01T08:53:01.562Z"
   },
   {
    "duration": 10,
    "start_time": "2023-04-01T08:53:20.537Z"
   },
   {
    "duration": 10,
    "start_time": "2023-04-01T08:54:05.262Z"
   },
   {
    "duration": 6,
    "start_time": "2023-04-01T08:54:09.341Z"
   },
   {
    "duration": 4,
    "start_time": "2023-04-01T08:54:15.948Z"
   },
   {
    "duration": 4,
    "start_time": "2023-04-01T08:54:24.610Z"
   },
   {
    "duration": 4,
    "start_time": "2023-04-01T08:54:32.769Z"
   },
   {
    "duration": 10,
    "start_time": "2023-04-01T08:54:41.497Z"
   },
   {
    "duration": 5,
    "start_time": "2023-04-01T08:54:44.681Z"
   },
   {
    "duration": 13,
    "start_time": "2023-04-01T10:03:57.094Z"
   },
   {
    "duration": 18,
    "start_time": "2023-04-01T10:04:06.254Z"
   },
   {
    "duration": 7,
    "start_time": "2023-04-01T10:04:19.271Z"
   },
   {
    "duration": 32,
    "start_time": "2023-04-01T10:06:36.770Z"
   },
   {
    "duration": 11,
    "start_time": "2023-04-01T10:20:44.341Z"
   },
   {
    "duration": 3,
    "start_time": "2023-04-01T10:21:14.003Z"
   },
   {
    "duration": 101,
    "start_time": "2023-04-01T10:21:22.633Z"
   },
   {
    "duration": 79,
    "start_time": "2023-04-01T10:21:31.919Z"
   },
   {
    "duration": 78,
    "start_time": "2023-04-01T10:22:30.579Z"
   },
   {
    "duration": 22,
    "start_time": "2023-04-01T10:22:56.603Z"
   },
   {
    "duration": 18,
    "start_time": "2023-04-01T10:23:02.433Z"
   },
   {
    "duration": 16,
    "start_time": "2023-04-01T10:23:08.466Z"
   },
   {
    "duration": 73,
    "start_time": "2023-04-01T10:23:20.690Z"
   },
   {
    "duration": 79,
    "start_time": "2023-04-01T10:23:26.782Z"
   },
   {
    "duration": 64,
    "start_time": "2023-04-01T10:23:27.971Z"
   },
   {
    "duration": 69,
    "start_time": "2023-04-01T10:23:28.507Z"
   },
   {
    "duration": 15,
    "start_time": "2023-04-01T10:26:14.323Z"
   },
   {
    "duration": 78,
    "start_time": "2023-04-01T10:30:23.483Z"
   },
   {
    "duration": 13,
    "start_time": "2023-04-01T10:32:06.370Z"
   },
   {
    "duration": 66,
    "start_time": "2023-04-01T10:32:20.757Z"
   },
   {
    "duration": 77,
    "start_time": "2023-04-01T10:32:35.173Z"
   },
   {
    "duration": 81,
    "start_time": "2023-04-01T10:32:53.526Z"
   },
   {
    "duration": 9,
    "start_time": "2023-04-01T10:33:23.612Z"
   },
   {
    "duration": 8,
    "start_time": "2023-04-01T10:33:32.377Z"
   },
   {
    "duration": 55,
    "start_time": "2023-04-01T10:34:14.860Z"
   },
   {
    "duration": 51,
    "start_time": "2023-04-01T10:34:17.498Z"
   },
   {
    "duration": 11,
    "start_time": "2023-04-01T10:34:20.718Z"
   },
   {
    "duration": 49,
    "start_time": "2023-04-01T10:34:23.203Z"
   },
   {
    "duration": 72,
    "start_time": "2023-04-01T10:34:27.735Z"
   },
   {
    "duration": 19,
    "start_time": "2023-04-01T10:35:12.132Z"
   },
   {
    "duration": 12,
    "start_time": "2023-04-01T10:35:22.164Z"
   },
   {
    "duration": 8,
    "start_time": "2023-04-01T10:35:27.209Z"
   },
   {
    "duration": 11,
    "start_time": "2023-04-01T10:35:38.911Z"
   },
   {
    "duration": 10,
    "start_time": "2023-04-01T10:35:47.340Z"
   },
   {
    "duration": 12,
    "start_time": "2023-04-01T10:36:30.619Z"
   },
   {
    "duration": 12,
    "start_time": "2023-04-01T10:37:20.366Z"
   },
   {
    "duration": 9,
    "start_time": "2023-04-01T10:37:24.283Z"
   },
   {
    "duration": 12,
    "start_time": "2023-04-01T10:37:36.988Z"
   },
   {
    "duration": 9,
    "start_time": "2023-04-01T10:37:49.358Z"
   },
   {
    "duration": 64,
    "start_time": "2023-04-01T10:38:14.096Z"
   },
   {
    "duration": 3,
    "start_time": "2023-04-01T10:39:04.207Z"
   },
   {
    "duration": 136,
    "start_time": "2023-04-01T10:39:34.799Z"
   },
   {
    "duration": 5,
    "start_time": "2023-04-01T10:39:47.595Z"
   },
   {
    "duration": 10,
    "start_time": "2023-04-01T10:40:01.259Z"
   },
   {
    "duration": 169,
    "start_time": "2023-04-01T10:40:07.558Z"
   },
   {
    "duration": 170,
    "start_time": "2023-04-01T10:40:32.676Z"
   },
   {
    "duration": 166,
    "start_time": "2023-04-01T10:40:36.352Z"
   },
   {
    "duration": 188,
    "start_time": "2023-04-01T10:40:40.418Z"
   },
   {
    "duration": 1374,
    "start_time": "2023-04-01T10:41:02.029Z"
   },
   {
    "duration": 3,
    "start_time": "2023-04-01T10:41:03.405Z"
   },
   {
    "duration": 46,
    "start_time": "2023-04-01T10:41:03.410Z"
   },
   {
    "duration": 6,
    "start_time": "2023-04-01T10:41:03.457Z"
   },
   {
    "duration": 7,
    "start_time": "2023-04-01T10:41:03.465Z"
   },
   {
    "duration": 18,
    "start_time": "2023-04-01T10:41:03.474Z"
   },
   {
    "duration": 1406,
    "start_time": "2023-04-01T10:41:03.494Z"
   },
   {
    "duration": 6017,
    "start_time": "2023-04-01T10:41:04.902Z"
   },
   {
    "duration": 352,
    "start_time": "2023-04-01T10:41:10.921Z"
   },
   {
    "duration": 5,
    "start_time": "2023-04-01T10:41:11.274Z"
   },
   {
    "duration": 5,
    "start_time": "2023-04-01T10:41:11.280Z"
   },
   {
    "duration": 9,
    "start_time": "2023-04-01T10:41:11.286Z"
   },
   {
    "duration": 98,
    "start_time": "2023-04-01T10:41:11.297Z"
   },
   {
    "duration": 45,
    "start_time": "2023-04-01T10:44:11.502Z"
   },
   {
    "duration": 50,
    "start_time": "2023-04-01T10:45:17.685Z"
   },
   {
    "duration": 66,
    "start_time": "2023-04-01T10:45:35.341Z"
   },
   {
    "duration": 43,
    "start_time": "2023-04-01T10:45:48.631Z"
   },
   {
    "duration": 65,
    "start_time": "2023-04-01T10:45:57.522Z"
   },
   {
    "duration": 65,
    "start_time": "2023-04-01T10:46:03.377Z"
   },
   {
    "duration": 72,
    "start_time": "2023-04-01T10:46:28.476Z"
   },
   {
    "duration": 121,
    "start_time": "2023-04-01T10:46:41.992Z"
   },
   {
    "duration": 66,
    "start_time": "2023-04-01T10:47:03.960Z"
   },
   {
    "duration": 65,
    "start_time": "2023-04-01T10:47:55.551Z"
   },
   {
    "duration": 80,
    "start_time": "2023-04-01T10:53:30.694Z"
   },
   {
    "duration": 71,
    "start_time": "2023-04-01T10:53:43.681Z"
   },
   {
    "duration": 75,
    "start_time": "2023-04-01T10:53:56.439Z"
   },
   {
    "duration": 77,
    "start_time": "2023-04-01T10:56:01.755Z"
   },
   {
    "duration": 74,
    "start_time": "2023-04-01T10:56:10.962Z"
   },
   {
    "duration": 85,
    "start_time": "2023-04-01T10:56:42.587Z"
   },
   {
    "duration": 93,
    "start_time": "2023-04-01T10:57:41.591Z"
   },
   {
    "duration": 25,
    "start_time": "2023-04-01T11:01:01.863Z"
   },
   {
    "duration": 19,
    "start_time": "2023-04-01T11:07:43.077Z"
   },
   {
    "duration": 17,
    "start_time": "2023-04-01T11:08:02.485Z"
   },
   {
    "duration": 19,
    "start_time": "2023-04-01T11:08:09.511Z"
   },
   {
    "duration": 19,
    "start_time": "2023-04-01T11:08:15.968Z"
   },
   {
    "duration": 76,
    "start_time": "2023-04-01T11:08:23.267Z"
   },
   {
    "duration": 4,
    "start_time": "2023-04-01T11:08:30.164Z"
   },
   {
    "duration": 320,
    "start_time": "2023-04-01T11:08:36.127Z"
   },
   {
    "duration": 40,
    "start_time": "2023-04-01T11:09:03.122Z"
   },
   {
    "duration": 6,
    "start_time": "2023-04-01T11:11:22.028Z"
   },
   {
    "duration": 5,
    "start_time": "2023-04-01T11:11:31.385Z"
   },
   {
    "duration": 12,
    "start_time": "2023-04-01T11:12:19.517Z"
   },
   {
    "duration": 119,
    "start_time": "2023-04-01T11:12:34.896Z"
   },
   {
    "duration": 8,
    "start_time": "2023-04-01T11:13:05.916Z"
   },
   {
    "duration": 12,
    "start_time": "2023-04-01T11:13:20.516Z"
   },
   {
    "duration": 14,
    "start_time": "2023-04-01T11:14:04.611Z"
   },
   {
    "duration": 15,
    "start_time": "2023-04-01T11:14:10.417Z"
   },
   {
    "duration": 14,
    "start_time": "2023-04-01T11:14:36.978Z"
   },
   {
    "duration": 9,
    "start_time": "2023-04-01T11:14:46.511Z"
   },
   {
    "duration": 44,
    "start_time": "2023-04-01T11:16:26.772Z"
   },
   {
    "duration": 61,
    "start_time": "2023-04-01T11:16:56.823Z"
   },
   {
    "duration": 22,
    "start_time": "2023-04-01T11:24:09.767Z"
   },
   {
    "duration": 4,
    "start_time": "2023-04-01T11:24:51.611Z"
   },
   {
    "duration": 12,
    "start_time": "2023-04-01T11:24:53.869Z"
   },
   {
    "duration": 144,
    "start_time": "2023-04-01T11:24:56.424Z"
   },
   {
    "duration": 79,
    "start_time": "2023-04-01T11:25:06.162Z"
   },
   {
    "duration": 4,
    "start_time": "2023-04-01T11:26:47.222Z"
   },
   {
    "duration": 1467,
    "start_time": "2023-04-01T11:27:06.038Z"
   },
   {
    "duration": 3,
    "start_time": "2023-04-01T11:27:07.507Z"
   },
   {
    "duration": 60,
    "start_time": "2023-04-01T11:27:07.511Z"
   },
   {
    "duration": 8,
    "start_time": "2023-04-01T11:27:07.574Z"
   },
   {
    "duration": 8,
    "start_time": "2023-04-01T11:27:07.584Z"
   },
   {
    "duration": 47,
    "start_time": "2023-04-01T11:27:07.594Z"
   },
   {
    "duration": 1709,
    "start_time": "2023-04-01T11:27:07.642Z"
   },
   {
    "duration": 6032,
    "start_time": "2023-04-01T11:27:09.354Z"
   },
   {
    "duration": 375,
    "start_time": "2023-04-01T11:27:15.388Z"
   },
   {
    "duration": 4,
    "start_time": "2023-04-01T11:27:15.766Z"
   },
   {
    "duration": 68,
    "start_time": "2023-04-01T11:27:15.772Z"
   },
   {
    "duration": 6,
    "start_time": "2023-04-01T11:27:15.843Z"
   },
   {
    "duration": 91,
    "start_time": "2023-04-01T11:27:15.850Z"
   },
   {
    "duration": 303,
    "start_time": "2023-04-01T11:27:15.943Z"
   },
   {
    "duration": 291,
    "start_time": "2023-04-01T11:27:16.255Z"
   },
   {
    "duration": 156,
    "start_time": "2023-04-01T14:28:53.527Z"
   },
   {
    "duration": 6,
    "start_time": "2023-04-01T14:28:56.467Z"
   },
   {
    "duration": 10299,
    "start_time": "2023-04-01T14:28:58.495Z"
   },
   {
    "duration": 6,
    "start_time": "2023-04-01T14:29:13.355Z"
   },
   {
    "duration": 10422,
    "start_time": "2023-04-01T14:29:35.376Z"
   },
   {
    "duration": 10442,
    "start_time": "2023-04-01T14:30:44.171Z"
   },
   {
    "duration": 10523,
    "start_time": "2023-04-01T14:31:14.177Z"
   },
   {
    "duration": 10944,
    "start_time": "2023-04-01T14:33:34.482Z"
   },
   {
    "duration": 4,
    "start_time": "2023-04-01T14:34:33.982Z"
   },
   {
    "duration": 12,
    "start_time": "2023-04-01T14:34:56.183Z"
   },
   {
    "duration": 56,
    "start_time": "2023-04-01T14:37:26.835Z"
   },
   {
    "duration": 16,
    "start_time": "2023-04-01T14:37:34.714Z"
   },
   {
    "duration": 39,
    "start_time": "2023-04-01T14:37:35.235Z"
   },
   {
    "duration": 77,
    "start_time": "2023-04-01T14:37:48.236Z"
   },
   {
    "duration": 12129,
    "start_time": "2023-04-01T14:38:09.006Z"
   },
   {
    "duration": 11690,
    "start_time": "2023-04-01T14:38:39.794Z"
   },
   {
    "duration": 15,
    "start_time": "2023-04-01T14:39:01.215Z"
   },
   {
    "duration": 4,
    "start_time": "2023-04-01T14:39:14.271Z"
   },
   {
    "duration": 14,
    "start_time": "2023-04-01T14:39:22.035Z"
   },
   {
    "duration": 109,
    "start_time": "2023-04-01T14:39:36.782Z"
   },
   {
    "duration": 44,
    "start_time": "2023-04-01T14:39:42.318Z"
   },
   {
    "duration": 30,
    "start_time": "2023-04-01T14:40:33.320Z"
   },
   {
    "duration": 48,
    "start_time": "2023-04-01T14:40:54.216Z"
   },
   {
    "duration": 125,
    "start_time": "2023-04-01T14:41:07.727Z"
   },
   {
    "duration": 2,
    "start_time": "2023-04-01T14:41:27.213Z"
   },
   {
    "duration": 149,
    "start_time": "2023-04-01T14:46:06.201Z"
   },
   {
    "duration": 61,
    "start_time": "2023-04-01T14:46:08.686Z"
   },
   {
    "duration": 7257,
    "start_time": "2023-04-01T14:47:19.586Z"
   },
   {
    "duration": 8809,
    "start_time": "2023-04-01T14:48:15.771Z"
   },
   {
    "duration": 9207,
    "start_time": "2023-04-01T14:50:38.339Z"
   },
   {
    "duration": 9964,
    "start_time": "2023-04-01T14:50:51.875Z"
   },
   {
    "duration": 9364,
    "start_time": "2023-04-01T14:51:51.281Z"
   },
   {
    "duration": 1988,
    "start_time": "2023-04-01T14:57:24.101Z"
   },
   {
    "duration": 9519,
    "start_time": "2023-04-01T14:57:30.788Z"
   },
   {
    "duration": 9306,
    "start_time": "2023-04-01T14:58:08.400Z"
   },
   {
    "duration": 9586,
    "start_time": "2023-04-01T14:58:25.811Z"
   },
   {
    "duration": 1688,
    "start_time": "2023-04-01T14:58:43.785Z"
   },
   {
    "duration": 9736,
    "start_time": "2023-04-01T14:58:48.614Z"
   },
   {
    "duration": 704,
    "start_time": "2023-04-01T14:59:31.912Z"
   },
   {
    "duration": 382,
    "start_time": "2023-04-01T14:59:41.399Z"
   },
   {
    "duration": 1553,
    "start_time": "2023-04-02T08:49:35.645Z"
   },
   {
    "duration": 3,
    "start_time": "2023-04-02T08:49:37.199Z"
   },
   {
    "duration": 115,
    "start_time": "2023-04-02T08:49:37.203Z"
   },
   {
    "duration": 6,
    "start_time": "2023-04-02T08:49:37.320Z"
   },
   {
    "duration": 6,
    "start_time": "2023-04-02T08:49:37.328Z"
   },
   {
    "duration": 24,
    "start_time": "2023-04-02T08:49:37.335Z"
   },
   {
    "duration": 1412,
    "start_time": "2023-04-02T08:49:37.360Z"
   },
   {
    "duration": 7529,
    "start_time": "2023-04-02T08:49:38.774Z"
   },
   {
    "duration": 304,
    "start_time": "2023-04-02T08:49:46.304Z"
   },
   {
    "duration": 4,
    "start_time": "2023-04-02T08:49:46.610Z"
   },
   {
    "duration": 7567,
    "start_time": "2023-04-02T08:49:46.615Z"
   },
   {
    "duration": 4,
    "start_time": "2023-04-02T08:49:54.184Z"
   },
   {
    "duration": 15,
    "start_time": "2023-04-02T08:49:54.189Z"
   },
   {
    "duration": 3,
    "start_time": "2023-04-02T08:49:54.206Z"
   },
   {
    "duration": 187,
    "start_time": "2023-04-02T08:49:54.270Z"
   },
   {
    "duration": 111,
    "start_time": "2023-04-02T08:49:54.458Z"
   },
   {
    "duration": 197,
    "start_time": "2023-04-02T08:49:54.572Z"
   },
   {
    "duration": 7668,
    "start_time": "2023-04-02T08:50:14.801Z"
   },
   {
    "duration": 47,
    "start_time": "2023-04-02T08:59:49.727Z"
   },
   {
    "duration": 65,
    "start_time": "2023-04-02T09:00:07.303Z"
   },
   {
    "duration": 54,
    "start_time": "2023-04-02T09:00:23.480Z"
   },
   {
    "duration": 4,
    "start_time": "2023-04-02T09:00:44.164Z"
   },
   {
    "duration": 149,
    "start_time": "2023-04-02T09:01:19.850Z"
   },
   {
    "duration": 5,
    "start_time": "2023-04-02T09:01:29.148Z"
   },
   {
    "duration": 5,
    "start_time": "2023-04-02T09:01:32.927Z"
   },
   {
    "duration": 5,
    "start_time": "2023-04-02T09:01:33.578Z"
   },
   {
    "duration": 4,
    "start_time": "2023-04-02T09:01:34.044Z"
   },
   {
    "duration": 48,
    "start_time": "2023-04-02T09:08:26.258Z"
   },
   {
    "duration": 4,
    "start_time": "2023-04-02T09:08:39.069Z"
   },
   {
    "duration": 11,
    "start_time": "2023-04-02T09:08:47.674Z"
   },
   {
    "duration": 4,
    "start_time": "2023-04-02T09:09:03.655Z"
   },
   {
    "duration": 11,
    "start_time": "2023-04-02T09:09:06.401Z"
   },
   {
    "duration": 4,
    "start_time": "2023-04-02T09:09:28.015Z"
   },
   {
    "duration": 66,
    "start_time": "2023-04-02T09:09:30.823Z"
   },
   {
    "duration": 4,
    "start_time": "2023-04-02T09:12:33.614Z"
   },
   {
    "duration": 62,
    "start_time": "2023-04-02T09:12:36.491Z"
   },
   {
    "duration": 5,
    "start_time": "2023-04-02T09:14:37.813Z"
   },
   {
    "duration": 62,
    "start_time": "2023-04-02T09:14:45.750Z"
   },
   {
    "duration": 4,
    "start_time": "2023-04-02T09:15:08.454Z"
   },
   {
    "duration": 141,
    "start_time": "2023-04-02T09:15:10.431Z"
   },
   {
    "duration": 5,
    "start_time": "2023-04-02T09:16:53.412Z"
   },
   {
    "duration": 13,
    "start_time": "2023-04-02T09:16:55.510Z"
   },
   {
    "duration": 4,
    "start_time": "2023-04-02T09:17:38.853Z"
   },
   {
    "duration": 4,
    "start_time": "2023-04-02T09:17:40.945Z"
   },
   {
    "duration": 4,
    "start_time": "2023-04-02T09:19:16.960Z"
   },
   {
    "duration": 3,
    "start_time": "2023-04-02T09:19:18.947Z"
   },
   {
    "duration": 3,
    "start_time": "2023-04-02T09:19:46.764Z"
   },
   {
    "duration": 5,
    "start_time": "2023-04-02T09:19:48.584Z"
   },
   {
    "duration": 4,
    "start_time": "2023-04-02T09:20:05.447Z"
   },
   {
    "duration": 4,
    "start_time": "2023-04-02T09:20:07.302Z"
   },
   {
    "duration": 3,
    "start_time": "2023-04-02T09:20:17.717Z"
   },
   {
    "duration": 3,
    "start_time": "2023-04-02T09:20:20.182Z"
   },
   {
    "duration": 104,
    "start_time": "2023-04-02T09:20:25.671Z"
   },
   {
    "duration": 5,
    "start_time": "2023-04-02T09:20:44.899Z"
   },
   {
    "duration": 5,
    "start_time": "2023-04-02T09:20:47.066Z"
   },
   {
    "duration": 5,
    "start_time": "2023-04-02T09:20:49.600Z"
   },
   {
    "duration": 1276,
    "start_time": "2023-04-02T09:24:54.605Z"
   },
   {
    "duration": 2,
    "start_time": "2023-04-02T09:24:55.883Z"
   },
   {
    "duration": 44,
    "start_time": "2023-04-02T09:24:55.887Z"
   },
   {
    "duration": 5,
    "start_time": "2023-04-02T09:24:55.933Z"
   },
   {
    "duration": 4,
    "start_time": "2023-04-02T09:24:55.939Z"
   },
   {
    "duration": 21,
    "start_time": "2023-04-02T09:24:55.944Z"
   },
   {
    "duration": 1447,
    "start_time": "2023-04-02T09:24:55.967Z"
   },
   {
    "duration": 7651,
    "start_time": "2023-04-02T09:24:57.416Z"
   },
   {
    "duration": 330,
    "start_time": "2023-04-02T09:25:05.069Z"
   },
   {
    "duration": 4,
    "start_time": "2023-04-02T09:25:05.403Z"
   },
   {
    "duration": 7401,
    "start_time": "2023-04-02T09:25:05.409Z"
   },
   {
    "duration": 3,
    "start_time": "2023-04-02T09:25:12.812Z"
   },
   {
    "duration": 8,
    "start_time": "2023-04-02T09:25:12.817Z"
   },
   {
    "duration": 709,
    "start_time": "2023-04-02T09:25:12.826Z"
   },
   {
    "duration": 0,
    "start_time": "2023-04-02T09:25:13.538Z"
   },
   {
    "duration": 0,
    "start_time": "2023-04-02T09:25:13.539Z"
   },
   {
    "duration": 0,
    "start_time": "2023-04-02T09:25:13.540Z"
   },
   {
    "duration": 0,
    "start_time": "2023-04-02T09:25:13.541Z"
   },
   {
    "duration": 12,
    "start_time": "2023-04-02T09:25:56.820Z"
   },
   {
    "duration": 1227,
    "start_time": "2023-04-02T09:32:03.700Z"
   },
   {
    "duration": 2,
    "start_time": "2023-04-02T09:32:04.929Z"
   },
   {
    "duration": 43,
    "start_time": "2023-04-02T09:32:04.933Z"
   },
   {
    "duration": 5,
    "start_time": "2023-04-02T09:32:04.978Z"
   },
   {
    "duration": 5,
    "start_time": "2023-04-02T09:32:04.984Z"
   },
   {
    "duration": 19,
    "start_time": "2023-04-02T09:32:04.991Z"
   },
   {
    "duration": 1787,
    "start_time": "2023-04-02T09:32:05.011Z"
   },
   {
    "duration": 8252,
    "start_time": "2023-04-02T09:32:06.799Z"
   },
   {
    "duration": 333,
    "start_time": "2023-04-02T09:32:15.053Z"
   },
   {
    "duration": 5,
    "start_time": "2023-04-02T09:32:15.389Z"
   },
   {
    "duration": 7177,
    "start_time": "2023-04-02T09:32:15.395Z"
   },
   {
    "duration": 45,
    "start_time": "2023-04-02T09:32:22.574Z"
   },
   {
    "duration": 0,
    "start_time": "2023-04-02T09:32:22.620Z"
   },
   {
    "duration": 0,
    "start_time": "2023-04-02T09:32:22.622Z"
   },
   {
    "duration": 0,
    "start_time": "2023-04-02T09:32:22.623Z"
   },
   {
    "duration": 0,
    "start_time": "2023-04-02T09:32:22.624Z"
   },
   {
    "duration": 0,
    "start_time": "2023-04-02T09:32:22.626Z"
   },
   {
    "duration": 0,
    "start_time": "2023-04-02T09:32:22.628Z"
   },
   {
    "duration": 4,
    "start_time": "2023-04-02T09:32:49.311Z"
   },
   {
    "duration": 4,
    "start_time": "2023-04-02T09:32:51.801Z"
   },
   {
    "duration": 4,
    "start_time": "2023-04-02T09:33:02.341Z"
   },
   {
    "duration": 3,
    "start_time": "2023-04-02T09:33:05.014Z"
   },
   {
    "duration": 3,
    "start_time": "2023-04-02T09:33:11.742Z"
   },
   {
    "duration": 4,
    "start_time": "2023-04-02T09:33:49.877Z"
   },
   {
    "duration": 9,
    "start_time": "2023-04-02T09:33:52.081Z"
   },
   {
    "duration": 1256,
    "start_time": "2023-04-02T09:34:11.795Z"
   },
   {
    "duration": 2,
    "start_time": "2023-04-02T09:34:13.053Z"
   },
   {
    "duration": 43,
    "start_time": "2023-04-02T09:34:13.056Z"
   },
   {
    "duration": 5,
    "start_time": "2023-04-02T09:34:13.101Z"
   },
   {
    "duration": 7,
    "start_time": "2023-04-02T09:34:13.107Z"
   },
   {
    "duration": 20,
    "start_time": "2023-04-02T09:34:13.116Z"
   },
   {
    "duration": 1491,
    "start_time": "2023-04-02T09:34:13.137Z"
   },
   {
    "duration": 7461,
    "start_time": "2023-04-02T09:34:14.630Z"
   },
   {
    "duration": 285,
    "start_time": "2023-04-02T09:34:22.092Z"
   },
   {
    "duration": 6,
    "start_time": "2023-04-02T09:34:22.379Z"
   },
   {
    "duration": 7244,
    "start_time": "2023-04-02T09:34:22.387Z"
   },
   {
    "duration": 3,
    "start_time": "2023-04-02T09:34:29.633Z"
   },
   {
    "duration": 39,
    "start_time": "2023-04-02T09:34:29.638Z"
   },
   {
    "duration": 3,
    "start_time": "2023-04-02T09:34:29.679Z"
   },
   {
    "duration": 236,
    "start_time": "2023-04-02T09:34:29.684Z"
   },
   {
    "duration": 155,
    "start_time": "2023-04-02T09:34:29.922Z"
   },
   {
    "duration": 192,
    "start_time": "2023-04-02T09:34:30.078Z"
   },
   {
    "duration": 4,
    "start_time": "2023-04-02T09:36:29.070Z"
   },
   {
    "duration": 97,
    "start_time": "2023-04-02T09:36:45.273Z"
   },
   {
    "duration": 9,
    "start_time": "2023-04-02T09:41:28.227Z"
   },
   {
    "duration": 3,
    "start_time": "2023-04-02T09:41:32.919Z"
   },
   {
    "duration": 46,
    "start_time": "2023-04-02T09:43:23.588Z"
   },
   {
    "duration": 3,
    "start_time": "2023-04-02T09:43:30.731Z"
   },
   {
    "duration": 2,
    "start_time": "2023-04-02T09:43:44.877Z"
   },
   {
    "duration": 39,
    "start_time": "2023-04-02T09:44:31.828Z"
   },
   {
    "duration": 3,
    "start_time": "2023-04-02T09:47:03.151Z"
   },
   {
    "duration": 1284,
    "start_time": "2023-04-02T10:20:00.141Z"
   },
   {
    "duration": 2,
    "start_time": "2023-04-02T10:20:01.427Z"
   },
   {
    "duration": 78,
    "start_time": "2023-04-02T10:20:01.431Z"
   },
   {
    "duration": 5,
    "start_time": "2023-04-02T10:20:01.510Z"
   },
   {
    "duration": 29,
    "start_time": "2023-04-02T10:20:01.516Z"
   },
   {
    "duration": 43,
    "start_time": "2023-04-02T10:20:01.547Z"
   },
   {
    "duration": 1444,
    "start_time": "2023-04-02T10:20:01.592Z"
   },
   {
    "duration": 7142,
    "start_time": "2023-04-02T10:20:03.037Z"
   },
   {
    "duration": 338,
    "start_time": "2023-04-02T10:20:10.180Z"
   },
   {
    "duration": 5,
    "start_time": "2023-04-02T10:20:10.520Z"
   },
   {
    "duration": 7496,
    "start_time": "2023-04-02T10:20:10.527Z"
   },
   {
    "duration": 4,
    "start_time": "2023-04-02T10:20:18.024Z"
   },
   {
    "duration": 39,
    "start_time": "2023-04-02T10:20:18.029Z"
   },
   {
    "duration": 19,
    "start_time": "2023-04-02T10:20:18.070Z"
   },
   {
    "duration": 254,
    "start_time": "2023-04-02T10:20:18.090Z"
   },
   {
    "duration": 31,
    "start_time": "2023-04-02T10:20:18.345Z"
   },
   {
    "duration": 298,
    "start_time": "2023-04-02T10:20:18.378Z"
   },
   {
    "duration": 2120,
    "start_time": "2023-04-02T21:38:47.228Z"
   },
   {
    "duration": 5,
    "start_time": "2023-04-02T21:38:49.352Z"
   },
   {
    "duration": 134,
    "start_time": "2023-04-02T21:38:49.358Z"
   },
   {
    "duration": 5,
    "start_time": "2023-04-02T21:38:49.494Z"
   },
   {
    "duration": 19,
    "start_time": "2023-04-02T21:38:49.501Z"
   },
   {
    "duration": 43,
    "start_time": "2023-04-02T21:38:49.522Z"
   },
   {
    "duration": 1542,
    "start_time": "2023-04-02T21:38:49.567Z"
   },
   {
    "duration": 9308,
    "start_time": "2023-04-02T21:38:51.110Z"
   },
   {
    "duration": 399,
    "start_time": "2023-04-02T21:39:00.419Z"
   },
   {
    "duration": 6,
    "start_time": "2023-04-02T21:39:00.820Z"
   },
   {
    "duration": 8290,
    "start_time": "2023-04-02T21:39:00.827Z"
   },
   {
    "duration": 3,
    "start_time": "2023-04-02T21:39:09.119Z"
   },
   {
    "duration": 81,
    "start_time": "2023-04-02T21:39:09.124Z"
   },
   {
    "duration": 129,
    "start_time": "2023-04-02T21:39:09.207Z"
   },
   {
    "duration": 37,
    "start_time": "2023-04-02T21:39:09.337Z"
   },
   {
    "duration": 269,
    "start_time": "2023-04-02T21:39:09.376Z"
   },
   {
    "duration": 193,
    "start_time": "2023-04-02T21:39:09.646Z"
   },
   {
    "duration": 4,
    "start_time": "2023-04-02T21:40:27.443Z"
   },
   {
    "duration": 4,
    "start_time": "2023-04-02T22:32:24.573Z"
   },
   {
    "duration": 3,
    "start_time": "2023-04-02T22:34:20.946Z"
   },
   {
    "duration": 4,
    "start_time": "2023-04-02T22:34:45.273Z"
   },
   {
    "duration": 1485,
    "start_time": "2023-04-03T06:55:54.685Z"
   },
   {
    "duration": 3,
    "start_time": "2023-04-03T06:55:56.172Z"
   },
   {
    "duration": 137,
    "start_time": "2023-04-03T06:55:56.177Z"
   },
   {
    "duration": 7,
    "start_time": "2023-04-03T06:55:56.316Z"
   },
   {
    "duration": 18,
    "start_time": "2023-04-03T06:55:56.325Z"
   },
   {
    "duration": 35,
    "start_time": "2023-04-03T06:55:56.345Z"
   },
   {
    "duration": 2423,
    "start_time": "2023-04-03T06:55:56.382Z"
   },
   {
    "duration": 7347,
    "start_time": "2023-04-03T06:55:58.807Z"
   },
   {
    "duration": 318,
    "start_time": "2023-04-03T06:56:06.156Z"
   },
   {
    "duration": 5,
    "start_time": "2023-04-03T06:56:06.476Z"
   },
   {
    "duration": 8459,
    "start_time": "2023-04-03T06:56:06.483Z"
   },
   {
    "duration": 4,
    "start_time": "2023-04-03T06:56:14.944Z"
   },
   {
    "duration": 40,
    "start_time": "2023-04-03T06:56:14.950Z"
   },
   {
    "duration": 48,
    "start_time": "2023-04-03T06:56:14.992Z"
   },
   {
    "duration": 210,
    "start_time": "2023-04-03T06:56:15.043Z"
   },
   {
    "duration": 91,
    "start_time": "2023-04-03T06:56:15.255Z"
   },
   {
    "duration": 193,
    "start_time": "2023-04-03T06:56:15.348Z"
   },
   {
    "duration": 2020,
    "start_time": "2023-04-03T13:28:46.718Z"
   },
   {
    "duration": 3,
    "start_time": "2023-04-03T13:28:48.740Z"
   },
   {
    "duration": 118,
    "start_time": "2023-04-03T13:28:48.744Z"
   },
   {
    "duration": 6,
    "start_time": "2023-04-03T13:28:48.864Z"
   },
   {
    "duration": 6,
    "start_time": "2023-04-03T13:28:48.871Z"
   },
   {
    "duration": 25,
    "start_time": "2023-04-03T13:28:48.878Z"
   },
   {
    "duration": 1480,
    "start_time": "2023-04-03T13:28:48.904Z"
   },
   {
    "duration": 7826,
    "start_time": "2023-04-03T13:28:50.390Z"
   },
   {
    "duration": 315,
    "start_time": "2023-04-03T13:28:58.218Z"
   },
   {
    "duration": 4,
    "start_time": "2023-04-03T13:28:58.536Z"
   },
   {
    "duration": 7626,
    "start_time": "2023-04-03T13:28:58.542Z"
   },
   {
    "duration": 4,
    "start_time": "2023-04-03T13:29:06.170Z"
   },
   {
    "duration": 24,
    "start_time": "2023-04-03T13:29:06.175Z"
   },
   {
    "duration": 3,
    "start_time": "2023-04-03T13:29:06.201Z"
   },
   {
    "duration": 318,
    "start_time": "2023-04-03T13:29:06.206Z"
   },
   {
    "duration": 164,
    "start_time": "2023-04-03T13:29:06.526Z"
   },
   {
    "duration": 202,
    "start_time": "2023-04-03T13:29:06.694Z"
   },
   {
    "duration": 2021,
    "start_time": "2023-04-05T07:57:00.413Z"
   },
   {
    "duration": 4,
    "start_time": "2023-04-05T07:57:02.436Z"
   },
   {
    "duration": 174,
    "start_time": "2023-04-05T07:57:02.441Z"
   },
   {
    "duration": 8,
    "start_time": "2023-04-05T07:57:02.618Z"
   },
   {
    "duration": 16,
    "start_time": "2023-04-05T07:57:02.628Z"
   },
   {
    "duration": 36,
    "start_time": "2023-04-05T07:57:02.646Z"
   },
   {
    "duration": 2162,
    "start_time": "2023-04-05T07:57:02.684Z"
   },
   {
    "duration": 9331,
    "start_time": "2023-04-05T07:57:04.848Z"
   },
   {
    "duration": 372,
    "start_time": "2023-04-05T07:57:14.195Z"
   },
   {
    "duration": 5,
    "start_time": "2023-04-05T07:57:14.569Z"
   },
   {
    "duration": 8774,
    "start_time": "2023-04-05T07:57:14.575Z"
   },
   {
    "duration": 5,
    "start_time": "2023-04-05T07:57:23.351Z"
   },
   {
    "duration": 51,
    "start_time": "2023-04-05T07:57:23.358Z"
   },
   {
    "duration": 6,
    "start_time": "2023-04-05T07:57:23.412Z"
   },
   {
    "duration": 84,
    "start_time": "2023-04-05T07:57:23.421Z"
   },
   {
    "duration": 212,
    "start_time": "2023-04-05T07:57:23.514Z"
   },
   {
    "duration": 211,
    "start_time": "2023-04-05T07:57:23.803Z"
   },
   {
    "duration": 116,
    "start_time": "2023-04-05T08:11:03.623Z"
   },
   {
    "duration": 14,
    "start_time": "2023-04-05T08:11:11.071Z"
   },
   {
    "duration": 24,
    "start_time": "2023-04-05T08:11:26.116Z"
   },
   {
    "duration": 16,
    "start_time": "2023-04-05T08:12:44.477Z"
   },
   {
    "duration": 94,
    "start_time": "2023-04-05T08:12:48.518Z"
   },
   {
    "duration": 307,
    "start_time": "2023-04-05T08:12:58.501Z"
   },
   {
    "duration": 279,
    "start_time": "2023-04-05T08:13:02.844Z"
   },
   {
    "duration": 146,
    "start_time": "2023-04-05T08:13:07.861Z"
   },
   {
    "duration": 344,
    "start_time": "2023-04-05T08:13:29.358Z"
   },
   {
    "duration": 2547,
    "start_time": "2023-04-05T08:13:33.660Z"
   },
   {
    "duration": 1282,
    "start_time": "2023-04-05T08:13:45.525Z"
   },
   {
    "duration": 772,
    "start_time": "2023-04-05T08:13:51.636Z"
   },
   {
    "duration": 920,
    "start_time": "2023-04-05T08:14:55.291Z"
   },
   {
    "duration": 916,
    "start_time": "2023-04-05T08:15:13.691Z"
   },
   {
    "duration": 852,
    "start_time": "2023-04-05T08:15:26.556Z"
   },
   {
    "duration": 907,
    "start_time": "2023-04-05T08:15:54.499Z"
   },
   {
    "duration": 46,
    "start_time": "2023-04-05T08:16:18.259Z"
   },
   {
    "duration": 28,
    "start_time": "2023-04-05T08:16:38.978Z"
   },
   {
    "duration": 826,
    "start_time": "2023-04-05T08:16:50.578Z"
   },
   {
    "duration": 1322,
    "start_time": "2023-04-05T08:17:09.281Z"
   },
   {
    "duration": 980,
    "start_time": "2023-04-05T08:17:22.225Z"
   },
   {
    "duration": 829,
    "start_time": "2023-04-05T08:17:39.186Z"
   },
   {
    "duration": 1705,
    "start_time": "2023-04-05T08:17:52.234Z"
   },
   {
    "duration": 1208,
    "start_time": "2023-04-05T08:17:58.803Z"
   },
   {
    "duration": 735,
    "start_time": "2023-04-05T08:18:04.672Z"
   },
   {
    "duration": 1996,
    "start_time": "2023-04-05T08:18:21.008Z"
   },
   {
    "duration": 843,
    "start_time": "2023-04-05T08:18:41.264Z"
   },
   {
    "duration": 725,
    "start_time": "2023-04-05T08:18:54.985Z"
   },
   {
    "duration": 736,
    "start_time": "2023-04-05T08:19:10.471Z"
   },
   {
    "duration": 927,
    "start_time": "2023-04-05T08:19:19.480Z"
   },
   {
    "duration": 840,
    "start_time": "2023-04-05T08:19:28.864Z"
   },
   {
    "duration": 779,
    "start_time": "2023-04-05T08:19:45.528Z"
   },
   {
    "duration": 865,
    "start_time": "2023-04-05T08:20:47.943Z"
   },
   {
    "duration": 681,
    "start_time": "2023-04-05T08:20:55.127Z"
   },
   {
    "duration": 1183,
    "start_time": "2023-04-05T08:21:10.823Z"
   },
   {
    "duration": 65,
    "start_time": "2023-04-05T08:21:53.039Z"
   },
   {
    "duration": 102,
    "start_time": "2023-04-05T08:22:07.006Z"
   },
   {
    "duration": 98,
    "start_time": "2023-04-05T08:22:18.206Z"
   },
   {
    "duration": 3,
    "start_time": "2023-04-05T08:25:33.146Z"
   },
   {
    "duration": 549,
    "start_time": "2023-04-05T08:32:39.061Z"
   },
   {
    "duration": 884,
    "start_time": "2023-04-05T08:32:45.325Z"
   },
   {
    "duration": 580,
    "start_time": "2023-04-05T08:32:51.725Z"
   },
   {
    "duration": 569,
    "start_time": "2023-04-05T08:36:15.339Z"
   },
   {
    "duration": 594,
    "start_time": "2023-04-05T08:36:23.715Z"
   },
   {
    "duration": 33,
    "start_time": "2023-04-05T08:37:54.274Z"
   },
   {
    "duration": 510,
    "start_time": "2023-04-05T08:38:24.793Z"
   },
   {
    "duration": 576,
    "start_time": "2023-04-05T08:38:29.529Z"
   },
   {
    "duration": 11,
    "start_time": "2023-04-05T13:34:59.678Z"
   },
   {
    "duration": 9,
    "start_time": "2023-04-05T13:35:05.710Z"
   },
   {
    "duration": 5,
    "start_time": "2023-04-05T13:35:09.974Z"
   },
   {
    "duration": 5,
    "start_time": "2023-04-05T13:39:07.859Z"
   },
   {
    "duration": 10,
    "start_time": "2023-04-05T13:39:15.082Z"
   },
   {
    "duration": 9,
    "start_time": "2023-04-05T13:39:20.578Z"
   },
   {
    "duration": 10,
    "start_time": "2023-04-05T13:39:24.618Z"
   },
   {
    "duration": 7,
    "start_time": "2023-04-05T13:39:27.290Z"
   },
   {
    "duration": 54,
    "start_time": "2023-04-06T06:00:33.260Z"
   },
   {
    "duration": 2638,
    "start_time": "2023-04-06T06:00:41.643Z"
   },
   {
    "duration": 3,
    "start_time": "2023-04-06T06:00:44.283Z"
   },
   {
    "duration": 117,
    "start_time": "2023-04-06T06:00:44.288Z"
   },
   {
    "duration": 8,
    "start_time": "2023-04-06T06:00:44.408Z"
   },
   {
    "duration": 8,
    "start_time": "2023-04-06T06:00:44.417Z"
   },
   {
    "duration": 30,
    "start_time": "2023-04-06T06:00:44.428Z"
   },
   {
    "duration": 1802,
    "start_time": "2023-04-06T06:00:44.461Z"
   },
   {
    "duration": 9815,
    "start_time": "2023-04-06T06:00:46.265Z"
   },
   {
    "duration": 404,
    "start_time": "2023-04-06T06:00:56.084Z"
   },
   {
    "duration": 6,
    "start_time": "2023-04-06T06:00:56.492Z"
   },
   {
    "duration": 9121,
    "start_time": "2023-04-06T06:00:56.501Z"
   },
   {
    "duration": 9,
    "start_time": "2023-04-06T06:01:05.624Z"
   },
   {
    "duration": 346,
    "start_time": "2023-04-06T06:01:05.636Z"
   },
   {
    "duration": 20,
    "start_time": "2023-04-06T06:01:05.984Z"
   },
   {
    "duration": 32,
    "start_time": "2023-04-06T06:01:06.006Z"
   },
   {
    "duration": 205,
    "start_time": "2023-04-06T06:01:06.040Z"
   },
   {
    "duration": 291,
    "start_time": "2023-04-06T06:01:06.248Z"
   },
   {
    "duration": 997,
    "start_time": "2023-04-06T06:01:06.542Z"
   },
   {
    "duration": 1198,
    "start_time": "2023-04-06T06:01:07.541Z"
   },
   {
    "duration": 97,
    "start_time": "2023-04-06T06:01:08.742Z"
   },
   {
    "duration": 6,
    "start_time": "2023-04-06T06:01:42.883Z"
   },
   {
    "duration": 185,
    "start_time": "2023-04-06T06:01:49.025Z"
   },
   {
    "duration": 4,
    "start_time": "2023-04-06T06:02:20.298Z"
   },
   {
    "duration": 10,
    "start_time": "2023-04-06T06:02:37.625Z"
   },
   {
    "duration": 5,
    "start_time": "2023-04-06T06:02:42.178Z"
   },
   {
    "duration": 4,
    "start_time": "2023-04-06T06:02:46.314Z"
   },
   {
    "duration": 5,
    "start_time": "2023-04-06T06:03:50.369Z"
   },
   {
    "duration": 7,
    "start_time": "2023-04-06T06:03:55.737Z"
   },
   {
    "duration": 5,
    "start_time": "2023-04-06T06:04:01.856Z"
   },
   {
    "duration": 5,
    "start_time": "2023-04-06T06:04:05.921Z"
   },
   {
    "duration": 4,
    "start_time": "2023-04-06T06:04:53.680Z"
   },
   {
    "duration": 5,
    "start_time": "2023-04-06T06:09:20.540Z"
   },
   {
    "duration": 6,
    "start_time": "2023-04-06T06:09:24.895Z"
   },
   {
    "duration": 8,
    "start_time": "2023-04-06T06:09:29.349Z"
   },
   {
    "duration": 398,
    "start_time": "2023-04-06T07:47:03.346Z"
   },
   {
    "duration": 333,
    "start_time": "2023-04-06T07:47:09.002Z"
   },
   {
    "duration": 334,
    "start_time": "2023-04-06T07:47:14.107Z"
   },
   {
    "duration": 342,
    "start_time": "2023-04-06T07:47:18.394Z"
   },
   {
    "duration": 229,
    "start_time": "2023-04-06T07:47:22.715Z"
   },
   {
    "duration": 158,
    "start_time": "2023-04-06T07:54:33.613Z"
   },
   {
    "duration": 174,
    "start_time": "2023-04-06T07:54:51.020Z"
   },
   {
    "duration": 154,
    "start_time": "2023-04-06T07:59:14.787Z"
   },
   {
    "duration": 149,
    "start_time": "2023-04-06T07:59:44.960Z"
   },
   {
    "duration": 230,
    "start_time": "2023-04-06T07:59:56.185Z"
   },
   {
    "duration": 241,
    "start_time": "2023-04-06T08:00:25.959Z"
   },
   {
    "duration": 14,
    "start_time": "2023-04-06T08:01:10.649Z"
   },
   {
    "duration": 236,
    "start_time": "2023-04-06T08:01:15.519Z"
   },
   {
    "duration": 293,
    "start_time": "2023-04-06T08:01:26.697Z"
   },
   {
    "duration": 221,
    "start_time": "2023-04-06T08:01:34.935Z"
   },
   {
    "duration": 192,
    "start_time": "2023-04-06T08:01:41.887Z"
   },
   {
    "duration": 193,
    "start_time": "2023-04-06T08:01:45.974Z"
   },
   {
    "duration": 188,
    "start_time": "2023-04-06T08:01:51.887Z"
   },
   {
    "duration": 182,
    "start_time": "2023-04-06T08:02:02.166Z"
   },
   {
    "duration": 225,
    "start_time": "2023-04-06T08:02:34.862Z"
   },
   {
    "duration": 322,
    "start_time": "2023-04-06T08:02:39.294Z"
   },
   {
    "duration": 197,
    "start_time": "2023-04-06T08:02:42.767Z"
   },
   {
    "duration": 188,
    "start_time": "2023-04-06T08:03:00.958Z"
   },
   {
    "duration": 176,
    "start_time": "2023-04-06T08:03:11.742Z"
   },
   {
    "duration": 1357,
    "start_time": "2023-04-13T11:49:27.624Z"
   }
  ],
  "kernelspec": {
   "display_name": "Python 3 (ipykernel)",
   "language": "python",
   "name": "python3"
  },
  "language_info": {
   "codemirror_mode": {
    "name": "ipython",
    "version": 3
   },
   "file_extension": ".py",
   "mimetype": "text/x-python",
   "name": "python",
   "nbconvert_exporter": "python",
   "pygments_lexer": "ipython3",
   "version": "3.9.12"
  },
  "toc": {
   "base_numbering": 1,
   "nav_menu": {},
   "number_sections": true,
   "sideBar": true,
   "skip_h1_title": true,
   "title_cell": "Содержание",
   "title_sidebar": "Contents",
   "toc_cell": true,
   "toc_position": {},
   "toc_section_display": true,
   "toc_window_display": true
  }
 },
 "nbformat": 4,
 "nbformat_minor": 2
}
