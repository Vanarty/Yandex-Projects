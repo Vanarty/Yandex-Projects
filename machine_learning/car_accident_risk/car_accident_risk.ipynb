{
 "cells": [
  {
   "cell_type": "markdown",
   "id": "3eb3ffcc",
   "metadata": {
    "toc": true
   },
   "source": [
    "<h1>Содержание:<span class=\"tocSkip\"></span></h1>\n",
    "<div class=\"toc\"><ul class=\"toc-item\"><li><span><a href=\"#Загрузка-данных-и-библиотек\" data-toc-modified-id=\"Загрузка-данных-и-библиотек-1\"><span class=\"toc-item-num\">1&nbsp;&nbsp;</span>Загрузка данных и библиотек</a></span><ul class=\"toc-item\"><li><span><a href=\"#Загрузка-библиотек\" data-toc-modified-id=\"Загрузка-библиотек-1.1\"><span class=\"toc-item-num\">1.1&nbsp;&nbsp;</span>Загрузка библиотек</a></span></li><li><span><a href=\"#Подключение-к-базе-данных.\" data-toc-modified-id=\"Подключение-к-базе-данных.-1.2\"><span class=\"toc-item-num\">1.2&nbsp;&nbsp;</span>Подключение к базе данных.</a></span></li></ul></li><li><span><a href=\"#Первичное-исследование-таблиц\" data-toc-modified-id=\"Первичное-исследование-таблиц-2\"><span class=\"toc-item-num\">2&nbsp;&nbsp;</span>Первичное исследование таблиц</a></span><ul class=\"toc-item\"><li><span><a href=\"#Таблица-case_ids\" data-toc-modified-id=\"Таблица-case_ids-2.1\"><span class=\"toc-item-num\">2.1&nbsp;&nbsp;</span>Таблица <strong>case_ids</strong></a></span></li><li><span><a href=\"#Таблица-vehicles\" data-toc-modified-id=\"Таблица-vehicles-2.2\"><span class=\"toc-item-num\">2.2&nbsp;&nbsp;</span>Таблица <strong>vehicles</strong></a></span></li><li><span><a href=\"#Таблица-collisions\" data-toc-modified-id=\"Таблица-collisions-2.3\"><span class=\"toc-item-num\">2.3&nbsp;&nbsp;</span>Таблица <strong>collisions</strong></a></span></li><li><span><a href=\"#Таблица-parties\" data-toc-modified-id=\"Таблица-parties-2.4\"><span class=\"toc-item-num\">2.4&nbsp;&nbsp;</span>Таблица <strong>parties</strong></a></span></li></ul></li><li><span><a href=\"#Cтатистический-анализ-факторов-ДТП\" data-toc-modified-id=\"Cтатистический-анализ-факторов-ДТП-3\"><span class=\"toc-item-num\">3&nbsp;&nbsp;</span>Cтатистический анализ факторов ДТП</a></span><ul class=\"toc-item\"><li><span><a href=\"#Аналитические-задачи\" data-toc-modified-id=\"Аналитические-задачи-3.1\"><span class=\"toc-item-num\">3.1&nbsp;&nbsp;</span>Аналитические задачи</a></span></li><li><span><a href=\"#В-какие-месяцы-происходит-наибольшее-количество-аварий\" data-toc-modified-id=\"В-какие-месяцы-происходит-наибольшее-количество-аварий-3.2\"><span class=\"toc-item-num\">3.2&nbsp;&nbsp;</span>В какие месяцы происходит наибольшее количество аварий</a></span></li><li><span><a href=\"#Влияет-ли-время-суток-на-количество-ДТП\" data-toc-modified-id=\"Влияет-ли-время-суток-на-количество-ДТП-3.3\"><span class=\"toc-item-num\">3.3&nbsp;&nbsp;</span>Влияет ли время суток на количество ДТП</a></span></li><li><span><a href=\"#Влияет-ли-возраст-авто-на-количество-ДТП\" data-toc-modified-id=\"Влияет-ли-возраст-авто-на-количество-ДТП-3.4\"><span class=\"toc-item-num\">3.4&nbsp;&nbsp;</span>Влияет ли возраст авто на количество ДТП</a></span></li><li><span><a href=\"#Является-ли-наличие-громкой-связи-в-авто-фактором,-влияющим-на-количество-ДТП\" data-toc-modified-id=\"Является-ли-наличие-громкой-связи-в-авто-фактором,-влияющим-на-количество-ДТП-3.5\"><span class=\"toc-item-num\">3.5&nbsp;&nbsp;</span>Является ли наличие громкой связи в авто фактором, влияющим на количество ДТП</a></span></li></ul></li><li><span><a href=\"#Модель-для-оценки-водительского-риска\" data-toc-modified-id=\"Модель-для-оценки-водительского-риска-4\"><span class=\"toc-item-num\">4&nbsp;&nbsp;</span>Модель для оценки водительского риска</a></span><ul class=\"toc-item\"><li><span><a href=\"#Выгрузка-и-описание-данных\" data-toc-modified-id=\"Выгрузка-и-описание-данных-4.1\"><span class=\"toc-item-num\">4.1&nbsp;&nbsp;</span>Выгрузка и описание данных</a></span></li><li><span><a href=\"#Обработка-дубликатов\" data-toc-modified-id=\"Обработка-дубликатов-4.2\"><span class=\"toc-item-num\">4.2&nbsp;&nbsp;</span>Обработка дубликатов</a></span></li><li><span><a href=\"#Обработка-пропусков-и-аномальных-значений-(выбросов)\" data-toc-modified-id=\"Обработка-пропусков-и-аномальных-значений-(выбросов)-4.3\"><span class=\"toc-item-num\">4.3&nbsp;&nbsp;</span>Обработка пропусков и аномальных значений (выбросов)</a></span></li><li><span><a href=\"#Выгрузка-отчета-с-анализом-данных\" data-toc-modified-id=\"Выгрузка-отчета-с-анализом-данных-4.4\"><span class=\"toc-item-num\">4.4&nbsp;&nbsp;</span>Выгрузка отчета с анализом данных</a></span></li><li><span><a href=\"#Баланс-классов\" data-toc-modified-id=\"Баланс-классов-4.5\"><span class=\"toc-item-num\">4.5&nbsp;&nbsp;</span>Баланс классов</a></span></li><li><span><a href=\"#Разбивка-данных-на-обучающую-и-тестовую-выборки\" data-toc-modified-id=\"Разбивка-данных-на-обучающую-и-тестовую-выборки-4.6\"><span class=\"toc-item-num\">4.6&nbsp;&nbsp;</span>Разбивка данных на обучающую и тестовую выборки</a></span></li><li><span><a href=\"#DummyClassifier\" data-toc-modified-id=\"DummyClassifier-4.7\"><span class=\"toc-item-num\">4.7&nbsp;&nbsp;</span>DummyClassifier</a></span></li><li><span><a href=\"#LogisticRegression\" data-toc-modified-id=\"LogisticRegression-4.8\"><span class=\"toc-item-num\">4.8&nbsp;&nbsp;</span>LogisticRegression</a></span></li><li><span><a href=\"#RandomForestClassifier\" data-toc-modified-id=\"RandomForestClassifier-4.9\"><span class=\"toc-item-num\">4.9&nbsp;&nbsp;</span>RandomForestClassifier</a></span></li><li><span><a href=\"#XGBClassifier\" data-toc-modified-id=\"XGBClassifier-4.10\"><span class=\"toc-item-num\">4.10&nbsp;&nbsp;</span>XGBClassifier</a></span></li><li><span><a href=\"#LightGBM\" data-toc-modified-id=\"LightGBM-4.11\"><span class=\"toc-item-num\">4.11&nbsp;&nbsp;</span>LightGBM</a></span></li><li><span><a href=\"#CatBoostClassifier\" data-toc-modified-id=\"CatBoostClassifier-4.12\"><span class=\"toc-item-num\">4.12&nbsp;&nbsp;</span>CatBoostClassifier</a></span></li><li><span><a href=\"#Выбор-лучшей-модели-и-проверка-на-тестовой-выборке\" data-toc-modified-id=\"Выбор-лучшей-модели-и-проверка-на-тестовой-выборке-4.13\"><span class=\"toc-item-num\">4.13&nbsp;&nbsp;</span>Выбор лучшей модели и проверка на тестовой выборке</a></span></li></ul></li><li><span><a href=\"#Анализ-важности-факторов-ДТП\" data-toc-modified-id=\"Анализ-важности-факторов-ДТП-5\"><span class=\"toc-item-num\">5&nbsp;&nbsp;</span>Анализ важности факторов ДТП</a></span></li><li><span><a href=\"#Основные-выводы\" data-toc-modified-id=\"Основные-выводы-6\"><span class=\"toc-item-num\">6&nbsp;&nbsp;</span>Основные выводы</a></span></li></ul></div>"
   ]
  },
  {
   "cell_type": "markdown",
   "id": "7728e39d",
   "metadata": {},
   "source": [
    "# Описание проекта\n",
    "\n",
    "Необходимо создать систему, которая могла бы оценить риск ДТП по выбранному маршруту движения. Под риском понимается вероятность ДТП с любым повреждением транспортного средства. Как только водитель забронировал автомобиль, сел за руль и выбрал маршрут, система должна оценить уровень риска. Если уровень риска высок, водитель увидит предупреждение и рекомендации по маршруту.\n",
    "Идея создания такой системы находится в стадии предварительного обсуждения и проработки. Чёткого алгоритма работы и подобных решений на рынке ещё не существует. Текущая задача — понять, возможно ли предсказывать ДТП, опираясь на исторические данные одного из регионов.\n",
    "\n",
    "**Идея решения задачи от заказчика:** \n",
    "1. Создать модель предсказания ДТП (целевое значение — **at_fault (виновник)** в таблице **parties**)\n",
    " - Для модели выбрать тип виновника — только машина (**car**).\n",
    " - Выбрать случаи, когда ДТП привело к любым повреждениям транспортного средства, **кроме типа SCRATCH (царапина)**.\n",
    " - Для моделирования ограничиться данными за **2012 год**.\n",
    " - Обязательное условие — учесть **фактор возраста автомобиля**.\n",
    "2. На основе модели исследовать основные факторы ДТП.\n",
    "3. Понять, помогут ли результаты моделирования и анализ важности факторов ответить на вопросы:\n",
    " - Возможно ли создать адекватную систему оценки водительского риска при выдаче авто?\n",
    " - Какие ещё факторы нужно учесть?\n",
    " - Нужно ли оборудовать автомобиль какими-либо датчиками или камерой?\n",
    "\n",
    "Заказчик предлагает поработать с базой данных по происшествиям и сформировать свои идеи создания такой системы. "
   ]
  },
  {
   "cell_type": "markdown",
   "id": "496c616e",
   "metadata": {},
   "source": [
    "## Загрузка данных и библиотек"
   ]
  },
  {
   "cell_type": "markdown",
   "id": "70d6399f",
   "metadata": {},
   "source": [
    "### Загрузка библиотек"
   ]
  },
  {
   "cell_type": "code",
   "execution_count": 1,
   "id": "eccedbcc",
   "metadata": {
    "scrolled": true
   },
   "outputs": [
    {
     "name": "stdout",
     "output_type": "stream",
     "text": [
      "Collecting pandas_profiling\n",
      "  Downloading pandas_profiling-3.6.6-py2.py3-none-any.whl (324 kB)\n",
      "\u001b[K     |████████████████████████████████| 324 kB 2.6 MB/s eta 0:00:01\n",
      "\u001b[?25hCollecting ydata-profiling\n",
      "  Downloading ydata_profiling-4.3.1-py2.py3-none-any.whl (352 kB)\n",
      "\u001b[K     |████████████████████████████████| 352 kB 84.1 MB/s eta 0:00:01\n",
      "\u001b[?25hRequirement already satisfied: tqdm<5,>=4.48.2 in /opt/conda/lib/python3.9/site-packages (from ydata-profiling->pandas_profiling) (4.61.2)\n",
      "Collecting wordcloud>=1.9.1\n",
      "  Downloading wordcloud-1.9.2-cp39-cp39-manylinux_2_17_x86_64.manylinux2014_x86_64.whl (460 kB)\n",
      "\u001b[K     |████████████████████████████████| 460 kB 59.2 MB/s eta 0:00:01\n",
      "\u001b[?25hRequirement already satisfied: numpy<1.24,>=1.16.0 in /opt/conda/lib/python3.9/site-packages (from ydata-profiling->pandas_profiling) (1.21.1)\n",
      "Requirement already satisfied: pandas!=1.4.0,<2.1,>1.1 in /opt/conda/lib/python3.9/site-packages (from ydata-profiling->pandas_profiling) (1.2.4)\n",
      "Collecting imagehash==4.3.1\n",
      "  Downloading ImageHash-4.3.1-py2.py3-none-any.whl (296 kB)\n",
      "\u001b[K     |████████████████████████████████| 296 kB 91.1 MB/s eta 0:00:01\n",
      "\u001b[?25hRequirement already satisfied: requests<3,>=2.24.0 in /opt/conda/lib/python3.9/site-packages (from ydata-profiling->pandas_profiling) (2.25.1)\n",
      "Requirement already satisfied: matplotlib<4,>=3.2 in /opt/conda/lib/python3.9/site-packages (from ydata-profiling->pandas_profiling) (3.3.4)\n",
      "Requirement already satisfied: statsmodels<1,>=0.13.2 in /opt/conda/lib/python3.9/site-packages (from ydata-profiling->pandas_profiling) (0.13.2)\n",
      "Collecting typeguard<3,>=2.13.2\n",
      "  Downloading typeguard-2.13.3-py3-none-any.whl (17 kB)\n",
      "Requirement already satisfied: phik<0.13,>=0.11.1 in /opt/conda/lib/python3.9/site-packages (from ydata-profiling->pandas_profiling) (0.12.3)\n",
      "Requirement already satisfied: scipy<1.11,>=1.4.1 in /opt/conda/lib/python3.9/site-packages (from ydata-profiling->pandas_profiling) (1.9.1)\n",
      "Requirement already satisfied: pydantic<2,>=1.8.1 in /opt/conda/lib/python3.9/site-packages (from ydata-profiling->pandas_profiling) (1.8.2)\n",
      "Collecting multimethod<2,>=1.4\n",
      "  Downloading multimethod-1.9.1-py3-none-any.whl (10 kB)\n",
      "Collecting dacite>=1.8\n",
      "  Downloading dacite-1.8.1-py3-none-any.whl (14 kB)\n",
      "Requirement already satisfied: jinja2<3.2,>=2.11.1 in /opt/conda/lib/python3.9/site-packages (from ydata-profiling->pandas_profiling) (3.0.1)\n",
      "Requirement already satisfied: PyYAML<6.1,>=5.0.0 in /opt/conda/lib/python3.9/site-packages (from ydata-profiling->pandas_profiling) (6.0)\n",
      "Collecting visions[type_image_path]==0.7.5\n",
      "  Downloading visions-0.7.5-py3-none-any.whl (102 kB)\n",
      "\u001b[K     |████████████████████████████████| 102 kB 71.9 MB/s eta 0:00:01\n",
      "\u001b[?25hCollecting htmlmin==0.1.12\n",
      "  Downloading htmlmin-0.1.12.tar.gz (19 kB)\n",
      "Requirement already satisfied: seaborn<0.13,>=0.10.1 in /opt/conda/lib/python3.9/site-packages (from ydata-profiling->pandas_profiling) (0.11.1)\n",
      "Collecting PyWavelets\n",
      "  Downloading PyWavelets-1.4.1-cp39-cp39-manylinux_2_17_x86_64.manylinux2014_x86_64.whl (6.9 MB)\n",
      "\u001b[K     |████████████████████████████████| 6.9 MB 67.6 MB/s eta 0:00:01\n",
      "\u001b[?25hRequirement already satisfied: pillow in /opt/conda/lib/python3.9/site-packages (from imagehash==4.3.1->ydata-profiling->pandas_profiling) (8.4.0)\n",
      "Requirement already satisfied: attrs>=19.3.0 in /opt/conda/lib/python3.9/site-packages (from visions[type_image_path]==0.7.5->ydata-profiling->pandas_profiling) (21.2.0)\n",
      "Collecting networkx>=2.4\n",
      "  Downloading networkx-3.1-py3-none-any.whl (2.1 MB)\n",
      "\u001b[K     |████████████████████████████████| 2.1 MB 12.5 MB/s eta 0:00:01\n",
      "\u001b[?25hCollecting tangled-up-in-unicode>=0.0.4\n",
      "  Downloading tangled_up_in_unicode-0.2.0-py3-none-any.whl (4.7 MB)\n",
      "\u001b[K     |████████████████████████████████| 4.7 MB 52.7 MB/s eta 0:00:01\n",
      "\u001b[?25hRequirement already satisfied: MarkupSafe>=2.0 in /opt/conda/lib/python3.9/site-packages (from jinja2<3.2,>=2.11.1->ydata-profiling->pandas_profiling) (2.1.1)\n",
      "Requirement already satisfied: kiwisolver>=1.0.1 in /opt/conda/lib/python3.9/site-packages (from matplotlib<4,>=3.2->ydata-profiling->pandas_profiling) (1.4.4)\n",
      "Requirement already satisfied: cycler>=0.10 in /opt/conda/lib/python3.9/site-packages (from matplotlib<4,>=3.2->ydata-profiling->pandas_profiling) (0.11.0)\n",
      "Requirement already satisfied: pyparsing!=2.0.4,!=2.1.2,!=2.1.6,>=2.0.3 in /opt/conda/lib/python3.9/site-packages (from matplotlib<4,>=3.2->ydata-profiling->pandas_profiling) (2.4.7)\n",
      "Requirement already satisfied: python-dateutil>=2.1 in /opt/conda/lib/python3.9/site-packages (from matplotlib<4,>=3.2->ydata-profiling->pandas_profiling) (2.8.1)\n",
      "Requirement already satisfied: pytz>=2017.3 in /opt/conda/lib/python3.9/site-packages (from pandas!=1.4.0,<2.1,>1.1->ydata-profiling->pandas_profiling) (2021.1)\n",
      "Requirement already satisfied: joblib>=0.14.1 in /opt/conda/lib/python3.9/site-packages (from phik<0.13,>=0.11.1->ydata-profiling->pandas_profiling) (1.3.1)\n",
      "Requirement already satisfied: typing-extensions>=3.7.4.3 in /opt/conda/lib/python3.9/site-packages (from pydantic<2,>=1.8.1->ydata-profiling->pandas_profiling) (4.3.0)\n",
      "Requirement already satisfied: six>=1.5 in /opt/conda/lib/python3.9/site-packages (from python-dateutil>=2.1->matplotlib<4,>=3.2->ydata-profiling->pandas_profiling) (1.16.0)\n",
      "Requirement already satisfied: urllib3<1.27,>=1.21.1 in /opt/conda/lib/python3.9/site-packages (from requests<3,>=2.24.0->ydata-profiling->pandas_profiling) (1.26.6)\n",
      "Requirement already satisfied: certifi>=2017.4.17 in /opt/conda/lib/python3.9/site-packages (from requests<3,>=2.24.0->ydata-profiling->pandas_profiling) (2022.6.15)\n",
      "Requirement already satisfied: idna<3,>=2.5 in /opt/conda/lib/python3.9/site-packages (from requests<3,>=2.24.0->ydata-profiling->pandas_profiling) (2.10)\n",
      "Requirement already satisfied: chardet<5,>=3.0.2 in /opt/conda/lib/python3.9/site-packages (from requests<3,>=2.24.0->ydata-profiling->pandas_profiling) (4.0.0)\n",
      "Requirement already satisfied: packaging>=21.3 in /opt/conda/lib/python3.9/site-packages (from statsmodels<1,>=0.13.2->ydata-profiling->pandas_profiling) (21.3)\n",
      "Requirement already satisfied: patsy>=0.5.2 in /opt/conda/lib/python3.9/site-packages (from statsmodels<1,>=0.13.2->ydata-profiling->pandas_profiling) (0.5.2)\n",
      "Building wheels for collected packages: htmlmin\n",
      "  Building wheel for htmlmin (setup.py) ... \u001b[?25ldone\n",
      "\u001b[?25h  Created wheel for htmlmin: filename=htmlmin-0.1.12-py3-none-any.whl size=27085 sha256=6eb72e914319e59a2fcdcafb15c163e28b6af8602eb16e4ec889cb3f247118bd\n",
      "  Stored in directory: /home/jovyan/.cache/pip/wheels/1d/05/04/c6d7d3b66539d9e659ac6dfe81e2d0fd4c1a8316cc5a403300\n",
      "Successfully built htmlmin\n",
      "Installing collected packages: tangled-up-in-unicode, PyWavelets, networkx, multimethod, visions, imagehash, wordcloud, typeguard, htmlmin, dacite, ydata-profiling, pandas-profiling\n",
      "Successfully installed PyWavelets-1.4.1 dacite-1.8.1 htmlmin-0.1.12 imagehash-4.3.1 multimethod-1.9.1 networkx-3.1 pandas-profiling-3.6.6 tangled-up-in-unicode-0.2.0 typeguard-2.13.3 visions-0.7.5 wordcloud-1.9.2 ydata-profiling-4.3.1\n",
      "Requirement already satisfied: shap in /opt/conda/lib/python3.9/site-packages (0.41.0)\n",
      "Requirement already satisfied: slicer==0.0.7 in /opt/conda/lib/python3.9/site-packages (from shap) (0.0.7)\n",
      "Requirement already satisfied: tqdm>4.25.0 in /opt/conda/lib/python3.9/site-packages (from shap) (4.61.2)\n",
      "Requirement already satisfied: cloudpickle in /opt/conda/lib/python3.9/site-packages (from shap) (2.2.1)\n",
      "Requirement already satisfied: scikit-learn in /opt/conda/lib/python3.9/site-packages (from shap) (1.2.2)\n",
      "Requirement already satisfied: pandas in /opt/conda/lib/python3.9/site-packages (from shap) (1.2.4)\n",
      "Requirement already satisfied: numpy in /opt/conda/lib/python3.9/site-packages (from shap) (1.21.1)\n",
      "Requirement already satisfied: scipy in /opt/conda/lib/python3.9/site-packages (from shap) (1.9.1)\n",
      "Requirement already satisfied: numba in /opt/conda/lib/python3.9/site-packages (from shap) (0.56.0)\n",
      "Requirement already satisfied: packaging>20.9 in /opt/conda/lib/python3.9/site-packages (from shap) (21.3)\n",
      "Requirement already satisfied: pyparsing!=3.0.5,>=2.0.2 in /opt/conda/lib/python3.9/site-packages (from packaging>20.9->shap) (2.4.7)\n",
      "Requirement already satisfied: llvmlite<0.40,>=0.39.0dev0 in /opt/conda/lib/python3.9/site-packages (from numba->shap) (0.39.0)\n",
      "Requirement already satisfied: setuptools in /opt/conda/lib/python3.9/site-packages (from numba->shap) (49.6.0.post20210108)\r\n",
      "Requirement already satisfied: python-dateutil>=2.7.3 in /opt/conda/lib/python3.9/site-packages (from pandas->shap) (2.8.1)\r\n",
      "Requirement already satisfied: pytz>=2017.3 in /opt/conda/lib/python3.9/site-packages (from pandas->shap) (2021.1)\r\n",
      "Requirement already satisfied: six>=1.5 in /opt/conda/lib/python3.9/site-packages (from python-dateutil>=2.7.3->pandas->shap) (1.16.0)\r\n",
      "Requirement already satisfied: joblib>=1.1.1 in /opt/conda/lib/python3.9/site-packages (from scikit-learn->shap) (1.3.1)\r\n",
      "Requirement already satisfied: threadpoolctl>=2.0.0 in /opt/conda/lib/python3.9/site-packages (from scikit-learn->shap) (3.1.0)\r\n"
     ]
    }
   ],
   "source": [
    "!pip install pandas_profiling\n",
    "!pip install shap\n",
    "\n",
    "import pandas as pd\n",
    "import numpy as np\n",
    "import matplotlib.pyplot as plt\n",
    "import seaborn as sns\n",
    "import shap\n",
    "import time\n",
    "from sqlalchemy import create_engine \n",
    "# from pandas_profiling import ProfileReport\n",
    "\n",
    "import statsmodels.api as sm\n",
    "\n",
    "from sklearn.dummy import DummyClassifier\n",
    "from sklearn.metrics import classification_report, confusion_matrix, ConfusionMatrixDisplay\n",
    "from sklearn.model_selection import train_test_split, GridSearchCV\n",
    "from sklearn.preprocessing import OneHotEncoder, OrdinalEncoder, StandardScaler\n",
    "from sklearn.pipeline import make_pipeline\n",
    "from sklearn.compose import make_column_transformer, make_column_selector\n",
    "from sklearn.linear_model import LogisticRegression\n",
    "from sklearn.ensemble import RandomForestClassifier\n",
    "from xgboost import XGBClassifier\n",
    "from catboost import CatBoostClassifier\n",
    "from lightgbm import LGBMClassifier"
   ]
  },
  {
   "cell_type": "code",
   "execution_count": 2,
   "id": "1dd60a41",
   "metadata": {},
   "outputs": [],
   "source": [
    "# объявление констант\n",
    "RAND_ST = 777\n",
    "\n",
    "# установка параметров для отрисовки графиков\n",
    "sns.set_context(\"paper\", rc={\"font.size\":12, \"axes.titlesize\":16, \"axes.labelsize\":13})"
   ]
  },
  {
   "cell_type": "markdown",
   "id": "b9f0317c",
   "metadata": {
    "ExecuteTime": {
     "end_time": "2022-05-05T04:58:05.692448Z",
     "start_time": "2022-05-05T04:58:05.688565Z"
    }
   },
   "source": [
    "### Подключение к базе данных. \n",
    "Для проверки доступности данных и наличия всех необходимых таблиц будет выгружено по 5 записей из каждой."
   ]
  },
  {
   "cell_type": "code",
   "execution_count": 3,
   "id": "cb0bff90",
   "metadata": {},
   "outputs": [],
   "source": [
    "# параметры подключения\n",
    "db_config = {\n",
    "'user': 'praktikum_student', # имя пользователя,\n",
    "'pwd': 'Sdf4$2;d-d30pp', # пароль,\n",
    "'host': 'rc1b-wcoijxj3yxfsf3fs.mdb.yandexcloud.net',\n",
    "'port': 6432, # порт подключения,\n",
    "'db': 'data-science-vehicle-db' # название базы данных,\n",
    "} \n",
    "\n",
    "# строка с параметрами подключения к базе данных\n",
    "connection_string = 'postgresql://{}:{}@{}:{}/{}'.format(\n",
    "    db_config['user'],\n",
    "    db_config['pwd'],\n",
    "    db_config['host'],\n",
    "    db_config['port'],\n",
    "    db_config['db'],\n",
    ")\n",
    "\n",
    "# подключение к БД\n",
    "engine = create_engine(connection_string) "
   ]
  },
  {
   "cell_type": "markdown",
   "id": "d4f356ea",
   "metadata": {},
   "source": [
    "## Первичное исследование таблиц"
   ]
  },
  {
   "cell_type": "markdown",
   "id": "bcf6c3ee",
   "metadata": {},
   "source": [
    "### Таблица **case_ids**"
   ]
  },
  {
   "cell_type": "code",
   "execution_count": 4,
   "id": "3e53a7b5",
   "metadata": {
    "scrolled": true
   },
   "outputs": [
    {
     "data": {
      "text/html": [
       "<div>\n",
       "<style scoped>\n",
       "    .dataframe tbody tr th:only-of-type {\n",
       "        vertical-align: middle;\n",
       "    }\n",
       "\n",
       "    .dataframe tbody tr th {\n",
       "        vertical-align: top;\n",
       "    }\n",
       "\n",
       "    .dataframe thead th {\n",
       "        text-align: right;\n",
       "    }\n",
       "</style>\n",
       "<table border=\"1\" class=\"dataframe\">\n",
       "  <thead>\n",
       "    <tr style=\"text-align: right;\">\n",
       "      <th></th>\n",
       "      <th>case_id</th>\n",
       "      <th>db_year</th>\n",
       "    </tr>\n",
       "  </thead>\n",
       "  <tbody>\n",
       "    <tr>\n",
       "      <th>0</th>\n",
       "      <td>0081715</td>\n",
       "      <td>2021</td>\n",
       "    </tr>\n",
       "    <tr>\n",
       "      <th>1</th>\n",
       "      <td>0726202</td>\n",
       "      <td>2021</td>\n",
       "    </tr>\n",
       "    <tr>\n",
       "      <th>2</th>\n",
       "      <td>3858022</td>\n",
       "      <td>2021</td>\n",
       "    </tr>\n",
       "    <tr>\n",
       "      <th>3</th>\n",
       "      <td>3899441</td>\n",
       "      <td>2021</td>\n",
       "    </tr>\n",
       "    <tr>\n",
       "      <th>4</th>\n",
       "      <td>3899442</td>\n",
       "      <td>2021</td>\n",
       "    </tr>\n",
       "  </tbody>\n",
       "</table>\n",
       "</div>"
      ],
      "text/plain": [
       "   case_id db_year\n",
       "0  0081715    2021\n",
       "1  0726202    2021\n",
       "2  3858022    2021\n",
       "3  3899441    2021\n",
       "4  3899442    2021"
      ]
     },
     "execution_count": 4,
     "metadata": {},
     "output_type": "execute_result"
    }
   ],
   "source": [
    "query = '''\n",
    "SELECT *\n",
    "FROM case_ids\n",
    "limit 5\n",
    "'''\n",
    "\n",
    "sample_case = pd.read_sql_query(query, con=engine) \n",
    "sample_case.head()"
   ]
  },
  {
   "cell_type": "markdown",
   "id": "2bd65601",
   "metadata": {},
   "source": [
    "### Таблица **vehicles**"
   ]
  },
  {
   "cell_type": "code",
   "execution_count": 5,
   "id": "cfb704d7",
   "metadata": {
    "scrolled": false
   },
   "outputs": [
    {
     "data": {
      "text/html": [
       "<div>\n",
       "<style scoped>\n",
       "    .dataframe tbody tr th:only-of-type {\n",
       "        vertical-align: middle;\n",
       "    }\n",
       "\n",
       "    .dataframe tbody tr th {\n",
       "        vertical-align: top;\n",
       "    }\n",
       "\n",
       "    .dataframe thead th {\n",
       "        text-align: right;\n",
       "    }\n",
       "</style>\n",
       "<table border=\"1\" class=\"dataframe\">\n",
       "  <thead>\n",
       "    <tr style=\"text-align: right;\">\n",
       "      <th></th>\n",
       "      <th>id</th>\n",
       "      <th>case_id</th>\n",
       "      <th>party_number</th>\n",
       "      <th>vehicle_type</th>\n",
       "      <th>vehicle_transmission</th>\n",
       "      <th>vehicle_age</th>\n",
       "    </tr>\n",
       "  </thead>\n",
       "  <tbody>\n",
       "    <tr>\n",
       "      <th>0</th>\n",
       "      <td>1175713</td>\n",
       "      <td>5305032</td>\n",
       "      <td>2</td>\n",
       "      <td>sedan</td>\n",
       "      <td>manual</td>\n",
       "      <td>3</td>\n",
       "    </tr>\n",
       "    <tr>\n",
       "      <th>1</th>\n",
       "      <td>1</td>\n",
       "      <td>3858022</td>\n",
       "      <td>1</td>\n",
       "      <td>sedan</td>\n",
       "      <td>auto</td>\n",
       "      <td>3</td>\n",
       "    </tr>\n",
       "    <tr>\n",
       "      <th>2</th>\n",
       "      <td>1175712</td>\n",
       "      <td>5305030</td>\n",
       "      <td>1</td>\n",
       "      <td>sedan</td>\n",
       "      <td>auto</td>\n",
       "      <td>3</td>\n",
       "    </tr>\n",
       "    <tr>\n",
       "      <th>3</th>\n",
       "      <td>1175717</td>\n",
       "      <td>5305033</td>\n",
       "      <td>3</td>\n",
       "      <td>sedan</td>\n",
       "      <td>auto</td>\n",
       "      <td>5</td>\n",
       "    </tr>\n",
       "    <tr>\n",
       "      <th>4</th>\n",
       "      <td>1175722</td>\n",
       "      <td>5305034</td>\n",
       "      <td>2</td>\n",
       "      <td>sedan</td>\n",
       "      <td>auto</td>\n",
       "      <td>5</td>\n",
       "    </tr>\n",
       "  </tbody>\n",
       "</table>\n",
       "</div>"
      ],
      "text/plain": [
       "        id  case_id  party_number vehicle_type vehicle_transmission  \\\n",
       "0  1175713  5305032             2        sedan               manual   \n",
       "1        1  3858022             1        sedan                 auto   \n",
       "2  1175712  5305030             1        sedan                 auto   \n",
       "3  1175717  5305033             3        sedan                 auto   \n",
       "4  1175722  5305034             2        sedan                 auto   \n",
       "\n",
       "   vehicle_age  \n",
       "0            3  \n",
       "1            3  \n",
       "2            3  \n",
       "3            5  \n",
       "4            5  "
      ]
     },
     "execution_count": 5,
     "metadata": {},
     "output_type": "execute_result"
    }
   ],
   "source": [
    "query = '''\n",
    "SELECT *\n",
    "FROM vehicles\n",
    "limit 5\n",
    "'''\n",
    "\n",
    "sample_vehicles = pd.read_sql_query(query, con=engine) \n",
    "sample_vehicles.head()"
   ]
  },
  {
   "cell_type": "markdown",
   "id": "b27f3208",
   "metadata": {},
   "source": [
    "| Описание                              | Обозначение в таблице | Подробнее                                                    |\n",
    "| :------------------------------------ | :-------------------- | :----------------------------------------------------------- \n",
    "| \n",
    "| Индекс текущей таблицы                | ID                    | Номер в таблице                                              |\n",
    "| Идентификационный номер в базе данных | CASE_ID               | Уникальный номер для зарегистрированного происшествия в таблице происшествий. |\n",
    "|\n",
    "| Номер участника происшествия          | PARTY_NUMBER          | От 1 до N — по числу участников происшествия\n",
    "|\n",
    "| Тип кузова                            | VEHICLE_TYPE          | MINIVAN<br />COUPE<br />SEDAN<br />HATCHBACK<br />OTHER      |\n",
    "| Тип КПП                               | VEHICLE_TRANSMISSION  | auto (Автоматическая)<br />manual (Ручная)<br />- — Not Stated (Не указано) |\n",
    "| Возраст автомобиля (в годах)          | VEHICLE_AGE           | число                                                        |"
   ]
  },
  {
   "cell_type": "markdown",
   "id": "998c040b",
   "metadata": {},
   "source": [
    "### Таблица **collisions**"
   ]
  },
  {
   "cell_type": "code",
   "execution_count": 6,
   "id": "cf0ddc59",
   "metadata": {
    "scrolled": false
   },
   "outputs": [
    {
     "data": {
      "text/html": [
       "<div>\n",
       "<style scoped>\n",
       "    .dataframe tbody tr th:only-of-type {\n",
       "        vertical-align: middle;\n",
       "    }\n",
       "\n",
       "    .dataframe tbody tr th {\n",
       "        vertical-align: top;\n",
       "    }\n",
       "\n",
       "    .dataframe thead th {\n",
       "        text-align: right;\n",
       "    }\n",
       "</style>\n",
       "<table border=\"1\" class=\"dataframe\">\n",
       "  <thead>\n",
       "    <tr style=\"text-align: right;\">\n",
       "      <th></th>\n",
       "      <th>case_id</th>\n",
       "      <th>county_city_location</th>\n",
       "      <th>county_location</th>\n",
       "      <th>distance</th>\n",
       "      <th>direction</th>\n",
       "      <th>intersection</th>\n",
       "      <th>weather_1</th>\n",
       "      <th>location_type</th>\n",
       "      <th>collision_damage</th>\n",
       "      <th>party_count</th>\n",
       "      <th>primary_collision_factor</th>\n",
       "      <th>pcf_violation_category</th>\n",
       "      <th>type_of_collision</th>\n",
       "      <th>motor_vehicle_involved_with</th>\n",
       "      <th>road_surface</th>\n",
       "      <th>road_condition_1</th>\n",
       "      <th>lighting</th>\n",
       "      <th>control_device</th>\n",
       "      <th>collision_date</th>\n",
       "      <th>collision_time</th>\n",
       "    </tr>\n",
       "  </thead>\n",
       "  <tbody>\n",
       "    <tr>\n",
       "      <th>0</th>\n",
       "      <td>4083072</td>\n",
       "      <td>1942</td>\n",
       "      <td>los angeles</td>\n",
       "      <td>528.0</td>\n",
       "      <td>north</td>\n",
       "      <td>0</td>\n",
       "      <td>cloudy</td>\n",
       "      <td>highway</td>\n",
       "      <td>small damage</td>\n",
       "      <td>2</td>\n",
       "      <td>vehicle code violation</td>\n",
       "      <td>unsafe lane change</td>\n",
       "      <td>sideswipe</td>\n",
       "      <td>other motor vehicle</td>\n",
       "      <td>wet</td>\n",
       "      <td>normal</td>\n",
       "      <td>daylight</td>\n",
       "      <td>none</td>\n",
       "      <td>2009-01-22</td>\n",
       "      <td>07:25:00</td>\n",
       "    </tr>\n",
       "    <tr>\n",
       "      <th>1</th>\n",
       "      <td>4083075</td>\n",
       "      <td>4313</td>\n",
       "      <td>santa clara</td>\n",
       "      <td>0.0</td>\n",
       "      <td>None</td>\n",
       "      <td>1</td>\n",
       "      <td>clear</td>\n",
       "      <td>None</td>\n",
       "      <td>small damage</td>\n",
       "      <td>1</td>\n",
       "      <td>vehicle code violation</td>\n",
       "      <td>improper passing</td>\n",
       "      <td>hit object</td>\n",
       "      <td>fixed object</td>\n",
       "      <td>dry</td>\n",
       "      <td>normal</td>\n",
       "      <td>dark with street lights</td>\n",
       "      <td>functioning</td>\n",
       "      <td>2009-01-03</td>\n",
       "      <td>02:26:00</td>\n",
       "    </tr>\n",
       "    <tr>\n",
       "      <th>2</th>\n",
       "      <td>4083073</td>\n",
       "      <td>0109</td>\n",
       "      <td>alameda</td>\n",
       "      <td>0.0</td>\n",
       "      <td>None</td>\n",
       "      <td>1</td>\n",
       "      <td>clear</td>\n",
       "      <td>None</td>\n",
       "      <td>scratch</td>\n",
       "      <td>2</td>\n",
       "      <td>vehicle code violation</td>\n",
       "      <td>improper turning</td>\n",
       "      <td>broadside</td>\n",
       "      <td>other motor vehicle</td>\n",
       "      <td>dry</td>\n",
       "      <td>normal</td>\n",
       "      <td>dark with street lights</td>\n",
       "      <td>functioning</td>\n",
       "      <td>2009-01-11</td>\n",
       "      <td>03:32:00</td>\n",
       "    </tr>\n",
       "    <tr>\n",
       "      <th>3</th>\n",
       "      <td>4083077</td>\n",
       "      <td>0109</td>\n",
       "      <td>alameda</td>\n",
       "      <td>0.0</td>\n",
       "      <td>None</td>\n",
       "      <td>1</td>\n",
       "      <td>clear</td>\n",
       "      <td>None</td>\n",
       "      <td>scratch</td>\n",
       "      <td>2</td>\n",
       "      <td>vehicle code violation</td>\n",
       "      <td>automobile right of way</td>\n",
       "      <td>broadside</td>\n",
       "      <td>other motor vehicle</td>\n",
       "      <td>dry</td>\n",
       "      <td>normal</td>\n",
       "      <td>daylight</td>\n",
       "      <td>functioning</td>\n",
       "      <td>2009-01-11</td>\n",
       "      <td>10:35:00</td>\n",
       "    </tr>\n",
       "    <tr>\n",
       "      <th>4</th>\n",
       "      <td>4083087</td>\n",
       "      <td>4313</td>\n",
       "      <td>santa clara</td>\n",
       "      <td>0.0</td>\n",
       "      <td>None</td>\n",
       "      <td>1</td>\n",
       "      <td>clear</td>\n",
       "      <td>None</td>\n",
       "      <td>scratch</td>\n",
       "      <td>2</td>\n",
       "      <td>vehicle code violation</td>\n",
       "      <td>speeding</td>\n",
       "      <td>rear end</td>\n",
       "      <td>other motor vehicle</td>\n",
       "      <td>dry</td>\n",
       "      <td>None</td>\n",
       "      <td>dark with street lights</td>\n",
       "      <td>functioning</td>\n",
       "      <td>2009-01-02</td>\n",
       "      <td>22:43:00</td>\n",
       "    </tr>\n",
       "  </tbody>\n",
       "</table>\n",
       "</div>"
      ],
      "text/plain": [
       "   case_id county_city_location county_location  distance direction  \\\n",
       "0  4083072                 1942     los angeles     528.0     north   \n",
       "1  4083075                 4313     santa clara       0.0      None   \n",
       "2  4083073                 0109         alameda       0.0      None   \n",
       "3  4083077                 0109         alameda       0.0      None   \n",
       "4  4083087                 4313     santa clara       0.0      None   \n",
       "\n",
       "   intersection weather_1 location_type collision_damage  party_count  \\\n",
       "0             0    cloudy       highway     small damage            2   \n",
       "1             1     clear          None     small damage            1   \n",
       "2             1     clear          None          scratch            2   \n",
       "3             1     clear          None          scratch            2   \n",
       "4             1     clear          None          scratch            2   \n",
       "\n",
       "  primary_collision_factor   pcf_violation_category type_of_collision  \\\n",
       "0   vehicle code violation       unsafe lane change         sideswipe   \n",
       "1   vehicle code violation         improper passing        hit object   \n",
       "2   vehicle code violation         improper turning         broadside   \n",
       "3   vehicle code violation  automobile right of way         broadside   \n",
       "4   vehicle code violation                 speeding          rear end   \n",
       "\n",
       "  motor_vehicle_involved_with road_surface road_condition_1  \\\n",
       "0         other motor vehicle          wet           normal   \n",
       "1                fixed object          dry           normal   \n",
       "2         other motor vehicle          dry           normal   \n",
       "3         other motor vehicle          dry           normal   \n",
       "4         other motor vehicle          dry             None   \n",
       "\n",
       "                  lighting control_device collision_date collision_time  \n",
       "0                 daylight           none     2009-01-22       07:25:00  \n",
       "1  dark with street lights    functioning     2009-01-03       02:26:00  \n",
       "2  dark with street lights    functioning     2009-01-11       03:32:00  \n",
       "3                 daylight    functioning     2009-01-11       10:35:00  \n",
       "4  dark with street lights    functioning     2009-01-02       22:43:00  "
      ]
     },
     "execution_count": 6,
     "metadata": {},
     "output_type": "execute_result"
    }
   ],
   "source": [
    "query = '''\n",
    "SELECT *\n",
    "FROM collisions\n",
    "limit 5\n",
    "'''\n",
    "\n",
    "sample_collisions = pd.read_sql_query(query, con=engine) \n",
    "sample_collisions.head()"
   ]
  },
  {
   "cell_type": "markdown",
   "id": "2cdda049",
   "metadata": {},
   "source": [
    "| Описание                                           | Обозначение в таблице       | Подробнее                                                    |\n",
    "| :------------------------------------------------- | :-------------------------- | :----------------------------------------------------------- |\n",
    "| Идентификационный Номер в базе данных              | CASE_ID                     | Уникальный номер для зарегистрированного происшествия в таблице происшествий. |\n",
    "| Дата происшествия                                  | COLLISION_DATE              | Формат год/месяц/день                                        |\n",
    "| Время происшествия                                 | COLLISION_TIME              | Формат: 24-часовой                                           |\n",
    "| Является ли место происшествие перекрёстком        | INTERSECTION                | Y — Intersection (перекрёсток)<br />N — Not Intersection (не перекрёсток)<br />-- — Not stated (Не указано) |\n",
    "| Погода                                             | WEATHER_1                   | A — Clear (Ясно)<br />B — Cloudy (Облачно)<br />C — Raining (Дождь)<br />D — Snowing (Снегопад)<br />E — Fog (Туман)<br />F — Other (Другое)<br />G — Wind (Ветер)<br />- — Not Stated (Не указано) |\n",
    "| Серьёзность происшествия                           | COLLISION_DAMAGE            | 1 — FATAL ТС (Не подлежит восстановлению)<br />2 — SEVERE DAMAGE (Серьёзный ремонт, большая часть под замену/Серьёзное повреждение капитального строения)<br />3 — MIDDLE DAMAGE (Средний ремонт, машина в целом на ходу/Строение в целом устояло)<br />4 — SMALL DAMAGE (Отдельный элемент кузова под замену/покраску)<br />0 – SCRATCH (Царапина) |\n",
    "| Основной фактор аварии                             | PRIMARY_COLL_FACTOR         | A — Code Violation (Нарушение правил ПДД)<br />B — Other Improper Driving (Другое неправильное вождение)<br />C — Other Than Driver (Кроме водителя)<br />D — Unknown (Неизвестно)<br />E — Fell Asleep (Заснул)<br />- — Not Stated (Не указано) |\n",
    "| Состояние дороги                                   | ROAD_SURFACE                | A — Dry (Сухая)<br />B — Wet (Мокрая)<br />C — Snowy or Icy (Заснеженная или обледенелая)<br />D — Slippery (Muddy, Oily, etc.) (Скользкая, грязная, маслянистая и т. д.)<br />- — Not Stated (Не указано) |\n",
    "| Освещение                                          | LIGHTING                    | A — Daylight (Дневной свет)<br />B — Dusk-Dawn (Сумерки-Рассвет)<br />C — Dark-Street Lights (Темно-Уличные фонари)<br />D — Dark-No Street Lights (Темно-Нет уличных фонарей)<br />E — Dark-Street Lights Not Functioning (Темно-Уличные фонари не работают)<br />- — Not Stated (Не указано) |\n",
    "| Номер географических районов, где произошло ДТП    | COUNTY_CITY_LOCATION        | число                                                        |\n",
    "| Названия географических районов, где произошло ДТП | COUNTY_LOCATION             | список разных названий, категориальный тип данных            |\n",
    "| Направление движения на перекрёстке                | DIRECTION                   | N — North (Север)<br />E — East (Восток)<br />S — South (Юг)<br />W — West (Запад)<br />- or blank — Not State (Не указано) |\n",
    "| Расстояние от главной дороги (метры)               | DISTANCE                    | число                                                        |\n",
    "| Тип дороги                                         | LOCATION_TYPE               | H — Highway (Шоссе)<br />I — Intersection (Перекрёсток)<br />R — Ramp (or Collector) (Рампа)<br />- or blank — Not State Highway (Не указано) |\n",
    "| Количество участников                              | PARTY_COUNT                 | число                                                        |\n",
    "| Категория нарушения                                | PCF_VIOLATION_CATEGORY      | 01 — Driving or Bicycling Under the Influence of Alcohol or Drug (Вождение или езда на велосипеде в состоянии алкогольного или наркотического опьянения)<br />02 — Impeding Traffic (Препятствие движению транспорта)<br />03 — Unsafe Speed (Превышение скорости)<br />04 — Following Too Closely (Опасное сближение)<br />05 — Wrong Side of Road (Неправильная сторона дороги)<br />06 — Improper Passing (Неправильное движение)<br />07 — Unsafe Lane Change (Небезопасная смена полосы движения)<br />08 — Improper Turning (Неправильный поворот)<br />09 — Automobile Right of Way (Автомобильное право проезда)<br />10 — Pedestrian Right of Way (Пешеходное право проезда)<br />11 — Pedestrian Violation (Нарушение пешеходами)<br />12 — Traffic Signals and Signs (Дорожные сигналы и знаки)<br />13 — Hazardous Parking (Неправильная парковка)<br />14 — Lights (Освещение)<br />15 — Brakes (Тормоза)<br />16 — Other Equipment (Другое оборудование)<br />17 — Other Hazardous Violation (Другие нарушения)<br />18 — Other Than Driver (or Pedestrian) (Кроме водителя или пешехода)<br />19 — Speeding (Скорость)<br />20 — Pedestrian dui (Нарушение пешехода)<br />21 — Unsafe Starting or Backing (Опасный старт)<br />22 — Other Improper Driving (Другое неправильное вождение)<br />23 — Pedestrian or “Other” Under the Influence of Alcohol or Drug (Пешеход или «Другой» в состоянии алкогольного или наркотического опьянения)<br />24 — Fell Asleep (Заснул)<br />00 — Unknown (Неизвестно)<br />- — Not Stated (Не указано) |\n",
    "| Тип аварии                                         | TYPE_OF_COLLISION           | A — Head-On (Лоб в лоб)<br />B — Sideswipe (Сторона)<br />C — Rear End (Столкновение задней частью)<br />D — Broadside (Боковой удар)<br />E — Hit Object (Удар объекта)<br />F — Overturned (Опрокинутый)<br />G — Vehicle (транспортное средство/ Пешеход)<br />H — Other (Другое)<br />- — Not Stated (Не указано) |\n",
    "| Дополнительные участники ДТП                       | MOTOR_VEHICLE_INVOLVED_WITH | Other motor vehicle (Другой автомобиль)<br />Fixed object (Неподвижный объект)<br />Parked motor vehicle (Припаркованный автомобиль)<br />Pedestrian (Пешеход)<br />Parked motor vehicle (Припаркованный автомобиль)<br />Bicycle (Велосипедист)<br />Non-collision (Не столкновение)<br />Other object (Другой объект)<br />Motor vehicle on other roadway (Автомобиль на другой проезжей)<br />Animal (Животное)<br />Train (Поезд) |\n",
    "| Дорожное состояние                                 | ROAD_CONDITION_1            | A — Holes, Deep Ruts (Ямы, глубокая колея)<br />B — Loose Material on Roadway (Сыпучий материал на проезжей части)<br />C — Obstruction on Roadway (Препятствие на проезжей части)<br />D — Construction or Repair Zone (Зона строительства или ремонта)<br />E — Reduced Roadway Width (Уменьшенная ширина проезжей части)<br />F — Flooded (Затоплено)<br />G — Other (Другое)<br />H — No Unusual Condition (Нет ничего необычного)<br />- — Not Stated (Не указано) |\n",
    "| Устройство управления                              | control_device              | A — Functioning (Функционирует)<br />B — Not Functioning (Не функционирует)<br />C — Obscured (Затемнённый)<br />D — None (Нет)<br />- — Not Stated (Не указано) |"
   ]
  },
  {
   "cell_type": "markdown",
   "id": "e397d134",
   "metadata": {},
   "source": [
    "### Таблица **parties**"
   ]
  },
  {
   "cell_type": "code",
   "execution_count": 7,
   "id": "68cb66ce",
   "metadata": {},
   "outputs": [
    {
     "data": {
      "text/html": [
       "<div>\n",
       "<style scoped>\n",
       "    .dataframe tbody tr th:only-of-type {\n",
       "        vertical-align: middle;\n",
       "    }\n",
       "\n",
       "    .dataframe tbody tr th {\n",
       "        vertical-align: top;\n",
       "    }\n",
       "\n",
       "    .dataframe thead th {\n",
       "        text-align: right;\n",
       "    }\n",
       "</style>\n",
       "<table border=\"1\" class=\"dataframe\">\n",
       "  <thead>\n",
       "    <tr style=\"text-align: right;\">\n",
       "      <th></th>\n",
       "      <th>id</th>\n",
       "      <th>case_id</th>\n",
       "      <th>party_number</th>\n",
       "      <th>party_type</th>\n",
       "      <th>at_fault</th>\n",
       "      <th>insurance_premium</th>\n",
       "      <th>party_sobriety</th>\n",
       "      <th>party_drug_physical</th>\n",
       "      <th>cellphone_in_use</th>\n",
       "    </tr>\n",
       "  </thead>\n",
       "  <tbody>\n",
       "    <tr>\n",
       "      <th>0</th>\n",
       "      <td>22</td>\n",
       "      <td>3899454</td>\n",
       "      <td>1</td>\n",
       "      <td>road signs</td>\n",
       "      <td>1</td>\n",
       "      <td>29.0</td>\n",
       "      <td>had not been drinking</td>\n",
       "      <td>None</td>\n",
       "      <td>0</td>\n",
       "    </tr>\n",
       "    <tr>\n",
       "      <th>1</th>\n",
       "      <td>23</td>\n",
       "      <td>3899454</td>\n",
       "      <td>2</td>\n",
       "      <td>road signs</td>\n",
       "      <td>0</td>\n",
       "      <td>7.0</td>\n",
       "      <td>had not been drinking</td>\n",
       "      <td>None</td>\n",
       "      <td>0</td>\n",
       "    </tr>\n",
       "    <tr>\n",
       "      <th>2</th>\n",
       "      <td>29</td>\n",
       "      <td>3899462</td>\n",
       "      <td>2</td>\n",
       "      <td>car</td>\n",
       "      <td>0</td>\n",
       "      <td>21.0</td>\n",
       "      <td>had not been drinking</td>\n",
       "      <td>None</td>\n",
       "      <td>0</td>\n",
       "    </tr>\n",
       "    <tr>\n",
       "      <th>3</th>\n",
       "      <td>31</td>\n",
       "      <td>3899465</td>\n",
       "      <td>2</td>\n",
       "      <td>road signs</td>\n",
       "      <td>0</td>\n",
       "      <td>24.0</td>\n",
       "      <td>had not been drinking</td>\n",
       "      <td>None</td>\n",
       "      <td>0</td>\n",
       "    </tr>\n",
       "    <tr>\n",
       "      <th>4</th>\n",
       "      <td>41</td>\n",
       "      <td>3899478</td>\n",
       "      <td>2</td>\n",
       "      <td>road bumper</td>\n",
       "      <td>0</td>\n",
       "      <td>NaN</td>\n",
       "      <td>not applicable</td>\n",
       "      <td>not applicable</td>\n",
       "      <td>0</td>\n",
       "    </tr>\n",
       "  </tbody>\n",
       "</table>\n",
       "</div>"
      ],
      "text/plain": [
       "   id  case_id  party_number   party_type  at_fault  insurance_premium  \\\n",
       "0  22  3899454             1   road signs         1               29.0   \n",
       "1  23  3899454             2   road signs         0                7.0   \n",
       "2  29  3899462             2          car         0               21.0   \n",
       "3  31  3899465             2   road signs         0               24.0   \n",
       "4  41  3899478             2  road bumper         0                NaN   \n",
       "\n",
       "          party_sobriety party_drug_physical  cellphone_in_use  \n",
       "0  had not been drinking                None                 0  \n",
       "1  had not been drinking                None                 0  \n",
       "2  had not been drinking                None                 0  \n",
       "3  had not been drinking                None                 0  \n",
       "4         not applicable      not applicable                 0  "
      ]
     },
     "execution_count": 7,
     "metadata": {},
     "output_type": "execute_result"
    }
   ],
   "source": [
    "query = '''\n",
    "SELECT *\n",
    "FROM parties\n",
    "limit 5\n",
    "'''\n",
    "\n",
    "sample_parties = pd.read_sql_query(query, con=engine) \n",
    "sample_parties.head()"
   ]
  },
  {
   "cell_type": "markdown",
   "id": "e138a4ad",
   "metadata": {},
   "source": [
    "| Описание                                                     | Обозначение в таблице | Подробнее                                                    |\n",
    "|:------------------------------------------------------------ |:--------------------- |:------------------------------------------------------------ |\n",
    "| Идентификационный номер                                      | ID                    | Уникальный идентификатор                                                                          |\n",
    "| Идентификационный номер в базе данных                        | CASE_ID               | Уникальный номер для зарегистрированного происшествия в таблице происшествий. |\n",
    "| Номер участника происшествия                                 | PARTY_NUMBER          | От 1 до N — по числу участников происшествия                 |\n",
    "| Тип участника происшествия                                   | PARTY_TYPE            | 1 — Car (Авто)<br />2 — Road bumper (Дорожные знаки)<br />3 — Building (Строения)<br />4 — Road signs (Отбойник)<br />5 — Other (Другое)<br />6 — Operator (Оператор)<br />- — Not Stated (Не указано) |\n",
    "| Виновность участника                                         | AT_FAULT              | 0/1                                                          |\n",
    "| Сумма страховки (тыс. $)                                     | INSURANCE_PREMIUM     | число                                                        |\n",
    "| Состояние участника: физическое или с учётом принятых лекарств | PARTY_DRUG_PHYSICAL   | E — Under Drug Influence (Под воздействием лекарств)<br />F — Impairment — Physical (Ухудшение состояния)<br />G — Impairment Unknown (Не известно)<br />H — Not Applicable (Не оценивался)<br />I — Sleepy/Fatigued (Сонный/Усталый)- — Not Stated (Не указано) |\n",
    "| Трезвость участника                                          | PARTY_SOBRIETY        | A — Had Not Been Drinking (Не пил)<br />B — Had Been Drinking, Under Influence (Был пьян, под влиянием)<br />C — Had Been Drinking, Not Under Influence (Был пьян, не под влиянием)<br />D — Had Been Drinking, Impairment Unknown (Был пьян, ухудшение неизвестно)<br />G — Impairment Unknown (Неизвестно ухудшение)<br />H — Not Applicable (Не оценивался)<br />- — Not Stated (Не указано) |\n",
    "| Наличие телефона в автомобиле (возможности разговаривать по громкой связи) | CELLPHONE_IN_USE      | 0/1                                                          |"
   ]
  },
  {
   "cell_type": "markdown",
   "id": "9c23db39",
   "metadata": {},
   "source": [
    "**Вывод**:\n",
    "- все 4 таблицы доступны и имеют необходимые данные для анализа и построения модели;\n",
    "- в данных присутствуют пропуски в данных (**NaN, None**);\n",
    "- в каждой таблице есть общий ключ `'case_id'`;\n",
    "- в таблице **case_ids** неверно указана схема (вместо `'Case_id'` в базе данных `'db_year'`)."
   ]
  },
  {
   "cell_type": "markdown",
   "id": "0127e272",
   "metadata": {},
   "source": [
    "##  Cтатистический анализ факторов ДТП"
   ]
  },
  {
   "cell_type": "markdown",
   "id": "8abe47c1",
   "metadata": {},
   "source": [
    "### Аналитические задачи\n",
    "\n",
    "Перед построением модели предсказания вероятности ДТП необходимо провести EDA-анализ имеющихся данных, для их более глубокого понимания и выявления взаимосвязей.\n",
    "\n",
    "Задачи исследования:\n",
    "- В **какие месяцы** (**время года**) происходит наибольшее количество происшествий;\n",
    "- Влияет ли **алкогольное опьянение** водителя на количество участников ДТП;\n",
    "- Влияет ли **алкогольное опьянение** водителя на серъезность повреждения при ДТП;\n",
    "- Влияет ли **cостояние участника: физическое или с учётом принятых лекарств** водителя на количество участников ДТП;\n",
    "- Влияет ли **cостояние участника: физическое или с учётом принятых лекарств** водителя на серъезность повреждения при ДТП;\n",
    "- Влияют ли **погодные условия** на количество ДТП;\n",
    "- Влияют ли **погодные условия** на серъезность повреждения при ДТП;\n",
    "- Влияет ли **время суток** на количество ДТП;\n",
    "- Влияет ли **время суток** на серъезность повреждения при ДТП;\n",
    "- Влияет ли **состояние дорожного покрытия** на количество ДТП;\n",
    "- Влияет ли **состояние дорожного покрытия** на серъезность повреждения при ДТП;\n",
    "- Определить самые частые **причины ДТП** (в том числе **виды нарушений**);\n",
    "- В **каких районах** (**городах** и т.д.) чаще всего происходят ДТП;\n",
    "- Влияет ли **возраст авто** на количество ДТП;\n",
    "- Влияет ли **возраст авто** на серъезность повреждения при ДТП;\n",
    "- Влияет ли определенный **тип коробки передач** автомобиля на количество ДТП;\n",
    "- Влияет ли определенный **тип коробки передач** автомобиля на серъезность повреждения при ДТП;\n",
    "- Влияет ли определенный **тип кузова автомобиля** на количество ДТП;\n",
    "- Влияет ли определенный **тип кузова автомобиля** на серъезность повреждения при ДТП;\n",
    "- Является ли **перекрёсток** важным фактором, влияющим на количество ДТП;\n",
    "- Является ли **перекрёсток** важным фактором, влияющим на серъезность повреждения при ДТП;\n",
    "- Влияет ли **расстояние до главной дороги** на количество ДТП;\n",
    "- Влияет ли **расстояние до главной дороги** на серъезность повреждения при ДТП;\n",
    "- Является ли **наличие громкой связи** в авто фактором, влияющим на количество ДТП;\n",
    "- Является ли **наличие громкой связи** в авто фактором, влияющим на серъезность повреждения при ДТП\n",
    "\n",
    "Порядок решения аналитических задач:\n",
    "- создайть sql-запрос;\n",
    "- постройть график;\n",
    "- сделайть вывод."
   ]
  },
  {
   "cell_type": "markdown",
   "id": "e01d1140",
   "metadata": {},
   "source": [
    "### В какие месяцы происходит наибольшее количество аварий"
   ]
  },
  {
   "cell_type": "code",
   "execution_count": 8,
   "id": "ce2cd159",
   "metadata": {
    "scrolled": false
   },
   "outputs": [
    {
     "data": {
      "image/png": "[encoded data removed]",
      "text/plain": [
       "<Figure size 1008x1296 with 1 Axes>"
      ]
     },
     "metadata": {
      "needs_background": "light"
     },
     "output_type": "display_data"
    }
   ],
   "source": [
    "# запрос к базе данных о количестве аварий по месяцам и годам\n",
    "query  = '''\n",
    "SELECT COUNT(*),\n",
    "       DATE_TRUNC('MONTH', collision_date)::date\n",
    "FROM collisions\n",
    "GROUP BY DATE_TRUNC('MONTH', collision_date)::date\n",
    "'''\n",
    "\n",
    "# вывод графика \n",
    "sample_count_per_year_month = pd.read_sql_query(query, con=engine)\n",
    "plt.figure(figsize=(14, 18))\n",
    "ax = sns.barplot(data=sample_count_per_year_month, x='count', y='date_trunc')\n",
    "ax.set_title('Количество аварий по дате происшествия (год-месяц)', y=1.01)\n",
    "ax.set_xlabel('Количество аварий')\n",
    "ax.set_ylabel('Год-месяц');"
   ]
  },
  {
   "cell_type": "markdown",
   "id": "ea74efe9",
   "metadata": {},
   "source": [
    "Как видно из графика:\n",
    "- до **2012** года наблюдается динамика в измененении количества аварий от месяца к месяцу, в большую и меньшую сторону;\n",
    "- c **2012** года, а именно с **мая-июня** количество аварий (происшествий) резко снизилось и к **марту 2013** года показатель достиг нулевого значения. Можно предположить что такой резкий спад связан с отсутствием данных за период с 2012 года по техническим или иным причинам.\n",
    "\n",
    "Для помесячного анализа и сравнения количества происшествий будет взят период с 2009 по 2011 года, где имеются полные данные."
   ]
  },
  {
   "cell_type": "code",
   "execution_count": 9,
   "id": "3c4f97a6",
   "metadata": {},
   "outputs": [
    {
     "data": {
      "image/png": "[encoded data removed]",
      "text/plain": [
       "<Figure size 1008x504 with 1 Axes>"
      ]
     },
     "metadata": {
      "needs_background": "light"
     },
     "output_type": "display_data"
    }
   ],
   "source": [
    "# запрос к базе данных о количестве аварий по месяцам за период 2009 - 2011гг\n",
    "query  = '''\n",
    "SELECT COUNT(*),\n",
    "       EXTRACT(MONTH FROM collision_date)::int as month\n",
    "FROM collisions\n",
    "WHERE EXTRACT(YEAR FROM collision_date) IN ('2009', '2010', '2011')\n",
    "GROUP BY month\n",
    "'''\n",
    "\n",
    "# вывод графика \n",
    "sample_count_per_month = pd.read_sql_query(query, con=engine)\n",
    "plt.figure(figsize=(14, 7))\n",
    "ax = sns.barplot(data=sample_count_per_month, x='count', y='month', orient='h', palette = ['#FF7F50'])\n",
    "ax.set_title('Количество аварий в каждом месяце за 2009-2011 г.г.', y=1.01)\n",
    "ax.set_xlabel('Количество аварий')\n",
    "ax.set_ylabel('Месяц');"
   ]
  },
  {
   "cell_type": "markdown",
   "id": "6dcf4642",
   "metadata": {},
   "source": [
    "**За 2009-2011 года:**\n",
    "- Наименьшее количество происшествий было в **феврале** и **июне** месяце;\n",
    "- Наибольшее количество происшествий было в **марте, мае, ноябре** и **декабре** месяце."
   ]
  },
  {
   "cell_type": "markdown",
   "id": "078c69bb",
   "metadata": {},
   "source": [
    "### Влияет ли время суток на количество ДТП"
   ]
  },
  {
   "cell_type": "code",
   "execution_count": 10,
   "id": "aed52293",
   "metadata": {
    "scrolled": false
   },
   "outputs": [
    {
     "data": {
      "image/png": "[encoded data removed]",
      "text/plain": [
       "<Figure size 1008x504 with 1 Axes>"
      ]
     },
     "metadata": {
      "needs_background": "light"
     },
     "output_type": "display_data"
    }
   ],
   "source": [
    "# запрос к базе данных о количестве аварий по часам за период 2009 - 2011гг\n",
    "query  = '''\n",
    "SELECT COUNT(*),\n",
    "       EXTRACT(HOUR FROM collision_time) as hour\n",
    "FROM collisions\n",
    "WHERE EXTRACT(YEAR FROM collision_date) IN ('2009', '2010', '2011')\n",
    "GROUP BY hour\n",
    "'''\n",
    "\n",
    "# вывод графика \n",
    "sample_count_per_hour = pd.read_sql_query(query, con=engine)\n",
    "sample_count_per_hour.fillna('not state', inplace=True)\n",
    "plt.figure(figsize=(14, 7))\n",
    "ax = sns.barplot(data=sample_count_per_hour, x='count', y='hour', orient='h', palette = ['#40E0D0'])\n",
    "ax.set_title('Количество аварий в зависимости от времени суток за 2009-2011 г.г.', y=1.01)\n",
    "ax.set_xlabel('Количество аварий')\n",
    "ax.set_ylabel('Час (в формате 24 час.)');"
   ]
  },
  {
   "cell_type": "markdown",
   "id": "d2d39c7d",
   "metadata": {},
   "source": [
    "**За 2009-2011 года:**\n",
    "- В утреннее и дневное время с **7:00** до **19:00** количество происшествий намного выше, чем в ночное. Пик по количеству происшествий достигается с **15:00** до **17:00**;\n",
    "- В вечернее время количество происшествий меньше, чем в дневное и постепенно снижается к полуночи **00:00**."
   ]
  },
  {
   "cell_type": "code",
   "execution_count": 11,
   "id": "d95e07dd",
   "metadata": {},
   "outputs": [
    {
     "data": {
      "image/png": "[encoded data removed]",
      "text/plain": [
       "<Figure size 1008x504 with 1 Axes>"
      ]
     },
     "metadata": {
      "needs_background": "light"
     },
     "output_type": "display_data"
    }
   ],
   "source": [
    "# запрос к базе данных о количестве аварий по часам за период 2009 - 2011гг\n",
    "query  = '''\n",
    "SELECT EXTRACT(HOUR FROM collision_time)::int as hour,\n",
    "       collision_damage as collis,\n",
    "       COUNT(case_id)\n",
    "FROM collisions\n",
    "WHERE EXTRACT(YEAR FROM collision_date) IN ('2009', '2010', '2011')\n",
    "GROUP BY hour, collis\n",
    "'''\n",
    "\n",
    "# вывод графика \n",
    "sample_count_per_hour_all = pd.read_sql_query(query, con=engine)\n",
    "plt.figure(figsize=(14, 7))\n",
    "ax = sns.lineplot(data=sample_count_per_hour_all, x='hour', y='count', hue='collis')\n",
    "ax.set_title('Серъезность аварий в зависимости от времени суток за 2009-2011 г.г.', y=1.01)\n",
    "ax.set_ylabel('Количество аварий')\n",
    "ax.set_xlabel('Час (в формате 24 час.)');"
   ]
  },
  {
   "cell_type": "markdown",
   "id": "234245b3",
   "metadata": {},
   "source": [
    "Исходя из графика за 2009-2011 гг. видно, что серъезность аварий практически не зависит от времени суток. Единственное интересное наблюдение здесь - в ночное время происшествий, связанных с **царапинами** намного меньше, чем в дневное. За счет этого количество происшествий со **средними повреждениями** в ночное время становится больше, чем с **царапинами**. "
   ]
  },
  {
   "cell_type": "markdown",
   "id": "050760e3",
   "metadata": {},
   "source": [
    "### Влияет ли возраст авто на количество ДТП"
   ]
  },
  {
   "cell_type": "code",
   "execution_count": 12,
   "id": "66a6b021",
   "metadata": {},
   "outputs": [
    {
     "data": {
      "image/png": "[encoded data removed]",
      "text/plain": [
       "<Figure size 1008x504 with 1 Axes>"
      ]
     },
     "metadata": {
      "needs_background": "light"
     },
     "output_type": "display_data"
    }
   ],
   "source": [
    "# запрос к базе данных о количестве аварий в зависимости от возраста авто \n",
    "query  = '''\n",
    "SELECT COUNT(*),\n",
    "       v.vehicle_age AS age\n",
    "FROM collisions AS c JOIN vehicles AS v\n",
    "ON c.case_id = v.case_id\n",
    "WHERE c.case_id IN (SELECT case_id FROM parties WHERE party_type = 'car')\n",
    "GROUP BY age\n",
    "'''\n",
    "\n",
    "# вывод графика \n",
    "sample_count_per_age = pd.read_sql_query(query, con=engine)\n",
    "sample_count_per_age.fillna('not state', inplace=True)\n",
    "plt.figure(figsize=(14, 7))\n",
    "ax = sns.barplot(data=sample_count_per_age, x='count', y='age', orient='h', palette = ['#FFA500'])\n",
    "ax.set_title('Количество аварий в зависимости от возраста авто ', y=1.01)\n",
    "ax.set_xlabel('Количество аварий')\n",
    "ax.set_ylabel('Возраст авто, лет');"
   ]
  },
  {
   "cell_type": "markdown",
   "id": "62f6bbdd",
   "metadata": {},
   "source": [
    "Так как неизвестно как отбирались данные по происшествиям (репрезентативно или нет) с уверенностью сказать, исходя из представленного графика, что возраст автомобиля определяет степень риска возникновения ДТП нельзя. С уверенностью можно сказать, что в имеющихся данных о происшествиях, автомобили с **возрастом до 5 лет** составлют основную группу. Максимальное количество происшествий у автомобилей с возрастом **3 года**."
   ]
  },
  {
   "cell_type": "markdown",
   "id": "54d01394",
   "metadata": {},
   "source": [
    "### Является ли наличие громкой связи в авто фактором, влияющим на количество ДТП"
   ]
  },
  {
   "cell_type": "code",
   "execution_count": 13,
   "id": "68a1f3e1",
   "metadata": {
    "scrolled": false
   },
   "outputs": [
    {
     "data": {
      "image/png": "[encoded data removed]",
      "text/plain": [
       "<Figure size 720x504 with 1 Axes>"
      ]
     },
     "metadata": {
      "needs_background": "light"
     },
     "output_type": "display_data"
    }
   ],
   "source": [
    "# запрос к базе данных о количестве аварий в зависимости от наличия громкой связи в авто\n",
    "query  = '''\n",
    "SELECT COUNT(*),\n",
    "       p.cellphone_in_use::int AS is_phone\n",
    "FROM collisions AS c JOIN parties AS p\n",
    "ON c.case_id = p.case_id\n",
    "WHERE c.case_id IN (SELECT case_id FROM parties WHERE party_type = 'car')\n",
    "GROUP BY is_phone\n",
    "'''\n",
    "\n",
    "# вывод графика \n",
    "sample_count_per_is_phone = pd.read_sql_query(query, con=engine)\n",
    "sample_count_per_is_phone.fillna('not state', inplace=True)\n",
    "plt.figure(figsize=(10, 7))\n",
    "ax = sns.barplot(data=sample_count_per_is_phone, x='is_phone', y='count')\n",
    "ax.set_title('Количество аварий в зависимости от наличия громкой связи в автомобиле', y=1.01)\n",
    "ax.set_ylabel('Количество аварий')\n",
    "ax.set_xlabel('Наличие громкой связи (1 - есть / 0 - нет)');"
   ]
  },
  {
   "cell_type": "markdown",
   "id": "7ea14aeb",
   "metadata": {},
   "source": [
    "**На столбчатой диаграмме видно, что в представленных данных:**\n",
    "- Происшествий с автомобилями, **оборудованными громкой связью, значительно ниже**;\n",
    "- Даже если происшествия, отмеченные как `'not state'`, связаны с автомобилями, которые в действительности оборудованы громкой связью, всё равно доля происшествий с такими авто **значительно ниже**."
   ]
  },
  {
   "cell_type": "markdown",
   "id": "cf67827e",
   "metadata": {},
   "source": [
    "## Модель для оценки водительского риска\n",
    "\n",
    "Согласно тех.заданию Заказчика необходимо выгрузить данные из базы, отвечающие следующим требованиям:\n",
    "- тип виновника - **car**;\n",
    "- степень повреждений ТС - **все кроме scratch**;\n",
    "- год происшествия - **2012 год**;\n",
    "- обязательное условие — учесть фактор **возраста автомобиля**."
   ]
  },
  {
   "cell_type": "markdown",
   "id": "4997b742",
   "metadata": {},
   "source": [
    "### Выгрузка и описание данных"
   ]
  },
  {
   "cell_type": "markdown",
   "id": "5e5773b7",
   "metadata": {},
   "source": [
    "Для обучения моделей необходимо взять только те признаки, которые будут доступны в момент, когда клиент (водитель) садится за руль. Остальные признаки просто не имеют смысла, так как в этот момент никаких данных о возможном происшествии быть не может. **Отобранные признаки**:\n",
    "- `'vehicle_type'` - тип кузова;\n",
    "- `'vehicle_transmission'` - тип коробки передач;\n",
    "- `'vehicle_age'` - возраст автомобиля;\n",
    "- `'control_device'` - устройство управления;\n",
    "- `'county_city_location'` - номер географических районов, где будет пролегать маршрут;\n",
    "- `'weather_1'` - информация о погоде;\n",
    "- `'collision_date'` - будет взят месяц для привязки к времени года;\n",
    "- `'collision_time'` - будет взят час дня/ночи для привязки к времени суток;\n",
    "- `'insurance_premium'` - информация о сумме страхования;\n",
    "- `'party_sobriety'` - трезвость водителя;\n",
    "- `'party_drug_physical'` - состояние водителя (информация о приеме лекарств);\n",
    "- `'cellphone_in_use'` - наличие устройства в автомобиле для разговора по громкой связи;\n",
    "- `'at_fault'` - **целевой бинарный признак**."
   ]
  },
  {
   "cell_type": "code",
   "execution_count": 14,
   "id": "900dcea7",
   "metadata": {
    "scrolled": false
   },
   "outputs": [
    {
     "name": "stdout",
     "output_type": "stream",
     "text": [
      "<class 'pandas.core.frame.DataFrame'>\n",
      "RangeIndex: 56248 entries, 0 to 56247\n",
      "Data columns (total 15 columns):\n",
      " #   Column                Non-Null Count  Dtype  \n",
      "---  ------                --------------  -----  \n",
      " 0   case_id               56248 non-null  object \n",
      " 1   party_number          56248 non-null  int64  \n",
      " 2   vehicle_type          56248 non-null  object \n",
      " 3   vehicle_transmission  55389 non-null  object \n",
      " 4   vehicle_age           54554 non-null  float64\n",
      " 5   control_device        56033 non-null  object \n",
      " 6   county_city_location  56248 non-null  int64  \n",
      " 7   weather_1             56080 non-null  object \n",
      " 8   month                 56248 non-null  int64  \n",
      " 9   hour                  56160 non-null  float64\n",
      " 10  insurance_premium     55701 non-null  float64\n",
      " 11  party_sobriety        55376 non-null  object \n",
      " 12  party_drug_physical   2857 non-null   object \n",
      " 13  cellphone_in_use      51777 non-null  float64\n",
      " 14  at_fault              56248 non-null  int64  \n",
      "dtypes: float64(4), int64(4), object(7)\n",
      "memory usage: 6.4+ MB\n"
     ]
    }
   ],
   "source": [
    "query = '''\n",
    "SELECT ci.case_id,\n",
    "       p.party_number,\n",
    "       v.vehicle_type,\n",
    "       v.vehicle_transmission,\n",
    "       v.vehicle_age,\n",
    "       c.control_device,\n",
    "       c.county_city_location::int,\n",
    "       c.weather_1,\n",
    "       EXTRACT(MONTH FROM c.collision_date)::int as month,\n",
    "       EXTRACT(HOUR FROM c.collision_time)::int as hour,\n",
    "       p.insurance_premium,\n",
    "       p.party_sobriety,\n",
    "       p.party_drug_physical,\n",
    "       p.cellphone_in_use,\n",
    "       p.at_fault\n",
    "FROM case_ids AS ci\n",
    "    JOIN collisions AS c ON ci.case_id = c.case_id\n",
    "    JOIN parties AS p ON ci.case_id = p.case_id\n",
    "    JOIN vehicles AS v ON ci.case_id = v.case_id AND v.party_number = p.party_number\n",
    "WHERE p.party_type = 'car'\n",
    "      AND ci.case_id IN (SELECT case_id FROM collisions WHERE collision_damage != 'scratch' AND collision_date BETWEEN '2012-01-01' AND '2012-12-31')\n",
    "'''\n",
    "df = pd.read_sql_query(query, con=engine)\n",
    "df.info()"
   ]
  },
  {
   "cell_type": "code",
   "execution_count": 15,
   "id": "ed7a6d98",
   "metadata": {
    "scrolled": true
   },
   "outputs": [
    {
     "data": {
      "text/html": [
       "<div>\n",
       "<style scoped>\n",
       "    .dataframe tbody tr th:only-of-type {\n",
       "        vertical-align: middle;\n",
       "    }\n",
       "\n",
       "    .dataframe tbody tr th {\n",
       "        vertical-align: top;\n",
       "    }\n",
       "\n",
       "    .dataframe thead th {\n",
       "        text-align: right;\n",
       "    }\n",
       "</style>\n",
       "<table border=\"1\" class=\"dataframe\">\n",
       "  <thead>\n",
       "    <tr style=\"text-align: right;\">\n",
       "      <th></th>\n",
       "      <th>count</th>\n",
       "      <th>mean</th>\n",
       "      <th>std</th>\n",
       "      <th>min</th>\n",
       "      <th>25%</th>\n",
       "      <th>50%</th>\n",
       "      <th>75%</th>\n",
       "      <th>max</th>\n",
       "    </tr>\n",
       "  </thead>\n",
       "  <tbody>\n",
       "    <tr>\n",
       "      <th>party_number</th>\n",
       "      <td>56248.0</td>\n",
       "      <td>1.527432</td>\n",
       "      <td>0.662507</td>\n",
       "      <td>1.0</td>\n",
       "      <td>1.0</td>\n",
       "      <td>1.0</td>\n",
       "      <td>2.0</td>\n",
       "      <td>9.0</td>\n",
       "    </tr>\n",
       "    <tr>\n",
       "      <th>vehicle_age</th>\n",
       "      <td>54554.0</td>\n",
       "      <td>4.856472</td>\n",
       "      <td>3.234503</td>\n",
       "      <td>0.0</td>\n",
       "      <td>3.0</td>\n",
       "      <td>4.0</td>\n",
       "      <td>7.0</td>\n",
       "      <td>161.0</td>\n",
       "    </tr>\n",
       "    <tr>\n",
       "      <th>county_city_location</th>\n",
       "      <td>56248.0</td>\n",
       "      <td>2844.491217</td>\n",
       "      <td>1293.948517</td>\n",
       "      <td>100.0</td>\n",
       "      <td>1942.0</td>\n",
       "      <td>3009.0</td>\n",
       "      <td>3701.0</td>\n",
       "      <td>5802.0</td>\n",
       "    </tr>\n",
       "    <tr>\n",
       "      <th>month</th>\n",
       "      <td>56248.0</td>\n",
       "      <td>3.233786</td>\n",
       "      <td>1.808481</td>\n",
       "      <td>1.0</td>\n",
       "      <td>2.0</td>\n",
       "      <td>3.0</td>\n",
       "      <td>4.0</td>\n",
       "      <td>12.0</td>\n",
       "    </tr>\n",
       "    <tr>\n",
       "      <th>hour</th>\n",
       "      <td>56160.0</td>\n",
       "      <td>13.318145</td>\n",
       "      <td>5.526344</td>\n",
       "      <td>0.0</td>\n",
       "      <td>10.0</td>\n",
       "      <td>14.0</td>\n",
       "      <td>17.0</td>\n",
       "      <td>23.0</td>\n",
       "    </tr>\n",
       "    <tr>\n",
       "      <th>insurance_premium</th>\n",
       "      <td>55701.0</td>\n",
       "      <td>37.607170</td>\n",
       "      <td>16.328721</td>\n",
       "      <td>0.0</td>\n",
       "      <td>24.0</td>\n",
       "      <td>34.0</td>\n",
       "      <td>49.0</td>\n",
       "      <td>105.0</td>\n",
       "    </tr>\n",
       "    <tr>\n",
       "      <th>cellphone_in_use</th>\n",
       "      <td>51777.0</td>\n",
       "      <td>0.020357</td>\n",
       "      <td>0.141218</td>\n",
       "      <td>0.0</td>\n",
       "      <td>0.0</td>\n",
       "      <td>0.0</td>\n",
       "      <td>0.0</td>\n",
       "      <td>1.0</td>\n",
       "    </tr>\n",
       "    <tr>\n",
       "      <th>at_fault</th>\n",
       "      <td>56248.0</td>\n",
       "      <td>0.504427</td>\n",
       "      <td>0.499985</td>\n",
       "      <td>0.0</td>\n",
       "      <td>0.0</td>\n",
       "      <td>1.0</td>\n",
       "      <td>1.0</td>\n",
       "      <td>1.0</td>\n",
       "    </tr>\n",
       "  </tbody>\n",
       "</table>\n",
       "</div>"
      ],
      "text/plain": [
       "                        count         mean          std    min     25%  \\\n",
       "party_number          56248.0     1.527432     0.662507    1.0     1.0   \n",
       "vehicle_age           54554.0     4.856472     3.234503    0.0     3.0   \n",
       "county_city_location  56248.0  2844.491217  1293.948517  100.0  1942.0   \n",
       "month                 56248.0     3.233786     1.808481    1.0     2.0   \n",
       "hour                  56160.0    13.318145     5.526344    0.0    10.0   \n",
       "insurance_premium     55701.0    37.607170    16.328721    0.0    24.0   \n",
       "cellphone_in_use      51777.0     0.020357     0.141218    0.0     0.0   \n",
       "at_fault              56248.0     0.504427     0.499985    0.0     0.0   \n",
       "\n",
       "                         50%     75%     max  \n",
       "party_number             1.0     2.0     9.0  \n",
       "vehicle_age              4.0     7.0   161.0  \n",
       "county_city_location  3009.0  3701.0  5802.0  \n",
       "month                    3.0     4.0    12.0  \n",
       "hour                    14.0    17.0    23.0  \n",
       "insurance_premium       34.0    49.0   105.0  \n",
       "cellphone_in_use         0.0     0.0     1.0  \n",
       "at_fault                 1.0     1.0     1.0  "
      ]
     },
     "execution_count": 15,
     "metadata": {},
     "output_type": "execute_result"
    }
   ],
   "source": [
    "df.describe().transpose()"
   ]
  },
  {
   "cell_type": "code",
   "execution_count": 16,
   "id": "250f220b",
   "metadata": {
    "scrolled": true
   },
   "outputs": [
    {
     "data": {
      "text/html": [
       "<div>\n",
       "<style scoped>\n",
       "    .dataframe tbody tr th:only-of-type {\n",
       "        vertical-align: middle;\n",
       "    }\n",
       "\n",
       "    .dataframe tbody tr th {\n",
       "        vertical-align: top;\n",
       "    }\n",
       "\n",
       "    .dataframe thead th {\n",
       "        text-align: right;\n",
       "    }\n",
       "</style>\n",
       "<table border=\"1\" class=\"dataframe\">\n",
       "  <thead>\n",
       "    <tr style=\"text-align: right;\">\n",
       "      <th></th>\n",
       "      <th>count</th>\n",
       "      <th>unique</th>\n",
       "      <th>top</th>\n",
       "      <th>freq</th>\n",
       "    </tr>\n",
       "  </thead>\n",
       "  <tbody>\n",
       "    <tr>\n",
       "      <th>case_id</th>\n",
       "      <td>56248</td>\n",
       "      <td>44832</td>\n",
       "      <td>5542351</td>\n",
       "      <td>8</td>\n",
       "    </tr>\n",
       "    <tr>\n",
       "      <th>vehicle_type</th>\n",
       "      <td>56248</td>\n",
       "      <td>3</td>\n",
       "      <td>sedan</td>\n",
       "      <td>37180</td>\n",
       "    </tr>\n",
       "    <tr>\n",
       "      <th>vehicle_transmission</th>\n",
       "      <td>55389</td>\n",
       "      <td>2</td>\n",
       "      <td>manual</td>\n",
       "      <td>29318</td>\n",
       "    </tr>\n",
       "    <tr>\n",
       "      <th>control_device</th>\n",
       "      <td>56033</td>\n",
       "      <td>4</td>\n",
       "      <td>none</td>\n",
       "      <td>37578</td>\n",
       "    </tr>\n",
       "    <tr>\n",
       "      <th>weather_1</th>\n",
       "      <td>56080</td>\n",
       "      <td>7</td>\n",
       "      <td>clear</td>\n",
       "      <td>45092</td>\n",
       "    </tr>\n",
       "    <tr>\n",
       "      <th>party_sobriety</th>\n",
       "      <td>55376</td>\n",
       "      <td>6</td>\n",
       "      <td>had not been drinking</td>\n",
       "      <td>48577</td>\n",
       "    </tr>\n",
       "    <tr>\n",
       "      <th>party_drug_physical</th>\n",
       "      <td>2857</td>\n",
       "      <td>5</td>\n",
       "      <td>G</td>\n",
       "      <td>1238</td>\n",
       "    </tr>\n",
       "  </tbody>\n",
       "</table>\n",
       "</div>"
      ],
      "text/plain": [
       "                      count unique                    top   freq\n",
       "case_id               56248  44832                5542351      8\n",
       "vehicle_type          56248      3                  sedan  37180\n",
       "vehicle_transmission  55389      2                 manual  29318\n",
       "control_device        56033      4                   none  37578\n",
       "weather_1             56080      7                  clear  45092\n",
       "party_sobriety        55376      6  had not been drinking  48577\n",
       "party_drug_physical    2857      5                      G   1238"
      ]
     },
     "execution_count": 16,
     "metadata": {},
     "output_type": "execute_result"
    }
   ],
   "source": [
    "df.describe(include=['O']).transpose()"
   ]
  },
  {
   "cell_type": "markdown",
   "id": "e3f8ec00",
   "metadata": {},
   "source": [
    "### Обработка дубликатов"
   ]
  },
  {
   "cell_type": "code",
   "execution_count": 17,
   "id": "6f912e76",
   "metadata": {},
   "outputs": [
    {
     "data": {
      "text/plain": [
       "0"
      ]
     },
     "execution_count": 17,
     "metadata": {},
     "output_type": "execute_result"
    }
   ],
   "source": [
    "df.duplicated().sum()"
   ]
  },
  {
   "cell_type": "markdown",
   "id": "2bbed6c4",
   "metadata": {},
   "source": [
    "### Обработка пропусков и аномальных значений (выбросов)"
   ]
  },
  {
   "cell_type": "code",
   "execution_count": 18,
   "id": "b30c2e51",
   "metadata": {},
   "outputs": [
    {
     "name": "stdout",
     "output_type": "stream",
     "text": [
      "Процент (%) пропусков по каждой колонке:\n"
     ]
    },
    {
     "data": {
      "text/plain": [
       "case_id                  0.00\n",
       "party_number             0.00\n",
       "vehicle_type             0.00\n",
       "vehicle_transmission     1.53\n",
       "vehicle_age              3.01\n",
       "control_device           0.38\n",
       "county_city_location     0.00\n",
       "weather_1                0.30\n",
       "month                    0.00\n",
       "hour                     0.16\n",
       "insurance_premium        0.97\n",
       "party_sobriety           1.55\n",
       "party_drug_physical     94.92\n",
       "cellphone_in_use         7.95\n",
       "at_fault                 0.00\n",
       "dtype: float64"
      ]
     },
     "execution_count": 18,
     "metadata": {},
     "output_type": "execute_result"
    }
   ],
   "source": [
    "print('Процент (%) пропусков по каждой колонке:')\n",
    "round(df.isna().mean()*100, 2)"
   ]
  },
  {
   "cell_type": "code",
   "execution_count": 19,
   "id": "c6a492e7",
   "metadata": {},
   "outputs": [],
   "source": [
    "# удаление происшествий с автомобилями старше 30 лет\n",
    "df = df[df['vehicle_age'] <= 30]"
   ]
  },
  {
   "cell_type": "markdown",
   "id": "5326f8a7",
   "metadata": {},
   "source": [
    "Заменим отсутствующие значения на значение - 'unknown' в случае категориальных признаков и на '0' в случае с численными."
   ]
  },
  {
   "cell_type": "code",
   "execution_count": 20,
   "id": "f613ceba",
   "metadata": {
    "scrolled": true
   },
   "outputs": [
    {
     "data": {
      "text/plain": [
       "case_id                 0.0\n",
       "party_number            0.0\n",
       "vehicle_type            0.0\n",
       "vehicle_transmission    0.0\n",
       "vehicle_age             0.0\n",
       "control_device          0.0\n",
       "county_city_location    0.0\n",
       "weather_1               0.0\n",
       "month                   0.0\n",
       "hour                    0.0\n",
       "insurance_premium       0.0\n",
       "party_sobriety          0.0\n",
       "party_drug_physical     0.0\n",
       "cellphone_in_use        0.0\n",
       "at_fault                0.0\n",
       "dtype: float64"
      ]
     },
     "execution_count": 20,
     "metadata": {},
     "output_type": "execute_result"
    }
   ],
   "source": [
    "df['vehicle_transmission'] = df['vehicle_transmission'].fillna('unknown')\n",
    "df['insurance_premium'] = df['insurance_premium'].fillna(-1)\n",
    "df['vehicle_age'] = df['vehicle_age'].fillna(-1)\n",
    "df['party_sobriety'] = df['party_sobriety'].fillna('unknown')\n",
    "df['control_device'] = df['control_device'].fillna('unknown')\n",
    "df['weather_1'] = df['weather_1'].fillna('unknown')\n",
    "df['party_drug_physical'] = df['party_drug_physical'].fillna('unknown')\n",
    "df['cellphone_in_use'] = df['cellphone_in_use'].fillna(-1)\n",
    "df['hour'] = df['hour'].fillna(-1)\n",
    "round(df.isna().mean()*100, 2)"
   ]
  },
  {
   "cell_type": "markdown",
   "id": "5fe931dc",
   "metadata": {},
   "source": [
    "### Выгрузка отчета с анализом данных"
   ]
  },
  {
   "cell_type": "code",
   "execution_count": 21,
   "id": "10264324",
   "metadata": {
    "scrolled": true
   },
   "outputs": [],
   "source": [
    "# сохранение отчета с анализом данных в отдельный файл .html\n",
    "# ProfileReport(df, title=\"Pandas Profiling Report\").to_file('data_report.html')"
   ]
  },
  {
   "cell_type": "markdown",
   "id": "6400133e",
   "metadata": {},
   "source": [
    "### Баланс классов\n",
    "\n",
    "Проверим баланс классов по целевому признаку **at_fault**."
   ]
  },
  {
   "cell_type": "code",
   "execution_count": 22,
   "id": "53314163",
   "metadata": {},
   "outputs": [
    {
     "data": {
      "text/plain": [
       "1    0.504839\n",
       "0    0.495161\n",
       "Name: at_fault, dtype: float64"
      ]
     },
     "execution_count": 22,
     "metadata": {},
     "output_type": "execute_result"
    }
   ],
   "source": [
    "df['at_fault'].value_counts(normalize=True)"
   ]
  },
  {
   "cell_type": "markdown",
   "id": "06760deb",
   "metadata": {},
   "source": [
    "В данных присустсвует небольшой дисбаланс в сторону **положительного класса**."
   ]
  },
  {
   "cell_type": "markdown",
   "id": "266d0cd2",
   "metadata": {},
   "source": [
    "### Разбивка данных на обучающую и тестовую выборки\n",
    "\n",
    "Разделим данные на обучающие и тестовые выборки."
   ]
  },
  {
   "cell_type": "code",
   "execution_count": 23,
   "id": "86a16bbe",
   "metadata": {},
   "outputs": [],
   "source": [
    "features = df.drop(['at_fault', 'party_number', 'case_id'], axis=1)\n",
    "target = df['at_fault']\n",
    "\n",
    "X_train, X_test, y_train, y_test = train_test_split(\n",
    "    features, \n",
    "    target, \n",
    "    test_size=.25, \n",
    "    random_state=RAND_ST, \n",
    "    stratify=target\n",
    ")"
   ]
  },
  {
   "cell_type": "code",
   "execution_count": 24,
   "id": "5b59d1c3",
   "metadata": {
    "scrolled": true
   },
   "outputs": [
    {
     "name": "stdout",
     "output_type": "stream",
     "text": [
      "Размер обучающей выборки: (40914, 12), (40914,)\n",
      "Размер тестовой выборки: (13638, 12), (13638,)\n"
     ]
    }
   ],
   "source": [
    "# проверка после разбиения данных\n",
    "print(f'Размер обучающей выборки: {X_train.shape}, {y_train.shape}')\n",
    "print(f'Размер тестовой выборки: {X_test.shape}, {y_test.shape}')"
   ]
  },
  {
   "cell_type": "markdown",
   "id": "41ab102c",
   "metadata": {},
   "source": [
    "### DummyClassifier\n",
    "\n",
    "В качестве бейзлайн-модели будет использована константная модель **DummyClassifier**."
   ]
  },
  {
   "cell_type": "code",
   "execution_count": 25,
   "id": "18ac5562",
   "metadata": {
    "scrolled": true
   },
   "outputs": [
    {
     "data": {
      "text/html": [
       "<div>\n",
       "<style scoped>\n",
       "    .dataframe tbody tr th:only-of-type {\n",
       "        vertical-align: middle;\n",
       "    }\n",
       "\n",
       "    .dataframe tbody tr th {\n",
       "        vertical-align: top;\n",
       "    }\n",
       "\n",
       "    .dataframe thead th {\n",
       "        text-align: right;\n",
       "    }\n",
       "</style>\n",
       "<table border=\"1\" class=\"dataframe\">\n",
       "  <thead>\n",
       "    <tr style=\"text-align: right;\">\n",
       "      <th></th>\n",
       "      <th>precision</th>\n",
       "      <th>recall</th>\n",
       "      <th>f1-score</th>\n",
       "      <th>support</th>\n",
       "    </tr>\n",
       "  </thead>\n",
       "  <tbody>\n",
       "    <tr>\n",
       "      <th>0</th>\n",
       "      <td>0.0000</td>\n",
       "      <td>0.0000</td>\n",
       "      <td>0.0000</td>\n",
       "      <td>20259.0000</td>\n",
       "    </tr>\n",
       "    <tr>\n",
       "      <th>1</th>\n",
       "      <td>0.5048</td>\n",
       "      <td>1.0000</td>\n",
       "      <td>0.6710</td>\n",
       "      <td>20655.0000</td>\n",
       "    </tr>\n",
       "    <tr>\n",
       "      <th>accuracy</th>\n",
       "      <td>0.5048</td>\n",
       "      <td>0.5048</td>\n",
       "      <td>0.5048</td>\n",
       "      <td>0.5048</td>\n",
       "    </tr>\n",
       "    <tr>\n",
       "      <th>macro avg</th>\n",
       "      <td>0.2524</td>\n",
       "      <td>0.5000</td>\n",
       "      <td>0.3355</td>\n",
       "      <td>40914.0000</td>\n",
       "    </tr>\n",
       "    <tr>\n",
       "      <th>weighted avg</th>\n",
       "      <td>0.2549</td>\n",
       "      <td>0.5048</td>\n",
       "      <td>0.3387</td>\n",
       "      <td>40914.0000</td>\n",
       "    </tr>\n",
       "  </tbody>\n",
       "</table>\n",
       "</div>"
      ],
      "text/plain": [
       "              precision  recall  f1-score     support\n",
       "0                0.0000  0.0000    0.0000  20259.0000\n",
       "1                0.5048  1.0000    0.6710  20655.0000\n",
       "accuracy         0.5048  0.5048    0.5048      0.5048\n",
       "macro avg        0.2524  0.5000    0.3355  40914.0000\n",
       "weighted avg     0.2549  0.5048    0.3387  40914.0000"
      ]
     },
     "execution_count": 25,
     "metadata": {},
     "output_type": "execute_result"
    }
   ],
   "source": [
    "model_dc = DummyClassifier(strategy='most_frequent')\n",
    "model_dc.fit(X_train, y_train)\n",
    "pred_dc = model_dc.predict(X_train)\n",
    "\n",
    "report_dc = classification_report(y_train, pred_dc, output_dict=True, zero_division=0)\n",
    "\n",
    "# словарь для вывода итоговой таблицы по всем моделям\n",
    "results = {} \n",
    "results['Dummy Classifier (most frequent)'] = report_dc['weighted avg']['f1-score']\n",
    "\n",
    "pd.DataFrame(report_dc).round(decimals=4).transpose()"
   ]
  },
  {
   "cell_type": "markdown",
   "id": "86f6d00b",
   "metadata": {},
   "source": [
    "**Вывод по качеству модели**:\n",
    "Качество бейзлайн модели, как и ожидалось, низкое."
   ]
  },
  {
   "cell_type": "markdown",
   "id": "45c26ecc",
   "metadata": {},
   "source": [
    "### LogisticRegression\n",
    "\n",
    "Перед обучением моделей числовые данные будут отмасштабированы с помощью **StandardScaler**, а категориальные закодированы   с **OneHotEncoder**. На всех этапах будет применен **Pipeline**."
   ]
  },
  {
   "cell_type": "code",
   "execution_count": 26,
   "id": "14b4d6e9",
   "metadata": {},
   "outputs": [],
   "source": [
    "# создание трансформера для преобразования данных\n",
    "transformer_lr = make_column_transformer(\n",
    "    (\n",
    "        OneHotEncoder( \n",
    "            handle_unknown='error',\n",
    "            drop='first'\n",
    "        ), make_column_selector(dtype_include=['category', 'object'])\n",
    "    ),\n",
    "    (\n",
    "        StandardScaler(\n",
    "        ), make_column_selector(dtype_include='number')\n",
    "    ),\n",
    "    remainder='passthrough'\n",
    ")\n",
    "\n",
    "# пайплайн обучения логистической регрессии\n",
    "pipe_lr = make_pipeline(\n",
    "    transformer_lr,\n",
    "    LogisticRegression(\n",
    "        class_weight='balanced',\n",
    "        random_state=RAND_ST,\n",
    "        n_jobs=-1\n",
    "    )\n",
    ")"
   ]
  },
  {
   "cell_type": "markdown",
   "id": "665ed646",
   "metadata": {},
   "source": [
    "Гиперепараметры будут подобраны с помощью **GridSearchCV** с кросс-валидацией на 5 фолдах."
   ]
  },
  {
   "cell_type": "code",
   "execution_count": 27,
   "id": "5ddb1268",
   "metadata": {},
   "outputs": [
    {
     "name": "stdout",
     "output_type": "stream",
     "text": [
      "Fitting 5 folds for each of 1 candidates, totalling 5 fits\n",
      "{'logisticregression__C': 0.0001, 'logisticregression__max_iter': 500, 'logisticregression__solver': 'saga'}\n",
      "0.618839900239313\n",
      "CPU times: user 3.73 s, sys: 425 ms, total: 4.16 s\n",
      "Wall time: 4.33 s\n"
     ]
    }
   ],
   "source": [
    "%%time\n",
    "\n",
    "# сетка гиперпараметров для поиска\n",
    "param_grid = {\n",
    "    'logisticregression__solver': ['saga'], # ['newton-cg', 'lbfgs', 'liblinear', 'sag', 'saga'],\n",
    "    'logisticregression__C': [0.0001], # np.arange(0.0001, 0.001, 0.0002),\n",
    "    'logisticregression__max_iter': [500] # [500, 1000]\n",
    "}\n",
    "\n",
    "# параметры GridSearch\n",
    "grid_lr = GridSearchCV(\n",
    "    pipe_lr,\n",
    "    param_grid,\n",
    "    scoring='f1',\n",
    "    verbose=1\n",
    ")\n",
    "\n",
    "# обучение линейной регрессии\n",
    "grid_lr.fit(X_train, y_train)\n",
    "\n",
    "# сохранение метрики F1 на кросс-валидации\n",
    "results['Logistic Regression'] = grid_lr.best_score_\n",
    "\n",
    "# вывод показателей и лучшей модели\n",
    "print(grid_lr.best_params_)\n",
    "print(grid_lr.best_score_)"
   ]
  },
  {
   "cell_type": "markdown",
   "id": "4d259299",
   "metadata": {},
   "source": [
    "### RandomForestClassifier"
   ]
  },
  {
   "cell_type": "code",
   "execution_count": 28,
   "id": "bb40ab37",
   "metadata": {},
   "outputs": [],
   "source": [
    "# для моделей, основанных на деревьях решений \n",
    "ensemble_transformer = make_column_transformer(\n",
    "    (\n",
    "        OrdinalEncoder(\n",
    "            handle_unknown='use_encoded_value',\n",
    "            unknown_value=-1\n",
    "        ), make_column_selector(dtype_include=['category', 'object'])\n",
    "    ),\n",
    "    remainder='passthrough'\n",
    ")\n",
    "\n",
    "# пайплайн обучения модели случайного леса\n",
    "pipe_rf = make_pipeline(\n",
    "    ensemble_transformer,\n",
    "    RandomForestClassifier(\n",
    "        random_state=RAND_ST,\n",
    "        n_jobs=-1,\n",
    "        class_weight='balanced'\n",
    "    )\n",
    ")"
   ]
  },
  {
   "cell_type": "code",
   "execution_count": 29,
   "id": "c09d7cb0",
   "metadata": {
    "scrolled": true
   },
   "outputs": [
    {
     "name": "stdout",
     "output_type": "stream",
     "text": [
      "Fitting 5 folds for each of 1 candidates, totalling 5 fits\n",
      "{'randomforestclassifier__max_depth': 9, 'randomforestclassifier__n_estimators': 110}\n",
      "0.6319239810136791\n",
      "CPU times: user 15 s, sys: 23.5 ms, total: 15.1 s\n",
      "Wall time: 15.1 s\n"
     ]
    }
   ],
   "source": [
    "%%time\n",
    "\n",
    "# сетка гиперпараметров для поиска\n",
    "param_grid = {\n",
    "    'randomforestclassifier__n_estimators': [110], # np.arange(50, 150, 30),\n",
    "    'randomforestclassifier__max_depth': [9] # np.arange(1, 20, 2),\n",
    "}\n",
    "\n",
    "# параметры GridSearch\n",
    "grid_rf = GridSearchCV(\n",
    "    pipe_rf,\n",
    "    param_grid,\n",
    "    scoring='f1',\n",
    "    verbose=1,\n",
    ")\n",
    "\n",
    "# обучение линейной регрессии\n",
    "grid_rf.fit(X_train, y_train)\n",
    "\n",
    "# сохранение метрики F1 на кросс-валидации\n",
    "results['Random Forest Classifier'] = grid_rf.best_score_\n",
    "\n",
    "# вывод показателей и лучшей модели\n",
    "print(grid_rf.best_params_)\n",
    "print(grid_rf.best_score_)"
   ]
  },
  {
   "cell_type": "markdown",
   "id": "51060d92",
   "metadata": {},
   "source": [
    "### XGBClassifier"
   ]
  },
  {
   "cell_type": "code",
   "execution_count": 30,
   "id": "93a88cff",
   "metadata": {},
   "outputs": [],
   "source": [
    "# пайплайн обучения модели XGBoost\n",
    "pipe_xgb = make_pipeline(\n",
    "    ensemble_transformer,\n",
    "    XGBClassifier(\n",
    "        eval_metric='mlogloss',\n",
    "        use_label_encoder=False,\n",
    "        random_state=RAND_ST,\n",
    "        n_jobs=-1\n",
    "    )\n",
    ")"
   ]
  },
  {
   "cell_type": "code",
   "execution_count": 31,
   "id": "2373fb80",
   "metadata": {},
   "outputs": [
    {
     "name": "stdout",
     "output_type": "stream",
     "text": [
      "Fitting 5 folds for each of 1 candidates, totalling 5 fits\n",
      "{'xgbclassifier__learning_rate': 0.2, 'xgbclassifier__max_depth': 3, 'xgbclassifier__n_estimators': 150}\n",
      "0.6377847996353815\n",
      "CPU times: user 7min 15s, sys: 4.43 s, total: 7min 20s\n",
      "Wall time: 7min 23s\n"
     ]
    }
   ],
   "source": [
    "%%time\n",
    "\n",
    "# сетка гиперпараметров для поиска\n",
    "param_grid = {\n",
    "    'xgbclassifier__max_depth': [3], #[2, 3, 4, 5],\n",
    "    'xgbclassifier__n_estimators': [150], # range(50, 151, 50),\n",
    "    'xgbclassifier__learning_rate': [.2] # np.arange(0.05, 0.6, 0.05)\n",
    "}\n",
    "\n",
    "# параметры GridSearch\n",
    "grid_xgb = GridSearchCV(\n",
    "    pipe_xgb,\n",
    "    param_grid,\n",
    "    scoring='f1',\n",
    "    verbose=1\n",
    ")\n",
    "\n",
    "# обучение линейной регрессии\n",
    "grid_xgb.fit(X_train, y_train)\n",
    "\n",
    "# сохранение метрики F1 на кросс-валидации\n",
    "results['XGBClassifier'] = grid_xgb.best_score_\n",
    "\n",
    "# вывод показателей и лучшей модели\n",
    "print(grid_xgb.best_params_)\n",
    "print(grid_xgb.best_score_)"
   ]
  },
  {
   "cell_type": "markdown",
   "id": "2b374bb7",
   "metadata": {},
   "source": [
    "### LightGBM"
   ]
  },
  {
   "cell_type": "code",
   "execution_count": 32,
   "id": "c7bccd50",
   "metadata": {},
   "outputs": [],
   "source": [
    "# пайплайн обучения модели LightGBM\n",
    "pipe_gbm = make_pipeline(\n",
    "    ensemble_transformer,\n",
    "    LGBMClassifier(\n",
    "        objective='binary',\n",
    "        metric='f1',\n",
    "        class_weight='balanced',\n",
    "        n_jobs=-1,\n",
    "        random_state=RAND_ST\n",
    "    )\n",
    ")"
   ]
  },
  {
   "cell_type": "code",
   "execution_count": 33,
   "id": "a0710361",
   "metadata": {
    "scrolled": true
   },
   "outputs": [
    {
     "name": "stdout",
     "output_type": "stream",
     "text": [
      "Fitting 5 folds for each of 1 candidates, totalling 5 fits\n",
      "{'lgbmclassifier__learning_rate': 0.5, 'lgbmclassifier__max_depth': 5, 'lgbmclassifier__num_leaves': 10}\n",
      "0.6284671750767958\n",
      "CPU times: user 6min 24s, sys: 4.2 s, total: 6min 29s\n",
      "Wall time: 6min 30s\n"
     ]
    }
   ],
   "source": [
    "%%time\n",
    "\n",
    "# сетка гиперпараметров для поиска\n",
    "param_grid = {\n",
    "    'lgbmclassifier__max_depth': [5], # [-1, 5, 10, 20],\n",
    "    'lgbmclassifier__num_leaves': [10], # [10, 30, 50],\n",
    "    'lgbmclassifier__learning_rate': [.5] # [.1, .5]\n",
    "}\n",
    "\n",
    "# параметры GridSearch\n",
    "grid_gbm = GridSearchCV(\n",
    "    pipe_gbm,\n",
    "    param_grid,\n",
    "    scoring='f1',\n",
    "    verbose=1\n",
    ")\n",
    "\n",
    "# обучение линейной регрессии\n",
    "grid_gbm.fit(X_train, y_train)\n",
    "\n",
    "# сохранение метрики F1 на кросс-валидации\n",
    "results['LightGBM'] = grid_gbm.best_score_\n",
    "\n",
    "# вывод показателей и лучшей модели\n",
    "print(grid_gbm.best_params_)\n",
    "print(grid_gbm.best_score_)"
   ]
  },
  {
   "cell_type": "markdown",
   "id": "37072ead",
   "metadata": {},
   "source": [
    "### CatBoostClassifier"
   ]
  },
  {
   "cell_type": "code",
   "execution_count": 34,
   "id": "5a4223b1",
   "metadata": {},
   "outputs": [],
   "source": [
    "cat_cols = X_train.select_dtypes('object').columns.to_list()\n",
    "\n",
    "# пайплайн обучения модели LightGBM\n",
    "pipe_cb = make_pipeline(\n",
    "    CatBoostClassifier(\n",
    "        loss_function=\"Logloss\",\n",
    "        cat_features=cat_cols,\n",
    "        eval_metric = 'F1',\n",
    "        random_state=RAND_ST\n",
    "    )\n",
    ")"
   ]
  },
  {
   "cell_type": "code",
   "execution_count": 35,
   "id": "c74b7b8a",
   "metadata": {
    "scrolled": true
   },
   "outputs": [
    {
     "name": "stdout",
     "output_type": "stream",
     "text": [
      "Fitting 5 folds for each of 1 candidates, totalling 5 fits\n",
      "0:\tlearn: 0.5775378\ttotal: 96.7ms\tremaining: 48.3s\n",
      "1:\tlearn: 0.6317800\ttotal: 138ms\tremaining: 34.5s\n",
      "2:\tlearn: 0.6403498\ttotal: 178ms\tremaining: 29.4s\n",
      "3:\tlearn: 0.6443779\ttotal: 215ms\tremaining: 26.6s\n",
      "4:\tlearn: 0.6397177\ttotal: 261ms\tremaining: 25.8s\n",
      "5:\tlearn: 0.6415227\ttotal: 287ms\tremaining: 23.6s\n",
      "6:\tlearn: 0.6312434\ttotal: 328ms\tremaining: 23.1s\n",
      "7:\tlearn: 0.6324747\ttotal: 365ms\tremaining: 22.4s\n",
      "8:\tlearn: 0.6352895\ttotal: 390ms\tremaining: 21.3s\n",
      "9:\tlearn: 0.6311772\ttotal: 429ms\tremaining: 21s\n",
      "10:\tlearn: 0.6325991\ttotal: 475ms\tremaining: 21.1s\n",
      "11:\tlearn: 0.6323490\ttotal: 508ms\tremaining: 20.7s\n",
      "12:\tlearn: 0.6299428\ttotal: 555ms\tremaining: 20.8s\n",
      "13:\tlearn: 0.6288195\ttotal: 590ms\tremaining: 20.5s\n",
      "14:\tlearn: 0.6320061\ttotal: 633ms\tremaining: 20.5s\n",
      "15:\tlearn: 0.6315754\ttotal: 672ms\tremaining: 20.3s\n",
      "16:\tlearn: 0.6323656\ttotal: 710ms\tremaining: 20.2s\n",
      "17:\tlearn: 0.6346147\ttotal: 750ms\tremaining: 20.1s\n",
      "18:\tlearn: 0.6361414\ttotal: 786ms\tremaining: 19.9s\n",
      "19:\tlearn: 0.6376964\ttotal: 820ms\tremaining: 19.7s\n",
      "20:\tlearn: 0.6379549\ttotal: 858ms\tremaining: 19.6s\n",
      "21:\tlearn: 0.6372061\ttotal: 891ms\tremaining: 19.4s\n",
      "22:\tlearn: 0.6372061\ttotal: 929ms\tremaining: 19.3s\n",
      "23:\tlearn: 0.6370835\ttotal: 963ms\tremaining: 19.1s\n",
      "24:\tlearn: 0.6370547\ttotal: 1.01s\tremaining: 19.1s\n",
      "25:\tlearn: 0.6372138\ttotal: 1.05s\tremaining: 19.1s\n",
      "26:\tlearn: 0.6372675\ttotal: 1.08s\tremaining: 19s\n",
      "27:\tlearn: 0.6367428\ttotal: 1.13s\tremaining: 19s\n",
      "28:\tlearn: 0.6362191\ttotal: 1.16s\tremaining: 18.8s\n",
      "29:\tlearn: 0.6367133\ttotal: 1.22s\tremaining: 19s\n",
      "30:\tlearn: 0.6373961\ttotal: 1.25s\tremaining: 18.9s\n",
      "31:\tlearn: 0.6378586\ttotal: 1.29s\tremaining: 18.9s\n",
      "32:\tlearn: 0.6378278\ttotal: 1.33s\tremaining: 18.8s\n",
      "33:\tlearn: 0.6380713\ttotal: 1.36s\tremaining: 18.7s\n",
      "34:\tlearn: 0.6379459\ttotal: 1.4s\tremaining: 18.7s\n",
      "35:\tlearn: 0.6386694\ttotal: 1.44s\tremaining: 18.5s\n",
      "36:\tlearn: 0.6387244\ttotal: 1.47s\tremaining: 18.5s\n",
      "37:\tlearn: 0.6389440\ttotal: 1.52s\tremaining: 18.4s\n",
      "38:\tlearn: 0.6389514\ttotal: 1.55s\tremaining: 18.3s\n",
      "39:\tlearn: 0.6387858\ttotal: 1.59s\tremaining: 18.3s\n",
      "40:\tlearn: 0.6389027\ttotal: 1.65s\tremaining: 18.4s\n",
      "41:\tlearn: 0.6396510\ttotal: 1.69s\tremaining: 18.4s\n",
      "42:\tlearn: 0.6399418\ttotal: 1.73s\tremaining: 18.4s\n",
      "43:\tlearn: 0.6408351\ttotal: 1.77s\tremaining: 18.4s\n",
      "44:\tlearn: 0.6410460\ttotal: 1.81s\tremaining: 18.3s\n",
      "45:\tlearn: 0.6413923\ttotal: 1.84s\tremaining: 18.1s\n",
      "46:\tlearn: 0.6413488\ttotal: 1.88s\tremaining: 18.2s\n",
      "47:\tlearn: 0.6416364\ttotal: 1.92s\tremaining: 18.1s\n",
      "48:\tlearn: 0.6418132\ttotal: 1.96s\tremaining: 18.1s\n",
      "49:\tlearn: 0.6419989\ttotal: 2s\tremaining: 18s\n",
      "50:\tlearn: 0.6430386\ttotal: 2.04s\tremaining: 18s\n",
      "51:\tlearn: 0.6431541\ttotal: 2.08s\tremaining: 17.9s\n",
      "52:\tlearn: 0.6434461\ttotal: 2.12s\tremaining: 17.8s\n",
      "53:\tlearn: 0.6431776\ttotal: 2.16s\tremaining: 17.8s\n",
      "54:\tlearn: 0.6430834\ttotal: 2.2s\tremaining: 17.8s\n",
      "55:\tlearn: 0.6433119\ttotal: 2.23s\tremaining: 17.7s\n",
      "56:\tlearn: 0.6430365\ttotal: 2.27s\tremaining: 17.7s\n",
      "57:\tlearn: 0.6434352\ttotal: 2.31s\tremaining: 17.6s\n",
      "58:\tlearn: 0.6437139\ttotal: 2.36s\tremaining: 17.6s\n",
      "59:\tlearn: 0.6437040\ttotal: 2.39s\tremaining: 17.5s\n",
      "60:\tlearn: 0.6439044\ttotal: 2.42s\tremaining: 17.4s\n",
      "61:\tlearn: 0.6439279\ttotal: 2.45s\tremaining: 17.3s\n",
      "62:\tlearn: 0.6440387\ttotal: 2.48s\tremaining: 17.2s\n",
      "63:\tlearn: 0.6441685\ttotal: 2.51s\tremaining: 17.1s\n",
      "64:\tlearn: 0.6443733\ttotal: 2.55s\tremaining: 17.1s\n",
      "65:\tlearn: 0.6444393\ttotal: 2.59s\tremaining: 17.1s\n",
      "66:\tlearn: 0.6444987\ttotal: 2.63s\tremaining: 17s\n",
      "67:\tlearn: 0.6445626\ttotal: 2.67s\tremaining: 17s\n",
      "68:\tlearn: 0.6446074\ttotal: 2.7s\tremaining: 16.8s\n",
      "69:\tlearn: 0.6448759\ttotal: 2.73s\tremaining: 16.8s\n",
      "70:\tlearn: 0.6448120\ttotal: 2.77s\tremaining: 16.8s\n",
      "71:\tlearn: 0.6450548\ttotal: 2.81s\tremaining: 16.7s\n",
      "72:\tlearn: 0.6451634\ttotal: 2.85s\tremaining: 16.7s\n",
      "73:\tlearn: 0.6459234\ttotal: 2.89s\tremaining: 16.6s\n",
      "74:\tlearn: 0.6459324\ttotal: 2.93s\tremaining: 16.6s\n",
      "75:\tlearn: 0.6460349\ttotal: 2.97s\tremaining: 16.6s\n",
      "76:\tlearn: 0.6460502\ttotal: 3.01s\tremaining: 16.5s\n",
      "77:\tlearn: 0.6460288\ttotal: 3.04s\tremaining: 16.5s\n",
      "78:\tlearn: 0.6460776\ttotal: 3.08s\tremaining: 16.4s\n",
      "79:\tlearn: 0.6461945\ttotal: 3.13s\tremaining: 16.4s\n",
      "80:\tlearn: 0.6461671\ttotal: 3.17s\tremaining: 16.4s\n",
      "81:\tlearn: 0.6462605\ttotal: 3.2s\tremaining: 16.3s\n",
      "82:\tlearn: 0.6463906\ttotal: 3.26s\tremaining: 16.4s\n",
      "83:\tlearn: 0.6464526\ttotal: 3.3s\tremaining: 16.3s\n",
      "84:\tlearn: 0.6465848\ttotal: 3.34s\tremaining: 16.3s\n",
      "85:\tlearn: 0.6466334\ttotal: 3.39s\tremaining: 16.3s\n",
      "86:\tlearn: 0.6467422\ttotal: 3.43s\tremaining: 16.3s\n",
      "87:\tlearn: 0.6468316\ttotal: 3.46s\tremaining: 16.2s\n",
      "88:\tlearn: 0.6469656\ttotal: 3.52s\tremaining: 16.3s\n",
      "89:\tlearn: 0.6471326\ttotal: 3.55s\tremaining: 16.2s\n",
      "90:\tlearn: 0.6470239\ttotal: 3.59s\tremaining: 16.1s\n",
      "91:\tlearn: 0.6469346\ttotal: 3.63s\tremaining: 16.1s\n",
      "92:\tlearn: 0.6468900\ttotal: 3.68s\tremaining: 16.1s\n",
      "93:\tlearn: 0.6469792\ttotal: 3.73s\tremaining: 16.1s\n",
      "94:\tlearn: 0.6469851\ttotal: 3.76s\tremaining: 16s\n",
      "95:\tlearn: 0.6469618\ttotal: 3.8s\tremaining: 16s\n",
      "96:\tlearn: 0.6471345\ttotal: 3.84s\tremaining: 15.9s\n",
      "97:\tlearn: 0.6467520\ttotal: 3.88s\tremaining: 15.9s\n",
      "98:\tlearn: 0.6468529\ttotal: 3.92s\tremaining: 15.9s\n",
      "99:\tlearn: 0.6470530\ttotal: 3.95s\tremaining: 15.8s\n",
      "100:\tlearn: 0.6467422\ttotal: 3.99s\tremaining: 15.8s\n",
      "101:\tlearn: 0.6483582\ttotal: 4.03s\tremaining: 15.7s\n",
      "102:\tlearn: 0.6486861\ttotal: 4.07s\tremaining: 15.7s\n",
      "103:\tlearn: 0.6483440\ttotal: 4.11s\tremaining: 15.6s\n",
      "104:\tlearn: 0.6484954\ttotal: 4.14s\tremaining: 15.6s\n",
      "105:\tlearn: 0.6483814\ttotal: 4.19s\tremaining: 15.6s\n",
      "106:\tlearn: 0.6481994\ttotal: 4.23s\tremaining: 15.5s\n",
      "107:\tlearn: 0.6482636\ttotal: 4.27s\tremaining: 15.5s\n",
      "108:\tlearn: 0.6483527\ttotal: 4.31s\tremaining: 15.5s\n",
      "109:\tlearn: 0.6484561\ttotal: 4.35s\tremaining: 15.4s\n",
      "110:\tlearn: 0.6487200\ttotal: 4.4s\tremaining: 15.4s\n",
      "111:\tlearn: 0.6488323\ttotal: 4.44s\tremaining: 15.4s\n",
      "112:\tlearn: 0.6488537\ttotal: 4.48s\tremaining: 15.3s\n",
      "113:\tlearn: 0.6490175\ttotal: 4.51s\tremaining: 15.3s\n",
      "114:\tlearn: 0.6490175\ttotal: 4.55s\tremaining: 15.2s\n",
      "115:\tlearn: 0.6491031\ttotal: 4.59s\tremaining: 15.2s\n",
      "116:\tlearn: 0.6490586\ttotal: 4.62s\tremaining: 15.1s\n",
      "117:\tlearn: 0.6490569\ttotal: 4.67s\tremaining: 15.1s\n",
      "118:\tlearn: 0.6486148\ttotal: 4.7s\tremaining: 15s\n",
      "119:\tlearn: 0.6487628\ttotal: 4.73s\tremaining: 15s\n",
      "120:\tlearn: 0.6491193\ttotal: 4.77s\tremaining: 14.9s\n",
      "121:\tlearn: 0.6493815\ttotal: 4.81s\tremaining: 14.9s\n",
      "122:\tlearn: 0.6490018\ttotal: 4.85s\tremaining: 14.9s\n",
      "123:\tlearn: 0.6492547\ttotal: 4.88s\tremaining: 14.8s\n",
      "124:\tlearn: 0.6489839\ttotal: 4.91s\tremaining: 14.7s\n",
      "125:\tlearn: 0.6489822\ttotal: 4.96s\tremaining: 14.7s\n",
      "126:\tlearn: 0.6489590\ttotal: 4.99s\tremaining: 14.7s\n",
      "127:\tlearn: 0.6490481\ttotal: 5.03s\tremaining: 14.6s\n",
      "128:\tlearn: 0.6490696\ttotal: 5.07s\tremaining: 14.6s\n",
      "129:\tlearn: 0.6490446\ttotal: 5.09s\tremaining: 14.5s\n",
      "130:\tlearn: 0.6488555\ttotal: 5.14s\tremaining: 14.5s\n",
      "131:\tlearn: 0.6488305\ttotal: 5.18s\tremaining: 14.4s\n",
      "132:\tlearn: 0.6489498\ttotal: 5.22s\tremaining: 14.4s\n",
      "133:\tlearn: 0.6489712\ttotal: 5.26s\tremaining: 14.4s\n",
      "134:\tlearn: 0.6485006\ttotal: 5.29s\tremaining: 14.3s\n",
      "135:\tlearn: 0.6490713\ttotal: 5.33s\tremaining: 14.3s\n",
      "136:\tlearn: 0.6490748\ttotal: 5.37s\tremaining: 14.2s\n",
      "137:\tlearn: 0.6490534\ttotal: 5.4s\tremaining: 14.2s\n",
      "138:\tlearn: 0.6491870\ttotal: 5.44s\tremaining: 14.1s\n",
      "139:\tlearn: 0.6496668\ttotal: 5.47s\tremaining: 14.1s\n",
      "140:\tlearn: 0.6498202\ttotal: 5.51s\tremaining: 14s\n",
      "141:\tlearn: 0.6498202\ttotal: 5.55s\tremaining: 14s\n",
      "142:\tlearn: 0.6504355\ttotal: 5.58s\tremaining: 13.9s\n",
      "143:\tlearn: 0.6509618\ttotal: 5.63s\tremaining: 13.9s\n",
      "144:\tlearn: 0.6510937\ttotal: 5.66s\tremaining: 13.9s\n",
      "145:\tlearn: 0.6509786\ttotal: 5.7s\tremaining: 13.8s\n",
      "146:\tlearn: 0.6506406\ttotal: 5.74s\tremaining: 13.8s\n",
      "147:\tlearn: 0.6508864\ttotal: 5.78s\tremaining: 13.7s\n",
      "148:\tlearn: 0.6509493\ttotal: 5.82s\tremaining: 13.7s\n",
      "149:\tlearn: 0.6510599\ttotal: 5.85s\tremaining: 13.7s\n",
      "150:\tlearn: 0.6510399\ttotal: 5.88s\tremaining: 13.6s\n",
      "151:\tlearn: 0.6512626\ttotal: 5.94s\tremaining: 13.6s\n",
      "152:\tlearn: 0.6513271\ttotal: 5.97s\tremaining: 13.5s\n",
      "153:\tlearn: 0.6513716\ttotal: 6s\tremaining: 13.5s\n",
      "154:\tlearn: 0.6513701\ttotal: 6.04s\tremaining: 13.4s\n",
      "155:\tlearn: 0.6516691\ttotal: 6.07s\tremaining: 13.4s\n",
      "156:\tlearn: 0.6516476\ttotal: 6.12s\tremaining: 13.4s\n",
      "157:\tlearn: 0.6518025\ttotal: 6.16s\tremaining: 13.3s\n",
      "158:\tlearn: 0.6520477\ttotal: 6.2s\tremaining: 13.3s\n",
      "159:\tlearn: 0.6524406\ttotal: 6.24s\tremaining: 13.3s\n",
      "160:\tlearn: 0.6524163\ttotal: 6.28s\tremaining: 13.2s\n",
      "161:\tlearn: 0.6521481\ttotal: 6.33s\tremaining: 13.2s\n",
      "162:\tlearn: 0.6528552\ttotal: 6.36s\tremaining: 13.2s\n",
      "163:\tlearn: 0.6526087\ttotal: 6.41s\tremaining: 13.1s\n",
      "164:\tlearn: 0.6524767\ttotal: 6.44s\tremaining: 13.1s\n",
      "165:\tlearn: 0.6528067\ttotal: 6.49s\tremaining: 13.1s\n",
      "166:\tlearn: 0.6530276\ttotal: 6.52s\tremaining: 13s\n",
      "167:\tlearn: 0.6530491\ttotal: 6.55s\tremaining: 12.9s\n",
      "168:\tlearn: 0.6527663\ttotal: 6.59s\tremaining: 12.9s\n",
      "169:\tlearn: 0.6530343\ttotal: 6.62s\tremaining: 12.9s\n",
      "170:\tlearn: 0.6526990\ttotal: 6.66s\tremaining: 12.8s\n",
      "171:\tlearn: 0.6529400\ttotal: 6.69s\tremaining: 12.8s\n",
      "172:\tlearn: 0.6528538\ttotal: 6.73s\tremaining: 12.7s\n",
      "173:\tlearn: 0.6528552\ttotal: 6.76s\tremaining: 12.7s\n",
      "174:\tlearn: 0.6529872\ttotal: 6.79s\tremaining: 12.6s\n",
      "175:\tlearn: 0.6535340\ttotal: 6.82s\tremaining: 12.6s\n",
      "176:\tlearn: 0.6534706\ttotal: 6.86s\tremaining: 12.5s\n",
      "177:\tlearn: 0.6540797\ttotal: 6.9s\tremaining: 12.5s\n",
      "178:\tlearn: 0.6540569\ttotal: 6.94s\tremaining: 12.4s\n",
      "179:\tlearn: 0.6540187\ttotal: 6.98s\tremaining: 12.4s\n",
      "180:\tlearn: 0.6540631\ttotal: 7.02s\tremaining: 12.4s\n",
      "181:\tlearn: 0.6542444\ttotal: 7.05s\tremaining: 12.3s\n",
      "182:\tlearn: 0.6542648\ttotal: 7.09s\tremaining: 12.3s\n",
      "183:\tlearn: 0.6539921\ttotal: 7.13s\tremaining: 12.2s\n",
      "184:\tlearn: 0.6541267\ttotal: 7.17s\tremaining: 12.2s\n",
      "185:\tlearn: 0.6544363\ttotal: 7.22s\tremaining: 12.2s\n",
      "186:\tlearn: 0.6542802\ttotal: 7.25s\tremaining: 12.1s\n",
      "187:\tlearn: 0.6543006\ttotal: 7.3s\tremaining: 12.1s\n",
      "188:\tlearn: 0.6544783\ttotal: 7.33s\tremaining: 12.1s\n",
      "189:\tlearn: 0.6547470\ttotal: 7.38s\tremaining: 12s\n",
      "190:\tlearn: 0.6547674\ttotal: 7.41s\tremaining: 12s\n",
      "191:\tlearn: 0.6549904\ttotal: 7.45s\tremaining: 11.9s\n",
      "192:\tlearn: 0.6550359\ttotal: 7.49s\tremaining: 11.9s\n",
      "193:\tlearn: 0.6545946\ttotal: 7.51s\tremaining: 11.9s\n",
      "194:\tlearn: 0.6547277\ttotal: 7.55s\tremaining: 11.8s\n",
      "195:\tlearn: 0.6546955\ttotal: 7.59s\tremaining: 11.8s\n",
      "196:\tlearn: 0.6549152\ttotal: 7.62s\tremaining: 11.7s\n",
      "197:\tlearn: 0.6548708\ttotal: 7.65s\tremaining: 11.7s\n",
      "198:\tlearn: 0.6548924\ttotal: 7.69s\tremaining: 11.6s\n",
      "199:\tlearn: 0.6546884\ttotal: 7.72s\tremaining: 11.6s\n",
      "200:\tlearn: 0.6549526\ttotal: 7.77s\tremaining: 11.6s\n",
      "201:\tlearn: 0.6549742\ttotal: 7.81s\tremaining: 11.5s\n",
      "202:\tlearn: 0.6550619\ttotal: 7.85s\tremaining: 11.5s\n",
      "203:\tlearn: 0.6551041\ttotal: 7.89s\tremaining: 11.4s\n",
      "204:\tlearn: 0.6551508\ttotal: 7.92s\tremaining: 11.4s\n",
      "205:\tlearn: 0.6553956\ttotal: 7.96s\tremaining: 11.4s\n",
      "206:\tlearn: 0.6555699\ttotal: 7.99s\tremaining: 11.3s\n",
      "207:\tlearn: 0.6554844\ttotal: 8.02s\tremaining: 11.3s\n",
      "208:\tlearn: 0.6554888\ttotal: 8.06s\tremaining: 11.2s\n",
      "209:\tlearn: 0.6559984\ttotal: 8.08s\tremaining: 11.2s\n",
      "210:\tlearn: 0.6558913\ttotal: 8.13s\tremaining: 11.1s\n",
      "211:\tlearn: 0.6556717\ttotal: 8.17s\tremaining: 11.1s\n",
      "212:\tlearn: 0.6557615\ttotal: 8.2s\tremaining: 11s\n",
      "213:\tlearn: 0.6563903\ttotal: 8.24s\tremaining: 11s\n",
      "214:\tlearn: 0.6566652\ttotal: 8.28s\tremaining: 11s\n",
      "215:\tlearn: 0.6567341\ttotal: 8.3s\tremaining: 10.9s\n",
      "216:\tlearn: 0.6567971\ttotal: 8.35s\tremaining: 10.9s\n",
      "217:\tlearn: 0.6567991\ttotal: 8.38s\tremaining: 10.8s\n",
      "218:\tlearn: 0.6567952\ttotal: 8.42s\tremaining: 10.8s\n",
      "219:\tlearn: 0.6567519\ttotal: 8.46s\tremaining: 10.8s\n",
      "220:\tlearn: 0.6567046\ttotal: 8.51s\tremaining: 10.7s\n",
      "221:\tlearn: 0.6568611\ttotal: 8.55s\tremaining: 10.7s\n",
      "222:\tlearn: 0.6567952\ttotal: 8.59s\tremaining: 10.7s\n",
      "223:\tlearn: 0.6567499\ttotal: 8.63s\tremaining: 10.6s\n",
      "224:\tlearn: 0.6566356\ttotal: 8.67s\tremaining: 10.6s\n",
      "225:\tlearn: 0.6566356\ttotal: 8.71s\tremaining: 10.6s\n",
      "226:\tlearn: 0.6566583\ttotal: 8.74s\tremaining: 10.5s\n",
      "227:\tlearn: 0.6573095\ttotal: 8.78s\tremaining: 10.5s\n",
      "228:\tlearn: 0.6573537\ttotal: 8.82s\tremaining: 10.4s\n",
      "229:\tlearn: 0.6573095\ttotal: 8.86s\tremaining: 10.4s\n",
      "230:\tlearn: 0.6576624\ttotal: 8.89s\tremaining: 10.3s\n",
      "231:\tlearn: 0.6577508\ttotal: 8.93s\tremaining: 10.3s\n",
      "232:\tlearn: 0.6571108\ttotal: 8.97s\tremaining: 10.3s\n",
      "233:\tlearn: 0.6571108\ttotal: 9.01s\tremaining: 10.2s\n",
      "234:\tlearn: 0.6571108\ttotal: 9.04s\tremaining: 10.2s\n",
      "235:\tlearn: 0.6576425\ttotal: 9.08s\tremaining: 10.2s\n",
      "236:\tlearn: 0.6577301\ttotal: 9.12s\tremaining: 10.1s\n",
      "237:\tlearn: 0.6578401\ttotal: 9.15s\tremaining: 10.1s\n",
      "238:\tlearn: 0.6578609\ttotal: 9.18s\tremaining: 10s\n",
      "239:\tlearn: 0.6579935\ttotal: 9.22s\tremaining: 9.99s\n",
      "240:\tlearn: 0.6578869\ttotal: 9.25s\tremaining: 9.95s\n",
      "241:\tlearn: 0.6580577\ttotal: 9.3s\tremaining: 9.92s\n",
      "242:\tlearn: 0.6580343\ttotal: 9.34s\tremaining: 9.88s\n",
      "243:\tlearn: 0.6578358\ttotal: 9.37s\tremaining: 9.83s\n",
      "244:\tlearn: 0.6583196\ttotal: 9.41s\tremaining: 9.79s\n",
      "245:\tlearn: 0.6585366\ttotal: 9.44s\tremaining: 9.75s\n",
      "246:\tlearn: 0.6583405\ttotal: 9.47s\tremaining: 9.7s\n",
      "247:\tlearn: 0.6582979\ttotal: 9.52s\tremaining: 9.67s\n",
      "248:\tlearn: 0.6584064\ttotal: 9.55s\tremaining: 9.63s\n",
      "249:\tlearn: 0.6586073\ttotal: 9.6s\tremaining: 9.6s\n",
      "250:\tlearn: 0.6586282\ttotal: 9.64s\tremaining: 9.56s\n",
      "251:\tlearn: 0.6586491\ttotal: 9.67s\tremaining: 9.52s\n",
      "252:\tlearn: 0.6588468\ttotal: 9.71s\tremaining: 9.48s\n",
      "253:\tlearn: 0.6587817\ttotal: 9.74s\tremaining: 9.43s\n",
      "254:\tlearn: 0.6591366\ttotal: 9.78s\tremaining: 9.39s\n",
      "255:\tlearn: 0.6590932\ttotal: 9.82s\tremaining: 9.36s\n",
      "256:\tlearn: 0.6592024\ttotal: 9.86s\tremaining: 9.32s\n",
      "257:\tlearn: 0.6590296\ttotal: 9.91s\tremaining: 9.29s\n",
      "258:\tlearn: 0.6592900\ttotal: 9.94s\tremaining: 9.25s\n",
      "259:\tlearn: 0.6591553\ttotal: 9.98s\tremaining: 9.21s\n",
      "260:\tlearn: 0.6593566\ttotal: 10s\tremaining: 9.17s\n",
      "261:\tlearn: 0.6594210\ttotal: 10.1s\tremaining: 9.13s\n",
      "262:\tlearn: 0.6586073\ttotal: 10.1s\tremaining: 9.09s\n",
      "263:\tlearn: 0.6585631\ttotal: 10.1s\tremaining: 9.04s\n",
      "264:\tlearn: 0.6587375\ttotal: 10.1s\tremaining: 9s\n",
      "265:\tlearn: 0.6586097\ttotal: 10.2s\tremaining: 8.96s\n",
      "266:\tlearn: 0.6592444\ttotal: 10.2s\tremaining: 8.92s\n",
      "267:\tlearn: 0.6595808\ttotal: 10.3s\tremaining: 8.88s\n",
      "268:\tlearn: 0.6594274\ttotal: 10.3s\tremaining: 8.84s\n",
      "269:\tlearn: 0.6585430\ttotal: 10.3s\tremaining: 8.81s\n",
      "270:\tlearn: 0.6584771\ttotal: 10.4s\tremaining: 8.78s\n",
      "271:\tlearn: 0.6584780\ttotal: 10.4s\tremaining: 8.73s\n",
      "272:\tlearn: 0.6588747\ttotal: 10.5s\tremaining: 8.71s\n",
      "273:\tlearn: 0.6588057\ttotal: 10.5s\tremaining: 8.67s\n",
      "274:\tlearn: 0.6591410\ttotal: 10.6s\tremaining: 8.63s\n",
      "275:\tlearn: 0.6589436\ttotal: 10.6s\tremaining: 8.61s\n",
      "276:\tlearn: 0.6593370\ttotal: 10.6s\tremaining: 8.57s\n",
      "277:\tlearn: 0.6593153\ttotal: 10.7s\tremaining: 8.54s\n",
      "278:\tlearn: 0.6594673\ttotal: 10.7s\tremaining: 8.49s\n",
      "279:\tlearn: 0.6598189\ttotal: 10.8s\tremaining: 8.45s\n",
      "280:\tlearn: 0.6597531\ttotal: 10.8s\tremaining: 8.42s\n",
      "281:\tlearn: 0.6598013\ttotal: 10.8s\tremaining: 8.37s\n",
      "282:\tlearn: 0.6598223\ttotal: 10.9s\tremaining: 8.33s\n",
      "283:\tlearn: 0.6601092\ttotal: 10.9s\tremaining: 8.29s\n",
      "284:\tlearn: 0.6600875\ttotal: 10.9s\tremaining: 8.25s\n",
      "285:\tlearn: 0.6599559\ttotal: 11s\tremaining: 8.22s\n",
      "286:\tlearn: 0.6600217\ttotal: 11s\tremaining: 8.18s\n",
      "287:\tlearn: 0.6600869\ttotal: 11.1s\tremaining: 8.14s\n",
      "288:\tlearn: 0.6603271\ttotal: 11.1s\tremaining: 8.1s\n",
      "289:\tlearn: 0.6606138\ttotal: 11.1s\tremaining: 8.06s\n",
      "290:\tlearn: 0.6612103\ttotal: 11.2s\tremaining: 8.03s\n",
      "291:\tlearn: 0.6612103\ttotal: 11.2s\tremaining: 7.98s\n",
      "292:\tlearn: 0.6611657\ttotal: 11.2s\tremaining: 7.94s\n",
      "293:\tlearn: 0.6610782\ttotal: 11.3s\tremaining: 7.91s\n",
      "294:\tlearn: 0.6610777\ttotal: 11.3s\tremaining: 7.88s\n",
      "295:\tlearn: 0.6609880\ttotal: 11.4s\tremaining: 7.84s\n",
      "296:\tlearn: 0.6611635\ttotal: 11.4s\tremaining: 7.81s\n",
      "297:\tlearn: 0.6611858\ttotal: 11.5s\tremaining: 7.76s\n",
      "298:\tlearn: 0.6613365\ttotal: 11.5s\tremaining: 7.72s\n",
      "299:\tlearn: 0.6614246\ttotal: 11.5s\tremaining: 7.69s\n",
      "300:\tlearn: 0.6612707\ttotal: 11.6s\tremaining: 7.65s\n",
      "301:\tlearn: 0.6612707\ttotal: 11.6s\tremaining: 7.61s\n",
      "302:\tlearn: 0.6612691\ttotal: 11.7s\tremaining: 7.58s\n",
      "303:\tlearn: 0.6611592\ttotal: 11.7s\tremaining: 7.54s\n",
      "304:\tlearn: 0.6612261\ttotal: 11.7s\tremaining: 7.5s\n",
      "305:\tlearn: 0.6612272\ttotal: 11.8s\tremaining: 7.47s\n",
      "306:\tlearn: 0.6612272\ttotal: 11.8s\tremaining: 7.43s\n",
      "307:\tlearn: 0.6613153\ttotal: 11.9s\tremaining: 7.39s\n",
      "308:\tlearn: 0.6613593\ttotal: 11.9s\tremaining: 7.35s\n",
      "309:\tlearn: 0.6613375\ttotal: 11.9s\tremaining: 7.32s\n",
      "310:\tlearn: 0.6614028\ttotal: 12s\tremaining: 7.28s\n",
      "311:\tlearn: 0.6613370\ttotal: 12s\tremaining: 7.24s\n",
      "312:\tlearn: 0.6612930\ttotal: 12s\tremaining: 7.2s\n",
      "313:\tlearn: 0.6612500\ttotal: 12.1s\tremaining: 7.16s\n",
      "314:\tlearn: 0.6612500\ttotal: 12.1s\tremaining: 7.12s\n",
      "315:\tlearn: 0.6613370\ttotal: 12.2s\tremaining: 7.08s\n",
      "316:\tlearn: 0.6614904\ttotal: 12.2s\tremaining: 7.04s\n",
      "317:\tlearn: 0.6617536\ttotal: 12.2s\tremaining: 7s\n",
      "318:\tlearn: 0.6617526\ttotal: 12.3s\tremaining: 6.96s\n",
      "319:\tlearn: 0.6618653\ttotal: 12.3s\tremaining: 6.93s\n",
      "320:\tlearn: 0.6621524\ttotal: 12.3s\tremaining: 6.89s\n",
      "321:\tlearn: 0.6620862\ttotal: 12.4s\tremaining: 6.85s\n",
      "322:\tlearn: 0.6620862\ttotal: 12.4s\tremaining: 6.8s\n",
      "323:\tlearn: 0.6621080\ttotal: 12.4s\tremaining: 6.76s\n",
      "324:\tlearn: 0.6621302\ttotal: 12.5s\tremaining: 6.72s\n",
      "325:\tlearn: 0.6619102\ttotal: 12.5s\tremaining: 6.68s\n",
      "326:\tlearn: 0.6621519\ttotal: 12.5s\tremaining: 6.64s\n",
      "327:\tlearn: 0.6620427\ttotal: 12.6s\tremaining: 6.61s\n",
      "328:\tlearn: 0.6621084\ttotal: 12.6s\tremaining: 6.56s\n",
      "329:\tlearn: 0.6623714\ttotal: 12.7s\tremaining: 6.53s\n",
      "330:\tlearn: 0.6625900\ttotal: 12.7s\tremaining: 6.49s\n",
      "331:\tlearn: 0.6626783\ttotal: 12.7s\tremaining: 6.45s\n",
      "332:\tlearn: 0.6627880\ttotal: 12.8s\tremaining: 6.41s\n",
      "333:\tlearn: 0.6627441\ttotal: 12.8s\tremaining: 6.38s\n",
      "334:\tlearn: 0.6630303\ttotal: 12.9s\tremaining: 6.34s\n",
      "335:\tlearn: 0.6627231\ttotal: 12.9s\tremaining: 6.3s\n",
      "336:\tlearn: 0.6626791\ttotal: 13s\tremaining: 6.26s\n",
      "337:\tlearn: 0.6628981\ttotal: 13s\tremaining: 6.23s\n",
      "338:\tlearn: 0.6626118\ttotal: 13s\tremaining: 6.18s\n",
      "339:\tlearn: 0.6628519\ttotal: 13.1s\tremaining: 6.15s\n",
      "340:\tlearn: 0.6628297\ttotal: 13.1s\tremaining: 6.11s\n",
      "341:\tlearn: 0.6626974\ttotal: 13.1s\tremaining: 6.07s\n",
      "342:\tlearn: 0.6627184\ttotal: 13.2s\tremaining: 6.03s\n",
      "343:\tlearn: 0.6626982\ttotal: 13.2s\tremaining: 5.99s\n",
      "344:\tlearn: 0.6627421\ttotal: 13.2s\tremaining: 5.95s\n",
      "345:\tlearn: 0.6627620\ttotal: 13.3s\tremaining: 5.92s\n",
      "346:\tlearn: 0.6628940\ttotal: 13.3s\tremaining: 5.88s\n",
      "347:\tlearn: 0.6627842\ttotal: 13.4s\tremaining: 5.85s\n",
      "348:\tlearn: 0.6630038\ttotal: 13.4s\tremaining: 5.81s\n",
      "349:\tlearn: 0.6630031\ttotal: 13.5s\tremaining: 5.77s\n",
      "350:\tlearn: 0.6631125\ttotal: 13.5s\tremaining: 5.73s\n",
      "351:\tlearn: 0.6630671\ttotal: 13.6s\tremaining: 5.7s\n",
      "352:\tlearn: 0.6632868\ttotal: 13.6s\tremaining: 5.66s\n",
      "353:\tlearn: 0.6631776\ttotal: 13.6s\tremaining: 5.62s\n",
      "354:\tlearn: 0.6630678\ttotal: 13.7s\tremaining: 5.58s\n",
      "355:\tlearn: 0.6630682\ttotal: 13.7s\tremaining: 5.55s\n",
      "356:\tlearn: 0.6631336\ttotal: 13.8s\tremaining: 5.52s\n",
      "357:\tlearn: 0.6630893\ttotal: 13.8s\tremaining: 5.48s\n",
      "358:\tlearn: 0.6630238\ttotal: 13.9s\tremaining: 5.45s\n",
      "359:\tlearn: 0.6629365\ttotal: 13.9s\tremaining: 5.41s\n",
      "360:\tlearn: 0.6631118\ttotal: 13.9s\tremaining: 5.37s\n",
      "361:\tlearn: 0.6630016\ttotal: 14s\tremaining: 5.33s\n",
      "362:\tlearn: 0.6630675\ttotal: 14s\tremaining: 5.29s\n",
      "363:\tlearn: 0.6630238\ttotal: 14.1s\tremaining: 5.25s\n",
      "364:\tlearn: 0.6632438\ttotal: 14.1s\tremaining: 5.21s\n",
      "365:\tlearn: 0.6632656\ttotal: 14.1s\tremaining: 5.18s\n",
      "366:\tlearn: 0.6632008\ttotal: 14.2s\tremaining: 5.14s\n",
      "367:\tlearn: 0.6628692\ttotal: 14.3s\tremaining: 5.11s\n",
      "368:\tlearn: 0.6627160\ttotal: 14.3s\tremaining: 5.07s\n",
      "369:\tlearn: 0.6625177\ttotal: 14.3s\tremaining: 5.04s\n",
      "370:\tlearn: 0.6625181\ttotal: 14.4s\tremaining: 5s\n",
      "371:\tlearn: 0.6626506\ttotal: 14.4s\tremaining: 4.96s\n",
      "372:\tlearn: 0.6627164\ttotal: 14.5s\tremaining: 4.92s\n",
      "373:\tlearn: 0.6631572\ttotal: 14.5s\tremaining: 4.89s\n",
      "374:\tlearn: 0.6631790\ttotal: 14.6s\tremaining: 4.85s\n",
      "375:\tlearn: 0.6632008\ttotal: 14.6s\tremaining: 4.81s\n",
      "376:\tlearn: 0.6634422\ttotal: 14.6s\tremaining: 4.78s\n",
      "377:\tlearn: 0.6632445\ttotal: 14.7s\tremaining: 4.74s\n",
      "378:\tlearn: 0.6628278\ttotal: 14.7s\tremaining: 4.7s\n",
      "379:\tlearn: 0.6626526\ttotal: 14.8s\tremaining: 4.67s\n",
      "380:\tlearn: 0.6629372\ttotal: 14.8s\tremaining: 4.63s\n",
      "381:\tlearn: 0.6631347\ttotal: 14.9s\tremaining: 4.59s\n",
      "382:\tlearn: 0.6632230\ttotal: 14.9s\tremaining: 4.55s\n",
      "383:\tlearn: 0.6634195\ttotal: 15s\tremaining: 4.52s\n",
      "384:\tlearn: 0.6633311\ttotal: 15s\tremaining: 4.48s\n",
      "385:\tlearn: 0.6633755\ttotal: 15s\tremaining: 4.44s\n",
      "386:\tlearn: 0.6628263\ttotal: 15.1s\tremaining: 4.4s\n",
      "387:\tlearn: 0.6626732\ttotal: 15.1s\tremaining: 4.36s\n",
      "388:\tlearn: 0.6628492\ttotal: 15.1s\tremaining: 4.32s\n",
      "389:\tlearn: 0.6627168\ttotal: 15.2s\tremaining: 4.28s\n",
      "390:\tlearn: 0.6625189\ttotal: 15.2s\tremaining: 4.24s\n",
      "391:\tlearn: 0.6626510\ttotal: 15.3s\tremaining: 4.21s\n",
      "392:\tlearn: 0.6627620\ttotal: 15.3s\tremaining: 4.17s\n",
      "393:\tlearn: 0.6626300\ttotal: 15.3s\tremaining: 4.13s\n",
      "394:\tlearn: 0.6630256\ttotal: 15.4s\tremaining: 4.09s\n",
      "395:\tlearn: 0.6632666\ttotal: 15.4s\tremaining: 4.05s\n",
      "396:\tlearn: 0.6631347\ttotal: 15.5s\tremaining: 4.01s\n",
      "397:\tlearn: 0.6631794\ttotal: 15.5s\tremaining: 3.98s\n",
      "398:\tlearn: 0.6633076\ttotal: 15.5s\tremaining: 3.93s\n",
      "399:\tlearn: 0.6632858\ttotal: 15.6s\tremaining: 3.9s\n",
      "400:\tlearn: 0.6633080\ttotal: 15.6s\tremaining: 3.85s\n",
      "401:\tlearn: 0.6631991\ttotal: 15.6s\tremaining: 3.81s\n",
      "402:\tlearn: 0.6630889\ttotal: 15.7s\tremaining: 3.78s\n",
      "403:\tlearn: 0.6630449\ttotal: 15.7s\tremaining: 3.74s\n",
      "404:\tlearn: 0.6630889\ttotal: 15.8s\tremaining: 3.7s\n",
      "405:\tlearn: 0.6632881\ttotal: 15.8s\tremaining: 3.66s\n",
      "406:\tlearn: 0.6632002\ttotal: 15.9s\tremaining: 3.62s\n",
      "407:\tlearn: 0.6633315\ttotal: 15.9s\tremaining: 3.59s\n",
      "408:\tlearn: 0.6635074\ttotal: 16s\tremaining: 3.55s\n",
      "409:\tlearn: 0.6631565\ttotal: 16s\tremaining: 3.51s\n",
      "410:\tlearn: 0.6632442\ttotal: 16s\tremaining: 3.47s\n",
      "411:\tlearn: 0.6635299\ttotal: 16.1s\tremaining: 3.43s\n",
      "412:\tlearn: 0.6631111\ttotal: 16.1s\tremaining: 3.39s\n",
      "413:\tlearn: 0.6629798\ttotal: 16.1s\tremaining: 3.35s\n",
      "414:\tlearn: 0.6633758\ttotal: 16.2s\tremaining: 3.32s\n",
      "415:\tlearn: 0.6633755\ttotal: 16.2s\tremaining: 3.28s\n",
      "416:\tlearn: 0.6635954\ttotal: 16.3s\tremaining: 3.24s\n",
      "417:\tlearn: 0.6636612\ttotal: 16.3s\tremaining: 3.2s\n",
      "418:\tlearn: 0.6637486\ttotal: 16.4s\tremaining: 3.16s\n",
      "419:\tlearn: 0.6638149\ttotal: 16.4s\tremaining: 3.13s\n",
      "420:\tlearn: 0.6640576\ttotal: 16.5s\tremaining: 3.09s\n",
      "421:\tlearn: 0.6643433\ttotal: 16.5s\tremaining: 3.05s\n",
      "422:\tlearn: 0.6645401\ttotal: 16.5s\tremaining: 3.01s\n",
      "423:\tlearn: 0.6645183\ttotal: 16.6s\tremaining: 2.97s\n",
      "424:\tlearn: 0.6643212\ttotal: 16.6s\tremaining: 2.93s\n",
      "425:\tlearn: 0.6643212\ttotal: 16.7s\tremaining: 2.9s\n",
      "426:\tlearn: 0.6645403\ttotal: 16.7s\tremaining: 2.85s\n",
      "427:\tlearn: 0.6646720\ttotal: 16.8s\tremaining: 2.82s\n",
      "428:\tlearn: 0.6643439\ttotal: 16.8s\tremaining: 2.78s\n",
      "429:\tlearn: 0.6643212\ttotal: 16.8s\tremaining: 2.74s\n",
      "430:\tlearn: 0.6645838\ttotal: 16.9s\tremaining: 2.7s\n",
      "431:\tlearn: 0.6646057\ttotal: 16.9s\tremaining: 2.66s\n",
      "432:\tlearn: 0.6646053\ttotal: 17s\tremaining: 2.62s\n",
      "433:\tlearn: 0.6646271\ttotal: 17s\tremaining: 2.58s\n",
      "434:\tlearn: 0.6643856\ttotal: 17s\tremaining: 2.55s\n",
      "435:\tlearn: 0.6644955\ttotal: 17.1s\tremaining: 2.51s\n",
      "436:\tlearn: 0.6642975\ttotal: 17.1s\tremaining: 2.47s\n",
      "437:\tlearn: 0.6648467\ttotal: 17.2s\tremaining: 2.43s\n",
      "438:\tlearn: 0.6648247\ttotal: 17.2s\tremaining: 2.39s\n",
      "439:\tlearn: 0.6648688\ttotal: 17.2s\tremaining: 2.35s\n",
      "440:\tlearn: 0.6648026\ttotal: 17.3s\tremaining: 2.31s\n",
      "441:\tlearn: 0.6648905\ttotal: 17.3s\tremaining: 2.27s\n",
      "442:\tlearn: 0.6650000\ttotal: 17.4s\tremaining: 2.23s\n",
      "443:\tlearn: 0.6646053\ttotal: 17.4s\tremaining: 2.19s\n",
      "444:\tlearn: 0.6651982\ttotal: 17.5s\tremaining: 2.16s\n",
      "445:\tlearn: 0.6650666\ttotal: 17.5s\tremaining: 2.12s\n",
      "446:\tlearn: 0.6651542\ttotal: 17.5s\tremaining: 2.08s\n",
      "447:\tlearn: 0.6653297\ttotal: 17.6s\tremaining: 2.04s\n",
      "448:\tlearn: 0.6653080\ttotal: 17.6s\tremaining: 2s\n",
      "449:\tlearn: 0.6654176\ttotal: 17.7s\tremaining: 1.96s\n",
      "450:\tlearn: 0.6659436\ttotal: 17.7s\tremaining: 1.92s\n",
      "451:\tlearn: 0.6658777\ttotal: 17.7s\tremaining: 1.88s\n",
      "452:\tlearn: 0.6661846\ttotal: 17.8s\tremaining: 1.85s\n",
      "453:\tlearn: 0.6663818\ttotal: 17.8s\tremaining: 1.81s\n",
      "454:\tlearn: 0.6663379\ttotal: 17.9s\tremaining: 1.77s\n",
      "455:\tlearn: 0.6663160\ttotal: 17.9s\tremaining: 1.73s\n",
      "456:\tlearn: 0.6663160\ttotal: 17.9s\tremaining: 1.69s\n",
      "457:\tlearn: 0.6662065\ttotal: 18s\tremaining: 1.65s\n",
      "458:\tlearn: 0.6660968\ttotal: 18s\tremaining: 1.61s\n",
      "459:\tlearn: 0.6670830\ttotal: 18.1s\tremaining: 1.57s\n",
      "460:\tlearn: 0.6668858\ttotal: 18.1s\tremaining: 1.53s\n",
      "461:\tlearn: 0.6667324\ttotal: 18.2s\tremaining: 1.49s\n",
      "462:\tlearn: 0.6669297\ttotal: 18.2s\tremaining: 1.45s\n",
      "463:\tlearn: 0.6671927\ttotal: 18.2s\tremaining: 1.42s\n",
      "464:\tlearn: 0.6670174\ttotal: 18.3s\tremaining: 1.38s\n",
      "465:\tlearn: 0.6674340\ttotal: 18.3s\tremaining: 1.34s\n",
      "466:\tlearn: 0.6669299\ttotal: 18.4s\tremaining: 1.3s\n",
      "467:\tlearn: 0.6668860\ttotal: 18.4s\tremaining: 1.26s\n",
      "468:\tlearn: 0.6670614\ttotal: 18.4s\tremaining: 1.22s\n",
      "469:\tlearn: 0.6672367\ttotal: 18.5s\tremaining: 1.18s\n",
      "470:\tlearn: 0.6673464\ttotal: 18.5s\tremaining: 1.14s\n",
      "471:\tlearn: 0.6674994\ttotal: 18.6s\tremaining: 1.1s\n",
      "472:\tlearn: 0.6675214\ttotal: 18.6s\tremaining: 1.06s\n",
      "473:\tlearn: 0.6677407\ttotal: 18.7s\tremaining: 1.02s\n",
      "474:\tlearn: 0.6675215\ttotal: 18.7s\tremaining: 984ms\n",
      "475:\tlearn: 0.6678500\ttotal: 18.8s\tremaining: 946ms\n",
      "476:\tlearn: 0.6681352\ttotal: 18.8s\tremaining: 906ms\n",
      "477:\tlearn: 0.6681572\ttotal: 18.8s\tremaining: 867ms\n",
      "478:\tlearn: 0.6685511\ttotal: 18.9s\tremaining: 827ms\n",
      "479:\tlearn: 0.6685510\ttotal: 18.9s\tremaining: 788ms\n",
      "480:\tlearn: 0.6685510\ttotal: 19s\tremaining: 749ms\n",
      "481:\tlearn: 0.6685072\ttotal: 19s\tremaining: 709ms\n",
      "482:\tlearn: 0.6686389\ttotal: 19s\tremaining: 670ms\n",
      "483:\tlearn: 0.6688578\ttotal: 19.1s\tremaining: 630ms\n",
      "484:\tlearn: 0.6688578\ttotal: 19.1s\tremaining: 591ms\n",
      "485:\tlearn: 0.6688578\ttotal: 19.1s\tremaining: 552ms\n",
      "486:\tlearn: 0.6688143\ttotal: 19.2s\tremaining: 512ms\n",
      "487:\tlearn: 0.6691205\ttotal: 19.2s\tremaining: 473ms\n",
      "488:\tlearn: 0.6688128\ttotal: 19.3s\tremaining: 433ms\n",
      "489:\tlearn: 0.6689655\ttotal: 19.3s\tremaining: 394ms\n",
      "490:\tlearn: 0.6690969\ttotal: 19.3s\tremaining: 354ms\n",
      "491:\tlearn: 0.6690095\ttotal: 19.4s\tremaining: 315ms\n",
      "492:\tlearn: 0.6690095\ttotal: 19.4s\tremaining: 276ms\n",
      "493:\tlearn: 0.6690095\ttotal: 19.5s\tremaining: 236ms\n",
      "494:\tlearn: 0.6690317\ttotal: 19.5s\tremaining: 197ms\n",
      "495:\tlearn: 0.6694041\ttotal: 19.6s\tremaining: 158ms\n",
      "496:\tlearn: 0.6695795\ttotal: 19.6s\tremaining: 118ms\n",
      "497:\tlearn: 0.6693827\ttotal: 19.7s\tremaining: 79ms\n",
      "498:\tlearn: 0.6694926\ttotal: 19.7s\tremaining: 39.5ms\n",
      "499:\tlearn: 0.6694266\ttotal: 19.8s\tremaining: 0us\n",
      "0:\tlearn: 0.5658306\ttotal: 64.3ms\tremaining: 32.1s\n",
      "1:\tlearn: 0.5932518\ttotal: 113ms\tremaining: 28.1s\n",
      "2:\tlearn: 0.6394071\ttotal: 156ms\tremaining: 25.8s\n",
      "3:\tlearn: 0.6400607\ttotal: 208ms\tremaining: 25.9s\n",
      "4:\tlearn: 0.6354439\ttotal: 306ms\tremaining: 30.3s\n",
      "5:\tlearn: 0.6374297\ttotal: 350ms\tremaining: 28.8s\n",
      "6:\tlearn: 0.6233966\ttotal: 388ms\tremaining: 27.3s\n",
      "7:\tlearn: 0.6231733\ttotal: 437ms\tremaining: 26.9s\n",
      "8:\tlearn: 0.6283813\ttotal: 476ms\tremaining: 26s\n",
      "9:\tlearn: 0.6346994\ttotal: 515ms\tremaining: 25.2s\n",
      "10:\tlearn: 0.6346861\ttotal: 559ms\tremaining: 24.8s\n",
      "11:\tlearn: 0.6353219\ttotal: 607ms\tremaining: 24.7s\n",
      "12:\tlearn: 0.6348172\ttotal: 658ms\tremaining: 24.6s\n",
      "13:\tlearn: 0.6355140\ttotal: 703ms\tremaining: 24.4s\n",
      "14:\tlearn: 0.6341737\ttotal: 751ms\tremaining: 24.3s\n",
      "15:\tlearn: 0.6358968\ttotal: 782ms\tremaining: 23.6s\n",
      "16:\tlearn: 0.6342301\ttotal: 822ms\tremaining: 23.4s\n",
      "17:\tlearn: 0.6379961\ttotal: 851ms\tremaining: 22.8s\n",
      "18:\tlearn: 0.6387029\ttotal: 897ms\tremaining: 22.7s\n",
      "19:\tlearn: 0.6382601\ttotal: 943ms\tremaining: 22.6s\n",
      "20:\tlearn: 0.6387373\ttotal: 976ms\tremaining: 22.3s\n",
      "21:\tlearn: 0.6370322\ttotal: 1.02s\tremaining: 22.2s\n",
      "22:\tlearn: 0.6371699\ttotal: 1.06s\tremaining: 21.9s\n",
      "23:\tlearn: 0.6362946\ttotal: 1.1s\tremaining: 21.8s\n",
      "24:\tlearn: 0.6363967\ttotal: 1.14s\tremaining: 21.6s\n",
      "25:\tlearn: 0.6364748\ttotal: 1.18s\tremaining: 21.5s\n",
      "26:\tlearn: 0.6352941\ttotal: 1.22s\tremaining: 21.3s\n",
      "27:\tlearn: 0.6353783\ttotal: 1.24s\tremaining: 21s\n",
      "28:\tlearn: 0.6359963\ttotal: 1.29s\tremaining: 21s\n",
      "29:\tlearn: 0.6375863\ttotal: 1.33s\tremaining: 20.8s\n",
      "30:\tlearn: 0.6366917\ttotal: 1.38s\tremaining: 20.9s\n",
      "31:\tlearn: 0.6374462\ttotal: 1.42s\tremaining: 20.7s\n",
      "32:\tlearn: 0.6374368\ttotal: 1.46s\tremaining: 20.6s\n",
      "33:\tlearn: 0.6374331\ttotal: 1.5s\tremaining: 20.6s\n",
      "34:\tlearn: 0.6379898\ttotal: 1.54s\tremaining: 20.5s\n",
      "35:\tlearn: 0.6377598\ttotal: 1.59s\tremaining: 20.5s\n",
      "36:\tlearn: 0.6380754\ttotal: 1.62s\tremaining: 20.3s\n",
      "37:\tlearn: 0.6378049\ttotal: 1.66s\tremaining: 20.2s\n",
      "38:\tlearn: 0.6385303\ttotal: 1.7s\tremaining: 20.1s\n",
      "39:\tlearn: 0.6389091\ttotal: 1.74s\tremaining: 20s\n",
      "40:\tlearn: 0.6387951\ttotal: 1.78s\tremaining: 20s\n",
      "41:\tlearn: 0.6386821\ttotal: 1.82s\tremaining: 19.9s\n",
      "42:\tlearn: 0.6389863\ttotal: 1.86s\tremaining: 19.8s\n",
      "43:\tlearn: 0.6390011\ttotal: 1.9s\tremaining: 19.7s\n",
      "44:\tlearn: 0.6395283\ttotal: 1.94s\tremaining: 19.6s\n",
      "45:\tlearn: 0.6397271\ttotal: 1.98s\tremaining: 19.5s\n",
      "46:\tlearn: 0.6400874\ttotal: 2.01s\tremaining: 19.4s\n",
      "47:\tlearn: 0.6406752\ttotal: 2.05s\tremaining: 19.3s\n",
      "48:\tlearn: 0.6411088\ttotal: 2.09s\tremaining: 19.2s\n",
      "49:\tlearn: 0.6407227\ttotal: 2.13s\tremaining: 19.1s\n",
      "50:\tlearn: 0.6408178\ttotal: 2.17s\tremaining: 19.1s\n",
      "51:\tlearn: 0.6409052\ttotal: 2.21s\tremaining: 19s\n",
      "52:\tlearn: 0.6407940\ttotal: 2.25s\tremaining: 19s\n",
      "53:\tlearn: 0.6418620\ttotal: 2.28s\tremaining: 18.8s\n",
      "54:\tlearn: 0.6418595\ttotal: 2.33s\tremaining: 18.8s\n",
      "55:\tlearn: 0.6418122\ttotal: 2.36s\tremaining: 18.7s\n",
      "56:\tlearn: 0.6411442\ttotal: 2.4s\tremaining: 18.6s\n",
      "57:\tlearn: 0.6419590\ttotal: 2.44s\tremaining: 18.6s\n",
      "58:\tlearn: 0.6425978\ttotal: 2.48s\tremaining: 18.5s\n",
      "59:\tlearn: 0.6420715\ttotal: 2.52s\tremaining: 18.4s\n",
      "60:\tlearn: 0.6421776\ttotal: 2.56s\tremaining: 18.4s\n",
      "61:\tlearn: 0.6425761\ttotal: 2.59s\tremaining: 18.3s\n",
      "62:\tlearn: 0.6429492\ttotal: 2.64s\tremaining: 18.3s\n",
      "63:\tlearn: 0.6431878\ttotal: 2.68s\tremaining: 18.3s\n",
      "64:\tlearn: 0.6438673\ttotal: 2.73s\tremaining: 18.3s\n",
      "65:\tlearn: 0.6438551\ttotal: 2.76s\tremaining: 18.1s\n",
      "66:\tlearn: 0.6438315\ttotal: 2.8s\tremaining: 18.1s\n",
      "67:\tlearn: 0.6427934\ttotal: 2.85s\tremaining: 18.1s\n",
      "68:\tlearn: 0.6430509\ttotal: 2.89s\tremaining: 18s\n",
      "69:\tlearn: 0.6429303\ttotal: 2.93s\tremaining: 18s\n",
      "70:\tlearn: 0.6432752\ttotal: 2.96s\tremaining: 17.9s\n",
      "71:\tlearn: 0.6431642\ttotal: 3.01s\tremaining: 17.9s\n",
      "72:\tlearn: 0.6441720\ttotal: 3.04s\tremaining: 17.8s\n",
      "73:\tlearn: 0.6448333\ttotal: 3.07s\tremaining: 17.7s\n",
      "74:\tlearn: 0.6448246\ttotal: 3.12s\tremaining: 17.7s\n",
      "75:\tlearn: 0.6449208\ttotal: 3.15s\tremaining: 17.6s\n",
      "76:\tlearn: 0.6455872\ttotal: 3.19s\tremaining: 17.5s\n",
      "77:\tlearn: 0.6460615\ttotal: 3.23s\tremaining: 17.5s\n",
      "78:\tlearn: 0.6455696\ttotal: 3.26s\tremaining: 17.4s\n",
      "79:\tlearn: 0.6455930\ttotal: 3.29s\tremaining: 17.3s\n",
      "80:\tlearn: 0.6459418\ttotal: 3.32s\tremaining: 17.2s\n",
      "81:\tlearn: 0.6457035\ttotal: 3.34s\tremaining: 17s\n",
      "82:\tlearn: 0.6458484\ttotal: 3.38s\tremaining: 17s\n",
      "83:\tlearn: 0.6462361\ttotal: 3.41s\tremaining: 16.9s\n",
      "84:\tlearn: 0.6461102\ttotal: 3.44s\tremaining: 16.8s\n",
      "85:\tlearn: 0.6463913\ttotal: 3.49s\tremaining: 16.8s\n",
      "86:\tlearn: 0.6458044\ttotal: 3.52s\tremaining: 16.7s\n",
      "87:\tlearn: 0.6457686\ttotal: 3.57s\tremaining: 16.7s\n",
      "88:\tlearn: 0.6456282\ttotal: 3.61s\tremaining: 16.7s\n",
      "89:\tlearn: 0.6456073\ttotal: 3.64s\tremaining: 16.6s\n",
      "90:\tlearn: 0.6456969\ttotal: 3.69s\tremaining: 16.6s\n",
      "91:\tlearn: 0.6461172\ttotal: 3.72s\tremaining: 16.5s\n",
      "92:\tlearn: 0.6465135\ttotal: 3.76s\tremaining: 16.4s\n",
      "93:\tlearn: 0.6470452\ttotal: 3.8s\tremaining: 16.4s\n",
      "94:\tlearn: 0.6469809\ttotal: 3.83s\tremaining: 16.3s\n",
      "95:\tlearn: 0.6468719\ttotal: 3.88s\tremaining: 16.3s\n",
      "96:\tlearn: 0.6470413\ttotal: 3.93s\tremaining: 16.3s\n",
      "97:\tlearn: 0.6473977\ttotal: 3.99s\tremaining: 16.4s\n",
      "98:\tlearn: 0.6468212\ttotal: 4.03s\tremaining: 16.3s\n",
      "99:\tlearn: 0.6470549\ttotal: 4.08s\tremaining: 16.3s\n",
      "100:\tlearn: 0.6470121\ttotal: 4.12s\tremaining: 16.3s\n",
      "101:\tlearn: 0.6469887\ttotal: 4.17s\tremaining: 16.3s\n",
      "102:\tlearn: 0.6472571\ttotal: 4.21s\tremaining: 16.2s\n",
      "103:\tlearn: 0.6473232\ttotal: 4.25s\tremaining: 16.2s\n",
      "104:\tlearn: 0.6468701\ttotal: 4.29s\tremaining: 16.1s\n",
      "105:\tlearn: 0.6468001\ttotal: 4.33s\tremaining: 16.1s\n",
      "106:\tlearn: 0.6467398\ttotal: 4.36s\tremaining: 16s\n",
      "107:\tlearn: 0.6468448\ttotal: 4.39s\tremaining: 15.9s\n",
      "108:\tlearn: 0.6468234\ttotal: 4.43s\tremaining: 15.9s\n",
      "109:\tlearn: 0.6469324\ttotal: 4.47s\tremaining: 15.8s\n",
      "110:\tlearn: 0.6468876\ttotal: 4.5s\tremaining: 15.8s\n",
      "111:\tlearn: 0.6471952\ttotal: 4.54s\tremaining: 15.7s\n",
      "112:\tlearn: 0.6471504\ttotal: 4.58s\tremaining: 15.7s\n",
      "113:\tlearn: 0.6477243\ttotal: 4.63s\tremaining: 15.7s\n",
      "114:\tlearn: 0.6477243\ttotal: 4.67s\tremaining: 15.6s\n",
      "115:\tlearn: 0.6478118\ttotal: 4.71s\tremaining: 15.6s\n",
      "116:\tlearn: 0.6478370\ttotal: 4.75s\tremaining: 15.6s\n",
      "117:\tlearn: 0.6469266\ttotal: 4.79s\tremaining: 15.5s\n",
      "118:\tlearn: 0.6469266\ttotal: 4.83s\tremaining: 15.5s\n",
      "119:\tlearn: 0.6472999\ttotal: 4.87s\tremaining: 15.4s\n",
      "120:\tlearn: 0.6476342\ttotal: 4.92s\tremaining: 15.4s\n",
      "121:\tlearn: 0.6473213\ttotal: 4.95s\tremaining: 15.3s\n",
      "122:\tlearn: 0.6475700\ttotal: 4.99s\tremaining: 15.3s\n",
      "123:\tlearn: 0.6478929\ttotal: 5.03s\tremaining: 15.2s\n",
      "124:\tlearn: 0.6480288\ttotal: 5.06s\tremaining: 15.2s\n",
      "125:\tlearn: 0.6480521\ttotal: 5.1s\tremaining: 15.1s\n",
      "126:\tlearn: 0.6486897\ttotal: 5.14s\tremaining: 15.1s\n",
      "127:\tlearn: 0.6482289\ttotal: 5.18s\tremaining: 15.1s\n",
      "128:\tlearn: 0.6484057\ttotal: 5.22s\tremaining: 15s\n",
      "129:\tlearn: 0.6494297\ttotal: 5.26s\tremaining: 15s\n",
      "130:\tlearn: 0.6488024\ttotal: 5.3s\tremaining: 14.9s\n",
      "131:\tlearn: 0.6489795\ttotal: 5.33s\tremaining: 14.9s\n",
      "132:\tlearn: 0.6490241\ttotal: 5.37s\tremaining: 14.8s\n",
      "133:\tlearn: 0.6495653\ttotal: 5.42s\tremaining: 14.8s\n",
      "134:\tlearn: 0.6495438\ttotal: 5.45s\tremaining: 14.7s\n",
      "135:\tlearn: 0.6495009\ttotal: 5.49s\tremaining: 14.7s\n",
      "136:\tlearn: 0.6495241\ttotal: 5.52s\tremaining: 14.6s\n",
      "137:\tlearn: 0.6493172\ttotal: 5.56s\tremaining: 14.6s\n",
      "138:\tlearn: 0.6494675\ttotal: 5.61s\tremaining: 14.6s\n",
      "139:\tlearn: 0.6494675\ttotal: 5.64s\tremaining: 14.5s\n",
      "140:\tlearn: 0.6488686\ttotal: 5.68s\tremaining: 14.5s\n",
      "141:\tlearn: 0.6499537\ttotal: 5.72s\tremaining: 14.4s\n",
      "142:\tlearn: 0.6498379\ttotal: 5.75s\tremaining: 14.4s\n",
      "143:\tlearn: 0.6493945\ttotal: 5.8s\tremaining: 14.3s\n",
      "144:\tlearn: 0.6497469\ttotal: 5.83s\tremaining: 14.3s\n",
      "145:\tlearn: 0.6495449\ttotal: 5.88s\tremaining: 14.3s\n",
      "146:\tlearn: 0.6494985\ttotal: 5.92s\tremaining: 14.2s\n",
      "147:\tlearn: 0.6494985\ttotal: 5.95s\tremaining: 14.2s\n",
      "148:\tlearn: 0.6497220\ttotal: 5.99s\tremaining: 14.1s\n",
      "149:\tlearn: 0.6501638\ttotal: 6.02s\tremaining: 14.1s\n",
      "150:\tlearn: 0.6501257\ttotal: 6.07s\tremaining: 14s\n",
      "151:\tlearn: 0.6504581\ttotal: 6.12s\tremaining: 14s\n",
      "152:\tlearn: 0.6505538\ttotal: 6.16s\tremaining: 14s\n",
      "153:\tlearn: 0.6505538\ttotal: 6.21s\tremaining: 13.9s\n",
      "154:\tlearn: 0.6505538\ttotal: 6.25s\tremaining: 13.9s\n",
      "155:\tlearn: 0.6504167\ttotal: 6.3s\tremaining: 13.9s\n",
      "156:\tlearn: 0.6504001\ttotal: 6.34s\tremaining: 13.8s\n",
      "157:\tlearn: 0.6504431\ttotal: 6.38s\tremaining: 13.8s\n",
      "158:\tlearn: 0.6505506\ttotal: 6.42s\tremaining: 13.8s\n",
      "159:\tlearn: 0.6505737\ttotal: 6.45s\tremaining: 13.7s\n",
      "160:\tlearn: 0.6505673\ttotal: 6.5s\tremaining: 13.7s\n",
      "161:\tlearn: 0.6505673\ttotal: 6.53s\tremaining: 13.6s\n",
      "162:\tlearn: 0.6508320\ttotal: 6.58s\tremaining: 13.6s\n",
      "163:\tlearn: 0.6507212\ttotal: 6.61s\tremaining: 13.5s\n",
      "164:\tlearn: 0.6506965\ttotal: 6.67s\tremaining: 13.5s\n",
      "165:\tlearn: 0.6509197\ttotal: 6.71s\tremaining: 13.5s\n",
      "166:\tlearn: 0.6509428\ttotal: 6.75s\tremaining: 13.5s\n",
      "167:\tlearn: 0.6509643\ttotal: 6.79s\tremaining: 13.4s\n",
      "168:\tlearn: 0.6507842\ttotal: 6.84s\tremaining: 13.4s\n",
      "169:\tlearn: 0.6507842\ttotal: 6.87s\tremaining: 13.3s\n",
      "170:\tlearn: 0.6510243\ttotal: 6.9s\tremaining: 13.3s\n",
      "171:\tlearn: 0.6510720\ttotal: 6.94s\tremaining: 13.2s\n",
      "172:\tlearn: 0.6509596\ttotal: 6.98s\tremaining: 13.2s\n",
      "173:\tlearn: 0.6509612\ttotal: 7.02s\tremaining: 13.2s\n",
      "174:\tlearn: 0.6509812\ttotal: 7.06s\tremaining: 13.1s\n",
      "175:\tlearn: 0.6509812\ttotal: 7.1s\tremaining: 13.1s\n",
      "176:\tlearn: 0.6512013\ttotal: 7.14s\tremaining: 13s\n",
      "177:\tlearn: 0.6511566\ttotal: 7.18s\tremaining: 13s\n",
      "178:\tlearn: 0.6511766\ttotal: 7.22s\tremaining: 13s\n",
      "179:\tlearn: 0.6513522\ttotal: 7.27s\tremaining: 12.9s\n",
      "180:\tlearn: 0.6513321\ttotal: 7.31s\tremaining: 12.9s\n",
      "181:\tlearn: 0.6513522\ttotal: 7.36s\tremaining: 12.9s\n",
      "182:\tlearn: 0.6516846\ttotal: 7.42s\tremaining: 12.9s\n",
      "183:\tlearn: 0.6517293\ttotal: 7.46s\tremaining: 12.8s\n",
      "184:\tlearn: 0.6517508\ttotal: 7.51s\tremaining: 12.8s\n",
      "185:\tlearn: 0.6517278\ttotal: 7.55s\tremaining: 12.8s\n",
      "186:\tlearn: 0.6517754\ttotal: 7.59s\tremaining: 12.7s\n",
      "187:\tlearn: 0.6517999\ttotal: 7.63s\tremaining: 12.7s\n",
      "188:\tlearn: 0.6518847\ttotal: 7.67s\tremaining: 12.6s\n",
      "189:\tlearn: 0.6517955\ttotal: 7.71s\tremaining: 12.6s\n",
      "190:\tlearn: 0.6518401\ttotal: 7.74s\tremaining: 12.5s\n",
      "191:\tlearn: 0.6519077\ttotal: 7.78s\tremaining: 12.5s\n",
      "192:\tlearn: 0.6519092\ttotal: 7.82s\tremaining: 12.4s\n",
      "193:\tlearn: 0.6519092\ttotal: 7.86s\tremaining: 12.4s\n",
      "194:\tlearn: 0.6515136\ttotal: 7.89s\tremaining: 12.3s\n",
      "195:\tlearn: 0.6520675\ttotal: 7.94s\tremaining: 12.3s\n",
      "196:\tlearn: 0.6521466\ttotal: 7.98s\tremaining: 12.3s\n",
      "197:\tlearn: 0.6521912\ttotal: 8.02s\tremaining: 12.2s\n",
      "198:\tlearn: 0.6521696\ttotal: 8.05s\tremaining: 12.2s\n",
      "199:\tlearn: 0.6522357\ttotal: 8.1s\tremaining: 12.2s\n",
      "200:\tlearn: 0.6520445\ttotal: 8.13s\tremaining: 12.1s\n",
      "201:\tlearn: 0.6518445\ttotal: 8.18s\tremaining: 12.1s\n",
      "202:\tlearn: 0.6518445\ttotal: 8.22s\tremaining: 12s\n",
      "203:\tlearn: 0.6518705\ttotal: 8.27s\tremaining: 12s\n",
      "204:\tlearn: 0.6518705\ttotal: 8.31s\tremaining: 12s\n",
      "205:\tlearn: 0.6520919\ttotal: 8.35s\tremaining: 11.9s\n",
      "206:\tlearn: 0.6521351\ttotal: 8.39s\tremaining: 11.9s\n",
      "207:\tlearn: 0.6528871\ttotal: 8.42s\tremaining: 11.8s\n",
      "208:\tlearn: 0.6528641\ttotal: 8.47s\tremaining: 11.8s\n",
      "209:\tlearn: 0.6528655\ttotal: 8.51s\tremaining: 11.7s\n",
      "210:\tlearn: 0.6527884\ttotal: 8.54s\tremaining: 11.7s\n",
      "211:\tlearn: 0.6534097\ttotal: 8.59s\tremaining: 11.7s\n",
      "212:\tlearn: 0.6533867\ttotal: 8.63s\tremaining: 11.6s\n",
      "213:\tlearn: 0.6531895\ttotal: 8.67s\tremaining: 11.6s\n",
      "214:\tlearn: 0.6533219\ttotal: 8.7s\tremaining: 11.5s\n",
      "215:\tlearn: 0.6532301\ttotal: 8.74s\tremaining: 11.5s\n",
      "216:\tlearn: 0.6532085\ttotal: 8.79s\tremaining: 11.5s\n",
      "217:\tlearn: 0.6534988\ttotal: 8.83s\tremaining: 11.4s\n",
      "218:\tlearn: 0.6537405\ttotal: 8.89s\tremaining: 11.4s\n",
      "219:\tlearn: 0.6537686\ttotal: 8.93s\tremaining: 11.4s\n",
      "220:\tlearn: 0.6538360\ttotal: 8.98s\tremaining: 11.3s\n",
      "221:\tlearn: 0.6541005\ttotal: 9.02s\tremaining: 11.3s\n",
      "222:\tlearn: 0.6541284\ttotal: 9.06s\tremaining: 11.3s\n",
      "223:\tlearn: 0.6540203\ttotal: 9.11s\tremaining: 11.2s\n",
      "224:\tlearn: 0.6542210\ttotal: 9.16s\tremaining: 11.2s\n",
      "225:\tlearn: 0.6535675\ttotal: 9.21s\tremaining: 11.2s\n",
      "226:\tlearn: 0.6538563\ttotal: 9.27s\tremaining: 11.1s\n",
      "227:\tlearn: 0.6540789\ttotal: 9.32s\tremaining: 11.1s\n",
      "228:\tlearn: 0.6538805\ttotal: 9.36s\tremaining: 11.1s\n",
      "229:\tlearn: 0.6538385\ttotal: 9.4s\tremaining: 11s\n",
      "230:\tlearn: 0.6537711\ttotal: 9.44s\tremaining: 11s\n",
      "231:\tlearn: 0.6541617\ttotal: 9.47s\tremaining: 10.9s\n",
      "232:\tlearn: 0.6543675\ttotal: 9.51s\tremaining: 10.9s\n",
      "233:\tlearn: 0.6543700\ttotal: 9.55s\tremaining: 10.9s\n",
      "234:\tlearn: 0.6544349\ttotal: 9.58s\tremaining: 10.8s\n",
      "235:\tlearn: 0.6545022\ttotal: 9.63s\tremaining: 10.8s\n",
      "236:\tlearn: 0.6547233\ttotal: 9.66s\tremaining: 10.7s\n",
      "237:\tlearn: 0.6545683\ttotal: 9.71s\tremaining: 10.7s\n",
      "238:\tlearn: 0.6545683\ttotal: 9.75s\tremaining: 10.7s\n",
      "239:\tlearn: 0.6545467\ttotal: 9.8s\tremaining: 10.6s\n",
      "240:\tlearn: 0.6544349\ttotal: 9.84s\tremaining: 10.6s\n",
      "241:\tlearn: 0.6544349\ttotal: 9.87s\tremaining: 10.5s\n",
      "242:\tlearn: 0.6544385\ttotal: 9.91s\tremaining: 10.5s\n",
      "243:\tlearn: 0.6543940\ttotal: 9.95s\tremaining: 10.4s\n",
      "244:\tlearn: 0.6547462\ttotal: 10s\tremaining: 10.4s\n",
      "245:\tlearn: 0.6548111\ttotal: 10s\tremaining: 10.4s\n",
      "246:\tlearn: 0.6548556\ttotal: 10.1s\tremaining: 10.3s\n",
      "247:\tlearn: 0.6555166\ttotal: 10.1s\tremaining: 10.3s\n",
      "248:\tlearn: 0.6555144\ttotal: 10.2s\tremaining: 10.2s\n",
      "249:\tlearn: 0.6555578\ttotal: 10.2s\tremaining: 10.2s\n",
      "250:\tlearn: 0.6552705\ttotal: 10.2s\tremaining: 10.2s\n",
      "251:\tlearn: 0.6552556\ttotal: 10.3s\tremaining: 10.1s\n",
      "252:\tlearn: 0.6551462\ttotal: 10.3s\tremaining: 10.1s\n",
      "253:\tlearn: 0.6553900\ttotal: 10.4s\tremaining: 10s\n",
      "254:\tlearn: 0.6552123\ttotal: 10.4s\tremaining: 10s\n",
      "255:\tlearn: 0.6552806\ttotal: 10.5s\tremaining: 9.97s\n",
      "256:\tlearn: 0.6552590\ttotal: 10.5s\tremaining: 9.92s\n",
      "257:\tlearn: 0.6551713\ttotal: 10.5s\tremaining: 9.87s\n",
      "258:\tlearn: 0.6549684\ttotal: 10.6s\tremaining: 9.83s\n",
      "259:\tlearn: 0.6550299\ttotal: 10.6s\tremaining: 9.79s\n",
      "260:\tlearn: 0.6552522\ttotal: 10.6s\tremaining: 9.75s\n",
      "261:\tlearn: 0.6554061\ttotal: 10.7s\tremaining: 9.71s\n",
      "262:\tlearn: 0.6553000\ttotal: 10.7s\tremaining: 9.66s\n",
      "263:\tlearn: 0.6554289\ttotal: 10.8s\tremaining: 9.62s\n",
      "264:\tlearn: 0.6552739\ttotal: 10.8s\tremaining: 9.58s\n",
      "265:\tlearn: 0.6553012\ttotal: 10.9s\tremaining: 9.54s\n",
      "266:\tlearn: 0.6553616\ttotal: 10.9s\tremaining: 9.5s\n",
      "267:\tlearn: 0.6552511\ttotal: 10.9s\tremaining: 9.45s\n",
      "268:\tlearn: 0.6549592\ttotal: 11s\tremaining: 9.41s\n",
      "269:\tlearn: 0.6553127\ttotal: 11s\tremaining: 9.36s\n",
      "270:\tlearn: 0.6548907\ttotal: 11s\tremaining: 9.32s\n",
      "271:\tlearn: 0.6552910\ttotal: 11.1s\tremaining: 9.28s\n",
      "272:\tlearn: 0.6553994\ttotal: 11.1s\tremaining: 9.23s\n",
      "273:\tlearn: 0.6552887\ttotal: 11.2s\tremaining: 9.2s\n",
      "274:\tlearn: 0.6553755\ttotal: 11.2s\tremaining: 9.15s\n",
      "275:\tlearn: 0.6554655\ttotal: 11.2s\tremaining: 9.11s\n",
      "276:\tlearn: 0.6552659\ttotal: 11.3s\tremaining: 9.07s\n",
      "277:\tlearn: 0.6558895\ttotal: 11.3s\tremaining: 9.02s\n",
      "278:\tlearn: 0.6555816\ttotal: 11.3s\tremaining: 8.98s\n",
      "279:\tlearn: 0.6556044\ttotal: 11.4s\tremaining: 8.94s\n",
      "280:\tlearn: 0.6557778\ttotal: 11.4s\tremaining: 8.89s\n",
      "281:\tlearn: 0.6562614\ttotal: 11.4s\tremaining: 8.85s\n",
      "282:\tlearn: 0.6559741\ttotal: 11.5s\tremaining: 8.8s\n",
      "283:\tlearn: 0.6562820\ttotal: 11.5s\tremaining: 8.77s\n",
      "284:\tlearn: 0.6557236\ttotal: 11.6s\tremaining: 8.72s\n",
      "285:\tlearn: 0.6557464\ttotal: 11.6s\tremaining: 8.68s\n",
      "286:\tlearn: 0.6560381\ttotal: 11.6s\tremaining: 8.64s\n",
      "287:\tlearn: 0.6554850\ttotal: 11.7s\tremaining: 8.6s\n",
      "288:\tlearn: 0.6555511\ttotal: 11.7s\tremaining: 8.56s\n",
      "289:\tlearn: 0.6554828\ttotal: 11.8s\tremaining: 8.51s\n",
      "290:\tlearn: 0.6556140\ttotal: 11.8s\tremaining: 8.47s\n",
      "291:\tlearn: 0.6558343\ttotal: 11.8s\tremaining: 8.43s\n",
      "292:\tlearn: 0.6558809\ttotal: 11.9s\tremaining: 8.39s\n",
      "293:\tlearn: 0.6560773\ttotal: 11.9s\tremaining: 8.35s\n",
      "294:\tlearn: 0.6560545\ttotal: 11.9s\tremaining: 8.3s\n",
      "295:\tlearn: 0.6560101\ttotal: 12s\tremaining: 8.26s\n",
      "296:\tlearn: 0.6560980\ttotal: 12s\tremaining: 8.22s\n",
      "297:\tlearn: 0.6560545\ttotal: 12.1s\tremaining: 8.17s\n",
      "298:\tlearn: 0.6560318\ttotal: 12.1s\tremaining: 8.13s\n",
      "299:\tlearn: 0.6563410\ttotal: 12.1s\tremaining: 8.09s\n",
      "300:\tlearn: 0.6566502\ttotal: 12.2s\tremaining: 8.04s\n",
      "301:\tlearn: 0.6563390\ttotal: 12.2s\tremaining: 8.01s\n",
      "302:\tlearn: 0.6564734\ttotal: 12.3s\tremaining: 7.96s\n",
      "303:\tlearn: 0.6568725\ttotal: 12.3s\tremaining: 7.92s\n",
      "304:\tlearn: 0.6567806\ttotal: 12.3s\tremaining: 7.88s\n",
      "305:\tlearn: 0.6569565\ttotal: 12.4s\tremaining: 7.84s\n",
      "306:\tlearn: 0.6568439\ttotal: 12.4s\tremaining: 7.81s\n",
      "307:\tlearn: 0.6569764\ttotal: 12.4s\tremaining: 7.76s\n",
      "308:\tlearn: 0.6574880\ttotal: 12.5s\tremaining: 7.72s\n",
      "309:\tlearn: 0.6578616\ttotal: 12.5s\tremaining: 7.69s\n",
      "310:\tlearn: 0.6579531\ttotal: 12.6s\tremaining: 7.66s\n",
      "311:\tlearn: 0.6579113\ttotal: 12.6s\tremaining: 7.62s\n",
      "312:\tlearn: 0.6582211\ttotal: 12.7s\tremaining: 7.58s\n",
      "313:\tlearn: 0.6582438\ttotal: 12.7s\tremaining: 7.54s\n",
      "314:\tlearn: 0.6580671\ttotal: 12.8s\tremaining: 7.5s\n",
      "315:\tlearn: 0.6581793\ttotal: 12.8s\tremaining: 7.46s\n",
      "316:\tlearn: 0.6581132\ttotal: 12.8s\tremaining: 7.42s\n",
      "317:\tlearn: 0.6580905\ttotal: 12.9s\tremaining: 7.37s\n",
      "318:\tlearn: 0.6580905\ttotal: 12.9s\tremaining: 7.33s\n",
      "319:\tlearn: 0.6580637\ttotal: 12.9s\tremaining: 7.28s\n",
      "320:\tlearn: 0.6581918\ttotal: 13s\tremaining: 7.24s\n",
      "321:\tlearn: 0.6579287\ttotal: 13s\tremaining: 7.2s\n",
      "322:\tlearn: 0.6577745\ttotal: 13s\tremaining: 7.15s\n",
      "323:\tlearn: 0.6577745\ttotal: 13.1s\tremaining: 7.11s\n",
      "324:\tlearn: 0.6577075\ttotal: 13.1s\tremaining: 7.07s\n",
      "325:\tlearn: 0.6577745\ttotal: 13.2s\tremaining: 7.04s\n",
      "326:\tlearn: 0.6579731\ttotal: 13.2s\tremaining: 7s\n",
      "327:\tlearn: 0.6581281\ttotal: 13.3s\tremaining: 6.96s\n",
      "328:\tlearn: 0.6581558\ttotal: 13.3s\tremaining: 6.91s\n",
      "329:\tlearn: 0.6582890\ttotal: 13.3s\tremaining: 6.87s\n",
      "330:\tlearn: 0.6586858\ttotal: 13.4s\tremaining: 6.83s\n",
      "331:\tlearn: 0.6587535\ttotal: 13.4s\tremaining: 6.79s\n",
      "332:\tlearn: 0.6587535\ttotal: 13.5s\tremaining: 6.75s\n",
      "333:\tlearn: 0.6591495\ttotal: 13.5s\tremaining: 6.71s\n",
      "334:\tlearn: 0.6593283\ttotal: 13.5s\tremaining: 6.67s\n",
      "335:\tlearn: 0.6593516\ttotal: 13.6s\tremaining: 6.63s\n",
      "336:\tlearn: 0.6594169\ttotal: 13.6s\tremaining: 6.59s\n",
      "337:\tlearn: 0.6595477\ttotal: 13.7s\tremaining: 6.55s\n",
      "338:\tlearn: 0.6596378\ttotal: 13.7s\tremaining: 6.51s\n",
      "339:\tlearn: 0.6597706\ttotal: 13.7s\tremaining: 6.47s\n",
      "340:\tlearn: 0.6590669\ttotal: 13.8s\tremaining: 6.43s\n",
      "341:\tlearn: 0.6590676\ttotal: 13.8s\tremaining: 6.39s\n",
      "342:\tlearn: 0.6595295\ttotal: 13.9s\tremaining: 6.35s\n",
      "343:\tlearn: 0.6594627\ttotal: 13.9s\tremaining: 6.3s\n",
      "344:\tlearn: 0.6595063\ttotal: 14s\tremaining: 6.27s\n",
      "345:\tlearn: 0.6595063\ttotal: 14s\tremaining: 6.23s\n",
      "346:\tlearn: 0.6595063\ttotal: 14s\tremaining: 6.19s\n",
      "347:\tlearn: 0.6596167\ttotal: 14.1s\tremaining: 6.15s\n",
      "348:\tlearn: 0.6596834\ttotal: 14.1s\tremaining: 6.11s\n",
      "349:\tlearn: 0.6595492\ttotal: 14.2s\tremaining: 6.07s\n",
      "350:\tlearn: 0.6597897\ttotal: 14.2s\tremaining: 6.03s\n",
      "351:\tlearn: 0.6596807\ttotal: 14.2s\tremaining: 5.99s\n",
      "352:\tlearn: 0.6598115\ttotal: 14.3s\tremaining: 5.95s\n",
      "353:\tlearn: 0.6597454\ttotal: 14.3s\tremaining: 5.9s\n",
      "354:\tlearn: 0.6600509\ttotal: 14.4s\tremaining: 5.86s\n",
      "355:\tlearn: 0.6602725\ttotal: 14.4s\tremaining: 5.82s\n",
      "356:\tlearn: 0.6604067\ttotal: 14.4s\tremaining: 5.78s\n",
      "357:\tlearn: 0.6602744\ttotal: 14.5s\tremaining: 5.74s\n",
      "358:\tlearn: 0.6604304\ttotal: 14.5s\tremaining: 5.69s\n",
      "359:\tlearn: 0.6608276\ttotal: 14.5s\tremaining: 5.66s\n",
      "360:\tlearn: 0.6606765\ttotal: 14.6s\tremaining: 5.61s\n",
      "361:\tlearn: 0.6603643\ttotal: 14.6s\tremaining: 5.57s\n",
      "362:\tlearn: 0.6605426\ttotal: 14.6s\tremaining: 5.53s\n",
      "363:\tlearn: 0.6604322\ttotal: 14.7s\tremaining: 5.48s\n",
      "364:\tlearn: 0.6606535\ttotal: 14.7s\tremaining: 5.45s\n",
      "365:\tlearn: 0.6604104\ttotal: 14.8s\tremaining: 5.4s\n",
      "366:\tlearn: 0.6610041\ttotal: 14.8s\tremaining: 5.36s\n",
      "367:\tlearn: 0.6612909\ttotal: 14.8s\tremaining: 5.32s\n",
      "368:\tlearn: 0.6614007\ttotal: 14.9s\tremaining: 5.28s\n",
      "369:\tlearn: 0.6615756\ttotal: 14.9s\tremaining: 5.24s\n",
      "370:\tlearn: 0.6608914\ttotal: 15s\tremaining: 5.2s\n",
      "371:\tlearn: 0.6608466\ttotal: 15s\tremaining: 5.16s\n",
      "372:\tlearn: 0.6608247\ttotal: 15s\tremaining: 5.12s\n",
      "373:\tlearn: 0.6608029\ttotal: 15.1s\tremaining: 5.07s\n",
      "374:\tlearn: 0.6608029\ttotal: 15.1s\tremaining: 5.03s\n",
      "375:\tlearn: 0.6608920\ttotal: 15.1s\tremaining: 4.99s\n",
      "376:\tlearn: 0.6609340\ttotal: 15.2s\tremaining: 4.95s\n",
      "377:\tlearn: 0.6609340\ttotal: 15.2s\tremaining: 4.91s\n",
      "378:\tlearn: 0.6611106\ttotal: 15.2s\tremaining: 4.87s\n",
      "379:\tlearn: 0.6611986\ttotal: 15.3s\tremaining: 4.83s\n",
      "380:\tlearn: 0.6617044\ttotal: 15.3s\tremaining: 4.79s\n",
      "381:\tlearn: 0.6619019\ttotal: 15.4s\tremaining: 4.75s\n",
      "382:\tlearn: 0.6619019\ttotal: 15.4s\tremaining: 4.71s\n",
      "383:\tlearn: 0.6616362\ttotal: 15.4s\tremaining: 4.67s\n",
      "384:\tlearn: 0.6616800\ttotal: 15.5s\tremaining: 4.62s\n",
      "385:\tlearn: 0.6610203\ttotal: 15.5s\tremaining: 4.58s\n",
      "386:\tlearn: 0.6612183\ttotal: 15.5s\tremaining: 4.54s\n",
      "387:\tlearn: 0.6613506\ttotal: 15.6s\tremaining: 4.5s\n",
      "388:\tlearn: 0.6615064\ttotal: 15.6s\tremaining: 4.46s\n",
      "389:\tlearn: 0.6613720\ttotal: 15.7s\tremaining: 4.42s\n",
      "390:\tlearn: 0.6615273\ttotal: 15.7s\tremaining: 4.38s\n",
      "391:\tlearn: 0.6617243\ttotal: 15.7s\tremaining: 4.33s\n",
      "392:\tlearn: 0.6617243\ttotal: 15.8s\tremaining: 4.29s\n",
      "393:\tlearn: 0.6617905\ttotal: 15.8s\tremaining: 4.25s\n",
      "394:\tlearn: 0.6616362\ttotal: 15.8s\tremaining: 4.21s\n",
      "395:\tlearn: 0.6612172\ttotal: 15.9s\tremaining: 4.17s\n",
      "396:\tlearn: 0.6612172\ttotal: 15.9s\tremaining: 4.13s\n",
      "397:\tlearn: 0.6613720\ttotal: 15.9s\tremaining: 4.08s\n",
      "398:\tlearn: 0.6614606\ttotal: 16s\tremaining: 4.04s\n",
      "399:\tlearn: 0.6615934\ttotal: 16s\tremaining: 4s\n",
      "400:\tlearn: 0.6613704\ttotal: 16s\tremaining: 3.96s\n",
      "401:\tlearn: 0.6614809\ttotal: 16.1s\tremaining: 3.92s\n",
      "402:\tlearn: 0.6615252\ttotal: 16.1s\tremaining: 3.88s\n",
      "403:\tlearn: 0.6614814\ttotal: 16.2s\tremaining: 3.84s\n",
      "404:\tlearn: 0.6615033\ttotal: 16.2s\tremaining: 3.8s\n",
      "405:\tlearn: 0.6618129\ttotal: 16.2s\tremaining: 3.76s\n",
      "406:\tlearn: 0.6619686\ttotal: 16.3s\tremaining: 3.72s\n",
      "407:\tlearn: 0.6619457\ttotal: 16.3s\tremaining: 3.68s\n",
      "408:\tlearn: 0.6620338\ttotal: 16.4s\tremaining: 3.64s\n",
      "409:\tlearn: 0.6621443\ttotal: 16.4s\tremaining: 3.6s\n",
      "410:\tlearn: 0.6623209\ttotal: 16.4s\tremaining: 3.56s\n",
      "411:\tlearn: 0.6622771\ttotal: 16.5s\tremaining: 3.52s\n",
      "412:\tlearn: 0.6623656\ttotal: 16.5s\tremaining: 3.48s\n",
      "413:\tlearn: 0.6623656\ttotal: 16.6s\tremaining: 3.44s\n",
      "414:\tlearn: 0.6623871\ttotal: 16.6s\tremaining: 3.4s\n",
      "415:\tlearn: 0.6624090\ttotal: 16.6s\tremaining: 3.35s\n",
      "416:\tlearn: 0.6624090\ttotal: 16.7s\tremaining: 3.32s\n",
      "417:\tlearn: 0.6626084\ttotal: 16.7s\tremaining: 3.27s\n",
      "418:\tlearn: 0.6625641\ttotal: 16.7s\tremaining: 3.24s\n",
      "419:\tlearn: 0.6626084\ttotal: 16.8s\tremaining: 3.2s\n",
      "420:\tlearn: 0.6624756\ttotal: 16.8s\tremaining: 3.15s\n",
      "421:\tlearn: 0.6620804\ttotal: 16.9s\tremaining: 3.12s\n",
      "422:\tlearn: 0.6621479\ttotal: 16.9s\tremaining: 3.08s\n",
      "423:\tlearn: 0.6622595\ttotal: 16.9s\tremaining: 3.04s\n",
      "424:\tlearn: 0.6622806\ttotal: 17s\tremaining: 3s\n",
      "425:\tlearn: 0.6618148\ttotal: 17s\tremaining: 2.96s\n",
      "426:\tlearn: 0.6618143\ttotal: 17.1s\tremaining: 2.92s\n",
      "427:\tlearn: 0.6617039\ttotal: 17.1s\tremaining: 2.88s\n",
      "428:\tlearn: 0.6615710\ttotal: 17.1s\tremaining: 2.84s\n",
      "429:\tlearn: 0.6618143\ttotal: 17.2s\tremaining: 2.8s\n",
      "430:\tlearn: 0.6619937\ttotal: 17.2s\tremaining: 2.76s\n",
      "431:\tlearn: 0.6620608\ttotal: 17.3s\tremaining: 2.72s\n",
      "432:\tlearn: 0.6621054\ttotal: 17.3s\tremaining: 2.68s\n",
      "433:\tlearn: 0.6622381\ttotal: 17.3s\tremaining: 2.64s\n",
      "434:\tlearn: 0.6625665\ttotal: 17.4s\tremaining: 2.6s\n",
      "435:\tlearn: 0.6626769\ttotal: 17.4s\tremaining: 2.56s\n",
      "436:\tlearn: 0.6628979\ttotal: 17.5s\tremaining: 2.52s\n",
      "437:\tlearn: 0.6631631\ttotal: 17.5s\tremaining: 2.48s\n",
      "438:\tlearn: 0.6634072\ttotal: 17.5s\tremaining: 2.44s\n",
      "439:\tlearn: 0.6635184\ttotal: 17.6s\tremaining: 2.4s\n",
      "440:\tlearn: 0.6634523\ttotal: 17.6s\tremaining: 2.36s\n",
      "441:\tlearn: 0.6636063\ttotal: 17.7s\tremaining: 2.32s\n",
      "442:\tlearn: 0.6637162\ttotal: 17.7s\tremaining: 2.28s\n",
      "443:\tlearn: 0.6637384\ttotal: 17.7s\tremaining: 2.24s\n",
      "444:\tlearn: 0.6637814\ttotal: 17.8s\tremaining: 2.19s\n",
      "445:\tlearn: 0.6637592\ttotal: 17.8s\tremaining: 2.16s\n",
      "446:\tlearn: 0.6636271\ttotal: 17.8s\tremaining: 2.12s\n",
      "447:\tlearn: 0.6636271\ttotal: 17.9s\tremaining: 2.07s\n",
      "448:\tlearn: 0.6636268\ttotal: 17.9s\tremaining: 2.04s\n",
      "449:\tlearn: 0.6637154\ttotal: 18s\tremaining: 1.99s\n",
      "450:\tlearn: 0.6638256\ttotal: 18s\tremaining: 1.96s\n",
      "451:\tlearn: 0.6640243\ttotal: 18s\tremaining: 1.91s\n",
      "452:\tlearn: 0.6640246\ttotal: 18.1s\tremaining: 1.87s\n",
      "453:\tlearn: 0.6640465\ttotal: 18.1s\tremaining: 1.83s\n",
      "454:\tlearn: 0.6640243\ttotal: 18.1s\tremaining: 1.79s\n",
      "455:\tlearn: 0.6639804\ttotal: 18.2s\tremaining: 1.75s\n",
      "456:\tlearn: 0.6639363\ttotal: 18.2s\tremaining: 1.71s\n",
      "457:\tlearn: 0.6636712\ttotal: 18.3s\tremaining: 1.67s\n",
      "458:\tlearn: 0.6637154\ttotal: 18.3s\tremaining: 1.63s\n",
      "459:\tlearn: 0.6639136\ttotal: 18.4s\tremaining: 1.59s\n",
      "460:\tlearn: 0.6639572\ttotal: 18.4s\tremaining: 1.55s\n",
      "461:\tlearn: 0.6640679\ttotal: 18.4s\tremaining: 1.51s\n",
      "462:\tlearn: 0.6638686\ttotal: 18.5s\tremaining: 1.48s\n",
      "463:\tlearn: 0.6641991\ttotal: 18.5s\tremaining: 1.44s\n",
      "464:\tlearn: 0.6640893\ttotal: 18.5s\tremaining: 1.4s\n",
      "465:\tlearn: 0.6642210\ttotal: 18.6s\tremaining: 1.35s\n",
      "466:\tlearn: 0.6641983\ttotal: 18.6s\tremaining: 1.31s\n",
      "467:\tlearn: 0.6642423\ttotal: 18.7s\tremaining: 1.27s\n",
      "468:\tlearn: 0.6642649\ttotal: 18.7s\tremaining: 1.24s\n",
      "469:\tlearn: 0.6642215\ttotal: 18.7s\tremaining: 1.2s\n",
      "470:\tlearn: 0.6641774\ttotal: 18.8s\tremaining: 1.16s\n",
      "471:\tlearn: 0.6643551\ttotal: 18.8s\tremaining: 1.11s\n",
      "472:\tlearn: 0.6646625\ttotal: 18.8s\tremaining: 1.07s\n",
      "473:\tlearn: 0.6646184\ttotal: 18.9s\tremaining: 1.03s\n",
      "474:\tlearn: 0.6646412\ttotal: 18.9s\tremaining: 994ms\n",
      "475:\tlearn: 0.6646408\ttotal: 18.9s\tremaining: 955ms\n",
      "476:\tlearn: 0.6647502\ttotal: 19s\tremaining: 915ms\n",
      "477:\tlearn: 0.6644426\ttotal: 19s\tremaining: 875ms\n",
      "478:\tlearn: 0.6647284\ttotal: 19s\tremaining: 835ms\n",
      "479:\tlearn: 0.6649040\ttotal: 19.1s\tremaining: 795ms\n",
      "480:\tlearn: 0.6648157\ttotal: 19.1s\tremaining: 755ms\n",
      "481:\tlearn: 0.6653007\ttotal: 19.2s\tremaining: 716ms\n",
      "482:\tlearn: 0.6651904\ttotal: 19.2s\tremaining: 676ms\n",
      "483:\tlearn: 0.6652343\ttotal: 19.3s\tremaining: 637ms\n",
      "484:\tlearn: 0.6651467\ttotal: 19.3s\tremaining: 597ms\n",
      "485:\tlearn: 0.6652572\ttotal: 19.3s\tremaining: 557ms\n",
      "486:\tlearn: 0.6653669\ttotal: 19.4s\tremaining: 517ms\n",
      "487:\tlearn: 0.6653660\ttotal: 19.4s\tremaining: 478ms\n",
      "488:\tlearn: 0.6653440\ttotal: 19.5s\tremaining: 438ms\n",
      "489:\tlearn: 0.6654323\ttotal: 19.5s\tremaining: 399ms\n",
      "490:\tlearn: 0.6653882\ttotal: 19.6s\tremaining: 359ms\n",
      "491:\tlearn: 0.6653882\ttotal: 19.6s\tremaining: 319ms\n",
      "492:\tlearn: 0.6654102\ttotal: 19.7s\tremaining: 279ms\n",
      "493:\tlearn: 0.6654542\ttotal: 19.7s\tremaining: 239ms\n",
      "494:\tlearn: 0.6653882\ttotal: 19.8s\tremaining: 200ms\n",
      "495:\tlearn: 0.6654547\ttotal: 19.8s\tremaining: 160ms\n",
      "496:\tlearn: 0.6660496\ttotal: 19.8s\tremaining: 120ms\n",
      "497:\tlearn: 0.6660496\ttotal: 19.9s\tremaining: 79.8ms\n",
      "498:\tlearn: 0.6661156\ttotal: 19.9s\tremaining: 39.9ms\n",
      "499:\tlearn: 0.6663583\ttotal: 19.9s\tremaining: 0us\n",
      "0:\tlearn: 0.6537157\ttotal: 51.2ms\tremaining: 25.5s\n",
      "1:\tlearn: 0.5991941\ttotal: 85.1ms\tremaining: 21.2s\n",
      "2:\tlearn: 0.6378597\ttotal: 114ms\tremaining: 18.8s\n",
      "3:\tlearn: 0.6429109\ttotal: 157ms\tremaining: 19.5s\n",
      "4:\tlearn: 0.6309140\ttotal: 189ms\tremaining: 18.7s\n",
      "5:\tlearn: 0.6279361\ttotal: 224ms\tremaining: 18.4s\n",
      "6:\tlearn: 0.6297694\ttotal: 268ms\tremaining: 18.8s\n",
      "7:\tlearn: 0.6259861\ttotal: 297ms\tremaining: 18.3s\n",
      "8:\tlearn: 0.6328791\ttotal: 340ms\tremaining: 18.6s\n",
      "9:\tlearn: 0.6296541\ttotal: 374ms\tremaining: 18.3s\n",
      "10:\tlearn: 0.6292783\ttotal: 405ms\tremaining: 18s\n",
      "11:\tlearn: 0.6298189\ttotal: 450ms\tremaining: 18.3s\n",
      "12:\tlearn: 0.6313388\ttotal: 486ms\tremaining: 18.2s\n",
      "13:\tlearn: 0.6314466\ttotal: 532ms\tremaining: 18.5s\n",
      "14:\tlearn: 0.6316487\ttotal: 562ms\tremaining: 18.2s\n",
      "15:\tlearn: 0.6327023\ttotal: 600ms\tremaining: 18.1s\n",
      "16:\tlearn: 0.6338470\ttotal: 639ms\tremaining: 18.2s\n",
      "17:\tlearn: 0.6340932\ttotal: 673ms\tremaining: 18s\n",
      "18:\tlearn: 0.6353376\ttotal: 708ms\tremaining: 17.9s\n",
      "19:\tlearn: 0.6347895\ttotal: 750ms\tremaining: 18s\n",
      "20:\tlearn: 0.6378194\ttotal: 781ms\tremaining: 17.8s\n",
      "21:\tlearn: 0.6373923\ttotal: 821ms\tremaining: 17.8s\n",
      "22:\tlearn: 0.6378393\ttotal: 857ms\tremaining: 17.8s\n",
      "23:\tlearn: 0.6368008\ttotal: 894ms\tremaining: 17.7s\n",
      "24:\tlearn: 0.6367199\ttotal: 941ms\tremaining: 17.9s\n",
      "25:\tlearn: 0.6366661\ttotal: 975ms\tremaining: 17.8s\n",
      "26:\tlearn: 0.6363397\ttotal: 1.01s\tremaining: 17.6s\n",
      "27:\tlearn: 0.6363846\ttotal: 1.05s\tremaining: 17.6s\n",
      "28:\tlearn: 0.6375963\ttotal: 1.08s\tremaining: 17.6s\n",
      "29:\tlearn: 0.6379730\ttotal: 1.12s\tremaining: 17.6s\n",
      "30:\tlearn: 0.6376993\ttotal: 1.16s\tremaining: 17.5s\n",
      "31:\tlearn: 0.6380937\ttotal: 1.2s\tremaining: 17.5s\n",
      "32:\tlearn: 0.6383273\ttotal: 1.24s\tremaining: 17.5s\n",
      "33:\tlearn: 0.6382419\ttotal: 1.27s\tremaining: 17.4s\n",
      "34:\tlearn: 0.6385836\ttotal: 1.31s\tremaining: 17.5s\n",
      "35:\tlearn: 0.6388770\ttotal: 1.35s\tremaining: 17.4s\n",
      "36:\tlearn: 0.6388213\ttotal: 1.38s\tremaining: 17.3s\n",
      "37:\tlearn: 0.6396213\ttotal: 1.43s\tremaining: 17.3s\n",
      "38:\tlearn: 0.6397105\ttotal: 1.46s\tremaining: 17.2s\n",
      "39:\tlearn: 0.6396894\ttotal: 1.49s\tremaining: 17.2s\n",
      "40:\tlearn: 0.6399895\ttotal: 1.53s\tremaining: 17.1s\n",
      "41:\tlearn: 0.6405319\ttotal: 1.57s\tremaining: 17.2s\n",
      "42:\tlearn: 0.6398944\ttotal: 1.62s\tremaining: 17.2s\n",
      "43:\tlearn: 0.6399076\ttotal: 1.65s\tremaining: 17.1s\n",
      "44:\tlearn: 0.6407511\ttotal: 1.7s\tremaining: 17.2s\n",
      "45:\tlearn: 0.6413280\ttotal: 1.74s\tremaining: 17.1s\n",
      "46:\tlearn: 0.6412621\ttotal: 1.77s\tremaining: 17.1s\n",
      "47:\tlearn: 0.6412621\ttotal: 1.82s\tremaining: 17.1s\n",
      "48:\tlearn: 0.6411127\ttotal: 1.87s\tremaining: 17.2s\n",
      "49:\tlearn: 0.6411253\ttotal: 1.92s\tremaining: 17.3s\n",
      "50:\tlearn: 0.6407115\ttotal: 1.95s\tremaining: 17.2s\n",
      "51:\tlearn: 0.6411666\ttotal: 2s\tremaining: 17.2s\n",
      "52:\tlearn: 0.6424199\ttotal: 2.03s\tremaining: 17.2s\n",
      "53:\tlearn: 0.6426573\ttotal: 2.08s\tremaining: 17.2s\n",
      "54:\tlearn: 0.6427089\ttotal: 2.12s\tremaining: 17.1s\n",
      "55:\tlearn: 0.6430502\ttotal: 2.15s\tremaining: 17.1s\n",
      "56:\tlearn: 0.6434926\ttotal: 2.2s\tremaining: 17.1s\n",
      "57:\tlearn: 0.6434714\ttotal: 2.23s\tremaining: 17s\n",
      "58:\tlearn: 0.6433064\ttotal: 2.28s\tremaining: 17s\n",
      "59:\tlearn: 0.6441103\ttotal: 2.32s\tremaining: 17s\n",
      "60:\tlearn: 0.6442165\ttotal: 2.36s\tremaining: 17s\n",
      "61:\tlearn: 0.6438306\ttotal: 2.4s\tremaining: 16.9s\n",
      "62:\tlearn: 0.6437199\ttotal: 2.43s\tremaining: 16.9s\n",
      "63:\tlearn: 0.6442714\ttotal: 2.48s\tremaining: 16.9s\n",
      "64:\tlearn: 0.6443586\ttotal: 2.51s\tremaining: 16.8s\n",
      "65:\tlearn: 0.6439571\ttotal: 2.55s\tremaining: 16.7s\n",
      "66:\tlearn: 0.6439124\ttotal: 2.59s\tremaining: 16.7s\n",
      "67:\tlearn: 0.6442533\ttotal: 2.62s\tremaining: 16.6s\n",
      "68:\tlearn: 0.6443002\ttotal: 2.66s\tremaining: 16.6s\n",
      "69:\tlearn: 0.6446363\ttotal: 2.7s\tremaining: 16.6s\n",
      "70:\tlearn: 0.6448213\ttotal: 2.75s\tremaining: 16.6s\n",
      "71:\tlearn: 0.6449361\ttotal: 2.79s\tremaining: 16.6s\n",
      "72:\tlearn: 0.6449488\ttotal: 2.82s\tremaining: 16.5s\n",
      "73:\tlearn: 0.6459664\ttotal: 2.86s\tremaining: 16.5s\n",
      "74:\tlearn: 0.6459877\ttotal: 2.9s\tremaining: 16.4s\n",
      "75:\tlearn: 0.6451932\ttotal: 2.93s\tremaining: 16.4s\n",
      "76:\tlearn: 0.6457077\ttotal: 2.98s\tremaining: 16.4s\n",
      "77:\tlearn: 0.6458711\ttotal: 3.01s\tremaining: 16.3s\n",
      "78:\tlearn: 0.6459562\ttotal: 3.06s\tremaining: 16.3s\n",
      "79:\tlearn: 0.6458862\ttotal: 3.09s\tremaining: 16.2s\n",
      "80:\tlearn: 0.6460667\ttotal: 3.15s\tremaining: 16.3s\n",
      "81:\tlearn: 0.6464833\ttotal: 3.19s\tremaining: 16.3s\n",
      "82:\tlearn: 0.6465046\ttotal: 3.24s\tremaining: 16.3s\n",
      "83:\tlearn: 0.6463282\ttotal: 3.28s\tremaining: 16.2s\n",
      "84:\tlearn: 0.6461224\ttotal: 3.33s\tremaining: 16.3s\n",
      "85:\tlearn: 0.6462563\ttotal: 3.38s\tremaining: 16.3s\n",
      "86:\tlearn: 0.6463881\ttotal: 3.42s\tremaining: 16.3s\n",
      "87:\tlearn: 0.6467622\ttotal: 3.48s\tremaining: 16.3s\n",
      "88:\tlearn: 0.6468108\ttotal: 3.52s\tremaining: 16.2s\n",
      "89:\tlearn: 0.6476190\ttotal: 3.57s\tremaining: 16.3s\n",
      "90:\tlearn: 0.6476636\ttotal: 3.61s\tremaining: 16.2s\n",
      "91:\tlearn: 0.6476636\ttotal: 3.66s\tremaining: 16.2s\n",
      "92:\tlearn: 0.6476831\ttotal: 3.7s\tremaining: 16.2s\n",
      "93:\tlearn: 0.6474240\ttotal: 3.75s\tremaining: 16.2s\n",
      "94:\tlearn: 0.6473290\ttotal: 3.79s\tremaining: 16.2s\n",
      "95:\tlearn: 0.6471288\ttotal: 3.84s\tremaining: 16.2s\n",
      "96:\tlearn: 0.6470374\ttotal: 3.89s\tremaining: 16.2s\n",
      "97:\tlearn: 0.6472785\ttotal: 3.94s\tremaining: 16.2s\n",
      "98:\tlearn: 0.6478771\ttotal: 3.99s\tremaining: 16.1s\n",
      "99:\tlearn: 0.6479944\ttotal: 4.04s\tremaining: 16.1s\n",
      "100:\tlearn: 0.6479712\ttotal: 4.08s\tremaining: 16.1s\n",
      "101:\tlearn: 0.6482895\ttotal: 4.12s\tremaining: 16.1s\n",
      "102:\tlearn: 0.6482877\ttotal: 4.16s\tremaining: 16s\n",
      "103:\tlearn: 0.6477085\ttotal: 4.2s\tremaining: 16s\n",
      "104:\tlearn: 0.6480159\ttotal: 4.24s\tremaining: 16s\n",
      "105:\tlearn: 0.6486397\ttotal: 4.27s\tremaining: 15.9s\n",
      "106:\tlearn: 0.6486826\ttotal: 4.32s\tremaining: 15.9s\n",
      "107:\tlearn: 0.6484432\ttotal: 4.36s\tremaining: 15.8s\n",
      "108:\tlearn: 0.6488058\ttotal: 4.39s\tremaining: 15.8s\n",
      "109:\tlearn: 0.6483110\ttotal: 4.44s\tremaining: 15.7s\n",
      "110:\tlearn: 0.6483110\ttotal: 4.47s\tremaining: 15.7s\n",
      "111:\tlearn: 0.6485968\ttotal: 4.53s\tremaining: 15.7s\n",
      "112:\tlearn: 0.6482699\ttotal: 4.56s\tremaining: 15.6s\n",
      "113:\tlearn: 0.6483593\ttotal: 4.59s\tremaining: 15.6s\n",
      "114:\tlearn: 0.6484718\ttotal: 4.64s\tremaining: 15.5s\n",
      "115:\tlearn: 0.6486701\ttotal: 4.66s\tremaining: 15.4s\n",
      "116:\tlearn: 0.6487344\ttotal: 4.71s\tremaining: 15.4s\n",
      "117:\tlearn: 0.6485754\ttotal: 4.75s\tremaining: 15.4s\n",
      "118:\tlearn: 0.6478799\ttotal: 4.8s\tremaining: 15.4s\n",
      "119:\tlearn: 0.6478389\ttotal: 4.84s\tremaining: 15.3s\n",
      "120:\tlearn: 0.6480606\ttotal: 4.88s\tremaining: 15.3s\n",
      "121:\tlearn: 0.6482859\ttotal: 4.92s\tremaining: 15.3s\n",
      "122:\tlearn: 0.6475938\ttotal: 4.96s\tremaining: 15.2s\n",
      "123:\tlearn: 0.6481983\ttotal: 5.01s\tremaining: 15.2s\n",
      "124:\tlearn: 0.6481983\ttotal: 5.04s\tremaining: 15.1s\n",
      "125:\tlearn: 0.6479320\ttotal: 5.08s\tremaining: 15.1s\n",
      "126:\tlearn: 0.6479320\ttotal: 5.12s\tremaining: 15s\n",
      "127:\tlearn: 0.6474987\ttotal: 5.16s\tremaining: 15s\n",
      "128:\tlearn: 0.6475667\ttotal: 5.19s\tremaining: 14.9s\n",
      "129:\tlearn: 0.6477130\ttotal: 5.22s\tremaining: 14.9s\n",
      "130:\tlearn: 0.6476897\ttotal: 5.26s\tremaining: 14.8s\n",
      "131:\tlearn: 0.6478360\ttotal: 5.31s\tremaining: 14.8s\n",
      "132:\tlearn: 0.6479041\ttotal: 5.36s\tremaining: 14.8s\n",
      "133:\tlearn: 0.6480188\ttotal: 5.38s\tremaining: 14.7s\n",
      "134:\tlearn: 0.6480672\ttotal: 5.42s\tremaining: 14.6s\n",
      "135:\tlearn: 0.6484411\ttotal: 5.46s\tremaining: 14.6s\n",
      "136:\tlearn: 0.6488795\ttotal: 5.49s\tremaining: 14.5s\n",
      "137:\tlearn: 0.6489474\ttotal: 5.53s\tremaining: 14.5s\n",
      "138:\tlearn: 0.6488383\ttotal: 5.57s\tremaining: 14.5s\n",
      "139:\tlearn: 0.6487953\ttotal: 5.61s\tremaining: 14.4s\n",
      "140:\tlearn: 0.6488739\ttotal: 5.66s\tremaining: 14.4s\n",
      "141:\tlearn: 0.6488739\ttotal: 5.69s\tremaining: 14.3s\n",
      "142:\tlearn: 0.6494924\ttotal: 5.73s\tremaining: 14.3s\n",
      "143:\tlearn: 0.6495568\ttotal: 5.78s\tremaining: 14.3s\n",
      "144:\tlearn: 0.6496925\ttotal: 5.84s\tremaining: 14.3s\n",
      "145:\tlearn: 0.6496693\ttotal: 5.88s\tremaining: 14.2s\n",
      "146:\tlearn: 0.6499603\ttotal: 5.91s\tremaining: 14.2s\n",
      "147:\tlearn: 0.6500909\ttotal: 5.95s\tremaining: 14.2s\n",
      "148:\tlearn: 0.6500248\ttotal: 5.99s\tremaining: 14.1s\n",
      "149:\tlearn: 0.6503124\ttotal: 6.03s\tremaining: 14.1s\n",
      "150:\tlearn: 0.6501935\ttotal: 6.07s\tremaining: 14s\n",
      "151:\tlearn: 0.6500149\ttotal: 6.11s\tremaining: 14s\n",
      "152:\tlearn: 0.6497287\ttotal: 6.15s\tremaining: 13.9s\n",
      "153:\tlearn: 0.6501704\ttotal: 6.19s\tremaining: 13.9s\n",
      "154:\tlearn: 0.6502942\ttotal: 6.23s\tremaining: 13.9s\n",
      "155:\tlearn: 0.6503388\ttotal: 6.26s\tremaining: 13.8s\n",
      "156:\tlearn: 0.6504001\ttotal: 6.3s\tremaining: 13.8s\n",
      "157:\tlearn: 0.6515192\ttotal: 6.34s\tremaining: 13.7s\n",
      "158:\tlearn: 0.6512719\ttotal: 6.38s\tremaining: 13.7s\n",
      "159:\tlearn: 0.6508708\ttotal: 6.42s\tremaining: 13.6s\n",
      "160:\tlearn: 0.6511981\ttotal: 6.46s\tremaining: 13.6s\n",
      "161:\tlearn: 0.6513334\ttotal: 6.5s\tremaining: 13.6s\n",
      "162:\tlearn: 0.6517530\ttotal: 6.54s\tremaining: 13.5s\n",
      "163:\tlearn: 0.6519067\ttotal: 6.58s\tremaining: 13.5s\n",
      "164:\tlearn: 0.6519771\ttotal: 6.62s\tremaining: 13.4s\n",
      "165:\tlearn: 0.6526490\ttotal: 6.65s\tremaining: 13.4s\n",
      "166:\tlearn: 0.6527310\ttotal: 6.69s\tremaining: 13.3s\n",
      "167:\tlearn: 0.6526135\ttotal: 6.73s\tremaining: 13.3s\n",
      "168:\tlearn: 0.6526580\ttotal: 6.77s\tremaining: 13.3s\n",
      "169:\tlearn: 0.6524368\ttotal: 6.81s\tremaining: 13.2s\n",
      "170:\tlearn: 0.6529870\ttotal: 6.84s\tremaining: 13.2s\n",
      "171:\tlearn: 0.6532809\ttotal: 6.89s\tremaining: 13.1s\n",
      "172:\tlearn: 0.6532580\ttotal: 6.92s\tremaining: 13.1s\n",
      "173:\tlearn: 0.6536353\ttotal: 6.95s\tremaining: 13s\n",
      "174:\tlearn: 0.6536353\ttotal: 6.99s\tremaining: 13s\n",
      "175:\tlearn: 0.6533712\ttotal: 7.02s\tremaining: 12.9s\n",
      "176:\tlearn: 0.6535261\ttotal: 7.07s\tremaining: 12.9s\n",
      "177:\tlearn: 0.6532149\ttotal: 7.11s\tremaining: 12.9s\n",
      "178:\tlearn: 0.6541458\ttotal: 7.14s\tremaining: 12.8s\n",
      "179:\tlearn: 0.6538588\ttotal: 7.18s\tremaining: 12.8s\n",
      "180:\tlearn: 0.6535529\ttotal: 7.21s\tremaining: 12.7s\n",
      "181:\tlearn: 0.6540835\ttotal: 7.25s\tremaining: 12.7s\n",
      "182:\tlearn: 0.6541051\ttotal: 7.29s\tremaining: 12.6s\n",
      "183:\tlearn: 0.6537916\ttotal: 7.33s\tremaining: 12.6s\n",
      "184:\tlearn: 0.6543259\ttotal: 7.37s\tremaining: 12.5s\n",
      "185:\tlearn: 0.6543259\ttotal: 7.4s\tremaining: 12.5s\n",
      "186:\tlearn: 0.6541674\ttotal: 7.43s\tremaining: 12.4s\n",
      "187:\tlearn: 0.6540810\ttotal: 7.48s\tremaining: 12.4s\n",
      "188:\tlearn: 0.6544518\ttotal: 7.52s\tremaining: 12.4s\n",
      "189:\tlearn: 0.6542272\ttotal: 7.58s\tremaining: 12.4s\n",
      "190:\tlearn: 0.6543377\ttotal: 7.61s\tremaining: 12.3s\n",
      "191:\tlearn: 0.6543870\ttotal: 7.66s\tremaining: 12.3s\n",
      "192:\tlearn: 0.6541001\ttotal: 7.7s\tremaining: 12.2s\n",
      "193:\tlearn: 0.6541433\ttotal: 7.73s\tremaining: 12.2s\n",
      "194:\tlearn: 0.6547580\ttotal: 7.78s\tremaining: 12.2s\n",
      "195:\tlearn: 0.6538131\ttotal: 7.83s\tremaining: 12.1s\n",
      "196:\tlearn: 0.6539465\ttotal: 7.88s\tremaining: 12.1s\n",
      "197:\tlearn: 0.6541254\ttotal: 7.92s\tremaining: 12.1s\n",
      "198:\tlearn: 0.6547819\ttotal: 7.97s\tremaining: 12.1s\n",
      "199:\tlearn: 0.6547183\ttotal: 8s\tremaining: 12s\n",
      "200:\tlearn: 0.6546103\ttotal: 8.04s\tremaining: 12s\n",
      "201:\tlearn: 0.6545443\ttotal: 8.09s\tremaining: 11.9s\n",
      "202:\tlearn: 0.6544999\ttotal: 8.13s\tremaining: 11.9s\n",
      "203:\tlearn: 0.6542587\ttotal: 8.17s\tremaining: 11.8s\n",
      "204:\tlearn: 0.6547207\ttotal: 8.21s\tremaining: 11.8s\n",
      "205:\tlearn: 0.6553396\ttotal: 8.24s\tremaining: 11.8s\n",
      "206:\tlearn: 0.6554921\ttotal: 8.27s\tremaining: 11.7s\n",
      "207:\tlearn: 0.6557961\ttotal: 8.33s\tremaining: 11.7s\n",
      "208:\tlearn: 0.6556858\ttotal: 8.37s\tremaining: 11.7s\n",
      "209:\tlearn: 0.6558913\ttotal: 8.42s\tremaining: 11.6s\n",
      "210:\tlearn: 0.6557583\ttotal: 8.47s\tremaining: 11.6s\n",
      "211:\tlearn: 0.6560470\ttotal: 8.51s\tremaining: 11.6s\n",
      "212:\tlearn: 0.6560676\ttotal: 8.55s\tremaining: 11.5s\n",
      "213:\tlearn: 0.6560459\ttotal: 8.6s\tremaining: 11.5s\n",
      "214:\tlearn: 0.6560459\ttotal: 8.64s\tremaining: 11.5s\n",
      "215:\tlearn: 0.6560470\ttotal: 8.69s\tremaining: 11.4s\n",
      "216:\tlearn: 0.6560913\ttotal: 8.74s\tremaining: 11.4s\n",
      "217:\tlearn: 0.6562036\ttotal: 8.78s\tremaining: 11.4s\n",
      "218:\tlearn: 0.6561439\ttotal: 8.83s\tremaining: 11.3s\n",
      "219:\tlearn: 0.6559700\ttotal: 8.88s\tremaining: 11.3s\n",
      "220:\tlearn: 0.6562963\ttotal: 8.93s\tremaining: 11.3s\n",
      "221:\tlearn: 0.6564055\ttotal: 8.96s\tremaining: 11.2s\n",
      "222:\tlearn: 0.6563416\ttotal: 9.01s\tremaining: 11.2s\n",
      "223:\tlearn: 0.6566249\ttotal: 9.04s\tremaining: 11.1s\n",
      "224:\tlearn: 0.6566889\ttotal: 9.08s\tremaining: 11.1s\n",
      "225:\tlearn: 0.6570185\ttotal: 9.12s\tremaining: 11.1s\n",
      "226:\tlearn: 0.6569516\ttotal: 9.16s\tremaining: 11s\n",
      "227:\tlearn: 0.6571513\ttotal: 9.21s\tremaining: 11s\n",
      "228:\tlearn: 0.6571080\ttotal: 9.24s\tremaining: 10.9s\n",
      "229:\tlearn: 0.6572597\ttotal: 9.3s\tremaining: 10.9s\n",
      "230:\tlearn: 0.6567971\ttotal: 9.33s\tremaining: 10.9s\n",
      "231:\tlearn: 0.6568582\ttotal: 9.37s\tremaining: 10.8s\n",
      "232:\tlearn: 0.6567036\ttotal: 9.41s\tremaining: 10.8s\n",
      "233:\tlearn: 0.6569950\ttotal: 9.45s\tremaining: 10.7s\n",
      "234:\tlearn: 0.6571042\ttotal: 9.49s\tremaining: 10.7s\n",
      "235:\tlearn: 0.6572116\ttotal: 9.53s\tremaining: 10.7s\n",
      "236:\tlearn: 0.6571881\ttotal: 9.58s\tremaining: 10.6s\n",
      "237:\tlearn: 0.6567942\ttotal: 9.62s\tremaining: 10.6s\n",
      "238:\tlearn: 0.6569309\ttotal: 9.65s\tremaining: 10.5s\n",
      "239:\tlearn: 0.6569309\ttotal: 9.7s\tremaining: 10.5s\n",
      "240:\tlearn: 0.6571485\ttotal: 9.73s\tremaining: 10.5s\n",
      "241:\tlearn: 0.6571900\ttotal: 9.78s\tremaining: 10.4s\n",
      "242:\tlearn: 0.6573879\ttotal: 9.82s\tremaining: 10.4s\n",
      "243:\tlearn: 0.6572191\ttotal: 9.87s\tremaining: 10.3s\n",
      "244:\tlearn: 0.6572191\ttotal: 9.9s\tremaining: 10.3s\n",
      "245:\tlearn: 0.6572191\ttotal: 9.93s\tremaining: 10.3s\n",
      "246:\tlearn: 0.6575713\ttotal: 9.99s\tremaining: 10.2s\n",
      "247:\tlearn: 0.6576381\ttotal: 10s\tremaining: 10.2s\n",
      "248:\tlearn: 0.6580369\ttotal: 10.1s\tremaining: 10.1s\n",
      "249:\tlearn: 0.6577239\ttotal: 10.1s\tremaining: 10.1s\n",
      "250:\tlearn: 0.6578548\ttotal: 10.1s\tremaining: 10s\n",
      "251:\tlearn: 0.6578557\ttotal: 10.2s\tremaining: 10s\n",
      "252:\tlearn: 0.6578106\ttotal: 10.2s\tremaining: 9.96s\n",
      "253:\tlearn: 0.6580777\ttotal: 10.2s\tremaining: 9.92s\n",
      "254:\tlearn: 0.6581678\ttotal: 10.3s\tremaining: 9.88s\n",
      "255:\tlearn: 0.6582036\ttotal: 10.3s\tremaining: 9.83s\n",
      "256:\tlearn: 0.6583822\ttotal: 10.4s\tremaining: 9.79s\n",
      "257:\tlearn: 0.6584289\ttotal: 10.4s\tremaining: 9.74s\n",
      "258:\tlearn: 0.6583413\ttotal: 10.4s\tremaining: 9.71s\n",
      "259:\tlearn: 0.6582771\ttotal: 10.5s\tremaining: 9.67s\n",
      "260:\tlearn: 0.6583479\ttotal: 10.5s\tremaining: 9.63s\n",
      "261:\tlearn: 0.6581503\ttotal: 10.6s\tremaining: 9.59s\n",
      "262:\tlearn: 0.6579285\ttotal: 10.6s\tremaining: 9.55s\n",
      "263:\tlearn: 0.6578618\ttotal: 10.6s\tremaining: 9.51s\n",
      "264:\tlearn: 0.6577743\ttotal: 10.7s\tremaining: 9.47s\n",
      "265:\tlearn: 0.6577968\ttotal: 10.7s\tremaining: 9.42s\n",
      "266:\tlearn: 0.6583462\ttotal: 10.8s\tremaining: 9.38s\n",
      "267:\tlearn: 0.6584988\ttotal: 10.8s\tremaining: 9.33s\n",
      "268:\tlearn: 0.6579693\ttotal: 10.8s\tremaining: 9.29s\n",
      "269:\tlearn: 0.6582996\ttotal: 10.9s\tremaining: 9.24s\n",
      "270:\tlearn: 0.6583646\ttotal: 10.9s\tremaining: 9.2s\n",
      "271:\tlearn: 0.6583728\ttotal: 10.9s\tremaining: 9.16s\n",
      "272:\tlearn: 0.6584162\ttotal: 11s\tremaining: 9.12s\n",
      "273:\tlearn: 0.6581953\ttotal: 11s\tremaining: 9.07s\n",
      "274:\tlearn: 0.6581953\ttotal: 11s\tremaining: 9.03s\n",
      "275:\tlearn: 0.6583062\ttotal: 11.1s\tremaining: 9s\n",
      "276:\tlearn: 0.6584145\ttotal: 11.1s\tremaining: 8.96s\n",
      "277:\tlearn: 0.6584788\ttotal: 11.2s\tremaining: 8.91s\n",
      "278:\tlearn: 0.6587445\ttotal: 11.2s\tremaining: 8.88s\n",
      "279:\tlearn: 0.6586980\ttotal: 11.2s\tremaining: 8.83s\n",
      "280:\tlearn: 0.6591178\ttotal: 11.3s\tremaining: 8.78s\n",
      "281:\tlearn: 0.6592061\ttotal: 11.3s\tremaining: 8.75s\n",
      "282:\tlearn: 0.6586795\ttotal: 11.3s\tremaining: 8.7s\n",
      "283:\tlearn: 0.6588948\ttotal: 11.4s\tremaining: 8.66s\n",
      "284:\tlearn: 0.6589420\ttotal: 11.4s\tremaining: 8.62s\n",
      "285:\tlearn: 0.6587654\ttotal: 11.5s\tremaining: 8.57s\n",
      "286:\tlearn: 0.6586081\ttotal: 11.5s\tremaining: 8.53s\n",
      "287:\tlearn: 0.6592893\ttotal: 11.5s\tremaining: 8.49s\n",
      "288:\tlearn: 0.6594239\ttotal: 11.6s\tremaining: 8.45s\n",
      "289:\tlearn: 0.6595093\ttotal: 11.6s\tremaining: 8.41s\n",
      "290:\tlearn: 0.6597538\ttotal: 11.6s\tremaining: 8.36s\n",
      "291:\tlearn: 0.6597755\ttotal: 11.7s\tremaining: 8.32s\n",
      "292:\tlearn: 0.6598854\ttotal: 11.7s\tremaining: 8.28s\n",
      "293:\tlearn: 0.6598407\ttotal: 11.8s\tremaining: 8.24s\n",
      "294:\tlearn: 0.6596424\ttotal: 11.8s\tremaining: 8.21s\n",
      "295:\tlearn: 0.6594862\ttotal: 11.9s\tremaining: 8.17s\n",
      "296:\tlearn: 0.6593291\ttotal: 11.9s\tremaining: 8.13s\n",
      "297:\tlearn: 0.6595233\ttotal: 11.9s\tremaining: 8.09s\n",
      "298:\tlearn: 0.6599296\ttotal: 12s\tremaining: 8.05s\n",
      "299:\tlearn: 0.6597979\ttotal: 12s\tremaining: 8.01s\n",
      "300:\tlearn: 0.6597545\ttotal: 12s\tremaining: 7.96s\n",
      "301:\tlearn: 0.6600402\ttotal: 12.1s\tremaining: 7.92s\n",
      "302:\tlearn: 0.6604152\ttotal: 12.1s\tremaining: 7.88s\n",
      "303:\tlearn: 0.6603929\ttotal: 12.2s\tremaining: 7.84s\n",
      "304:\tlearn: 0.6604370\ttotal: 12.2s\tremaining: 7.8s\n",
      "305:\tlearn: 0.6604363\ttotal: 12.2s\tremaining: 7.76s\n",
      "306:\tlearn: 0.6604171\ttotal: 12.3s\tremaining: 7.72s\n",
      "307:\tlearn: 0.6603482\ttotal: 12.4s\tremaining: 7.71s\n",
      "308:\tlearn: 0.6603463\ttotal: 12.4s\tremaining: 7.7s\n",
      "309:\tlearn: 0.6603252\ttotal: 12.5s\tremaining: 7.69s\n",
      "310:\tlearn: 0.6602779\ttotal: 12.6s\tremaining: 7.67s\n",
      "311:\tlearn: 0.6602556\ttotal: 12.7s\tremaining: 7.67s\n",
      "312:\tlearn: 0.6608913\ttotal: 12.8s\tremaining: 7.65s\n",
      "313:\tlearn: 0.6607808\ttotal: 12.8s\tremaining: 7.61s\n",
      "314:\tlearn: 0.6605589\ttotal: 12.9s\tremaining: 7.59s\n",
      "315:\tlearn: 0.6603612\ttotal: 13s\tremaining: 7.59s\n",
      "316:\tlearn: 0.6605825\ttotal: 13.1s\tremaining: 7.56s\n",
      "317:\tlearn: 0.6607590\ttotal: 13.2s\tremaining: 7.55s\n",
      "318:\tlearn: 0.6608255\ttotal: 13.3s\tremaining: 7.54s\n",
      "319:\tlearn: 0.6608037\ttotal: 13.4s\tremaining: 7.53s\n",
      "320:\tlearn: 0.6610677\ttotal: 13.5s\tremaining: 7.52s\n",
      "321:\tlearn: 0.6612430\ttotal: 13.6s\tremaining: 7.5s\n",
      "322:\tlearn: 0.6615086\ttotal: 13.7s\tremaining: 7.49s\n",
      "323:\tlearn: 0.6615526\ttotal: 13.7s\tremaining: 7.45s\n",
      "324:\tlearn: 0.6613312\ttotal: 13.8s\tremaining: 7.43s\n",
      "325:\tlearn: 0.6611766\ttotal: 13.9s\tremaining: 7.42s\n",
      "326:\tlearn: 0.6615070\ttotal: 14s\tremaining: 7.4s\n",
      "327:\tlearn: 0.6615293\ttotal: 14.1s\tremaining: 7.38s\n",
      "328:\tlearn: 0.6615293\ttotal: 14.2s\tremaining: 7.35s\n",
      "329:\tlearn: 0.6615952\ttotal: 14.2s\tremaining: 7.32s\n",
      "330:\tlearn: 0.6612632\ttotal: 14.3s\tremaining: 7.29s\n",
      "331:\tlearn: 0.6615932\ttotal: 14.4s\tremaining: 7.28s\n",
      "332:\tlearn: 0.6617468\ttotal: 14.5s\tremaining: 7.26s\n",
      "333:\tlearn: 0.6616383\ttotal: 14.6s\tremaining: 7.24s\n",
      "334:\tlearn: 0.6619041\ttotal: 14.7s\tremaining: 7.22s\n",
      "335:\tlearn: 0.6619041\ttotal: 14.8s\tremaining: 7.21s\n",
      "336:\tlearn: 0.6619259\ttotal: 14.9s\tremaining: 7.19s\n",
      "337:\tlearn: 0.6618568\ttotal: 14.9s\tremaining: 7.15s\n",
      "338:\tlearn: 0.6619667\ttotal: 15s\tremaining: 7.11s\n",
      "339:\tlearn: 0.6620108\ttotal: 15s\tremaining: 7.06s\n",
      "340:\tlearn: 0.6619222\ttotal: 15s\tremaining: 7.01s\n",
      "341:\tlearn: 0.6616130\ttotal: 15.1s\tremaining: 6.97s\n",
      "342:\tlearn: 0.6616130\ttotal: 15.1s\tremaining: 6.92s\n",
      "343:\tlearn: 0.6616338\ttotal: 15.2s\tremaining: 6.87s\n",
      "344:\tlearn: 0.6620085\ttotal: 15.2s\tremaining: 6.83s\n",
      "345:\tlearn: 0.6622774\ttotal: 15.2s\tremaining: 6.78s\n",
      "346:\tlearn: 0.6622774\ttotal: 15.3s\tremaining: 6.74s\n",
      "347:\tlearn: 0.6622115\ttotal: 15.3s\tremaining: 6.68s\n",
      "348:\tlearn: 0.6621675\ttotal: 15.3s\tremaining: 6.63s\n",
      "349:\tlearn: 0.6621675\ttotal: 15.4s\tremaining: 6.59s\n",
      "350:\tlearn: 0.6621884\ttotal: 15.4s\tremaining: 6.54s\n",
      "351:\tlearn: 0.6625440\ttotal: 15.5s\tremaining: 6.5s\n",
      "352:\tlearn: 0.6627192\ttotal: 15.5s\tremaining: 6.46s\n",
      "353:\tlearn: 0.6626744\ttotal: 15.5s\tremaining: 6.41s\n",
      "354:\tlearn: 0.6628500\ttotal: 15.6s\tremaining: 6.36s\n",
      "355:\tlearn: 0.6626760\ttotal: 15.6s\tremaining: 6.31s\n",
      "356:\tlearn: 0.6629177\ttotal: 15.7s\tremaining: 6.27s\n",
      "357:\tlearn: 0.6629834\ttotal: 15.7s\tremaining: 6.22s\n",
      "358:\tlearn: 0.6630052\ttotal: 15.7s\tremaining: 6.17s\n",
      "359:\tlearn: 0.6631804\ttotal: 15.8s\tremaining: 6.13s\n",
      "360:\tlearn: 0.6635087\ttotal: 15.8s\tremaining: 6.08s\n",
      "361:\tlearn: 0.6635087\ttotal: 15.8s\tremaining: 6.03s\n",
      "362:\tlearn: 0.6635084\ttotal: 15.9s\tremaining: 5.99s\n",
      "363:\tlearn: 0.6633992\ttotal: 15.9s\tremaining: 5.95s\n",
      "364:\tlearn: 0.6635742\ttotal: 16s\tremaining: 5.9s\n",
      "365:\tlearn: 0.6636184\ttotal: 16s\tremaining: 5.85s\n",
      "366:\tlearn: 0.6636624\ttotal: 16s\tremaining: 5.81s\n",
      "367:\tlearn: 0.6635523\ttotal: 16.1s\tremaining: 5.76s\n",
      "368:\tlearn: 0.6641460\ttotal: 16.1s\tremaining: 5.71s\n",
      "369:\tlearn: 0.6640360\ttotal: 16.1s\tremaining: 5.67s\n",
      "370:\tlearn: 0.6637285\ttotal: 16.2s\tremaining: 5.63s\n",
      "371:\tlearn: 0.6637721\ttotal: 16.2s\tremaining: 5.58s\n",
      "372:\tlearn: 0.6638810\ttotal: 16.3s\tremaining: 5.54s\n",
      "373:\tlearn: 0.6640350\ttotal: 16.3s\tremaining: 5.49s\n",
      "374:\tlearn: 0.6637497\ttotal: 16.4s\tremaining: 5.45s\n",
      "375:\tlearn: 0.6639903\ttotal: 16.4s\tremaining: 5.4s\n",
      "376:\tlearn: 0.6639903\ttotal: 16.4s\tremaining: 5.36s\n",
      "377:\tlearn: 0.6641882\ttotal: 16.5s\tremaining: 5.32s\n",
      "378:\tlearn: 0.6643865\ttotal: 16.5s\tremaining: 5.27s\n",
      "379:\tlearn: 0.6641440\ttotal: 16.5s\tremaining: 5.22s\n",
      "380:\tlearn: 0.6641440\ttotal: 16.6s\tremaining: 5.18s\n",
      "381:\tlearn: 0.6642747\ttotal: 16.6s\tremaining: 5.13s\n",
      "382:\tlearn: 0.6642747\ttotal: 16.7s\tremaining: 5.09s\n",
      "383:\tlearn: 0.6644284\ttotal: 16.7s\tremaining: 5.05s\n",
      "384:\tlearn: 0.6644510\ttotal: 16.7s\tremaining: 5s\n",
      "385:\tlearn: 0.6648247\ttotal: 16.8s\tremaining: 4.96s\n",
      "386:\tlearn: 0.6648906\ttotal: 16.8s\tremaining: 4.91s\n",
      "387:\tlearn: 0.6644529\ttotal: 16.9s\tremaining: 4.87s\n",
      "388:\tlearn: 0.6645628\ttotal: 16.9s\tremaining: 4.83s\n",
      "389:\tlearn: 0.6646941\ttotal: 17s\tremaining: 4.78s\n",
      "390:\tlearn: 0.6651753\ttotal: 17s\tremaining: 4.74s\n",
      "391:\tlearn: 0.6650656\ttotal: 17s\tremaining: 4.69s\n",
      "392:\tlearn: 0.6648467\ttotal: 17.1s\tremaining: 4.65s\n",
      "393:\tlearn: 0.6651100\ttotal: 17.1s\tremaining: 4.61s\n",
      "394:\tlearn: 0.6651100\ttotal: 17.2s\tremaining: 4.57s\n",
      "395:\tlearn: 0.6651538\ttotal: 17.2s\tremaining: 4.52s\n",
      "396:\tlearn: 0.6649569\ttotal: 17.3s\tremaining: 4.48s\n",
      "397:\tlearn: 0.6654175\ttotal: 17.3s\tremaining: 4.43s\n",
      "398:\tlearn: 0.6652637\ttotal: 17.3s\tremaining: 4.39s\n",
      "399:\tlearn: 0.6651545\ttotal: 17.4s\tremaining: 4.35s\n",
      "400:\tlearn: 0.6654612\ttotal: 17.4s\tremaining: 4.3s\n",
      "401:\tlearn: 0.6656807\ttotal: 17.5s\tremaining: 4.26s\n",
      "402:\tlearn: 0.6660752\ttotal: 17.5s\tremaining: 4.21s\n",
      "403:\tlearn: 0.6661409\ttotal: 17.5s\tremaining: 4.17s\n",
      "404:\tlearn: 0.6662942\ttotal: 17.6s\tremaining: 4.13s\n",
      "405:\tlearn: 0.6665133\ttotal: 17.6s\tremaining: 4.08s\n",
      "406:\tlearn: 0.6664476\ttotal: 17.7s\tremaining: 4.04s\n",
      "407:\tlearn: 0.6663598\ttotal: 17.7s\tremaining: 3.99s\n",
      "408:\tlearn: 0.6663380\ttotal: 17.8s\tremaining: 3.95s\n",
      "409:\tlearn: 0.6664914\ttotal: 17.8s\tremaining: 3.91s\n",
      "410:\tlearn: 0.6666667\ttotal: 17.9s\tremaining: 3.87s\n",
      "411:\tlearn: 0.6668420\ttotal: 17.9s\tremaining: 3.83s\n",
      "412:\tlearn: 0.6668420\ttotal: 18s\tremaining: 3.78s\n",
      "413:\tlearn: 0.6670392\ttotal: 18s\tremaining: 3.74s\n",
      "414:\tlearn: 0.6669953\ttotal: 18s\tremaining: 3.69s\n",
      "415:\tlearn: 0.6669295\ttotal: 18.1s\tremaining: 3.65s\n",
      "416:\tlearn: 0.6674327\ttotal: 18.1s\tremaining: 3.61s\n",
      "417:\tlearn: 0.6669951\ttotal: 18.2s\tremaining: 3.56s\n",
      "418:\tlearn: 0.6669513\ttotal: 18.2s\tremaining: 3.52s\n",
      "419:\tlearn: 0.6668637\ttotal: 18.3s\tremaining: 3.48s\n",
      "420:\tlearn: 0.6670171\ttotal: 18.3s\tremaining: 3.44s\n",
      "421:\tlearn: 0.6669294\ttotal: 18.4s\tremaining: 3.39s\n",
      "422:\tlearn: 0.6668418\ttotal: 18.4s\tremaining: 3.35s\n",
      "423:\tlearn: 0.6667762\ttotal: 18.5s\tremaining: 3.31s\n",
      "424:\tlearn: 0.6666229\ttotal: 18.5s\tremaining: 3.27s\n",
      "425:\tlearn: 0.6671043\ttotal: 18.5s\tremaining: 3.22s\n",
      "426:\tlearn: 0.6672574\ttotal: 18.6s\tremaining: 3.18s\n",
      "427:\tlearn: 0.6672356\ttotal: 18.6s\tremaining: 3.13s\n",
      "428:\tlearn: 0.6673230\ttotal: 18.7s\tremaining: 3.09s\n",
      "429:\tlearn: 0.6673230\ttotal: 18.7s\tremaining: 3.04s\n",
      "430:\tlearn: 0.6669074\ttotal: 18.7s\tremaining: 3s\n",
      "431:\tlearn: 0.6673449\ttotal: 18.8s\tremaining: 2.96s\n",
      "432:\tlearn: 0.6677174\ttotal: 18.8s\tremaining: 2.91s\n",
      "433:\tlearn: 0.6676518\ttotal: 18.9s\tremaining: 2.87s\n",
      "434:\tlearn: 0.6677609\ttotal: 18.9s\tremaining: 2.82s\n",
      "435:\tlearn: 0.6677171\ttotal: 18.9s\tremaining: 2.78s\n",
      "436:\tlearn: 0.6679144\ttotal: 19s\tremaining: 2.73s\n",
      "437:\tlearn: 0.6678704\ttotal: 19s\tremaining: 2.69s\n",
      "438:\tlearn: 0.6676080\ttotal: 19s\tremaining: 2.65s\n",
      "439:\tlearn: 0.6676081\ttotal: 19.1s\tremaining: 2.6s\n",
      "440:\tlearn: 0.6677612\ttotal: 19.1s\tremaining: 2.56s\n",
      "441:\tlearn: 0.6679150\ttotal: 19.2s\tremaining: 2.52s\n",
      "442:\tlearn: 0.6678713\ttotal: 19.2s\tremaining: 2.47s\n",
      "443:\tlearn: 0.6680242\ttotal: 19.2s\tremaining: 2.43s\n",
      "444:\tlearn: 0.6680675\ttotal: 19.3s\tremaining: 2.38s\n",
      "445:\tlearn: 0.6681551\ttotal: 19.3s\tremaining: 2.34s\n",
      "446:\tlearn: 0.6681332\ttotal: 19.3s\tremaining: 2.29s\n",
      "447:\tlearn: 0.6680896\ttotal: 19.4s\tremaining: 2.25s\n",
      "448:\tlearn: 0.6680018\ttotal: 19.4s\tremaining: 2.21s\n",
      "449:\tlearn: 0.6681548\ttotal: 19.4s\tremaining: 2.16s\n",
      "450:\tlearn: 0.6680454\ttotal: 19.5s\tremaining: 2.12s\n",
      "451:\tlearn: 0.6680454\ttotal: 19.5s\tremaining: 2.07s\n",
      "452:\tlearn: 0.6681550\ttotal: 19.6s\tremaining: 2.03s\n",
      "453:\tlearn: 0.6682860\ttotal: 19.6s\tremaining: 1.99s\n",
      "454:\tlearn: 0.6680457\ttotal: 19.6s\tremaining: 1.94s\n",
      "455:\tlearn: 0.6681115\ttotal: 19.7s\tremaining: 1.9s\n",
      "456:\tlearn: 0.6681115\ttotal: 19.7s\tremaining: 1.85s\n",
      "457:\tlearn: 0.6679802\ttotal: 19.7s\tremaining: 1.81s\n",
      "458:\tlearn: 0.6679585\ttotal: 19.8s\tremaining: 1.77s\n",
      "459:\tlearn: 0.6678926\ttotal: 19.8s\tremaining: 1.72s\n",
      "460:\tlearn: 0.6674113\ttotal: 19.9s\tremaining: 1.68s\n",
      "461:\tlearn: 0.6675204\ttotal: 19.9s\tremaining: 1.64s\n",
      "462:\tlearn: 0.6675422\ttotal: 20s\tremaining: 1.59s\n",
      "463:\tlearn: 0.6673892\ttotal: 20s\tremaining: 1.55s\n",
      "464:\tlearn: 0.6672359\ttotal: 20s\tremaining: 1.51s\n",
      "465:\tlearn: 0.6673235\ttotal: 20.1s\tremaining: 1.46s\n",
      "466:\tlearn: 0.6673453\ttotal: 20.1s\tremaining: 1.42s\n",
      "467:\tlearn: 0.6673672\ttotal: 20.1s\tremaining: 1.38s\n",
      "468:\tlearn: 0.6675641\ttotal: 20.2s\tremaining: 1.33s\n",
      "469:\tlearn: 0.6676520\ttotal: 20.2s\tremaining: 1.29s\n",
      "470:\tlearn: 0.6681987\ttotal: 20.3s\tremaining: 1.25s\n",
      "471:\tlearn: 0.6680676\ttotal: 20.3s\tremaining: 1.2s\n",
      "472:\tlearn: 0.6676957\ttotal: 20.3s\tremaining: 1.16s\n",
      "473:\tlearn: 0.6677833\ttotal: 20.4s\tremaining: 1.12s\n",
      "474:\tlearn: 0.6677176\ttotal: 20.4s\tremaining: 1.07s\n",
      "475:\tlearn: 0.6682427\ttotal: 20.4s\tremaining: 1.03s\n",
      "476:\tlearn: 0.6682861\ttotal: 20.5s\tremaining: 987ms\n",
      "477:\tlearn: 0.6682861\ttotal: 20.5s\tremaining: 944ms\n",
      "478:\tlearn: 0.6683081\ttotal: 20.6s\tremaining: 901ms\n",
      "479:\tlearn: 0.6681985\ttotal: 20.6s\tremaining: 858ms\n",
      "480:\tlearn: 0.6682860\ttotal: 20.6s\tremaining: 815ms\n",
      "481:\tlearn: 0.6681766\ttotal: 20.7s\tremaining: 773ms\n",
      "482:\tlearn: 0.6681107\ttotal: 20.7s\tremaining: 730ms\n",
      "483:\tlearn: 0.6680890\ttotal: 20.8s\tremaining: 687ms\n",
      "484:\tlearn: 0.6680887\ttotal: 20.8s\tremaining: 644ms\n",
      "485:\tlearn: 0.6681115\ttotal: 20.9s\tremaining: 601ms\n",
      "486:\tlearn: 0.6682648\ttotal: 20.9s\tremaining: 558ms\n",
      "487:\tlearn: 0.6685061\ttotal: 20.9s\tremaining: 515ms\n",
      "488:\tlearn: 0.6685714\ttotal: 21s\tremaining: 472ms\n",
      "489:\tlearn: 0.6685714\ttotal: 21s\tremaining: 429ms\n",
      "490:\tlearn: 0.6686371\ttotal: 21s\tremaining: 386ms\n",
      "491:\tlearn: 0.6689646\ttotal: 21.1s\tremaining: 343ms\n",
      "492:\tlearn: 0.6689863\ttotal: 21.1s\tremaining: 300ms\n",
      "493:\tlearn: 0.6687457\ttotal: 21.2s\tremaining: 257ms\n",
      "494:\tlearn: 0.6689205\ttotal: 21.2s\tremaining: 214ms\n",
      "495:\tlearn: 0.6687457\ttotal: 21.2s\tremaining: 171ms\n",
      "496:\tlearn: 0.6688983\ttotal: 21.3s\tremaining: 128ms\n",
      "497:\tlearn: 0.6690300\ttotal: 21.3s\tremaining: 85.6ms\n",
      "498:\tlearn: 0.6688985\ttotal: 21.3s\tremaining: 42.8ms\n",
      "499:\tlearn: 0.6697519\ttotal: 21.4s\tremaining: 0us\n",
      "0:\tlearn: 0.6599069\ttotal: 32.8ms\tremaining: 16.4s\n",
      "1:\tlearn: 0.5984683\ttotal: 81.3ms\tremaining: 20.3s\n",
      "2:\tlearn: 0.5895554\ttotal: 116ms\tremaining: 19.2s\n",
      "3:\tlearn: 0.5955281\ttotal: 150ms\tremaining: 18.6s\n",
      "4:\tlearn: 0.5999510\ttotal: 199ms\tremaining: 19.7s\n",
      "5:\tlearn: 0.6387896\ttotal: 224ms\tremaining: 18.4s\n",
      "6:\tlearn: 0.6403475\ttotal: 262ms\tremaining: 18.5s\n",
      "7:\tlearn: 0.6340363\ttotal: 305ms\tremaining: 18.8s\n",
      "8:\tlearn: 0.6359901\ttotal: 340ms\tremaining: 18.5s\n",
      "9:\tlearn: 0.6328963\ttotal: 382ms\tremaining: 18.7s\n",
      "10:\tlearn: 0.6322876\ttotal: 416ms\tremaining: 18.5s\n",
      "11:\tlearn: 0.6367598\ttotal: 454ms\tremaining: 18.5s\n",
      "12:\tlearn: 0.6361422\ttotal: 492ms\tremaining: 18.4s\n",
      "13:\tlearn: 0.6356722\ttotal: 525ms\tremaining: 18.2s\n",
      "14:\tlearn: 0.6354579\ttotal: 569ms\tremaining: 18.4s\n",
      "15:\tlearn: 0.6350842\ttotal: 604ms\tremaining: 18.3s\n",
      "16:\tlearn: 0.6355431\ttotal: 642ms\tremaining: 18.2s\n",
      "17:\tlearn: 0.6346993\ttotal: 686ms\tremaining: 18.4s\n",
      "18:\tlearn: 0.6374860\ttotal: 719ms\tremaining: 18.2s\n",
      "19:\tlearn: 0.6370395\ttotal: 756ms\tremaining: 18.1s\n",
      "20:\tlearn: 0.6369854\ttotal: 792ms\tremaining: 18.1s\n",
      "21:\tlearn: 0.6376754\ttotal: 824ms\tremaining: 17.9s\n",
      "22:\tlearn: 0.6373200\ttotal: 856ms\tremaining: 17.7s\n",
      "23:\tlearn: 0.6372572\ttotal: 891ms\tremaining: 17.7s\n",
      "24:\tlearn: 0.6374363\ttotal: 927ms\tremaining: 17.6s\n",
      "25:\tlearn: 0.6366063\ttotal: 964ms\tremaining: 17.6s\n",
      "26:\tlearn: 0.6381495\ttotal: 998ms\tremaining: 17.5s\n",
      "27:\tlearn: 0.6394164\ttotal: 1.03s\tremaining: 17.3s\n",
      "28:\tlearn: 0.6394164\ttotal: 1.06s\tremaining: 17.3s\n",
      "29:\tlearn: 0.6391956\ttotal: 1.1s\tremaining: 17.2s\n",
      "30:\tlearn: 0.6391956\ttotal: 1.13s\tremaining: 17.2s\n",
      "31:\tlearn: 0.6396846\ttotal: 1.18s\tremaining: 17.3s\n",
      "32:\tlearn: 0.6389235\ttotal: 1.22s\tremaining: 17.2s\n",
      "33:\tlearn: 0.6398792\ttotal: 1.26s\tremaining: 17.3s\n",
      "34:\tlearn: 0.6407423\ttotal: 1.29s\tremaining: 17.2s\n",
      "35:\tlearn: 0.6409264\ttotal: 1.33s\tremaining: 17.2s\n",
      "36:\tlearn: 0.6404568\ttotal: 1.37s\tremaining: 17.2s\n",
      "37:\tlearn: 0.6409702\ttotal: 1.4s\tremaining: 17s\n",
      "38:\tlearn: 0.6406583\ttotal: 1.44s\tremaining: 17s\n",
      "39:\tlearn: 0.6413090\ttotal: 1.48s\tremaining: 17s\n",
      "40:\tlearn: 0.6407137\ttotal: 1.52s\tremaining: 17.1s\n",
      "41:\tlearn: 0.6411392\ttotal: 1.56s\tremaining: 17s\n",
      "42:\tlearn: 0.6410971\ttotal: 1.6s\tremaining: 17.1s\n",
      "43:\tlearn: 0.6412134\ttotal: 1.65s\tremaining: 17.1s\n",
      "44:\tlearn: 0.6411049\ttotal: 1.68s\tremaining: 17s\n",
      "45:\tlearn: 0.6414548\ttotal: 1.73s\tremaining: 17s\n",
      "46:\tlearn: 0.6410687\ttotal: 1.76s\tremaining: 17s\n",
      "47:\tlearn: 0.6416075\ttotal: 1.81s\tremaining: 17.1s\n",
      "48:\tlearn: 0.6424887\ttotal: 1.85s\tremaining: 17.1s\n",
      "49:\tlearn: 0.6422326\ttotal: 1.89s\tremaining: 17s\n",
      "50:\tlearn: 0.6422772\ttotal: 1.92s\tremaining: 16.9s\n",
      "51:\tlearn: 0.6423900\ttotal: 1.95s\tremaining: 16.8s\n",
      "52:\tlearn: 0.6423689\ttotal: 1.98s\tremaining: 16.7s\n",
      "53:\tlearn: 0.6423219\ttotal: 2.02s\tremaining: 16.7s\n",
      "54:\tlearn: 0.6421198\ttotal: 2.05s\tremaining: 16.6s\n",
      "55:\tlearn: 0.6425167\ttotal: 2.09s\tremaining: 16.6s\n",
      "56:\tlearn: 0.6434058\ttotal: 2.13s\tremaining: 16.5s\n",
      "57:\tlearn: 0.6439565\ttotal: 2.15s\tremaining: 16.4s\n",
      "58:\tlearn: 0.6442592\ttotal: 2.19s\tremaining: 16.4s\n",
      "59:\tlearn: 0.6440177\ttotal: 2.23s\tremaining: 16.4s\n",
      "60:\tlearn: 0.6437371\ttotal: 2.28s\tremaining: 16.4s\n",
      "61:\tlearn: 0.6434954\ttotal: 2.33s\tremaining: 16.4s\n",
      "62:\tlearn: 0.6434931\ttotal: 2.36s\tremaining: 16.4s\n",
      "63:\tlearn: 0.6444029\ttotal: 2.42s\tremaining: 16.5s\n",
      "64:\tlearn: 0.6435120\ttotal: 2.46s\tremaining: 16.4s\n",
      "65:\tlearn: 0.6437514\ttotal: 2.5s\tremaining: 16.5s\n",
      "66:\tlearn: 0.6435754\ttotal: 2.53s\tremaining: 16.4s\n",
      "67:\tlearn: 0.6441246\ttotal: 2.57s\tremaining: 16.3s\n",
      "68:\tlearn: 0.6447269\ttotal: 2.61s\tremaining: 16.3s\n",
      "69:\tlearn: 0.6447736\ttotal: 2.64s\tremaining: 16.2s\n",
      "70:\tlearn: 0.6447079\ttotal: 2.69s\tremaining: 16.2s\n",
      "71:\tlearn: 0.6447079\ttotal: 2.72s\tremaining: 16.2s\n",
      "72:\tlearn: 0.6455148\ttotal: 2.77s\tremaining: 16.2s\n",
      "73:\tlearn: 0.6450957\ttotal: 2.8s\tremaining: 16.1s\n",
      "74:\tlearn: 0.6453815\ttotal: 2.84s\tremaining: 16.1s\n",
      "75:\tlearn: 0.6453752\ttotal: 2.88s\tremaining: 16.1s\n",
      "76:\tlearn: 0.6456734\ttotal: 2.92s\tremaining: 16s\n",
      "77:\tlearn: 0.6460731\ttotal: 2.96s\tremaining: 16s\n",
      "78:\tlearn: 0.6459318\ttotal: 3s\tremaining: 16s\n",
      "79:\tlearn: 0.6460741\ttotal: 3.03s\tremaining: 15.9s\n",
      "80:\tlearn: 0.6463679\ttotal: 3.07s\tremaining: 15.9s\n",
      "81:\tlearn: 0.6461650\ttotal: 3.1s\tremaining: 15.8s\n",
      "82:\tlearn: 0.6463407\ttotal: 3.15s\tremaining: 15.8s\n",
      "83:\tlearn: 0.6461437\ttotal: 3.18s\tremaining: 15.8s\n",
      "84:\tlearn: 0.6464932\ttotal: 3.22s\tremaining: 15.7s\n",
      "85:\tlearn: 0.6467711\ttotal: 3.26s\tremaining: 15.7s\n",
      "86:\tlearn: 0.6470704\ttotal: 3.29s\tremaining: 15.6s\n",
      "87:\tlearn: 0.6472250\ttotal: 3.33s\tremaining: 15.6s\n",
      "88:\tlearn: 0.6472250\ttotal: 3.37s\tremaining: 15.6s\n",
      "89:\tlearn: 0.6472675\ttotal: 3.4s\tremaining: 15.5s\n",
      "90:\tlearn: 0.6474452\ttotal: 3.42s\tremaining: 15.4s\n",
      "91:\tlearn: 0.6474220\ttotal: 3.46s\tremaining: 15.3s\n",
      "92:\tlearn: 0.6467341\ttotal: 3.49s\tremaining: 15.3s\n",
      "93:\tlearn: 0.6467786\ttotal: 3.53s\tremaining: 15.2s\n",
      "94:\tlearn: 0.6473798\ttotal: 3.56s\tremaining: 15.2s\n",
      "95:\tlearn: 0.6475038\ttotal: 3.6s\tremaining: 15.1s\n",
      "96:\tlearn: 0.6475871\ttotal: 3.63s\tremaining: 15.1s\n",
      "97:\tlearn: 0.6475213\ttotal: 3.67s\tremaining: 15.1s\n",
      "98:\tlearn: 0.6482310\ttotal: 3.72s\tremaining: 15.1s\n",
      "99:\tlearn: 0.6482523\ttotal: 3.75s\tremaining: 15s\n",
      "100:\tlearn: 0.6484478\ttotal: 3.8s\tremaining: 15s\n",
      "101:\tlearn: 0.6485367\ttotal: 3.84s\tremaining: 15s\n",
      "102:\tlearn: 0.6488547\ttotal: 3.89s\tremaining: 15s\n",
      "103:\tlearn: 0.6486024\ttotal: 3.92s\tremaining: 14.9s\n",
      "104:\tlearn: 0.6486024\ttotal: 3.97s\tremaining: 14.9s\n",
      "105:\tlearn: 0.6487997\ttotal: 4.01s\tremaining: 14.9s\n",
      "106:\tlearn: 0.6489243\ttotal: 4.04s\tremaining: 14.8s\n",
      "107:\tlearn: 0.6484850\ttotal: 4.09s\tremaining: 14.8s\n",
      "108:\tlearn: 0.6488763\ttotal: 4.12s\tremaining: 14.8s\n",
      "109:\tlearn: 0.6489813\ttotal: 4.15s\tremaining: 14.7s\n",
      "110:\tlearn: 0.6490668\ttotal: 4.21s\tremaining: 14.7s\n",
      "111:\tlearn: 0.6490668\ttotal: 4.25s\tremaining: 14.7s\n",
      "112:\tlearn: 0.6482128\ttotal: 4.3s\tremaining: 14.7s\n",
      "113:\tlearn: 0.6480988\ttotal: 4.33s\tremaining: 14.7s\n",
      "114:\tlearn: 0.6480738\ttotal: 4.37s\tremaining: 14.6s\n",
      "115:\tlearn: 0.6483853\ttotal: 4.41s\tremaining: 14.6s\n",
      "116:\tlearn: 0.6481451\ttotal: 4.46s\tremaining: 14.6s\n",
      "117:\tlearn: 0.6485882\ttotal: 4.5s\tremaining: 14.6s\n",
      "118:\tlearn: 0.6490506\ttotal: 4.54s\tremaining: 14.5s\n",
      "119:\tlearn: 0.6497205\ttotal: 4.58s\tremaining: 14.5s\n",
      "120:\tlearn: 0.6500280\ttotal: 4.62s\tremaining: 14.5s\n",
      "121:\tlearn: 0.6500280\ttotal: 4.66s\tremaining: 14.5s\n",
      "122:\tlearn: 0.6501184\ttotal: 4.7s\tremaining: 14.4s\n",
      "123:\tlearn: 0.6500691\ttotal: 4.74s\tremaining: 14.4s\n",
      "124:\tlearn: 0.6505636\ttotal: 4.78s\tremaining: 14.3s\n",
      "125:\tlearn: 0.6505454\ttotal: 4.82s\tremaining: 14.3s\n",
      "126:\tlearn: 0.6505454\ttotal: 4.86s\tremaining: 14.3s\n",
      "127:\tlearn: 0.6506919\ttotal: 4.89s\tremaining: 14.2s\n",
      "128:\tlearn: 0.6510191\ttotal: 4.92s\tremaining: 14.2s\n",
      "129:\tlearn: 0.6506674\ttotal: 4.96s\tremaining: 14.1s\n",
      "130:\tlearn: 0.6507117\ttotal: 4.99s\tremaining: 14.1s\n",
      "131:\tlearn: 0.6515798\ttotal: 5.03s\tremaining: 14s\n",
      "132:\tlearn: 0.6514350\ttotal: 5.07s\tremaining: 14s\n",
      "133:\tlearn: 0.6515953\ttotal: 5.11s\tremaining: 14s\n",
      "134:\tlearn: 0.6514853\ttotal: 5.15s\tremaining: 13.9s\n",
      "135:\tlearn: 0.6518368\ttotal: 5.19s\tremaining: 13.9s\n",
      "136:\tlearn: 0.6516152\ttotal: 5.23s\tremaining: 13.9s\n",
      "137:\tlearn: 0.6519497\ttotal: 5.26s\tremaining: 13.8s\n",
      "138:\tlearn: 0.6521768\ttotal: 5.33s\tremaining: 13.8s\n",
      "139:\tlearn: 0.6519127\ttotal: 5.38s\tremaining: 13.8s\n",
      "140:\tlearn: 0.6520724\ttotal: 5.43s\tremaining: 13.8s\n",
      "141:\tlearn: 0.6520710\ttotal: 5.47s\tremaining: 13.8s\n",
      "142:\tlearn: 0.6523526\ttotal: 5.51s\tremaining: 13.7s\n",
      "143:\tlearn: 0.6521825\ttotal: 5.54s\tremaining: 13.7s\n",
      "144:\tlearn: 0.6521124\ttotal: 5.58s\tremaining: 13.7s\n",
      "145:\tlearn: 0.6520467\ttotal: 5.62s\tremaining: 13.6s\n",
      "146:\tlearn: 0.6517423\ttotal: 5.66s\tremaining: 13.6s\n",
      "147:\tlearn: 0.6519638\ttotal: 5.69s\tremaining: 13.5s\n",
      "148:\tlearn: 0.6519853\ttotal: 5.72s\tremaining: 13.5s\n",
      "149:\tlearn: 0.6519010\ttotal: 5.75s\tremaining: 13.4s\n",
      "150:\tlearn: 0.6519195\ttotal: 5.79s\tremaining: 13.4s\n",
      "151:\tlearn: 0.6520067\ttotal: 5.83s\tremaining: 13.4s\n",
      "152:\tlearn: 0.6520568\ttotal: 5.88s\tremaining: 13.3s\n",
      "153:\tlearn: 0.6522768\ttotal: 5.92s\tremaining: 13.3s\n",
      "154:\tlearn: 0.6521711\ttotal: 5.95s\tremaining: 13.2s\n",
      "155:\tlearn: 0.6522111\ttotal: 5.99s\tremaining: 13.2s\n",
      "156:\tlearn: 0.6523425\ttotal: 6.02s\tremaining: 13.2s\n",
      "157:\tlearn: 0.6522525\ttotal: 6.05s\tremaining: 13.1s\n",
      "158:\tlearn: 0.6522925\ttotal: 6.09s\tremaining: 13.1s\n",
      "159:\tlearn: 0.6522939\ttotal: 6.13s\tremaining: 13s\n",
      "160:\tlearn: 0.6524082\ttotal: 6.17s\tremaining: 13s\n",
      "161:\tlearn: 0.6532852\ttotal: 6.21s\tremaining: 13s\n",
      "162:\tlearn: 0.6533281\ttotal: 6.25s\tremaining: 12.9s\n",
      "163:\tlearn: 0.6528882\ttotal: 6.29s\tremaining: 12.9s\n",
      "164:\tlearn: 0.6536390\ttotal: 6.33s\tremaining: 12.8s\n",
      "165:\tlearn: 0.6539649\ttotal: 6.36s\tremaining: 12.8s\n",
      "166:\tlearn: 0.6533092\ttotal: 6.4s\tremaining: 12.8s\n",
      "167:\tlearn: 0.6535265\ttotal: 6.43s\tremaining: 12.7s\n",
      "168:\tlearn: 0.6531082\ttotal: 6.46s\tremaining: 12.7s\n",
      "169:\tlearn: 0.6540761\ttotal: 6.51s\tremaining: 12.6s\n",
      "170:\tlearn: 0.6543352\ttotal: 6.54s\tremaining: 12.6s\n",
      "171:\tlearn: 0.6543806\ttotal: 6.57s\tremaining: 12.5s\n",
      "172:\tlearn: 0.6541418\ttotal: 6.62s\tremaining: 12.5s\n",
      "173:\tlearn: 0.6538765\ttotal: 6.66s\tremaining: 12.5s\n",
      "174:\tlearn: 0.6539245\ttotal: 6.7s\tremaining: 12.5s\n",
      "175:\tlearn: 0.6537716\ttotal: 6.75s\tremaining: 12.4s\n",
      "176:\tlearn: 0.6537716\ttotal: 6.79s\tremaining: 12.4s\n",
      "177:\tlearn: 0.6539914\ttotal: 6.82s\tremaining: 12.3s\n",
      "178:\tlearn: 0.6544583\ttotal: 6.85s\tremaining: 12.3s\n",
      "179:\tlearn: 0.6546982\ttotal: 6.89s\tremaining: 12.3s\n",
      "180:\tlearn: 0.6547197\ttotal: 6.93s\tremaining: 12.2s\n",
      "181:\tlearn: 0.6545908\ttotal: 6.97s\tremaining: 12.2s\n",
      "182:\tlearn: 0.6545240\ttotal: 7s\tremaining: 12.1s\n",
      "183:\tlearn: 0.6545896\ttotal: 7.04s\tremaining: 12.1s\n",
      "184:\tlearn: 0.6546349\ttotal: 7.08s\tremaining: 12.1s\n",
      "185:\tlearn: 0.6546756\ttotal: 7.12s\tremaining: 12s\n",
      "186:\tlearn: 0.6545574\ttotal: 7.15s\tremaining: 12s\n",
      "187:\tlearn: 0.6544021\ttotal: 7.2s\tremaining: 11.9s\n",
      "188:\tlearn: 0.6544690\ttotal: 7.22s\tremaining: 11.9s\n",
      "189:\tlearn: 0.6543555\ttotal: 7.25s\tremaining: 11.8s\n",
      "190:\tlearn: 0.6543364\ttotal: 7.29s\tremaining: 11.8s\n",
      "191:\tlearn: 0.6541823\ttotal: 7.33s\tremaining: 11.8s\n",
      "192:\tlearn: 0.6542504\ttotal: 7.37s\tremaining: 11.7s\n",
      "193:\tlearn: 0.6540459\ttotal: 7.41s\tremaining: 11.7s\n",
      "194:\tlearn: 0.6540471\ttotal: 7.43s\tremaining: 11.6s\n",
      "195:\tlearn: 0.6544427\ttotal: 7.48s\tremaining: 11.6s\n",
      "196:\tlearn: 0.6543149\ttotal: 7.51s\tremaining: 11.6s\n",
      "197:\tlearn: 0.6542707\ttotal: 7.55s\tremaining: 11.5s\n",
      "198:\tlearn: 0.6539434\ttotal: 7.59s\tremaining: 11.5s\n",
      "199:\tlearn: 0.6542683\ttotal: 7.62s\tremaining: 11.4s\n",
      "200:\tlearn: 0.6541319\ttotal: 7.67s\tremaining: 11.4s\n",
      "201:\tlearn: 0.6543770\ttotal: 7.7s\tremaining: 11.4s\n",
      "202:\tlearn: 0.6545275\ttotal: 7.74s\tremaining: 11.3s\n",
      "203:\tlearn: 0.6545060\ttotal: 7.77s\tremaining: 11.3s\n",
      "204:\tlearn: 0.6546375\ttotal: 7.82s\tremaining: 11.3s\n",
      "205:\tlearn: 0.6539764\ttotal: 7.86s\tremaining: 11.2s\n",
      "206:\tlearn: 0.6540421\ttotal: 7.95s\tremaining: 11.3s\n",
      "207:\tlearn: 0.6541749\ttotal: 8.02s\tremaining: 11.3s\n",
      "208:\tlearn: 0.6541447\ttotal: 8.14s\tremaining: 11.3s\n",
      "209:\tlearn: 0.6542105\ttotal: 8.22s\tremaining: 11.4s\n",
      "210:\tlearn: 0.6542167\ttotal: 8.31s\tremaining: 11.4s\n",
      "211:\tlearn: 0.6541724\ttotal: 8.4s\tremaining: 11.4s\n",
      "212:\tlearn: 0.6540876\ttotal: 8.49s\tremaining: 11.4s\n",
      "213:\tlearn: 0.6546637\ttotal: 8.59s\tremaining: 11.5s\n",
      "214:\tlearn: 0.6549708\ttotal: 8.69s\tremaining: 11.5s\n",
      "215:\tlearn: 0.6546973\ttotal: 8.73s\tremaining: 11.5s\n",
      "216:\tlearn: 0.6548731\ttotal: 8.83s\tremaining: 11.5s\n",
      "217:\tlearn: 0.6551826\ttotal: 8.93s\tremaining: 11.5s\n",
      "218:\tlearn: 0.6552914\ttotal: 9.02s\tremaining: 11.6s\n",
      "219:\tlearn: 0.6542991\ttotal: 9.1s\tremaining: 11.6s\n",
      "220:\tlearn: 0.6544749\ttotal: 9.19s\tremaining: 11.6s\n",
      "221:\tlearn: 0.6550534\ttotal: 9.3s\tremaining: 11.6s\n",
      "222:\tlearn: 0.6550319\ttotal: 9.37s\tremaining: 11.6s\n",
      "223:\tlearn: 0.6550738\ttotal: 9.47s\tremaining: 11.7s\n",
      "224:\tlearn: 0.6546746\ttotal: 9.52s\tremaining: 11.6s\n",
      "225:\tlearn: 0.6546722\ttotal: 9.6s\tremaining: 11.6s\n",
      "226:\tlearn: 0.6547380\ttotal: 9.7s\tremaining: 11.7s\n",
      "227:\tlearn: 0.6546997\ttotal: 9.86s\tremaining: 11.8s\n",
      "228:\tlearn: 0.6553368\ttotal: 9.93s\tremaining: 11.7s\n",
      "229:\tlearn: 0.6552223\ttotal: 9.98s\tremaining: 11.7s\n",
      "230:\tlearn: 0.6553323\ttotal: 10.1s\tremaining: 11.8s\n",
      "231:\tlearn: 0.6552405\ttotal: 10.2s\tremaining: 11.8s\n",
      "232:\tlearn: 0.6555307\ttotal: 10.2s\tremaining: 11.7s\n",
      "233:\tlearn: 0.6553992\ttotal: 10.3s\tremaining: 11.8s\n",
      "234:\tlearn: 0.6553345\ttotal: 10.4s\tremaining: 11.8s\n",
      "235:\tlearn: 0.6553345\ttotal: 10.5s\tremaining: 11.8s\n",
      "236:\tlearn: 0.6551520\ttotal: 10.6s\tremaining: 11.8s\n",
      "237:\tlearn: 0.6555059\ttotal: 10.7s\tremaining: 11.8s\n",
      "238:\tlearn: 0.6555252\ttotal: 10.7s\tremaining: 11.7s\n",
      "239:\tlearn: 0.6554572\ttotal: 10.8s\tremaining: 11.7s\n",
      "240:\tlearn: 0.6556773\ttotal: 10.8s\tremaining: 11.6s\n",
      "241:\tlearn: 0.6559632\ttotal: 10.9s\tremaining: 11.6s\n",
      "242:\tlearn: 0.6560290\ttotal: 10.9s\tremaining: 11.5s\n",
      "243:\tlearn: 0.6562274\ttotal: 10.9s\tremaining: 11.5s\n",
      "244:\tlearn: 0.6559979\ttotal: 11s\tremaining: 11.4s\n",
      "245:\tlearn: 0.6559536\ttotal: 11s\tremaining: 11.4s\n",
      "246:\tlearn: 0.6558230\ttotal: 11.1s\tremaining: 11.3s\n",
      "247:\tlearn: 0.6558230\ttotal: 11.1s\tremaining: 11.3s\n",
      "248:\tlearn: 0.6559536\ttotal: 11.1s\tremaining: 11.2s\n",
      "249:\tlearn: 0.6559536\ttotal: 11.2s\tremaining: 11.2s\n",
      "250:\tlearn: 0.6561728\ttotal: 11.2s\tremaining: 11.1s\n",
      "251:\tlearn: 0.6561028\ttotal: 11.3s\tremaining: 11.1s\n",
      "252:\tlearn: 0.6560606\ttotal: 11.3s\tremaining: 11s\n",
      "253:\tlearn: 0.6560390\ttotal: 11.3s\tremaining: 11s\n",
      "254:\tlearn: 0.6562376\ttotal: 11.4s\tremaining: 10.9s\n",
      "255:\tlearn: 0.6571203\ttotal: 11.4s\tremaining: 10.9s\n",
      "256:\tlearn: 0.6574729\ttotal: 11.5s\tremaining: 10.8s\n",
      "257:\tlearn: 0.6575306\ttotal: 11.5s\tremaining: 10.8s\n",
      "258:\tlearn: 0.6575523\ttotal: 11.6s\tremaining: 10.8s\n",
      "259:\tlearn: 0.6573551\ttotal: 11.7s\tremaining: 10.8s\n",
      "260:\tlearn: 0.6577044\ttotal: 11.8s\tremaining: 10.8s\n",
      "261:\tlearn: 0.6582802\ttotal: 11.9s\tremaining: 10.8s\n",
      "262:\tlearn: 0.6584124\ttotal: 12s\tremaining: 10.8s\n",
      "263:\tlearn: 0.6584981\ttotal: 12.1s\tremaining: 10.8s\n",
      "264:\tlearn: 0.6581946\ttotal: 12.2s\tremaining: 10.8s\n",
      "265:\tlearn: 0.6578420\ttotal: 12.2s\tremaining: 10.8s\n",
      "266:\tlearn: 0.6576855\ttotal: 12.3s\tremaining: 10.8s\n",
      "267:\tlearn: 0.6576224\ttotal: 12.4s\tremaining: 10.8s\n",
      "268:\tlearn: 0.6576449\ttotal: 12.5s\tremaining: 10.8s\n",
      "269:\tlearn: 0.6577702\ttotal: 12.6s\tremaining: 10.8s\n",
      "270:\tlearn: 0.6583418\ttotal: 12.7s\tremaining: 10.7s\n",
      "271:\tlearn: 0.6583202\ttotal: 12.7s\tremaining: 10.7s\n",
      "272:\tlearn: 0.6583002\ttotal: 12.8s\tremaining: 10.7s\n",
      "273:\tlearn: 0.6581230\ttotal: 12.9s\tremaining: 10.6s\n",
      "274:\tlearn: 0.6580306\ttotal: 13s\tremaining: 10.7s\n",
      "275:\tlearn: 0.6584917\ttotal: 13.2s\tremaining: 10.7s\n",
      "276:\tlearn: 0.6583418\ttotal: 13.3s\tremaining: 10.7s\n",
      "277:\tlearn: 0.6583369\ttotal: 13.3s\tremaining: 10.6s\n",
      "278:\tlearn: 0.6591992\ttotal: 13.4s\tremaining: 10.6s\n",
      "279:\tlearn: 0.6593284\ttotal: 13.5s\tremaining: 10.6s\n",
      "280:\tlearn: 0.6592201\ttotal: 13.6s\tremaining: 10.6s\n",
      "281:\tlearn: 0.6591096\ttotal: 13.7s\tremaining: 10.6s\n",
      "282:\tlearn: 0.6591746\ttotal: 13.8s\tremaining: 10.6s\n",
      "283:\tlearn: 0.6591327\ttotal: 13.8s\tremaining: 10.5s\n",
      "284:\tlearn: 0.6591312\ttotal: 13.9s\tremaining: 10.5s\n",
      "285:\tlearn: 0.6591275\ttotal: 14s\tremaining: 10.5s\n",
      "286:\tlearn: 0.6589968\ttotal: 14.1s\tremaining: 10.4s\n",
      "287:\tlearn: 0.6589519\ttotal: 14.1s\tremaining: 10.4s\n",
      "288:\tlearn: 0.6590812\ttotal: 14.2s\tremaining: 10.3s\n",
      "289:\tlearn: 0.6591253\ttotal: 14.2s\tremaining: 10.3s\n",
      "290:\tlearn: 0.6590812\ttotal: 14.2s\tremaining: 10.2s\n",
      "291:\tlearn: 0.6590819\ttotal: 14.3s\tremaining: 10.2s\n",
      "292:\tlearn: 0.6591051\ttotal: 14.3s\tremaining: 10.1s\n",
      "293:\tlearn: 0.6594353\ttotal: 14.4s\tremaining: 10.1s\n",
      "294:\tlearn: 0.6591940\ttotal: 14.4s\tremaining: 10s\n",
      "295:\tlearn: 0.6592157\ttotal: 14.4s\tremaining: 9.95s\n",
      "296:\tlearn: 0.6592597\ttotal: 14.5s\tremaining: 9.89s\n",
      "297:\tlearn: 0.6592836\ttotal: 14.5s\tremaining: 9.83s\n",
      "298:\tlearn: 0.6592359\ttotal: 14.5s\tremaining: 9.78s\n",
      "299:\tlearn: 0.6591933\ttotal: 14.6s\tremaining: 9.73s\n",
      "300:\tlearn: 0.6592149\ttotal: 14.6s\tremaining: 9.67s\n",
      "301:\tlearn: 0.6594353\ttotal: 14.7s\tremaining: 9.61s\n",
      "302:\tlearn: 0.6594570\ttotal: 14.7s\tremaining: 9.56s\n",
      "303:\tlearn: 0.6594570\ttotal: 14.8s\tremaining: 9.52s\n",
      "304:\tlearn: 0.6593479\ttotal: 14.8s\tremaining: 9.46s\n",
      "305:\tlearn: 0.6597416\ttotal: 14.8s\tremaining: 9.41s\n",
      "306:\tlearn: 0.6593891\ttotal: 14.9s\tremaining: 9.36s\n",
      "307:\tlearn: 0.6600467\ttotal: 14.9s\tremaining: 9.3s\n",
      "308:\tlearn: 0.6601559\ttotal: 15s\tremaining: 9.26s\n",
      "309:\tlearn: 0.6602242\ttotal: 15s\tremaining: 9.21s\n",
      "310:\tlearn: 0.6601131\ttotal: 15.1s\tremaining: 9.16s\n",
      "311:\tlearn: 0.6601387\ttotal: 15.1s\tremaining: 9.1s\n",
      "312:\tlearn: 0.6604709\ttotal: 15.2s\tremaining: 9.05s\n",
      "313:\tlearn: 0.6601878\ttotal: 15.2s\tremaining: 8.99s\n",
      "314:\tlearn: 0.6601234\ttotal: 15.2s\tremaining: 8.95s\n",
      "315:\tlearn: 0.6600309\ttotal: 15.3s\tremaining: 8.89s\n",
      "316:\tlearn: 0.6599855\ttotal: 15.3s\tremaining: 8.84s\n",
      "317:\tlearn: 0.6600959\ttotal: 15.4s\tremaining: 8.79s\n",
      "318:\tlearn: 0.6600059\ttotal: 15.4s\tremaining: 8.74s\n",
      "319:\tlearn: 0.6601170\ttotal: 15.4s\tremaining: 8.69s\n",
      "320:\tlearn: 0.6601170\ttotal: 15.5s\tremaining: 8.63s\n",
      "321:\tlearn: 0.6603575\ttotal: 15.5s\tremaining: 8.58s\n",
      "322:\tlearn: 0.6602695\ttotal: 15.6s\tremaining: 8.53s\n",
      "323:\tlearn: 0.6601170\ttotal: 15.6s\tremaining: 8.48s\n",
      "324:\tlearn: 0.6605076\ttotal: 15.7s\tremaining: 8.43s\n",
      "325:\tlearn: 0.6605517\ttotal: 15.7s\tremaining: 8.38s\n",
      "326:\tlearn: 0.6606609\ttotal: 15.8s\tremaining: 8.33s\n",
      "327:\tlearn: 0.6608593\ttotal: 15.8s\tremaining: 8.29s\n",
      "328:\tlearn: 0.6608598\ttotal: 15.8s\tremaining: 8.23s\n",
      "329:\tlearn: 0.6608387\ttotal: 15.9s\tremaining: 8.18s\n",
      "330:\tlearn: 0.6607947\ttotal: 15.9s\tremaining: 8.13s\n",
      "331:\tlearn: 0.6609484\ttotal: 15.9s\tremaining: 8.07s\n",
      "332:\tlearn: 0.6616734\ttotal: 16s\tremaining: 8.03s\n",
      "333:\tlearn: 0.6618705\ttotal: 16s\tremaining: 7.97s\n",
      "334:\tlearn: 0.6617396\ttotal: 16.1s\tremaining: 7.92s\n",
      "335:\tlearn: 0.6615642\ttotal: 16.1s\tremaining: 7.87s\n",
      "336:\tlearn: 0.6617604\ttotal: 16.2s\tremaining: 7.81s\n",
      "337:\tlearn: 0.6618469\ttotal: 16.2s\tremaining: 7.77s\n",
      "338:\tlearn: 0.6618256\ttotal: 16.2s\tremaining: 7.72s\n",
      "339:\tlearn: 0.6617845\ttotal: 16.3s\tremaining: 7.67s\n",
      "340:\tlearn: 0.6615435\ttotal: 16.3s\tremaining: 7.61s\n",
      "341:\tlearn: 0.6618507\ttotal: 16.4s\tremaining: 7.57s\n",
      "342:\tlearn: 0.6618502\ttotal: 16.4s\tremaining: 7.52s\n",
      "343:\tlearn: 0.6618067\ttotal: 16.5s\tremaining: 7.47s\n",
      "344:\tlearn: 0.6617850\ttotal: 16.5s\tremaining: 7.42s\n",
      "345:\tlearn: 0.6619168\ttotal: 16.6s\tremaining: 7.37s\n",
      "346:\tlearn: 0.6621573\ttotal: 16.6s\tremaining: 7.32s\n",
      "347:\tlearn: 0.6621351\ttotal: 16.6s\tremaining: 7.26s\n",
      "348:\tlearn: 0.6619612\ttotal: 16.7s\tremaining: 7.21s\n",
      "349:\tlearn: 0.6620477\ttotal: 16.7s\tremaining: 7.16s\n",
      "350:\tlearn: 0.6619792\ttotal: 16.7s\tremaining: 7.11s\n",
      "351:\tlearn: 0.6620227\ttotal: 16.8s\tremaining: 7.06s\n",
      "352:\tlearn: 0.6620440\ttotal: 16.8s\tremaining: 7s\n",
      "353:\tlearn: 0.6620880\ttotal: 16.9s\tremaining: 6.96s\n",
      "354:\tlearn: 0.6621315\ttotal: 16.9s\tremaining: 6.91s\n",
      "355:\tlearn: 0.6620653\ttotal: 17s\tremaining: 6.86s\n",
      "356:\tlearn: 0.6623287\ttotal: 17s\tremaining: 6.81s\n",
      "357:\tlearn: 0.6624827\ttotal: 17s\tremaining: 6.76s\n",
      "358:\tlearn: 0.6616709\ttotal: 17.1s\tremaining: 6.71s\n",
      "359:\tlearn: 0.6615835\ttotal: 17.1s\tremaining: 6.66s\n",
      "360:\tlearn: 0.6616274\ttotal: 17.2s\tremaining: 6.61s\n",
      "361:\tlearn: 0.6617787\ttotal: 17.2s\tremaining: 6.56s\n",
      "362:\tlearn: 0.6618677\ttotal: 17.2s\tremaining: 6.51s\n",
      "363:\tlearn: 0.6621302\ttotal: 17.3s\tremaining: 6.46s\n",
      "364:\tlearn: 0.6621950\ttotal: 17.3s\tremaining: 6.41s\n",
      "365:\tlearn: 0.6620635\ttotal: 17.4s\tremaining: 6.36s\n",
      "366:\tlearn: 0.6621075\ttotal: 17.4s\tremaining: 6.31s\n",
      "367:\tlearn: 0.6620418\ttotal: 17.4s\tremaining: 6.26s\n",
      "368:\tlearn: 0.6620857\ttotal: 17.5s\tremaining: 6.21s\n",
      "369:\tlearn: 0.6621733\ttotal: 17.5s\tremaining: 6.16s\n",
      "370:\tlearn: 0.6622604\ttotal: 17.5s\tremaining: 6.1s\n",
      "371:\tlearn: 0.6623927\ttotal: 17.6s\tremaining: 6.05s\n",
      "372:\tlearn: 0.6623710\ttotal: 17.6s\tremaining: 6s\n",
      "373:\tlearn: 0.6625904\ttotal: 17.7s\tremaining: 5.95s\n",
      "374:\tlearn: 0.6622604\ttotal: 17.7s\tremaining: 5.9s\n",
      "375:\tlearn: 0.6628102\ttotal: 17.7s\tremaining: 5.85s\n",
      "376:\tlearn: 0.6630967\ttotal: 17.8s\tremaining: 5.8s\n",
      "377:\tlearn: 0.6631842\ttotal: 17.8s\tremaining: 5.75s\n",
      "378:\tlearn: 0.6631845\ttotal: 17.9s\tremaining: 5.7s\n",
      "379:\tlearn: 0.6633595\ttotal: 17.9s\tremaining: 5.65s\n",
      "380:\tlearn: 0.6632056\ttotal: 17.9s\tremaining: 5.6s\n",
      "381:\tlearn: 0.6634464\ttotal: 18s\tremaining: 5.55s\n",
      "382:\tlearn: 0.6634246\ttotal: 18s\tremaining: 5.5s\n",
      "383:\tlearn: 0.6634685\ttotal: 18.1s\tremaining: 5.45s\n",
      "384:\tlearn: 0.6635575\ttotal: 18.1s\tremaining: 5.41s\n",
      "385:\tlearn: 0.6636017\ttotal: 18.1s\tremaining: 5.36s\n",
      "386:\tlearn: 0.6635136\ttotal: 18.2s\tremaining: 5.31s\n",
      "387:\tlearn: 0.6635799\ttotal: 18.2s\tremaining: 5.26s\n",
      "388:\tlearn: 0.6635357\ttotal: 18.3s\tremaining: 5.21s\n",
      "389:\tlearn: 0.6634919\ttotal: 18.3s\tremaining: 5.16s\n",
      "390:\tlearn: 0.6633602\ttotal: 18.3s\tremaining: 5.11s\n",
      "391:\tlearn: 0.6629213\ttotal: 18.4s\tremaining: 5.06s\n",
      "392:\tlearn: 0.6625493\ttotal: 18.4s\tremaining: 5.01s\n",
      "393:\tlearn: 0.6624618\ttotal: 18.4s\tremaining: 4.96s\n",
      "394:\tlearn: 0.6623513\ttotal: 18.5s\tremaining: 4.91s\n",
      "395:\tlearn: 0.6625706\ttotal: 18.5s\tremaining: 4.86s\n",
      "396:\tlearn: 0.6627918\ttotal: 18.5s\tremaining: 4.81s\n",
      "397:\tlearn: 0.6627705\ttotal: 18.6s\tremaining: 4.76s\n",
      "398:\tlearn: 0.6629892\ttotal: 18.6s\tremaining: 4.71s\n",
      "399:\tlearn: 0.6630549\ttotal: 18.7s\tremaining: 4.66s\n",
      "400:\tlearn: 0.6630549\ttotal: 18.7s\tremaining: 4.61s\n",
      "401:\tlearn: 0.6630324\ttotal: 18.7s\tremaining: 4.57s\n",
      "402:\tlearn: 0.6629889\ttotal: 18.8s\tremaining: 4.52s\n",
      "403:\tlearn: 0.6628800\ttotal: 18.8s\tremaining: 4.47s\n",
      "404:\tlearn: 0.6629903\ttotal: 18.8s\tremaining: 4.42s\n",
      "405:\tlearn: 0.6629682\ttotal: 18.9s\tremaining: 4.37s\n",
      "406:\tlearn: 0.6631430\ttotal: 18.9s\tremaining: 4.32s\n",
      "407:\tlearn: 0.6630110\ttotal: 18.9s\tremaining: 4.27s\n",
      "408:\tlearn: 0.6631213\ttotal: 19s\tremaining: 4.22s\n",
      "409:\tlearn: 0.6629682\ttotal: 19s\tremaining: 4.17s\n",
      "410:\tlearn: 0.6630567\ttotal: 19.1s\tremaining: 4.13s\n",
      "411:\tlearn: 0.6634073\ttotal: 19.1s\tremaining: 4.08s\n",
      "412:\tlearn: 0.6632338\ttotal: 19.1s\tremaining: 4.03s\n",
      "413:\tlearn: 0.6633644\ttotal: 19.2s\tremaining: 3.98s\n",
      "414:\tlearn: 0.6636492\ttotal: 19.2s\tremaining: 3.94s\n",
      "415:\tlearn: 0.6634518\ttotal: 19.3s\tremaining: 3.89s\n",
      "416:\tlearn: 0.6634738\ttotal: 19.3s\tremaining: 3.84s\n",
      "417:\tlearn: 0.6632951\ttotal: 19.3s\tremaining: 3.79s\n",
      "418:\tlearn: 0.6628770\ttotal: 19.4s\tremaining: 3.75s\n",
      "419:\tlearn: 0.6628988\ttotal: 19.4s\tremaining: 3.7s\n",
      "420:\tlearn: 0.6630317\ttotal: 19.5s\tremaining: 3.65s\n",
      "421:\tlearn: 0.6629653\ttotal: 19.5s\tremaining: 3.6s\n",
      "422:\tlearn: 0.6635575\ttotal: 19.5s\tremaining: 3.56s\n",
      "423:\tlearn: 0.6635784\ttotal: 19.6s\tremaining: 3.51s\n",
      "424:\tlearn: 0.6635787\ttotal: 19.6s\tremaining: 3.46s\n",
      "425:\tlearn: 0.6643007\ttotal: 19.7s\tremaining: 3.42s\n",
      "426:\tlearn: 0.6640155\ttotal: 19.7s\tremaining: 3.37s\n",
      "427:\tlearn: 0.6640820\ttotal: 19.7s\tremaining: 3.32s\n",
      "428:\tlearn: 0.6641254\ttotal: 19.8s\tremaining: 3.27s\n",
      "429:\tlearn: 0.6639277\ttotal: 19.8s\tremaining: 3.23s\n",
      "430:\tlearn: 0.6637084\ttotal: 19.8s\tremaining: 3.18s\n",
      "431:\tlearn: 0.6638611\ttotal: 19.9s\tremaining: 3.13s\n",
      "432:\tlearn: 0.6642117\ttotal: 19.9s\tremaining: 3.08s\n",
      "433:\tlearn: 0.6642341\ttotal: 20s\tremaining: 3.04s\n",
      "434:\tlearn: 0.6644090\ttotal: 20s\tremaining: 2.99s\n",
      "435:\tlearn: 0.6645624\ttotal: 20s\tremaining: 2.94s\n",
      "436:\tlearn: 0.6645185\ttotal: 20.1s\tremaining: 2.9s\n",
      "437:\tlearn: 0.6645191\ttotal: 20.1s\tremaining: 2.85s\n",
      "438:\tlearn: 0.6644752\ttotal: 20.2s\tremaining: 2.8s\n",
      "439:\tlearn: 0.6644531\ttotal: 20.2s\tremaining: 2.76s\n",
      "440:\tlearn: 0.6645412\ttotal: 20.3s\tremaining: 2.71s\n",
      "441:\tlearn: 0.6648920\ttotal: 20.3s\tremaining: 2.66s\n",
      "442:\tlearn: 0.6648922\ttotal: 20.3s\tremaining: 2.62s\n",
      "443:\tlearn: 0.6653521\ttotal: 20.4s\tremaining: 2.57s\n",
      "444:\tlearn: 0.6656155\ttotal: 20.4s\tremaining: 2.52s\n",
      "445:\tlearn: 0.6655714\ttotal: 20.5s\tremaining: 2.48s\n",
      "446:\tlearn: 0.6657465\ttotal: 20.5s\tremaining: 2.43s\n",
      "447:\tlearn: 0.6655717\ttotal: 20.5s\tremaining: 2.38s\n",
      "448:\tlearn: 0.6658783\ttotal: 20.6s\tremaining: 2.34s\n",
      "449:\tlearn: 0.6659005\ttotal: 20.6s\tremaining: 2.29s\n",
      "450:\tlearn: 0.6660537\ttotal: 20.7s\tremaining: 2.24s\n",
      "451:\tlearn: 0.6660756\ttotal: 20.7s\tremaining: 2.2s\n",
      "452:\tlearn: 0.6661413\ttotal: 20.7s\tremaining: 2.15s\n",
      "453:\tlearn: 0.6661848\ttotal: 20.8s\tremaining: 2.1s\n",
      "454:\tlearn: 0.6661848\ttotal: 20.8s\tremaining: 2.06s\n",
      "455:\tlearn: 0.6662943\ttotal: 20.8s\tremaining: 2.01s\n",
      "456:\tlearn: 0.6662286\ttotal: 20.9s\tremaining: 1.97s\n",
      "457:\tlearn: 0.6663380\ttotal: 20.9s\tremaining: 1.92s\n",
      "458:\tlearn: 0.6664257\ttotal: 21s\tremaining: 1.87s\n",
      "459:\tlearn: 0.6664477\ttotal: 21s\tremaining: 1.83s\n",
      "460:\tlearn: 0.6665134\ttotal: 21s\tremaining: 1.78s\n",
      "461:\tlearn: 0.6665353\ttotal: 21.1s\tremaining: 1.73s\n",
      "462:\tlearn: 0.6661192\ttotal: 21.1s\tremaining: 1.69s\n",
      "463:\tlearn: 0.6660754\ttotal: 21.2s\tremaining: 1.64s\n",
      "464:\tlearn: 0.6660535\ttotal: 21.2s\tremaining: 1.59s\n",
      "465:\tlearn: 0.6663163\ttotal: 21.3s\tremaining: 1.55s\n",
      "466:\tlearn: 0.6662506\ttotal: 21.3s\tremaining: 1.5s\n",
      "467:\tlearn: 0.6662506\ttotal: 21.3s\tremaining: 1.46s\n",
      "468:\tlearn: 0.6660534\ttotal: 21.4s\tremaining: 1.41s\n",
      "469:\tlearn: 0.6661192\ttotal: 21.4s\tremaining: 1.37s\n",
      "470:\tlearn: 0.6659878\ttotal: 21.5s\tremaining: 1.32s\n",
      "471:\tlearn: 0.6661848\ttotal: 21.5s\tremaining: 1.27s\n",
      "472:\tlearn: 0.6662067\ttotal: 21.6s\tremaining: 1.23s\n",
      "473:\tlearn: 0.6661190\ttotal: 21.6s\tremaining: 1.18s\n",
      "474:\tlearn: 0.6661190\ttotal: 21.6s\tremaining: 1.14s\n",
      "475:\tlearn: 0.6660971\ttotal: 21.7s\tremaining: 1.09s\n",
      "476:\tlearn: 0.6661192\ttotal: 21.7s\tremaining: 1.05s\n",
      "477:\tlearn: 0.6663382\ttotal: 21.8s\tremaining: 1s\n",
      "478:\tlearn: 0.6671925\ttotal: 21.8s\tremaining: 955ms\n",
      "479:\tlearn: 0.6671705\ttotal: 21.8s\tremaining: 910ms\n",
      "480:\tlearn: 0.6671705\ttotal: 21.9s\tremaining: 864ms\n",
      "481:\tlearn: 0.6675208\ttotal: 21.9s\tremaining: 819ms\n",
      "482:\tlearn: 0.6671485\ttotal: 22s\tremaining: 773ms\n",
      "483:\tlearn: 0.6670390\ttotal: 22s\tremaining: 728ms\n",
      "484:\tlearn: 0.6672362\ttotal: 22.1s\tremaining: 682ms\n",
      "485:\tlearn: 0.6673458\ttotal: 22.1s\tremaining: 637ms\n",
      "486:\tlearn: 0.6673019\ttotal: 22.1s\tremaining: 591ms\n",
      "487:\tlearn: 0.6664256\ttotal: 22.2s\tremaining: 546ms\n",
      "488:\tlearn: 0.6661623\ttotal: 22.2s\tremaining: 500ms\n",
      "489:\tlearn: 0.6662062\ttotal: 22.3s\tremaining: 455ms\n",
      "490:\tlearn: 0.6662939\ttotal: 22.3s\tremaining: 409ms\n",
      "491:\tlearn: 0.6663160\ttotal: 22.4s\tremaining: 364ms\n",
      "492:\tlearn: 0.6662721\ttotal: 22.4s\tremaining: 318ms\n",
      "493:\tlearn: 0.6663598\ttotal: 22.4s\tremaining: 272ms\n",
      "494:\tlearn: 0.6670172\ttotal: 22.5s\tremaining: 227ms\n",
      "495:\tlearn: 0.6673018\ttotal: 22.5s\tremaining: 182ms\n",
      "496:\tlearn: 0.6673018\ttotal: 22.5s\tremaining: 136ms\n",
      "497:\tlearn: 0.6673457\ttotal: 22.6s\tremaining: 90.7ms\n",
      "498:\tlearn: 0.6673670\ttotal: 22.6s\tremaining: 45.3ms\n",
      "499:\tlearn: 0.6673013\ttotal: 22.7s\tremaining: 0us\n",
      "0:\tlearn: 0.5638224\ttotal: 46.1ms\tremaining: 23s\n",
      "1:\tlearn: 0.5884839\ttotal: 90.1ms\tremaining: 22.4s\n",
      "2:\tlearn: 0.5835594\ttotal: 121ms\tremaining: 20s\n",
      "3:\tlearn: 0.5871899\ttotal: 167ms\tremaining: 20.7s\n",
      "4:\tlearn: 0.6042111\ttotal: 204ms\tremaining: 20.2s\n",
      "5:\tlearn: 0.6191882\ttotal: 261ms\tremaining: 21.5s\n",
      "6:\tlearn: 0.6244644\ttotal: 299ms\tremaining: 21s\n",
      "7:\tlearn: 0.6254006\ttotal: 342ms\tremaining: 21s\n",
      "8:\tlearn: 0.6294960\ttotal: 379ms\tremaining: 20.7s\n",
      "9:\tlearn: 0.6263590\ttotal: 410ms\tremaining: 20.1s\n",
      "10:\tlearn: 0.6277770\ttotal: 465ms\tremaining: 20.7s\n",
      "11:\tlearn: 0.6297072\ttotal: 497ms\tremaining: 20.2s\n",
      "12:\tlearn: 0.6288437\ttotal: 550ms\tremaining: 20.6s\n",
      "13:\tlearn: 0.6294704\ttotal: 585ms\tremaining: 20.3s\n",
      "14:\tlearn: 0.6302264\ttotal: 624ms\tremaining: 20.2s\n",
      "15:\tlearn: 0.6305252\ttotal: 661ms\tremaining: 20s\n",
      "16:\tlearn: 0.6315894\ttotal: 693ms\tremaining: 19.7s\n",
      "17:\tlearn: 0.6314354\ttotal: 751ms\tremaining: 20.1s\n",
      "18:\tlearn: 0.6339543\ttotal: 784ms\tremaining: 19.8s\n",
      "19:\tlearn: 0.6347654\ttotal: 839ms\tremaining: 20.1s\n",
      "20:\tlearn: 0.6360125\ttotal: 881ms\tremaining: 20.1s\n",
      "21:\tlearn: 0.6361956\ttotal: 936ms\tremaining: 20.3s\n",
      "22:\tlearn: 0.6360842\ttotal: 977ms\tremaining: 20.3s\n",
      "23:\tlearn: 0.6362735\ttotal: 1.03s\tremaining: 20.4s\n",
      "24:\tlearn: 0.6357559\ttotal: 1.07s\tremaining: 20.3s\n",
      "25:\tlearn: 0.6366732\ttotal: 1.11s\tremaining: 20.3s\n",
      "26:\tlearn: 0.6359606\ttotal: 1.16s\tremaining: 20.3s\n",
      "27:\tlearn: 0.6358129\ttotal: 1.22s\tremaining: 20.5s\n",
      "28:\tlearn: 0.6361441\ttotal: 1.26s\tremaining: 20.5s\n",
      "29:\tlearn: 0.6359148\ttotal: 1.3s\tremaining: 20.4s\n",
      "30:\tlearn: 0.6371552\ttotal: 1.35s\tremaining: 20.4s\n",
      "31:\tlearn: 0.6369963\ttotal: 1.38s\tremaining: 20.2s\n",
      "32:\tlearn: 0.6369030\ttotal: 1.43s\tremaining: 20.2s\n",
      "33:\tlearn: 0.6374404\ttotal: 1.46s\tremaining: 20s\n",
      "34:\tlearn: 0.6374404\ttotal: 1.49s\tremaining: 19.8s\n",
      "35:\tlearn: 0.6375277\ttotal: 1.54s\tremaining: 19.8s\n",
      "36:\tlearn: 0.6379430\ttotal: 1.57s\tremaining: 19.6s\n",
      "37:\tlearn: 0.6378078\ttotal: 1.6s\tremaining: 19.5s\n",
      "38:\tlearn: 0.6377483\ttotal: 1.64s\tremaining: 19.4s\n",
      "39:\tlearn: 0.6380470\ttotal: 1.67s\tremaining: 19.2s\n",
      "40:\tlearn: 0.6384529\ttotal: 1.72s\tremaining: 19.3s\n",
      "41:\tlearn: 0.6374478\ttotal: 1.76s\tremaining: 19.2s\n",
      "42:\tlearn: 0.6380514\ttotal: 1.8s\tremaining: 19.1s\n",
      "43:\tlearn: 0.6383711\ttotal: 1.83s\tremaining: 19s\n",
      "44:\tlearn: 0.6385909\ttotal: 1.87s\tremaining: 18.9s\n",
      "45:\tlearn: 0.6382951\ttotal: 1.91s\tremaining: 18.8s\n",
      "46:\tlearn: 0.6391753\ttotal: 1.94s\tremaining: 18.7s\n",
      "47:\tlearn: 0.6391117\ttotal: 1.98s\tremaining: 18.6s\n",
      "48:\tlearn: 0.6392388\ttotal: 2.01s\tremaining: 18.5s\n",
      "49:\tlearn: 0.6391486\ttotal: 2.05s\tremaining: 18.4s\n",
      "50:\tlearn: 0.6391349\ttotal: 2.09s\tremaining: 18.4s\n",
      "51:\tlearn: 0.6395276\ttotal: 2.13s\tremaining: 18.3s\n",
      "52:\tlearn: 0.6392300\ttotal: 2.17s\tremaining: 18.3s\n",
      "53:\tlearn: 0.6397213\ttotal: 2.21s\tremaining: 18.3s\n",
      "54:\tlearn: 0.6399867\ttotal: 2.25s\tremaining: 18.2s\n",
      "55:\tlearn: 0.6399443\ttotal: 2.29s\tremaining: 18.2s\n",
      "56:\tlearn: 0.6403797\ttotal: 2.32s\tremaining: 18s\n",
      "57:\tlearn: 0.6406188\ttotal: 2.37s\tremaining: 18.1s\n",
      "58:\tlearn: 0.6408818\ttotal: 2.41s\tremaining: 18s\n",
      "59:\tlearn: 0.6408367\ttotal: 2.45s\tremaining: 18s\n",
      "60:\tlearn: 0.6407567\ttotal: 2.5s\tremaining: 18s\n",
      "61:\tlearn: 0.6406935\ttotal: 2.53s\tremaining: 17.9s\n",
      "62:\tlearn: 0.6402579\ttotal: 2.58s\tremaining: 17.9s\n",
      "63:\tlearn: 0.6401675\ttotal: 2.61s\tremaining: 17.8s\n",
      "64:\tlearn: 0.6416821\ttotal: 2.65s\tremaining: 17.7s\n",
      "65:\tlearn: 0.6418287\ttotal: 2.7s\tremaining: 17.7s\n",
      "66:\tlearn: 0.6423193\ttotal: 2.73s\tremaining: 17.7s\n",
      "67:\tlearn: 0.6423101\ttotal: 2.78s\tremaining: 17.7s\n",
      "68:\tlearn: 0.6423314\ttotal: 2.82s\tremaining: 17.6s\n",
      "69:\tlearn: 0.6423435\ttotal: 2.86s\tremaining: 17.6s\n",
      "70:\tlearn: 0.6421210\ttotal: 2.89s\tremaining: 17.5s\n",
      "71:\tlearn: 0.6419859\ttotal: 2.92s\tremaining: 17.4s\n",
      "72:\tlearn: 0.6421611\ttotal: 2.97s\tremaining: 17.4s\n",
      "73:\tlearn: 0.6420498\ttotal: 3s\tremaining: 17.3s\n",
      "74:\tlearn: 0.6414832\ttotal: 3.04s\tremaining: 17.2s\n",
      "75:\tlearn: 0.6415295\ttotal: 3.08s\tremaining: 17.2s\n",
      "76:\tlearn: 0.6413779\ttotal: 3.13s\tremaining: 17.2s\n",
      "77:\tlearn: 0.6416559\ttotal: 3.17s\tremaining: 17.2s\n",
      "78:\tlearn: 0.6414068\ttotal: 3.21s\tremaining: 17.1s\n",
      "79:\tlearn: 0.6416058\ttotal: 3.25s\tremaining: 17s\n",
      "80:\tlearn: 0.6415821\ttotal: 3.28s\tremaining: 17s\n",
      "81:\tlearn: 0.6419851\ttotal: 3.32s\tremaining: 16.9s\n",
      "82:\tlearn: 0.6420089\ttotal: 3.36s\tremaining: 16.9s\n",
      "83:\tlearn: 0.6420965\ttotal: 3.4s\tremaining: 16.8s\n",
      "84:\tlearn: 0.6420965\ttotal: 3.44s\tremaining: 16.8s\n",
      "85:\tlearn: 0.6419753\ttotal: 3.48s\tremaining: 16.7s\n",
      "86:\tlearn: 0.6422907\ttotal: 3.52s\tremaining: 16.7s\n",
      "87:\tlearn: 0.6424661\ttotal: 3.56s\tremaining: 16.7s\n",
      "88:\tlearn: 0.6422883\ttotal: 3.61s\tremaining: 16.7s\n",
      "89:\tlearn: 0.6423333\ttotal: 3.65s\tremaining: 16.7s\n",
      "90:\tlearn: 0.6425751\ttotal: 3.7s\tremaining: 16.6s\n",
      "91:\tlearn: 0.6423237\ttotal: 3.74s\tremaining: 16.6s\n",
      "92:\tlearn: 0.6428880\ttotal: 3.77s\tremaining: 16.5s\n",
      "93:\tlearn: 0.6429306\ttotal: 3.81s\tremaining: 16.5s\n",
      "94:\tlearn: 0.6433311\ttotal: 3.85s\tremaining: 16.4s\n",
      "95:\tlearn: 0.6440914\ttotal: 3.9s\tremaining: 16.4s\n",
      "96:\tlearn: 0.6444850\ttotal: 3.94s\tremaining: 16.4s\n",
      "97:\tlearn: 0.6443715\ttotal: 3.98s\tremaining: 16.3s\n",
      "98:\tlearn: 0.6441105\ttotal: 4.02s\tremaining: 16.3s\n",
      "99:\tlearn: 0.6437216\ttotal: 4.05s\tremaining: 16.2s\n",
      "100:\tlearn: 0.6437643\ttotal: 4.09s\tremaining: 16.2s\n",
      "101:\tlearn: 0.6436340\ttotal: 4.12s\tremaining: 16.1s\n",
      "102:\tlearn: 0.6437521\ttotal: 4.17s\tremaining: 16.1s\n",
      "103:\tlearn: 0.6438847\ttotal: 4.21s\tremaining: 16s\n",
      "104:\tlearn: 0.6442655\ttotal: 4.24s\tremaining: 15.9s\n",
      "105:\tlearn: 0.6438420\ttotal: 4.27s\tremaining: 15.9s\n",
      "106:\tlearn: 0.6445410\ttotal: 4.31s\tremaining: 15.8s\n",
      "107:\tlearn: 0.6446845\ttotal: 4.35s\tremaining: 15.8s\n",
      "108:\tlearn: 0.6451720\ttotal: 4.39s\tremaining: 15.7s\n",
      "109:\tlearn: 0.6452745\ttotal: 4.42s\tremaining: 15.7s\n",
      "110:\tlearn: 0.6452895\ttotal: 4.45s\tremaining: 15.6s\n",
      "111:\tlearn: 0.6453109\ttotal: 4.5s\tremaining: 15.6s\n",
      "112:\tlearn: 0.6450181\ttotal: 4.54s\tremaining: 15.5s\n",
      "113:\tlearn: 0.6448620\ttotal: 4.57s\tremaining: 15.5s\n",
      "114:\tlearn: 0.6449665\ttotal: 4.61s\tremaining: 15.4s\n",
      "115:\tlearn: 0.6439102\ttotal: 4.66s\tremaining: 15.4s\n",
      "116:\tlearn: 0.6440453\ttotal: 4.69s\tremaining: 15.3s\n",
      "117:\tlearn: 0.6440453\ttotal: 4.72s\tremaining: 15.3s\n",
      "118:\tlearn: 0.6446067\ttotal: 4.76s\tremaining: 15.3s\n",
      "119:\tlearn: 0.6444009\ttotal: 4.81s\tremaining: 15.2s\n",
      "120:\tlearn: 0.6445935\ttotal: 4.85s\tremaining: 15.2s\n",
      "121:\tlearn: 0.6443840\ttotal: 4.88s\tremaining: 15.1s\n",
      "122:\tlearn: 0.6436873\ttotal: 4.92s\tremaining: 15.1s\n",
      "123:\tlearn: 0.6437728\ttotal: 4.95s\tremaining: 15s\n",
      "124:\tlearn: 0.6439552\ttotal: 5s\tremaining: 15s\n",
      "125:\tlearn: 0.6440284\ttotal: 5.04s\tremaining: 14.9s\n",
      "126:\tlearn: 0.6440520\ttotal: 5.07s\tremaining: 14.9s\n",
      "127:\tlearn: 0.6441982\ttotal: 5.12s\tremaining: 14.9s\n",
      "128:\tlearn: 0.6443523\ttotal: 5.15s\tremaining: 14.8s\n",
      "129:\tlearn: 0.6444975\ttotal: 5.2s\tremaining: 14.8s\n",
      "130:\tlearn: 0.6443323\ttotal: 5.23s\tremaining: 14.7s\n",
      "131:\tlearn: 0.6443751\ttotal: 5.26s\tremaining: 14.7s\n",
      "132:\tlearn: 0.6450456\ttotal: 5.3s\tremaining: 14.6s\n",
      "133:\tlearn: 0.6450007\ttotal: 5.33s\tremaining: 14.6s\n",
      "134:\tlearn: 0.6450221\ttotal: 5.37s\tremaining: 14.5s\n",
      "135:\tlearn: 0.6450392\ttotal: 5.41s\tremaining: 14.5s\n",
      "136:\tlearn: 0.6450392\ttotal: 5.45s\tremaining: 14.4s\n",
      "137:\tlearn: 0.6449364\ttotal: 5.5s\tremaining: 14.4s\n",
      "138:\tlearn: 0.6450028\ttotal: 5.53s\tremaining: 14.4s\n",
      "139:\tlearn: 0.6449814\ttotal: 5.58s\tremaining: 14.4s\n",
      "140:\tlearn: 0.6450949\ttotal: 5.62s\tremaining: 14.3s\n",
      "141:\tlearn: 0.6450949\ttotal: 5.65s\tremaining: 14.3s\n",
      "142:\tlearn: 0.6452533\ttotal: 5.7s\tremaining: 14.2s\n",
      "143:\tlearn: 0.6455873\ttotal: 5.73s\tremaining: 14.2s\n",
      "144:\tlearn: 0.6454932\ttotal: 5.78s\tremaining: 14.1s\n",
      "145:\tlearn: 0.6461242\ttotal: 5.83s\tremaining: 14.1s\n",
      "146:\tlearn: 0.6460151\ttotal: 5.88s\tremaining: 14.1s\n",
      "147:\tlearn: 0.6461732\ttotal: 5.91s\tremaining: 14.1s\n",
      "148:\tlearn: 0.6465692\ttotal: 5.95s\tremaining: 14s\n",
      "149:\tlearn: 0.6463896\ttotal: 5.99s\tremaining: 14s\n",
      "150:\tlearn: 0.6463916\ttotal: 6.03s\tremaining: 13.9s\n",
      "151:\tlearn: 0.6463936\ttotal: 6.07s\tremaining: 13.9s\n",
      "152:\tlearn: 0.6463487\ttotal: 6.11s\tremaining: 13.9s\n",
      "153:\tlearn: 0.6465712\ttotal: 6.16s\tremaining: 13.8s\n",
      "154:\tlearn: 0.6465712\ttotal: 6.2s\tremaining: 13.8s\n",
      "155:\tlearn: 0.6465497\ttotal: 6.24s\tremaining: 13.8s\n",
      "156:\tlearn: 0.6465028\ttotal: 6.29s\tremaining: 13.7s\n",
      "157:\tlearn: 0.6466804\ttotal: 6.32s\tremaining: 13.7s\n",
      "158:\tlearn: 0.6472110\ttotal: 6.36s\tremaining: 13.6s\n",
      "159:\tlearn: 0.6471681\ttotal: 6.4s\tremaining: 13.6s\n",
      "160:\tlearn: 0.6471895\ttotal: 6.44s\tremaining: 13.6s\n",
      "161:\tlearn: 0.6488064\ttotal: 6.48s\tremaining: 13.5s\n",
      "162:\tlearn: 0.6486952\ttotal: 6.54s\tremaining: 13.5s\n",
      "163:\tlearn: 0.6485895\ttotal: 6.57s\tremaining: 13.5s\n",
      "164:\tlearn: 0.6487221\ttotal: 6.62s\tremaining: 13.4s\n",
      "165:\tlearn: 0.6487221\ttotal: 6.65s\tremaining: 13.4s\n",
      "166:\tlearn: 0.6486702\ttotal: 6.68s\tremaining: 13.3s\n",
      "167:\tlearn: 0.6487006\ttotal: 6.73s\tremaining: 13.3s\n",
      "168:\tlearn: 0.6487669\ttotal: 6.77s\tremaining: 13.3s\n",
      "169:\tlearn: 0.6485626\ttotal: 6.82s\tremaining: 13.2s\n",
      "170:\tlearn: 0.6485178\ttotal: 6.87s\tremaining: 13.2s\n",
      "171:\tlearn: 0.6485178\ttotal: 6.91s\tremaining: 13.2s\n",
      "172:\tlearn: 0.6488709\ttotal: 6.96s\tremaining: 13.2s\n",
      "173:\tlearn: 0.6489337\ttotal: 7s\tremaining: 13.1s\n",
      "174:\tlearn: 0.6489086\ttotal: 7.05s\tremaining: 13.1s\n",
      "175:\tlearn: 0.6489302\ttotal: 7.09s\tremaining: 13.1s\n",
      "176:\tlearn: 0.6489086\ttotal: 7.14s\tremaining: 13s\n",
      "177:\tlearn: 0.6491560\ttotal: 7.18s\tremaining: 13s\n",
      "178:\tlearn: 0.6491827\ttotal: 7.23s\tremaining: 13s\n",
      "179:\tlearn: 0.6491595\ttotal: 7.26s\tremaining: 12.9s\n",
      "180:\tlearn: 0.6491507\ttotal: 7.31s\tremaining: 12.9s\n",
      "181:\tlearn: 0.6493618\ttotal: 7.37s\tremaining: 12.9s\n",
      "182:\tlearn: 0.6492112\ttotal: 7.4s\tremaining: 12.8s\n",
      "183:\tlearn: 0.6491664\ttotal: 7.44s\tremaining: 12.8s\n",
      "184:\tlearn: 0.6489030\ttotal: 7.48s\tremaining: 12.7s\n",
      "185:\tlearn: 0.6489838\ttotal: 7.51s\tremaining: 12.7s\n",
      "186:\tlearn: 0.6489587\ttotal: 7.55s\tremaining: 12.6s\n",
      "187:\tlearn: 0.6492508\ttotal: 7.59s\tremaining: 12.6s\n",
      "188:\tlearn: 0.6494083\ttotal: 7.63s\tremaining: 12.6s\n",
      "189:\tlearn: 0.6494746\ttotal: 7.7s\tremaining: 12.6s\n",
      "190:\tlearn: 0.6494514\ttotal: 7.75s\tremaining: 12.5s\n",
      "191:\tlearn: 0.6496106\ttotal: 7.78s\tremaining: 12.5s\n",
      "192:\tlearn: 0.6496355\ttotal: 7.82s\tremaining: 12.4s\n",
      "193:\tlearn: 0.6497233\ttotal: 7.85s\tremaining: 12.4s\n",
      "194:\tlearn: 0.6493024\ttotal: 7.88s\tremaining: 12.3s\n",
      "195:\tlearn: 0.6493687\ttotal: 7.92s\tremaining: 12.3s\n",
      "196:\tlearn: 0.6495279\ttotal: 7.97s\tremaining: 12.3s\n",
      "197:\tlearn: 0.6500596\ttotal: 8.01s\tremaining: 12.2s\n",
      "198:\tlearn: 0.6501706\ttotal: 8.05s\tremaining: 12.2s\n",
      "199:\tlearn: 0.6500133\ttotal: 8.08s\tremaining: 12.1s\n",
      "200:\tlearn: 0.6500133\ttotal: 8.12s\tremaining: 12.1s\n",
      "201:\tlearn: 0.6500133\ttotal: 8.15s\tremaining: 12s\n",
      "202:\tlearn: 0.6499685\ttotal: 8.19s\tremaining: 12s\n",
      "203:\tlearn: 0.6499221\ttotal: 8.23s\tremaining: 11.9s\n",
      "204:\tlearn: 0.6501458\ttotal: 8.29s\tremaining: 11.9s\n",
      "205:\tlearn: 0.6500563\ttotal: 8.33s\tremaining: 11.9s\n",
      "206:\tlearn: 0.6501624\ttotal: 8.38s\tremaining: 11.9s\n",
      "207:\tlearn: 0.6499652\ttotal: 8.42s\tremaining: 11.8s\n",
      "208:\tlearn: 0.6500315\ttotal: 8.46s\tremaining: 11.8s\n",
      "209:\tlearn: 0.6500099\ttotal: 8.5s\tremaining: 11.7s\n",
      "210:\tlearn: 0.6501624\ttotal: 8.54s\tremaining: 11.7s\n",
      "211:\tlearn: 0.6501856\ttotal: 8.59s\tremaining: 11.7s\n",
      "212:\tlearn: 0.6501193\ttotal: 8.63s\tremaining: 11.6s\n",
      "213:\tlearn: 0.6504491\ttotal: 8.67s\tremaining: 11.6s\n",
      "214:\tlearn: 0.6513339\ttotal: 8.71s\tremaining: 11.6s\n",
      "215:\tlearn: 0.6513339\ttotal: 8.75s\tremaining: 11.5s\n",
      "216:\tlearn: 0.6514233\ttotal: 8.79s\tremaining: 11.5s\n",
      "217:\tlearn: 0.6511505\ttotal: 8.82s\tremaining: 11.4s\n",
      "218:\tlearn: 0.6504961\ttotal: 8.86s\tremaining: 11.4s\n",
      "219:\tlearn: 0.6505193\ttotal: 8.9s\tremaining: 11.3s\n",
      "220:\tlearn: 0.6505193\ttotal: 8.93s\tremaining: 11.3s\n",
      "221:\tlearn: 0.6504945\ttotal: 8.97s\tremaining: 11.2s\n",
      "222:\tlearn: 0.6502738\ttotal: 9s\tremaining: 11.2s\n",
      "223:\tlearn: 0.6505392\ttotal: 9.04s\tremaining: 11.1s\n",
      "224:\tlearn: 0.6505537\ttotal: 9.08s\tremaining: 11.1s\n",
      "225:\tlearn: 0.6504626\ttotal: 9.11s\tremaining: 11s\n",
      "226:\tlearn: 0.6504626\ttotal: 9.15s\tremaining: 11s\n",
      "227:\tlearn: 0.6506663\ttotal: 9.2s\tremaining: 11s\n",
      "228:\tlearn: 0.6508299\ttotal: 9.24s\tremaining: 10.9s\n",
      "229:\tlearn: 0.6507206\ttotal: 9.29s\tremaining: 10.9s\n",
      "230:\tlearn: 0.6511119\ttotal: 9.35s\tremaining: 10.9s\n",
      "231:\tlearn: 0.6510503\ttotal: 9.38s\tremaining: 10.8s\n",
      "232:\tlearn: 0.6512290\ttotal: 9.41s\tremaining: 10.8s\n",
      "233:\tlearn: 0.6510087\ttotal: 9.46s\tremaining: 10.8s\n",
      "234:\tlearn: 0.6515648\ttotal: 9.51s\tremaining: 10.7s\n",
      "235:\tlearn: 0.6519838\ttotal: 9.55s\tremaining: 10.7s\n",
      "236:\tlearn: 0.6522977\ttotal: 9.58s\tremaining: 10.6s\n",
      "237:\tlearn: 0.6520401\ttotal: 9.63s\tremaining: 10.6s\n",
      "238:\tlearn: 0.6521998\ttotal: 9.67s\tremaining: 10.6s\n",
      "239:\tlearn: 0.6520013\ttotal: 9.71s\tremaining: 10.5s\n",
      "240:\tlearn: 0.6518661\ttotal: 9.75s\tremaining: 10.5s\n",
      "241:\tlearn: 0.6517523\ttotal: 9.79s\tremaining: 10.4s\n",
      "242:\tlearn: 0.6518543\ttotal: 9.83s\tremaining: 10.4s\n",
      "243:\tlearn: 0.6520083\ttotal: 9.86s\tremaining: 10.3s\n",
      "244:\tlearn: 0.6520789\ttotal: 9.9s\tremaining: 10.3s\n",
      "245:\tlearn: 0.6524461\ttotal: 9.93s\tremaining: 10.3s\n",
      "246:\tlearn: 0.6525095\ttotal: 9.96s\tremaining: 10.2s\n",
      "247:\tlearn: 0.6521091\ttotal: 10s\tremaining: 10.2s\n",
      "248:\tlearn: 0.6525960\ttotal: 10.1s\tremaining: 10.1s\n",
      "249:\tlearn: 0.6527355\ttotal: 10.1s\tremaining: 10.1s\n",
      "250:\tlearn: 0.6527801\ttotal: 10.1s\tremaining: 10.1s\n",
      "251:\tlearn: 0.6525109\ttotal: 10.2s\tremaining: 10s\n",
      "252:\tlearn: 0.6525988\ttotal: 10.2s\tremaining: 10s\n",
      "253:\tlearn: 0.6525988\ttotal: 10.3s\tremaining: 9.96s\n",
      "254:\tlearn: 0.6526420\ttotal: 10.3s\tremaining: 9.91s\n",
      "255:\tlearn: 0.6526420\ttotal: 10.4s\tremaining: 9.87s\n",
      "256:\tlearn: 0.6530423\ttotal: 10.4s\tremaining: 9.83s\n",
      "257:\tlearn: 0.6531788\ttotal: 10.4s\tremaining: 9.78s\n",
      "258:\tlearn: 0.6528693\ttotal: 10.5s\tremaining: 9.74s\n",
      "259:\tlearn: 0.6529369\ttotal: 10.5s\tremaining: 9.69s\n",
      "260:\tlearn: 0.6528017\ttotal: 10.5s\tremaining: 9.66s\n",
      "261:\tlearn: 0.6528882\ttotal: 10.6s\tremaining: 9.62s\n",
      "262:\tlearn: 0.6529112\ttotal: 10.6s\tremaining: 9.58s\n",
      "263:\tlearn: 0.6530612\ttotal: 10.7s\tremaining: 9.55s\n",
      "264:\tlearn: 0.6536576\ttotal: 10.7s\tremaining: 9.5s\n",
      "265:\tlearn: 0.6537009\ttotal: 10.8s\tremaining: 9.47s\n",
      "266:\tlearn: 0.6536779\ttotal: 10.8s\tremaining: 9.42s\n",
      "267:\tlearn: 0.6536779\ttotal: 10.8s\tremaining: 9.37s\n",
      "268:\tlearn: 0.6538092\ttotal: 10.9s\tremaining: 9.34s\n",
      "269:\tlearn: 0.6539009\ttotal: 10.9s\tremaining: 9.29s\n",
      "270:\tlearn: 0.6539239\ttotal: 10.9s\tremaining: 9.24s\n",
      "271:\tlearn: 0.6536983\ttotal: 11s\tremaining: 9.21s\n",
      "272:\tlearn: 0.6536130\ttotal: 11.1s\tremaining: 9.19s\n",
      "273:\tlearn: 0.6536130\ttotal: 11.1s\tremaining: 9.15s\n",
      "274:\tlearn: 0.6536117\ttotal: 11.1s\tremaining: 9.11s\n",
      "275:\tlearn: 0.6536550\ttotal: 11.2s\tremaining: 9.07s\n",
      "276:\tlearn: 0.6533965\ttotal: 11.2s\tremaining: 9.03s\n",
      "277:\tlearn: 0.6541201\ttotal: 11.3s\tremaining: 8.99s\n",
      "278:\tlearn: 0.6539838\ttotal: 11.3s\tremaining: 8.95s\n",
      "279:\tlearn: 0.6537850\ttotal: 11.3s\tremaining: 8.92s\n",
      "280:\tlearn: 0.6536065\ttotal: 11.4s\tremaining: 8.87s\n",
      "281:\tlearn: 0.6536715\ttotal: 11.4s\tremaining: 8.82s\n",
      "282:\tlearn: 0.6536715\ttotal: 11.5s\tremaining: 8.78s\n",
      "283:\tlearn: 0.6534496\ttotal: 11.5s\tremaining: 8.73s\n",
      "284:\tlearn: 0.6534713\ttotal: 11.5s\tremaining: 8.69s\n",
      "285:\tlearn: 0.6534916\ttotal: 11.6s\tremaining: 8.64s\n",
      "286:\tlearn: 0.6535363\ttotal: 11.6s\tremaining: 8.6s\n",
      "287:\tlearn: 0.6540222\ttotal: 11.6s\tremaining: 8.56s\n",
      "288:\tlearn: 0.6540885\ttotal: 11.7s\tremaining: 8.52s\n",
      "289:\tlearn: 0.6540438\ttotal: 11.7s\tremaining: 8.47s\n",
      "290:\tlearn: 0.6540247\ttotal: 11.7s\tremaining: 8.44s\n",
      "291:\tlearn: 0.6540030\ttotal: 11.8s\tremaining: 8.39s\n",
      "292:\tlearn: 0.6543165\ttotal: 11.8s\tremaining: 8.34s\n",
      "293:\tlearn: 0.6541406\ttotal: 11.9s\tremaining: 8.31s\n",
      "294:\tlearn: 0.6543177\ttotal: 11.9s\tremaining: 8.26s\n",
      "295:\tlearn: 0.6543406\ttotal: 11.9s\tremaining: 8.22s\n",
      "296:\tlearn: 0.6545840\ttotal: 12s\tremaining: 8.17s\n",
      "297:\tlearn: 0.6543431\ttotal: 12s\tremaining: 8.13s\n",
      "298:\tlearn: 0.6544298\ttotal: 12s\tremaining: 8.09s\n",
      "299:\tlearn: 0.6543418\ttotal: 12.1s\tremaining: 8.04s\n",
      "300:\tlearn: 0.6543864\ttotal: 12.1s\tremaining: 8s\n",
      "301:\tlearn: 0.6543635\ttotal: 12.1s\tremaining: 7.96s\n",
      "302:\tlearn: 0.6543877\ttotal: 12.2s\tremaining: 7.91s\n",
      "303:\tlearn: 0.6543431\ttotal: 12.2s\tremaining: 7.87s\n",
      "304:\tlearn: 0.6543189\ttotal: 12.3s\tremaining: 7.83s\n",
      "305:\tlearn: 0.6541189\ttotal: 12.3s\tremaining: 7.78s\n",
      "306:\tlearn: 0.6540730\ttotal: 12.3s\tremaining: 7.75s\n",
      "307:\tlearn: 0.6541176\ttotal: 12.4s\tremaining: 7.71s\n",
      "308:\tlearn: 0.6544936\ttotal: 12.4s\tremaining: 7.67s\n",
      "309:\tlearn: 0.6544466\ttotal: 12.4s\tremaining: 7.63s\n",
      "310:\tlearn: 0.6544020\ttotal: 12.5s\tremaining: 7.58s\n",
      "311:\tlearn: 0.6542453\ttotal: 12.5s\tremaining: 7.54s\n",
      "312:\tlearn: 0.6545069\ttotal: 12.5s\tremaining: 7.5s\n",
      "313:\tlearn: 0.6543742\ttotal: 12.6s\tremaining: 7.45s\n",
      "314:\tlearn: 0.6543742\ttotal: 12.6s\tremaining: 7.41s\n",
      "315:\tlearn: 0.6544442\ttotal: 12.7s\tremaining: 7.37s\n",
      "316:\tlearn: 0.6546407\ttotal: 12.7s\tremaining: 7.33s\n",
      "317:\tlearn: 0.6547564\ttotal: 12.7s\tremaining: 7.29s\n",
      "318:\tlearn: 0.6549665\ttotal: 12.8s\tremaining: 7.25s\n",
      "319:\tlearn: 0.6549665\ttotal: 12.8s\tremaining: 7.21s\n",
      "320:\tlearn: 0.6549448\ttotal: 12.9s\tremaining: 7.17s\n",
      "321:\tlearn: 0.6549037\ttotal: 12.9s\tremaining: 7.13s\n",
      "322:\tlearn: 0.6548590\ttotal: 13s\tremaining: 7.1s\n",
      "323:\tlearn: 0.6551919\ttotal: 13s\tremaining: 7.06s\n",
      "324:\tlearn: 0.6551919\ttotal: 13s\tremaining: 7.02s\n",
      "325:\tlearn: 0.6547880\ttotal: 13.1s\tremaining: 6.98s\n",
      "326:\tlearn: 0.6548772\ttotal: 13.1s\tremaining: 6.95s\n",
      "327:\tlearn: 0.6546987\ttotal: 13.2s\tremaining: 6.9s\n",
      "328:\tlearn: 0.6549254\ttotal: 13.2s\tremaining: 6.86s\n",
      "329:\tlearn: 0.6548831\ttotal: 13.2s\tremaining: 6.82s\n",
      "330:\tlearn: 0.6549048\ttotal: 13.3s\tremaining: 6.78s\n",
      "331:\tlearn: 0.6549060\ttotal: 13.3s\tremaining: 6.74s\n",
      "332:\tlearn: 0.6550169\ttotal: 13.4s\tremaining: 6.7s\n",
      "333:\tlearn: 0.6552627\ttotal: 13.4s\tremaining: 6.66s\n",
      "334:\tlearn: 0.6556355\ttotal: 13.4s\tremaining: 6.62s\n",
      "335:\tlearn: 0.6556583\ttotal: 13.5s\tremaining: 6.58s\n",
      "336:\tlearn: 0.6555018\ttotal: 13.5s\tremaining: 6.54s\n",
      "337:\tlearn: 0.6555029\ttotal: 13.6s\tremaining: 6.5s\n",
      "338:\tlearn: 0.6556605\ttotal: 13.6s\tremaining: 6.46s\n",
      "339:\tlearn: 0.6556399\ttotal: 13.7s\tremaining: 6.43s\n",
      "340:\tlearn: 0.6556388\ttotal: 13.7s\tremaining: 6.39s\n",
      "341:\tlearn: 0.6557486\ttotal: 13.7s\tremaining: 6.35s\n",
      "342:\tlearn: 0.6557486\ttotal: 13.8s\tremaining: 6.31s\n",
      "343:\tlearn: 0.6553530\ttotal: 13.8s\tremaining: 6.27s\n",
      "344:\tlearn: 0.6552661\ttotal: 13.9s\tremaining: 6.24s\n",
      "345:\tlearn: 0.6555541\ttotal: 13.9s\tremaining: 6.19s\n",
      "346:\tlearn: 0.6555117\ttotal: 14s\tremaining: 6.16s\n",
      "347:\tlearn: 0.6558310\ttotal: 14s\tremaining: 6.11s\n",
      "348:\tlearn: 0.6558734\ttotal: 14s\tremaining: 6.07s\n",
      "349:\tlearn: 0.6558061\ttotal: 14.1s\tremaining: 6.03s\n",
      "350:\tlearn: 0.6561859\ttotal: 14.1s\tremaining: 5.98s\n",
      "351:\tlearn: 0.6561859\ttotal: 14.1s\tremaining: 5.95s\n",
      "352:\tlearn: 0.6560493\ttotal: 14.2s\tremaining: 5.9s\n",
      "353:\tlearn: 0.6560959\ttotal: 14.2s\tremaining: 5.86s\n",
      "354:\tlearn: 0.6559168\ttotal: 14.3s\tremaining: 5.82s\n",
      "355:\tlearn: 0.6558951\ttotal: 14.3s\tremaining: 5.78s\n",
      "356:\tlearn: 0.6559396\ttotal: 14.3s\tremaining: 5.74s\n",
      "357:\tlearn: 0.6558755\ttotal: 14.4s\tremaining: 5.7s\n",
      "358:\tlearn: 0.6558940\ttotal: 14.4s\tremaining: 5.66s\n",
      "359:\tlearn: 0.6560223\ttotal: 14.5s\tremaining: 5.62s\n",
      "360:\tlearn: 0.6564001\ttotal: 14.5s\tremaining: 5.58s\n",
      "361:\tlearn: 0.6564415\ttotal: 14.5s\tremaining: 5.54s\n",
      "362:\tlearn: 0.6564435\ttotal: 14.6s\tremaining: 5.5s\n",
      "363:\tlearn: 0.6564840\ttotal: 14.6s\tremaining: 5.46s\n",
      "364:\tlearn: 0.6564395\ttotal: 14.7s\tremaining: 5.42s\n",
      "365:\tlearn: 0.6563474\ttotal: 14.7s\tremaining: 5.38s\n",
      "366:\tlearn: 0.6562355\ttotal: 14.7s\tremaining: 5.34s\n",
      "367:\tlearn: 0.6567095\ttotal: 14.8s\tremaining: 5.3s\n",
      "368:\tlearn: 0.6567095\ttotal: 14.8s\tremaining: 5.25s\n",
      "369:\tlearn: 0.6565720\ttotal: 14.8s\tremaining: 5.21s\n",
      "370:\tlearn: 0.6567273\ttotal: 14.9s\tremaining: 5.17s\n",
      "371:\tlearn: 0.6566195\ttotal: 14.9s\tremaining: 5.13s\n",
      "372:\tlearn: 0.6565978\ttotal: 15s\tremaining: 5.09s\n",
      "373:\tlearn: 0.6570861\ttotal: 15s\tremaining: 5.06s\n",
      "374:\tlearn: 0.6570416\ttotal: 15s\tremaining: 5.01s\n",
      "375:\tlearn: 0.6571315\ttotal: 15.1s\tremaining: 4.98s\n",
      "376:\tlearn: 0.6568696\ttotal: 15.1s\tremaining: 4.94s\n",
      "377:\tlearn: 0.6569140\ttotal: 15.2s\tremaining: 4.9s\n",
      "378:\tlearn: 0.6569140\ttotal: 15.2s\tremaining: 4.86s\n",
      "379:\tlearn: 0.6570227\ttotal: 15.3s\tremaining: 4.82s\n",
      "380:\tlearn: 0.6571098\ttotal: 15.3s\tremaining: 4.78s\n",
      "381:\tlearn: 0.6575197\ttotal: 15.4s\tremaining: 4.74s\n",
      "382:\tlearn: 0.6573408\ttotal: 15.4s\tremaining: 4.7s\n",
      "383:\tlearn: 0.6571627\ttotal: 15.4s\tremaining: 4.66s\n",
      "384:\tlearn: 0.6572073\ttotal: 15.5s\tremaining: 4.63s\n",
      "385:\tlearn: 0.6572309\ttotal: 15.5s\tremaining: 4.59s\n",
      "386:\tlearn: 0.6575642\ttotal: 15.6s\tremaining: 4.55s\n",
      "387:\tlearn: 0.6581180\ttotal: 15.6s\tremaining: 4.51s\n",
      "388:\tlearn: 0.6578084\ttotal: 15.7s\tremaining: 4.47s\n",
      "389:\tlearn: 0.6579628\ttotal: 15.7s\tremaining: 4.43s\n",
      "390:\tlearn: 0.6584073\ttotal: 15.8s\tremaining: 4.4s\n",
      "391:\tlearn: 0.6583863\ttotal: 15.8s\tremaining: 4.36s\n",
      "392:\tlearn: 0.6581868\ttotal: 15.9s\tremaining: 4.32s\n",
      "393:\tlearn: 0.6584316\ttotal: 15.9s\tremaining: 4.28s\n",
      "394:\tlearn: 0.6584316\ttotal: 15.9s\tremaining: 4.24s\n",
      "395:\tlearn: 0.6584752\ttotal: 16s\tremaining: 4.2s\n",
      "396:\tlearn: 0.6584970\ttotal: 16s\tremaining: 4.16s\n",
      "397:\tlearn: 0.6584299\ttotal: 16.1s\tremaining: 4.12s\n",
      "398:\tlearn: 0.6585851\ttotal: 16.1s\tremaining: 4.07s\n",
      "399:\tlearn: 0.6586529\ttotal: 16.1s\tremaining: 4.03s\n",
      "400:\tlearn: 0.6590097\ttotal: 16.2s\tremaining: 4s\n",
      "401:\tlearn: 0.6589668\ttotal: 16.2s\tremaining: 3.96s\n",
      "402:\tlearn: 0.6592752\ttotal: 16.3s\tremaining: 3.92s\n",
      "403:\tlearn: 0.6591406\ttotal: 16.3s\tremaining: 3.88s\n",
      "404:\tlearn: 0.6593647\ttotal: 16.4s\tremaining: 3.84s\n",
      "405:\tlearn: 0.6593647\ttotal: 16.4s\tremaining: 3.8s\n",
      "406:\tlearn: 0.6593421\ttotal: 16.4s\tremaining: 3.75s\n",
      "407:\tlearn: 0.6593181\ttotal: 16.5s\tremaining: 3.71s\n",
      "408:\tlearn: 0.6596505\ttotal: 16.5s\tremaining: 3.67s\n",
      "409:\tlearn: 0.6595160\ttotal: 16.5s\tremaining: 3.63s\n",
      "410:\tlearn: 0.6590744\ttotal: 16.6s\tremaining: 3.59s\n",
      "411:\tlearn: 0.6592504\ttotal: 16.6s\tremaining: 3.55s\n",
      "412:\tlearn: 0.6590495\ttotal: 16.6s\tremaining: 3.51s\n",
      "413:\tlearn: 0.6587612\ttotal: 16.7s\tremaining: 3.46s\n",
      "414:\tlearn: 0.6587168\ttotal: 16.7s\tremaining: 3.42s\n",
      "415:\tlearn: 0.6587604\ttotal: 16.8s\tremaining: 3.38s\n",
      "416:\tlearn: 0.6588266\ttotal: 16.8s\tremaining: 3.34s\n",
      "417:\tlearn: 0.6590036\ttotal: 16.8s\tremaining: 3.3s\n",
      "418:\tlearn: 0.6590036\ttotal: 16.9s\tremaining: 3.26s\n",
      "419:\tlearn: 0.6592008\ttotal: 16.9s\tremaining: 3.22s\n",
      "420:\tlearn: 0.6592016\ttotal: 16.9s\tremaining: 3.18s\n",
      "421:\tlearn: 0.6598218\ttotal: 17s\tremaining: 3.14s\n",
      "422:\tlearn: 0.6600411\ttotal: 17s\tremaining: 3.1s\n",
      "423:\tlearn: 0.6600848\ttotal: 17.1s\tremaining: 3.06s\n",
      "424:\tlearn: 0.6599735\ttotal: 17.1s\tremaining: 3.02s\n",
      "425:\tlearn: 0.6595286\ttotal: 17.1s\tremaining: 2.98s\n",
      "426:\tlearn: 0.6595731\ttotal: 17.2s\tremaining: 2.93s\n",
      "427:\tlearn: 0.6595279\ttotal: 17.2s\tremaining: 2.89s\n",
      "428:\tlearn: 0.6605249\ttotal: 17.2s\tremaining: 2.85s\n",
      "429:\tlearn: 0.6604799\ttotal: 17.3s\tremaining: 2.81s\n",
      "430:\tlearn: 0.6601054\ttotal: 17.3s\tremaining: 2.77s\n",
      "431:\tlearn: 0.6600610\ttotal: 17.3s\tremaining: 2.73s\n",
      "432:\tlearn: 0.6599291\ttotal: 17.4s\tremaining: 2.69s\n",
      "433:\tlearn: 0.6604805\ttotal: 17.4s\tremaining: 2.65s\n",
      "434:\tlearn: 0.6604805\ttotal: 17.5s\tremaining: 2.61s\n",
      "435:\tlearn: 0.6603692\ttotal: 17.5s\tremaining: 2.57s\n",
      "436:\tlearn: 0.6603467\ttotal: 17.5s\tremaining: 2.53s\n",
      "437:\tlearn: 0.6603917\ttotal: 17.6s\tremaining: 2.49s\n",
      "438:\tlearn: 0.6605474\ttotal: 17.6s\tremaining: 2.45s\n",
      "439:\tlearn: 0.6604611\ttotal: 17.7s\tremaining: 2.41s\n",
      "440:\tlearn: 0.6604386\ttotal: 17.7s\tremaining: 2.37s\n",
      "441:\tlearn: 0.6606131\ttotal: 17.7s\tremaining: 2.33s\n",
      "442:\tlearn: 0.6610332\ttotal: 17.8s\tremaining: 2.29s\n",
      "443:\tlearn: 0.6611439\ttotal: 17.8s\tremaining: 2.25s\n",
      "444:\tlearn: 0.6611882\ttotal: 17.8s\tremaining: 2.21s\n",
      "445:\tlearn: 0.6611220\ttotal: 17.9s\tremaining: 2.17s\n",
      "446:\tlearn: 0.6608569\ttotal: 18s\tremaining: 2.13s\n",
      "447:\tlearn: 0.6606380\ttotal: 18s\tremaining: 2.09s\n",
      "448:\tlearn: 0.6606374\ttotal: 18s\tremaining: 2.05s\n",
      "449:\tlearn: 0.6606599\ttotal: 18.1s\tremaining: 2.01s\n",
      "450:\tlearn: 0.6606161\ttotal: 18.1s\tremaining: 1.97s\n",
      "451:\tlearn: 0.6609490\ttotal: 18.1s\tremaining: 1.93s\n",
      "452:\tlearn: 0.6609053\ttotal: 18.2s\tremaining: 1.89s\n",
      "453:\tlearn: 0.6611707\ttotal: 18.2s\tremaining: 1.85s\n",
      "454:\tlearn: 0.6612150\ttotal: 18.3s\tremaining: 1.81s\n",
      "455:\tlearn: 0.6613918\ttotal: 18.3s\tremaining: 1.77s\n",
      "456:\tlearn: 0.6615919\ttotal: 18.4s\tremaining: 1.73s\n",
      "457:\tlearn: 0.6612818\ttotal: 18.4s\tremaining: 1.69s\n",
      "458:\tlearn: 0.6613699\ttotal: 18.5s\tremaining: 1.65s\n",
      "459:\tlearn: 0.6617900\ttotal: 18.6s\tremaining: 1.61s\n",
      "460:\tlearn: 0.6610826\ttotal: 18.6s\tremaining: 1.57s\n",
      "461:\tlearn: 0.6611937\ttotal: 18.7s\tremaining: 1.54s\n",
      "462:\tlearn: 0.6611280\ttotal: 18.8s\tremaining: 1.5s\n",
      "463:\tlearn: 0.6612604\ttotal: 18.8s\tremaining: 1.46s\n",
      "464:\tlearn: 0.6614371\ttotal: 18.9s\tremaining: 1.42s\n",
      "465:\tlearn: 0.6614152\ttotal: 18.9s\tremaining: 1.38s\n",
      "466:\tlearn: 0.6614152\ttotal: 19s\tremaining: 1.34s\n",
      "467:\tlearn: 0.6613490\ttotal: 19s\tremaining: 1.3s\n",
      "468:\tlearn: 0.6618129\ttotal: 19s\tremaining: 1.26s\n",
      "469:\tlearn: 0.6618791\ttotal: 19.1s\tremaining: 1.22s\n",
      "470:\tlearn: 0.6620338\ttotal: 19.2s\tremaining: 1.18s\n",
      "471:\tlearn: 0.6620557\ttotal: 19.2s\tremaining: 1.14s\n",
      "472:\tlearn: 0.6626303\ttotal: 19.2s\tremaining: 1.1s\n",
      "473:\tlearn: 0.6628511\ttotal: 19.3s\tremaining: 1.06s\n",
      "474:\tlearn: 0.6628072\ttotal: 19.3s\tremaining: 1.02s\n",
      "475:\tlearn: 0.6629176\ttotal: 19.4s\tremaining: 976ms\n",
      "476:\tlearn: 0.6633382\ttotal: 19.4s\tremaining: 936ms\n",
      "477:\tlearn: 0.6630284\ttotal: 19.4s\tremaining: 895ms\n",
      "478:\tlearn: 0.6628299\ttotal: 19.5s\tremaining: 854ms\n",
      "479:\tlearn: 0.6628299\ttotal: 19.5s\tremaining: 814ms\n",
      "480:\tlearn: 0.6627857\ttotal: 19.6s\tremaining: 773ms\n",
      "481:\tlearn: 0.6633176\ttotal: 19.6s\tremaining: 732ms\n",
      "482:\tlearn: 0.6629637\ttotal: 19.7s\tremaining: 692ms\n",
      "483:\tlearn: 0.6629414\ttotal: 19.7s\tremaining: 651ms\n",
      "484:\tlearn: 0.6629633\ttotal: 19.8s\tremaining: 611ms\n",
      "485:\tlearn: 0.6632515\ttotal: 19.8s\tremaining: 570ms\n",
      "486:\tlearn: 0.6629648\ttotal: 19.8s\tremaining: 530ms\n",
      "487:\tlearn: 0.6630532\ttotal: 19.9s\tremaining: 489ms\n",
      "488:\tlearn: 0.6628987\ttotal: 19.9s\tremaining: 448ms\n",
      "489:\tlearn: 0.6628545\ttotal: 20s\tremaining: 408ms\n",
      "490:\tlearn: 0.6628760\ttotal: 20s\tremaining: 367ms\n",
      "491:\tlearn: 0.6629856\ttotal: 20.1s\tremaining: 326ms\n",
      "492:\tlearn: 0.6630737\ttotal: 20.1s\tremaining: 286ms\n",
      "493:\tlearn: 0.6624115\ttotal: 20.1s\tremaining: 245ms\n",
      "494:\tlearn: 0.6626980\ttotal: 20.2s\tremaining: 204ms\n",
      "495:\tlearn: 0.6631193\ttotal: 20.2s\tremaining: 163ms\n",
      "496:\tlearn: 0.6630751\ttotal: 20.3s\tremaining: 122ms\n",
      "497:\tlearn: 0.6630079\ttotal: 20.3s\tremaining: 81.6ms\n",
      "498:\tlearn: 0.6629418\ttotal: 20.4s\tremaining: 40.8ms\n",
      "499:\tlearn: 0.6630083\ttotal: 20.4s\tremaining: 0us\n",
      "0:\tlearn: 0.5944637\ttotal: 53.9ms\tremaining: 26.9s\n",
      "1:\tlearn: 0.5689458\ttotal: 113ms\tremaining: 28s\n",
      "2:\tlearn: 0.6301342\ttotal: 161ms\tremaining: 26.6s\n",
      "3:\tlearn: 0.6329042\ttotal: 208ms\tremaining: 25.8s\n",
      "4:\tlearn: 0.6191512\ttotal: 260ms\tremaining: 25.8s\n",
      "5:\tlearn: 0.6361959\ttotal: 302ms\tremaining: 24.9s\n",
      "6:\tlearn: 0.6220644\ttotal: 352ms\tremaining: 24.8s\n",
      "7:\tlearn: 0.6298550\ttotal: 398ms\tremaining: 24.4s\n",
      "8:\tlearn: 0.6364559\ttotal: 441ms\tremaining: 24.1s\n",
      "9:\tlearn: 0.6346931\ttotal: 486ms\tremaining: 23.8s\n",
      "10:\tlearn: 0.6310592\ttotal: 529ms\tremaining: 23.5s\n",
      "11:\tlearn: 0.6330307\ttotal: 573ms\tremaining: 23.3s\n",
      "12:\tlearn: 0.6327471\ttotal: 609ms\tremaining: 22.8s\n",
      "13:\tlearn: 0.6332396\ttotal: 664ms\tremaining: 23s\n",
      "14:\tlearn: 0.6333386\ttotal: 695ms\tremaining: 22.5s\n",
      "15:\tlearn: 0.6340481\ttotal: 754ms\tremaining: 22.8s\n",
      "16:\tlearn: 0.6330603\ttotal: 787ms\tremaining: 22.4s\n",
      "17:\tlearn: 0.6345819\ttotal: 852ms\tremaining: 22.8s\n",
      "18:\tlearn: 0.6343736\ttotal: 899ms\tremaining: 22.7s\n",
      "19:\tlearn: 0.6341295\ttotal: 959ms\tremaining: 23s\n",
      "20:\tlearn: 0.6351059\ttotal: 1.01s\tremaining: 23s\n",
      "21:\tlearn: 0.6357679\ttotal: 1.05s\tremaining: 22.9s\n",
      "22:\tlearn: 0.6351852\ttotal: 1.09s\tremaining: 22.7s\n",
      "23:\tlearn: 0.6365028\ttotal: 1.15s\tremaining: 22.7s\n",
      "24:\tlearn: 0.6369275\ttotal: 1.2s\tremaining: 22.7s\n",
      "25:\tlearn: 0.6367741\ttotal: 1.25s\tremaining: 22.8s\n",
      "26:\tlearn: 0.6379483\ttotal: 1.29s\tremaining: 22.6s\n",
      "27:\tlearn: 0.6376053\ttotal: 1.35s\tremaining: 22.8s\n",
      "28:\tlearn: 0.6376950\ttotal: 1.39s\tremaining: 22.6s\n",
      "29:\tlearn: 0.6373545\ttotal: 1.44s\tremaining: 22.6s\n",
      "30:\tlearn: 0.6381068\ttotal: 1.47s\tremaining: 22.3s\n",
      "31:\tlearn: 0.6378544\ttotal: 1.53s\tremaining: 22.3s\n",
      "32:\tlearn: 0.6378759\ttotal: 1.57s\tremaining: 22.2s\n",
      "33:\tlearn: 0.6376980\ttotal: 1.62s\tremaining: 22.2s\n",
      "34:\tlearn: 0.6372160\ttotal: 1.67s\tremaining: 22.1s\n",
      "35:\tlearn: 0.6381671\ttotal: 1.71s\tremaining: 22s\n",
      "36:\tlearn: 0.6378808\ttotal: 1.75s\tremaining: 21.9s\n",
      "37:\tlearn: 0.6380264\ttotal: 1.79s\tremaining: 21.8s\n",
      "38:\tlearn: 0.6382281\ttotal: 1.84s\tremaining: 21.8s\n",
      "39:\tlearn: 0.6385332\ttotal: 1.89s\tremaining: 21.8s\n",
      "40:\tlearn: 0.6389403\ttotal: 1.93s\tremaining: 21.6s\n",
      "41:\tlearn: 0.6392303\ttotal: 1.97s\tremaining: 21.4s\n",
      "42:\tlearn: 0.6386297\ttotal: 2.02s\tremaining: 21.5s\n",
      "43:\tlearn: 0.6388323\ttotal: 2.07s\tremaining: 21.4s\n",
      "44:\tlearn: 0.6388154\ttotal: 2.12s\tremaining: 21.5s\n",
      "45:\tlearn: 0.6389631\ttotal: 2.17s\tremaining: 21.4s\n",
      "46:\tlearn: 0.6391747\ttotal: 2.22s\tremaining: 21.4s\n",
      "47:\tlearn: 0.6399873\ttotal: 2.27s\tremaining: 21.4s\n",
      "48:\tlearn: 0.6402769\ttotal: 2.31s\tremaining: 21.3s\n",
      "49:\tlearn: 0.6402007\ttotal: 2.36s\tremaining: 21.2s\n",
      "50:\tlearn: 0.6410162\ttotal: 2.42s\tremaining: 21.3s\n",
      "51:\tlearn: 0.6409356\ttotal: 2.46s\tremaining: 21.2s\n",
      "52:\tlearn: 0.6406613\ttotal: 2.51s\tremaining: 21.2s\n",
      "53:\tlearn: 0.6407162\ttotal: 2.54s\tremaining: 21s\n",
      "54:\tlearn: 0.6412375\ttotal: 2.61s\tremaining: 21.1s\n",
      "55:\tlearn: 0.6410446\ttotal: 2.65s\tremaining: 21s\n",
      "56:\tlearn: 0.6408311\ttotal: 2.7s\tremaining: 21s\n",
      "57:\tlearn: 0.6403173\ttotal: 2.74s\tremaining: 20.9s\n",
      "58:\tlearn: 0.6402982\ttotal: 2.79s\tremaining: 20.9s\n",
      "59:\tlearn: 0.6405626\ttotal: 2.84s\tremaining: 20.8s\n",
      "60:\tlearn: 0.6409816\ttotal: 2.89s\tremaining: 20.8s\n",
      "61:\tlearn: 0.6416411\ttotal: 2.95s\tremaining: 20.8s\n",
      "62:\tlearn: 0.6416790\ttotal: 3.01s\tremaining: 20.9s\n",
      "63:\tlearn: 0.6416770\ttotal: 3.08s\tremaining: 20.9s\n",
      "64:\tlearn: 0.6424422\ttotal: 3.12s\tremaining: 20.9s\n",
      "65:\tlearn: 0.6421873\ttotal: 3.17s\tremaining: 20.9s\n",
      "66:\tlearn: 0.6423419\ttotal: 3.22s\tremaining: 20.8s\n",
      "67:\tlearn: 0.6423948\ttotal: 3.26s\tremaining: 20.7s\n",
      "68:\tlearn: 0.6424966\ttotal: 3.3s\tremaining: 20.6s\n",
      "69:\tlearn: 0.6429590\ttotal: 3.36s\tremaining: 20.6s\n",
      "70:\tlearn: 0.6434925\ttotal: 3.4s\tremaining: 20.5s\n",
      "71:\tlearn: 0.6434718\ttotal: 3.44s\tremaining: 20.5s\n",
      "72:\tlearn: 0.6437394\ttotal: 3.49s\tremaining: 20.4s\n",
      "73:\tlearn: 0.6436830\ttotal: 3.54s\tremaining: 20.4s\n",
      "74:\tlearn: 0.6429929\ttotal: 3.59s\tremaining: 20.3s\n",
      "75:\tlearn: 0.6432023\ttotal: 3.63s\tremaining: 20.3s\n",
      "76:\tlearn: 0.6433928\ttotal: 3.68s\tremaining: 20.2s\n",
      "77:\tlearn: 0.6435003\ttotal: 3.72s\tremaining: 20.1s\n",
      "78:\tlearn: 0.6430476\ttotal: 3.77s\tremaining: 20.1s\n",
      "79:\tlearn: 0.6430608\ttotal: 3.82s\tremaining: 20s\n",
      "80:\tlearn: 0.6431834\ttotal: 3.86s\tremaining: 20s\n",
      "81:\tlearn: 0.6429911\ttotal: 3.91s\tremaining: 19.9s\n",
      "82:\tlearn: 0.6431553\ttotal: 3.96s\tremaining: 19.9s\n",
      "83:\tlearn: 0.6431308\ttotal: 4s\tremaining: 19.8s\n",
      "84:\tlearn: 0.6434535\ttotal: 4.06s\tremaining: 19.8s\n",
      "85:\tlearn: 0.6433799\ttotal: 4.09s\tremaining: 19.7s\n",
      "86:\tlearn: 0.6436581\ttotal: 4.14s\tremaining: 19.7s\n",
      "87:\tlearn: 0.6437621\ttotal: 4.19s\tremaining: 19.6s\n",
      "88:\tlearn: 0.6436921\ttotal: 4.25s\tremaining: 19.6s\n",
      "89:\tlearn: 0.6436070\ttotal: 4.29s\tremaining: 19.5s\n",
      "90:\tlearn: 0.6437110\ttotal: 4.34s\tremaining: 19.5s\n",
      "91:\tlearn: 0.6442211\ttotal: 4.38s\tremaining: 19.4s\n",
      "92:\tlearn: 0.6441718\ttotal: 4.43s\tremaining: 19.4s\n",
      "93:\tlearn: 0.6445678\ttotal: 4.48s\tremaining: 19.4s\n",
      "94:\tlearn: 0.6447281\ttotal: 4.54s\tremaining: 19.4s\n",
      "95:\tlearn: 0.6448339\ttotal: 4.57s\tremaining: 19.2s\n",
      "96:\tlearn: 0.6447981\ttotal: 4.62s\tremaining: 19.2s\n",
      "97:\tlearn: 0.6449226\ttotal: 4.67s\tremaining: 19.2s\n",
      "98:\tlearn: 0.6451664\ttotal: 4.71s\tremaining: 19.1s\n",
      "99:\tlearn: 0.6452295\ttotal: 4.77s\tremaining: 19.1s\n",
      "100:\tlearn: 0.6451016\ttotal: 4.82s\tremaining: 19.1s\n",
      "101:\tlearn: 0.6449720\ttotal: 4.87s\tremaining: 19s\n",
      "102:\tlearn: 0.6451391\ttotal: 4.92s\tremaining: 19s\n",
      "103:\tlearn: 0.6453693\ttotal: 4.97s\tremaining: 18.9s\n",
      "104:\tlearn: 0.6456847\ttotal: 5.03s\tremaining: 18.9s\n",
      "105:\tlearn: 0.6459286\ttotal: 5.08s\tremaining: 18.9s\n",
      "106:\tlearn: 0.6461416\ttotal: 5.13s\tremaining: 18.9s\n",
      "107:\tlearn: 0.6462815\ttotal: 5.18s\tremaining: 18.8s\n",
      "108:\tlearn: 0.6462287\ttotal: 5.23s\tremaining: 18.8s\n",
      "109:\tlearn: 0.6464961\ttotal: 5.27s\tremaining: 18.7s\n",
      "110:\tlearn: 0.6463002\ttotal: 5.33s\tremaining: 18.7s\n",
      "111:\tlearn: 0.6463547\ttotal: 5.37s\tremaining: 18.6s\n",
      "112:\tlearn: 0.6463376\ttotal: 5.43s\tremaining: 18.6s\n",
      "113:\tlearn: 0.6460945\ttotal: 5.47s\tremaining: 18.5s\n",
      "114:\tlearn: 0.6459854\ttotal: 5.53s\tremaining: 18.5s\n",
      "115:\tlearn: 0.6462889\ttotal: 5.58s\tremaining: 18.5s\n",
      "116:\tlearn: 0.6464679\ttotal: 5.63s\tremaining: 18.4s\n",
      "117:\tlearn: 0.6463760\ttotal: 5.68s\tremaining: 18.4s\n",
      "118:\tlearn: 0.6470324\ttotal: 5.74s\tremaining: 18.4s\n",
      "119:\tlearn: 0.6467436\ttotal: 5.78s\tremaining: 18.3s\n",
      "120:\tlearn: 0.6467436\ttotal: 5.83s\tremaining: 18.3s\n",
      "121:\tlearn: 0.6468865\ttotal: 5.88s\tremaining: 18.2s\n",
      "122:\tlearn: 0.6470775\ttotal: 5.93s\tremaining: 18.2s\n",
      "123:\tlearn: 0.6471691\ttotal: 5.97s\tremaining: 18.1s\n",
      "124:\tlearn: 0.6464599\ttotal: 6.02s\tremaining: 18.1s\n",
      "125:\tlearn: 0.6464364\ttotal: 6.07s\tremaining: 18s\n",
      "126:\tlearn: 0.6468105\ttotal: 6.11s\tremaining: 18s\n",
      "127:\tlearn: 0.6468649\ttotal: 6.16s\tremaining: 17.9s\n",
      "128:\tlearn: 0.6475769\ttotal: 6.21s\tremaining: 17.9s\n",
      "129:\tlearn: 0.6477863\ttotal: 6.25s\tremaining: 17.8s\n",
      "130:\tlearn: 0.6474824\ttotal: 6.3s\tremaining: 17.8s\n",
      "131:\tlearn: 0.6474653\ttotal: 6.35s\tremaining: 17.7s\n",
      "132:\tlearn: 0.6478487\ttotal: 6.4s\tremaining: 17.7s\n",
      "133:\tlearn: 0.6479557\ttotal: 6.44s\tremaining: 17.6s\n",
      "134:\tlearn: 0.6479572\ttotal: 6.5s\tremaining: 17.6s\n",
      "135:\tlearn: 0.6479713\ttotal: 6.55s\tremaining: 17.5s\n",
      "136:\tlearn: 0.6479884\ttotal: 6.6s\tremaining: 17.5s\n",
      "137:\tlearn: 0.6480226\ttotal: 6.64s\tremaining: 17.4s\n",
      "138:\tlearn: 0.6481794\ttotal: 6.69s\tremaining: 17.4s\n",
      "139:\tlearn: 0.6482322\ttotal: 6.75s\tremaining: 17.4s\n",
      "140:\tlearn: 0.6482351\ttotal: 6.81s\tremaining: 17.3s\n",
      "141:\tlearn: 0.6484062\ttotal: 6.84s\tremaining: 17.3s\n",
      "142:\tlearn: 0.6480709\ttotal: 6.9s\tremaining: 17.2s\n",
      "143:\tlearn: 0.6485659\ttotal: 6.94s\tremaining: 17.2s\n",
      "144:\tlearn: 0.6484247\ttotal: 7s\tremaining: 17.1s\n",
      "145:\tlearn: 0.6484418\ttotal: 7.05s\tremaining: 17.1s\n",
      "146:\tlearn: 0.6487970\ttotal: 7.1s\tremaining: 17.1s\n",
      "147:\tlearn: 0.6480993\ttotal: 7.16s\tremaining: 17s\n",
      "148:\tlearn: 0.6477654\ttotal: 7.21s\tremaining: 17s\n",
      "149:\tlearn: 0.6477453\ttotal: 7.27s\tremaining: 17s\n",
      "150:\tlearn: 0.6476040\ttotal: 7.32s\tremaining: 16.9s\n",
      "151:\tlearn: 0.6477453\ttotal: 7.39s\tremaining: 16.9s\n",
      "152:\tlearn: 0.6474813\ttotal: 7.44s\tremaining: 16.9s\n",
      "153:\tlearn: 0.6476085\ttotal: 7.49s\tremaining: 16.8s\n",
      "154:\tlearn: 0.6474999\ttotal: 7.55s\tremaining: 16.8s\n",
      "155:\tlearn: 0.6475048\ttotal: 7.6s\tremaining: 16.8s\n",
      "156:\tlearn: 0.6473466\ttotal: 7.67s\tremaining: 16.7s\n",
      "157:\tlearn: 0.6481873\ttotal: 7.7s\tremaining: 16.7s\n",
      "158:\tlearn: 0.6482216\ttotal: 7.75s\tremaining: 16.6s\n",
      "159:\tlearn: 0.6484330\ttotal: 7.8s\tremaining: 16.6s\n",
      "160:\tlearn: 0.6484144\ttotal: 7.86s\tremaining: 16.5s\n",
      "161:\tlearn: 0.6485029\ttotal: 7.91s\tremaining: 16.5s\n",
      "162:\tlearn: 0.6486087\ttotal: 7.98s\tremaining: 16.5s\n",
      "163:\tlearn: 0.6483842\ttotal: 8.04s\tremaining: 16.5s\n",
      "164:\tlearn: 0.6484586\ttotal: 8.1s\tremaining: 16.4s\n",
      "165:\tlearn: 0.6487458\ttotal: 8.17s\tremaining: 16.4s\n",
      "166:\tlearn: 0.6485486\ttotal: 8.22s\tremaining: 16.4s\n",
      "167:\tlearn: 0.6486558\ttotal: 8.29s\tremaining: 16.4s\n",
      "168:\tlearn: 0.6486186\ttotal: 8.35s\tremaining: 16.3s\n",
      "169:\tlearn: 0.6490059\ttotal: 8.4s\tremaining: 16.3s\n",
      "170:\tlearn: 0.6489173\ttotal: 8.46s\tremaining: 16.3s\n",
      "171:\tlearn: 0.6489173\ttotal: 8.52s\tremaining: 16.3s\n",
      "172:\tlearn: 0.6489359\ttotal: 8.57s\tremaining: 16.2s\n",
      "173:\tlearn: 0.6491103\ttotal: 8.62s\tremaining: 16.1s\n",
      "174:\tlearn: 0.6487359\ttotal: 8.67s\tremaining: 16.1s\n",
      "175:\tlearn: 0.6488245\ttotal: 8.71s\tremaining: 16s\n",
      "176:\tlearn: 0.6490662\ttotal: 8.76s\tremaining: 16s\n",
      "177:\tlearn: 0.6490648\ttotal: 8.8s\tremaining: 15.9s\n",
      "178:\tlearn: 0.6493973\ttotal: 8.85s\tremaining: 15.9s\n",
      "179:\tlearn: 0.6493561\ttotal: 8.88s\tremaining: 15.8s\n",
      "180:\tlearn: 0.6496590\ttotal: 8.94s\tremaining: 15.7s\n",
      "181:\tlearn: 0.6496590\ttotal: 8.97s\tremaining: 15.7s\n",
      "182:\tlearn: 0.6496233\ttotal: 9.03s\tremaining: 15.6s\n",
      "183:\tlearn: 0.6495519\ttotal: 9.08s\tremaining: 15.6s\n",
      "184:\tlearn: 0.6498309\ttotal: 9.12s\tremaining: 15.5s\n",
      "185:\tlearn: 0.6498943\ttotal: 9.16s\tremaining: 15.5s\n",
      "186:\tlearn: 0.6501096\ttotal: 9.21s\tremaining: 15.4s\n",
      "187:\tlearn: 0.6502854\ttotal: 9.25s\tremaining: 15.4s\n",
      "188:\tlearn: 0.6504534\ttotal: 9.3s\tremaining: 15.3s\n",
      "189:\tlearn: 0.6502708\ttotal: 9.35s\tremaining: 15.3s\n",
      "190:\tlearn: 0.6504267\ttotal: 9.39s\tremaining: 15.2s\n",
      "191:\tlearn: 0.6504108\ttotal: 9.44s\tremaining: 15.1s\n",
      "192:\tlearn: 0.6507005\ttotal: 9.48s\tremaining: 15.1s\n",
      "193:\tlearn: 0.6504770\ttotal: 9.54s\tremaining: 15s\n",
      "194:\tlearn: 0.6506565\ttotal: 9.59s\tremaining: 15s\n",
      "195:\tlearn: 0.6506565\ttotal: 9.63s\tremaining: 14.9s\n",
      "196:\tlearn: 0.6507240\ttotal: 9.67s\tremaining: 14.9s\n",
      "197:\tlearn: 0.6508272\ttotal: 9.72s\tremaining: 14.8s\n",
      "198:\tlearn: 0.6508272\ttotal: 9.76s\tremaining: 14.8s\n",
      "199:\tlearn: 0.6506896\ttotal: 9.8s\tremaining: 14.7s\n",
      "200:\tlearn: 0.6506896\ttotal: 9.84s\tremaining: 14.6s\n",
      "201:\tlearn: 0.6502977\ttotal: 9.89s\tremaining: 14.6s\n",
      "202:\tlearn: 0.6506534\ttotal: 9.93s\tremaining: 14.5s\n",
      "203:\tlearn: 0.6504736\ttotal: 9.97s\tremaining: 14.5s\n",
      "204:\tlearn: 0.6505132\ttotal: 10s\tremaining: 14.4s\n",
      "205:\tlearn: 0.6504207\ttotal: 10.1s\tremaining: 14.4s\n",
      "206:\tlearn: 0.6504207\ttotal: 10.1s\tremaining: 14.3s\n",
      "207:\tlearn: 0.6503622\ttotal: 10.2s\tremaining: 14.3s\n",
      "208:\tlearn: 0.6506069\ttotal: 10.2s\tremaining: 14.2s\n",
      "209:\tlearn: 0.6505712\ttotal: 10.2s\tremaining: 14.1s\n",
      "210:\tlearn: 0.6505540\ttotal: 10.3s\tremaining: 14.1s\n",
      "211:\tlearn: 0.6514198\ttotal: 10.3s\tremaining: 14.1s\n",
      "212:\tlearn: 0.6512944\ttotal: 10.4s\tremaining: 14s\n",
      "213:\tlearn: 0.6512944\ttotal: 10.4s\tremaining: 14s\n",
      "214:\tlearn: 0.6512243\ttotal: 10.5s\tremaining: 13.9s\n",
      "215:\tlearn: 0.6509769\ttotal: 10.5s\tremaining: 13.9s\n",
      "216:\tlearn: 0.6514358\ttotal: 10.6s\tremaining: 13.8s\n",
      "217:\tlearn: 0.6516277\ttotal: 10.6s\tremaining: 13.8s\n",
      "218:\tlearn: 0.6515921\ttotal: 10.7s\tremaining: 13.7s\n",
      "219:\tlearn: 0.6516955\ttotal: 10.7s\tremaining: 13.7s\n",
      "220:\tlearn: 0.6517668\ttotal: 10.8s\tremaining: 13.6s\n",
      "221:\tlearn: 0.6519369\ttotal: 10.8s\tremaining: 13.6s\n",
      "222:\tlearn: 0.6518656\ttotal: 10.9s\tremaining: 13.5s\n",
      "223:\tlearn: 0.6519691\ttotal: 10.9s\tremaining: 13.5s\n",
      "224:\tlearn: 0.6519495\ttotal: 11s\tremaining: 13.4s\n",
      "225:\tlearn: 0.6518448\ttotal: 11s\tremaining: 13.4s\n",
      "226:\tlearn: 0.6521923\ttotal: 11.1s\tremaining: 13.3s\n",
      "227:\tlearn: 0.6522096\ttotal: 11.1s\tremaining: 13.3s\n",
      "228:\tlearn: 0.6522107\ttotal: 11.2s\tremaining: 13.2s\n",
      "229:\tlearn: 0.6522636\ttotal: 11.2s\tremaining: 13.2s\n",
      "230:\tlearn: 0.6522636\ttotal: 11.3s\tremaining: 13.1s\n",
      "231:\tlearn: 0.6521739\ttotal: 11.3s\tremaining: 13.1s\n",
      "232:\tlearn: 0.6524039\ttotal: 11.4s\tremaining: 13s\n",
      "233:\tlearn: 0.6525453\ttotal: 11.4s\tremaining: 13s\n",
      "234:\tlearn: 0.6522429\ttotal: 11.5s\tremaining: 12.9s\n",
      "235:\tlearn: 0.6524451\ttotal: 11.5s\tremaining: 12.9s\n",
      "236:\tlearn: 0.6523188\ttotal: 11.6s\tremaining: 12.8s\n",
      "237:\tlearn: 0.6523360\ttotal: 11.6s\tremaining: 12.8s\n",
      "238:\tlearn: 0.6530461\ttotal: 11.7s\tremaining: 12.7s\n",
      "239:\tlearn: 0.6530116\ttotal: 11.7s\tremaining: 12.7s\n",
      "240:\tlearn: 0.6529544\ttotal: 11.8s\tremaining: 12.7s\n",
      "241:\tlearn: 0.6527480\ttotal: 11.8s\tremaining: 12.6s\n",
      "242:\tlearn: 0.6528160\ttotal: 11.9s\tremaining: 12.6s\n",
      "243:\tlearn: 0.6530763\ttotal: 11.9s\tremaining: 12.5s\n",
      "244:\tlearn: 0.6530763\ttotal: 12s\tremaining: 12.5s\n",
      "245:\tlearn: 0.6530440\ttotal: 12s\tremaining: 12.4s\n",
      "246:\tlearn: 0.6532932\ttotal: 12.1s\tremaining: 12.4s\n",
      "247:\tlearn: 0.6533115\ttotal: 12.1s\tremaining: 12.3s\n",
      "248:\tlearn: 0.6528972\ttotal: 12.2s\tremaining: 12.3s\n",
      "249:\tlearn: 0.6529835\ttotal: 12.2s\tremaining: 12.2s\n",
      "250:\tlearn: 0.6530547\ttotal: 12.3s\tremaining: 12.2s\n",
      "251:\tlearn: 0.6536193\ttotal: 12.3s\tremaining: 12.1s\n",
      "252:\tlearn: 0.6536193\ttotal: 12.4s\tremaining: 12.1s\n",
      "253:\tlearn: 0.6532232\ttotal: 12.4s\tremaining: 12s\n",
      "254:\tlearn: 0.6533291\ttotal: 12.5s\tremaining: 12s\n",
      "255:\tlearn: 0.6534004\ttotal: 12.5s\tremaining: 11.9s\n",
      "256:\tlearn: 0.6533647\ttotal: 12.6s\tremaining: 11.9s\n",
      "257:\tlearn: 0.6534166\ttotal: 12.6s\tremaining: 11.8s\n",
      "258:\tlearn: 0.6536629\ttotal: 12.6s\tremaining: 11.8s\n",
      "259:\tlearn: 0.6536813\ttotal: 12.7s\tremaining: 11.7s\n",
      "260:\tlearn: 0.6540325\ttotal: 12.7s\tremaining: 11.7s\n",
      "261:\tlearn: 0.6538747\ttotal: 12.8s\tremaining: 11.6s\n",
      "262:\tlearn: 0.6538563\ttotal: 12.8s\tremaining: 11.6s\n",
      "263:\tlearn: 0.6539795\ttotal: 12.9s\tremaining: 11.5s\n",
      "264:\tlearn: 0.6538757\ttotal: 12.9s\tremaining: 11.5s\n",
      "265:\tlearn: 0.6537505\ttotal: 13s\tremaining: 11.4s\n",
      "266:\tlearn: 0.6538747\ttotal: 13s\tremaining: 11.4s\n",
      "267:\tlearn: 0.6540701\ttotal: 13.1s\tremaining: 11.3s\n",
      "268:\tlearn: 0.6540701\ttotal: 13.1s\tremaining: 11.3s\n",
      "269:\tlearn: 0.6540192\ttotal: 13.2s\tremaining: 11.2s\n",
      "270:\tlearn: 0.6540192\ttotal: 13.2s\tremaining: 11.2s\n",
      "271:\tlearn: 0.6540192\ttotal: 13.3s\tremaining: 11.1s\n",
      "272:\tlearn: 0.6542125\ttotal: 13.3s\tremaining: 11.1s\n",
      "273:\tlearn: 0.6544435\ttotal: 13.4s\tremaining: 11s\n",
      "274:\tlearn: 0.6545147\ttotal: 13.4s\tremaining: 11s\n",
      "275:\tlearn: 0.6545512\ttotal: 13.4s\tremaining: 10.9s\n",
      "276:\tlearn: 0.6546407\ttotal: 13.5s\tremaining: 10.9s\n",
      "277:\tlearn: 0.6547273\ttotal: 13.5s\tremaining: 10.8s\n",
      "278:\tlearn: 0.6544771\ttotal: 13.6s\tremaining: 10.8s\n",
      "279:\tlearn: 0.6543915\ttotal: 13.6s\tremaining: 10.7s\n",
      "280:\tlearn: 0.6544598\ttotal: 13.7s\tremaining: 10.7s\n",
      "281:\tlearn: 0.6543550\ttotal: 13.7s\tremaining: 10.6s\n",
      "282:\tlearn: 0.6540385\ttotal: 13.8s\tremaining: 10.6s\n",
      "283:\tlearn: 0.6539357\ttotal: 13.8s\tremaining: 10.5s\n",
      "284:\tlearn: 0.6544406\ttotal: 13.9s\tremaining: 10.5s\n",
      "285:\tlearn: 0.6544935\ttotal: 13.9s\tremaining: 10.4s\n",
      "286:\tlearn: 0.6545262\ttotal: 14s\tremaining: 10.4s\n",
      "287:\tlearn: 0.6550775\ttotal: 14s\tremaining: 10.3s\n",
      "288:\tlearn: 0.6551843\ttotal: 14.1s\tremaining: 10.3s\n",
      "289:\tlearn: 0.6552919\ttotal: 14.1s\tremaining: 10.2s\n",
      "290:\tlearn: 0.6547061\ttotal: 14.2s\tremaining: 10.2s\n",
      "291:\tlearn: 0.6545397\ttotal: 14.2s\tremaining: 10.1s\n",
      "292:\tlearn: 0.6544155\ttotal: 14.3s\tremaining: 10.1s\n",
      "293:\tlearn: 0.6547332\ttotal: 14.3s\tremaining: 10s\n",
      "294:\tlearn: 0.6546532\ttotal: 14.3s\tremaining: 9.97s\n",
      "295:\tlearn: 0.6546532\ttotal: 14.4s\tremaining: 9.92s\n",
      "296:\tlearn: 0.6548832\ttotal: 14.5s\tremaining: 9.88s\n",
      "297:\tlearn: 0.6548476\ttotal: 14.5s\tremaining: 9.82s\n",
      "298:\tlearn: 0.6548659\ttotal: 14.6s\tremaining: 9.79s\n",
      "299:\tlearn: 0.6549005\ttotal: 14.6s\tremaining: 9.73s\n",
      "300:\tlearn: 0.6548659\ttotal: 14.7s\tremaining: 9.69s\n",
      "301:\tlearn: 0.6547947\ttotal: 14.7s\tremaining: 9.64s\n",
      "302:\tlearn: 0.6547254\ttotal: 14.8s\tremaining: 9.6s\n",
      "303:\tlearn: 0.6547619\ttotal: 14.8s\tremaining: 9.55s\n",
      "304:\tlearn: 0.6546907\ttotal: 14.9s\tremaining: 9.5s\n",
      "305:\tlearn: 0.6547647\ttotal: 14.9s\tremaining: 9.45s\n",
      "306:\tlearn: 0.6547301\ttotal: 15s\tremaining: 9.41s\n",
      "307:\tlearn: 0.6548186\ttotal: 15s\tremaining: 9.37s\n",
      "308:\tlearn: 0.6547695\ttotal: 15.1s\tremaining: 9.32s\n",
      "309:\tlearn: 0.6547521\ttotal: 15.1s\tremaining: 9.27s\n",
      "310:\tlearn: 0.6549290\ttotal: 15.2s\tremaining: 9.22s\n",
      "311:\tlearn: 0.6549463\ttotal: 15.2s\tremaining: 9.18s\n",
      "312:\tlearn: 0.6549454\ttotal: 15.3s\tremaining: 9.13s\n",
      "313:\tlearn: 0.6550876\ttotal: 15.3s\tremaining: 9.08s\n",
      "314:\tlearn: 0.6549463\ttotal: 15.4s\tremaining: 9.03s\n",
      "315:\tlearn: 0.6548925\ttotal: 15.4s\tremaining: 8.98s\n",
      "316:\tlearn: 0.6551715\ttotal: 15.5s\tremaining: 8.93s\n",
      "317:\tlearn: 0.6551542\ttotal: 15.5s\tremaining: 8.88s\n",
      "318:\tlearn: 0.6552244\ttotal: 15.6s\tremaining: 8.83s\n",
      "319:\tlearn: 0.6554906\ttotal: 15.6s\tremaining: 8.79s\n",
      "320:\tlearn: 0.6555044\ttotal: 15.7s\tremaining: 8.73s\n",
      "321:\tlearn: 0.6555920\ttotal: 15.7s\tremaining: 8.69s\n",
      "322:\tlearn: 0.6553000\ttotal: 15.8s\tremaining: 8.64s\n",
      "323:\tlearn: 0.6553356\ttotal: 15.8s\tremaining: 8.58s\n",
      "324:\tlearn: 0.6553538\ttotal: 15.9s\tremaining: 8.54s\n",
      "325:\tlearn: 0.6554231\ttotal: 15.9s\tremaining: 8.48s\n",
      "326:\tlearn: 0.6554195\ttotal: 15.9s\tremaining: 8.44s\n",
      "327:\tlearn: 0.6554551\ttotal: 16s\tremaining: 8.38s\n",
      "328:\tlearn: 0.6552271\ttotal: 16s\tremaining: 8.34s\n",
      "329:\tlearn: 0.6553146\ttotal: 16.1s\tremaining: 8.29s\n",
      "330:\tlearn: 0.6554724\ttotal: 16.1s\tremaining: 8.24s\n",
      "331:\tlearn: 0.6554915\ttotal: 16.2s\tremaining: 8.18s\n",
      "332:\tlearn: 0.6553356\ttotal: 16.2s\tremaining: 8.13s\n",
      "333:\tlearn: 0.6553702\ttotal: 16.3s\tremaining: 8.08s\n",
      "334:\tlearn: 0.6554031\ttotal: 16.3s\tremaining: 8.04s\n",
      "335:\tlearn: 0.6554067\ttotal: 16.4s\tremaining: 7.99s\n",
      "336:\tlearn: 0.6555808\ttotal: 16.4s\tremaining: 7.94s\n",
      "337:\tlearn: 0.6556519\ttotal: 16.5s\tremaining: 7.89s\n",
      "338:\tlearn: 0.6558105\ttotal: 16.5s\tremaining: 7.84s\n",
      "339:\tlearn: 0.6556502\ttotal: 16.6s\tremaining: 7.79s\n",
      "340:\tlearn: 0.6558452\ttotal: 16.6s\tremaining: 7.75s\n",
      "341:\tlearn: 0.6558790\ttotal: 16.7s\tremaining: 7.7s\n",
      "342:\tlearn: 0.6558079\ttotal: 16.7s\tremaining: 7.65s\n",
      "343:\tlearn: 0.6558617\ttotal: 16.8s\tremaining: 7.61s\n",
      "344:\tlearn: 0.6560385\ttotal: 16.8s\tremaining: 7.56s\n",
      "345:\tlearn: 0.6558946\ttotal: 16.9s\tremaining: 7.51s\n",
      "346:\tlearn: 0.6558764\ttotal: 16.9s\tremaining: 7.47s\n",
      "347:\tlearn: 0.6559128\ttotal: 17s\tremaining: 7.42s\n",
      "348:\tlearn: 0.6561814\ttotal: 17s\tremaining: 7.37s\n",
      "349:\tlearn: 0.6560169\ttotal: 17.1s\tremaining: 7.32s\n",
      "350:\tlearn: 0.6560317\ttotal: 17.1s\tremaining: 7.27s\n",
      "351:\tlearn: 0.6560665\ttotal: 17.2s\tremaining: 7.22s\n",
      "352:\tlearn: 0.6562955\ttotal: 17.2s\tremaining: 7.18s\n",
      "353:\tlearn: 0.6562103\ttotal: 17.3s\tremaining: 7.13s\n",
      "354:\tlearn: 0.6563533\ttotal: 17.3s\tremaining: 7.08s\n",
      "355:\tlearn: 0.6566177\ttotal: 17.4s\tremaining: 7.03s\n",
      "356:\tlearn: 0.6566020\ttotal: 17.4s\tremaining: 6.98s\n",
      "357:\tlearn: 0.6563012\ttotal: 17.5s\tremaining: 6.93s\n",
      "358:\tlearn: 0.6563186\ttotal: 17.5s\tremaining: 6.88s\n",
      "359:\tlearn: 0.6563376\ttotal: 17.6s\tremaining: 6.84s\n",
      "360:\tlearn: 0.6565136\ttotal: 17.7s\tremaining: 6.8s\n",
      "361:\tlearn: 0.6563566\ttotal: 17.7s\tremaining: 6.75s\n",
      "362:\tlearn: 0.6569231\ttotal: 17.8s\tremaining: 6.71s\n",
      "363:\tlearn: 0.6571353\ttotal: 17.8s\tremaining: 6.66s\n",
      "364:\tlearn: 0.6571882\ttotal: 17.9s\tremaining: 6.62s\n",
      "365:\tlearn: 0.6570220\ttotal: 18s\tremaining: 6.58s\n",
      "366:\tlearn: 0.6570945\ttotal: 18s\tremaining: 6.53s\n",
      "367:\tlearn: 0.6565293\ttotal: 18.1s\tremaining: 6.49s\n",
      "368:\tlearn: 0.6565649\ttotal: 18.1s\tremaining: 6.44s\n",
      "369:\tlearn: 0.6566004\ttotal: 18.2s\tremaining: 6.39s\n",
      "370:\tlearn: 0.6565104\ttotal: 18.3s\tremaining: 6.35s\n",
      "371:\tlearn: 0.6565964\ttotal: 18.3s\tremaining: 6.3s\n",
      "372:\tlearn: 0.6565964\ttotal: 18.4s\tremaining: 6.25s\n",
      "373:\tlearn: 0.6565964\ttotal: 18.4s\tremaining: 6.21s\n",
      "374:\tlearn: 0.6565964\ttotal: 18.5s\tremaining: 6.16s\n",
      "375:\tlearn: 0.6566311\ttotal: 18.5s\tremaining: 6.11s\n",
      "376:\tlearn: 0.6566311\ttotal: 18.6s\tremaining: 6.06s\n",
      "377:\tlearn: 0.6569471\ttotal: 18.6s\tremaining: 6.01s\n",
      "378:\tlearn: 0.6566445\ttotal: 18.7s\tremaining: 5.96s\n",
      "379:\tlearn: 0.6565742\ttotal: 18.7s\tremaining: 5.91s\n",
      "380:\tlearn: 0.6567693\ttotal: 18.8s\tremaining: 5.87s\n",
      "381:\tlearn: 0.6564154\ttotal: 18.8s\tremaining: 5.81s\n",
      "382:\tlearn: 0.6562930\ttotal: 18.9s\tremaining: 5.76s\n",
      "383:\tlearn: 0.6563476\ttotal: 18.9s\tremaining: 5.71s\n",
      "384:\tlearn: 0.6563137\ttotal: 19s\tremaining: 5.67s\n",
      "385:\tlearn: 0.6566667\ttotal: 19s\tremaining: 5.62s\n",
      "386:\tlearn: 0.6563848\ttotal: 19.1s\tremaining: 5.56s\n",
      "387:\tlearn: 0.6571898\ttotal: 19.1s\tremaining: 5.51s\n",
      "388:\tlearn: 0.6571368\ttotal: 19.2s\tremaining: 5.46s\n",
      "389:\tlearn: 0.6572623\ttotal: 19.2s\tremaining: 5.42s\n",
      "390:\tlearn: 0.6572616\ttotal: 19.2s\tremaining: 5.36s\n",
      "391:\tlearn: 0.6570657\ttotal: 19.3s\tremaining: 5.31s\n",
      "392:\tlearn: 0.6571202\ttotal: 19.4s\tremaining: 5.27s\n",
      "393:\tlearn: 0.6576517\ttotal: 19.4s\tremaining: 5.22s\n",
      "394:\tlearn: 0.6576698\ttotal: 19.5s\tremaining: 5.17s\n",
      "395:\tlearn: 0.6579184\ttotal: 19.5s\tremaining: 5.12s\n",
      "396:\tlearn: 0.6577924\ttotal: 19.6s\tremaining: 5.07s\n",
      "397:\tlearn: 0.6575611\ttotal: 19.6s\tremaining: 5.02s\n",
      "398:\tlearn: 0.6577917\ttotal: 19.7s\tremaining: 4.97s\n",
      "399:\tlearn: 0.6577039\ttotal: 19.7s\tremaining: 4.92s\n",
      "400:\tlearn: 0.6576858\ttotal: 19.7s\tremaining: 4.87s\n",
      "401:\tlearn: 0.6577206\ttotal: 19.8s\tremaining: 4.82s\n",
      "402:\tlearn: 0.6576474\ttotal: 19.8s\tremaining: 4.78s\n",
      "403:\tlearn: 0.6577540\ttotal: 19.9s\tremaining: 4.73s\n",
      "404:\tlearn: 0.6577568\ttotal: 19.9s\tremaining: 4.68s\n",
      "405:\tlearn: 0.6584120\ttotal: 20s\tremaining: 4.63s\n",
      "406:\tlearn: 0.6585359\ttotal: 20s\tremaining: 4.58s\n",
      "407:\tlearn: 0.6585534\ttotal: 20.1s\tremaining: 4.53s\n",
      "408:\tlearn: 0.6583933\ttotal: 20.1s\tremaining: 4.48s\n",
      "409:\tlearn: 0.6584830\ttotal: 20.2s\tremaining: 4.43s\n",
      "410:\tlearn: 0.6585185\ttotal: 20.2s\tremaining: 4.38s\n",
      "411:\tlearn: 0.6583115\ttotal: 20.3s\tremaining: 4.33s\n",
      "412:\tlearn: 0.6583477\ttotal: 20.3s\tremaining: 4.28s\n",
      "413:\tlearn: 0.6582580\ttotal: 20.4s\tremaining: 4.23s\n",
      "414:\tlearn: 0.6582580\ttotal: 20.4s\tremaining: 4.18s\n",
      "415:\tlearn: 0.6583296\ttotal: 20.5s\tremaining: 4.13s\n",
      "416:\tlearn: 0.6583818\ttotal: 20.5s\tremaining: 4.08s\n",
      "417:\tlearn: 0.6584166\ttotal: 20.6s\tremaining: 4.03s\n",
      "418:\tlearn: 0.6584127\ttotal: 20.6s\tremaining: 3.98s\n",
      "419:\tlearn: 0.6586269\ttotal: 20.7s\tremaining: 3.94s\n",
      "420:\tlearn: 0.6586095\ttotal: 20.7s\tremaining: 3.89s\n",
      "421:\tlearn: 0.6586449\ttotal: 20.8s\tremaining: 3.84s\n",
      "422:\tlearn: 0.6584682\ttotal: 20.8s\tremaining: 3.79s\n",
      "423:\tlearn: 0.6584856\ttotal: 20.9s\tremaining: 3.74s\n",
      "424:\tlearn: 0.6585050\ttotal: 20.9s\tremaining: 3.69s\n",
      "425:\tlearn: 0.6585759\ttotal: 21s\tremaining: 3.64s\n",
      "426:\tlearn: 0.6584682\ttotal: 21s\tremaining: 3.59s\n",
      "427:\tlearn: 0.6590494\ttotal: 21.1s\tremaining: 3.54s\n",
      "428:\tlearn: 0.6589822\ttotal: 21.1s\tremaining: 3.49s\n",
      "429:\tlearn: 0.6589815\ttotal: 21.2s\tremaining: 3.44s\n",
      "430:\tlearn: 0.6589467\ttotal: 21.2s\tremaining: 3.39s\n",
      "431:\tlearn: 0.6589293\ttotal: 21.2s\tremaining: 3.34s\n",
      "432:\tlearn: 0.6591780\ttotal: 21.3s\tremaining: 3.3s\n",
      "433:\tlearn: 0.6591414\ttotal: 21.4s\tremaining: 3.25s\n",
      "434:\tlearn: 0.6591588\ttotal: 21.4s\tremaining: 3.2s\n",
      "435:\tlearn: 0.6591588\ttotal: 21.5s\tremaining: 3.15s\n",
      "436:\tlearn: 0.6592285\ttotal: 21.5s\tremaining: 3.1s\n",
      "437:\tlearn: 0.6592285\ttotal: 21.5s\tremaining: 3.05s\n",
      "438:\tlearn: 0.6590176\ttotal: 21.6s\tremaining: 3s\n",
      "439:\tlearn: 0.6592129\ttotal: 21.6s\tremaining: 2.95s\n",
      "440:\tlearn: 0.6592471\ttotal: 21.7s\tremaining: 2.9s\n",
      "441:\tlearn: 0.6594760\ttotal: 21.7s\tremaining: 2.85s\n",
      "442:\tlearn: 0.6594232\ttotal: 21.8s\tremaining: 2.8s\n",
      "443:\tlearn: 0.6593877\ttotal: 21.8s\tremaining: 2.75s\n",
      "444:\tlearn: 0.6591942\ttotal: 21.9s\tremaining: 2.71s\n",
      "445:\tlearn: 0.6591901\ttotal: 22s\tremaining: 2.66s\n",
      "446:\tlearn: 0.6592796\ttotal: 22s\tremaining: 2.61s\n",
      "447:\tlearn: 0.6592994\ttotal: 22.1s\tremaining: 2.56s\n",
      "448:\tlearn: 0.6593343\ttotal: 22.1s\tremaining: 2.51s\n",
      "449:\tlearn: 0.6592093\ttotal: 22.2s\tremaining: 2.46s\n",
      "450:\tlearn: 0.6591558\ttotal: 22.2s\tremaining: 2.41s\n",
      "451:\tlearn: 0.6592454\ttotal: 22.3s\tremaining: 2.36s\n",
      "452:\tlearn: 0.6592616\ttotal: 22.3s\tremaining: 2.31s\n",
      "453:\tlearn: 0.6597219\ttotal: 22.4s\tremaining: 2.27s\n",
      "454:\tlearn: 0.6597039\ttotal: 22.4s\tremaining: 2.22s\n",
      "455:\tlearn: 0.6597033\ttotal: 22.5s\tremaining: 2.17s\n",
      "456:\tlearn: 0.6598783\ttotal: 22.5s\tremaining: 2.12s\n",
      "457:\tlearn: 0.6594372\ttotal: 22.6s\tremaining: 2.07s\n",
      "458:\tlearn: 0.6592714\ttotal: 22.6s\tremaining: 2.02s\n",
      "459:\tlearn: 0.6594500\ttotal: 22.7s\tremaining: 1.97s\n",
      "460:\tlearn: 0.6595210\ttotal: 22.7s\tremaining: 1.92s\n",
      "461:\tlearn: 0.6596437\ttotal: 22.8s\tremaining: 1.87s\n",
      "462:\tlearn: 0.6598539\ttotal: 22.8s\tremaining: 1.82s\n",
      "463:\tlearn: 0.6597840\ttotal: 22.9s\tremaining: 1.78s\n",
      "464:\tlearn: 0.6596595\ttotal: 23s\tremaining: 1.73s\n",
      "465:\tlearn: 0.6596240\ttotal: 23s\tremaining: 1.68s\n",
      "466:\tlearn: 0.6596252\ttotal: 23.1s\tremaining: 1.63s\n",
      "467:\tlearn: 0.6597496\ttotal: 23.1s\tremaining: 1.58s\n",
      "468:\tlearn: 0.6597845\ttotal: 23.2s\tremaining: 1.53s\n",
      "469:\tlearn: 0.6595717\ttotal: 23.2s\tremaining: 1.48s\n",
      "470:\tlearn: 0.6597011\ttotal: 23.3s\tremaining: 1.43s\n",
      "471:\tlearn: 0.6599661\ttotal: 23.3s\tremaining: 1.38s\n",
      "472:\tlearn: 0.6597720\ttotal: 23.4s\tremaining: 1.33s\n",
      "473:\tlearn: 0.6599149\ttotal: 23.4s\tremaining: 1.28s\n",
      "474:\tlearn: 0.6597017\ttotal: 23.5s\tremaining: 1.24s\n",
      "475:\tlearn: 0.6596319\ttotal: 23.5s\tremaining: 1.19s\n",
      "476:\tlearn: 0.6599122\ttotal: 23.6s\tremaining: 1.14s\n",
      "477:\tlearn: 0.6599122\ttotal: 23.6s\tremaining: 1.09s\n",
      "478:\tlearn: 0.6598767\ttotal: 23.7s\tremaining: 1.04s\n",
      "479:\tlearn: 0.6597889\ttotal: 23.7s\tremaining: 989ms\n",
      "480:\tlearn: 0.6599656\ttotal: 23.8s\tremaining: 939ms\n",
      "481:\tlearn: 0.6599831\ttotal: 23.8s\tremaining: 890ms\n",
      "482:\tlearn: 0.6599831\ttotal: 23.9s\tremaining: 840ms\n",
      "483:\tlearn: 0.6597011\ttotal: 23.9s\tremaining: 791ms\n",
      "484:\tlearn: 0.6597365\ttotal: 24s\tremaining: 741ms\n",
      "485:\tlearn: 0.6599492\ttotal: 24s\tremaining: 691ms\n",
      "486:\tlearn: 0.6601772\ttotal: 24s\tremaining: 642ms\n",
      "487:\tlearn: 0.6601942\ttotal: 24.1s\tremaining: 593ms\n",
      "488:\tlearn: 0.6603903\ttotal: 24.2s\tremaining: 543ms\n",
      "489:\tlearn: 0.6602646\ttotal: 24.2s\tremaining: 494ms\n",
      "490:\tlearn: 0.6605621\ttotal: 24.2s\tremaining: 444ms\n",
      "491:\tlearn: 0.6601160\ttotal: 24.3s\tremaining: 395ms\n",
      "492:\tlearn: 0.6601160\ttotal: 24.3s\tremaining: 346ms\n",
      "493:\tlearn: 0.6600630\ttotal: 24.4s\tremaining: 296ms\n",
      "494:\tlearn: 0.6600630\ttotal: 24.4s\tremaining: 247ms\n",
      "495:\tlearn: 0.6601515\ttotal: 24.5s\tremaining: 197ms\n",
      "496:\tlearn: 0.6599952\ttotal: 24.5s\tremaining: 148ms\n",
      "497:\tlearn: 0.6599952\ttotal: 24.6s\tremaining: 98.7ms\n",
      "498:\tlearn: 0.6601906\ttotal: 24.6s\tremaining: 49.4ms\n",
      "499:\tlearn: 0.6600318\ttotal: 24.7s\tremaining: 0us\n",
      "{'catboostclassifier__depth': 3, 'catboostclassifier__learning_rate': 0.5, 'catboostclassifier__n_estimators': 500}\n",
      "0.6318272243525976\n",
      "CPU times: user 2min 3s, sys: 1.19 s, total: 2min 4s\n",
      "Wall time: 2min 19s\n"
     ]
    }
   ],
   "source": [
    "%%time\n",
    "\n",
    "# сетка гиперпараметров для поиска\n",
    "param_grid = {\n",
    "    'catboostclassifier__n_estimators': [500], # [500, 700, 1000],\n",
    "    'catboostclassifier__depth': [3], # [2, 3, 5],\n",
    "    'catboostclassifier__learning_rate': [0.5] # [.1, .5]\n",
    "}\n",
    "\n",
    "# параметры GridSearch\n",
    "grid_cb = GridSearchCV(\n",
    "    pipe_cb,\n",
    "    param_grid,\n",
    "    scoring='f1',\n",
    "    verbose=1\n",
    ")\n",
    "\n",
    "# обучение линейной регрессии\n",
    "grid_cb.fit(X_train, y_train)\n",
    "\n",
    "# сохранение метрики F1 на кросс-валидации\n",
    "results['CatBoostClassifier'] = grid_cb.best_score_\n",
    "\n",
    "# вывод показателей и лучшей модели\n",
    "print(grid_cb.best_params_)\n",
    "print(grid_cb.best_score_)"
   ]
  },
  {
   "cell_type": "markdown",
   "id": "88bcc6f3",
   "metadata": {},
   "source": [
    "### Выбор лучшей модели и проверка на тестовой выборке"
   ]
  },
  {
   "cell_type": "code",
   "execution_count": 36,
   "id": "cc1385ef",
   "metadata": {},
   "outputs": [
    {
     "data": {
      "text/plain": [
       "XGBClassifier                       0.638\n",
       "Random Forest Classifier            0.632\n",
       "CatBoostClassifier                  0.632\n",
       "LightGBM                            0.628\n",
       "Logistic Regression                 0.619\n",
       "Dummy Classifier (most frequent)    0.339\n",
       "dtype: float64"
      ]
     },
     "execution_count": 36,
     "metadata": {},
     "output_type": "execute_result"
    }
   ],
   "source": [
    "# вывод общей таблицы с результатами по метрике F1-мере\n",
    "pd.Series(results).round(decimals=3).sort_values(ascending=False)"
   ]
  },
  {
   "cell_type": "markdown",
   "id": "26db7e51",
   "metadata": {},
   "source": [
    "Все модели, кроме **бейзлайн модели Dummy Classifier (most frequent)** показали примерно одинаковый результат по качеству предсказания (**F1-мера**). Но в качестве лучшей будет выбрана - **XGBClassifier**. Далее проверим её качество предсказания на тестовой выборке. "
   ]
  },
  {
   "cell_type": "code",
   "execution_count": 37,
   "id": "dd6117c7",
   "metadata": {},
   "outputs": [
    {
     "data": {
      "text/html": [
       "<div>\n",
       "<style scoped>\n",
       "    .dataframe tbody tr th:only-of-type {\n",
       "        vertical-align: middle;\n",
       "    }\n",
       "\n",
       "    .dataframe tbody tr th {\n",
       "        vertical-align: top;\n",
       "    }\n",
       "\n",
       "    .dataframe thead th {\n",
       "        text-align: right;\n",
       "    }\n",
       "</style>\n",
       "<table border=\"1\" class=\"dataframe\">\n",
       "  <thead>\n",
       "    <tr style=\"text-align: right;\">\n",
       "      <th></th>\n",
       "      <th>precision</th>\n",
       "      <th>recall</th>\n",
       "      <th>f1-score</th>\n",
       "      <th>support</th>\n",
       "    </tr>\n",
       "  </thead>\n",
       "  <tbody>\n",
       "    <tr>\n",
       "      <th>0</th>\n",
       "      <td>0.636</td>\n",
       "      <td>0.744</td>\n",
       "      <td>0.686</td>\n",
       "      <td>6753.000</td>\n",
       "    </tr>\n",
       "    <tr>\n",
       "      <th>1</th>\n",
       "      <td>0.699</td>\n",
       "      <td>0.583</td>\n",
       "      <td>0.635</td>\n",
       "      <td>6885.000</td>\n",
       "    </tr>\n",
       "    <tr>\n",
       "      <th>accuracy</th>\n",
       "      <td>0.662</td>\n",
       "      <td>0.662</td>\n",
       "      <td>0.662</td>\n",
       "      <td>0.662</td>\n",
       "    </tr>\n",
       "    <tr>\n",
       "      <th>macro avg</th>\n",
       "      <td>0.667</td>\n",
       "      <td>0.663</td>\n",
       "      <td>0.661</td>\n",
       "      <td>13638.000</td>\n",
       "    </tr>\n",
       "    <tr>\n",
       "      <th>weighted avg</th>\n",
       "      <td>0.668</td>\n",
       "      <td>0.662</td>\n",
       "      <td>0.660</td>\n",
       "      <td>13638.000</td>\n",
       "    </tr>\n",
       "  </tbody>\n",
       "</table>\n",
       "</div>"
      ],
      "text/plain": [
       "              precision  recall  f1-score    support\n",
       "0                 0.636   0.744     0.686   6753.000\n",
       "1                 0.699   0.583     0.635   6885.000\n",
       "accuracy          0.662   0.662     0.662      0.662\n",
       "macro avg         0.667   0.663     0.661  13638.000\n",
       "weighted avg      0.668   0.662     0.660  13638.000"
      ]
     },
     "execution_count": 37,
     "metadata": {},
     "output_type": "execute_result"
    }
   ],
   "source": [
    "# предсказание на тестовой (отложенной) выборке\n",
    "prediction_xgb = grid_xgb.best_estimator_.predict(X_test)\n",
    "\n",
    "# оценка качества предсказания модели\n",
    "cr_xgb = classification_report(y_test, prediction_xgb, output_dict=True, zero_division=0)\n",
    "\n",
    "# вывод метрик качества\n",
    "pd.DataFrame(cr_xgb).round(decimals=3).transpose()"
   ]
  },
  {
   "cell_type": "markdown",
   "id": "73be98de",
   "metadata": {},
   "source": [
    "**Вывод**:\n",
    "- качество лучшей модели по метрике **F1** на тестовой выборке - **0.660**;\n",
    "- лучшая модель хорошо предсказывает **отрицательный (0)** класс, чуть хуже **положительный (1)**;\n",
    "- **полнота (recall)** охвата **положительного (1)** класса лучшей моделью составляет всего **0.58**, что говорит о том что модель менее склонна предсказывать риск ДТП. Так как в поставленнной задаче метрика **полнота (recall)** более предпочтительна для выявления даже минимальных рисков порог отсечения можно попробовать снизить."
   ]
  },
  {
   "cell_type": "code",
   "execution_count": 38,
   "id": "b5713f99",
   "metadata": {},
   "outputs": [
    {
     "data": {
      "text/html": [
       "<div>\n",
       "<style scoped>\n",
       "    .dataframe tbody tr th:only-of-type {\n",
       "        vertical-align: middle;\n",
       "    }\n",
       "\n",
       "    .dataframe tbody tr th {\n",
       "        vertical-align: top;\n",
       "    }\n",
       "\n",
       "    .dataframe thead th {\n",
       "        text-align: right;\n",
       "    }\n",
       "</style>\n",
       "<table border=\"1\" class=\"dataframe\">\n",
       "  <thead>\n",
       "    <tr style=\"text-align: right;\">\n",
       "      <th></th>\n",
       "      <th>precision</th>\n",
       "      <th>recall</th>\n",
       "      <th>f1-score</th>\n",
       "      <th>support</th>\n",
       "    </tr>\n",
       "  </thead>\n",
       "  <tbody>\n",
       "    <tr>\n",
       "      <th>0</th>\n",
       "      <td>0.658</td>\n",
       "      <td>0.655</td>\n",
       "      <td>0.657</td>\n",
       "      <td>6753.000</td>\n",
       "    </tr>\n",
       "    <tr>\n",
       "      <th>1</th>\n",
       "      <td>0.663</td>\n",
       "      <td>0.666</td>\n",
       "      <td>0.664</td>\n",
       "      <td>6885.000</td>\n",
       "    </tr>\n",
       "    <tr>\n",
       "      <th>accuracy</th>\n",
       "      <td>0.661</td>\n",
       "      <td>0.661</td>\n",
       "      <td>0.661</td>\n",
       "      <td>0.661</td>\n",
       "    </tr>\n",
       "    <tr>\n",
       "      <th>macro avg</th>\n",
       "      <td>0.660</td>\n",
       "      <td>0.660</td>\n",
       "      <td>0.660</td>\n",
       "      <td>13638.000</td>\n",
       "    </tr>\n",
       "    <tr>\n",
       "      <th>weighted avg</th>\n",
       "      <td>0.660</td>\n",
       "      <td>0.661</td>\n",
       "      <td>0.661</td>\n",
       "      <td>13638.000</td>\n",
       "    </tr>\n",
       "  </tbody>\n",
       "</table>\n",
       "</div>"
      ],
      "text/plain": [
       "              precision  recall  f1-score    support\n",
       "0                 0.658   0.655     0.657   6753.000\n",
       "1                 0.663   0.666     0.664   6885.000\n",
       "accuracy          0.661   0.661     0.661      0.661\n",
       "macro avg         0.660   0.660     0.660  13638.000\n",
       "weighted avg      0.660   0.661     0.661  13638.000"
      ]
     },
     "execution_count": 38,
     "metadata": {},
     "output_type": "execute_result"
    }
   ],
   "source": [
    "# предсказание вероятности целевого класса на тестовой (отложенной) выборке\n",
    "predict_proba_xgb = grid_xgb.best_estimator_.predict_proba(X_test)[:,1]\n",
    "# получение предскзаний с немного сниженным порогом отсечения\n",
    "predict_tresh_xgb = (predict_proba_xgb > 0.45).astype(int)\n",
    "\n",
    "# оценка качества предсказания модели\n",
    "cr_tresh_xgb = classification_report(y_test, predict_tresh_xgb, output_dict=True, zero_division=0)\n",
    "\n",
    "# вывод метрик качества\n",
    "pd.DataFrame(cr_tresh_xgb).round(decimals=3).transpose()"
   ]
  },
  {
   "cell_type": "markdown",
   "id": "89facc74",
   "metadata": {},
   "source": [
    "Снижение порога позволило поднять метрику **recall** на предсказании **целевого (положительного) класса** практически без снижения основной метрики **F1**.\n",
    "\n",
    "Выведем матрицу ошибок предсказания лучшей модели со сниженным порогом.\n"
   ]
  },
  {
   "cell_type": "code",
   "execution_count": 39,
   "id": "7f06fe41",
   "metadata": {},
   "outputs": [
    {
     "data": {
      "image/png": "[encoded data removed]",
      "text/plain": [
       "<Figure size 1008x576 with 2 Axes>"
      ]
     },
     "metadata": {
      "needs_background": "light"
     },
     "output_type": "display_data"
    }
   ],
   "source": [
    "cm = confusion_matrix(y_test, predict_tresh_xgb, labels=grid_xgb.classes_)\n",
    "\n",
    "fig, ax = plt.subplots(figsize=(14, 8))\n",
    "cmd = ConfusionMatrixDisplay(cm, display_labels=grid_xgb.classes_)\n",
    "cmd.plot(ax=ax)\n",
    "ax.set_title('Матрица ошибок')\n",
    "ax.set_xlabel('Предсказанные значения')\n",
    "ax.set_ylabel('Фактические значения');"
   ]
  },
  {
   "cell_type": "markdown",
   "id": "0c74cfb1",
   "metadata": {},
   "source": [
    "Лучшая модель хорошо предсказывает **положительный** и **отрицательный** классы. Ошибки на предсказании немного смещены в сторону **отрицательного** класса."
   ]
  },
  {
   "cell_type": "markdown",
   "id": "c845cd18",
   "metadata": {},
   "source": [
    "## Анализ важности факторов ДТП"
   ]
  },
  {
   "cell_type": "markdown",
   "id": "4f4a5987",
   "metadata": {},
   "source": [
    "Для анализа и вывода факторов, влияющих на вероятность возникновения ДТП, будет использована библиотека **SHAP**."
   ]
  },
  {
   "cell_type": "code",
   "execution_count": 40,
   "id": "ddf8d080",
   "metadata": {
    "scrolled": false
   },
   "outputs": [
    {
     "name": "stderr",
     "output_type": "stream",
     "text": [
      "ntree_limit is deprecated, use `iteration_range` or model slicing instead.\n"
     ]
    },
    {
     "data": {
      "image/png": "[encoded data removed]",
      "text/plain": [
       "<Figure size 576x453.6 with 2 Axes>"
      ]
     },
     "metadata": {
      "needs_background": "light"
     },
     "output_type": "display_data"
    }
   ],
   "source": [
    "# получение shap-значений\n",
    "best_model = grid_xgb.best_estimator_._final_estimator\n",
    "X_train_encoded = pd.DataFrame(\n",
    "    grid_xgb.best_estimator_['columntransformer'].transform(X_train), \n",
    "    columns=X_train.columns\n",
    ")\n",
    "explainer = shap.Explainer(best_model, seed=RAND_ST)\n",
    "shap_values = explainer(X_train_encoded)\n",
    "shap.summary_plot(shap_values, X_train_encoded)"
   ]
  },
  {
   "cell_type": "code",
   "execution_count": 41,
   "id": "5d349cf5",
   "metadata": {
    "scrolled": false
   },
   "outputs": [
    {
     "data": {
      "image/png": "[encoded data removed]",
      "text/plain": [
       "<Figure size 576x468 with 1 Axes>"
      ]
     },
     "metadata": {},
     "output_type": "display_data"
    }
   ],
   "source": [
    "shap.plots.bar(shap_values)"
   ]
  },
  {
   "cell_type": "markdown",
   "id": "89f0ad95",
   "metadata": {},
   "source": [
    "**Выводы:**\n",
    "- Наибольший вклад в предсказание **положительного класса (1)** целевого признака `'at_fault'` вносит признак `'county_city_location'` (номер географического района);\n",
    "- Далее по уменьшению влияния идет признак `'party_drug_physical'` (физическое состояние водителя с учётом принятых лекарств) и признак `'vehicle_type'` (тип кузова);\n",
    "- остальные признаки так же вносят свой вклад в предсказание, но значимость их намного ниже.\n",
    "\n",
    "Построим график зависимости целевой переменной `'at_fault'` от двух самых важных фактора: `'county_city_location'` и `'party_drug_physical'`."
   ]
  },
  {
   "cell_type": "code",
   "execution_count": 65,
   "id": "d3315825",
   "metadata": {},
   "outputs": [
    {
     "data": {
      "image/png": "[encoded data removed]",
      "text/plain": [
       "<Figure size 763.665x720 with 1 Axes>"
      ]
     },
     "metadata": {
      "needs_background": "light"
     },
     "output_type": "display_data"
    }
   ],
   "source": [
    "sns.catplot(data=df,\n",
    "                 x='party_drug_physical',\n",
    "                 y='county_city_location',\n",
    "                 hue='at_fault',\n",
    "                 height=10,\n",
    "                 alpha=0.7)\n",
    "plt.title(\"График зависимости целевой переменной от двух самых важных фактора\");"
   ]
  },
  {
   "cell_type": "markdown",
   "id": "c053ebdd",
   "metadata": {},
   "source": [
    "На графике можно заметить:\n",
    "- В первой группе (**unknown**) по признаку `'party_drug_physical'` чем выше значение признака `'county_city_location'`, тем меньше количество виновников ДТП вплоть до определенных значений, где это разница еще выше в районе от 3000 до 4000. Можно предположить, что в определенных районах существует повышенный риск попасть в ДТП по своей вине;\n",
    "- В группах **G**, **sleepy/fatigued** и **under drug influence** существует наибольший риск попасть в ДТП по своей вине на всех значениях признака `'county_city_location'`;\n",
    "- В группах **impairment - physical** и **not_applicable** отмечается самый низкий риск попасть в ДТП по своей вине на всех значениях признака `'county_city_location'`."
   ]
  },
  {
   "cell_type": "markdown",
   "id": "1dbb4fa1",
   "metadata": {},
   "source": [
    "## Основные выводы"
   ]
  },
  {
   "cell_type": "markdown",
   "id": "b94b6168",
   "metadata": {},
   "source": [
    "В данном проекте была обучена модель ML для каршеринговой компании, которая могла бы оценить b предсказать риск ДТП по совокупности факторов.\n",
    "\n",
    "Были исследованы представленные Заказчиком данные, проведен статистический анализ некоторых факторов с составлением списка других подобных задач для дальнейшего исследования.\n",
    "\n",
    "Были подготовлены и обработаны данные для анализа за 2012 год. \n",
    "\n",
    "Обучены модели классического машинного обучения (логистическая регрессия, случайный лес) и бустинг-модели.\n",
    "\n",
    "Бустинг-модели показали лучшие результаты по сравнению с бейзлайн-моделью, а так же моделью логистической регрессии. Для деплоя предлагается модель **XGBClassifier**, показывающая лучший результат на кросс-валидации.\n",
    "\n",
    "Наибольший вклад в предсказание положительного класса (1) целевого признака `'at_fault'` вносят следующие признаки: \n",
    "- 'county_city_location' (номер географического района);\n",
    "- 'party_drug_physical' (физическое состояние водителя с учётом принятых лекарств) \n",
    "- 'vehicle_type' (тип кузова).\n",
    "\n",
    "**Рекомендации Заказчику:**\n",
    "- для отслеживания физического состояния водителя установить в салон камеру, направленное на его лицо. Разработать модель распознавания по лицу усталости, частого моргания, возможно других симптомов, указывающих например на прием сильнодействующих лекарств или алкоголя;\n",
    "- обязать перед поездкой водителя внести маршрут или район передвижения для отслеживания потенциально опасных районов, где повышен риск попасть в ДТП;\n",
    "- так же дополнительно предлагается отслеживать **пол**, **возраст**, **стаж** водителя и **цель каршеринга** ('семейная поездка', 'одиночный туризм', 'срочная встреча' и т.д.). Такие данные вполне могут улучшить качество модели в будущем при сборе достаточного количества дополнительных данных."
   ]
  }
 ],
 "metadata": {
  "ExecuteTimeLog": [
   {
    "duration": 438,
    "start_time": "2023-06-25T09:57:27.457Z"
   },
   {
    "duration": 3,
    "start_time": "2023-06-25T09:57:27.897Z"
   },
   {
    "duration": 898,
    "start_time": "2023-06-25T09:59:10.278Z"
   },
   {
    "duration": 12,
    "start_time": "2023-06-25T09:59:15.978Z"
   },
   {
    "duration": 13,
    "start_time": "2023-06-25T09:59:22.400Z"
   },
   {
    "duration": 4,
    "start_time": "2023-06-25T09:59:25.658Z"
   },
   {
    "duration": 804,
    "start_time": "2023-06-25T10:03:36.148Z"
   },
   {
    "duration": 28,
    "start_time": "2023-06-25T10:05:42.076Z"
   },
   {
    "duration": 37,
    "start_time": "2023-06-25T10:06:14.613Z"
   },
   {
    "duration": 12,
    "start_time": "2023-06-25T10:06:19.774Z"
   },
   {
    "duration": 21,
    "start_time": "2023-06-25T10:07:30.195Z"
   },
   {
    "duration": 35,
    "start_time": "2023-06-25T10:08:14.223Z"
   },
   {
    "duration": 111,
    "start_time": "2023-06-25T10:09:00.154Z"
   },
   {
    "duration": 67,
    "start_time": "2023-06-25T10:10:16.393Z"
   },
   {
    "duration": 110,
    "start_time": "2023-06-25T10:16:52.835Z"
   },
   {
    "duration": 466,
    "start_time": "2023-06-25T10:17:37.769Z"
   },
   {
    "duration": 32,
    "start_time": "2023-06-25T10:17:51.483Z"
   },
   {
    "duration": 112,
    "start_time": "2023-06-25T10:18:02.011Z"
   },
   {
    "duration": 4,
    "start_time": "2023-06-25T10:18:05.255Z"
   },
   {
    "duration": 2,
    "start_time": "2023-06-25T10:18:07.579Z"
   },
   {
    "duration": 98,
    "start_time": "2023-06-25T10:24:09.511Z"
   },
   {
    "duration": 75,
    "start_time": "2023-06-30T10:28:43.441Z"
   },
   {
    "duration": 3013,
    "start_time": "2023-06-30T10:28:49.111Z"
   },
   {
    "duration": 3,
    "start_time": "2023-06-30T10:28:52.127Z"
   },
   {
    "duration": 9704,
    "start_time": "2023-06-30T10:28:54.246Z"
   },
   {
    "duration": 7,
    "start_time": "2023-06-30T10:29:20.211Z"
   },
   {
    "duration": 259,
    "start_time": "2023-06-30T10:30:48.630Z"
   },
   {
    "duration": 72,
    "start_time": "2023-06-30T10:30:55.330Z"
   },
   {
    "duration": 56,
    "start_time": "2023-06-30T10:31:01.898Z"
   },
   {
    "duration": 82,
    "start_time": "2023-06-30T13:05:09.030Z"
   },
   {
    "duration": 45,
    "start_time": "2023-06-30T13:06:02.192Z"
   },
   {
    "duration": 66,
    "start_time": "2023-06-30T13:06:38.392Z"
   },
   {
    "duration": 63,
    "start_time": "2023-06-30T13:06:54.799Z"
   },
   {
    "duration": 58,
    "start_time": "2023-06-30T13:07:17.536Z"
   },
   {
    "duration": 678,
    "start_time": "2023-06-30T13:20:36.936Z"
   },
   {
    "duration": 172,
    "start_time": "2023-06-30T13:20:41.595Z"
   },
   {
    "duration": 101,
    "start_time": "2023-06-30T13:21:07.596Z"
   },
   {
    "duration": 96,
    "start_time": "2023-06-30T13:21:20.300Z"
   },
   {
    "duration": 5350,
    "start_time": "2023-06-30T13:21:22.097Z"
   },
   {
    "duration": 116,
    "start_time": "2023-06-30T13:21:37.871Z"
   },
   {
    "duration": 110,
    "start_time": "2023-06-30T13:21:49.071Z"
   },
   {
    "duration": 114,
    "start_time": "2023-06-30T13:21:53.199Z"
   },
   {
    "duration": 112,
    "start_time": "2023-06-30T13:21:59.350Z"
   },
   {
    "duration": 99,
    "start_time": "2023-06-30T13:22:02.626Z"
   },
   {
    "duration": 102,
    "start_time": "2023-06-30T13:22:07.992Z"
   },
   {
    "duration": 100,
    "start_time": "2023-06-30T13:22:13.200Z"
   },
   {
    "duration": 100,
    "start_time": "2023-06-30T13:22:17.340Z"
   },
   {
    "duration": 92,
    "start_time": "2023-06-30T13:22:21.535Z"
   },
   {
    "duration": 103,
    "start_time": "2023-06-30T13:22:24.376Z"
   },
   {
    "duration": 92,
    "start_time": "2023-06-30T13:22:27.496Z"
   },
   {
    "duration": 3,
    "start_time": "2023-06-30T13:53:51.600Z"
   },
   {
    "duration": 350,
    "start_time": "2023-06-30T13:54:58.118Z"
   },
   {
    "duration": 345,
    "start_time": "2023-06-30T13:55:19.390Z"
   },
   {
    "duration": 1203,
    "start_time": "2023-06-30T13:55:34.834Z"
   },
   {
    "duration": 203,
    "start_time": "2023-06-30T13:58:36.924Z"
   },
   {
    "duration": 358,
    "start_time": "2023-06-30T13:58:41.595Z"
   },
   {
    "duration": 1615,
    "start_time": "2023-06-30T13:58:49.928Z"
   },
   {
    "duration": 1693,
    "start_time": "2023-06-30T13:59:16.952Z"
   },
   {
    "duration": 1749,
    "start_time": "2023-06-30T13:59:27.244Z"
   },
   {
    "duration": 1842,
    "start_time": "2023-06-30T14:01:19.744Z"
   },
   {
    "duration": 1983,
    "start_time": "2023-06-30T14:01:56.956Z"
   },
   {
    "duration": 2149,
    "start_time": "2023-06-30T14:02:01.047Z"
   },
   {
    "duration": 1939,
    "start_time": "2023-06-30T14:02:09.324Z"
   },
   {
    "duration": 1942,
    "start_time": "2023-06-30T14:02:17.302Z"
   },
   {
    "duration": 1727,
    "start_time": "2023-06-30T14:02:22.683Z"
   },
   {
    "duration": 1758,
    "start_time": "2023-06-30T14:03:05.203Z"
   },
   {
    "duration": 1895,
    "start_time": "2023-06-30T14:03:09.912Z"
   },
   {
    "duration": 4,
    "start_time": "2023-06-30T14:06:57.276Z"
   },
   {
    "duration": 2098,
    "start_time": "2023-06-30T14:07:08.800Z"
   },
   {
    "duration": 2510,
    "start_time": "2023-06-30T14:08:56.709Z"
   },
   {
    "duration": 158,
    "start_time": "2023-06-30T17:52:32.341Z"
   },
   {
    "duration": 276,
    "start_time": "2023-06-30T17:54:14.496Z"
   },
   {
    "duration": 264,
    "start_time": "2023-06-30T17:54:56.201Z"
   },
   {
    "duration": 146,
    "start_time": "2023-06-30T17:56:56.278Z"
   },
   {
    "duration": 149,
    "start_time": "2023-06-30T17:57:26.648Z"
   },
   {
    "duration": 133,
    "start_time": "2023-06-30T17:58:04.221Z"
   },
   {
    "duration": 142,
    "start_time": "2023-06-30T17:58:33.330Z"
   },
   {
    "duration": 142,
    "start_time": "2023-06-30T17:58:37.631Z"
   },
   {
    "duration": 129,
    "start_time": "2023-06-30T17:58:51.846Z"
   },
   {
    "duration": 162,
    "start_time": "2023-06-30T17:59:02.377Z"
   },
   {
    "duration": 135,
    "start_time": "2023-06-30T17:59:08.881Z"
   },
   {
    "duration": 158,
    "start_time": "2023-06-30T17:59:48.586Z"
   },
   {
    "duration": 143,
    "start_time": "2023-06-30T17:59:59.090Z"
   },
   {
    "duration": 157,
    "start_time": "2023-06-30T18:00:19.486Z"
   },
   {
    "duration": 192,
    "start_time": "2023-06-30T18:00:24.166Z"
   },
   {
    "duration": 148,
    "start_time": "2023-06-30T18:00:36.402Z"
   },
   {
    "duration": 423,
    "start_time": "2023-06-30T18:00:51.334Z"
   },
   {
    "duration": 143,
    "start_time": "2023-06-30T18:00:57.590Z"
   },
   {
    "duration": 187,
    "start_time": "2023-06-30T18:01:01.311Z"
   },
   {
    "duration": 231,
    "start_time": "2023-06-30T18:01:26.002Z"
   },
   {
    "duration": 156,
    "start_time": "2023-06-30T18:01:44.362Z"
   },
   {
    "duration": 267,
    "start_time": "2023-06-30T18:02:22.582Z"
   },
   {
    "duration": 142,
    "start_time": "2023-06-30T18:02:27.478Z"
   },
   {
    "duration": 152,
    "start_time": "2023-06-30T18:02:34.718Z"
   },
   {
    "duration": 131,
    "start_time": "2023-06-30T18:02:40.827Z"
   },
   {
    "duration": 147,
    "start_time": "2023-06-30T18:02:44.777Z"
   },
   {
    "duration": 168,
    "start_time": "2023-06-30T18:03:08.419Z"
   },
   {
    "duration": 281,
    "start_time": "2023-06-30T18:03:17.621Z"
   },
   {
    "duration": 309,
    "start_time": "2023-06-30T18:03:28.512Z"
   },
   {
    "duration": 208,
    "start_time": "2023-06-30T18:04:05.886Z"
   },
   {
    "duration": 153,
    "start_time": "2023-06-30T18:06:03.298Z"
   },
   {
    "duration": 178,
    "start_time": "2023-06-30T18:06:18.267Z"
   },
   {
    "duration": 136,
    "start_time": "2023-06-30T18:06:27.398Z"
   },
   {
    "duration": 146,
    "start_time": "2023-06-30T18:08:21.481Z"
   },
   {
    "duration": 518,
    "start_time": "2023-07-01T11:53:35.481Z"
   },
   {
    "duration": 498,
    "start_time": "2023-07-01T11:53:39.469Z"
   },
   {
    "duration": 638,
    "start_time": "2023-07-01T11:53:49.650Z"
   },
   {
    "duration": 489,
    "start_time": "2023-07-01T11:53:58.697Z"
   },
   {
    "duration": 500,
    "start_time": "2023-07-01T11:54:36.990Z"
   },
   {
    "duration": 492,
    "start_time": "2023-07-01T11:59:29.079Z"
   },
   {
    "duration": 106,
    "start_time": "2023-07-01T13:32:26.349Z"
   },
   {
    "duration": 91,
    "start_time": "2023-07-01T13:32:47.951Z"
   },
   {
    "duration": 90,
    "start_time": "2023-07-01T13:32:59.133Z"
   },
   {
    "duration": 284,
    "start_time": "2023-07-01T13:38:18.306Z"
   },
   {
    "duration": 499,
    "start_time": "2023-07-01T13:39:52.202Z"
   },
   {
    "duration": 614,
    "start_time": "2023-07-01T13:40:07.584Z"
   },
   {
    "duration": 578,
    "start_time": "2023-07-01T13:40:47.023Z"
   },
   {
    "duration": 307,
    "start_time": "2023-07-01T13:41:07.082Z"
   },
   {
    "duration": 598,
    "start_time": "2023-07-01T13:41:18.784Z"
   },
   {
    "duration": 711,
    "start_time": "2023-07-01T13:48:47.818Z"
   },
   {
    "duration": 586,
    "start_time": "2023-07-01T14:04:23.841Z"
   },
   {
    "duration": 489,
    "start_time": "2023-07-01T14:04:30.442Z"
   },
   {
    "duration": 4208,
    "start_time": "2023-07-01T14:07:27.779Z"
   },
   {
    "duration": 3943,
    "start_time": "2023-07-01T14:10:16.018Z"
   },
   {
    "duration": 3796,
    "start_time": "2023-07-01T14:10:29.088Z"
   },
   {
    "duration": 51217,
    "start_time": "2023-07-01T14:10:36.667Z"
   },
   {
    "duration": 345,
    "start_time": "2023-07-01T14:14:31.447Z"
   },
   {
    "duration": 304,
    "start_time": "2023-07-01T14:14:36.416Z"
   },
   {
    "duration": 312,
    "start_time": "2023-07-01T14:15:14.848Z"
   },
   {
    "duration": 309,
    "start_time": "2023-07-01T14:15:53.428Z"
   },
   {
    "duration": 557,
    "start_time": "2023-07-01T14:16:05.216Z"
   },
   {
    "duration": 328,
    "start_time": "2023-07-01T14:16:20.079Z"
   },
   {
    "duration": 319,
    "start_time": "2023-07-01T14:16:43.370Z"
   },
   {
    "duration": 319,
    "start_time": "2023-07-01T14:17:24.348Z"
   },
   {
    "duration": 561,
    "start_time": "2023-07-01T14:17:30.083Z"
   },
   {
    "duration": 578,
    "start_time": "2023-07-01T14:19:56.051Z"
   },
   {
    "duration": 588,
    "start_time": "2023-07-01T14:20:48.176Z"
   },
   {
    "duration": 3,
    "start_time": "2023-07-01T16:27:37.008Z"
   },
   {
    "duration": 3027,
    "start_time": "2023-07-01T16:27:55.276Z"
   },
   {
    "duration": 2633,
    "start_time": "2023-07-01T16:28:38.410Z"
   },
   {
    "duration": 448,
    "start_time": "2023-07-01T16:29:24.943Z"
   },
   {
    "duration": 4044,
    "start_time": "2023-07-01T16:32:27.958Z"
   },
   {
    "duration": 98,
    "start_time": "2023-07-01T16:40:53.387Z"
   },
   {
    "duration": 107,
    "start_time": "2023-07-01T16:41:35.694Z"
   },
   {
    "duration": 144,
    "start_time": "2023-07-01T16:43:13.161Z"
   },
   {
    "duration": 101,
    "start_time": "2023-07-01T16:43:29.888Z"
   },
   {
    "duration": 136,
    "start_time": "2023-07-01T16:43:38.333Z"
   },
   {
    "duration": 137,
    "start_time": "2023-07-01T16:43:42.026Z"
   },
   {
    "duration": 6411,
    "start_time": "2023-07-01T16:43:59.271Z"
   },
   {
    "duration": 6531,
    "start_time": "2023-07-01T16:45:13.091Z"
   },
   {
    "duration": 6602,
    "start_time": "2023-07-01T16:48:37.329Z"
   },
   {
    "duration": 6700,
    "start_time": "2023-07-01T16:50:29.289Z"
   },
   {
    "duration": 8447,
    "start_time": "2023-07-01T16:55:49.986Z"
   },
   {
    "duration": 8441,
    "start_time": "2023-07-01T16:57:02.453Z"
   },
   {
    "duration": 8497,
    "start_time": "2023-07-01T16:59:18.012Z"
   },
   {
    "duration": 8461,
    "start_time": "2023-07-01T16:59:55.909Z"
   },
   {
    "duration": 182,
    "start_time": "2023-07-01T17:00:25.259Z"
   },
   {
    "duration": 5201,
    "start_time": "2023-07-01T17:00:35.157Z"
   },
   {
    "duration": 8371,
    "start_time": "2023-07-01T17:01:33.833Z"
   },
   {
    "duration": 8381,
    "start_time": "2023-07-01T17:01:55.694Z"
   },
   {
    "duration": 7863,
    "start_time": "2023-07-01T17:03:59.572Z"
   },
   {
    "duration": 8461,
    "start_time": "2023-07-01T17:04:39.834Z"
   },
   {
    "duration": 8459,
    "start_time": "2023-07-01T17:05:18.150Z"
   },
   {
    "duration": 8269,
    "start_time": "2023-07-01T17:05:58.842Z"
   },
   {
    "duration": 8553,
    "start_time": "2023-07-01T17:06:24.094Z"
   },
   {
    "duration": 8364,
    "start_time": "2023-07-01T17:07:25.031Z"
   },
   {
    "duration": 8172,
    "start_time": "2023-07-01T17:08:29.968Z"
   },
   {
    "duration": 9243,
    "start_time": "2023-07-01T17:08:47.624Z"
   },
   {
    "duration": 3066,
    "start_time": "2023-07-01T17:10:59.708Z"
   },
   {
    "duration": 582,
    "start_time": "2023-07-01T17:12:10.855Z"
   },
   {
    "duration": 477,
    "start_time": "2023-07-01T17:12:37.968Z"
   },
   {
    "duration": 582,
    "start_time": "2023-07-01T17:13:03.576Z"
   },
   {
    "duration": 482,
    "start_time": "2023-07-01T17:13:12.526Z"
   },
   {
    "duration": 520,
    "start_time": "2023-07-01T17:13:29.803Z"
   },
   {
    "duration": 74,
    "start_time": "2023-07-02T11:33:45.206Z"
   },
   {
    "duration": 3086,
    "start_time": "2023-07-02T11:33:50.210Z"
   },
   {
    "duration": 3,
    "start_time": "2023-07-02T11:33:53.298Z"
   },
   {
    "duration": 9362,
    "start_time": "2023-07-02T11:33:53.303Z"
   },
   {
    "duration": 78,
    "start_time": "2023-07-02T11:34:02.671Z"
   },
   {
    "duration": 31,
    "start_time": "2023-07-02T11:34:02.751Z"
   },
   {
    "duration": 28,
    "start_time": "2023-07-02T11:34:02.785Z"
   },
   {
    "duration": 15,
    "start_time": "2023-07-02T11:34:02.814Z"
   },
   {
    "duration": 1576,
    "start_time": "2023-07-02T11:34:02.831Z"
   },
   {
    "duration": 507,
    "start_time": "2023-07-02T11:34:04.409Z"
   },
   {
    "duration": 712,
    "start_time": "2023-07-02T11:34:04.919Z"
   },
   {
    "duration": 645,
    "start_time": "2023-07-02T11:34:05.633Z"
   },
   {
    "duration": 3018,
    "start_time": "2023-07-02T11:34:06.280Z"
   },
   {
    "duration": 8601,
    "start_time": "2023-07-02T11:34:09.300Z"
   },
   {
    "duration": 14479,
    "start_time": "2023-07-02T11:34:17.903Z"
   },
   {
    "duration": 625,
    "start_time": "2023-07-02T11:34:43.997Z"
   },
   {
    "duration": 11178,
    "start_time": "2023-07-02T11:37:21.619Z"
   },
   {
    "duration": 217,
    "start_time": "2023-07-02T11:37:39.457Z"
   },
   {
    "duration": 14748,
    "start_time": "2023-07-02T11:38:25.497Z"
   },
   {
    "duration": 619,
    "start_time": "2023-07-02T11:40:26.138Z"
   },
   {
    "duration": 638,
    "start_time": "2023-07-02T11:42:36.450Z"
   },
   {
    "duration": 240,
    "start_time": "2023-07-02T11:43:33.471Z"
   },
   {
    "duration": 101,
    "start_time": "2023-07-02T11:44:01.619Z"
   },
   {
    "duration": 96,
    "start_time": "2023-07-02T11:44:11.595Z"
   },
   {
    "duration": 110,
    "start_time": "2023-07-02T11:44:35.801Z"
   },
   {
    "duration": 110,
    "start_time": "2023-07-02T11:45:17.590Z"
   },
   {
    "duration": 110,
    "start_time": "2023-07-02T11:45:35.737Z"
   },
   {
    "duration": 105,
    "start_time": "2023-07-02T11:48:12.081Z"
   },
   {
    "duration": 156,
    "start_time": "2023-07-02T11:48:44.150Z"
   },
   {
    "duration": 126,
    "start_time": "2023-07-02T11:48:59.803Z"
   },
   {
    "duration": 178,
    "start_time": "2023-07-02T11:49:09.927Z"
   },
   {
    "duration": 140,
    "start_time": "2023-07-02T11:49:20.995Z"
   },
   {
    "duration": 148,
    "start_time": "2023-07-02T11:49:26.055Z"
   },
   {
    "duration": 13414,
    "start_time": "2023-07-02T11:51:16.533Z"
   },
   {
    "duration": 98,
    "start_time": "2023-07-02T11:51:56.508Z"
   },
   {
    "duration": 61,
    "start_time": "2023-07-02T11:52:21.172Z"
   },
   {
    "duration": 64,
    "start_time": "2023-07-02T11:52:59.608Z"
   },
   {
    "duration": 68,
    "start_time": "2023-07-02T11:53:05.531Z"
   },
   {
    "duration": 1423,
    "start_time": "2023-07-02T11:53:56.482Z"
   },
   {
    "duration": 1318,
    "start_time": "2023-07-02T11:54:54.976Z"
   },
   {
    "duration": 75,
    "start_time": "2023-07-02T11:55:01.678Z"
   },
   {
    "duration": 1398,
    "start_time": "2023-07-02T11:55:08.232Z"
   },
   {
    "duration": 1383,
    "start_time": "2023-07-02T11:55:17.628Z"
   },
   {
    "duration": 1426,
    "start_time": "2023-07-02T11:55:29.264Z"
   },
   {
    "duration": 699,
    "start_time": "2023-07-02T12:00:28.610Z"
   },
   {
    "duration": 774,
    "start_time": "2023-07-02T12:00:38.323Z"
   },
   {
    "duration": 804,
    "start_time": "2023-07-02T12:00:42.425Z"
   },
   {
    "duration": 826,
    "start_time": "2023-07-02T12:00:46.256Z"
   },
   {
    "duration": 804,
    "start_time": "2023-07-02T12:00:53.195Z"
   },
   {
    "duration": 26,
    "start_time": "2023-07-02T12:02:23.922Z"
   },
   {
    "duration": 50,
    "start_time": "2023-07-02T12:02:27.628Z"
   },
   {
    "duration": 786,
    "start_time": "2023-07-02T12:02:55.254Z"
   },
   {
    "duration": 40,
    "start_time": "2023-07-02T12:02:57.423Z"
   },
   {
    "duration": 35,
    "start_time": "2023-07-02T12:02:59.808Z"
   },
   {
    "duration": 1040,
    "start_time": "2023-07-02T12:03:32.280Z"
   },
   {
    "duration": 30,
    "start_time": "2023-07-02T12:03:36.620Z"
   },
   {
    "duration": 766,
    "start_time": "2023-07-02T12:06:02.704Z"
   },
   {
    "duration": 826,
    "start_time": "2023-07-02T12:06:18.538Z"
   },
   {
    "duration": 940,
    "start_time": "2023-07-02T12:06:26.649Z"
   },
   {
    "duration": 942,
    "start_time": "2023-07-02T12:06:47.451Z"
   },
   {
    "duration": 10206,
    "start_time": "2023-07-02T12:07:20.308Z"
   },
   {
    "duration": 62,
    "start_time": "2023-07-02T12:09:52.299Z"
   },
   {
    "duration": 4123,
    "start_time": "2023-07-02T12:09:58.608Z"
   },
   {
    "duration": 3,
    "start_time": "2023-07-02T12:10:02.733Z"
   },
   {
    "duration": 10297,
    "start_time": "2023-07-02T12:10:02.738Z"
   },
   {
    "duration": 81,
    "start_time": "2023-07-02T12:10:13.038Z"
   },
   {
    "duration": 13,
    "start_time": "2023-07-02T12:10:13.120Z"
   },
   {
    "duration": 30,
    "start_time": "2023-07-02T12:10:13.135Z"
   },
   {
    "duration": 43,
    "start_time": "2023-07-02T12:10:13.167Z"
   },
   {
    "duration": 1633,
    "start_time": "2023-07-02T12:10:13.212Z"
   },
   {
    "duration": 569,
    "start_time": "2023-07-02T12:10:14.861Z"
   },
   {
    "duration": 731,
    "start_time": "2023-07-02T12:10:15.433Z"
   },
   {
    "duration": 705,
    "start_time": "2023-07-02T12:10:16.172Z"
   },
   {
    "duration": 6665,
    "start_time": "2023-07-02T12:10:16.893Z"
   },
   {
    "duration": 8668,
    "start_time": "2023-07-02T12:10:23.563Z"
   },
   {
    "duration": 261,
    "start_time": "2023-07-02T12:10:32.232Z"
   },
   {
    "duration": 1833,
    "start_time": "2023-07-02T12:10:39.886Z"
   },
   {
    "duration": 302,
    "start_time": "2023-07-02T12:10:56.452Z"
   },
   {
    "duration": 2325,
    "start_time": "2023-07-02T12:11:52.194Z"
   },
   {
    "duration": 293,
    "start_time": "2023-07-02T12:11:57.871Z"
   },
   {
    "duration": 12465,
    "start_time": "2023-07-02T12:12:35.387Z"
   },
   {
    "duration": 10420,
    "start_time": "2023-07-02T12:13:00.112Z"
   },
   {
    "duration": 10262,
    "start_time": "2023-07-02T12:13:24.718Z"
   },
   {
    "duration": 12776,
    "start_time": "2023-07-02T12:13:39.501Z"
   },
   {
    "duration": 123,
    "start_time": "2023-07-02T12:17:02.622Z"
   },
   {
    "duration": 141,
    "start_time": "2023-07-02T12:17:17.988Z"
   },
   {
    "duration": 7255,
    "start_time": "2023-07-02T12:19:39.580Z"
   },
   {
    "duration": 24968,
    "start_time": "2023-07-02T12:21:21.338Z"
   },
   {
    "duration": 30062,
    "start_time": "2023-07-02T12:22:11.475Z"
   },
   {
    "duration": 7493,
    "start_time": "2023-07-02T13:01:13.086Z"
   },
   {
    "duration": 25715,
    "start_time": "2023-07-02T13:01:42.015Z"
   },
   {
    "duration": 177,
    "start_time": "2023-07-02T13:04:04.585Z"
   },
   {
    "duration": 18116,
    "start_time": "2023-07-02T13:04:11.130Z"
   },
   {
    "duration": 6025,
    "start_time": "2023-07-02T13:05:00.772Z"
   },
   {
    "duration": 5723,
    "start_time": "2023-07-02T13:13:26.582Z"
   },
   {
    "duration": 17731,
    "start_time": "2023-07-02T13:13:45.105Z"
   },
   {
    "duration": 43444,
    "start_time": "2023-07-02T13:15:35.853Z"
   },
   {
    "duration": 9669,
    "start_time": "2023-07-02T13:17:29.118Z"
   },
   {
    "duration": 6601,
    "start_time": "2023-07-02T13:22:26.021Z"
   },
   {
    "duration": 17608,
    "start_time": "2023-07-02T13:23:28.012Z"
   },
   {
    "duration": 17821,
    "start_time": "2023-07-02T13:25:37.950Z"
   },
   {
    "duration": 5048,
    "start_time": "2023-07-02T13:26:37.388Z"
   },
   {
    "duration": 5673,
    "start_time": "2023-07-02T13:28:00.033Z"
   },
   {
    "duration": 66,
    "start_time": "2023-07-02T13:30:42.533Z"
   },
   {
    "duration": 6916,
    "start_time": "2023-07-02T13:30:48.008Z"
   },
   {
    "duration": 5,
    "start_time": "2023-07-02T13:30:54.927Z"
   },
   {
    "duration": 9765,
    "start_time": "2023-07-02T13:30:54.934Z"
   },
   {
    "duration": 125,
    "start_time": "2023-07-02T13:31:04.701Z"
   },
   {
    "duration": 14,
    "start_time": "2023-07-02T13:31:04.828Z"
   },
   {
    "duration": 37,
    "start_time": "2023-07-02T13:31:04.844Z"
   },
   {
    "duration": 22,
    "start_time": "2023-07-02T13:31:04.893Z"
   },
   {
    "duration": 1743,
    "start_time": "2023-07-02T13:31:04.917Z"
   },
   {
    "duration": 570,
    "start_time": "2023-07-02T13:31:06.663Z"
   },
   {
    "duration": 793,
    "start_time": "2023-07-02T13:31:07.235Z"
   },
   {
    "duration": 689,
    "start_time": "2023-07-02T13:31:08.030Z"
   },
   {
    "duration": 3042,
    "start_time": "2023-07-02T13:31:08.721Z"
   },
   {
    "duration": 8636,
    "start_time": "2023-07-02T13:31:11.765Z"
   },
   {
    "duration": 25533,
    "start_time": "2023-07-02T13:31:20.408Z"
   },
   {
    "duration": 8765,
    "start_time": "2023-07-02T13:32:52.958Z"
   },
   {
    "duration": 4,
    "start_time": "2023-07-02T13:33:01.725Z"
   },
   {
    "duration": 10216,
    "start_time": "2023-07-02T13:33:01.732Z"
   },
   {
    "duration": 185,
    "start_time": "2023-07-02T13:33:11.950Z"
   },
   {
    "duration": 19,
    "start_time": "2023-07-02T13:33:12.138Z"
   },
   {
    "duration": 67,
    "start_time": "2023-07-02T13:33:12.162Z"
   },
   {
    "duration": 23,
    "start_time": "2023-07-02T13:33:12.232Z"
   },
   {
    "duration": 1688,
    "start_time": "2023-07-02T13:33:12.258Z"
   },
   {
    "duration": 544,
    "start_time": "2023-07-02T13:33:13.948Z"
   },
   {
    "duration": 870,
    "start_time": "2023-07-02T13:33:14.494Z"
   },
   {
    "duration": 764,
    "start_time": "2023-07-02T13:33:15.367Z"
   },
   {
    "duration": 3063,
    "start_time": "2023-07-02T13:33:16.134Z"
   },
   {
    "duration": 8658,
    "start_time": "2023-07-02T13:33:19.199Z"
   },
   {
    "duration": 31240,
    "start_time": "2023-07-02T13:33:27.870Z"
   },
   {
    "duration": 3545,
    "start_time": "2023-07-03T06:33:03.950Z"
   },
   {
    "duration": 4,
    "start_time": "2023-07-03T06:33:07.502Z"
   },
   {
    "duration": 10187,
    "start_time": "2023-07-03T06:33:07.508Z"
   },
   {
    "duration": 125,
    "start_time": "2023-07-03T06:33:17.698Z"
   },
   {
    "duration": 19,
    "start_time": "2023-07-03T06:33:17.825Z"
   },
   {
    "duration": 46,
    "start_time": "2023-07-03T06:33:17.847Z"
   },
   {
    "duration": 24,
    "start_time": "2023-07-03T06:33:17.895Z"
   },
   {
    "duration": 1653,
    "start_time": "2023-07-03T06:33:17.921Z"
   },
   {
    "duration": 614,
    "start_time": "2023-07-03T06:33:19.578Z"
   },
   {
    "duration": 684,
    "start_time": "2023-07-03T06:33:20.195Z"
   },
   {
    "duration": 726,
    "start_time": "2023-07-03T06:33:20.881Z"
   },
   {
    "duration": 3070,
    "start_time": "2023-07-03T06:33:21.609Z"
   },
   {
    "duration": 8695,
    "start_time": "2023-07-03T06:33:24.681Z"
   },
   {
    "duration": 0,
    "start_time": "2023-07-03T06:33:33.379Z"
   },
   {
    "duration": 0,
    "start_time": "2023-07-03T06:33:33.381Z"
   },
   {
    "duration": 9636,
    "start_time": "2023-07-03T06:33:38.450Z"
   },
   {
    "duration": 3515,
    "start_time": "2023-07-03T06:35:11.818Z"
   },
   {
    "duration": 4,
    "start_time": "2023-07-03T06:35:15.336Z"
   },
   {
    "duration": 10394,
    "start_time": "2023-07-03T06:35:15.343Z"
   },
   {
    "duration": 82,
    "start_time": "2023-07-03T06:36:12.308Z"
   },
   {
    "duration": 3213,
    "start_time": "2023-07-03T06:36:16.766Z"
   },
   {
    "duration": 8,
    "start_time": "2023-07-03T06:36:19.982Z"
   },
   {
    "duration": 9909,
    "start_time": "2023-07-03T06:36:20.549Z"
   },
   {
    "duration": 8063,
    "start_time": "2023-07-03T06:36:31.711Z"
   },
   {
    "duration": 240,
    "start_time": "2023-07-03T06:45:50.024Z"
   },
   {
    "duration": 15916,
    "start_time": "2023-07-03T06:46:08.833Z"
   },
   {
    "duration": 11097,
    "start_time": "2023-07-03T06:48:01.503Z"
   },
   {
    "duration": 11987,
    "start_time": "2023-07-03T06:49:08.440Z"
   },
   {
    "duration": 108,
    "start_time": "2023-07-03T06:50:22.742Z"
   },
   {
    "duration": 1402,
    "start_time": "2023-07-03T06:50:35.903Z"
   },
   {
    "duration": 1130,
    "start_time": "2023-07-03T06:51:06.985Z"
   },
   {
    "duration": 19,
    "start_time": "2023-07-03T06:51:31.551Z"
   },
   {
    "duration": 15,
    "start_time": "2023-07-03T06:51:57.500Z"
   },
   {
    "duration": 112,
    "start_time": "2023-07-03T06:52:48.621Z"
   },
   {
    "duration": 0,
    "start_time": "2023-07-03T06:52:48.735Z"
   },
   {
    "duration": 114,
    "start_time": "2023-07-03T06:52:59.031Z"
   },
   {
    "duration": 1372,
    "start_time": "2023-07-03T06:53:14.904Z"
   },
   {
    "duration": 13,
    "start_time": "2023-07-03T06:53:32.721Z"
   },
   {
    "duration": 199,
    "start_time": "2023-07-03T06:54:58.892Z"
   },
   {
    "duration": 156,
    "start_time": "2023-07-03T06:55:09.095Z"
   },
   {
    "duration": 13,
    "start_time": "2023-07-03T06:55:21.420Z"
   },
   {
    "duration": 1212,
    "start_time": "2023-07-03T06:56:04.940Z"
   },
   {
    "duration": 16,
    "start_time": "2023-07-03T06:56:09.499Z"
   },
   {
    "duration": 885,
    "start_time": "2023-07-03T06:58:19.630Z"
   },
   {
    "duration": 23,
    "start_time": "2023-07-03T06:58:23.092Z"
   },
   {
    "duration": 1700,
    "start_time": "2023-07-03T06:59:19.503Z"
   },
   {
    "duration": 22,
    "start_time": "2023-07-03T06:59:24.264Z"
   },
   {
    "duration": 897,
    "start_time": "2023-07-03T06:59:47.548Z"
   },
   {
    "duration": 27,
    "start_time": "2023-07-03T06:59:50.905Z"
   },
   {
    "duration": 2040,
    "start_time": "2023-07-03T07:00:05.349Z"
   },
   {
    "duration": 23,
    "start_time": "2023-07-03T07:00:10.218Z"
   },
   {
    "duration": 1630,
    "start_time": "2023-07-03T07:00:28.050Z"
   },
   {
    "duration": 28,
    "start_time": "2023-07-03T07:00:32.086Z"
   },
   {
    "duration": 851,
    "start_time": "2023-07-03T07:01:25.581Z"
   },
   {
    "duration": 16,
    "start_time": "2023-07-03T07:01:30.586Z"
   },
   {
    "duration": 30,
    "start_time": "2023-07-03T07:01:56.748Z"
   },
   {
    "duration": 13,
    "start_time": "2023-07-03T07:02:03.998Z"
   },
   {
    "duration": 13,
    "start_time": "2023-07-03T07:02:09.417Z"
   },
   {
    "duration": 13,
    "start_time": "2023-07-03T07:02:31.538Z"
   },
   {
    "duration": 15,
    "start_time": "2023-07-03T07:02:36.331Z"
   },
   {
    "duration": 9402,
    "start_time": "2023-07-03T07:07:51.008Z"
   },
   {
    "duration": 60,
    "start_time": "2023-07-03T07:08:13.193Z"
   },
   {
    "duration": 61,
    "start_time": "2023-07-03T07:10:35.911Z"
   },
   {
    "duration": 9245,
    "start_time": "2023-07-03T07:14:28.366Z"
   },
   {
    "duration": 38,
    "start_time": "2023-07-03T07:15:09.428Z"
   },
   {
    "duration": 55,
    "start_time": "2023-07-03T07:15:16.543Z"
   },
   {
    "duration": 9772,
    "start_time": "2023-07-03T07:17:14.300Z"
   },
   {
    "duration": 35,
    "start_time": "2023-07-03T07:17:27.400Z"
   },
   {
    "duration": 9531,
    "start_time": "2023-07-03T07:18:12.882Z"
   },
   {
    "duration": 37,
    "start_time": "2023-07-03T07:19:11.586Z"
   },
   {
    "duration": 5,
    "start_time": "2023-07-03T07:20:03.409Z"
   },
   {
    "duration": 5,
    "start_time": "2023-07-03T07:20:21.002Z"
   },
   {
    "duration": 7,
    "start_time": "2023-07-03T07:20:50.773Z"
   },
   {
    "duration": 6,
    "start_time": "2023-07-03T07:21:13.114Z"
   },
   {
    "duration": 5,
    "start_time": "2023-07-03T07:21:21.306Z"
   },
   {
    "duration": 11,
    "start_time": "2023-07-03T07:21:35.951Z"
   },
   {
    "duration": 5,
    "start_time": "2023-07-03T07:21:45.583Z"
   },
   {
    "duration": 6,
    "start_time": "2023-07-03T07:22:18.845Z"
   },
   {
    "duration": 9,
    "start_time": "2023-07-03T07:22:29.251Z"
   },
   {
    "duration": 6,
    "start_time": "2023-07-03T07:22:42.130Z"
   },
   {
    "duration": 12,
    "start_time": "2023-07-03T07:22:54.052Z"
   },
   {
    "duration": 7,
    "start_time": "2023-07-03T07:23:07.099Z"
   },
   {
    "duration": 6,
    "start_time": "2023-07-03T07:23:44.007Z"
   },
   {
    "duration": 5,
    "start_time": "2023-07-03T07:24:01.533Z"
   },
   {
    "duration": 8479,
    "start_time": "2023-07-03T07:25:24.000Z"
   },
   {
    "duration": 44,
    "start_time": "2023-07-03T07:26:04.298Z"
   },
   {
    "duration": 143,
    "start_time": "2023-07-03T07:57:20.906Z"
   },
   {
    "duration": 159,
    "start_time": "2023-07-03T07:57:33.030Z"
   },
   {
    "duration": 1250,
    "start_time": "2023-07-03T07:58:09.851Z"
   },
   {
    "duration": 1014,
    "start_time": "2023-07-03T07:59:47.526Z"
   },
   {
    "duration": 47,
    "start_time": "2023-07-03T08:00:10.318Z"
   },
   {
    "duration": 138,
    "start_time": "2023-07-03T08:01:30.696Z"
   },
   {
    "duration": 16,
    "start_time": "2023-07-03T08:02:19.704Z"
   },
   {
    "duration": 16,
    "start_time": "2023-07-03T08:02:24.040Z"
   },
   {
    "duration": 76,
    "start_time": "2023-07-03T08:02:30.046Z"
   },
   {
    "duration": 61,
    "start_time": "2023-07-03T08:02:35.974Z"
   },
   {
    "duration": 29,
    "start_time": "2023-07-03T08:03:26.248Z"
   },
   {
    "duration": 13,
    "start_time": "2023-07-03T08:05:18.525Z"
   },
   {
    "duration": 19,
    "start_time": "2023-07-03T08:08:31.369Z"
   },
   {
    "duration": 24653,
    "start_time": "2023-07-03T08:08:52.194Z"
   },
   {
    "duration": 77,
    "start_time": "2023-07-03T08:18:04.433Z"
   },
   {
    "duration": 10858,
    "start_time": "2023-07-03T08:18:10.922Z"
   },
   {
    "duration": 4,
    "start_time": "2023-07-03T08:18:21.782Z"
   },
   {
    "duration": 7756,
    "start_time": "2023-07-03T08:18:21.788Z"
   },
   {
    "duration": 1197,
    "start_time": "2023-07-03T08:18:31.240Z"
   },
   {
    "duration": 50,
    "start_time": "2023-07-03T08:18:34.213Z"
   },
   {
    "duration": 114,
    "start_time": "2023-07-03T08:18:34.455Z"
   },
   {
    "duration": 3,
    "start_time": "2023-07-03T08:18:34.696Z"
   },
   {
    "duration": 61,
    "start_time": "2023-07-03T08:18:39.022Z"
   },
   {
    "duration": 28,
    "start_time": "2023-07-03T08:18:40.268Z"
   },
   {
    "duration": 27,
    "start_time": "2023-07-03T08:18:54.022Z"
   },
   {
    "duration": 35,
    "start_time": "2023-07-03T08:20:16.308Z"
   },
   {
    "duration": 69,
    "start_time": "2023-07-03T08:20:29.808Z"
   },
   {
    "duration": 1360,
    "start_time": "2023-07-03T08:20:35.830Z"
   },
   {
    "duration": 1193,
    "start_time": "2023-07-03T08:20:46.404Z"
   },
   {
    "duration": 8,
    "start_time": "2023-07-03T08:21:14.529Z"
   },
   {
    "duration": 9,
    "start_time": "2023-07-03T08:21:24.834Z"
   },
   {
    "duration": 7,
    "start_time": "2023-07-03T08:21:27.974Z"
   },
   {
    "duration": 11,
    "start_time": "2023-07-03T08:21:32.211Z"
   },
   {
    "duration": 7,
    "start_time": "2023-07-03T08:21:35.875Z"
   },
   {
    "duration": 31,
    "start_time": "2023-07-03T08:22:02.340Z"
   },
   {
    "duration": 12,
    "start_time": "2023-07-03T08:22:21.473Z"
   },
   {
    "duration": 18,
    "start_time": "2023-07-03T08:22:25.203Z"
   },
   {
    "duration": 18,
    "start_time": "2023-07-03T08:22:54.131Z"
   },
   {
    "duration": 43,
    "start_time": "2023-07-03T08:23:24.829Z"
   },
   {
    "duration": 15,
    "start_time": "2023-07-03T08:24:11.000Z"
   },
   {
    "duration": 1007,
    "start_time": "2023-07-03T08:38:02.053Z"
   },
   {
    "duration": 46,
    "start_time": "2023-07-03T08:38:04.394Z"
   },
   {
    "duration": 78,
    "start_time": "2023-07-03T08:38:06.575Z"
   },
   {
    "duration": 912,
    "start_time": "2023-07-03T08:38:56.727Z"
   },
   {
    "duration": 65,
    "start_time": "2023-07-03T08:38:58.329Z"
   },
   {
    "duration": 111,
    "start_time": "2023-07-03T08:38:59.996Z"
   },
   {
    "duration": 3,
    "start_time": "2023-07-03T08:39:01.110Z"
   },
   {
    "duration": 59,
    "start_time": "2023-07-03T08:39:02.312Z"
   },
   {
    "duration": 39,
    "start_time": "2023-07-03T08:39:06.697Z"
   },
   {
    "duration": 1114,
    "start_time": "2023-07-03T08:39:25.448Z"
   },
   {
    "duration": 61,
    "start_time": "2023-07-03T08:39:26.564Z"
   },
   {
    "duration": 112,
    "start_time": "2023-07-03T08:39:27.310Z"
   },
   {
    "duration": 4,
    "start_time": "2023-07-03T08:39:27.647Z"
   },
   {
    "duration": 63,
    "start_time": "2023-07-03T08:39:28.554Z"
   },
   {
    "duration": 28,
    "start_time": "2023-07-03T08:42:50.391Z"
   },
   {
    "duration": 49,
    "start_time": "2023-07-03T08:43:04.907Z"
   },
   {
    "duration": 1066,
    "start_time": "2023-07-03T08:43:21.530Z"
   },
   {
    "duration": 60,
    "start_time": "2023-07-03T08:43:23.448Z"
   },
   {
    "duration": 96,
    "start_time": "2023-07-03T08:43:24.528Z"
   },
   {
    "duration": 3,
    "start_time": "2023-07-03T08:43:25.590Z"
   },
   {
    "duration": 64,
    "start_time": "2023-07-03T08:43:26.809Z"
   },
   {
    "duration": 27,
    "start_time": "2023-07-03T08:43:28.413Z"
   },
   {
    "duration": 14,
    "start_time": "2023-07-03T08:43:31.384Z"
   },
   {
    "duration": 69,
    "start_time": "2023-07-03T08:43:53.427Z"
   },
   {
    "duration": 15168,
    "start_time": "2023-07-03T08:44:49.819Z"
   },
   {
    "duration": 8,
    "start_time": "2023-07-03T08:51:38.443Z"
   },
   {
    "duration": 52,
    "start_time": "2023-07-03T08:54:36.534Z"
   },
   {
    "duration": 47,
    "start_time": "2023-07-03T08:57:17.592Z"
   },
   {
    "duration": 4,
    "start_time": "2023-07-03T08:57:19.111Z"
   },
   {
    "duration": 4,
    "start_time": "2023-07-03T10:53:25.220Z"
   },
   {
    "duration": 25,
    "start_time": "2023-07-03T10:57:41.731Z"
   },
   {
    "duration": 3612,
    "start_time": "2023-07-03T10:58:28.167Z"
   },
   {
    "duration": 3546,
    "start_time": "2023-07-03T10:59:26.728Z"
   },
   {
    "duration": 54,
    "start_time": "2023-07-03T10:59:33.886Z"
   },
   {
    "duration": 4463,
    "start_time": "2023-07-03T11:04:41.001Z"
   },
   {
    "duration": 51,
    "start_time": "2023-07-03T11:06:17.053Z"
   },
   {
    "duration": 3014,
    "start_time": "2023-07-03T11:06:39.806Z"
   },
   {
    "duration": 5,
    "start_time": "2023-07-03T11:06:52.700Z"
   },
   {
    "duration": 35,
    "start_time": "2023-07-03T11:09:59.532Z"
   },
   {
    "duration": 3065,
    "start_time": "2023-07-03T11:10:22.246Z"
   },
   {
    "duration": 6,
    "start_time": "2023-07-03T11:10:34.703Z"
   },
   {
    "duration": 30,
    "start_time": "2023-07-03T11:11:36.521Z"
   },
   {
    "duration": 22,
    "start_time": "2023-07-03T11:11:44.087Z"
   },
   {
    "duration": 23,
    "start_time": "2023-07-03T11:12:00.240Z"
   },
   {
    "duration": 4,
    "start_time": "2023-07-03T11:12:07.045Z"
   },
   {
    "duration": 20628,
    "start_time": "2023-07-03T11:15:43.800Z"
   },
   {
    "duration": 5,
    "start_time": "2023-07-03T11:16:11.202Z"
   },
   {
    "duration": 7621,
    "start_time": "2023-07-03T11:30:04.936Z"
   },
   {
    "duration": 15,
    "start_time": "2023-07-03T11:30:12.571Z"
   },
   {
    "duration": 12650,
    "start_time": "2023-07-03T11:30:12.594Z"
   },
   {
    "duration": 1134,
    "start_time": "2023-07-03T11:30:28.644Z"
   },
   {
    "duration": 89,
    "start_time": "2023-07-03T11:30:30.842Z"
   },
   {
    "duration": 91,
    "start_time": "2023-07-03T11:30:32.476Z"
   },
   {
    "duration": 46,
    "start_time": "2023-07-03T11:30:33.403Z"
   },
   {
    "duration": 21,
    "start_time": "2023-07-03T11:30:34.391Z"
   },
   {
    "duration": 15,
    "start_time": "2023-07-03T11:30:35.342Z"
   },
   {
    "duration": 50,
    "start_time": "2023-07-03T11:30:38.591Z"
   },
   {
    "duration": 3,
    "start_time": "2023-07-03T11:30:40.393Z"
   },
   {
    "duration": 8,
    "start_time": "2023-07-03T11:30:41.991Z"
   },
   {
    "duration": 63,
    "start_time": "2023-07-03T11:30:44.123Z"
   },
   {
    "duration": 3,
    "start_time": "2023-07-03T11:30:45.102Z"
   },
   {
    "duration": 35,
    "start_time": "2023-07-03T11:30:45.992Z"
   },
   {
    "duration": 45,
    "start_time": "2023-07-03T11:31:10.088Z"
   },
   {
    "duration": 5,
    "start_time": "2023-07-03T11:31:29.022Z"
   },
   {
    "duration": 2195658,
    "start_time": "2023-07-03T11:31:52.727Z"
   },
   {
    "duration": 211,
    "start_time": "2023-07-03T12:12:40.599Z"
   },
   {
    "duration": 33,
    "start_time": "2023-07-03T12:13:47.811Z"
   },
   {
    "duration": 12,
    "start_time": "2023-07-03T12:13:49.102Z"
   },
   {
    "duration": 38,
    "start_time": "2023-07-03T12:13:50.004Z"
   },
   {
    "duration": 2,
    "start_time": "2023-07-03T12:13:51.101Z"
   },
   {
    "duration": 7,
    "start_time": "2023-07-03T12:13:51.633Z"
   },
   {
    "duration": 39,
    "start_time": "2023-07-03T12:14:10.205Z"
   },
   {
    "duration": 4,
    "start_time": "2023-07-03T12:14:10.724Z"
   },
   {
    "duration": 36,
    "start_time": "2023-07-03T12:14:11.802Z"
   },
   {
    "duration": 4,
    "start_time": "2023-07-03T12:14:16.216Z"
   },
   {
    "duration": 838699,
    "start_time": "2023-07-03T12:14:18.499Z"
   },
   {
    "duration": 216,
    "start_time": "2023-07-03T12:28:35.303Z"
   },
   {
    "duration": 334,
    "start_time": "2023-07-03T12:30:35.101Z"
   },
   {
    "duration": 4,
    "start_time": "2023-07-03T12:31:10.837Z"
   },
   {
    "duration": 104,
    "start_time": "2023-07-03T12:32:13.220Z"
   },
   {
    "duration": 4724,
    "start_time": "2023-07-03T12:35:04.795Z"
   },
   {
    "duration": 5,
    "start_time": "2023-07-03T12:37:51.937Z"
   },
   {
    "duration": 66141,
    "start_time": "2023-07-03T12:39:57.794Z"
   },
   {
    "duration": 65908,
    "start_time": "2023-07-03T12:41:52.711Z"
   },
   {
    "duration": 164282,
    "start_time": "2023-07-03T12:44:03.875Z"
   },
   {
    "duration": 5,
    "start_time": "2023-07-03T12:46:58.497Z"
   },
   {
    "duration": 279043,
    "start_time": "2023-07-03T12:47:00.191Z"
   },
   {
    "duration": 612,
    "start_time": "2023-07-03T12:54:13.727Z"
   },
   {
    "duration": 237,
    "start_time": "2023-07-03T12:55:32.159Z"
   },
   {
    "duration": 153,
    "start_time": "2023-07-03T12:58:41.364Z"
   },
   {
    "duration": 88,
    "start_time": "2023-07-03T12:58:58.352Z"
   },
   {
    "duration": 99,
    "start_time": "2023-07-03T13:02:44.524Z"
   },
   {
    "duration": 103,
    "start_time": "2023-07-03T13:02:46.973Z"
   },
   {
    "duration": 165,
    "start_time": "2023-07-03T13:03:18.250Z"
   },
   {
    "duration": 1430,
    "start_time": "2023-07-03T13:04:28.171Z"
   },
   {
    "duration": 63,
    "start_time": "2023-07-03T13:04:38.630Z"
   },
   {
    "duration": 1246,
    "start_time": "2023-07-03T13:05:08.816Z"
   },
   {
    "duration": 52,
    "start_time": "2023-07-03T13:05:11.867Z"
   },
   {
    "duration": 111,
    "start_time": "2023-07-03T13:05:27.693Z"
   },
   {
    "duration": 1208,
    "start_time": "2023-07-03T13:05:56.894Z"
   },
   {
    "duration": 1224,
    "start_time": "2023-07-03T13:06:04.701Z"
   },
   {
    "duration": 59,
    "start_time": "2023-07-03T13:06:08.319Z"
   },
   {
    "duration": 89,
    "start_time": "2023-07-03T13:06:16.829Z"
   },
   {
    "duration": 43,
    "start_time": "2023-07-03T13:06:43.401Z"
   },
   {
    "duration": 1135,
    "start_time": "2023-07-03T13:07:17.797Z"
   },
   {
    "duration": 57,
    "start_time": "2023-07-03T13:07:24.105Z"
   },
   {
    "duration": 140,
    "start_time": "2023-07-03T13:07:24.360Z"
   },
   {
    "duration": 74,
    "start_time": "2023-07-03T13:07:42.349Z"
   },
   {
    "duration": 35,
    "start_time": "2023-07-03T13:07:43.809Z"
   },
   {
    "duration": 97,
    "start_time": "2023-07-03T13:09:36.519Z"
   },
   {
    "duration": 7,
    "start_time": "2023-07-03T13:09:41.768Z"
   },
   {
    "duration": 51,
    "start_time": "2023-07-03T13:09:55.966Z"
   },
   {
    "duration": 4,
    "start_time": "2023-07-03T13:09:56.970Z"
   },
   {
    "duration": 71,
    "start_time": "2023-07-03T13:10:14.375Z"
   },
   {
    "duration": 5,
    "start_time": "2023-07-03T13:10:19.109Z"
   },
   {
    "duration": 628427,
    "start_time": "2023-07-03T13:10:49.530Z"
   },
   {
    "duration": 410,
    "start_time": "2023-07-03T13:35:30.213Z"
   },
   {
    "duration": 4,
    "start_time": "2023-07-03T13:35:42.494Z"
   },
   {
    "duration": 146,
    "start_time": "2023-07-03T13:35:43.174Z"
   },
   {
    "duration": 24078,
    "start_time": "2023-07-03T15:11:34.690Z"
   },
   {
    "duration": 4,
    "start_time": "2023-07-03T15:11:58.771Z"
   },
   {
    "duration": 8332,
    "start_time": "2023-07-03T15:11:58.776Z"
   },
   {
    "duration": 1245,
    "start_time": "2023-07-03T15:12:10.080Z"
   },
   {
    "duration": 80,
    "start_time": "2023-07-03T15:12:14.551Z"
   },
   {
    "duration": 142,
    "start_time": "2023-07-03T15:12:20.134Z"
   },
   {
    "duration": 88,
    "start_time": "2023-07-03T15:12:27.001Z"
   },
   {
    "duration": 32,
    "start_time": "2023-07-03T15:12:29.589Z"
   },
   {
    "duration": 18,
    "start_time": "2023-07-03T15:12:33.334Z"
   },
   {
    "duration": 65,
    "start_time": "2023-07-03T15:12:38.758Z"
   },
   {
    "duration": 9,
    "start_time": "2023-07-03T15:12:44.821Z"
   },
   {
    "duration": 38,
    "start_time": "2023-07-03T15:12:47.569Z"
   },
   {
    "duration": 4,
    "start_time": "2023-07-03T15:12:49.438Z"
   },
   {
    "duration": 76,
    "start_time": "2023-07-03T15:12:52.547Z"
   },
   {
    "duration": 5,
    "start_time": "2023-07-03T15:12:57.982Z"
   },
   {
    "duration": 588060,
    "start_time": "2023-07-03T15:13:03.809Z"
   },
   {
    "duration": 371,
    "start_time": "2023-07-03T15:41:47.245Z"
   },
   {
    "duration": 5,
    "start_time": "2023-07-03T15:41:56.741Z"
   },
   {
    "duration": 418774,
    "start_time": "2023-07-03T15:41:58.091Z"
   },
   {
    "duration": 404,
    "start_time": "2023-07-03T15:51:43.111Z"
   },
   {
    "duration": 1113,
    "start_time": "2023-07-03T15:52:15.528Z"
   },
   {
    "duration": 3,
    "start_time": "2023-07-03T15:54:23.828Z"
   },
   {
    "duration": 3,
    "start_time": "2023-07-03T15:55:08.750Z"
   },
   {
    "duration": 295,
    "start_time": "2023-07-03T15:57:25.372Z"
   },
   {
    "duration": 12681034,
    "start_time": "2023-07-03T15:57:36.031Z"
   },
   {
    "duration": 1321,
    "start_time": "2023-07-03T19:46:50.217Z"
   },
   {
    "duration": 59,
    "start_time": "2023-07-03T19:47:02.390Z"
   },
   {
    "duration": 180,
    "start_time": "2023-07-03T19:47:05.944Z"
   },
   {
    "duration": 90,
    "start_time": "2023-07-03T19:47:17.127Z"
   },
   {
    "duration": 45,
    "start_time": "2023-07-03T19:47:18.377Z"
   },
   {
    "duration": 22,
    "start_time": "2023-07-03T19:47:21.203Z"
   },
   {
    "duration": 106,
    "start_time": "2023-07-03T19:47:44.043Z"
   },
   {
    "duration": 4,
    "start_time": "2023-07-03T19:47:47.539Z"
   },
   {
    "duration": 8,
    "start_time": "2023-07-03T19:47:48.586Z"
   },
   {
    "duration": 7,
    "start_time": "2023-07-03T19:48:01.631Z"
   },
   {
    "duration": 7,
    "start_time": "2023-07-03T19:48:12.631Z"
   },
   {
    "duration": 42,
    "start_time": "2023-07-03T19:48:23.172Z"
   },
   {
    "duration": 9,
    "start_time": "2023-07-03T19:48:27.389Z"
   },
   {
    "duration": 6,
    "start_time": "2023-07-03T19:48:49.705Z"
   },
   {
    "duration": 97,
    "start_time": "2023-07-03T19:48:54.045Z"
   },
   {
    "duration": 6,
    "start_time": "2023-07-03T19:48:54.853Z"
   },
   {
    "duration": 69,
    "start_time": "2023-07-03T19:49:01.933Z"
   },
   {
    "duration": 4,
    "start_time": "2023-07-03T19:49:02.246Z"
   },
   {
    "duration": 70,
    "start_time": "2023-07-03T19:49:14.786Z"
   },
   {
    "duration": 5,
    "start_time": "2023-07-03T19:49:20.428Z"
   },
   {
    "duration": 695385,
    "start_time": "2023-07-03T19:49:22.085Z"
   },
   {
    "duration": 423,
    "start_time": "2023-07-03T20:04:35.863Z"
   },
   {
    "duration": 4,
    "start_time": "2023-07-03T20:07:17.154Z"
   },
   {
    "duration": 433607,
    "start_time": "2023-07-03T20:07:17.522Z"
   },
   {
    "duration": 18359,
    "start_time": "2023-07-04T05:38:15.335Z"
   },
   {
    "duration": 3,
    "start_time": "2023-07-04T05:38:33.696Z"
   },
   {
    "duration": 7094,
    "start_time": "2023-07-04T05:38:33.700Z"
   },
   {
    "duration": 55,
    "start_time": "2023-07-04T05:42:23.649Z"
   },
   {
    "duration": 1257,
    "start_time": "2023-07-04T05:42:30.712Z"
   },
   {
    "duration": 50,
    "start_time": "2023-07-04T05:46:08.018Z"
   },
   {
    "duration": 154,
    "start_time": "2023-07-04T05:46:13.349Z"
   },
   {
    "duration": 83,
    "start_time": "2023-07-04T05:46:24.542Z"
   },
   {
    "duration": 36,
    "start_time": "2023-07-04T05:46:27.066Z"
   },
   {
    "duration": 18,
    "start_time": "2023-07-04T05:46:31.695Z"
   },
   {
    "duration": 77,
    "start_time": "2023-07-04T05:46:32.640Z"
   },
   {
    "duration": 2,
    "start_time": "2023-07-04T05:46:34.308Z"
   },
   {
    "duration": 6,
    "start_time": "2023-07-04T05:46:35.644Z"
   },
   {
    "duration": 42,
    "start_time": "2023-07-04T05:46:40.057Z"
   },
   {
    "duration": 5,
    "start_time": "2023-07-04T05:46:41.118Z"
   },
   {
    "duration": 73,
    "start_time": "2023-07-04T05:46:44.370Z"
   },
   {
    "duration": 4,
    "start_time": "2023-07-04T05:51:05.699Z"
   },
   {
    "duration": 1349,
    "start_time": "2023-07-04T05:51:10.651Z"
   },
   {
    "duration": 19,
    "start_time": "2023-07-04T06:08:26.215Z"
   },
   {
    "duration": 4,
    "start_time": "2023-07-04T06:08:34.419Z"
   },
   {
    "duration": 4863,
    "start_time": "2023-07-04T06:08:37.906Z"
   },
   {
    "duration": 73,
    "start_time": "2023-07-04T06:11:21.696Z"
   },
   {
    "duration": 83,
    "start_time": "2023-07-04T06:11:27.315Z"
   },
   {
    "duration": 69,
    "start_time": "2023-07-04T06:11:39.434Z"
   },
   {
    "duration": 4,
    "start_time": "2023-07-04T06:12:06.229Z"
   },
   {
    "duration": 5021,
    "start_time": "2023-07-04T06:12:06.930Z"
   },
   {
    "duration": 4,
    "start_time": "2023-07-04T06:14:11.244Z"
   },
   {
    "duration": 1938,
    "start_time": "2023-07-04T06:14:11.776Z"
   },
   {
    "duration": 4,
    "start_time": "2023-07-04T06:19:23.417Z"
   },
   {
    "duration": 18,
    "start_time": "2023-07-04T06:19:29.051Z"
   },
   {
    "duration": 19,
    "start_time": "2023-07-04T06:19:34.600Z"
   },
   {
    "duration": 16,
    "start_time": "2023-07-04T06:19:53.101Z"
   },
   {
    "duration": 3,
    "start_time": "2023-07-04T06:30:14.711Z"
   },
   {
    "duration": 4840,
    "start_time": "2023-07-04T06:30:17.869Z"
   },
   {
    "duration": 4,
    "start_time": "2023-07-04T06:30:54.755Z"
   },
   {
    "duration": 4725,
    "start_time": "2023-07-04T06:30:55.036Z"
   },
   {
    "duration": 3,
    "start_time": "2023-07-04T06:31:14.855Z"
   },
   {
    "duration": 4042,
    "start_time": "2023-07-04T06:31:16.036Z"
   },
   {
    "duration": 1478,
    "start_time": "2023-07-04T06:34:03.126Z"
   },
   {
    "duration": 488,
    "start_time": "2023-07-04T06:34:04.606Z"
   },
   {
    "duration": 638,
    "start_time": "2023-07-04T06:34:06.033Z"
   },
   {
    "duration": 688,
    "start_time": "2023-07-04T06:34:06.851Z"
   },
   {
    "duration": 6683,
    "start_time": "2023-07-04T06:44:15.054Z"
   },
   {
    "duration": 4,
    "start_time": "2023-07-04T06:46:21.793Z"
   },
   {
    "duration": 4206,
    "start_time": "2023-07-04T06:46:22.491Z"
   },
   {
    "duration": 20,
    "start_time": "2023-07-04T06:48:15.743Z"
   },
   {
    "duration": 5,
    "start_time": "2023-07-04T06:48:17.591Z"
   },
   {
    "duration": 3978,
    "start_time": "2023-07-04T06:48:20.362Z"
   },
   {
    "duration": 20,
    "start_time": "2023-07-04T06:49:31.364Z"
   },
   {
    "duration": 9117,
    "start_time": "2023-07-04T07:14:57.410Z"
   },
   {
    "duration": 1271,
    "start_time": "2023-07-04T07:39:54.340Z"
   },
   {
    "duration": 52,
    "start_time": "2023-07-04T07:40:08.636Z"
   },
   {
    "duration": 149,
    "start_time": "2023-07-04T07:40:13.570Z"
   },
   {
    "duration": 78,
    "start_time": "2023-07-04T07:40:31.026Z"
   },
   {
    "duration": 36,
    "start_time": "2023-07-04T07:40:33.811Z"
   },
   {
    "duration": 83,
    "start_time": "2023-07-04T07:41:17.329Z"
   },
   {
    "duration": 2,
    "start_time": "2023-07-04T07:41:20.219Z"
   },
   {
    "duration": 7,
    "start_time": "2023-07-04T07:41:20.886Z"
   },
   {
    "duration": 77,
    "start_time": "2023-07-04T07:41:22.873Z"
   },
   {
    "duration": 4,
    "start_time": "2023-07-04T07:41:23.910Z"
   },
   {
    "duration": 83,
    "start_time": "2023-07-04T07:41:38.917Z"
   },
   {
    "duration": 78,
    "start_time": "2023-07-04T07:41:56.368Z"
   },
   {
    "duration": 4,
    "start_time": "2023-07-04T07:42:01.227Z"
   },
   {
    "duration": 349690,
    "start_time": "2023-07-04T07:42:13.977Z"
   },
   {
    "duration": 338,
    "start_time": "2023-07-04T08:05:33.968Z"
   },
   {
    "duration": 5,
    "start_time": "2023-07-04T08:05:56.317Z"
   },
   {
    "duration": 456700,
    "start_time": "2023-07-04T08:05:56.801Z"
   },
   {
    "duration": 13,
    "start_time": "2023-07-04T08:20:21.091Z"
   },
   {
    "duration": 25,
    "start_time": "2023-07-04T08:29:48.398Z"
   },
   {
    "duration": 15,
    "start_time": "2023-07-04T08:30:29.796Z"
   },
   {
    "duration": 3056,
    "start_time": "2023-07-04T08:30:52.582Z"
   },
   {
    "duration": 5,
    "start_time": "2023-07-04T08:30:59.446Z"
   },
   {
    "duration": 123223,
    "start_time": "2023-07-04T08:31:02.389Z"
   },
   {
    "duration": 41,
    "start_time": "2023-07-04T08:33:39.296Z"
   },
   {
    "duration": 12659,
    "start_time": "2023-07-04T08:33:55.499Z"
   },
   {
    "duration": 3,
    "start_time": "2023-07-04T08:34:32.260Z"
   },
   {
    "duration": 13903,
    "start_time": "2023-07-04T08:34:41.599Z"
   },
   {
    "duration": 3,
    "start_time": "2023-07-04T08:35:48.538Z"
   },
   {
    "duration": 17410,
    "start_time": "2023-07-04T08:42:24.094Z"
   },
   {
    "duration": 4,
    "start_time": "2023-07-04T08:42:49.240Z"
   },
   {
    "duration": 305886,
    "start_time": "2023-07-04T08:42:49.800Z"
   },
   {
    "duration": 199,
    "start_time": "2023-07-04T08:54:29.529Z"
   },
   {
    "duration": 5,
    "start_time": "2023-07-04T08:55:02.217Z"
   },
   {
    "duration": 2177,
    "start_time": "2023-07-04T08:55:02.928Z"
   },
   {
    "duration": 7,
    "start_time": "2023-07-04T09:08:30.294Z"
   },
   {
    "duration": 323140,
    "start_time": "2023-07-04T09:08:32.083Z"
   },
   {
    "duration": 445137,
    "start_time": "2023-07-04T09:27:27.620Z"
   },
   {
    "duration": 206201,
    "start_time": "2023-07-04T10:06:20.302Z"
   },
   {
    "duration": 378707,
    "start_time": "2023-07-04T10:10:09.991Z"
   },
   {
    "duration": 538144,
    "start_time": "2023-07-04T10:16:53.387Z"
   },
   {
    "duration": 451905,
    "start_time": "2023-07-04T10:27:14.189Z"
   },
   {
    "duration": 4,
    "start_time": "2023-07-04T10:35:59.578Z"
   },
   {
    "duration": 461285,
    "start_time": "2023-07-04T10:36:00.150Z"
   },
   {
    "duration": 70,
    "start_time": "2023-07-04T10:45:09.006Z"
   },
   {
    "duration": 6,
    "start_time": "2023-07-04T10:45:10.141Z"
   },
   {
    "duration": 5,
    "start_time": "2023-07-04T10:46:32.141Z"
   },
   {
    "duration": 82,
    "start_time": "2023-07-04T10:46:55.394Z"
   },
   {
    "duration": 14,
    "start_time": "2023-07-04T10:49:17.675Z"
   },
   {
    "duration": 67,
    "start_time": "2023-07-04T10:49:18.743Z"
   },
   {
    "duration": 737243,
    "start_time": "2023-07-04T10:49:54.333Z"
   },
   {
    "duration": 70,
    "start_time": "2023-07-04T11:02:11.580Z"
   },
   {
    "duration": 87,
    "start_time": "2023-07-04T11:07:10.847Z"
   },
   {
    "duration": 106,
    "start_time": "2023-07-04T11:07:15.385Z"
   },
   {
    "duration": 38,
    "start_time": "2023-07-04T11:07:30.853Z"
   },
   {
    "duration": 36,
    "start_time": "2023-07-04T11:07:40.311Z"
   },
   {
    "duration": 35,
    "start_time": "2023-07-04T11:07:45.891Z"
   },
   {
    "duration": 39,
    "start_time": "2023-07-04T11:07:50.938Z"
   },
   {
    "duration": 20,
    "start_time": "2023-07-04T11:08:13.874Z"
   },
   {
    "duration": 6,
    "start_time": "2023-07-04T11:08:24.175Z"
   },
   {
    "duration": 102,
    "start_time": "2023-07-04T11:14:03.671Z"
   },
   {
    "duration": 131,
    "start_time": "2023-07-04T11:14:24.051Z"
   },
   {
    "duration": 21,
    "start_time": "2023-07-04T11:14:44.608Z"
   },
   {
    "duration": 113,
    "start_time": "2023-07-04T11:14:45.128Z"
   },
   {
    "duration": 18,
    "start_time": "2023-07-04T11:15:55.896Z"
   },
   {
    "duration": 158,
    "start_time": "2023-07-04T11:15:56.421Z"
   },
   {
    "duration": 16,
    "start_time": "2023-07-04T11:16:17.215Z"
   },
   {
    "duration": 172,
    "start_time": "2023-07-04T11:16:17.621Z"
   },
   {
    "duration": 3173691,
    "start_time": "2023-07-04T11:17:21.745Z"
   },
   {
    "duration": 29,
    "start_time": "2023-07-04T12:14:07.750Z"
   },
   {
    "duration": 11,
    "start_time": "2023-07-04T12:14:10.549Z"
   },
   {
    "duration": 10069,
    "start_time": "2023-07-04T12:14:32.911Z"
   },
   {
    "duration": 4,
    "start_time": "2023-07-04T12:14:42.983Z"
   },
   {
    "duration": 13342,
    "start_time": "2023-07-04T12:14:42.990Z"
   },
   {
    "duration": 129,
    "start_time": "2023-07-04T12:14:56.335Z"
   },
   {
    "duration": 63,
    "start_time": "2023-07-04T12:14:56.470Z"
   },
   {
    "duration": 43,
    "start_time": "2023-07-04T12:14:56.535Z"
   },
   {
    "duration": 53,
    "start_time": "2023-07-04T12:14:56.580Z"
   },
   {
    "duration": 2128,
    "start_time": "2023-07-04T12:14:56.637Z"
   },
   {
    "duration": 569,
    "start_time": "2023-07-04T12:14:58.768Z"
   },
   {
    "duration": 828,
    "start_time": "2023-07-04T12:14:59.341Z"
   },
   {
    "duration": 746,
    "start_time": "2023-07-04T12:15:00.171Z"
   },
   {
    "duration": 3121,
    "start_time": "2023-07-04T12:15:00.919Z"
   },
   {
    "duration": 8655,
    "start_time": "2023-07-04T12:15:04.042Z"
   },
   {
    "duration": 1424,
    "start_time": "2023-07-04T12:15:12.699Z"
   },
   {
    "duration": 86,
    "start_time": "2023-07-04T12:15:14.124Z"
   },
   {
    "duration": 207,
    "start_time": "2023-07-04T12:15:14.212Z"
   },
   {
    "duration": 110,
    "start_time": "2023-07-04T12:15:14.422Z"
   },
   {
    "duration": 62,
    "start_time": "2023-07-04T12:15:14.534Z"
   },
   {
    "duration": 26,
    "start_time": "2023-07-04T12:15:14.598Z"
   },
   {
    "duration": 133,
    "start_time": "2023-07-04T12:15:14.626Z"
   },
   {
    "duration": 18,
    "start_time": "2023-07-04T12:15:14.761Z"
   },
   {
    "duration": 23,
    "start_time": "2023-07-04T12:15:14.790Z"
   },
   {
    "duration": 52,
    "start_time": "2023-07-04T12:15:14.814Z"
   },
   {
    "duration": 5,
    "start_time": "2023-07-04T12:15:14.869Z"
   },
   {
    "duration": 83,
    "start_time": "2023-07-04T12:15:14.876Z"
   },
   {
    "duration": 5,
    "start_time": "2023-07-04T12:15:14.961Z"
   },
   {
    "duration": 5159,
    "start_time": "2023-07-04T12:15:14.968Z"
   },
   {
    "duration": 5,
    "start_time": "2023-07-04T12:15:20.131Z"
   },
   {
    "duration": 16903,
    "start_time": "2023-07-04T12:15:20.138Z"
   },
   {
    "duration": 5,
    "start_time": "2023-07-04T12:15:37.043Z"
   },
   {
    "duration": 461853,
    "start_time": "2023-07-04T12:15:37.050Z"
   },
   {
    "duration": 3,
    "start_time": "2023-07-04T12:23:18.906Z"
   },
   {
    "duration": 702179,
    "start_time": "2023-07-04T12:23:18.911Z"
   },
   {
    "duration": 28,
    "start_time": "2023-07-04T12:35:01.162Z"
   },
   {
    "duration": 121876,
    "start_time": "2023-07-04T12:35:01.192Z"
   },
   {
    "duration": 12,
    "start_time": "2023-07-04T12:37:03.070Z"
   },
   {
    "duration": 320,
    "start_time": "2023-07-04T12:45:43.815Z"
   },
   {
    "duration": 31,
    "start_time": "2023-07-04T12:45:54.810Z"
   },
   {
    "duration": 45,
    "start_time": "2023-07-04T12:46:39.055Z"
   },
   {
    "duration": 18,
    "start_time": "2023-07-04T12:46:55.224Z"
   },
   {
    "duration": 10,
    "start_time": "2023-07-04T12:47:16.710Z"
   },
   {
    "duration": 7,
    "start_time": "2023-07-04T12:47:30.909Z"
   },
   {
    "duration": 13,
    "start_time": "2023-07-04T12:47:39.315Z"
   },
   {
    "duration": 7,
    "start_time": "2023-07-04T12:47:43.909Z"
   },
   {
    "duration": 7,
    "start_time": "2023-07-04T12:48:59.622Z"
   },
   {
    "duration": 183,
    "start_time": "2023-07-04T12:53:58.837Z"
   },
   {
    "duration": 200,
    "start_time": "2023-07-04T12:54:09.301Z"
   },
   {
    "duration": 23,
    "start_time": "2023-07-04T13:00:32.135Z"
   },
   {
    "duration": 177,
    "start_time": "2023-07-04T13:00:38.529Z"
   },
   {
    "duration": 139,
    "start_time": "2023-07-04T13:01:17.153Z"
   },
   {
    "duration": 129,
    "start_time": "2023-07-04T13:01:28.243Z"
   },
   {
    "duration": 142,
    "start_time": "2023-07-04T13:02:19.454Z"
   },
   {
    "duration": 154,
    "start_time": "2023-07-04T13:02:30.243Z"
   },
   {
    "duration": 177,
    "start_time": "2023-07-04T13:02:36.735Z"
   },
   {
    "duration": 112,
    "start_time": "2023-07-04T13:02:49.666Z"
   },
   {
    "duration": 177,
    "start_time": "2023-07-04T13:03:21.133Z"
   },
   {
    "duration": 223,
    "start_time": "2023-07-04T13:03:35.995Z"
   },
   {
    "duration": 240,
    "start_time": "2023-07-04T13:03:45.894Z"
   },
   {
    "duration": 207,
    "start_time": "2023-07-04T13:03:50.622Z"
   },
   {
    "duration": 153,
    "start_time": "2023-07-04T13:03:55.082Z"
   },
   {
    "duration": 134,
    "start_time": "2023-07-04T13:08:26.594Z"
   },
   {
    "duration": 16,
    "start_time": "2023-07-04T13:14:29.000Z"
   },
   {
    "duration": 3281,
    "start_time": "2023-07-04T13:17:14.521Z"
   },
   {
    "duration": 188,
    "start_time": "2023-07-04T13:17:27.022Z"
   },
   {
    "duration": 229,
    "start_time": "2023-07-04T13:17:32.102Z"
   },
   {
    "duration": 285,
    "start_time": "2023-07-04T13:18:28.905Z"
   },
   {
    "duration": 198,
    "start_time": "2023-07-04T13:19:34.496Z"
   },
   {
    "duration": 203,
    "start_time": "2023-07-04T13:19:37.010Z"
   },
   {
    "duration": 253,
    "start_time": "2023-07-04T13:19:40.512Z"
   },
   {
    "duration": 2808,
    "start_time": "2023-07-04T13:24:39.836Z"
   },
   {
    "duration": 8575,
    "start_time": "2023-07-04T13:24:57.407Z"
   },
   {
    "duration": 304,
    "start_time": "2023-07-04T13:26:28.669Z"
   },
   {
    "duration": 76229,
    "start_time": "2023-07-04T13:27:04.640Z"
   },
   {
    "duration": 43,
    "start_time": "2023-07-04T13:34:35.749Z"
   },
   {
    "duration": 23,
    "start_time": "2023-07-04T13:34:47.820Z"
   },
   {
    "duration": 23,
    "start_time": "2023-07-04T13:35:55.706Z"
   },
   {
    "duration": 80,
    "start_time": "2023-07-04T13:36:04.402Z"
   },
   {
    "duration": 16,
    "start_time": "2023-07-04T13:36:08.012Z"
   },
   {
    "duration": 34,
    "start_time": "2023-07-04T13:38:42.178Z"
   },
   {
    "duration": 16,
    "start_time": "2023-07-04T13:39:23.136Z"
   },
   {
    "duration": 91067,
    "start_time": "2023-07-04T13:40:51.748Z"
   },
   {
    "duration": 53,
    "start_time": "2023-07-04T13:43:47.837Z"
   },
   {
    "duration": 69,
    "start_time": "2023-07-04T13:44:32.267Z"
   },
   {
    "duration": 18,
    "start_time": "2023-07-04T13:44:52.001Z"
   },
   {
    "duration": 193,
    "start_time": "2023-07-04T13:45:21.201Z"
   },
   {
    "duration": 76392,
    "start_time": "2023-07-04T13:46:38.450Z"
   },
   {
    "duration": 1275,
    "start_time": "2023-07-04T16:12:56.606Z"
   },
   {
    "duration": 56,
    "start_time": "2023-07-04T16:13:00.618Z"
   },
   {
    "duration": 175,
    "start_time": "2023-07-04T16:13:01.439Z"
   },
   {
    "duration": 88,
    "start_time": "2023-07-04T16:13:03.137Z"
   },
   {
    "duration": 51,
    "start_time": "2023-07-04T16:13:04.718Z"
   },
   {
    "duration": 26,
    "start_time": "2023-07-04T16:13:06.336Z"
   },
   {
    "duration": 114,
    "start_time": "2023-07-04T16:13:07.448Z"
   },
   {
    "duration": 3,
    "start_time": "2023-07-04T16:13:09.221Z"
   },
   {
    "duration": 9,
    "start_time": "2023-07-04T16:13:10.234Z"
   },
   {
    "duration": 75,
    "start_time": "2023-07-04T16:13:12.619Z"
   },
   {
    "duration": 5,
    "start_time": "2023-07-04T16:13:13.232Z"
   },
   {
    "duration": 67,
    "start_time": "2023-07-04T16:13:18.719Z"
   },
   {
    "duration": 4,
    "start_time": "2023-07-04T16:13:19.045Z"
   },
   {
    "duration": 68,
    "start_time": "2023-07-04T16:13:20.946Z"
   },
   {
    "duration": 5,
    "start_time": "2023-07-04T16:13:21.130Z"
   },
   {
    "duration": 1638,
    "start_time": "2023-07-04T16:13:33.018Z"
   },
   {
    "duration": 54,
    "start_time": "2023-07-04T16:13:34.662Z"
   },
   {
    "duration": 181,
    "start_time": "2023-07-04T16:13:35.202Z"
   },
   {
    "duration": 80,
    "start_time": "2023-07-04T16:13:36.153Z"
   },
   {
    "duration": 49,
    "start_time": "2023-07-04T16:13:36.846Z"
   },
   {
    "duration": 20,
    "start_time": "2023-07-04T16:13:37.006Z"
   },
   {
    "duration": 108,
    "start_time": "2023-07-04T16:13:37.310Z"
   },
   {
    "duration": 2,
    "start_time": "2023-07-04T16:13:37.851Z"
   },
   {
    "duration": 7,
    "start_time": "2023-07-04T16:13:38.341Z"
   },
   {
    "duration": 77,
    "start_time": "2023-07-04T16:13:39.317Z"
   },
   {
    "duration": 5,
    "start_time": "2023-07-04T16:13:39.906Z"
   },
   {
    "duration": 14,
    "start_time": "2023-07-04T16:18:56.530Z"
   },
   {
    "duration": 49,
    "start_time": "2023-07-04T16:19:13.854Z"
   },
   {
    "duration": 37,
    "start_time": "2023-07-04T16:40:43.105Z"
   },
   {
    "duration": 154,
    "start_time": "2023-07-04T16:41:35.762Z"
   },
   {
    "duration": 5671,
    "start_time": "2023-07-04T16:42:52.927Z"
   },
   {
    "duration": 12809,
    "start_time": "2023-07-04T16:43:34.802Z"
   },
   {
    "duration": 155,
    "start_time": "2023-07-04T16:45:23.132Z"
   },
   {
    "duration": 193,
    "start_time": "2023-07-04T16:45:29.148Z"
   },
   {
    "duration": 369,
    "start_time": "2023-07-04T16:46:59.397Z"
   },
   {
    "duration": 8078,
    "start_time": "2023-07-04T16:47:55.701Z"
   },
   {
    "duration": 12782,
    "start_time": "2023-07-04T16:48:12.403Z"
   },
   {
    "duration": 13026,
    "start_time": "2023-07-04T16:51:31.752Z"
   },
   {
    "duration": 13142,
    "start_time": "2023-07-04T16:52:52.652Z"
   },
   {
    "duration": 12818,
    "start_time": "2023-07-04T16:54:25.611Z"
   },
   {
    "duration": 12098,
    "start_time": "2023-07-04T16:55:16.545Z"
   },
   {
    "duration": 13010,
    "start_time": "2023-07-04T16:56:00.740Z"
   },
   {
    "duration": 391,
    "start_time": "2023-07-04T16:57:47.928Z"
   },
   {
    "duration": 13027,
    "start_time": "2023-07-04T17:01:58.877Z"
   },
   {
    "duration": 378,
    "start_time": "2023-07-04T17:02:20.189Z"
   },
   {
    "duration": 13493,
    "start_time": "2023-07-04T17:02:44.400Z"
   },
   {
    "duration": 13390,
    "start_time": "2023-07-04T17:03:14.983Z"
   },
   {
    "duration": 13089,
    "start_time": "2023-07-04T17:04:56.817Z"
   },
   {
    "duration": 402,
    "start_time": "2023-07-04T17:05:16.616Z"
   },
   {
    "duration": 1106,
    "start_time": "2023-07-04T17:10:39.283Z"
   },
   {
    "duration": 26,
    "start_time": "2023-07-04T17:23:55.798Z"
   },
   {
    "duration": 28,
    "start_time": "2023-07-04T17:24:07.298Z"
   },
   {
    "duration": 31,
    "start_time": "2023-07-04T17:24:25.738Z"
   },
   {
    "duration": 33,
    "start_time": "2023-07-04T17:24:50.350Z"
   },
   {
    "duration": 17,
    "start_time": "2023-07-04T17:28:12.704Z"
   },
   {
    "duration": 16,
    "start_time": "2023-07-04T17:28:24.129Z"
   },
   {
    "duration": 363,
    "start_time": "2023-07-04T17:28:30.932Z"
   },
   {
    "duration": 403,
    "start_time": "2023-07-04T17:28:54.387Z"
   },
   {
    "duration": 97,
    "start_time": "2023-07-04T17:29:35.541Z"
   },
   {
    "duration": 73,
    "start_time": "2023-07-04T17:29:39.372Z"
   },
   {
    "duration": 274,
    "start_time": "2023-07-04T17:29:44.693Z"
   },
   {
    "duration": 292,
    "start_time": "2023-07-04T17:30:40.738Z"
   },
   {
    "duration": 146,
    "start_time": "2023-07-04T17:31:54.012Z"
   },
   {
    "duration": 57,
    "start_time": "2023-07-04T17:32:12.932Z"
   },
   {
    "duration": 41,
    "start_time": "2023-07-04T17:32:22.492Z"
   },
   {
    "duration": 19,
    "start_time": "2023-07-04T17:32:33.418Z"
   },
   {
    "duration": 29,
    "start_time": "2023-07-04T17:33:57.952Z"
   },
   {
    "duration": 17604,
    "start_time": "2023-07-04T17:34:10.297Z"
   },
   {
    "duration": 17340,
    "start_time": "2023-07-04T17:34:47.163Z"
   },
   {
    "duration": 263,
    "start_time": "2023-07-04T17:35:54.468Z"
   },
   {
    "duration": 16074,
    "start_time": "2023-07-04T17:41:28.252Z"
   },
   {
    "duration": 4,
    "start_time": "2023-07-04T17:41:44.329Z"
   },
   {
    "duration": 11492,
    "start_time": "2023-07-04T17:41:44.335Z"
   },
   {
    "duration": 80,
    "start_time": "2023-07-04T17:41:55.829Z"
   },
   {
    "duration": 13,
    "start_time": "2023-07-04T17:41:55.910Z"
   },
   {
    "duration": 25,
    "start_time": "2023-07-04T17:41:55.925Z"
   },
   {
    "duration": 52,
    "start_time": "2023-07-04T17:41:55.952Z"
   },
   {
    "duration": 1762,
    "start_time": "2023-07-04T17:41:56.006Z"
   },
   {
    "duration": 645,
    "start_time": "2023-07-04T17:41:57.772Z"
   },
   {
    "duration": 737,
    "start_time": "2023-07-04T17:41:58.421Z"
   },
   {
    "duration": 713,
    "start_time": "2023-07-04T17:41:59.164Z"
   },
   {
    "duration": 6817,
    "start_time": "2023-07-04T17:41:59.881Z"
   },
   {
    "duration": 8618,
    "start_time": "2023-07-04T17:42:06.700Z"
   },
   {
    "duration": 1399,
    "start_time": "2023-07-04T17:42:15.320Z"
   },
   {
    "duration": 60,
    "start_time": "2023-07-04T17:42:16.721Z"
   },
   {
    "duration": 201,
    "start_time": "2023-07-04T17:42:16.783Z"
   },
   {
    "duration": 117,
    "start_time": "2023-07-04T17:42:16.988Z"
   },
   {
    "duration": 40,
    "start_time": "2023-07-04T17:42:17.109Z"
   },
   {
    "duration": 34,
    "start_time": "2023-07-04T17:42:17.151Z"
   },
   {
    "duration": 93,
    "start_time": "2023-07-04T17:42:17.191Z"
   },
   {
    "duration": 5,
    "start_time": "2023-07-04T17:42:17.289Z"
   },
   {
    "duration": 25,
    "start_time": "2023-07-04T17:42:17.299Z"
   },
   {
    "duration": 79,
    "start_time": "2023-07-04T17:42:17.327Z"
   },
   {
    "duration": 5,
    "start_time": "2023-07-04T17:42:17.408Z"
   },
   {
    "duration": 126,
    "start_time": "2023-07-04T17:42:17.415Z"
   },
   {
    "duration": 5,
    "start_time": "2023-07-04T17:42:17.545Z"
   },
   {
    "duration": 5045,
    "start_time": "2023-07-04T17:42:17.553Z"
   },
   {
    "duration": 4,
    "start_time": "2023-07-04T17:42:22.602Z"
   },
   {
    "duration": 14951,
    "start_time": "2023-07-04T17:42:22.608Z"
   },
   {
    "duration": 19,
    "start_time": "2023-07-04T17:42:37.567Z"
   },
   {
    "duration": 465699,
    "start_time": "2023-07-04T17:42:37.588Z"
   },
   {
    "duration": 8,
    "start_time": "2023-07-04T17:50:23.293Z"
   },
   {
    "duration": 406989,
    "start_time": "2023-07-04T17:50:23.309Z"
   },
   {
    "duration": 15,
    "start_time": "2023-07-04T17:57:10.300Z"
   },
   {
    "duration": 38736,
    "start_time": "2023-07-04T17:57:10.316Z"
   },
   {
    "duration": 26,
    "start_time": "2023-07-04T17:57:49.061Z"
   },
   {
    "duration": 167,
    "start_time": "2023-07-04T17:57:49.093Z"
   },
   {
    "duration": 147,
    "start_time": "2023-07-04T17:57:49.262Z"
   },
   {
    "duration": 294,
    "start_time": "2023-07-04T17:57:49.411Z"
   },
   {
    "duration": 15828,
    "start_time": "2023-07-04T17:57:49.707Z"
   },
   {
    "duration": 413,
    "start_time": "2023-07-04T17:58:05.537Z"
   },
   {
    "duration": 169,
    "start_time": "2023-07-04T18:03:56.391Z"
   },
   {
    "duration": 146,
    "start_time": "2023-07-04T18:04:04.399Z"
   },
   {
    "duration": 122,
    "start_time": "2023-07-04T18:04:10.122Z"
   },
   {
    "duration": 128,
    "start_time": "2023-07-04T18:06:20.909Z"
   },
   {
    "duration": 10331,
    "start_time": "2023-07-04T18:08:18.190Z"
   },
   {
    "duration": 3,
    "start_time": "2023-07-04T18:08:28.523Z"
   },
   {
    "duration": 11694,
    "start_time": "2023-07-04T18:08:28.528Z"
   },
   {
    "duration": 112,
    "start_time": "2023-07-04T18:08:40.224Z"
   },
   {
    "duration": 12,
    "start_time": "2023-07-04T18:08:40.337Z"
   },
   {
    "duration": 53,
    "start_time": "2023-07-04T18:08:40.351Z"
   },
   {
    "duration": 15,
    "start_time": "2023-07-04T18:08:40.405Z"
   },
   {
    "duration": 1626,
    "start_time": "2023-07-04T18:08:40.422Z"
   },
   {
    "duration": 566,
    "start_time": "2023-07-04T18:08:42.050Z"
   },
   {
    "duration": 621,
    "start_time": "2023-07-04T18:08:42.619Z"
   },
   {
    "duration": 662,
    "start_time": "2023-07-04T18:08:43.241Z"
   },
   {
    "duration": 6773,
    "start_time": "2023-07-04T18:08:43.905Z"
   },
   {
    "duration": 8611,
    "start_time": "2023-07-04T18:08:50.680Z"
   },
   {
    "duration": 1341,
    "start_time": "2023-07-04T18:08:59.294Z"
   },
   {
    "duration": 78,
    "start_time": "2023-07-04T18:09:00.637Z"
   },
   {
    "duration": 187,
    "start_time": "2023-07-04T18:09:00.717Z"
   },
   {
    "duration": 84,
    "start_time": "2023-07-04T18:09:00.905Z"
   },
   {
    "duration": 40,
    "start_time": "2023-07-04T18:09:00.990Z"
   },
   {
    "duration": 64,
    "start_time": "2023-07-04T18:09:01.032Z"
   },
   {
    "duration": 96,
    "start_time": "2023-07-04T18:09:01.097Z"
   },
   {
    "duration": 3,
    "start_time": "2023-07-04T18:09:01.198Z"
   },
   {
    "duration": 25,
    "start_time": "2023-07-04T18:09:01.202Z"
   },
   {
    "duration": 85,
    "start_time": "2023-07-04T18:09:01.229Z"
   },
   {
    "duration": 5,
    "start_time": "2023-07-04T18:09:01.316Z"
   },
   {
    "duration": 121,
    "start_time": "2023-07-04T18:09:01.323Z"
   },
   {
    "duration": 4,
    "start_time": "2023-07-04T18:09:01.446Z"
   },
   {
    "duration": 4375,
    "start_time": "2023-07-04T18:09:01.452Z"
   },
   {
    "duration": 3,
    "start_time": "2023-07-04T18:09:05.831Z"
   },
   {
    "duration": 15136,
    "start_time": "2023-07-04T18:09:05.836Z"
   },
   {
    "duration": 8,
    "start_time": "2023-07-04T18:09:20.987Z"
   },
   {
    "duration": 443379,
    "start_time": "2023-07-04T18:09:21.000Z"
   },
   {
    "duration": 11,
    "start_time": "2023-07-04T18:16:44.381Z"
   },
   {
    "duration": 390576,
    "start_time": "2023-07-04T18:16:44.394Z"
   },
   {
    "duration": 33,
    "start_time": "2023-07-04T18:23:14.972Z"
   },
   {
    "duration": 139855,
    "start_time": "2023-07-04T18:23:15.009Z"
   },
   {
    "duration": 30,
    "start_time": "2023-07-04T18:25:34.866Z"
   },
   {
    "duration": 167,
    "start_time": "2023-07-04T18:25:34.899Z"
   },
   {
    "duration": 212,
    "start_time": "2023-07-04T18:25:35.068Z"
   },
   {
    "duration": 288,
    "start_time": "2023-07-04T18:25:35.282Z"
   },
   {
    "duration": 13685,
    "start_time": "2023-07-04T18:25:35.572Z"
   },
   {
    "duration": 503,
    "start_time": "2023-07-04T18:25:49.270Z"
   },
   {
    "duration": 112,
    "start_time": "2023-07-04T18:47:11.909Z"
   },
   {
    "duration": 358,
    "start_time": "2023-07-04T18:47:18.536Z"
   },
   {
    "duration": 322,
    "start_time": "2023-07-04T18:48:09.511Z"
   },
   {
    "duration": 16209,
    "start_time": "2023-07-04T18:48:22.484Z"
   },
   {
    "duration": 510,
    "start_time": "2023-07-04T18:49:57.108Z"
   },
   {
    "duration": 729,
    "start_time": "2023-07-04T18:50:10.733Z"
   },
   {
    "duration": 666,
    "start_time": "2023-07-04T18:50:55.508Z"
   },
   {
    "duration": 21,
    "start_time": "2023-07-04T18:52:13.927Z"
   },
   {
    "duration": 2084,
    "start_time": "2023-07-04T18:52:23.730Z"
   },
   {
    "duration": 1866,
    "start_time": "2023-07-04T18:53:01.484Z"
   },
   {
    "duration": 1704,
    "start_time": "2023-07-04T18:53:43.127Z"
   },
   {
    "duration": 1619,
    "start_time": "2023-07-04T18:53:53.536Z"
   },
   {
    "duration": 133,
    "start_time": "2023-07-04T19:07:59.719Z"
   },
   {
    "duration": 146,
    "start_time": "2023-07-04T19:08:07.687Z"
   },
   {
    "duration": 95,
    "start_time": "2023-07-04T19:08:12.286Z"
   },
   {
    "duration": 104,
    "start_time": "2023-07-04T19:08:21.925Z"
   },
   {
    "duration": 109,
    "start_time": "2023-07-04T19:08:26.014Z"
   },
   {
    "duration": 2152,
    "start_time": "2023-07-04T19:08:49.233Z"
   },
   {
    "duration": 2331,
    "start_time": "2023-07-04T19:09:03.725Z"
   },
   {
    "duration": 1960,
    "start_time": "2023-07-04T19:09:17.138Z"
   },
   {
    "duration": 1864,
    "start_time": "2023-07-04T19:09:21.744Z"
   },
   {
    "duration": 1962,
    "start_time": "2023-07-04T19:09:25.307Z"
   },
   {
    "duration": 1958,
    "start_time": "2023-07-04T19:09:29.807Z"
   },
   {
    "duration": 1767,
    "start_time": "2023-07-04T19:09:53.812Z"
   },
   {
    "duration": 17160,
    "start_time": "2023-07-05T12:43:10.095Z"
   },
   {
    "duration": 0,
    "start_time": "2023-07-05T12:43:27.257Z"
   },
   {
    "duration": 13815,
    "start_time": "2023-07-05T12:45:03.700Z"
   },
   {
    "duration": 0,
    "start_time": "2023-07-05T12:45:17.516Z"
   },
   {
    "duration": 9281,
    "start_time": "2023-07-05T12:46:16.522Z"
   },
   {
    "duration": 4,
    "start_time": "2023-07-05T12:46:25.805Z"
   },
   {
    "duration": 10285,
    "start_time": "2023-07-05T12:46:25.810Z"
   },
   {
    "duration": 255,
    "start_time": "2023-07-05T12:48:05.505Z"
   },
   {
    "duration": 44,
    "start_time": "2023-07-05T12:48:07.547Z"
   },
   {
    "duration": 53,
    "start_time": "2023-07-05T12:48:15.109Z"
   },
   {
    "duration": 47,
    "start_time": "2023-07-05T12:48:18.796Z"
   },
   {
    "duration": 52,
    "start_time": "2023-07-06T05:47:05.570Z"
   },
   {
    "duration": 48487,
    "start_time": "2023-07-06T21:00:47.536Z"
   },
   {
    "duration": 3,
    "start_time": "2023-07-06T21:01:36.026Z"
   },
   {
    "duration": 9304,
    "start_time": "2023-07-06T21:01:36.031Z"
   },
   {
    "duration": 266,
    "start_time": "2023-07-06T21:01:45.337Z"
   },
   {
    "duration": 220,
    "start_time": "2023-07-06T21:01:45.605Z"
   },
   {
    "duration": 343,
    "start_time": "2023-07-06T21:01:45.827Z"
   },
   {
    "duration": 75,
    "start_time": "2023-07-06T21:01:46.172Z"
   },
   {
    "duration": 3085,
    "start_time": "2023-07-06T21:01:46.249Z"
   },
   {
    "duration": 683,
    "start_time": "2023-07-06T21:01:49.336Z"
   },
   {
    "duration": 908,
    "start_time": "2023-07-06T21:01:50.021Z"
   },
   {
    "duration": 876,
    "start_time": "2023-07-06T21:01:50.931Z"
   },
   {
    "duration": 3314,
    "start_time": "2023-07-06T21:01:51.808Z"
   },
   {
    "duration": 8710,
    "start_time": "2023-07-06T21:01:55.123Z"
   }
  ],
  "kernelspec": {
   "display_name": "Python 3 (ipykernel)",
   "language": "python",
   "name": "python3"
  },
  "language_info": {
   "codemirror_mode": {
    "name": "ipython",
    "version": 3
   },
   "file_extension": ".py",
   "mimetype": "text/x-python",
   "name": "python",
   "nbconvert_exporter": "python",
   "pygments_lexer": "ipython3",
   "version": "3.9.12"
  },
  "toc": {
   "base_numbering": 1,
   "nav_menu": {},
   "number_sections": true,
   "sideBar": true,
   "skip_h1_title": true,
   "title_cell": "Содержание:",
   "title_sidebar": "Содержание:",
   "toc_cell": true,
   "toc_position": {},
   "toc_section_display": true,
   "toc_window_display": true
  },
  "varInspector": {
   "cols": {
    "lenName": 16,
    "lenType": 16,
    "lenVar": 40
   },
   "kernels_config": {
    "python": {
     "delete_cmd_postfix": "",
     "delete_cmd_prefix": "del ",
     "library": "var_list.py",
     "varRefreshCmd": "print(var_dic_list())"
    },
    "r": {
     "delete_cmd_postfix": ") ",
     "delete_cmd_prefix": "rm(",
     "library": "var_list.r",
     "varRefreshCmd": "cat(var_dic_list()) "
    }
   },
   "types_to_exclude": [
    "module",
    "function",
    "builtin_function_or_method",
    "instance",
    "_Feature"
   ],
   "window_display": false
  }
 },
 "nbformat": 4,
 "nbformat_minor": 5
}
